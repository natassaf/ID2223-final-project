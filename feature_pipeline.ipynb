{
 "cells": [
  {
   "cell_type": "code",
   "execution_count": 1,
   "metadata": {
    "ExecuteTime": {
     "end_time": "2025-01-04T20:04:43.069182Z",
     "start_time": "2025-01-04T20:04:42.993766Z"
    }
   },
   "outputs": [],
   "source": [
    "test_mode = False"
   ]
  },
  {
   "cell_type": "code",
   "execution_count": 2,
   "metadata": {
    "ExecuteTime": {
     "end_time": "2025-01-04T20:04:44.461085Z",
     "start_time": "2025-01-04T20:04:42.997941Z"
    }
   },
   "outputs": [],
   "source": [
    "import pandas as pd\n",
    "import hopsworks\n",
    "from utils import *\n",
    "import json\n",
    "import os\n",
    "import warnings\n",
    "from dotenv import load_dotenv\n",
    "import datetime\n",
    "#from datetime import timezone\n",
    "\n",
    "warnings.filterwarnings(\"ignore\")"
   ]
  },
  {
   "cell_type": "code",
   "execution_count": 3,
   "metadata": {
    "ExecuteTime": {
     "end_time": "2025-01-04T20:04:48.495532Z",
     "start_time": "2025-01-04T20:04:44.461615Z"
    }
   },
   "outputs": [
    {
     "name": "stdout",
     "output_type": "stream",
     "text": [
      "2025-01-04 22:04:44,461 INFO: Initializing external client\n",
      "2025-01-04 22:04:44,462 INFO: Base URL: https://c.app.hopsworks.ai:443\n",
      "2025-01-04 22:04:46,645 INFO: Python Engine initialized.\n",
      "\n",
      "Logged in to project, explore it here https://c.app.hopsworks.ai:443/p/1160346\n"
     ]
    }
   ],
   "source": [
    "load_dotenv()\n",
    "#os.environ[\"HOPSWORKS_API_KEY\"] = os.getenv(\"HOPSWORKS_API_KEY\")\n",
    "\n",
    "\n",
    "project = hopsworks.login()"
   ]
  },
  {
   "cell_type": "code",
   "execution_count": 4,
   "metadata": {
    "ExecuteTime": {
     "end_time": "2025-01-04T20:04:48.681861Z",
     "start_time": "2025-01-04T20:04:48.499523Z"
    }
   },
   "outputs": [
    {
     "data": {
      "text/plain": "1736021088"
     },
     "execution_count": 4,
     "metadata": {},
     "output_type": "execute_result"
    }
   ],
   "source": [
    "\n",
    "fs = project.get_feature_store() \n",
    "#secrets = secrets_api(project.name)\n",
    "\n",
    "# This line will fail if you have not registered the CRYPTO_API_KEY as a secret in Hopsworks\n",
    "#CRYPTO_API_KEY = secrets.get_secret(\"CRYPTO_API_KEY\").value\n",
    "\n",
    "#CRYPTO_API_KEY = os.getenv(\"CRYPTO_API_KEY\")\n",
    "today = int(time.time())\n",
    "seconds_in_one_day = 24 * 60 * 60\n",
    "\n",
    "\n",
    "today\n"
   ]
  },
  {
   "cell_type": "code",
   "execution_count": 5,
   "metadata": {
    "ExecuteTime": {
     "end_time": "2025-01-04T20:04:52.515745Z",
     "start_time": "2025-01-04T20:04:48.686277Z"
    }
   },
   "outputs": [
    {
     "name": "stdout",
     "output_type": "stream",
     "text": [
      "Finished: Reading data from Hopsworks, using Hopsworks Feature Query Service (0.85s) \n",
      "The maximum date is: 1734912000\n",
      "Difference in days: 12\n"
     ]
    }
   ],
   "source": [
    "\n",
    "# Step 2: Retrieve the feature group by name and version\n",
    "solana_feature_group = fs.get_feature_group(\n",
    "    name=\"solana\",  \n",
    "    version=1\n",
    ")\n",
    "\n",
    "# Step 3: Read the data from the feature group\n",
    "s_data_df = solana_feature_group.select([\"timestamp\"]).read()\n",
    "\n",
    "# Step 4: Find the maximum date\n",
    "solana_max_date = s_data_df['timestamp'].max()\n",
    "solana_difference = (today - solana_max_date)//seconds_in_one_day\n",
    "\n",
    "# Step 5: Print the result\n",
    "print(f\"The maximum date is: {solana_max_date}\")\n",
    "print(f\"Difference in days: {solana_difference}\")\n"
   ]
  },
  {
   "cell_type": "code",
   "execution_count": 6,
   "metadata": {
    "ExecuteTime": {
     "end_time": "2025-01-04T20:04:56.293725Z",
     "start_time": "2025-01-04T20:04:52.518666Z"
    }
   },
   "outputs": [
    {
     "name": "stdout",
     "output_type": "stream",
     "text": [
      "Finished: Reading data from Hopsworks, using Hopsworks Feature Query Service (2.38s) from Hopsworks, using Hopsworks Feature Query Service.   \n",
      "The maximum date is: 1734912000\n",
      "Difference in days: 12\n"
     ]
    }
   ],
   "source": [
    "# Step 2: Retrieve the feature group by name and version\n",
    "bitcoin_feature_group = fs.get_feature_group(\n",
    "    name=\"bitcoin\",  \n",
    "    version=1\n",
    ")\n",
    "\n",
    "# Step 3: Read the data from the feature group\n",
    "b_data_df = bitcoin_feature_group.select([\"timestamp\"]).read()\n",
    "\n",
    "# Step 4: Find the maximum date\n",
    "bitcoin_max_date = b_data_df['timestamp'].max()\n",
    "bitcoin_difference = (today - bitcoin_max_date)//seconds_in_one_day\n",
    "\n",
    "# Step 5: Print the result\n",
    "print(f\"The maximum date is: {bitcoin_max_date}\")\n",
    "print(f\"Difference in days: {bitcoin_difference}\")\n"
   ]
  },
  {
   "cell_type": "code",
   "execution_count": 7,
   "metadata": {
    "ExecuteTime": {
     "end_time": "2025-01-04T20:04:59.048163Z",
     "start_time": "2025-01-04T20:04:56.297626Z"
    }
   },
   "outputs": [
    {
     "name": "stdout",
     "output_type": "stream",
     "text": [
      "Finished: Reading data from Hopsworks, using Hopsworks Feature Query Service (1.36s) \n",
      "The maximum date is: 1735948800\n",
      "Difference in days: 0\n"
     ]
    }
   ],
   "source": [
    "#fs = project.get_feature_store(name='kth_lab1_2024_featurestore')\n",
    "fs = project.get_feature_store()\n",
    "\n",
    "fng_feature_group = fs.get_feature_group(\n",
    "    name='f_n_g_index', \n",
    "    version=1)\n",
    "fng_df = fng_feature_group.read()\n",
    "\n",
    "# Step 4: Find the maximum date\n",
    "fng_max_date = int(fng_df['timestamp'].max())\n",
    "fng_difference = (today - fng_max_date)//seconds_in_one_day\n",
    "\n",
    "# Step 5: Print the result\n",
    "print(f\"The maximum date is: {fng_max_date}\")\n",
    "print(f\"Difference in days: {fng_difference}\")\n"
   ]
  },
  {
   "cell_type": "markdown",
   "metadata": {},
   "source": [
    "### Getting missing data"
   ]
  },
  {
   "cell_type": "markdown",
   "metadata": {},
   "source": [
    "### Request solana price from last available data till now"
   ]
  },
  {
   "cell_type": "code",
   "execution_count": 8,
   "metadata": {
    "ExecuteTime": {
     "end_time": "2025-01-04T20:04:59.407941Z",
     "start_time": "2025-01-04T20:04:59.052642Z"
    }
   },
   "outputs": [
    {
     "name": "stdout",
     "output_type": "stream",
     "text": [
      "Num entries to add:  12\n"
     ]
    }
   ],
   "source": [
    "\n",
    "url = \"https://data-api.cryptocompare.com//spot/v1/historical/days\"\n",
    "\n",
    "# Load environment variables from the .env file\n",
    "load_dotenv()\n",
    "crypto_api_key = os.getenv(\"CRYPTO_API_KEY\")\n",
    "\n",
    "\n",
    "params = {\n",
    "    \"market\":\"kraken\",\n",
    "    \"instrument\": \"SOL-USD\",  \n",
    "    \"limit\": solana_difference,  \n",
    "    \"api_key\": crypto_api_key,\n",
    "}\n",
    "if solana_difference!=0:\n",
    "    sol_response = trigger_request(url, params)\n",
    "    sol_response_df = pd.DataFrame(sol_response[\"Data\"])\n",
    "    sol_response_df = sol_response_df[[\"TIMESTAMP\", 'OPEN', 'HIGH', 'LOW', 'CLOSE', \"VOLUME\", 'VOLUME_BUY', 'VOLUME_SELL']]\n",
    "    sol_response_df.columns = sol_response_df.columns.str.lower()\n",
    "    sol_response_df['open'] = sol_response_df['open'].astype(float)\n",
    "    sol_response_df['close'] = sol_response_df['close'].astype(float)\n",
    "    sol_response_df['high'] = sol_response_df['high'].astype(float)\n",
    "    sol_response_df['low'] = sol_response_df['low'].astype(float)\n",
    "    sol_response_df['volume'] = sol_response_df['volume'].astype(float)\n",
    "    sol_response_df['volume_buy'] = sol_response_df['volume_buy'].astype(float)\n",
    "\n",
    "\n",
    "\n",
    "    print(\"Num entries to add: \", len(sol_response_df))\n",
    "else:\n",
    "    sol_response_df = pd.DataFrame(columns=[\"timestamp\",\"open\",\"high\", \"low\",\"close\", \"volume\", \"volume_buy\", \"volume_sell\"])"
   ]
  },
  {
   "cell_type": "code",
   "execution_count": 9,
   "metadata": {
    "ExecuteTime": {
     "end_time": "2025-01-04T20:04:59.420435Z",
     "start_time": "2025-01-04T20:04:59.410092Z"
    }
   },
   "outputs": [
    {
     "data": {
      "text/plain": "    timestamp    open    high     low   close         volume    volume_buy  \\\n0  1734998400  189.91  198.70  185.97  196.92  147273.311796  72402.790065   \n1  1735084800  196.92  201.65  195.08  197.38   77888.393938  39038.188456   \n2  1735171200  197.38  199.54  186.50  188.27  126419.530813  48442.972388   \n3  1735257600  188.27  194.00  182.62  183.81  134928.650993  69516.047164   \n4  1735344000  183.81  195.58  183.57  195.15  107692.510497  67914.329251   \n\n    volume_sell  \n0  74870.521731  \n1  38850.205482  \n2  77976.558425  \n3  65412.603829  \n4  39778.181246  ",
      "text/html": "<div>\n<style scoped>\n    .dataframe tbody tr th:only-of-type {\n        vertical-align: middle;\n    }\n\n    .dataframe tbody tr th {\n        vertical-align: top;\n    }\n\n    .dataframe thead th {\n        text-align: right;\n    }\n</style>\n<table border=\"1\" class=\"dataframe\">\n  <thead>\n    <tr style=\"text-align: right;\">\n      <th></th>\n      <th>timestamp</th>\n      <th>open</th>\n      <th>high</th>\n      <th>low</th>\n      <th>close</th>\n      <th>volume</th>\n      <th>volume_buy</th>\n      <th>volume_sell</th>\n    </tr>\n  </thead>\n  <tbody>\n    <tr>\n      <th>0</th>\n      <td>1734998400</td>\n      <td>189.91</td>\n      <td>198.70</td>\n      <td>185.97</td>\n      <td>196.92</td>\n      <td>147273.311796</td>\n      <td>72402.790065</td>\n      <td>74870.521731</td>\n    </tr>\n    <tr>\n      <th>1</th>\n      <td>1735084800</td>\n      <td>196.92</td>\n      <td>201.65</td>\n      <td>195.08</td>\n      <td>197.38</td>\n      <td>77888.393938</td>\n      <td>39038.188456</td>\n      <td>38850.205482</td>\n    </tr>\n    <tr>\n      <th>2</th>\n      <td>1735171200</td>\n      <td>197.38</td>\n      <td>199.54</td>\n      <td>186.50</td>\n      <td>188.27</td>\n      <td>126419.530813</td>\n      <td>48442.972388</td>\n      <td>77976.558425</td>\n    </tr>\n    <tr>\n      <th>3</th>\n      <td>1735257600</td>\n      <td>188.27</td>\n      <td>194.00</td>\n      <td>182.62</td>\n      <td>183.81</td>\n      <td>134928.650993</td>\n      <td>69516.047164</td>\n      <td>65412.603829</td>\n    </tr>\n    <tr>\n      <th>4</th>\n      <td>1735344000</td>\n      <td>183.81</td>\n      <td>195.58</td>\n      <td>183.57</td>\n      <td>195.15</td>\n      <td>107692.510497</td>\n      <td>67914.329251</td>\n      <td>39778.181246</td>\n    </tr>\n  </tbody>\n</table>\n</div>"
     },
     "execution_count": 9,
     "metadata": {},
     "output_type": "execute_result"
    }
   ],
   "source": [
    "sol_response_df.head()"
   ]
  },
  {
   "cell_type": "markdown",
   "metadata": {},
   "source": [
    "### Request bitcoin price from last available data till now"
   ]
  },
  {
   "cell_type": "code",
   "execution_count": 10,
   "metadata": {
    "ExecuteTime": {
     "end_time": "2025-01-04T20:04:59.703873Z",
     "start_time": "2025-01-04T20:04:59.424012Z"
    }
   },
   "outputs": [
    {
     "name": "stdout",
     "output_type": "stream",
     "text": [
      "Num entries to add:  12\n"
     ]
    },
    {
     "data": {
      "text/plain": "    timestamp     open     high      low    close       volume   volume_buy  \\\n0  1734998400  94699.4  99400.0  93500.0  98647.2  1533.799822   891.166136   \n1  1735084800  98647.2  99411.6  97600.0  99310.8   681.610471   410.423060   \n2  1735171200  99310.8  99821.8  95139.1  95645.0  1286.630454   525.643653   \n3  1735257600  95645.0  97308.6  93300.0  94148.9  1781.178175  1005.508540   \n4  1735344000  94148.9  95497.0  94033.5  95204.1   447.871951   237.945173   \n\n   volume_sell  \n0   642.633687  \n1   271.187412  \n2   760.986801  \n3   775.669635  \n4   209.926778  ",
      "text/html": "<div>\n<style scoped>\n    .dataframe tbody tr th:only-of-type {\n        vertical-align: middle;\n    }\n\n    .dataframe tbody tr th {\n        vertical-align: top;\n    }\n\n    .dataframe thead th {\n        text-align: right;\n    }\n</style>\n<table border=\"1\" class=\"dataframe\">\n  <thead>\n    <tr style=\"text-align: right;\">\n      <th></th>\n      <th>timestamp</th>\n      <th>open</th>\n      <th>high</th>\n      <th>low</th>\n      <th>close</th>\n      <th>volume</th>\n      <th>volume_buy</th>\n      <th>volume_sell</th>\n    </tr>\n  </thead>\n  <tbody>\n    <tr>\n      <th>0</th>\n      <td>1734998400</td>\n      <td>94699.4</td>\n      <td>99400.0</td>\n      <td>93500.0</td>\n      <td>98647.2</td>\n      <td>1533.799822</td>\n      <td>891.166136</td>\n      <td>642.633687</td>\n    </tr>\n    <tr>\n      <th>1</th>\n      <td>1735084800</td>\n      <td>98647.2</td>\n      <td>99411.6</td>\n      <td>97600.0</td>\n      <td>99310.8</td>\n      <td>681.610471</td>\n      <td>410.423060</td>\n      <td>271.187412</td>\n    </tr>\n    <tr>\n      <th>2</th>\n      <td>1735171200</td>\n      <td>99310.8</td>\n      <td>99821.8</td>\n      <td>95139.1</td>\n      <td>95645.0</td>\n      <td>1286.630454</td>\n      <td>525.643653</td>\n      <td>760.986801</td>\n    </tr>\n    <tr>\n      <th>3</th>\n      <td>1735257600</td>\n      <td>95645.0</td>\n      <td>97308.6</td>\n      <td>93300.0</td>\n      <td>94148.9</td>\n      <td>1781.178175</td>\n      <td>1005.508540</td>\n      <td>775.669635</td>\n    </tr>\n    <tr>\n      <th>4</th>\n      <td>1735344000</td>\n      <td>94148.9</td>\n      <td>95497.0</td>\n      <td>94033.5</td>\n      <td>95204.1</td>\n      <td>447.871951</td>\n      <td>237.945173</td>\n      <td>209.926778</td>\n    </tr>\n  </tbody>\n</table>\n</div>"
     },
     "execution_count": 10,
     "metadata": {},
     "output_type": "execute_result"
    }
   ],
   "source": [
    "load_dotenv()\n",
    "crypto_api_key = os.getenv(\"CRYPTO_API_KEY\")\n",
    "\n",
    "\n",
    "params = {\n",
    "    \"market\":\"kraken\",\n",
    "    \"instrument\": \"BTC-USD\",  \n",
    "    \"limit\": bitcoin_difference,  \n",
    "    \"api_key\": crypto_api_key,\n",
    "}\n",
    "\n",
    "if bitcoin_difference>0:\n",
    "    bitcoin_response = trigger_request(url, params)\n",
    "    bitcoin_response_df = pd.DataFrame(bitcoin_response[\"Data\"])\n",
    "    bitcoin_response_df = bitcoin_response_df[[\"TIMESTAMP\", 'OPEN', 'HIGH', 'LOW', 'CLOSE', \"VOLUME\", 'VOLUME_BUY', 'VOLUME_SELL']]\n",
    "    bitcoin_response_df.columns = bitcoin_response_df.columns.str.lower()\n",
    "    bitcoin_response_df['open'] = bitcoin_response_df['open'].astype(float)\n",
    "    bitcoin_response_df['close'] = bitcoin_response_df['close'].astype(float)\n",
    "    bitcoin_response_df['high'] = bitcoin_response_df['high'].astype(float)\n",
    "    bitcoin_response_df['low'] = bitcoin_response_df['low'].astype(float)\n",
    "    bitcoin_response_df['volume'] = bitcoin_response_df['volume'].astype(float)\n",
    "    bitcoin_response_df['volume_buy'] = bitcoin_response_df['volume_buy'].astype(float)\n",
    "\n",
    "    print(\"Num entries to add: \", len(bitcoin_response_df))\n",
    "else:\n",
    "    bitcoin_response_df = pd.DataFrame(columns=[\"timestamp\",\"open\",\"high\", \"low\",\"close\", \"volume\", \"volume_buy\", \"volume_sell\"])\n",
    "\n",
    "bitcoin_response_df.head()"
   ]
  },
  {
   "cell_type": "code",
   "execution_count": 11,
   "metadata": {
    "ExecuteTime": {
     "end_time": "2025-01-04T20:04:59.716588Z",
     "start_time": "2025-01-04T20:04:59.710137Z"
    }
   },
   "outputs": [
    {
     "data": {
      "text/plain": "     timestamp     open     high      low    close       volume   volume_buy  \\\n0   1734998400  94699.4  99400.0  93500.0  98647.2  1533.799822   891.166136   \n1   1735084800  98647.2  99411.6  97600.0  99310.8   681.610471   410.423060   \n2   1735171200  99310.8  99821.8  95139.1  95645.0  1286.630454   525.643653   \n3   1735257600  95645.0  97308.6  93300.0  94148.9  1781.178175  1005.508540   \n4   1735344000  94148.9  95497.0  94033.5  95204.1   447.871951   237.945173   \n5   1735430400  95204.1  95204.1  92860.7  93551.0   698.547127   229.720452   \n6   1735516800  93551.0  94858.7  91256.6  92611.3  2168.291728   994.214537   \n7   1735603200  92611.3  96040.0  91934.1  93370.9  1697.950414   943.514778   \n8   1735689600  93370.9  94888.0  92588.1  94380.8   576.162219   306.250085   \n9   1735776000  94380.8  97719.9  94167.2  96805.2  1727.878345   978.869868   \n10  1735862400  96805.2  98888.0  96034.1  98111.1  1520.228296  1070.944109   \n11  1735948800  98111.1  98348.5  97548.4  98163.3   531.455222   321.126644   \n\n    volume_sell  \n0    642.633687  \n1    271.187412  \n2    760.986801  \n3    775.669635  \n4    209.926778  \n5    468.826675  \n6   1174.077191  \n7    754.435636  \n8    269.912134  \n9    749.008477  \n10   449.284187  \n11   210.328578  ",
      "text/html": "<div>\n<style scoped>\n    .dataframe tbody tr th:only-of-type {\n        vertical-align: middle;\n    }\n\n    .dataframe tbody tr th {\n        vertical-align: top;\n    }\n\n    .dataframe thead th {\n        text-align: right;\n    }\n</style>\n<table border=\"1\" class=\"dataframe\">\n  <thead>\n    <tr style=\"text-align: right;\">\n      <th></th>\n      <th>timestamp</th>\n      <th>open</th>\n      <th>high</th>\n      <th>low</th>\n      <th>close</th>\n      <th>volume</th>\n      <th>volume_buy</th>\n      <th>volume_sell</th>\n    </tr>\n  </thead>\n  <tbody>\n    <tr>\n      <th>0</th>\n      <td>1734998400</td>\n      <td>94699.4</td>\n      <td>99400.0</td>\n      <td>93500.0</td>\n      <td>98647.2</td>\n      <td>1533.799822</td>\n      <td>891.166136</td>\n      <td>642.633687</td>\n    </tr>\n    <tr>\n      <th>1</th>\n      <td>1735084800</td>\n      <td>98647.2</td>\n      <td>99411.6</td>\n      <td>97600.0</td>\n      <td>99310.8</td>\n      <td>681.610471</td>\n      <td>410.423060</td>\n      <td>271.187412</td>\n    </tr>\n    <tr>\n      <th>2</th>\n      <td>1735171200</td>\n      <td>99310.8</td>\n      <td>99821.8</td>\n      <td>95139.1</td>\n      <td>95645.0</td>\n      <td>1286.630454</td>\n      <td>525.643653</td>\n      <td>760.986801</td>\n    </tr>\n    <tr>\n      <th>3</th>\n      <td>1735257600</td>\n      <td>95645.0</td>\n      <td>97308.6</td>\n      <td>93300.0</td>\n      <td>94148.9</td>\n      <td>1781.178175</td>\n      <td>1005.508540</td>\n      <td>775.669635</td>\n    </tr>\n    <tr>\n      <th>4</th>\n      <td>1735344000</td>\n      <td>94148.9</td>\n      <td>95497.0</td>\n      <td>94033.5</td>\n      <td>95204.1</td>\n      <td>447.871951</td>\n      <td>237.945173</td>\n      <td>209.926778</td>\n    </tr>\n    <tr>\n      <th>5</th>\n      <td>1735430400</td>\n      <td>95204.1</td>\n      <td>95204.1</td>\n      <td>92860.7</td>\n      <td>93551.0</td>\n      <td>698.547127</td>\n      <td>229.720452</td>\n      <td>468.826675</td>\n    </tr>\n    <tr>\n      <th>6</th>\n      <td>1735516800</td>\n      <td>93551.0</td>\n      <td>94858.7</td>\n      <td>91256.6</td>\n      <td>92611.3</td>\n      <td>2168.291728</td>\n      <td>994.214537</td>\n      <td>1174.077191</td>\n    </tr>\n    <tr>\n      <th>7</th>\n      <td>1735603200</td>\n      <td>92611.3</td>\n      <td>96040.0</td>\n      <td>91934.1</td>\n      <td>93370.9</td>\n      <td>1697.950414</td>\n      <td>943.514778</td>\n      <td>754.435636</td>\n    </tr>\n    <tr>\n      <th>8</th>\n      <td>1735689600</td>\n      <td>93370.9</td>\n      <td>94888.0</td>\n      <td>92588.1</td>\n      <td>94380.8</td>\n      <td>576.162219</td>\n      <td>306.250085</td>\n      <td>269.912134</td>\n    </tr>\n    <tr>\n      <th>9</th>\n      <td>1735776000</td>\n      <td>94380.8</td>\n      <td>97719.9</td>\n      <td>94167.2</td>\n      <td>96805.2</td>\n      <td>1727.878345</td>\n      <td>978.869868</td>\n      <td>749.008477</td>\n    </tr>\n    <tr>\n      <th>10</th>\n      <td>1735862400</td>\n      <td>96805.2</td>\n      <td>98888.0</td>\n      <td>96034.1</td>\n      <td>98111.1</td>\n      <td>1520.228296</td>\n      <td>1070.944109</td>\n      <td>449.284187</td>\n    </tr>\n    <tr>\n      <th>11</th>\n      <td>1735948800</td>\n      <td>98111.1</td>\n      <td>98348.5</td>\n      <td>97548.4</td>\n      <td>98163.3</td>\n      <td>531.455222</td>\n      <td>321.126644</td>\n      <td>210.328578</td>\n    </tr>\n  </tbody>\n</table>\n</div>"
     },
     "execution_count": 11,
     "metadata": {},
     "output_type": "execute_result"
    }
   ],
   "source": [
    "bitcoin_response_df"
   ]
  },
  {
   "cell_type": "markdown",
   "metadata": {},
   "source": [
    "### Request fear and greed index values from last available data till now"
   ]
  },
  {
   "cell_type": "code",
   "execution_count": 12,
   "metadata": {
    "ExecuteTime": {
     "end_time": "2025-01-04T20:04:59.721527Z",
     "start_time": "2025-01-04T20:04:59.713638Z"
    }
   },
   "outputs": [
    {
     "data": {
      "text/plain": "Empty DataFrame\nColumns: [fng_value, fng_classification, timestamp]\nIndex: []",
      "text/html": "<div>\n<style scoped>\n    .dataframe tbody tr th:only-of-type {\n        vertical-align: middle;\n    }\n\n    .dataframe tbody tr th {\n        vertical-align: top;\n    }\n\n    .dataframe thead th {\n        text-align: right;\n    }\n</style>\n<table border=\"1\" class=\"dataframe\">\n  <thead>\n    <tr style=\"text-align: right;\">\n      <th></th>\n      <th>fng_value</th>\n      <th>fng_classification</th>\n      <th>timestamp</th>\n    </tr>\n  </thead>\n  <tbody>\n  </tbody>\n</table>\n</div>"
     },
     "execution_count": 12,
     "metadata": {},
     "output_type": "execute_result"
    }
   ],
   "source": [
    "url = \"https://api.alternative.me/fng/?\"\n",
    "\n",
    "# Set the parameters for the API request\n",
    "params = {\n",
    "    \"limit\": fng_difference  # Number of days of data to retrieve\n",
    "}\n",
    "\n",
    "if fng_difference>0:\n",
    "    fng_response = trigger_request(url, params)\n",
    "    fng_df = pd.DataFrame(fng_response['data'])\n",
    "    fng_df['timestamp'] = fng_df['timestamp'].astype(float)\n",
    "    fng_df.rename(columns={'value_classification': 'fng_classification'}, inplace=True)\n",
    "    fng_df.rename(columns={'value': 'fng_value'}, inplace=True)\n",
    "\n",
    "    fng_df.drop(columns=[\"time_until_update\"],inplace=True)\n",
    "    fng_df.head()\n",
    "else:\n",
    "    fng_df = pd.DataFrame(columns=[\"fng_value\",\"fng_classification\",\"timestamp\"])\n",
    "fng_df.head()"
   ]
  },
  {
   "cell_type": "markdown",
   "metadata": {},
   "source": [
    "### Now we need to use the responses to update the data in Hopsworks"
   ]
  },
  {
   "cell_type": "code",
   "execution_count": 13,
   "metadata": {
    "ExecuteTime": {
     "end_time": "2025-01-04T20:05:13.820576Z",
     "start_time": "2025-01-04T20:04:59.724100Z"
    }
   },
   "outputs": [
    {
     "name": "stderr",
     "output_type": "stream",
     "text": [
      "Uploading Dataframe: 100.00% |██████████| Rows 12/12 | Elapsed Time: 00:02 | Remaining Time: 00:00\n"
     ]
    },
    {
     "name": "stdout",
     "output_type": "stream",
     "text": [
      "Launching job: solana_1_offline_fg_materialization\n",
      "Job started successfully, you can follow the progress at \n",
      "https://c.app.hopsworks.ai:443/p/1160346/jobs/named/solana_1_offline_fg_materialization/executions\n"
     ]
    }
   ],
   "source": [
    "if not test_mode and sol_response_df.shape[0]>0:\n",
    "    solana_feature_group.insert(sol_response_df)\n",
    "\n"
   ]
  },
  {
   "cell_type": "code",
   "execution_count": 14,
   "metadata": {
    "ExecuteTime": {
     "end_time": "2025-01-04T20:05:26.121152Z",
     "start_time": "2025-01-04T20:05:13.828727Z"
    }
   },
   "outputs": [
    {
     "name": "stderr",
     "output_type": "stream",
     "text": [
      "Uploading Dataframe: 100.00% |██████████| Rows 12/12 | Elapsed Time: 00:01 | Remaining Time: 00:00\n"
     ]
    },
    {
     "name": "stdout",
     "output_type": "stream",
     "text": [
      "Launching job: bitcoin_1_offline_fg_materialization\n",
      "Job started successfully, you can follow the progress at \n",
      "https://c.app.hopsworks.ai:443/p/1160346/jobs/named/bitcoin_1_offline_fg_materialization/executions\n"
     ]
    }
   ],
   "source": [
    "if not test_mode and bitcoin_response_df.shape[0]>0:\n",
    "    bitcoin_feature_group.insert(bitcoin_response_df)\n"
   ]
  },
  {
   "cell_type": "code",
   "execution_count": 15,
   "metadata": {
    "ExecuteTime": {
     "end_time": "2025-01-04T20:05:26.130525Z",
     "start_time": "2025-01-04T20:05:26.125926Z"
    }
   },
   "outputs": [
    {
     "data": {
      "text/plain": "Empty DataFrame\nColumns: [fng_value, fng_classification, timestamp]\nIndex: []",
      "text/html": "<div>\n<style scoped>\n    .dataframe tbody tr th:only-of-type {\n        vertical-align: middle;\n    }\n\n    .dataframe tbody tr th {\n        vertical-align: top;\n    }\n\n    .dataframe thead th {\n        text-align: right;\n    }\n</style>\n<table border=\"1\" class=\"dataframe\">\n  <thead>\n    <tr style=\"text-align: right;\">\n      <th></th>\n      <th>fng_value</th>\n      <th>fng_classification</th>\n      <th>timestamp</th>\n    </tr>\n  </thead>\n  <tbody>\n  </tbody>\n</table>\n</div>"
     },
     "execution_count": 15,
     "metadata": {},
     "output_type": "execute_result"
    }
   ],
   "source": [
    "fng_df.head()"
   ]
  },
  {
   "cell_type": "code",
   "execution_count": 16,
   "metadata": {
    "ExecuteTime": {
     "end_time": "2025-01-04T20:05:26.133340Z",
     "start_time": "2025-01-04T20:05:26.130906Z"
    }
   },
   "outputs": [],
   "source": [
    "if not test_mode and fng_df.shape[0]>0:\n",
    "    fng_feature_group.insert(fng_df)"
   ]
  }
 ],
 "metadata": {
  "kernelspec": {
   "display_name": "crypto-env",
   "language": "python",
   "name": "python3"
  },
  "language_info": {
   "codemirror_mode": {
    "name": "ipython",
    "version": 3
   },
   "file_extension": ".py",
   "mimetype": "text/x-python",
   "name": "python",
   "nbconvert_exporter": "python",
   "pygments_lexer": "ipython3",
   "version": "3.10.16"
  }
 },
 "nbformat": 4,
 "nbformat_minor": 2
}
