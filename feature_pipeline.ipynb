{
 "cells": [
  {
   "cell_type": "code",
   "execution_count": 6,
   "metadata": {
    "ExecuteTime": {
     "end_time": "2025-01-04T14:08:34.232817Z",
     "start_time": "2025-01-04T14:08:34.159906Z"
    }
   },
   "outputs": [],
   "source": [
    "test_mode = False"
   ]
  },
  {
   "cell_type": "code",
   "execution_count": 7,
   "metadata": {
    "ExecuteTime": {
     "end_time": "2025-01-04T14:08:34.234532Z",
     "start_time": "2025-01-04T14:08:34.164576Z"
    }
   },
   "outputs": [],
   "source": [
    "import pandas as pd\n",
    "import hopsworks\n",
    "from utils import *\n",
    "import json\n",
    "import os\n",
    "import warnings\n",
    "from dotenv import load_dotenv\n",
    "import datetime\n",
    "#from datetime import timezone\n",
    "\n",
    "warnings.filterwarnings(\"ignore\")"
   ]
  },
  {
   "cell_type": "code",
   "execution_count": 8,
   "metadata": {
    "ExecuteTime": {
     "end_time": "2025-01-04T14:08:41.565796Z",
     "start_time": "2025-01-04T14:08:34.167731Z"
    }
   },
   "outputs": [
    {
     "name": "stdout",
     "output_type": "stream",
     "text": [
      "2025-01-04 19:02:36,566 INFO: Closing external client and cleaning up certificates.\n",
      "Connection closed.\n",
      "2025-01-04 19:02:36,568 INFO: Initializing external client\n",
      "2025-01-04 19:02:36,569 INFO: Base URL: https://c.app.hopsworks.ai:443\n",
      "\n",
      "Multiple projects found. \n",
      "\n",
      "\t (1) kth_lab1_2024\n",
      "\t (2) ID2223_AirQuality_Lab1\n",
      "2025-01-04 19:02:40,684 INFO: Python Engine initialized.\n",
      "\n",
      "Logged in to project, explore it here https://c.app.hopsworks.ai:443/p/1164448\n"
     ]
    }
   ],
   "source": [
    "load_dotenv()\n",
    "#os.environ[\"HOPSWORKS_API_KEY\"] = os.getenv(\"HOPSWORKS_API_KEY\")\n",
    "\n",
    "\n",
    "project = hopsworks.login()"
   ]
  },
  {
   "cell_type": "code",
   "execution_count": 9,
   "metadata": {
    "ExecuteTime": {
     "end_time": "2025-01-04T14:08:41.782091Z",
     "start_time": "2025-01-04T14:08:41.568265Z"
    }
   },
   "outputs": [
    {
     "data": {
      "text/plain": [
       "1736010162"
      ]
     },
     "execution_count": 9,
     "metadata": {},
     "output_type": "execute_result"
    }
   ],
   "source": [
    "\n",
    "fs = project.get_feature_store() \n",
    "#secrets = secrets_api(project.name)\n",
    "\n",
    "# This line will fail if you have not registered the CRYPTO_API_KEY as a secret in Hopsworks\n",
    "#CRYPTO_API_KEY = secrets.get_secret(\"CRYPTO_API_KEY\").value\n",
    "\n",
    "#CRYPTO_API_KEY = os.getenv(\"CRYPTO_API_KEY\")\n",
    "today = int(time.time())\n",
    "seconds_in_one_day = 24 * 60 * 60\n",
    "\n",
    "\n",
    "today\n"
   ]
  },
  {
   "cell_type": "code",
   "execution_count": 10,
   "metadata": {
    "ExecuteTime": {
     "end_time": "2025-01-04T14:08:49.960632Z",
     "start_time": "2025-01-04T14:08:41.784878Z"
    }
   },
   "outputs": [
    {
     "name": "stdout",
     "output_type": "stream",
     "text": [
      "Finished: Reading data from Hopsworks, using Hopsworks Feature Query Service (0.79s) \n",
      "The maximum date is: 1735689600\n",
      "Difference in days: 3\n"
     ]
    }
   ],
   "source": [
    "\n",
    "# Step 2: Retrieve the feature group by name and version\n",
    "solana_feature_group = fs.get_feature_group(\n",
    "    name=\"solana\",  \n",
    "    version=1\n",
    ")\n",
    "\n",
    "# Step 3: Read the data from the feature group\n",
    "s_data_df = solana_feature_group.select([\"timestamp\"]).read()\n",
    "\n",
    "# Step 4: Find the maximum date\n",
    "solana_max_date = s_data_df['timestamp'].max()\n",
    "solana_difference = (today - solana_max_date)//seconds_in_one_day\n",
    "\n",
    "# Step 5: Print the result\n",
    "print(f\"The maximum date is: {solana_max_date}\")\n",
    "print(f\"Difference in days: {solana_difference}\")\n"
   ]
  },
  {
   "cell_type": "code",
   "execution_count": 11,
   "metadata": {
    "ExecuteTime": {
     "end_time": "2025-01-04T14:08:52.633041Z",
     "start_time": "2025-01-04T14:08:49.963700Z"
    }
   },
   "outputs": [
    {
     "name": "stdout",
     "output_type": "stream",
     "text": [
      "Finished: Reading data from Hopsworks, using Hopsworks Feature Query Service (0.73s) \n",
      "The maximum date is: 1735689600\n",
      "Difference in days: 3\n"
     ]
    }
   ],
   "source": [
    "# Step 2: Retrieve the feature group by name and version\n",
    "bitcoin_feature_group = fs.get_feature_group(\n",
    "    name=\"bitcoin\",  \n",
    "    version=1\n",
    ")\n",
    "\n",
    "# Step 3: Read the data from the feature group\n",
    "b_data_df = bitcoin_feature_group.select([\"timestamp\"]).read()\n",
    "\n",
    "# Step 4: Find the maximum date\n",
    "bitcoin_max_date = b_data_df['timestamp'].max()\n",
    "bitcoin_difference = (today - bitcoin_max_date)//seconds_in_one_day\n",
    "\n",
    "# Step 5: Print the result\n",
    "print(f\"The maximum date is: {bitcoin_max_date}\")\n",
    "print(f\"Difference in days: {bitcoin_difference}\")\n"
   ]
  },
  {
   "cell_type": "code",
   "execution_count": 12,
   "metadata": {
    "ExecuteTime": {
     "end_time": "2025-01-04T14:09:04.022054Z",
     "start_time": "2025-01-04T14:08:52.632945Z"
    }
   },
   "outputs": [
    {
     "name": "stdout",
     "output_type": "stream",
     "text": [
      "Finished: Reading data from Hopsworks, using Hopsworks Feature Query Service (0.87s) \n",
      "The maximum date is: 1735948800\n",
      "Difference in days: 0\n"
     ]
    }
   ],
   "source": [
    "#fs = project.get_feature_store(name='kth_lab1_2024_featurestore')\n",
    "fs = project.get_feature_store()\n",
    "\n",
    "fng_feature_group = fs.get_feature_group(\n",
    "    name='f_n_g_index', \n",
    "    version=1)\n",
    "fng_df = fng_feature_group.read()\n",
    "\n",
    "# Step 4: Find the maximum date\n",
    "fng_max_date = int(fng_df['timestamp'].max())\n",
    "fng_difference = (today - fng_max_date)//seconds_in_one_day\n",
    "\n",
    "# Step 5: Print the result\n",
    "print(f\"The maximum date is: {fng_max_date}\")\n",
    "print(f\"Difference in days: {fng_difference}\")\n"
   ]
  },
  {
   "cell_type": "markdown",
   "metadata": {},
   "source": [
    "### Getting missing data"
   ]
  },
  {
   "cell_type": "markdown",
   "metadata": {},
   "source": [
    "### Request solana price from last available data till now"
   ]
  },
  {
   "cell_type": "code",
   "execution_count": 13,
   "metadata": {
    "ExecuteTime": {
     "end_time": "2025-01-04T14:09:04.033326Z",
     "start_time": "2025-01-04T14:09:04.021774Z"
    }
   },
   "outputs": [
    {
     "name": "stdout",
     "output_type": "stream",
     "text": [
      "Num entries to add:  3\n"
     ]
    }
   ],
   "source": [
    "\n",
    "url = \"https://data-api.cryptocompare.com//spot/v1/historical/days\"\n",
    "\n",
    "# Load environment variables from the .env file\n",
    "load_dotenv()\n",
    "crypto_api_key = os.getenv(\"CRYPTO_API_KEY\")\n",
    "\n",
    "\n",
    "params = {\n",
    "    \"market\":\"kraken\",\n",
    "    \"instrument\": \"SOL-USD\",  \n",
    "    \"limit\": solana_difference,  \n",
    "    \"api_key\": crypto_api_key,\n",
    "}\n",
    "if solana_difference!=0:\n",
    "    sol_response = trigger_request(url, params)\n",
    "    sol_response_df = pd.DataFrame(sol_response[\"Data\"])\n",
    "    sol_response_df = sol_response_df[[\"TIMESTAMP\", 'OPEN', 'HIGH', 'LOW', 'CLOSE', \"VOLUME\", 'VOLUME_BUY', 'VOLUME_SELL']]\n",
    "    sol_response_df.columns = sol_response_df.columns.str.lower()\n",
    "    sol_response_df['open'] = sol_response_df['open'].astype(float)\n",
    "    sol_response_df['close'] = sol_response_df['close'].astype(float)\n",
    "    sol_response_df['high'] = sol_response_df['high'].astype(float)\n",
    "    sol_response_df['low'] = sol_response_df['low'].astype(float)\n",
    "    sol_response_df['volume'] = sol_response_df['volume'].astype(float)\n",
    "    sol_response_df['volume_buy'] = sol_response_df['volume_buy'].astype(float)\n",
    "\n",
    "\n",
    "\n",
    "    print(\"Num entries to add: \", len(sol_response_df))\n",
    "else:\n",
    "    sol_response_df = pd.DataFrame(columns=[\"timestamp\",\"open\",\"high\", \"low\",\"close\", \"volume\", \"volume_buy\", \"volume_sell\"])"
   ]
  },
  {
   "cell_type": "code",
   "execution_count": 14,
   "metadata": {
    "ExecuteTime": {
     "end_time": "2025-01-04T14:09:04.047508Z",
     "start_time": "2025-01-04T14:09:04.037868Z"
    }
   },
   "outputs": [
    {
     "data": {
      "text/html": [
       "<div>\n",
       "<style scoped>\n",
       "    .dataframe tbody tr th:only-of-type {\n",
       "        vertical-align: middle;\n",
       "    }\n",
       "\n",
       "    .dataframe tbody tr th {\n",
       "        vertical-align: top;\n",
       "    }\n",
       "\n",
       "    .dataframe thead th {\n",
       "        text-align: right;\n",
       "    }\n",
       "</style>\n",
       "<table border=\"1\" class=\"dataframe\">\n",
       "  <thead>\n",
       "    <tr style=\"text-align: right;\">\n",
       "      <th></th>\n",
       "      <th>timestamp</th>\n",
       "      <th>open</th>\n",
       "      <th>high</th>\n",
       "      <th>low</th>\n",
       "      <th>close</th>\n",
       "      <th>volume</th>\n",
       "      <th>volume_buy</th>\n",
       "      <th>volume_sell</th>\n",
       "    </tr>\n",
       "  </thead>\n",
       "  <tbody>\n",
       "    <tr>\n",
       "      <th>0</th>\n",
       "      <td>1735776000</td>\n",
       "      <td>193.82</td>\n",
       "      <td>209.95</td>\n",
       "      <td>193.10</td>\n",
       "      <td>208.00</td>\n",
       "      <td>284268.543094</td>\n",
       "      <td>180733.503944</td>\n",
       "      <td>103535.039150</td>\n",
       "    </tr>\n",
       "    <tr>\n",
       "      <th>1</th>\n",
       "      <td>1735862400</td>\n",
       "      <td>208.00</td>\n",
       "      <td>219.57</td>\n",
       "      <td>205.61</td>\n",
       "      <td>217.70</td>\n",
       "      <td>177794.247005</td>\n",
       "      <td>95001.493852</td>\n",
       "      <td>82792.753153</td>\n",
       "    </tr>\n",
       "    <tr>\n",
       "      <th>2</th>\n",
       "      <td>1735948800</td>\n",
       "      <td>217.70</td>\n",
       "      <td>217.88</td>\n",
       "      <td>213.61</td>\n",
       "      <td>214.36</td>\n",
       "      <td>63995.692982</td>\n",
       "      <td>24779.640902</td>\n",
       "      <td>39216.052080</td>\n",
       "    </tr>\n",
       "  </tbody>\n",
       "</table>\n",
       "</div>"
      ],
      "text/plain": [
       "    timestamp    open    high     low   close         volume     volume_buy  \\\n",
       "0  1735776000  193.82  209.95  193.10  208.00  284268.543094  180733.503944   \n",
       "1  1735862400  208.00  219.57  205.61  217.70  177794.247005   95001.493852   \n",
       "2  1735948800  217.70  217.88  213.61  214.36   63995.692982   24779.640902   \n",
       "\n",
       "     volume_sell  \n",
       "0  103535.039150  \n",
       "1   82792.753153  \n",
       "2   39216.052080  "
      ]
     },
     "execution_count": 14,
     "metadata": {},
     "output_type": "execute_result"
    }
   ],
   "source": [
    "sol_response_df.head()"
   ]
  },
  {
   "cell_type": "markdown",
   "metadata": {},
   "source": [
    "### Request bitcoin price from last available data till now"
   ]
  },
  {
   "cell_type": "code",
   "execution_count": 15,
   "metadata": {
    "ExecuteTime": {
     "end_time": "2025-01-04T14:09:06.904809Z",
     "start_time": "2025-01-04T14:09:04.044908Z"
    }
   },
   "outputs": [
    {
     "name": "stdout",
     "output_type": "stream",
     "text": [
      "Num entries to add:  3\n"
     ]
    },
    {
     "data": {
      "text/html": [
       "<div>\n",
       "<style scoped>\n",
       "    .dataframe tbody tr th:only-of-type {\n",
       "        vertical-align: middle;\n",
       "    }\n",
       "\n",
       "    .dataframe tbody tr th {\n",
       "        vertical-align: top;\n",
       "    }\n",
       "\n",
       "    .dataframe thead th {\n",
       "        text-align: right;\n",
       "    }\n",
       "</style>\n",
       "<table border=\"1\" class=\"dataframe\">\n",
       "  <thead>\n",
       "    <tr style=\"text-align: right;\">\n",
       "      <th></th>\n",
       "      <th>timestamp</th>\n",
       "      <th>open</th>\n",
       "      <th>high</th>\n",
       "      <th>low</th>\n",
       "      <th>close</th>\n",
       "      <th>volume</th>\n",
       "      <th>volume_buy</th>\n",
       "      <th>volume_sell</th>\n",
       "    </tr>\n",
       "  </thead>\n",
       "  <tbody>\n",
       "    <tr>\n",
       "      <th>0</th>\n",
       "      <td>1735776000</td>\n",
       "      <td>94380.8</td>\n",
       "      <td>97719.9</td>\n",
       "      <td>94167.2</td>\n",
       "      <td>96805.2</td>\n",
       "      <td>1727.878345</td>\n",
       "      <td>978.869868</td>\n",
       "      <td>749.008477</td>\n",
       "    </tr>\n",
       "    <tr>\n",
       "      <th>1</th>\n",
       "      <td>1735862400</td>\n",
       "      <td>96805.2</td>\n",
       "      <td>98888.0</td>\n",
       "      <td>96034.1</td>\n",
       "      <td>98111.1</td>\n",
       "      <td>1520.228296</td>\n",
       "      <td>1070.944109</td>\n",
       "      <td>449.284187</td>\n",
       "    </tr>\n",
       "    <tr>\n",
       "      <th>2</th>\n",
       "      <td>1735948800</td>\n",
       "      <td>98111.1</td>\n",
       "      <td>98231.0</td>\n",
       "      <td>97548.4</td>\n",
       "      <td>97680.0</td>\n",
       "      <td>451.370513</td>\n",
       "      <td>261.457892</td>\n",
       "      <td>189.912621</td>\n",
       "    </tr>\n",
       "  </tbody>\n",
       "</table>\n",
       "</div>"
      ],
      "text/plain": [
       "    timestamp     open     high      low    close       volume   volume_buy  \\\n",
       "0  1735776000  94380.8  97719.9  94167.2  96805.2  1727.878345   978.869868   \n",
       "1  1735862400  96805.2  98888.0  96034.1  98111.1  1520.228296  1070.944109   \n",
       "2  1735948800  98111.1  98231.0  97548.4  97680.0   451.370513   261.457892   \n",
       "\n",
       "   volume_sell  \n",
       "0   749.008477  \n",
       "1   449.284187  \n",
       "2   189.912621  "
      ]
     },
     "execution_count": 15,
     "metadata": {},
     "output_type": "execute_result"
    }
   ],
   "source": [
    "load_dotenv()\n",
    "crypto_api_key = os.getenv(\"CRYPTO_API_KEY\")\n",
    "\n",
    "\n",
    "params = {\n",
    "    \"market\":\"kraken\",\n",
    "    \"instrument\": \"BTC-USD\",  \n",
    "    \"limit\": bitcoin_difference,  \n",
    "    \"api_key\": crypto_api_key,\n",
    "}\n",
    "\n",
    "if bitcoin_difference>0:\n",
    "    bitcoin_response = trigger_request(url, params)\n",
    "    bitcoin_response_df = pd.DataFrame(bitcoin_response[\"Data\"])\n",
    "    bitcoin_response_df = bitcoin_response_df[[\"TIMESTAMP\", 'OPEN', 'HIGH', 'LOW', 'CLOSE', \"VOLUME\", 'VOLUME_BUY', 'VOLUME_SELL']]\n",
    "    bitcoin_response_df.columns = bitcoin_response_df.columns.str.lower()\n",
    "    bitcoin_response_df['open'] = bitcoin_response_df['open'].astype(float)\n",
    "    bitcoin_response_df['close'] = bitcoin_response_df['close'].astype(float)\n",
    "    bitcoin_response_df['high'] = bitcoin_response_df['high'].astype(float)\n",
    "    bitcoin_response_df['low'] = bitcoin_response_df['low'].astype(float)\n",
    "    bitcoin_response_df['volume'] = bitcoin_response_df['volume'].astype(float)\n",
    "    bitcoin_response_df['volume_buy'] = bitcoin_response_df['volume_buy'].astype(float)\n",
    "\n",
    "    print(\"Num entries to add: \", len(bitcoin_response_df))\n",
    "else:\n",
    "    bitcoin_response_df = pd.DataFrame(columns=[\"timestamp\",\"open\",\"high\", \"low\",\"close\", \"volume\", \"volume_buy\", \"volume_sell\"])\n",
    "\n",
    "bitcoin_response_df.head()"
   ]
  },
  {
   "cell_type": "code",
   "execution_count": 16,
   "metadata": {
    "ExecuteTime": {
     "end_time": "2025-01-04T14:09:06.912057Z",
     "start_time": "2025-01-04T14:09:06.908783Z"
    }
   },
   "outputs": [
    {
     "data": {
      "text/html": [
       "<div>\n",
       "<style scoped>\n",
       "    .dataframe tbody tr th:only-of-type {\n",
       "        vertical-align: middle;\n",
       "    }\n",
       "\n",
       "    .dataframe tbody tr th {\n",
       "        vertical-align: top;\n",
       "    }\n",
       "\n",
       "    .dataframe thead th {\n",
       "        text-align: right;\n",
       "    }\n",
       "</style>\n",
       "<table border=\"1\" class=\"dataframe\">\n",
       "  <thead>\n",
       "    <tr style=\"text-align: right;\">\n",
       "      <th></th>\n",
       "      <th>timestamp</th>\n",
       "      <th>open</th>\n",
       "      <th>high</th>\n",
       "      <th>low</th>\n",
       "      <th>close</th>\n",
       "      <th>volume</th>\n",
       "      <th>volume_buy</th>\n",
       "      <th>volume_sell</th>\n",
       "    </tr>\n",
       "  </thead>\n",
       "  <tbody>\n",
       "    <tr>\n",
       "      <th>0</th>\n",
       "      <td>1735776000</td>\n",
       "      <td>94380.8</td>\n",
       "      <td>97719.9</td>\n",
       "      <td>94167.2</td>\n",
       "      <td>96805.2</td>\n",
       "      <td>1727.878345</td>\n",
       "      <td>978.869868</td>\n",
       "      <td>749.008477</td>\n",
       "    </tr>\n",
       "    <tr>\n",
       "      <th>1</th>\n",
       "      <td>1735862400</td>\n",
       "      <td>96805.2</td>\n",
       "      <td>98888.0</td>\n",
       "      <td>96034.1</td>\n",
       "      <td>98111.1</td>\n",
       "      <td>1520.228296</td>\n",
       "      <td>1070.944109</td>\n",
       "      <td>449.284187</td>\n",
       "    </tr>\n",
       "    <tr>\n",
       "      <th>2</th>\n",
       "      <td>1735948800</td>\n",
       "      <td>98111.1</td>\n",
       "      <td>98231.0</td>\n",
       "      <td>97548.4</td>\n",
       "      <td>97680.0</td>\n",
       "      <td>451.370513</td>\n",
       "      <td>261.457892</td>\n",
       "      <td>189.912621</td>\n",
       "    </tr>\n",
       "  </tbody>\n",
       "</table>\n",
       "</div>"
      ],
      "text/plain": [
       "    timestamp     open     high      low    close       volume   volume_buy  \\\n",
       "0  1735776000  94380.8  97719.9  94167.2  96805.2  1727.878345   978.869868   \n",
       "1  1735862400  96805.2  98888.0  96034.1  98111.1  1520.228296  1070.944109   \n",
       "2  1735948800  98111.1  98231.0  97548.4  97680.0   451.370513   261.457892   \n",
       "\n",
       "   volume_sell  \n",
       "0   749.008477  \n",
       "1   449.284187  \n",
       "2   189.912621  "
      ]
     },
     "execution_count": 16,
     "metadata": {},
     "output_type": "execute_result"
    }
   ],
   "source": [
    "bitcoin_response_df"
   ]
  },
  {
   "cell_type": "markdown",
   "metadata": {},
   "source": [
    "### Request fear and greed index values from last available data till now"
   ]
  },
  {
   "cell_type": "code",
   "execution_count": 17,
   "metadata": {
    "ExecuteTime": {
     "end_time": "2025-01-04T14:09:10.613584Z",
     "start_time": "2025-01-04T14:09:06.914513Z"
    }
   },
   "outputs": [
    {
     "data": {
      "text/html": [
       "<div>\n",
       "<style scoped>\n",
       "    .dataframe tbody tr th:only-of-type {\n",
       "        vertical-align: middle;\n",
       "    }\n",
       "\n",
       "    .dataframe tbody tr th {\n",
       "        vertical-align: top;\n",
       "    }\n",
       "\n",
       "    .dataframe thead th {\n",
       "        text-align: right;\n",
       "    }\n",
       "</style>\n",
       "<table border=\"1\" class=\"dataframe\">\n",
       "  <thead>\n",
       "    <tr style=\"text-align: right;\">\n",
       "      <th></th>\n",
       "      <th>fng_value</th>\n",
       "      <th>fng_classification</th>\n",
       "      <th>timestamp</th>\n",
       "    </tr>\n",
       "  </thead>\n",
       "  <tbody>\n",
       "  </tbody>\n",
       "</table>\n",
       "</div>"
      ],
      "text/plain": [
       "Empty DataFrame\n",
       "Columns: [fng_value, fng_classification, timestamp]\n",
       "Index: []"
      ]
     },
     "execution_count": 17,
     "metadata": {},
     "output_type": "execute_result"
    }
   ],
   "source": [
    "url = \"https://api.alternative.me/fng/?\"\n",
    "\n",
    "# Set the parameters for the API request\n",
    "params = {\n",
    "    \"limit\": fng_difference  # Number of days of data to retrieve\n",
    "}\n",
    "\n",
    "if fng_difference>0:\n",
    "    fng_response = trigger_request(url, params)\n",
    "    fng_df = pd.DataFrame(fng_response['data'])\n",
    "    fng_df['timestamp'] = fng_df['timestamp'].astype(float)\n",
    "    fng_df.rename(columns={'value_classification': 'fng_classification'}, inplace=True)\n",
    "    fng_df.rename(columns={'value': 'fng_value'}, inplace=True)\n",
    "\n",
    "    fng_df.drop(columns=[\"time_until_update\"],inplace=True)\n",
    "    fng_df.head()\n",
    "else:\n",
    "    fng_df = pd.DataFrame(columns=[\"fng_value\",\"fng_classification\",\"timestamp\"])\n",
    "fng_df.head()"
   ]
  },
  {
   "cell_type": "markdown",
   "metadata": {},
   "source": [
    "### Now we need to use the responses to update the data in Hopsworks"
   ]
  },
  {
   "cell_type": "code",
   "execution_count": 18,
   "metadata": {
    "ExecuteTime": {
     "end_time": "2025-01-04T14:09:10.621346Z",
     "start_time": "2025-01-04T14:09:10.614498Z"
    }
   },
   "outputs": [
    {
     "name": "stderr",
     "output_type": "stream",
     "text": [
      "Uploading Dataframe: 100.00% |██████████| Rows 3/3 | Elapsed Time: 00:01 | Remaining Time: 00:00\n"
     ]
    },
    {
     "name": "stdout",
     "output_type": "stream",
     "text": [
      "Launching job: solana_1_offline_fg_materialization\n",
      "Job started successfully, you can follow the progress at \n",
      "https://c.app.hopsworks.ai:443/p/1164448/jobs/named/solana_1_offline_fg_materialization/executions\n"
     ]
    }
   ],
   "source": [
    "if not test_mode and sol_response_df.shape[0]>0:\n",
    "    solana_feature_group.insert(sol_response_df)\n",
    "\n"
   ]
  },
  {
   "cell_type": "code",
   "execution_count": 19,
   "metadata": {
    "ExecuteTime": {
     "end_time": "2025-01-04T14:09:44.238646Z",
     "start_time": "2025-01-04T14:09:10.623725Z"
    }
   },
   "outputs": [
    {
     "name": "stderr",
     "output_type": "stream",
     "text": [
      "Uploading Dataframe: 100.00% |██████████| Rows 3/3 | Elapsed Time: 00:01 | Remaining Time: 00:00\n"
     ]
    },
    {
     "name": "stdout",
     "output_type": "stream",
     "text": [
      "Launching job: bitcoin_1_offline_fg_materialization\n",
      "Job started successfully, you can follow the progress at \n",
      "https://c.app.hopsworks.ai:443/p/1164448/jobs/named/bitcoin_1_offline_fg_materialization/executions\n"
     ]
    }
   ],
   "source": [
    "if not test_mode and bitcoin_response_df.shape[0]>0:\n",
    "    bitcoin_feature_group.insert(bitcoin_response_df)\n"
   ]
  },
  {
   "cell_type": "code",
   "execution_count": 20,
   "metadata": {
    "ExecuteTime": {
     "end_time": "2025-01-04T14:09:44.249060Z",
     "start_time": "2025-01-04T14:09:44.243175Z"
    }
   },
   "outputs": [
    {
     "data": {
      "text/html": [
       "<div>\n",
       "<style scoped>\n",
       "    .dataframe tbody tr th:only-of-type {\n",
       "        vertical-align: middle;\n",
       "    }\n",
       "\n",
       "    .dataframe tbody tr th {\n",
       "        vertical-align: top;\n",
       "    }\n",
       "\n",
       "    .dataframe thead th {\n",
       "        text-align: right;\n",
       "    }\n",
       "</style>\n",
       "<table border=\"1\" class=\"dataframe\">\n",
       "  <thead>\n",
       "    <tr style=\"text-align: right;\">\n",
       "      <th></th>\n",
       "      <th>fng_value</th>\n",
       "      <th>fng_classification</th>\n",
       "      <th>timestamp</th>\n",
       "    </tr>\n",
       "  </thead>\n",
       "  <tbody>\n",
       "  </tbody>\n",
       "</table>\n",
       "</div>"
      ],
      "text/plain": [
       "Empty DataFrame\n",
       "Columns: [fng_value, fng_classification, timestamp]\n",
       "Index: []"
      ]
     },
     "execution_count": 20,
     "metadata": {},
     "output_type": "execute_result"
    }
   ],
   "source": [
    "fng_df.head()"
   ]
  },
  {
   "cell_type": "code",
   "execution_count": null,
   "metadata": {
    "ExecuteTime": {
     "end_time": "2025-01-04T14:09:56.854075Z",
     "start_time": "2025-01-04T14:09:44.250661Z"
    }
   },
   "outputs": [
    {
     "name": "stderr",
     "output_type": "stream",
     "text": [
      "Uploading Dataframe: 100.00% |██████████| Rows 1/1 | Elapsed Time: 00:01 | Remaining Time: 00:00\n"
     ]
    },
    {
     "name": "stdout",
     "output_type": "stream",
     "text": [
      "Launching job: f_n_g_index_1_offline_fg_materialization\n",
      "Job started successfully, you can follow the progress at \n",
      "https://c.app.hopsworks.ai:443/p/1160346/jobs/named/f_n_g_index_1_offline_fg_materialization/executions\n"
     ]
    }
   ],
   "source": [
    "if not test_mode and fng_df.shape[0]>0:\n",
    "    fng_feature_group.insert(fng_df)"
   ]
  }
 ],
 "metadata": {
  "kernelspec": {
   "display_name": "crypto-env",
   "language": "python",
   "name": "python3"
  },
  "language_info": {
   "codemirror_mode": {
    "name": "ipython",
    "version": 3
   },
   "file_extension": ".py",
   "mimetype": "text/x-python",
   "name": "python",
   "nbconvert_exporter": "python",
   "pygments_lexer": "ipython3",
   "version": "3.10.16"
  }
 },
 "nbformat": 4,
 "nbformat_minor": 2
}
