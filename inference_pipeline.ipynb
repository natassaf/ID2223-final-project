{
 "cells": [
  {
   "cell_type": "code",
   "execution_count": 1,
   "metadata": {
    "ExecuteTime": {
     "end_time": "2025-01-05T11:59:04.498991Z",
     "start_time": "2025-01-05T11:59:03.014432Z"
    }
   },
   "outputs": [],
   "source": [
    "import time\n",
    "import hopsworks\n",
    "import os\n",
    "from dotenv import load_dotenv\n",
    "import joblib\n",
    "\n",
    "# from datetime import datetime, timedelta\n",
    "import pandas as pd\n",
    "\n",
    "import hopsworks\n",
    "import matplotlib.pyplot as plt\n",
    "\n",
    "from utils import *\n",
    "import utils\n"
   ]
  },
  {
   "cell_type": "code",
   "execution_count": null,
   "metadata": {
    "ExecuteTime": {
     "end_time": "2025-01-05T11:59:04.504219Z",
     "start_time": "2025-01-05T11:59:04.499801Z"
    }
   },
   "outputs": [],
   "source": [
    "model_version = 5\n",
    "fng_feature_group_version = 1\n",
    "solana_feature_group_version = 1\n",
    "bitcoin_feature_group_version = 1"
   ]
  },
  {
   "cell_type": "code",
   "execution_count": 3,
   "metadata": {
    "ExecuteTime": {
     "end_time": "2025-01-05T11:59:04.506996Z",
     "start_time": "2025-01-05T11:59:04.503439Z"
    }
   },
   "outputs": [
    {
     "data": {
      "text/plain": [
       "1736078344"
      ]
     },
     "execution_count": 3,
     "metadata": {},
     "output_type": "execute_result"
    }
   ],
   "source": [
    "today = int(time.time())\n",
    "seconds_in_one_day = 24 * 60 * 60\n",
    "today"
   ]
  },
  {
   "cell_type": "code",
   "execution_count": 4,
   "metadata": {
    "ExecuteTime": {
     "end_time": "2025-01-05T11:59:08.201280Z",
     "start_time": "2025-01-05T11:59:04.506824Z"
    }
   },
   "outputs": [
    {
     "name": "stdout",
     "output_type": "stream",
     "text": [
      "2025-01-05 13:59:04,507 INFO: Initializing external client\n",
      "2025-01-05 13:59:04,507 INFO: Base URL: https://c.app.hopsworks.ai:443\n",
      "2025-01-05 13:59:06,823 INFO: Python Engine initialized.\n",
      "\n",
      "Logged in to project, explore it here https://c.app.hopsworks.ai:443/p/1160346\n"
     ]
    }
   ],
   "source": [
    "load_dotenv()\n",
    "#os.environ[\"HOPSWORKS_API_KEY\"] = os.getenv(\"HOPSWORKS_API_KEY\")\n",
    "project = hopsworks.login()\n",
    "#secrets = secrets_api(project.name)\n",
    "# This line will fail if you have not registered the CRYPTO_API_KEY as a secret in Hopsworks\n",
    "#CRYPTO_API_KEY = secrets.get_secret(\"CRYPTO_API_KEY\").value\n",
    "\n",
    "#CRYPTO_API_KEY = os.getenv(\"CRYPTO_API_KEY\")"
   ]
  },
  {
   "cell_type": "code",
   "execution_count": 5,
   "metadata": {
    "ExecuteTime": {
     "end_time": "2025-01-05T11:59:08.377469Z",
     "start_time": "2025-01-05T11:59:08.204283Z"
    }
   },
   "outputs": [
    {
     "data": {
      "text/plain": [
       "1732622344.0"
      ]
     },
     "execution_count": 5,
     "metadata": {},
     "output_type": "execute_result"
    }
   ],
   "source": [
    "fs = project.get_feature_store() \n",
    "starting_timestamp = float(today - 40 * seconds_in_one_day)\n",
    "starting_timestamp\n"
   ]
  },
  {
   "cell_type": "code",
   "execution_count": 6,
   "metadata": {
    "ExecuteTime": {
     "end_time": "2025-01-05T11:59:11.199239Z",
     "start_time": "2025-01-05T11:59:08.380621Z"
    }
   },
   "outputs": [
    {
     "name": "stdout",
     "output_type": "stream",
     "text": [
      "Finished: Reading data from Hopsworks, using Hopsworks Feature Query Service (0.69s) \n"
     ]
    },
    {
     "data": {
      "text/html": [
       "<div>\n",
       "<style scoped>\n",
       "    .dataframe tbody tr th:only-of-type {\n",
       "        vertical-align: middle;\n",
       "    }\n",
       "\n",
       "    .dataframe tbody tr th {\n",
       "        vertical-align: top;\n",
       "    }\n",
       "\n",
       "    .dataframe thead th {\n",
       "        text-align: right;\n",
       "    }\n",
       "</style>\n",
       "<table border=\"1\" class=\"dataframe\">\n",
       "  <thead>\n",
       "    <tr style=\"text-align: right;\">\n",
       "      <th></th>\n",
       "      <th>timestamp</th>\n",
       "      <th>open</th>\n",
       "      <th>high</th>\n",
       "      <th>low</th>\n",
       "      <th>close</th>\n",
       "      <th>volume</th>\n",
       "      <th>volume_buy</th>\n",
       "      <th>volume_sell</th>\n",
       "    </tr>\n",
       "  </thead>\n",
       "  <tbody>\n",
       "    <tr>\n",
       "      <th>0</th>\n",
       "      <td>1732665600</td>\n",
       "      <td>230.68</td>\n",
       "      <td>245.00</td>\n",
       "      <td>227.66</td>\n",
       "      <td>242.26</td>\n",
       "      <td>265621.873707</td>\n",
       "      <td>161330.187523</td>\n",
       "      <td>104291.686184</td>\n",
       "    </tr>\n",
       "    <tr>\n",
       "      <th>1</th>\n",
       "      <td>1732752000</td>\n",
       "      <td>242.26</td>\n",
       "      <td>245.46</td>\n",
       "      <td>233.00</td>\n",
       "      <td>237.59</td>\n",
       "      <td>142466.637324</td>\n",
       "      <td>73142.398338</td>\n",
       "      <td>69324.238987</td>\n",
       "    </tr>\n",
       "    <tr>\n",
       "      <th>2</th>\n",
       "      <td>1732838400</td>\n",
       "      <td>237.59</td>\n",
       "      <td>247.04</td>\n",
       "      <td>236.58</td>\n",
       "      <td>243.47</td>\n",
       "      <td>301558.576846</td>\n",
       "      <td>121169.466633</td>\n",
       "      <td>180389.110213</td>\n",
       "    </tr>\n",
       "    <tr>\n",
       "      <th>3</th>\n",
       "      <td>1732924800</td>\n",
       "      <td>243.47</td>\n",
       "      <td>245.34</td>\n",
       "      <td>237.56</td>\n",
       "      <td>237.75</td>\n",
       "      <td>173213.101124</td>\n",
       "      <td>81975.271321</td>\n",
       "      <td>91237.829804</td>\n",
       "    </tr>\n",
       "    <tr>\n",
       "      <th>4</th>\n",
       "      <td>1733011200</td>\n",
       "      <td>237.75</td>\n",
       "      <td>239.84</td>\n",
       "      <td>234.50</td>\n",
       "      <td>237.00</td>\n",
       "      <td>245637.142977</td>\n",
       "      <td>113485.713256</td>\n",
       "      <td>132151.429722</td>\n",
       "    </tr>\n",
       "  </tbody>\n",
       "</table>\n",
       "</div>"
      ],
      "text/plain": [
       "    timestamp    open    high     low   close         volume     volume_buy  \\\n",
       "0  1732665600  230.68  245.00  227.66  242.26  265621.873707  161330.187523   \n",
       "1  1732752000  242.26  245.46  233.00  237.59  142466.637324   73142.398338   \n",
       "2  1732838400  237.59  247.04  236.58  243.47  301558.576846  121169.466633   \n",
       "3  1732924800  243.47  245.34  237.56  237.75  173213.101124   81975.271321   \n",
       "4  1733011200  237.75  239.84  234.50  237.00  245637.142977  113485.713256   \n",
       "\n",
       "     volume_sell  \n",
       "0  104291.686184  \n",
       "1   69324.238987  \n",
       "2  180389.110213  \n",
       "3   91237.829804  \n",
       "4  132151.429722  "
      ]
     },
     "execution_count": 6,
     "metadata": {},
     "output_type": "execute_result"
    }
   ],
   "source": [
    "solana_feature_group = fs.get_feature_group(\n",
    "    name=\"solana\",  \n",
    "    version=solana_feature_group_version\n",
    ")\n",
    "\n",
    "solana_batch_data = solana_feature_group.filter(solana_feature_group.timestamp >= starting_timestamp).read().sort_values(by='timestamp', inplace=False).reset_index(drop=True)\n",
    "solana_batch_data.head()"
   ]
  },
  {
   "cell_type": "code",
   "execution_count": 7,
   "metadata": {
    "ExecuteTime": {
     "end_time": "2025-01-05T11:59:12.859206Z",
     "start_time": "2025-01-05T11:59:11.200488Z"
    }
   },
   "outputs": [
    {
     "name": "stdout",
     "output_type": "stream",
     "text": [
      "Finished: Reading data from Hopsworks, using Hopsworks Feature Query Service (0.72s) \n"
     ]
    },
    {
     "data": {
      "text/html": [
       "<div>\n",
       "<style scoped>\n",
       "    .dataframe tbody tr th:only-of-type {\n",
       "        vertical-align: middle;\n",
       "    }\n",
       "\n",
       "    .dataframe tbody tr th {\n",
       "        vertical-align: top;\n",
       "    }\n",
       "\n",
       "    .dataframe thead th {\n",
       "        text-align: right;\n",
       "    }\n",
       "</style>\n",
       "<table border=\"1\" class=\"dataframe\">\n",
       "  <thead>\n",
       "    <tr style=\"text-align: right;\">\n",
       "      <th></th>\n",
       "      <th>timestamp</th>\n",
       "      <th>open</th>\n",
       "    </tr>\n",
       "  </thead>\n",
       "  <tbody>\n",
       "    <tr>\n",
       "      <th>0</th>\n",
       "      <td>1732665600</td>\n",
       "      <td>91914.5</td>\n",
       "    </tr>\n",
       "    <tr>\n",
       "      <th>1</th>\n",
       "      <td>1732752000</td>\n",
       "      <td>95952.9</td>\n",
       "    </tr>\n",
       "    <tr>\n",
       "      <th>2</th>\n",
       "      <td>1732838400</td>\n",
       "      <td>95637.8</td>\n",
       "    </tr>\n",
       "    <tr>\n",
       "      <th>3</th>\n",
       "      <td>1732924800</td>\n",
       "      <td>97478.7</td>\n",
       "    </tr>\n",
       "    <tr>\n",
       "      <th>4</th>\n",
       "      <td>1733011200</td>\n",
       "      <td>96456.2</td>\n",
       "    </tr>\n",
       "  </tbody>\n",
       "</table>\n",
       "</div>"
      ],
      "text/plain": [
       "    timestamp     open\n",
       "0  1732665600  91914.5\n",
       "1  1732752000  95952.9\n",
       "2  1732838400  95637.8\n",
       "3  1732924800  97478.7\n",
       "4  1733011200  96456.2"
      ]
     },
     "execution_count": 7,
     "metadata": {},
     "output_type": "execute_result"
    }
   ],
   "source": [
    "bitcoin_feature_group = fs.get_feature_group(\n",
    "    name=\"bitcoin\",  \n",
    "    version=bitcoin_feature_group_version\n",
    ")\n",
    "bitcoin_batch_data = bitcoin_feature_group.filter(bitcoin_feature_group.timestamp >= starting_timestamp).read().sort_values(by='timestamp', inplace=False).reset_index(drop=True)\n",
    "bitcoin_batch_data = bitcoin_batch_data[[\"timestamp\",\"open\"]]\n",
    "bitcoin_batch_data.head()"
   ]
  },
  {
   "cell_type": "code",
   "execution_count": 8,
   "metadata": {
    "ExecuteTime": {
     "end_time": "2025-01-05T11:59:14.487241Z",
     "start_time": "2025-01-05T11:59:12.861281Z"
    }
   },
   "outputs": [
    {
     "name": "stdout",
     "output_type": "stream",
     "text": [
      "Finished: Reading data from Hopsworks, using Hopsworks Feature Query Service (0.58s) \n"
     ]
    },
    {
     "data": {
      "text/html": [
       "<div>\n",
       "<style scoped>\n",
       "    .dataframe tbody tr th:only-of-type {\n",
       "        vertical-align: middle;\n",
       "    }\n",
       "\n",
       "    .dataframe tbody tr th {\n",
       "        vertical-align: top;\n",
       "    }\n",
       "\n",
       "    .dataframe thead th {\n",
       "        text-align: right;\n",
       "    }\n",
       "</style>\n",
       "<table border=\"1\" class=\"dataframe\">\n",
       "  <thead>\n",
       "    <tr style=\"text-align: right;\">\n",
       "      <th></th>\n",
       "      <th>fng_value</th>\n",
       "      <th>fng_classification</th>\n",
       "      <th>timestamp</th>\n",
       "    </tr>\n",
       "  </thead>\n",
       "  <tbody>\n",
       "    <tr>\n",
       "      <th>0</th>\n",
       "      <td>75</td>\n",
       "      <td>3</td>\n",
       "      <td>1.732666e+09</td>\n",
       "    </tr>\n",
       "    <tr>\n",
       "      <th>1</th>\n",
       "      <td>77</td>\n",
       "      <td>4</td>\n",
       "      <td>1.732752e+09</td>\n",
       "    </tr>\n",
       "    <tr>\n",
       "      <th>2</th>\n",
       "      <td>78</td>\n",
       "      <td>4</td>\n",
       "      <td>1.732838e+09</td>\n",
       "    </tr>\n",
       "    <tr>\n",
       "      <th>3</th>\n",
       "      <td>84</td>\n",
       "      <td>4</td>\n",
       "      <td>1.732925e+09</td>\n",
       "    </tr>\n",
       "    <tr>\n",
       "      <th>4</th>\n",
       "      <td>81</td>\n",
       "      <td>4</td>\n",
       "      <td>1.733011e+09</td>\n",
       "    </tr>\n",
       "  </tbody>\n",
       "</table>\n",
       "</div>"
      ],
      "text/plain": [
       "  fng_value  fng_classification     timestamp\n",
       "0        75                   3  1.732666e+09\n",
       "1        77                   4  1.732752e+09\n",
       "2        78                   4  1.732838e+09\n",
       "3        84                   4  1.732925e+09\n",
       "4        81                   4  1.733011e+09"
      ]
     },
     "execution_count": 8,
     "metadata": {},
     "output_type": "execute_result"
    }
   ],
   "source": [
    "fng_feature_group = fs.get_feature_group(\n",
    "    'f_n_g_index',\n",
    "    version=fng_feature_group_version\n",
    ")\n",
    "fng_batch_data = fng_feature_group.filter(fng_feature_group.timestamp >= starting_timestamp).read().sort_values(by='timestamp', inplace=False).reset_index(drop=True)\n",
    "fng_batch_data['fng_classification'] = fng_batch_data['fng_classification'].map(fng_labels_to_numbers_map)\n",
    "fng_batch_data.head()"
   ]
  },
  {
   "cell_type": "code",
   "execution_count": 9,
   "metadata": {
    "ExecuteTime": {
     "end_time": "2025-01-05T11:59:19.059738Z",
     "start_time": "2025-01-05T11:59:14.486985Z"
    }
   },
   "outputs": [
    {
     "name": "stdout",
     "output_type": "stream",
     "text": [
      "/var/folders/rh/xp6gtwpn19s_8lqdxq8sdl0r0000gn/T/6e8580f9-4017-49a2-a343-2bce71dd2483/solana_price_daily_model_10d/4\n"
     ]
    },
    {
     "data": {
      "text/plain": [
       "<Sequential name=sequential, built=True>"
      ]
     },
     "execution_count": 9,
     "metadata": {},
     "output_type": "execute_result"
    }
   ],
   "source": [
    "from tensorflow.keras.models import load_model\n",
    "\n",
    "mr = project.get_model_registry()\n",
    "\n",
    "retrieved_model = mr.get_model(\n",
    "    name=\"solana_price_daily_model_10d\",\n",
    "    version=model_version,\n",
    ")\n",
    "saved_model_dir = retrieved_model.download()\n",
    "print(saved_model_dir)\n",
    "model = load_model(saved_model_dir+'/best_model.keras')\n",
    "model\n"
   ]
  },
  {
   "cell_type": "code",
   "execution_count": 10,
   "metadata": {
    "ExecuteTime": {
     "end_time": "2025-01-05T11:59:19.069095Z",
     "start_time": "2025-01-05T11:59:19.066811Z"
    }
   },
   "outputs": [
    {
     "data": {
      "text/html": [
       "<div>\n",
       "<style scoped>\n",
       "    .dataframe tbody tr th:only-of-type {\n",
       "        vertical-align: middle;\n",
       "    }\n",
       "\n",
       "    .dataframe tbody tr th {\n",
       "        vertical-align: top;\n",
       "    }\n",
       "\n",
       "    .dataframe thead th {\n",
       "        text-align: right;\n",
       "    }\n",
       "</style>\n",
       "<table border=\"1\" class=\"dataframe\">\n",
       "  <thead>\n",
       "    <tr style=\"text-align: right;\">\n",
       "      <th></th>\n",
       "      <th>high</th>\n",
       "      <th>low</th>\n",
       "      <th>close</th>\n",
       "      <th>volume</th>\n",
       "      <th>volume_buy</th>\n",
       "      <th>volume_sell</th>\n",
       "      <th>open_bitcoin</th>\n",
       "      <th>fng_value</th>\n",
       "      <th>fng_classification</th>\n",
       "      <th>open_solana</th>\n",
       "    </tr>\n",
       "  </thead>\n",
       "  <tbody>\n",
       "    <tr>\n",
       "      <th>0</th>\n",
       "      <td>245.00</td>\n",
       "      <td>227.66</td>\n",
       "      <td>242.26</td>\n",
       "      <td>265621.873707</td>\n",
       "      <td>161330.187523</td>\n",
       "      <td>104291.686184</td>\n",
       "      <td>91914.5</td>\n",
       "      <td>75</td>\n",
       "      <td>3</td>\n",
       "      <td>230.68</td>\n",
       "    </tr>\n",
       "    <tr>\n",
       "      <th>1</th>\n",
       "      <td>245.46</td>\n",
       "      <td>233.00</td>\n",
       "      <td>237.59</td>\n",
       "      <td>142466.637324</td>\n",
       "      <td>73142.398338</td>\n",
       "      <td>69324.238987</td>\n",
       "      <td>95952.9</td>\n",
       "      <td>77</td>\n",
       "      <td>4</td>\n",
       "      <td>242.26</td>\n",
       "    </tr>\n",
       "    <tr>\n",
       "      <th>2</th>\n",
       "      <td>247.04</td>\n",
       "      <td>236.58</td>\n",
       "      <td>243.47</td>\n",
       "      <td>301558.576846</td>\n",
       "      <td>121169.466633</td>\n",
       "      <td>180389.110213</td>\n",
       "      <td>95637.8</td>\n",
       "      <td>78</td>\n",
       "      <td>4</td>\n",
       "      <td>237.59</td>\n",
       "    </tr>\n",
       "    <tr>\n",
       "      <th>3</th>\n",
       "      <td>245.34</td>\n",
       "      <td>237.56</td>\n",
       "      <td>237.75</td>\n",
       "      <td>173213.101124</td>\n",
       "      <td>81975.271321</td>\n",
       "      <td>91237.829804</td>\n",
       "      <td>97478.7</td>\n",
       "      <td>84</td>\n",
       "      <td>4</td>\n",
       "      <td>243.47</td>\n",
       "    </tr>\n",
       "    <tr>\n",
       "      <th>4</th>\n",
       "      <td>239.84</td>\n",
       "      <td>234.50</td>\n",
       "      <td>237.00</td>\n",
       "      <td>245637.142977</td>\n",
       "      <td>113485.713256</td>\n",
       "      <td>132151.429722</td>\n",
       "      <td>96456.2</td>\n",
       "      <td>81</td>\n",
       "      <td>4</td>\n",
       "      <td>237.75</td>\n",
       "    </tr>\n",
       "  </tbody>\n",
       "</table>\n",
       "</div>"
      ],
      "text/plain": [
       "     high     low   close         volume     volume_buy    volume_sell  \\\n",
       "0  245.00  227.66  242.26  265621.873707  161330.187523  104291.686184   \n",
       "1  245.46  233.00  237.59  142466.637324   73142.398338   69324.238987   \n",
       "2  247.04  236.58  243.47  301558.576846  121169.466633  180389.110213   \n",
       "3  245.34  237.56  237.75  173213.101124   81975.271321   91237.829804   \n",
       "4  239.84  234.50  237.00  245637.142977  113485.713256  132151.429722   \n",
       "\n",
       "   open_bitcoin fng_value  fng_classification  open_solana  \n",
       "0       91914.5        75                   3       230.68  \n",
       "1       95952.9        77                   4       242.26  \n",
       "2       95637.8        78                   4       237.59  \n",
       "3       97478.7        84                   4       243.47  \n",
       "4       96456.2        81                   4       237.75  "
      ]
     },
     "execution_count": 10,
     "metadata": {},
     "output_type": "execute_result"
    }
   ],
   "source": [
    "all_data = pd.merge(solana_batch_data, bitcoin_batch_data, how='inner', on=\"timestamp\",suffixes=('_solana', '_bitcoin'))  \n",
    "all_data = pd.merge(all_data, fng_batch_data, how='inner', on=\"timestamp\")\n",
    "\n",
    "if \"timestamp\" in all_data.columns:\n",
    "    all_data = all_data.drop(columns=['timestamp'])\n",
    "\n",
    "target_column = 'open_solana'\n",
    "all_data = utils.move_target_at_the_end(all_data, target_column)\n",
    "all_data_values = all_data.values[-30:]\n",
    "\n",
    "all_data.head()"
   ]
  },
  {
   "cell_type": "code",
   "execution_count": 11,
   "metadata": {
    "ExecuteTime": {
     "end_time": "2025-01-05T11:59:19.125926Z",
     "start_time": "2025-01-05T11:59:19.069709Z"
    }
   },
   "outputs": [
    {
     "name": "stderr",
     "output_type": "stream",
     "text": [
      "InconsistentVersionWarning: Trying to unpickle estimator MinMaxScaler from version 1.6.0 when using version 1.5.2. This might lead to breaking code or invalid results. Use at your own risk. For more info please refer to:\n",
      "https://scikit-learn.org/stable/model_persistence.html#security-maintainability-limitations\n"
     ]
    }
   ],
   "source": [
    "model_workspace = \"solana_price_10d_scalers/\" \n",
    "scaler_labels = joblib.load(model_workspace+'scaler_labels.pkl')\n",
    "scaler_features = joblib.load(model_workspace+'scaler_features.pkl')\n",
    "\n",
    "all_data_values = scaler_features.transform(all_data_values)\n",
    "X = all_data_values.reshape(1, 30, 10)\n"
   ]
  },
  {
   "cell_type": "code",
   "execution_count": 12,
   "metadata": {
    "ExecuteTime": {
     "end_time": "2025-01-05T11:59:19.126029Z",
     "start_time": "2025-01-05T11:59:19.117089Z"
    }
   },
   "outputs": [
    {
     "data": {
      "text/plain": [
       "Index(['high', 'low', 'close', 'volume', 'volume_buy', 'volume_sell',\n",
       "       'open_bitcoin', 'fng_value', 'fng_classification', 'open_solana'],\n",
       "      dtype='object')"
      ]
     },
     "execution_count": 12,
     "metadata": {},
     "output_type": "execute_result"
    }
   ],
   "source": [
    "all_data.columns"
   ]
  },
  {
   "cell_type": "code",
   "execution_count": 13,
   "metadata": {
    "ExecuteTime": {
     "end_time": "2025-01-05T11:59:19.202248Z",
     "start_time": "2025-01-05T11:59:19.120212Z"
    }
   },
   "outputs": [
    {
     "name": "stdout",
     "output_type": "stream",
     "text": [
      "\u001b[1m1/1\u001b[0m \u001b[32m━━━━━━━━━━━━━━━━━━━━\u001b[0m\u001b[37m\u001b[0m \u001b[1m0s\u001b[0m 59ms/step\n"
     ]
    }
   ],
   "source": [
    "predictions = model.predict(X)"
   ]
  },
  {
   "cell_type": "code",
   "execution_count": 14,
   "metadata": {
    "ExecuteTime": {
     "end_time": "2025-01-05T11:59:19.209037Z",
     "start_time": "2025-01-05T11:59:19.204553Z"
    }
   },
   "outputs": [
    {
     "data": {
      "text/plain": [
       "array([[0.7558749 , 0.78590834, 0.764528  , 0.75248384, 0.7892312 ,\n",
       "        0.73513407, 0.737531  , 0.7450325 , 0.7272974 , 0.7641749 ]],\n",
       "      dtype=float32)"
      ]
     },
     "execution_count": 14,
     "metadata": {},
     "output_type": "execute_result"
    }
   ],
   "source": [
    "predictions"
   ]
  },
  {
   "cell_type": "code",
   "execution_count": 15,
   "metadata": {
    "ExecuteTime": {
     "end_time": "2025-01-05T11:59:19.210643Z",
     "start_time": "2025-01-05T11:59:19.208026Z"
    }
   },
   "outputs": [
    {
     "data": {
      "text/plain": [
       "array([[197.87308, 205.35262, 200.02806, 197.02858, 206.18015, 192.7078 ,\n",
       "        193.30473, 195.1729 , 190.75616, 199.94012]], dtype=float32)"
      ]
     },
     "execution_count": 15,
     "metadata": {},
     "output_type": "execute_result"
    }
   ],
   "source": [
    "predictions_unscaled =  scaler_labels.inverse_transform(predictions)\n",
    "predictions_unscaled\n"
   ]
  },
  {
   "cell_type": "code",
   "execution_count": 16,
   "metadata": {
    "ExecuteTime": {
     "end_time": "2025-01-05T11:59:19.213827Z",
     "start_time": "2025-01-05T11:59:19.210399Z"
    }
   },
   "outputs": [],
   "source": [
    "\n",
    "timestamps = [today + (i+1) * seconds_in_one_day for i in range(len(predictions[0]))]"
   ]
  },
  {
   "cell_type": "code",
   "execution_count": 17,
   "metadata": {
    "ExecuteTime": {
     "end_time": "2025-01-05T11:59:19.377611Z",
     "start_time": "2025-01-05T11:59:19.214409Z"
    }
   },
   "outputs": [],
   "source": [
    "monitor_fg = fs.get_or_create_feature_group(\n",
    "    name='solana_predictions',\n",
    "    description='Solana_predictions',\n",
    "    version=4,\n",
    "    primary_key=['date']\n",
    ")"
   ]
  },
  {
   "cell_type": "code",
   "execution_count": 18,
   "metadata": {
    "ExecuteTime": {
     "end_time": "2025-01-05T11:59:19.387347Z",
     "start_time": "2025-01-05T11:59:19.383961Z"
    }
   },
   "outputs": [
    {
     "data": {
      "text/html": [
       "<div>\n",
       "<style scoped>\n",
       "    .dataframe tbody tr th:only-of-type {\n",
       "        vertical-align: middle;\n",
       "    }\n",
       "\n",
       "    .dataframe tbody tr th {\n",
       "        vertical-align: top;\n",
       "    }\n",
       "\n",
       "    .dataframe thead th {\n",
       "        text-align: right;\n",
       "    }\n",
       "</style>\n",
       "<table border=\"1\" class=\"dataframe\">\n",
       "  <thead>\n",
       "    <tr style=\"text-align: right;\">\n",
       "      <th></th>\n",
       "      <th>timestamp</th>\n",
       "      <th>open_solana</th>\n",
       "    </tr>\n",
       "  </thead>\n",
       "  <tbody>\n",
       "    <tr>\n",
       "      <th>0</th>\n",
       "      <td>1736164744</td>\n",
       "      <td>197.873077</td>\n",
       "    </tr>\n",
       "    <tr>\n",
       "      <th>1</th>\n",
       "      <td>1736251144</td>\n",
       "      <td>205.352615</td>\n",
       "    </tr>\n",
       "    <tr>\n",
       "      <th>2</th>\n",
       "      <td>1736337544</td>\n",
       "      <td>200.028061</td>\n",
       "    </tr>\n",
       "    <tr>\n",
       "      <th>3</th>\n",
       "      <td>1736423944</td>\n",
       "      <td>197.028580</td>\n",
       "    </tr>\n",
       "    <tr>\n",
       "      <th>4</th>\n",
       "      <td>1736510344</td>\n",
       "      <td>206.180145</td>\n",
       "    </tr>\n",
       "    <tr>\n",
       "      <th>5</th>\n",
       "      <td>1736596744</td>\n",
       "      <td>192.707794</td>\n",
       "    </tr>\n",
       "    <tr>\n",
       "      <th>6</th>\n",
       "      <td>1736683144</td>\n",
       "      <td>193.304733</td>\n",
       "    </tr>\n",
       "    <tr>\n",
       "      <th>7</th>\n",
       "      <td>1736769544</td>\n",
       "      <td>195.172897</td>\n",
       "    </tr>\n",
       "    <tr>\n",
       "      <th>8</th>\n",
       "      <td>1736855944</td>\n",
       "      <td>190.756165</td>\n",
       "    </tr>\n",
       "    <tr>\n",
       "      <th>9</th>\n",
       "      <td>1736942344</td>\n",
       "      <td>199.940125</td>\n",
       "    </tr>\n",
       "  </tbody>\n",
       "</table>\n",
       "</div>"
      ],
      "text/plain": [
       "    timestamp  open_solana\n",
       "0  1736164744   197.873077\n",
       "1  1736251144   205.352615\n",
       "2  1736337544   200.028061\n",
       "3  1736423944   197.028580\n",
       "4  1736510344   206.180145\n",
       "5  1736596744   192.707794\n",
       "6  1736683144   193.304733\n",
       "7  1736769544   195.172897\n",
       "8  1736855944   190.756165\n",
       "9  1736942344   199.940125"
      ]
     },
     "execution_count": 18,
     "metadata": {},
     "output_type": "execute_result"
    }
   ],
   "source": [
    "result = pd.DataFrame(columns=['timestamp', \"open_solana\"])\n",
    "result[\"timestamp\"]=timestamps\n",
    "result[\"open_solana\"]=predictions_unscaled[0]\n",
    "result"
   ]
  },
  {
   "cell_type": "code",
   "execution_count": 19,
   "metadata": {
    "ExecuteTime": {
     "end_time": "2025-01-05T11:59:19.394930Z",
     "start_time": "2025-01-05T11:59:19.392443Z"
    },
    "collapsed": false
   },
   "outputs": [
    {
     "data": {
      "text/html": [
       "<div>\n",
       "<style scoped>\n",
       "    .dataframe tbody tr th:only-of-type {\n",
       "        vertical-align: middle;\n",
       "    }\n",
       "\n",
       "    .dataframe tbody tr th {\n",
       "        vertical-align: top;\n",
       "    }\n",
       "\n",
       "    .dataframe thead th {\n",
       "        text-align: right;\n",
       "    }\n",
       "</style>\n",
       "<table border=\"1\" class=\"dataframe\">\n",
       "  <thead>\n",
       "    <tr style=\"text-align: right;\">\n",
       "      <th></th>\n",
       "      <th>open_solana</th>\n",
       "      <th>date</th>\n",
       "    </tr>\n",
       "  </thead>\n",
       "  <tbody>\n",
       "    <tr>\n",
       "      <th>0</th>\n",
       "      <td>197.873077</td>\n",
       "      <td>2025-01-06</td>\n",
       "    </tr>\n",
       "    <tr>\n",
       "      <th>1</th>\n",
       "      <td>205.352615</td>\n",
       "      <td>2025-01-07</td>\n",
       "    </tr>\n",
       "    <tr>\n",
       "      <th>2</th>\n",
       "      <td>200.028061</td>\n",
       "      <td>2025-01-08</td>\n",
       "    </tr>\n",
       "    <tr>\n",
       "      <th>3</th>\n",
       "      <td>197.028580</td>\n",
       "      <td>2025-01-09</td>\n",
       "    </tr>\n",
       "    <tr>\n",
       "      <th>4</th>\n",
       "      <td>206.180145</td>\n",
       "      <td>2025-01-10</td>\n",
       "    </tr>\n",
       "    <tr>\n",
       "      <th>5</th>\n",
       "      <td>192.707794</td>\n",
       "      <td>2025-01-11</td>\n",
       "    </tr>\n",
       "    <tr>\n",
       "      <th>6</th>\n",
       "      <td>193.304733</td>\n",
       "      <td>2025-01-12</td>\n",
       "    </tr>\n",
       "    <tr>\n",
       "      <th>7</th>\n",
       "      <td>195.172897</td>\n",
       "      <td>2025-01-13</td>\n",
       "    </tr>\n",
       "    <tr>\n",
       "      <th>8</th>\n",
       "      <td>190.756165</td>\n",
       "      <td>2025-01-14</td>\n",
       "    </tr>\n",
       "    <tr>\n",
       "      <th>9</th>\n",
       "      <td>199.940125</td>\n",
       "      <td>2025-01-15</td>\n",
       "    </tr>\n",
       "  </tbody>\n",
       "</table>\n",
       "</div>"
      ],
      "text/plain": [
       "   open_solana       date\n",
       "0   197.873077 2025-01-06\n",
       "1   205.352615 2025-01-07\n",
       "2   200.028061 2025-01-08\n",
       "3   197.028580 2025-01-09\n",
       "4   206.180145 2025-01-10\n",
       "5   192.707794 2025-01-11\n",
       "6   193.304733 2025-01-12\n",
       "7   195.172897 2025-01-13\n",
       "8   190.756165 2025-01-14\n",
       "9   199.940125 2025-01-15"
      ]
     },
     "execution_count": 19,
     "metadata": {},
     "output_type": "execute_result"
    }
   ],
   "source": [
    "result['date'] = pd.to_datetime(result['timestamp'], unit='s')\n",
    "result['date'] = result['date'].dt.normalize()\n",
    "result= result.sort_values(by=['date'])\n",
    "\n",
    "result.drop(columns=[\"timestamp\"], inplace=True)\n",
    "\n",
    "result"
   ]
  },
  {
   "cell_type": "code",
   "execution_count": 20,
   "metadata": {
    "ExecuteTime": {
     "end_time": "2025-01-05T11:59:19.439332Z",
     "start_time": "2025-01-05T11:59:19.402721Z"
    },
    "collapsed": false
   },
   "outputs": [
    {
     "data": {
      "text/html": [
       "<div>\n",
       "<style scoped>\n",
       "    .dataframe tbody tr th:only-of-type {\n",
       "        vertical-align: middle;\n",
       "    }\n",
       "\n",
       "    .dataframe tbody tr th {\n",
       "        vertical-align: top;\n",
       "    }\n",
       "\n",
       "    .dataframe thead th {\n",
       "        text-align: right;\n",
       "    }\n",
       "</style>\n",
       "<table border=\"1\" class=\"dataframe\">\n",
       "  <thead>\n",
       "    <tr style=\"text-align: right;\">\n",
       "      <th></th>\n",
       "      <th>open_solana</th>\n",
       "      <th>date</th>\n",
       "    </tr>\n",
       "  </thead>\n",
       "  <tbody>\n",
       "    <tr>\n",
       "      <th>12</th>\n",
       "      <td>198.000000</td>\n",
       "      <td>2025-01-03</td>\n",
       "    </tr>\n",
       "    <tr>\n",
       "      <th>11</th>\n",
       "      <td>200.000000</td>\n",
       "      <td>2025-01-04</td>\n",
       "    </tr>\n",
       "    <tr>\n",
       "      <th>10</th>\n",
       "      <td>202.000000</td>\n",
       "      <td>2025-01-05</td>\n",
       "    </tr>\n",
       "    <tr>\n",
       "      <th>0</th>\n",
       "      <td>197.873077</td>\n",
       "      <td>2025-01-06</td>\n",
       "    </tr>\n",
       "    <tr>\n",
       "      <th>1</th>\n",
       "      <td>205.352615</td>\n",
       "      <td>2025-01-07</td>\n",
       "    </tr>\n",
       "    <tr>\n",
       "      <th>2</th>\n",
       "      <td>200.028061</td>\n",
       "      <td>2025-01-08</td>\n",
       "    </tr>\n",
       "    <tr>\n",
       "      <th>3</th>\n",
       "      <td>197.028580</td>\n",
       "      <td>2025-01-09</td>\n",
       "    </tr>\n",
       "    <tr>\n",
       "      <th>4</th>\n",
       "      <td>206.180145</td>\n",
       "      <td>2025-01-10</td>\n",
       "    </tr>\n",
       "    <tr>\n",
       "      <th>5</th>\n",
       "      <td>192.707794</td>\n",
       "      <td>2025-01-11</td>\n",
       "    </tr>\n",
       "    <tr>\n",
       "      <th>6</th>\n",
       "      <td>193.304733</td>\n",
       "      <td>2025-01-12</td>\n",
       "    </tr>\n",
       "    <tr>\n",
       "      <th>7</th>\n",
       "      <td>195.172897</td>\n",
       "      <td>2025-01-13</td>\n",
       "    </tr>\n",
       "    <tr>\n",
       "      <th>8</th>\n",
       "      <td>190.756165</td>\n",
       "      <td>2025-01-14</td>\n",
       "    </tr>\n",
       "    <tr>\n",
       "      <th>9</th>\n",
       "      <td>199.940125</td>\n",
       "      <td>2025-01-15</td>\n",
       "    </tr>\n",
       "  </tbody>\n",
       "</table>\n",
       "</div>"
      ],
      "text/plain": [
       "    open_solana       date\n",
       "12   198.000000 2025-01-03\n",
       "11   200.000000 2025-01-04\n",
       "10   202.000000 2025-01-05\n",
       "0    197.873077 2025-01-06\n",
       "1    205.352615 2025-01-07\n",
       "2    200.028061 2025-01-08\n",
       "3    197.028580 2025-01-09\n",
       "4    206.180145 2025-01-10\n",
       "5    192.707794 2025-01-11\n",
       "6    193.304733 2025-01-12\n",
       "7    195.172897 2025-01-13\n",
       "8    190.756165 2025-01-14\n",
       "9    199.940125 2025-01-15"
      ]
     },
     "execution_count": 20,
     "metadata": {},
     "output_type": "execute_result"
    }
   ],
   "source": [
    "#adding dummy records to test the plots\n",
    "# New record\n",
    "new_record = {\"date\": pd.to_datetime(\"2025-01-05\"), \"open_solana\": 202}\n",
    "new_record_1 = {\"date\": pd.to_datetime(\"2025-01-04\"), \"open_solana\": 200}\n",
    "new_record_2 = {\"date\": pd.to_datetime(\"2025-01-03\"), \"open_solana\": 198}\n",
    "\n",
    "\n",
    "# Append the new record\n",
    "new_record_df = pd.DataFrame([new_record])\n",
    "new_record_df_1 = pd.DataFrame([new_record_1])\n",
    "new_record_df_2 = pd.DataFrame([new_record_2])\n",
    "result = pd.concat([result, new_record_df,new_record_df_1,new_record_df_2], ignore_index=True)\n",
    "result= result.sort_values(by=['date'])\n",
    "\n",
    "result"
   ]
  },
  {
   "cell_type": "code",
   "execution_count": 21,
   "metadata": {
    "ExecuteTime": {
     "end_time": "2025-01-05T11:59:19.456404Z",
     "start_time": "2025-01-05T11:59:19.405614Z"
    }
   },
   "outputs": [],
   "source": [
    "#this is plane and we may have duplicates\n",
    "#monitor_fg.insert(result)"
   ]
  },
  {
   "cell_type": "code",
   "execution_count": 22,
   "metadata": {
    "ExecuteTime": {
     "end_time": "2025-01-05T11:59:34.946155Z",
     "start_time": "2025-01-05T11:59:19.409623Z"
    }
   },
   "outputs": [
    {
     "name": "stdout",
     "output_type": "stream",
     "text": [
      "Feature Group created successfully, explore it at \n",
      "https://c.app.hopsworks.ai:443/p/1160346/fs/1151049/fg/1394563\n"
     ]
    },
    {
     "name": "stderr",
     "output_type": "stream",
     "text": [
      "Uploading Dataframe: 100.00% |██████████| Rows 13/13 | Elapsed Time: 00:01 | Remaining Time: 00:00\n"
     ]
    },
    {
     "name": "stdout",
     "output_type": "stream",
     "text": [
      "Launching job: solana_predictions_4_offline_fg_materialization\n",
      "Job started successfully, you can follow the progress at \n",
      "https://c.app.hopsworks.ai:443/p/1160346/jobs/named/solana_predictions_4_offline_fg_materialization/executions\n"
     ]
    },
    {
     "data": {
      "text/plain": [
       "(Job('solana_predictions_4_offline_fg_materialization', 'SPARK'), None)"
      ]
     },
     "execution_count": 22,
     "metadata": {},
     "output_type": "execute_result"
    }
   ],
   "source": [
    "#this insert prevents duplicates\n",
    "monitor_fg.insert(\n",
    "    result,\n",
    "    # overwrite=False,  # Do not overwrite all data\n",
    "    operation=\"upsert\",  # Use upsert to handle duplicates based on the primary key\n",
    "    #storage=None  # Write to both online and offline storage\n",
    ")"
   ]
  },
  {
   "cell_type": "code",
   "execution_count": 22,
   "metadata": {
    "ExecuteTime": {
     "end_time": "2025-01-05T11:59:34.949906Z",
     "start_time": "2025-01-05T11:59:34.946281Z"
    },
    "collapsed": false
   },
   "outputs": [],
   "source": []
  }
 ],
 "metadata": {
  "kernelspec": {
   "display_name": "crypto-env",
   "language": "python",
   "name": "python3"
  },
  "language_info": {
   "codemirror_mode": {
    "name": "ipython",
    "version": 3
   },
   "file_extension": ".py",
   "mimetype": "text/x-python",
   "name": "python",
   "nbconvert_exporter": "python",
   "pygments_lexer": "ipython3",
   "version": "3.10.16"
  }
 },
 "nbformat": 4,
 "nbformat_minor": 2
}
