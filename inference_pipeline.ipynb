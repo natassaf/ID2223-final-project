{
 "cells": [
  {
   "cell_type": "code",
   "execution_count": 1,
   "metadata": {
    "ExecuteTime": {
     "end_time": "2025-01-04T20:26:04.841765Z",
     "start_time": "2025-01-04T20:26:03.375955Z"
    }
   },
   "outputs": [],
   "source": [
    "import time\n",
    "import hopsworks\n",
    "import os\n",
    "from dotenv import load_dotenv\n",
    "import joblib\n",
    "\n",
    "# from datetime import datetime, timedelta\n",
    "import pandas as pd\n",
    "\n",
    "import hopsworks\n",
    "import matplotlib.pyplot as plt\n",
    "\n",
    "from utils import *\n",
    "import utils\n"
   ]
  },
  {
   "cell_type": "code",
   "execution_count": 2,
   "metadata": {
    "ExecuteTime": {
     "end_time": "2025-01-04T20:26:04.844462Z",
     "start_time": "2025-01-04T20:26:04.842662Z"
    }
   },
   "outputs": [],
   "source": [
    "model_version = 4\n",
    "fng_feature_group_version = 1\n",
    "solana_feature_group_version = 1\n",
    "bitcoin_feature_group_version = 1"
   ]
  },
  {
   "cell_type": "code",
   "execution_count": 3,
   "metadata": {
    "ExecuteTime": {
     "end_time": "2025-01-04T20:26:04.849974Z",
     "start_time": "2025-01-04T20:26:04.846076Z"
    }
   },
   "outputs": [
    {
     "data": {
      "text/plain": [
       "1736022364"
      ]
     },
     "execution_count": 3,
     "metadata": {},
     "output_type": "execute_result"
    }
   ],
   "source": [
    "today = int(time.time())\n",
    "seconds_in_one_day = 24 * 60 * 60\n",
    "today"
   ]
  },
  {
   "cell_type": "code",
   "execution_count": 4,
   "metadata": {
    "ExecuteTime": {
     "end_time": "2025-01-04T20:26:10.183644Z",
     "start_time": "2025-01-04T20:26:04.848665Z"
    }
   },
   "outputs": [
    {
     "name": "stdout",
     "output_type": "stream",
     "text": [
      "2025-01-04 22:26:04,849 INFO: Initializing external client\n",
      "2025-01-04 22:26:04,849 INFO: Base URL: https://c.app.hopsworks.ai:443\n",
      "2025-01-04 22:26:08,811 INFO: Python Engine initialized.\n",
      "\n",
      "Logged in to project, explore it here https://c.app.hopsworks.ai:443/p/1160346\n"
     ]
    }
   ],
   "source": [
    "load_dotenv()\n",
    "#os.environ[\"HOPSWORKS_API_KEY\"] = os.getenv(\"HOPSWORKS_API_KEY\")\n",
    "project = hopsworks.login()\n",
    "#secrets = secrets_api(project.name)\n",
    "# This line will fail if you have not registered the CRYPTO_API_KEY as a secret in Hopsworks\n",
    "#CRYPTO_API_KEY = secrets.get_secret(\"CRYPTO_API_KEY\").value\n",
    "\n",
    "#CRYPTO_API_KEY = os.getenv(\"CRYPTO_API_KEY\")"
   ]
  },
  {
   "cell_type": "code",
   "execution_count": 5,
   "metadata": {
    "ExecuteTime": {
     "end_time": "2025-01-04T20:26:10.354325Z",
     "start_time": "2025-01-04T20:26:10.185938Z"
    }
   },
   "outputs": [
    {
     "data": {
      "text/plain": [
       "1732566364.0"
      ]
     },
     "execution_count": 5,
     "metadata": {},
     "output_type": "execute_result"
    }
   ],
   "source": [
    "fs = project.get_feature_store() \n",
    "starting_timestamp = float(today - 40 * seconds_in_one_day)\n",
    "starting_timestamp\n"
   ]
  },
  {
   "cell_type": "code",
   "execution_count": 6,
   "metadata": {
    "ExecuteTime": {
     "end_time": "2025-01-04T20:26:13.065928Z",
     "start_time": "2025-01-04T20:26:10.354663Z"
    }
   },
   "outputs": [
    {
     "name": "stdout",
     "output_type": "stream",
     "text": [
      "Finished: Reading data from Hopsworks, using Hopsworks Feature Query Service (0.64s) \n"
     ]
    },
    {
     "data": {
      "text/html": [
       "<div>\n",
       "<style scoped>\n",
       "    .dataframe tbody tr th:only-of-type {\n",
       "        vertical-align: middle;\n",
       "    }\n",
       "\n",
       "    .dataframe tbody tr th {\n",
       "        vertical-align: top;\n",
       "    }\n",
       "\n",
       "    .dataframe thead th {\n",
       "        text-align: right;\n",
       "    }\n",
       "</style>\n",
       "<table border=\"1\" class=\"dataframe\">\n",
       "  <thead>\n",
       "    <tr style=\"text-align: right;\">\n",
       "      <th></th>\n",
       "      <th>timestamp</th>\n",
       "      <th>open</th>\n",
       "      <th>high</th>\n",
       "      <th>low</th>\n",
       "      <th>close</th>\n",
       "      <th>volume</th>\n",
       "      <th>volume_buy</th>\n",
       "      <th>volume_sell</th>\n",
       "    </tr>\n",
       "  </thead>\n",
       "  <tbody>\n",
       "    <tr>\n",
       "      <th>0</th>\n",
       "      <td>1732579200</td>\n",
       "      <td>233.96</td>\n",
       "      <td>239.68</td>\n",
       "      <td>221.82</td>\n",
       "      <td>230.68</td>\n",
       "      <td>445887.775346</td>\n",
       "      <td>201503.607457</td>\n",
       "      <td>244384.167889</td>\n",
       "    </tr>\n",
       "    <tr>\n",
       "      <th>1</th>\n",
       "      <td>1732665600</td>\n",
       "      <td>230.68</td>\n",
       "      <td>245.00</td>\n",
       "      <td>227.66</td>\n",
       "      <td>242.26</td>\n",
       "      <td>265621.873707</td>\n",
       "      <td>161330.187523</td>\n",
       "      <td>104291.686184</td>\n",
       "    </tr>\n",
       "    <tr>\n",
       "      <th>2</th>\n",
       "      <td>1732752000</td>\n",
       "      <td>242.26</td>\n",
       "      <td>245.46</td>\n",
       "      <td>233.00</td>\n",
       "      <td>237.59</td>\n",
       "      <td>142466.637324</td>\n",
       "      <td>73142.398338</td>\n",
       "      <td>69324.238987</td>\n",
       "    </tr>\n",
       "    <tr>\n",
       "      <th>3</th>\n",
       "      <td>1732838400</td>\n",
       "      <td>237.59</td>\n",
       "      <td>247.04</td>\n",
       "      <td>236.58</td>\n",
       "      <td>243.47</td>\n",
       "      <td>301558.576846</td>\n",
       "      <td>121169.466633</td>\n",
       "      <td>180389.110213</td>\n",
       "    </tr>\n",
       "    <tr>\n",
       "      <th>4</th>\n",
       "      <td>1732924800</td>\n",
       "      <td>243.47</td>\n",
       "      <td>245.34</td>\n",
       "      <td>237.56</td>\n",
       "      <td>237.75</td>\n",
       "      <td>173213.101124</td>\n",
       "      <td>81975.271321</td>\n",
       "      <td>91237.829804</td>\n",
       "    </tr>\n",
       "  </tbody>\n",
       "</table>\n",
       "</div>"
      ],
      "text/plain": [
       "    timestamp    open    high     low   close         volume     volume_buy  \\\n",
       "0  1732579200  233.96  239.68  221.82  230.68  445887.775346  201503.607457   \n",
       "1  1732665600  230.68  245.00  227.66  242.26  265621.873707  161330.187523   \n",
       "2  1732752000  242.26  245.46  233.00  237.59  142466.637324   73142.398338   \n",
       "3  1732838400  237.59  247.04  236.58  243.47  301558.576846  121169.466633   \n",
       "4  1732924800  243.47  245.34  237.56  237.75  173213.101124   81975.271321   \n",
       "\n",
       "     volume_sell  \n",
       "0  244384.167889  \n",
       "1  104291.686184  \n",
       "2   69324.238987  \n",
       "3  180389.110213  \n",
       "4   91237.829804  "
      ]
     },
     "execution_count": 6,
     "metadata": {},
     "output_type": "execute_result"
    }
   ],
   "source": [
    "solana_feature_group = fs.get_feature_group(\n",
    "    name=\"solana\",  \n",
    "    version=solana_feature_group_version\n",
    ")\n",
    "\n",
    "solana_batch_data = solana_feature_group.filter(solana_feature_group.timestamp >= starting_timestamp).read().sort_values(by='timestamp', inplace=False).reset_index(drop=True)\n",
    "solana_batch_data.head()"
   ]
  },
  {
   "cell_type": "code",
   "execution_count": 7,
   "metadata": {
    "ExecuteTime": {
     "end_time": "2025-01-04T20:26:14.700211Z",
     "start_time": "2025-01-04T20:26:13.065822Z"
    }
   },
   "outputs": [
    {
     "name": "stdout",
     "output_type": "stream",
     "text": [
      "Finished: Reading data from Hopsworks, using Hopsworks Feature Query Service (0.54s) \n"
     ]
    },
    {
     "data": {
      "text/html": [
       "<div>\n",
       "<style scoped>\n",
       "    .dataframe tbody tr th:only-of-type {\n",
       "        vertical-align: middle;\n",
       "    }\n",
       "\n",
       "    .dataframe tbody tr th {\n",
       "        vertical-align: top;\n",
       "    }\n",
       "\n",
       "    .dataframe thead th {\n",
       "        text-align: right;\n",
       "    }\n",
       "</style>\n",
       "<table border=\"1\" class=\"dataframe\">\n",
       "  <thead>\n",
       "    <tr style=\"text-align: right;\">\n",
       "      <th></th>\n",
       "      <th>timestamp</th>\n",
       "      <th>open</th>\n",
       "    </tr>\n",
       "  </thead>\n",
       "  <tbody>\n",
       "    <tr>\n",
       "      <th>0</th>\n",
       "      <td>1732579200</td>\n",
       "      <td>93000.0</td>\n",
       "    </tr>\n",
       "    <tr>\n",
       "      <th>1</th>\n",
       "      <td>1732665600</td>\n",
       "      <td>91914.5</td>\n",
       "    </tr>\n",
       "    <tr>\n",
       "      <th>2</th>\n",
       "      <td>1732752000</td>\n",
       "      <td>95952.9</td>\n",
       "    </tr>\n",
       "    <tr>\n",
       "      <th>3</th>\n",
       "      <td>1732838400</td>\n",
       "      <td>95637.8</td>\n",
       "    </tr>\n",
       "    <tr>\n",
       "      <th>4</th>\n",
       "      <td>1732924800</td>\n",
       "      <td>97478.7</td>\n",
       "    </tr>\n",
       "  </tbody>\n",
       "</table>\n",
       "</div>"
      ],
      "text/plain": [
       "    timestamp     open\n",
       "0  1732579200  93000.0\n",
       "1  1732665600  91914.5\n",
       "2  1732752000  95952.9\n",
       "3  1732838400  95637.8\n",
       "4  1732924800  97478.7"
      ]
     },
     "execution_count": 7,
     "metadata": {},
     "output_type": "execute_result"
    }
   ],
   "source": [
    "bitcoin_feature_group = fs.get_feature_group(\n",
    "    name=\"bitcoin\",  \n",
    "    version=bitcoin_feature_group_version\n",
    ")\n",
    "bitcoin_batch_data = bitcoin_feature_group.filter(bitcoin_feature_group.timestamp >= starting_timestamp).read().sort_values(by='timestamp', inplace=False).reset_index(drop=True)\n",
    "bitcoin_batch_data = bitcoin_batch_data[[\"timestamp\",\"open\"]]\n",
    "bitcoin_batch_data.head()"
   ]
  },
  {
   "cell_type": "code",
   "execution_count": 8,
   "metadata": {
    "ExecuteTime": {
     "end_time": "2025-01-04T20:26:16.350656Z",
     "start_time": "2025-01-04T20:26:14.700992Z"
    }
   },
   "outputs": [
    {
     "name": "stdout",
     "output_type": "stream",
     "text": [
      "Finished: Reading data from Hopsworks, using Hopsworks Feature Query Service (0.69s) \n"
     ]
    },
    {
     "data": {
      "text/html": [
       "<div>\n",
       "<style scoped>\n",
       "    .dataframe tbody tr th:only-of-type {\n",
       "        vertical-align: middle;\n",
       "    }\n",
       "\n",
       "    .dataframe tbody tr th {\n",
       "        vertical-align: top;\n",
       "    }\n",
       "\n",
       "    .dataframe thead th {\n",
       "        text-align: right;\n",
       "    }\n",
       "</style>\n",
       "<table border=\"1\" class=\"dataframe\">\n",
       "  <thead>\n",
       "    <tr style=\"text-align: right;\">\n",
       "      <th></th>\n",
       "      <th>fng_value</th>\n",
       "      <th>fng_classification</th>\n",
       "      <th>timestamp</th>\n",
       "    </tr>\n",
       "  </thead>\n",
       "  <tbody>\n",
       "    <tr>\n",
       "      <th>0</th>\n",
       "      <td>79</td>\n",
       "      <td>4</td>\n",
       "      <td>1.732579e+09</td>\n",
       "    </tr>\n",
       "    <tr>\n",
       "      <th>1</th>\n",
       "      <td>75</td>\n",
       "      <td>3</td>\n",
       "      <td>1.732666e+09</td>\n",
       "    </tr>\n",
       "    <tr>\n",
       "      <th>2</th>\n",
       "      <td>77</td>\n",
       "      <td>4</td>\n",
       "      <td>1.732752e+09</td>\n",
       "    </tr>\n",
       "    <tr>\n",
       "      <th>3</th>\n",
       "      <td>78</td>\n",
       "      <td>4</td>\n",
       "      <td>1.732838e+09</td>\n",
       "    </tr>\n",
       "    <tr>\n",
       "      <th>4</th>\n",
       "      <td>84</td>\n",
       "      <td>4</td>\n",
       "      <td>1.732925e+09</td>\n",
       "    </tr>\n",
       "  </tbody>\n",
       "</table>\n",
       "</div>"
      ],
      "text/plain": [
       "  fng_value  fng_classification     timestamp\n",
       "0        79                   4  1.732579e+09\n",
       "1        75                   3  1.732666e+09\n",
       "2        77                   4  1.732752e+09\n",
       "3        78                   4  1.732838e+09\n",
       "4        84                   4  1.732925e+09"
      ]
     },
     "execution_count": 8,
     "metadata": {},
     "output_type": "execute_result"
    }
   ],
   "source": [
    "fng_feature_group = fs.get_feature_group(\n",
    "    'f_n_g_index',\n",
    "    version=fng_feature_group_version\n",
    ")\n",
    "fng_batch_data = fng_feature_group.filter(fng_feature_group.timestamp >= starting_timestamp).read().sort_values(by='timestamp', inplace=False).reset_index(drop=True)\n",
    "fng_batch_data['fng_classification'] = fng_batch_data['fng_classification'].map(fng_labels_to_numbers_map)\n",
    "fng_batch_data.head()"
   ]
  },
  {
   "cell_type": "code",
   "execution_count": 9,
   "metadata": {
    "ExecuteTime": {
     "end_time": "2025-01-04T20:26:20.940156Z",
     "start_time": "2025-01-04T20:26:16.349434Z"
    }
   },
   "outputs": [
    {
     "name": "stdout",
     "output_type": "stream",
     "text": [
      "/var/folders/rh/xp6gtwpn19s_8lqdxq8sdl0r0000gn/T/b9437687-934a-40ba-82ef-5fa038dbc6f2/solana_price_daily_model_10d/4\n"
     ]
    },
    {
     "data": {
      "text/plain": [
       "<Sequential name=sequential, built=True>"
      ]
     },
     "execution_count": 9,
     "metadata": {},
     "output_type": "execute_result"
    }
   ],
   "source": [
    "from tensorflow.keras.models import load_model\n",
    "\n",
    "mr = project.get_model_registry()\n",
    "\n",
    "retrieved_model = mr.get_model(\n",
    "    name=\"solana_price_daily_model_10d\",\n",
    "    version=model_version,\n",
    ")\n",
    "saved_model_dir = retrieved_model.download()\n",
    "print(saved_model_dir)\n",
    "model = load_model(saved_model_dir+'/best_model.keras')\n",
    "model\n"
   ]
  },
  {
   "cell_type": "code",
   "execution_count": 10,
   "metadata": {
    "ExecuteTime": {
     "end_time": "2025-01-04T20:26:20.951284Z",
     "start_time": "2025-01-04T20:26:20.944216Z"
    }
   },
   "outputs": [
    {
     "data": {
      "text/html": [
       "<div>\n",
       "<style scoped>\n",
       "    .dataframe tbody tr th:only-of-type {\n",
       "        vertical-align: middle;\n",
       "    }\n",
       "\n",
       "    .dataframe tbody tr th {\n",
       "        vertical-align: top;\n",
       "    }\n",
       "\n",
       "    .dataframe thead th {\n",
       "        text-align: right;\n",
       "    }\n",
       "</style>\n",
       "<table border=\"1\" class=\"dataframe\">\n",
       "  <thead>\n",
       "    <tr style=\"text-align: right;\">\n",
       "      <th></th>\n",
       "      <th>high</th>\n",
       "      <th>low</th>\n",
       "      <th>close</th>\n",
       "      <th>volume</th>\n",
       "      <th>volume_buy</th>\n",
       "      <th>volume_sell</th>\n",
       "      <th>open_bitcoin</th>\n",
       "      <th>fng_value</th>\n",
       "      <th>fng_classification</th>\n",
       "      <th>open_solana</th>\n",
       "    </tr>\n",
       "  </thead>\n",
       "  <tbody>\n",
       "    <tr>\n",
       "      <th>0</th>\n",
       "      <td>239.68</td>\n",
       "      <td>221.82</td>\n",
       "      <td>230.68</td>\n",
       "      <td>445887.775346</td>\n",
       "      <td>201503.607457</td>\n",
       "      <td>244384.167889</td>\n",
       "      <td>93000.0</td>\n",
       "      <td>79</td>\n",
       "      <td>4</td>\n",
       "      <td>233.96</td>\n",
       "    </tr>\n",
       "    <tr>\n",
       "      <th>1</th>\n",
       "      <td>245.00</td>\n",
       "      <td>227.66</td>\n",
       "      <td>242.26</td>\n",
       "      <td>265621.873707</td>\n",
       "      <td>161330.187523</td>\n",
       "      <td>104291.686184</td>\n",
       "      <td>91914.5</td>\n",
       "      <td>75</td>\n",
       "      <td>3</td>\n",
       "      <td>230.68</td>\n",
       "    </tr>\n",
       "    <tr>\n",
       "      <th>2</th>\n",
       "      <td>245.46</td>\n",
       "      <td>233.00</td>\n",
       "      <td>237.59</td>\n",
       "      <td>142466.637324</td>\n",
       "      <td>73142.398338</td>\n",
       "      <td>69324.238987</td>\n",
       "      <td>95952.9</td>\n",
       "      <td>77</td>\n",
       "      <td>4</td>\n",
       "      <td>242.26</td>\n",
       "    </tr>\n",
       "    <tr>\n",
       "      <th>3</th>\n",
       "      <td>247.04</td>\n",
       "      <td>236.58</td>\n",
       "      <td>243.47</td>\n",
       "      <td>301558.576846</td>\n",
       "      <td>121169.466633</td>\n",
       "      <td>180389.110213</td>\n",
       "      <td>95637.8</td>\n",
       "      <td>78</td>\n",
       "      <td>4</td>\n",
       "      <td>237.59</td>\n",
       "    </tr>\n",
       "    <tr>\n",
       "      <th>4</th>\n",
       "      <td>245.34</td>\n",
       "      <td>237.56</td>\n",
       "      <td>237.75</td>\n",
       "      <td>173213.101124</td>\n",
       "      <td>81975.271321</td>\n",
       "      <td>91237.829804</td>\n",
       "      <td>97478.7</td>\n",
       "      <td>84</td>\n",
       "      <td>4</td>\n",
       "      <td>243.47</td>\n",
       "    </tr>\n",
       "  </tbody>\n",
       "</table>\n",
       "</div>"
      ],
      "text/plain": [
       "     high     low   close         volume     volume_buy    volume_sell  \\\n",
       "0  239.68  221.82  230.68  445887.775346  201503.607457  244384.167889   \n",
       "1  245.00  227.66  242.26  265621.873707  161330.187523  104291.686184   \n",
       "2  245.46  233.00  237.59  142466.637324   73142.398338   69324.238987   \n",
       "3  247.04  236.58  243.47  301558.576846  121169.466633  180389.110213   \n",
       "4  245.34  237.56  237.75  173213.101124   81975.271321   91237.829804   \n",
       "\n",
       "   open_bitcoin fng_value  fng_classification  open_solana  \n",
       "0       93000.0        79                   4       233.96  \n",
       "1       91914.5        75                   3       230.68  \n",
       "2       95952.9        77                   4       242.26  \n",
       "3       95637.8        78                   4       237.59  \n",
       "4       97478.7        84                   4       243.47  "
      ]
     },
     "execution_count": 10,
     "metadata": {},
     "output_type": "execute_result"
    }
   ],
   "source": [
    "all_data = pd.merge(solana_batch_data, bitcoin_batch_data, how='inner', on=\"timestamp\",suffixes=('_solana', '_bitcoin'))  \n",
    "all_data = pd.merge(all_data, fng_batch_data, how='inner', on=\"timestamp\")\n",
    "\n",
    "if \"timestamp\" in all_data.columns:\n",
    "    all_data = all_data.drop(columns=['timestamp'])\n",
    "\n",
    "target_column = 'open_solana'\n",
    "all_data = utils.move_target_at_the_end(all_data, target_column)\n",
    "all_data_values = all_data.values[-30:]\n",
    "\n",
    "all_data.head()"
   ]
  },
  {
   "cell_type": "code",
   "execution_count": 11,
   "metadata": {
    "ExecuteTime": {
     "end_time": "2025-01-04T20:26:20.999585Z",
     "start_time": "2025-01-04T20:26:20.947377Z"
    }
   },
   "outputs": [
    {
     "name": "stderr",
     "output_type": "stream",
     "text": [
      "InconsistentVersionWarning: Trying to unpickle estimator MinMaxScaler from version 1.6.0 when using version 1.5.2. This might lead to breaking code or invalid results. Use at your own risk. For more info please refer to:\n",
      "https://scikit-learn.org/stable/model_persistence.html#security-maintainability-limitations\n"
     ]
    }
   ],
   "source": [
    "model_workspace = \"solana_price_10d_scalers/\" \n",
    "scaler_labels = joblib.load(model_workspace+'scaler_labels.pkl')\n",
    "scaler_features = joblib.load(model_workspace+'scaler_features.pkl')\n",
    "\n",
    "all_data_values = scaler_features.transform(all_data_values)\n",
    "X = all_data_values.reshape(1, 30, 10)\n"
   ]
  },
  {
   "cell_type": "code",
   "execution_count": 12,
   "metadata": {
    "ExecuteTime": {
     "end_time": "2025-01-04T20:26:20.999959Z",
     "start_time": "2025-01-04T20:26:20.994652Z"
    }
   },
   "outputs": [
    {
     "data": {
      "text/plain": [
       "Index(['high', 'low', 'close', 'volume', 'volume_buy', 'volume_sell',\n",
       "       'open_bitcoin', 'fng_value', 'fng_classification', 'open_solana'],\n",
       "      dtype='object')"
      ]
     },
     "execution_count": 12,
     "metadata": {},
     "output_type": "execute_result"
    }
   ],
   "source": [
    "all_data.columns"
   ]
  },
  {
   "cell_type": "code",
   "execution_count": 13,
   "metadata": {
    "ExecuteTime": {
     "end_time": "2025-01-04T20:26:21.081229Z",
     "start_time": "2025-01-04T20:26:20.997828Z"
    }
   },
   "outputs": [
    {
     "name": "stdout",
     "output_type": "stream",
     "text": [
      "\u001b[1m1/1\u001b[0m \u001b[32m━━━━━━━━━━━━━━━━━━━━\u001b[0m\u001b[37m\u001b[0m \u001b[1m0s\u001b[0m 62ms/step\n"
     ]
    }
   ],
   "source": [
    "predictions = model.predict(X)"
   ]
  },
  {
   "cell_type": "code",
   "execution_count": 14,
   "metadata": {
    "ExecuteTime": {
     "end_time": "2025-01-04T20:26:21.087630Z",
     "start_time": "2025-01-04T20:26:21.084397Z"
    }
   },
   "outputs": [
    {
     "data": {
      "text/plain": [
       "array([[0.7558749 , 0.78590834, 0.764528  , 0.75248384, 0.7892312 ,\n",
       "        0.73513407, 0.737531  , 0.7450325 , 0.7272974 , 0.7641749 ]],\n",
       "      dtype=float32)"
      ]
     },
     "execution_count": 14,
     "metadata": {},
     "output_type": "execute_result"
    }
   ],
   "source": [
    "predictions"
   ]
  },
  {
   "cell_type": "code",
   "execution_count": 15,
   "metadata": {
    "ExecuteTime": {
     "end_time": "2025-01-04T20:26:21.089888Z",
     "start_time": "2025-01-04T20:26:21.087824Z"
    }
   },
   "outputs": [
    {
     "data": {
      "text/plain": [
       "array([[197.87308, 205.35262, 200.02806, 197.02858, 206.18015, 192.7078 ,\n",
       "        193.30473, 195.1729 , 190.75616, 199.94012]], dtype=float32)"
      ]
     },
     "execution_count": 15,
     "metadata": {},
     "output_type": "execute_result"
    }
   ],
   "source": [
    "predictions_unscaled =  scaler_labels.inverse_transform(predictions)\n",
    "predictions_unscaled\n"
   ]
  },
  {
   "cell_type": "code",
   "execution_count": 16,
   "metadata": {
    "ExecuteTime": {
     "end_time": "2025-01-04T20:26:21.096210Z",
     "start_time": "2025-01-04T20:26:21.090468Z"
    }
   },
   "outputs": [],
   "source": [
    "\n",
    "timestamps = [today + (i+1) * seconds_in_one_day for i in range(len(predictions[0]))]"
   ]
  },
  {
   "cell_type": "code",
   "execution_count": 17,
   "metadata": {
    "ExecuteTime": {
     "end_time": "2025-01-04T20:26:21.522188Z",
     "start_time": "2025-01-04T20:26:21.093544Z"
    }
   },
   "outputs": [],
   "source": [
    "monitor_fg = fs.get_or_create_feature_group(\n",
    "    name='solana_predictions',\n",
    "    description='Solana_predictions',\n",
    "    version=1,\n",
    "    primary_key=['timestamp']\n",
    ")"
   ]
  },
  {
   "cell_type": "code",
   "execution_count": 18,
   "metadata": {
    "ExecuteTime": {
     "end_time": "2025-01-04T20:26:21.523100Z",
     "start_time": "2025-01-04T20:26:21.484430Z"
    }
   },
   "outputs": [
    {
     "data": {
      "text/html": [
       "<div>\n",
       "<style scoped>\n",
       "    .dataframe tbody tr th:only-of-type {\n",
       "        vertical-align: middle;\n",
       "    }\n",
       "\n",
       "    .dataframe tbody tr th {\n",
       "        vertical-align: top;\n",
       "    }\n",
       "\n",
       "    .dataframe thead th {\n",
       "        text-align: right;\n",
       "    }\n",
       "</style>\n",
       "<table border=\"1\" class=\"dataframe\">\n",
       "  <thead>\n",
       "    <tr style=\"text-align: right;\">\n",
       "      <th></th>\n",
       "      <th>timestamp</th>\n",
       "      <th>open_solana</th>\n",
       "    </tr>\n",
       "  </thead>\n",
       "  <tbody>\n",
       "    <tr>\n",
       "      <th>0</th>\n",
       "      <td>1736108764</td>\n",
       "      <td>197.873077</td>\n",
       "    </tr>\n",
       "    <tr>\n",
       "      <th>1</th>\n",
       "      <td>1736195164</td>\n",
       "      <td>205.352615</td>\n",
       "    </tr>\n",
       "    <tr>\n",
       "      <th>2</th>\n",
       "      <td>1736281564</td>\n",
       "      <td>200.028061</td>\n",
       "    </tr>\n",
       "    <tr>\n",
       "      <th>3</th>\n",
       "      <td>1736367964</td>\n",
       "      <td>197.028580</td>\n",
       "    </tr>\n",
       "    <tr>\n",
       "      <th>4</th>\n",
       "      <td>1736454364</td>\n",
       "      <td>206.180145</td>\n",
       "    </tr>\n",
       "    <tr>\n",
       "      <th>5</th>\n",
       "      <td>1736540764</td>\n",
       "      <td>192.707794</td>\n",
       "    </tr>\n",
       "    <tr>\n",
       "      <th>6</th>\n",
       "      <td>1736627164</td>\n",
       "      <td>193.304733</td>\n",
       "    </tr>\n",
       "    <tr>\n",
       "      <th>7</th>\n",
       "      <td>1736713564</td>\n",
       "      <td>195.172897</td>\n",
       "    </tr>\n",
       "    <tr>\n",
       "      <th>8</th>\n",
       "      <td>1736799964</td>\n",
       "      <td>190.756165</td>\n",
       "    </tr>\n",
       "    <tr>\n",
       "      <th>9</th>\n",
       "      <td>1736886364</td>\n",
       "      <td>199.940125</td>\n",
       "    </tr>\n",
       "  </tbody>\n",
       "</table>\n",
       "</div>"
      ],
      "text/plain": [
       "    timestamp  open_solana\n",
       "0  1736108764   197.873077\n",
       "1  1736195164   205.352615\n",
       "2  1736281564   200.028061\n",
       "3  1736367964   197.028580\n",
       "4  1736454364   206.180145\n",
       "5  1736540764   192.707794\n",
       "6  1736627164   193.304733\n",
       "7  1736713564   195.172897\n",
       "8  1736799964   190.756165\n",
       "9  1736886364   199.940125"
      ]
     },
     "execution_count": 18,
     "metadata": {},
     "output_type": "execute_result"
    }
   ],
   "source": [
    "result = pd.DataFrame(columns=['timestamp', \"open_solana\"])\n",
    "result[\"timestamp\"]=timestamps\n",
    "result[\"open_solana\"]=predictions_unscaled[0]\n",
    "result"
   ]
  },
  {
   "cell_type": "code",
   "execution_count": 19,
   "metadata": {
    "ExecuteTime": {
     "end_time": "2025-01-04T20:26:21.523739Z",
     "start_time": "2025-01-04T20:26:21.506803Z"
    },
    "collapsed": false
   },
   "outputs": [
    {
     "data": {
      "text/html": [
       "<div>\n",
       "<style scoped>\n",
       "    .dataframe tbody tr th:only-of-type {\n",
       "        vertical-align: middle;\n",
       "    }\n",
       "\n",
       "    .dataframe tbody tr th {\n",
       "        vertical-align: top;\n",
       "    }\n",
       "\n",
       "    .dataframe thead th {\n",
       "        text-align: right;\n",
       "    }\n",
       "</style>\n",
       "<table border=\"1\" class=\"dataframe\">\n",
       "  <thead>\n",
       "    <tr style=\"text-align: right;\">\n",
       "      <th></th>\n",
       "      <th>timestamp</th>\n",
       "      <th>open_solana</th>\n",
       "      <th>date</th>\n",
       "    </tr>\n",
       "  </thead>\n",
       "  <tbody>\n",
       "    <tr>\n",
       "      <th>0</th>\n",
       "      <td>1736108764</td>\n",
       "      <td>197.873077</td>\n",
       "      <td>2025-01-05</td>\n",
       "    </tr>\n",
       "    <tr>\n",
       "      <th>1</th>\n",
       "      <td>1736195164</td>\n",
       "      <td>205.352615</td>\n",
       "      <td>2025-01-06</td>\n",
       "    </tr>\n",
       "    <tr>\n",
       "      <th>2</th>\n",
       "      <td>1736281564</td>\n",
       "      <td>200.028061</td>\n",
       "      <td>2025-01-07</td>\n",
       "    </tr>\n",
       "    <tr>\n",
       "      <th>3</th>\n",
       "      <td>1736367964</td>\n",
       "      <td>197.028580</td>\n",
       "      <td>2025-01-08</td>\n",
       "    </tr>\n",
       "    <tr>\n",
       "      <th>4</th>\n",
       "      <td>1736454364</td>\n",
       "      <td>206.180145</td>\n",
       "      <td>2025-01-09</td>\n",
       "    </tr>\n",
       "    <tr>\n",
       "      <th>5</th>\n",
       "      <td>1736540764</td>\n",
       "      <td>192.707794</td>\n",
       "      <td>2025-01-10</td>\n",
       "    </tr>\n",
       "    <tr>\n",
       "      <th>6</th>\n",
       "      <td>1736627164</td>\n",
       "      <td>193.304733</td>\n",
       "      <td>2025-01-11</td>\n",
       "    </tr>\n",
       "    <tr>\n",
       "      <th>7</th>\n",
       "      <td>1736713564</td>\n",
       "      <td>195.172897</td>\n",
       "      <td>2025-01-12</td>\n",
       "    </tr>\n",
       "    <tr>\n",
       "      <th>8</th>\n",
       "      <td>1736799964</td>\n",
       "      <td>190.756165</td>\n",
       "      <td>2025-01-13</td>\n",
       "    </tr>\n",
       "    <tr>\n",
       "      <th>9</th>\n",
       "      <td>1736886364</td>\n",
       "      <td>199.940125</td>\n",
       "      <td>2025-01-14</td>\n",
       "    </tr>\n",
       "  </tbody>\n",
       "</table>\n",
       "</div>"
      ],
      "text/plain": [
       "    timestamp  open_solana       date\n",
       "0  1736108764   197.873077 2025-01-05\n",
       "1  1736195164   205.352615 2025-01-06\n",
       "2  1736281564   200.028061 2025-01-07\n",
       "3  1736367964   197.028580 2025-01-08\n",
       "4  1736454364   206.180145 2025-01-09\n",
       "5  1736540764   192.707794 2025-01-10\n",
       "6  1736627164   193.304733 2025-01-11\n",
       "7  1736713564   195.172897 2025-01-12\n",
       "8  1736799964   190.756165 2025-01-13\n",
       "9  1736886364   199.940125 2025-01-14"
      ]
     },
     "execution_count": 19,
     "metadata": {},
     "output_type": "execute_result"
    }
   ],
   "source": [
    "result['date'] = pd.to_datetime(result['timestamp'], unit='s')\n",
    "result['date'] = result['date'].dt.normalize()\n",
    "result= result.sort_values(by=['date'])\n",
    "\n",
    "# result.drop(columns=[\"timestamp\"], inplace=True)\n",
    "\n",
    "result"
   ]
  },
  {
   "cell_type": "code",
   "execution_count": 20,
   "metadata": {
    "ExecuteTime": {
     "end_time": "2025-01-04T20:26:21.523771Z",
     "start_time": "2025-01-04T20:26:21.511959Z"
    }
   },
   "outputs": [],
   "source": [
    "#this is plane and we may have duplicates\n",
    "#monitor_fg.insert(result)"
   ]
  },
  {
   "cell_type": "code",
   "execution_count": 21,
   "metadata": {
    "ExecuteTime": {
     "end_time": "2025-01-04T20:26:34.004411Z",
     "start_time": "2025-01-04T20:26:21.516853Z"
    }
   },
   "outputs": [
    {
     "name": "stderr",
     "output_type": "stream",
     "text": [
      "Uploading Dataframe: 100.00% |██████████| Rows 10/10 | Elapsed Time: 00:01 | Remaining Time: 00:00\n"
     ]
    },
    {
     "name": "stdout",
     "output_type": "stream",
     "text": [
      "Launching job: solana_predictions_1_offline_fg_materialization\n",
      "Job started successfully, you can follow the progress at \n",
      "https://c.app.hopsworks.ai:443/p/1160346/jobs/named/solana_predictions_1_offline_fg_materialization/executions\n"
     ]
    },
    {
     "data": {
      "text/plain": [
       "(Job('solana_predictions_1_offline_fg_materialization', 'SPARK'), None)"
      ]
     },
     "execution_count": 21,
     "metadata": {},
     "output_type": "execute_result"
    }
   ],
   "source": [
    "#this insert prevents duplicates\n",
    "monitor_fg.insert(\n",
    "    result,\n",
    "    # overwrite=False,  # Do not overwrite all data\n",
    "    operation=\"upsert\",  # Use upsert to handle duplicates based on the primary key\n",
    "    #storage=None  # Write to both online and offline storage\n",
    ")"
   ]
  },
  {
   "cell_type": "code",
   "execution_count": 22,
   "metadata": {
    "ExecuteTime": {
     "end_time": "2025-01-04T20:26:34.009412Z",
     "start_time": "2025-01-04T20:26:34.006577Z"
    },
    "collapsed": false
   },
   "outputs": [],
   "source": [
    "\n",
    "import numpy as np\n",
    "\n",
    "import time\n",
    "import hopsworks\n",
    "import os\n",
    "from dotenv import load_dotenv\n",
    "import joblib\n",
    "from datetime import datetime, timedelta, date\n",
    "import pandas as pd\n",
    "\n",
    "import hopsworks\n",
    "import matplotlib.pyplot as plt\n",
    "\n",
    "from utils import *\n",
    "import utils\n",
    "from functools import reduce\n",
    "\n"
   ]
  },
  {
   "cell_type": "code",
   "execution_count": 23,
   "metadata": {
    "ExecuteTime": {
     "end_time": "2025-01-04T20:26:36.181914Z",
     "start_time": "2025-01-04T20:26:34.010531Z"
    },
    "collapsed": false
   },
   "outputs": [
    {
     "name": "stdout",
     "output_type": "stream",
     "text": [
      "Finished: Reading data from Hopsworks, using Hopsworks Feature Query Service (1.06s) \n"
     ]
    }
   ],
   "source": [
    "solana_feature_group = fs.get_feature_group(\n",
    "    name=\"solana\",  \n",
    "    version=solana_feature_group_version\n",
    ")\n",
    "\n",
    "solana_actual_df = solana_feature_group.select([\"timestamp\",\"open\"]).read()\n"
   ]
  },
  {
   "cell_type": "code",
   "execution_count": 24,
   "metadata": {
    "ExecuteTime": {
     "end_time": "2025-01-04T20:26:36.193458Z",
     "start_time": "2025-01-04T20:26:36.181419Z"
    },
    "collapsed": false
   },
   "outputs": [
    {
     "data": {
      "text/html": [
       "<div>\n",
       "<style scoped>\n",
       "    .dataframe tbody tr th:only-of-type {\n",
       "        vertical-align: middle;\n",
       "    }\n",
       "\n",
       "    .dataframe tbody tr th {\n",
       "        vertical-align: top;\n",
       "    }\n",
       "\n",
       "    .dataframe thead th {\n",
       "        text-align: right;\n",
       "    }\n",
       "</style>\n",
       "<table border=\"1\" class=\"dataframe\">\n",
       "  <thead>\n",
       "    <tr style=\"text-align: right;\">\n",
       "      <th></th>\n",
       "      <th>solana_open_actual</th>\n",
       "      <th>date</th>\n",
       "    </tr>\n",
       "  </thead>\n",
       "  <tbody>\n",
       "    <tr>\n",
       "      <th>986</th>\n",
       "      <td>40.23</td>\n",
       "      <td>2021-06-17</td>\n",
       "    </tr>\n",
       "    <tr>\n",
       "      <th>829</th>\n",
       "      <td>39.13</td>\n",
       "      <td>2021-06-18</td>\n",
       "    </tr>\n",
       "    <tr>\n",
       "      <th>48</th>\n",
       "      <td>36.62</td>\n",
       "      <td>2021-06-19</td>\n",
       "    </tr>\n",
       "    <tr>\n",
       "      <th>1246</th>\n",
       "      <td>35.45</td>\n",
       "      <td>2021-06-20</td>\n",
       "    </tr>\n",
       "    <tr>\n",
       "      <th>1194</th>\n",
       "      <td>35.28</td>\n",
       "      <td>2021-06-21</td>\n",
       "    </tr>\n",
       "    <tr>\n",
       "      <th>...</th>\n",
       "      <td>...</td>\n",
       "      <td>...</td>\n",
       "    </tr>\n",
       "    <tr>\n",
       "      <th>1295</th>\n",
       "      <td>191.06</td>\n",
       "      <td>2024-12-31</td>\n",
       "    </tr>\n",
       "    <tr>\n",
       "      <th>1293</th>\n",
       "      <td>188.95</td>\n",
       "      <td>2025-01-01</td>\n",
       "    </tr>\n",
       "    <tr>\n",
       "      <th>1288</th>\n",
       "      <td>193.82</td>\n",
       "      <td>2025-01-02</td>\n",
       "    </tr>\n",
       "    <tr>\n",
       "      <th>1290</th>\n",
       "      <td>208.00</td>\n",
       "      <td>2025-01-03</td>\n",
       "    </tr>\n",
       "    <tr>\n",
       "      <th>1292</th>\n",
       "      <td>217.70</td>\n",
       "      <td>2025-01-04</td>\n",
       "    </tr>\n",
       "  </tbody>\n",
       "</table>\n",
       "<p>1298 rows × 2 columns</p>\n",
       "</div>"
      ],
      "text/plain": [
       "      solana_open_actual       date\n",
       "986                40.23 2021-06-17\n",
       "829                39.13 2021-06-18\n",
       "48                 36.62 2021-06-19\n",
       "1246               35.45 2021-06-20\n",
       "1194               35.28 2021-06-21\n",
       "...                  ...        ...\n",
       "1295              191.06 2024-12-31\n",
       "1293              188.95 2025-01-01\n",
       "1288              193.82 2025-01-02\n",
       "1290              208.00 2025-01-03\n",
       "1292              217.70 2025-01-04\n",
       "\n",
       "[1298 rows x 2 columns]"
      ]
     },
     "execution_count": 24,
     "metadata": {},
     "output_type": "execute_result"
    }
   ],
   "source": [
    "solana_actual_df['date'] = pd.to_datetime(solana_actual_df['timestamp'], unit='s')\n",
    "solana_actual_df['date'] = pd.to_datetime(solana_actual_df['date'], errors='coerce')\n",
    "\n",
    "solana_actual_df['date'] = solana_actual_df['date'].dt.normalize()\n",
    "solana_actual_df['date'] = solana_actual_df['date'].dt.tz_localize(None)\n",
    "solana_actual_df.drop(columns=[\"timestamp\"], inplace=True)\n",
    "solana_actual_df.rename(columns={'open': 'solana_open_actual'}, inplace=True)\n",
    "solana_actual_df = solana_actual_df.sort_values(by='date')\n",
    "\n",
    "\n",
    "solana_actual_df"
   ]
  },
  {
   "cell_type": "code",
   "execution_count": 25,
   "metadata": {
    "ExecuteTime": {
     "end_time": "2025-01-04T20:26:36.201986Z",
     "start_time": "2025-01-04T20:26:36.197074Z"
    },
    "collapsed": false
   },
   "outputs": [
    {
     "name": "stderr",
     "output_type": "stream",
     "text": [
      "SettingWithCopyWarning: \n",
      "A value is trying to be set on a copy of a slice from a DataFrame.\n",
      "Try using .loc[row_indexer,col_indexer] = value instead\n",
      "\n",
      "See the caveats in the documentation: https://pandas.pydata.org/pandas-docs/stable/user_guide/indexing.html#returning-a-view-versus-a-copy\n",
      "SettingWithCopyWarning: \n",
      "A value is trying to be set on a copy of a slice from a DataFrame\n",
      "\n",
      "See the caveats in the documentation: https://pandas.pydata.org/pandas-docs/stable/user_guide/indexing.html#returning-a-view-versus-a-copy\n"
     ]
    },
    {
     "data": {
      "text/html": [
       "<div>\n",
       "<style scoped>\n",
       "    .dataframe tbody tr th:only-of-type {\n",
       "        vertical-align: middle;\n",
       "    }\n",
       "\n",
       "    .dataframe tbody tr th {\n",
       "        vertical-align: top;\n",
       "    }\n",
       "\n",
       "    .dataframe thead th {\n",
       "        text-align: right;\n",
       "    }\n",
       "</style>\n",
       "<table border=\"1\" class=\"dataframe\">\n",
       "  <thead>\n",
       "    <tr style=\"text-align: right;\">\n",
       "      <th></th>\n",
       "      <th>date</th>\n",
       "      <th>solana_open_pred</th>\n",
       "    </tr>\n",
       "  </thead>\n",
       "  <tbody>\n",
       "    <tr>\n",
       "      <th>0</th>\n",
       "      <td>2025-01-05</td>\n",
       "      <td>197.873077</td>\n",
       "    </tr>\n",
       "    <tr>\n",
       "      <th>1</th>\n",
       "      <td>2025-01-06</td>\n",
       "      <td>205.352615</td>\n",
       "    </tr>\n",
       "    <tr>\n",
       "      <th>2</th>\n",
       "      <td>2025-01-07</td>\n",
       "      <td>200.028061</td>\n",
       "    </tr>\n",
       "    <tr>\n",
       "      <th>3</th>\n",
       "      <td>2025-01-08</td>\n",
       "      <td>197.028580</td>\n",
       "    </tr>\n",
       "    <tr>\n",
       "      <th>4</th>\n",
       "      <td>2025-01-09</td>\n",
       "      <td>206.180145</td>\n",
       "    </tr>\n",
       "    <tr>\n",
       "      <th>5</th>\n",
       "      <td>2025-01-10</td>\n",
       "      <td>192.707794</td>\n",
       "    </tr>\n",
       "    <tr>\n",
       "      <th>6</th>\n",
       "      <td>2025-01-11</td>\n",
       "      <td>193.304733</td>\n",
       "    </tr>\n",
       "    <tr>\n",
       "      <th>7</th>\n",
       "      <td>2025-01-12</td>\n",
       "      <td>195.172897</td>\n",
       "    </tr>\n",
       "    <tr>\n",
       "      <th>8</th>\n",
       "      <td>2025-01-13</td>\n",
       "      <td>190.756165</td>\n",
       "    </tr>\n",
       "    <tr>\n",
       "      <th>9</th>\n",
       "      <td>2025-01-14</td>\n",
       "      <td>199.940125</td>\n",
       "    </tr>\n",
       "  </tbody>\n",
       "</table>\n",
       "</div>"
      ],
      "text/plain": [
       "        date  solana_open_pred\n",
       "0 2025-01-05        197.873077\n",
       "1 2025-01-06        205.352615\n",
       "2 2025-01-07        200.028061\n",
       "3 2025-01-08        197.028580\n",
       "4 2025-01-09        206.180145\n",
       "5 2025-01-10        192.707794\n",
       "6 2025-01-11        193.304733\n",
       "7 2025-01-12        195.172897\n",
       "8 2025-01-13        190.756165\n",
       "9 2025-01-14        199.940125"
      ]
     },
     "execution_count": 25,
     "metadata": {},
     "output_type": "execute_result"
    }
   ],
   "source": [
    "solana_pred_df=result[[\"date\",\"open_solana\"]]\n",
    "\n",
    "solana_pred_df['date'] = solana_pred_df['date'].dt.tz_localize(None)\n",
    "solana_pred_df.rename(columns={'open_solana': 'solana_open_pred'}, inplace=True)\n",
    "solana_pred_df = solana_pred_df.sort_values(by='date')\n",
    "\n",
    "solana_pred_df"
   ]
  },
  {
   "cell_type": "code",
   "execution_count": 26,
   "metadata": {
    "ExecuteTime": {
     "end_time": "2025-01-04T20:26:36.490386Z",
     "start_time": "2025-01-04T20:26:36.201119Z"
    },
    "collapsed": false
   },
   "outputs": [
    {
     "data": {
      "text/plain": [
       "<module 'matplotlib.pyplot' from '/Users/michailroussos/Desktop/MSc-courses/2024-2025_P2/Saclable Machine Learning and Deep Learning (ID2223)/Assignments/final project/Scalable Final Project/ID2223-final-project/venv/lib/python3.9/site-packages/matplotlib/pyplot.py'>"
      ]
     },
     "execution_count": 26,
     "metadata": {},
     "output_type": "execute_result"
    },
    {
     "data": {
      "image/png": "[encoded data removed]",
      "text/plain": [
       "<Figure size 1000x600 with 1 Axes>"
      ]
     },
     "metadata": {},
     "output_type": "display_data"
    }
   ],
   "source": [
    "file_path='img/solana_predictions_plot.png'\n",
    "\n",
    "plot_solana_predictions(solana_pred_df, file_path) "
   ]
  },
  {
   "cell_type": "code",
   "execution_count": 27,
   "metadata": {
    "ExecuteTime": {
     "end_time": "2025-01-04T20:26:36.504630Z",
     "start_time": "2025-01-04T20:26:36.488412Z"
    },
    "collapsed": false
   },
   "outputs": [],
   "source": [
    "\n",
    "solana_actual_df['date'] = pd.to_datetime(solana_actual_df['date'], errors='coerce')\n",
    "\n",
    "solana_actual_df['date'] = solana_actual_df['date'].dt.normalize()\n",
    "solana_actual_df['date'] = solana_actual_df['date'].dt.tz_localize(None)\n",
    "\n",
    "solana_pred_df['date'] = pd.to_datetime(solana_pred_df['date'], errors='coerce')\n",
    "\n",
    "solana_pred_df['date'] = solana_pred_df['date'].dt.normalize()\n",
    "solana_pred_df['date'] = solana_pred_df['date'].dt.tz_localize(None)"
   ]
  },
  {
   "cell_type": "code",
   "execution_count": 28,
   "metadata": {
    "ExecuteTime": {
     "end_time": "2025-01-04T20:26:36.560103Z",
     "start_time": "2025-01-04T20:26:36.500213Z"
    },
    "collapsed": false
   },
   "outputs": [
    {
     "data": {
      "text/html": [
       "<div>\n",
       "<style scoped>\n",
       "    .dataframe tbody tr th:only-of-type {\n",
       "        vertical-align: middle;\n",
       "    }\n",
       "\n",
       "    .dataframe tbody tr th {\n",
       "        vertical-align: top;\n",
       "    }\n",
       "\n",
       "    .dataframe thead th {\n",
       "        text-align: right;\n",
       "    }\n",
       "</style>\n",
       "<table border=\"1\" class=\"dataframe\">\n",
       "  <thead>\n",
       "    <tr style=\"text-align: right;\">\n",
       "      <th></th>\n",
       "      <th>date</th>\n",
       "      <th>solana_open_pred</th>\n",
       "      <th>solana_open_actual</th>\n",
       "    </tr>\n",
       "  </thead>\n",
       "  <tbody>\n",
       "  </tbody>\n",
       "</table>\n",
       "</div>"
      ],
      "text/plain": [
       "Empty DataFrame\n",
       "Columns: [date, solana_open_pred, solana_open_actual]\n",
       "Index: []"
      ]
     },
     "execution_count": 28,
     "metadata": {},
     "output_type": "execute_result"
    }
   ],
   "source": [
    "# Merge the two df on date\n",
    "pred_actual_join = solana_pred_df.merge(solana_actual_df, left_on='date', right_on='date')\n",
    "\n",
    "# Show the results\n",
    "pred_actual_join"
   ]
  },
  {
   "cell_type": "code",
   "execution_count": 29,
   "metadata": {
    "ExecuteTime": {
     "end_time": "2025-01-04T20:26:37.616641Z",
     "start_time": "2025-01-04T20:26:36.516459Z"
    },
    "collapsed": false
   },
   "outputs": [
    {
     "ename": "TypeError",
     "evalue": "ufunc 'isfinite' not supported for the input types, and the inputs could not be safely coerced to any supported types according to the casting rule ''safe''",
     "output_type": "error",
     "traceback": [
      "\u001b[0;31m---------------------------------------------------------------------------\u001b[0m",
      "\u001b[0;31mTypeError\u001b[0m                                 Traceback (most recent call last)",
      "Cell \u001b[0;32mIn[29], line 4\u001b[0m\n\u001b[1;32m      2\u001b[0m confidence_upper \u001b[38;5;241m=\u001b[39m [p \u001b[38;5;241m+\u001b[39m \u001b[38;5;241m1\u001b[39m \u001b[38;5;28;01mfor\u001b[39;00m p \u001b[38;5;129;01min\u001b[39;00m pred_actual_join[\u001b[38;5;124m'\u001b[39m\u001b[38;5;124msolana_open_pred\u001b[39m\u001b[38;5;124m'\u001b[39m]]\n\u001b[1;32m      3\u001b[0m confidence_lower \u001b[38;5;241m=\u001b[39m [p \u001b[38;5;241m-\u001b[39m \u001b[38;5;241m1\u001b[39m \u001b[38;5;28;01mfor\u001b[39;00m p \u001b[38;5;129;01min\u001b[39;00m pred_actual_join[\u001b[38;5;124m'\u001b[39m\u001b[38;5;124msolana_open_pred\u001b[39m\u001b[38;5;124m'\u001b[39m]]\n\u001b[0;32m----> 4\u001b[0m \u001b[43mplot_solana_actual_vs_predictions\u001b[49m\u001b[43m(\u001b[49m\u001b[43mpred_actual_join\u001b[49m\u001b[43m,\u001b[49m\u001b[43m \u001b[49m\u001b[43mconfidence_lower\u001b[49m\u001b[43m,\u001b[49m\u001b[43m \u001b[49m\u001b[43mconfidence_upper\u001b[49m\u001b[43m,\u001b[49m\u001b[43m \u001b[49m\u001b[43mfile_path\u001b[49m\u001b[43m)\u001b[49m\n",
      "File \u001b[0;32m~/Desktop/MSc-courses/2024-2025_P2/Saclable Machine Learning and Deep Learning (ID2223)/Assignments/final project/Scalable Final Project/ID2223-final-project/utils.py:101\u001b[0m, in \u001b[0;36mplot_solana_actual_vs_predictions\u001b[0;34m(df, confidence_lower, confidence_upper, file_path)\u001b[0m\n\u001b[1;32m     98\u001b[0m ax\u001b[38;5;241m.\u001b[39mplot(dates, df[\u001b[38;5;124m'\u001b[39m\u001b[38;5;124msolana_open_pred\u001b[39m\u001b[38;5;124m'\u001b[39m], label\u001b[38;5;241m=\u001b[39m\u001b[38;5;124m'\u001b[39m\u001b[38;5;124mPredicted Prices\u001b[39m\u001b[38;5;124m'\u001b[39m, color\u001b[38;5;241m=\u001b[39m\u001b[38;5;124m'\u001b[39m\u001b[38;5;124mred\u001b[39m\u001b[38;5;124m'\u001b[39m, linewidth\u001b[38;5;241m=\u001b[39m\u001b[38;5;241m2\u001b[39m, marker\u001b[38;5;241m=\u001b[39m\u001b[38;5;124m'\u001b[39m\u001b[38;5;124mo\u001b[39m\u001b[38;5;124m'\u001b[39m, markersize\u001b[38;5;241m=\u001b[39m\u001b[38;5;241m5\u001b[39m, markerfacecolor\u001b[38;5;241m=\u001b[39m\u001b[38;5;124m'\u001b[39m\u001b[38;5;124mred\u001b[39m\u001b[38;5;124m'\u001b[39m)\n\u001b[1;32m    100\u001b[0m \u001b[38;5;66;03m# Plot the confidence interval\u001b[39;00m\n\u001b[0;32m--> 101\u001b[0m \u001b[43max\u001b[49m\u001b[38;5;241;43m.\u001b[39;49m\u001b[43mfill_between\u001b[49m\u001b[43m(\u001b[49m\u001b[43mdates\u001b[49m\u001b[43m,\u001b[49m\u001b[43m \u001b[49m\u001b[43mconfidence_lower\u001b[49m\u001b[43m,\u001b[49m\u001b[43m \u001b[49m\u001b[43mconfidence_upper\u001b[49m\u001b[43m,\u001b[49m\u001b[43m \u001b[49m\u001b[43mcolor\u001b[49m\u001b[38;5;241;43m=\u001b[39;49m\u001b[38;5;124;43m'\u001b[39;49m\u001b[38;5;124;43mgray\u001b[39;49m\u001b[38;5;124;43m'\u001b[39;49m\u001b[43m,\u001b[49m\u001b[43m \u001b[49m\u001b[43malpha\u001b[49m\u001b[38;5;241;43m=\u001b[39;49m\u001b[38;5;241;43m0.2\u001b[39;49m\u001b[43m,\u001b[49m\u001b[43m \u001b[49m\u001b[43mlabel\u001b[49m\u001b[38;5;241;43m=\u001b[39;49m\u001b[38;5;124;43m'\u001b[39;49m\u001b[38;5;124;43mConfidence Interval\u001b[39;49m\u001b[38;5;124;43m'\u001b[39;49m\u001b[43m)\u001b[49m\n\u001b[1;32m    103\u001b[0m \u001b[38;5;66;03m# Set labels and title\u001b[39;00m\n\u001b[1;32m    104\u001b[0m ax\u001b[38;5;241m.\u001b[39mset_xlabel(\u001b[38;5;124m'\u001b[39m\u001b[38;5;124mDate\u001b[39m\u001b[38;5;124m'\u001b[39m)\n",
      "File \u001b[0;32m~/Desktop/MSc-courses/2024-2025_P2/Saclable Machine Learning and Deep Learning (ID2223)/Assignments/final project/Scalable Final Project/ID2223-final-project/venv/lib/python3.9/site-packages/matplotlib/__init__.py:1465\u001b[0m, in \u001b[0;36m_preprocess_data.<locals>.inner\u001b[0;34m(ax, data, *args, **kwargs)\u001b[0m\n\u001b[1;32m   1462\u001b[0m \u001b[38;5;129m@functools\u001b[39m\u001b[38;5;241m.\u001b[39mwraps(func)\n\u001b[1;32m   1463\u001b[0m \u001b[38;5;28;01mdef\u001b[39;00m \u001b[38;5;21minner\u001b[39m(ax, \u001b[38;5;241m*\u001b[39margs, data\u001b[38;5;241m=\u001b[39m\u001b[38;5;28;01mNone\u001b[39;00m, \u001b[38;5;241m*\u001b[39m\u001b[38;5;241m*\u001b[39mkwargs):\n\u001b[1;32m   1464\u001b[0m     \u001b[38;5;28;01mif\u001b[39;00m data \u001b[38;5;129;01mis\u001b[39;00m \u001b[38;5;28;01mNone\u001b[39;00m:\n\u001b[0;32m-> 1465\u001b[0m         \u001b[38;5;28;01mreturn\u001b[39;00m \u001b[43mfunc\u001b[49m\u001b[43m(\u001b[49m\u001b[43max\u001b[49m\u001b[43m,\u001b[49m\u001b[43m \u001b[49m\u001b[38;5;241;43m*\u001b[39;49m\u001b[38;5;28;43mmap\u001b[39;49m\u001b[43m(\u001b[49m\u001b[43msanitize_sequence\u001b[49m\u001b[43m,\u001b[49m\u001b[43m \u001b[49m\u001b[43margs\u001b[49m\u001b[43m)\u001b[49m\u001b[43m,\u001b[49m\u001b[43m \u001b[49m\u001b[38;5;241;43m*\u001b[39;49m\u001b[38;5;241;43m*\u001b[39;49m\u001b[43mkwargs\u001b[49m\u001b[43m)\u001b[49m\n\u001b[1;32m   1467\u001b[0m     bound \u001b[38;5;241m=\u001b[39m new_sig\u001b[38;5;241m.\u001b[39mbind(ax, \u001b[38;5;241m*\u001b[39margs, \u001b[38;5;241m*\u001b[39m\u001b[38;5;241m*\u001b[39mkwargs)\n\u001b[1;32m   1468\u001b[0m     auto_label \u001b[38;5;241m=\u001b[39m (bound\u001b[38;5;241m.\u001b[39marguments\u001b[38;5;241m.\u001b[39mget(label_namer)\n\u001b[1;32m   1469\u001b[0m                   \u001b[38;5;129;01mor\u001b[39;00m bound\u001b[38;5;241m.\u001b[39mkwargs\u001b[38;5;241m.\u001b[39mget(label_namer))\n",
      "File \u001b[0;32m~/Desktop/MSc-courses/2024-2025_P2/Saclable Machine Learning and Deep Learning (ID2223)/Assignments/final project/Scalable Final Project/ID2223-final-project/venv/lib/python3.9/site-packages/matplotlib/axes/_axes.py:5512\u001b[0m, in \u001b[0;36mAxes.fill_between\u001b[0;34m(self, x, y1, y2, where, interpolate, step, **kwargs)\u001b[0m\n\u001b[1;32m   5510\u001b[0m \u001b[38;5;28;01mdef\u001b[39;00m \u001b[38;5;21mfill_between\u001b[39m(\u001b[38;5;28mself\u001b[39m, x, y1, y2\u001b[38;5;241m=\u001b[39m\u001b[38;5;241m0\u001b[39m, where\u001b[38;5;241m=\u001b[39m\u001b[38;5;28;01mNone\u001b[39;00m, interpolate\u001b[38;5;241m=\u001b[39m\u001b[38;5;28;01mFalse\u001b[39;00m,\n\u001b[1;32m   5511\u001b[0m                  step\u001b[38;5;241m=\u001b[39m\u001b[38;5;28;01mNone\u001b[39;00m, \u001b[38;5;241m*\u001b[39m\u001b[38;5;241m*\u001b[39mkwargs):\n\u001b[0;32m-> 5512\u001b[0m     \u001b[38;5;28;01mreturn\u001b[39;00m \u001b[38;5;28;43mself\u001b[39;49m\u001b[38;5;241;43m.\u001b[39;49m\u001b[43m_fill_between_x_or_y\u001b[49m\u001b[43m(\u001b[49m\n\u001b[1;32m   5513\u001b[0m \u001b[43m        \u001b[49m\u001b[38;5;124;43m\"\u001b[39;49m\u001b[38;5;124;43mx\u001b[39;49m\u001b[38;5;124;43m\"\u001b[39;49m\u001b[43m,\u001b[49m\u001b[43m \u001b[49m\u001b[43mx\u001b[49m\u001b[43m,\u001b[49m\u001b[43m \u001b[49m\u001b[43my1\u001b[49m\u001b[43m,\u001b[49m\u001b[43m \u001b[49m\u001b[43my2\u001b[49m\u001b[43m,\u001b[49m\n\u001b[1;32m   5514\u001b[0m \u001b[43m        \u001b[49m\u001b[43mwhere\u001b[49m\u001b[38;5;241;43m=\u001b[39;49m\u001b[43mwhere\u001b[49m\u001b[43m,\u001b[49m\u001b[43m \u001b[49m\u001b[43minterpolate\u001b[49m\u001b[38;5;241;43m=\u001b[39;49m\u001b[43minterpolate\u001b[49m\u001b[43m,\u001b[49m\u001b[43m \u001b[49m\u001b[43mstep\u001b[49m\u001b[38;5;241;43m=\u001b[39;49m\u001b[43mstep\u001b[49m\u001b[43m,\u001b[49m\u001b[43m \u001b[49m\u001b[38;5;241;43m*\u001b[39;49m\u001b[38;5;241;43m*\u001b[39;49m\u001b[43mkwargs\u001b[49m\u001b[43m)\u001b[49m\n",
      "File \u001b[0;32m~/Desktop/MSc-courses/2024-2025_P2/Saclable Machine Learning and Deep Learning (ID2223)/Assignments/final project/Scalable Final Project/ID2223-final-project/venv/lib/python3.9/site-packages/matplotlib/axes/_axes.py:5412\u001b[0m, in \u001b[0;36mAxes._fill_between_x_or_y\u001b[0;34m(self, ind_dir, ind, dep1, dep2, where, interpolate, step, **kwargs)\u001b[0m\n\u001b[1;32m   5408\u001b[0m         kwargs[\u001b[38;5;124m\"\u001b[39m\u001b[38;5;124mfacecolor\u001b[39m\u001b[38;5;124m\"\u001b[39m] \u001b[38;5;241m=\u001b[39m \\\n\u001b[1;32m   5409\u001b[0m             \u001b[38;5;28mself\u001b[39m\u001b[38;5;241m.\u001b[39m_get_patches_for_fill\u001b[38;5;241m.\u001b[39mget_next_color()\n\u001b[1;32m   5411\u001b[0m \u001b[38;5;66;03m# Handle united data, such as dates\u001b[39;00m\n\u001b[0;32m-> 5412\u001b[0m ind, dep1, dep2 \u001b[38;5;241m=\u001b[39m \u001b[38;5;28mmap\u001b[39m(\n\u001b[1;32m   5413\u001b[0m     ma\u001b[38;5;241m.\u001b[39mmasked_invalid, \u001b[38;5;28mself\u001b[39m\u001b[38;5;241m.\u001b[39m_process_unit_info(\n\u001b[1;32m   5414\u001b[0m         [(ind_dir, ind), (dep_dir, dep1), (dep_dir, dep2)], kwargs))\n\u001b[1;32m   5416\u001b[0m \u001b[38;5;28;01mfor\u001b[39;00m name, array \u001b[38;5;129;01min\u001b[39;00m [\n\u001b[1;32m   5417\u001b[0m         (ind_dir, ind), (\u001b[38;5;124mf\u001b[39m\u001b[38;5;124m\"\u001b[39m\u001b[38;5;132;01m{\u001b[39;00mdep_dir\u001b[38;5;132;01m}\u001b[39;00m\u001b[38;5;124m1\u001b[39m\u001b[38;5;124m\"\u001b[39m, dep1), (\u001b[38;5;124mf\u001b[39m\u001b[38;5;124m\"\u001b[39m\u001b[38;5;132;01m{\u001b[39;00mdep_dir\u001b[38;5;132;01m}\u001b[39;00m\u001b[38;5;124m2\u001b[39m\u001b[38;5;124m\"\u001b[39m, dep2)]:\n\u001b[1;32m   5418\u001b[0m     \u001b[38;5;28;01mif\u001b[39;00m array\u001b[38;5;241m.\u001b[39mndim \u001b[38;5;241m>\u001b[39m \u001b[38;5;241m1\u001b[39m:\n",
      "File \u001b[0;32m~/Desktop/MSc-courses/2024-2025_P2/Saclable Machine Learning and Deep Learning (ID2223)/Assignments/final project/Scalable Final Project/ID2223-final-project/venv/lib/python3.9/site-packages/numpy/ma/core.py:2360\u001b[0m, in \u001b[0;36mmasked_invalid\u001b[0;34m(a, copy)\u001b[0m\n\u001b[1;32m   2333\u001b[0m \u001b[38;5;250m\u001b[39m\u001b[38;5;124;03m\"\"\"\u001b[39;00m\n\u001b[1;32m   2334\u001b[0m \u001b[38;5;124;03mMask an array where invalid values occur (NaNs or infs).\u001b[39;00m\n\u001b[1;32m   2335\u001b[0m \n\u001b[0;32m   (...)\u001b[0m\n\u001b[1;32m   2357\u001b[0m \n\u001b[1;32m   2358\u001b[0m \u001b[38;5;124;03m\"\"\"\u001b[39;00m\n\u001b[1;32m   2359\u001b[0m a \u001b[38;5;241m=\u001b[39m np\u001b[38;5;241m.\u001b[39marray(a, copy\u001b[38;5;241m=\u001b[39m\u001b[38;5;28;01mFalse\u001b[39;00m, subok\u001b[38;5;241m=\u001b[39m\u001b[38;5;28;01mTrue\u001b[39;00m)\n\u001b[0;32m-> 2360\u001b[0m res \u001b[38;5;241m=\u001b[39m masked_where(\u001b[38;5;241m~\u001b[39m(\u001b[43mnp\u001b[49m\u001b[38;5;241;43m.\u001b[39;49m\u001b[43misfinite\u001b[49m\u001b[43m(\u001b[49m\u001b[43ma\u001b[49m\u001b[43m)\u001b[49m), a, copy\u001b[38;5;241m=\u001b[39mcopy)\n\u001b[1;32m   2361\u001b[0m \u001b[38;5;66;03m# masked_invalid previously never returned nomask as a mask and doing so\u001b[39;00m\n\u001b[1;32m   2362\u001b[0m \u001b[38;5;66;03m# threw off matplotlib (gh-22842).  So use shrink=False:\u001b[39;00m\n\u001b[1;32m   2363\u001b[0m \u001b[38;5;28;01mif\u001b[39;00m res\u001b[38;5;241m.\u001b[39m_mask \u001b[38;5;129;01mis\u001b[39;00m nomask:\n",
      "\u001b[0;31mTypeError\u001b[0m: ufunc 'isfinite' not supported for the input types, and the inputs could not be safely coerced to any supported types according to the casting rule ''safe''"
     ]
    },
    {
     "data": {
      "image/png": "[encoded data removed]",
      "text/plain": [
       "<Figure size 1000x600 with 1 Axes>"
      ]
     },
     "metadata": {},
     "output_type": "display_data"
    }
   ],
   "source": [
    "file_path='img/solana_actual_vs_predictions_plot.png'\n",
    "#if the df is NOT empty, plot the data\n",
    "if not pred_actual_join.empty:\n",
    "    print('No data to plot')\n",
    "    confidence_upper = [p + 1 for p in pred_actual_join['solana_open_pred']]\n",
    "    confidence_lower = [p - 1 for p in pred_actual_join['solana_open_pred']]\n",
    "    plot_solana_actual_vs_predictions(pred_actual_join, confidence_lower, confidence_upper, file_path)\n"
   ]
  },
  {
   "cell_type": "code",
   "execution_count": 30,
   "metadata": {
    "ExecuteTime": {
     "end_time": "2025-01-04T20:26:57.082888Z",
     "start_time": "2025-01-04T20:26:55.276272Z"
    },
    "collapsed": false
   },
   "outputs": [
    {
     "name": "stdout",
     "output_type": "stream",
     "text": [
      "Finished: Reading data from Hopsworks, using Hopsworks Feature Query Service (0.75s) \n"
     ]
    }
   ],
   "source": [
    "bitcoin_feature_group = fs.get_feature_group(\n",
    "    name=\"bitcoin\",  \n",
    "    version=bitcoin_feature_group_version\n",
    ")\n",
    "\n",
    "# Read the data from the feature group\n",
    "btc_df = bitcoin_feature_group.select([\"timestamp\",\"open\"]).read()"
   ]
  },
  {
   "cell_type": "code",
   "execution_count": 31,
   "metadata": {
    "ExecuteTime": {
     "end_time": "2025-01-04T20:26:57.093819Z",
     "start_time": "2025-01-04T20:26:57.090224Z"
    },
    "collapsed": false
   },
   "outputs": [
    {
     "data": {
      "text/html": [
       "<div>\n",
       "<style scoped>\n",
       "    .dataframe tbody tr th:only-of-type {\n",
       "        vertical-align: middle;\n",
       "    }\n",
       "\n",
       "    .dataframe tbody tr th {\n",
       "        vertical-align: top;\n",
       "    }\n",
       "\n",
       "    .dataframe thead th {\n",
       "        text-align: right;\n",
       "    }\n",
       "</style>\n",
       "<table border=\"1\" class=\"dataframe\">\n",
       "  <thead>\n",
       "    <tr style=\"text-align: right;\">\n",
       "      <th></th>\n",
       "      <th>btc_open</th>\n",
       "      <th>date</th>\n",
       "    </tr>\n",
       "  </thead>\n",
       "  <tbody>\n",
       "    <tr>\n",
       "      <th>0</th>\n",
       "      <td>27589.7</td>\n",
       "      <td>2023-04-24</td>\n",
       "    </tr>\n",
       "    <tr>\n",
       "      <th>1</th>\n",
       "      <td>40095.8</td>\n",
       "      <td>2022-02-20</td>\n",
       "    </tr>\n",
       "    <tr>\n",
       "      <th>2</th>\n",
       "      <td>24313.6</td>\n",
       "      <td>2022-08-15</td>\n",
       "    </tr>\n",
       "    <tr>\n",
       "      <th>3</th>\n",
       "      <td>69317.0</td>\n",
       "      <td>2024-06-08</td>\n",
       "    </tr>\n",
       "    <tr>\n",
       "      <th>4</th>\n",
       "      <td>22827.9</td>\n",
       "      <td>2022-08-04</td>\n",
       "    </tr>\n",
       "    <tr>\n",
       "      <th>...</th>\n",
       "      <td>...</td>\n",
       "      <td>...</td>\n",
       "    </tr>\n",
       "    <tr>\n",
       "      <th>1307</th>\n",
       "      <td>98111.1</td>\n",
       "      <td>2025-01-04</td>\n",
       "    </tr>\n",
       "    <tr>\n",
       "      <th>1308</th>\n",
       "      <td>93370.9</td>\n",
       "      <td>2025-01-01</td>\n",
       "    </tr>\n",
       "    <tr>\n",
       "      <th>1309</th>\n",
       "      <td>98647.2</td>\n",
       "      <td>2024-12-25</td>\n",
       "    </tr>\n",
       "    <tr>\n",
       "      <th>1310</th>\n",
       "      <td>99310.8</td>\n",
       "      <td>2024-12-26</td>\n",
       "    </tr>\n",
       "    <tr>\n",
       "      <th>1311</th>\n",
       "      <td>92611.3</td>\n",
       "      <td>2024-12-31</td>\n",
       "    </tr>\n",
       "  </tbody>\n",
       "</table>\n",
       "<p>1312 rows × 2 columns</p>\n",
       "</div>"
      ],
      "text/plain": [
       "      btc_open       date\n",
       "0      27589.7 2023-04-24\n",
       "1      40095.8 2022-02-20\n",
       "2      24313.6 2022-08-15\n",
       "3      69317.0 2024-06-08\n",
       "4      22827.9 2022-08-04\n",
       "...        ...        ...\n",
       "1307   98111.1 2025-01-04\n",
       "1308   93370.9 2025-01-01\n",
       "1309   98647.2 2024-12-25\n",
       "1310   99310.8 2024-12-26\n",
       "1311   92611.3 2024-12-31\n",
       "\n",
       "[1312 rows x 2 columns]"
      ]
     },
     "execution_count": 31,
     "metadata": {},
     "output_type": "execute_result"
    }
   ],
   "source": [
    "btc_df['date'] = pd.to_datetime(btc_df['timestamp'], unit='s')\n",
    "btc_df['date'] = pd.to_datetime(btc_df['date'], errors='coerce')\n",
    "\n",
    "btc_df['date'] = btc_df['date'].dt.normalize()\n",
    "btc_df['date'] = btc_df['date'].dt.tz_localize(None)\n",
    "btc_df.drop(columns=[\"timestamp\"], inplace=True)\n",
    "btc_df.rename(columns={'open': 'btc_open'}, inplace=True)\n",
    "#btc_df = btc_df.sort_values(by='date')\n",
    "\n",
    "\n",
    "btc_df"
   ]
  },
  {
   "cell_type": "code",
   "execution_count": 32,
   "metadata": {
    "ExecuteTime": {
     "end_time": "2025-01-04T20:26:59.250261Z",
     "start_time": "2025-01-04T20:26:57.094413Z"
    },
    "collapsed": false
   },
   "outputs": [
    {
     "name": "stdout",
     "output_type": "stream",
     "text": [
      "Finished: Reading data from Hopsworks, using Hopsworks Feature Query Service (1.02s) \n"
     ]
    }
   ],
   "source": [
    "fng_feature_group = fs.get_feature_group(\n",
    "    name='f_n_g_index', \n",
    "    version=fng_feature_group_version\n",
    ")\n",
    "fng_df = fng_feature_group.select([\"timestamp\",\"fng_value\"]).read()"
   ]
  },
  {
   "cell_type": "code",
   "execution_count": 33,
   "metadata": {
    "ExecuteTime": {
     "end_time": "2025-01-04T20:26:59.279002Z",
     "start_time": "2025-01-04T20:26:59.256453Z"
    },
    "collapsed": false
   },
   "outputs": [
    {
     "data": {
      "text/html": [
       "<div>\n",
       "<style scoped>\n",
       "    .dataframe tbody tr th:only-of-type {\n",
       "        vertical-align: middle;\n",
       "    }\n",
       "\n",
       "    .dataframe tbody tr th {\n",
       "        vertical-align: top;\n",
       "    }\n",
       "\n",
       "    .dataframe thead th {\n",
       "        text-align: right;\n",
       "    }\n",
       "</style>\n",
       "<table border=\"1\" class=\"dataframe\">\n",
       "  <thead>\n",
       "    <tr style=\"text-align: right;\">\n",
       "      <th></th>\n",
       "      <th>fng_value</th>\n",
       "      <th>date</th>\n",
       "    </tr>\n",
       "  </thead>\n",
       "  <tbody>\n",
       "    <tr>\n",
       "      <th>0</th>\n",
       "      <td>74</td>\n",
       "      <td>2024-06-15</td>\n",
       "    </tr>\n",
       "    <tr>\n",
       "      <th>1</th>\n",
       "      <td>77</td>\n",
       "      <td>2024-03-18</td>\n",
       "    </tr>\n",
       "    <tr>\n",
       "      <th>2</th>\n",
       "      <td>43</td>\n",
       "      <td>2019-02-15</td>\n",
       "    </tr>\n",
       "    <tr>\n",
       "      <th>3</th>\n",
       "      <td>68</td>\n",
       "      <td>2024-07-26</td>\n",
       "    </tr>\n",
       "    <tr>\n",
       "      <th>4</th>\n",
       "      <td>30</td>\n",
       "      <td>2022-08-04</td>\n",
       "    </tr>\n",
       "    <tr>\n",
       "      <th>...</th>\n",
       "      <td>...</td>\n",
       "      <td>...</td>\n",
       "    </tr>\n",
       "    <tr>\n",
       "      <th>2521</th>\n",
       "      <td>50</td>\n",
       "      <td>2020-05-18</td>\n",
       "    </tr>\n",
       "    <tr>\n",
       "      <th>2522</th>\n",
       "      <td>79</td>\n",
       "      <td>2024-02-13</td>\n",
       "    </tr>\n",
       "    <tr>\n",
       "      <th>2523</th>\n",
       "      <td>27</td>\n",
       "      <td>2022-02-25</td>\n",
       "    </tr>\n",
       "    <tr>\n",
       "      <th>2524</th>\n",
       "      <td>28</td>\n",
       "      <td>2018-11-19</td>\n",
       "    </tr>\n",
       "    <tr>\n",
       "      <th>2525</th>\n",
       "      <td>15</td>\n",
       "      <td>2022-06-07</td>\n",
       "    </tr>\n",
       "  </tbody>\n",
       "</table>\n",
       "<p>2526 rows × 2 columns</p>\n",
       "</div>"
      ],
      "text/plain": [
       "     fng_value       date\n",
       "0           74 2024-06-15\n",
       "1           77 2024-03-18\n",
       "2           43 2019-02-15\n",
       "3           68 2024-07-26\n",
       "4           30 2022-08-04\n",
       "...        ...        ...\n",
       "2521        50 2020-05-18\n",
       "2522        79 2024-02-13\n",
       "2523        27 2022-02-25\n",
       "2524        28 2018-11-19\n",
       "2525        15 2022-06-07\n",
       "\n",
       "[2526 rows x 2 columns]"
      ]
     },
     "execution_count": 33,
     "metadata": {},
     "output_type": "execute_result"
    }
   ],
   "source": [
    "fng_df['date'] = pd.to_datetime(fng_df['timestamp'], unit='s')\n",
    "fng_df['date'] = pd.to_datetime(fng_df['date'], errors='coerce')\n",
    "\n",
    "fng_df['date'] = fng_df['date'].dt.normalize()\n",
    "fng_df['date'] = fng_df['date'].dt.tz_localize(None)\n",
    "fng_df.drop(columns=[\"timestamp\"], inplace=True)\n",
    "#fng_df.rename(columns={'value': 'fng_value'}, inplace=True)\n",
    "#fng_df = fng_df.sort_values(by='date')\n",
    "\n",
    "\n",
    "fng_df"
   ]
  },
  {
   "cell_type": "code",
   "execution_count": 34,
   "metadata": {
    "ExecuteTime": {
     "end_time": "2025-01-04T20:26:59.282247Z",
     "start_time": "2025-01-04T20:26:59.271463Z"
    },
    "collapsed": false
   },
   "outputs": [
    {
     "data": {
      "text/html": [
       "<div>\n",
       "<style scoped>\n",
       "    .dataframe tbody tr th:only-of-type {\n",
       "        vertical-align: middle;\n",
       "    }\n",
       "\n",
       "    .dataframe tbody tr th {\n",
       "        vertical-align: top;\n",
       "    }\n",
       "\n",
       "    .dataframe thead th {\n",
       "        text-align: right;\n",
       "    }\n",
       "</style>\n",
       "<table border=\"1\" class=\"dataframe\">\n",
       "  <thead>\n",
       "    <tr style=\"text-align: right;\">\n",
       "      <th></th>\n",
       "      <th>btc_open</th>\n",
       "      <th>date</th>\n",
       "      <th>solana_open_actual</th>\n",
       "      <th>fng_value</th>\n",
       "    </tr>\n",
       "  </thead>\n",
       "  <tbody>\n",
       "    <tr>\n",
       "      <th>986</th>\n",
       "      <td>38337.1</td>\n",
       "      <td>2021-06-17</td>\n",
       "      <td>40.23</td>\n",
       "      <td>26</td>\n",
       "    </tr>\n",
       "    <tr>\n",
       "      <th>829</th>\n",
       "      <td>38078.2</td>\n",
       "      <td>2021-06-18</td>\n",
       "      <td>39.13</td>\n",
       "      <td>25</td>\n",
       "    </tr>\n",
       "    <tr>\n",
       "      <th>48</th>\n",
       "      <td>35824.0</td>\n",
       "      <td>2021-06-19</td>\n",
       "      <td>36.62</td>\n",
       "      <td>23</td>\n",
       "    </tr>\n",
       "    <tr>\n",
       "      <th>1245</th>\n",
       "      <td>35490.5</td>\n",
       "      <td>2021-06-20</td>\n",
       "      <td>35.45</td>\n",
       "      <td>21</td>\n",
       "    </tr>\n",
       "    <tr>\n",
       "      <th>1193</th>\n",
       "      <td>35595.0</td>\n",
       "      <td>2021-06-21</td>\n",
       "      <td>35.28</td>\n",
       "      <td>23</td>\n",
       "    </tr>\n",
       "    <tr>\n",
       "      <th>...</th>\n",
       "      <td>...</td>\n",
       "      <td>...</td>\n",
       "      <td>...</td>\n",
       "      <td>...</td>\n",
       "    </tr>\n",
       "    <tr>\n",
       "      <th>1296</th>\n",
       "      <td>92611.3</td>\n",
       "      <td>2024-12-31</td>\n",
       "      <td>191.06</td>\n",
       "      <td>64</td>\n",
       "    </tr>\n",
       "    <tr>\n",
       "      <th>1293</th>\n",
       "      <td>93370.9</td>\n",
       "      <td>2025-01-01</td>\n",
       "      <td>188.95</td>\n",
       "      <td>66</td>\n",
       "    </tr>\n",
       "    <tr>\n",
       "      <th>1287</th>\n",
       "      <td>94380.8</td>\n",
       "      <td>2025-01-02</td>\n",
       "      <td>193.82</td>\n",
       "      <td>70</td>\n",
       "    </tr>\n",
       "    <tr>\n",
       "      <th>1285</th>\n",
       "      <td>96805.2</td>\n",
       "      <td>2025-01-03</td>\n",
       "      <td>208.00</td>\n",
       "      <td>74</td>\n",
       "    </tr>\n",
       "    <tr>\n",
       "      <th>1292</th>\n",
       "      <td>98111.1</td>\n",
       "      <td>2025-01-04</td>\n",
       "      <td>217.70</td>\n",
       "      <td>73</td>\n",
       "    </tr>\n",
       "  </tbody>\n",
       "</table>\n",
       "<p>1297 rows × 4 columns</p>\n",
       "</div>"
      ],
      "text/plain": [
       "      btc_open       date  solana_open_actual fng_value\n",
       "986    38337.1 2021-06-17               40.23        26\n",
       "829    38078.2 2021-06-18               39.13        25\n",
       "48     35824.0 2021-06-19               36.62        23\n",
       "1245   35490.5 2021-06-20               35.45        21\n",
       "1193   35595.0 2021-06-21               35.28        23\n",
       "...        ...        ...                 ...       ...\n",
       "1296   92611.3 2024-12-31              191.06        64\n",
       "1293   93370.9 2025-01-01              188.95        66\n",
       "1287   94380.8 2025-01-02              193.82        70\n",
       "1285   96805.2 2025-01-03              208.00        74\n",
       "1292   98111.1 2025-01-04              217.70        73\n",
       "\n",
       "[1297 rows x 4 columns]"
      ]
     },
     "execution_count": 34,
     "metadata": {},
     "output_type": "execute_result"
    }
   ],
   "source": [
    "\n",
    "# List of DataFrames to merge\n",
    "dfs = [btc_df, solana_actual_df, fng_df]\n",
    "\n",
    "# Merge all DataFrames on 'date'\n",
    "sln_btc_fng_join = reduce(lambda left, right: left.merge(right, on='date', how='inner'), dfs)\n",
    "sln_btc_fng_join = sln_btc_fng_join.sort_values(by='date')\n",
    "\n",
    "sln_btc_fng_join"
   ]
  },
  {
   "cell_type": "code",
   "execution_count": 35,
   "metadata": {
    "ExecuteTime": {
     "end_time": "2025-01-04T20:26:59.454944Z",
     "start_time": "2025-01-04T20:26:59.282195Z"
    },
    "collapsed": false
   },
   "outputs": [
    {
     "data": {
      "text/plain": [
       "<module 'matplotlib.pyplot' from '/Users/michailroussos/Desktop/MSc-courses/2024-2025_P2/Saclable Machine Learning and Deep Learning (ID2223)/Assignments/final project/Scalable Final Project/ID2223-final-project/venv/lib/python3.9/site-packages/matplotlib/pyplot.py'>"
      ]
     },
     "execution_count": 35,
     "metadata": {},
     "output_type": "execute_result"
    },
    {
     "data": {
      "image/png": "[encoded data removed]",
      "text/plain": [
       "<Figure size 800x600 with 2 Axes>"
      ]
     },
     "metadata": {},
     "output_type": "display_data"
    }
   ],
   "source": [
    "file_path='img/sln_btc_fng_heatmap.png'\n",
    "\n",
    "plot_correlation_heatmap(sln_btc_fng_join,file_path)"
   ]
  },
  {
   "cell_type": "code",
   "execution_count": 36,
   "metadata": {
    "ExecuteTime": {
     "end_time": "2025-01-04T20:26:59.473044Z",
     "start_time": "2025-01-04T20:26:59.416196Z"
    },
    "collapsed": false
   },
   "outputs": [
    {
     "data": {
      "text/plain": [
       "Index(['btc_open', 'solana_open_actual', 'solana_open_pred', 'fng_value',\n",
       "       'date'],\n",
       "      dtype='object')"
      ]
     },
     "execution_count": 36,
     "metadata": {},
     "output_type": "execute_result"
    }
   ],
   "source": [
    "# List of DataFrames to merge\n",
    "dfs = [btc_df, solana_actual_df,solana_pred_df, fng_df]\n",
    "\n",
    "# Merge all DataFrames on 'date'\n",
    "trend_join = reduce(lambda left, right: left.merge(right, on='date', how='inner'), dfs)\n",
    "trend_join = trend_join.sort_values(by='date')\n",
    "\n",
    "trend_join.columns"
   ]
  },
  {
   "cell_type": "code",
   "execution_count": 37,
   "metadata": {
    "ExecuteTime": {
     "end_time": "2025-01-04T20:26:59.699309Z",
     "start_time": "2025-01-04T20:26:59.545227Z"
    },
    "collapsed": false
   },
   "outputs": [
    {
     "data": {
      "text/plain": [
       "<module 'matplotlib.pyplot' from '/Users/michailroussos/Desktop/MSc-courses/2024-2025_P2/Saclable Machine Learning and Deep Learning (ID2223)/Assignments/final project/Scalable Final Project/ID2223-final-project/venv/lib/python3.9/site-packages/matplotlib/pyplot.py'>"
      ]
     },
     "execution_count": 37,
     "metadata": {},
     "output_type": "execute_result"
    },
    {
     "data": {
      "image/png": "[encoded data removed]",
      "text/plain": [
       "<Figure size 1200x800 with 1 Axes>"
      ]
     },
     "metadata": {},
     "output_type": "display_data"
    }
   ],
   "source": [
    "file_path='img/trend_analisis.png'\n",
    "\n",
    "plot_trend_analysis(trend_join,file_path)"
   ]
  },
  {
   "cell_type": "code",
   "execution_count": null,
   "metadata": {
    "collapsed": false
   },
   "outputs": [],
   "source": []
  }
 ],
 "metadata": {
  "kernelspec": {
   "display_name": "crypto-env",
   "language": "python",
   "name": "python3"
  },
  "language_info": {
   "codemirror_mode": {
    "name": "ipython",
    "version": 3
   },
   "file_extension": ".py",
   "mimetype": "text/x-python",
   "name": "python",
   "nbconvert_exporter": "python",
   "pygments_lexer": "ipython3",
   "version": "3.10.16"
  }
 },
 "nbformat": 4,
 "nbformat_minor": 2
}
