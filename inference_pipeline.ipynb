{
 "cells": [
  {
   "cell_type": "code",
   "execution_count": 28,
   "metadata": {
    "ExecuteTime": {
     "end_time": "2025-01-04T17:50:42.086056Z",
     "start_time": "2025-01-04T17:50:40.614991Z"
    }
   },
   "outputs": [],
   "source": [
    "import time\n",
    "import hopsworks\n",
    "import os\n",
    "from dotenv import load_dotenv\n",
    "import joblib\n",
    "\n",
    "# from datetime import datetime, timedelta\n",
    "import pandas as pd\n",
    "\n",
    "import hopsworks\n",
    "import matplotlib.pyplot as plt\n",
    "\n",
    "from utils import *\n",
    "import utils\n"
   ]
  },
  {
   "cell_type": "code",
   "execution_count": 29,
   "metadata": {
    "ExecuteTime": {
     "end_time": "2025-01-04T17:50:42.089135Z",
     "start_time": "2025-01-04T17:50:42.086878Z"
    }
   },
   "outputs": [],
   "source": [
    "model_version = 4\n",
    "fng_feature_group_version = 1\n",
    "solana_feature_group_version = 1\n",
    "bitcoin_feature_group_version = 1"
   ]
  },
  {
   "cell_type": "code",
   "execution_count": 30,
   "metadata": {
    "ExecuteTime": {
     "end_time": "2025-01-04T17:50:42.093125Z",
     "start_time": "2025-01-04T17:50:42.090533Z"
    }
   },
   "outputs": [
    {
     "data": {
      "text/plain": [
       "1736020046"
      ]
     },
     "execution_count": 30,
     "metadata": {},
     "output_type": "execute_result"
    }
   ],
   "source": [
    "today = int(time.time())\n",
    "seconds_in_one_day = 24 * 60 * 60\n",
    "today"
   ]
  },
  {
   "cell_type": "code",
   "execution_count": 31,
   "metadata": {
    "ExecuteTime": {
     "end_time": "2025-01-04T17:50:45.386125Z",
     "start_time": "2025-01-04T17:50:42.093300Z"
    }
   },
   "outputs": [
    {
     "name": "stdout",
     "output_type": "stream",
     "text": [
      "2025-01-04 21:47:27,077 INFO: Closing external client and cleaning up certificates.\n",
      "Connection closed.\n",
      "2025-01-04 21:47:27,085 INFO: Initializing external client\n",
      "2025-01-04 21:47:27,085 INFO: Base URL: https://c.app.hopsworks.ai:443\n",
      "2025-01-04 21:47:28,893 INFO: Python Engine initialized.\n",
      "\n",
      "Logged in to project, explore it here https://c.app.hopsworks.ai:443/p/1164448\n"
     ]
    }
   ],
   "source": [
    "load_dotenv()\n",
    "#os.environ[\"HOPSWORKS_API_KEY\"] = os.getenv(\"HOPSWORKS_API_KEY\")\n",
    "project = hopsworks.login()\n",
    "#secrets = secrets_api(project.name)\n",
    "# This line will fail if you have not registered the CRYPTO_API_KEY as a secret in Hopsworks\n",
    "#CRYPTO_API_KEY = secrets.get_secret(\"CRYPTO_API_KEY\").value\n",
    "\n",
    "#CRYPTO_API_KEY = os.getenv(\"CRYPTO_API_KEY\")"
   ]
  },
  {
   "cell_type": "code",
   "execution_count": 32,
   "metadata": {
    "ExecuteTime": {
     "end_time": "2025-01-04T17:50:45.588284Z",
     "start_time": "2025-01-04T17:50:45.389890Z"
    }
   },
   "outputs": [
    {
     "data": {
      "text/plain": [
       "1732564046.0"
      ]
     },
     "execution_count": 32,
     "metadata": {},
     "output_type": "execute_result"
    }
   ],
   "source": [
    "fs = project.get_feature_store() \n",
    "starting_timestamp = float(today - 40 * seconds_in_one_day)\n",
    "starting_timestamp\n"
   ]
  },
  {
   "cell_type": "code",
   "execution_count": 33,
   "metadata": {
    "ExecuteTime": {
     "end_time": "2025-01-04T17:50:48.438361Z",
     "start_time": "2025-01-04T17:50:45.591359Z"
    }
   },
   "outputs": [
    {
     "name": "stdout",
     "output_type": "stream",
     "text": [
      "Finished: Reading data from Hopsworks, using Hopsworks Feature Query Service (0.73s) \n"
     ]
    },
    {
     "data": {
      "text/html": [
       "<div>\n",
       "<style scoped>\n",
       "    .dataframe tbody tr th:only-of-type {\n",
       "        vertical-align: middle;\n",
       "    }\n",
       "\n",
       "    .dataframe tbody tr th {\n",
       "        vertical-align: top;\n",
       "    }\n",
       "\n",
       "    .dataframe thead th {\n",
       "        text-align: right;\n",
       "    }\n",
       "</style>\n",
       "<table border=\"1\" class=\"dataframe\">\n",
       "  <thead>\n",
       "    <tr style=\"text-align: right;\">\n",
       "      <th></th>\n",
       "      <th>timestamp</th>\n",
       "      <th>open</th>\n",
       "      <th>high</th>\n",
       "      <th>low</th>\n",
       "      <th>close</th>\n",
       "      <th>volume</th>\n",
       "      <th>volume_buy</th>\n",
       "      <th>volume_sell</th>\n",
       "    </tr>\n",
       "  </thead>\n",
       "  <tbody>\n",
       "    <tr>\n",
       "      <th>0</th>\n",
       "      <td>1732579200</td>\n",
       "      <td>233.96</td>\n",
       "      <td>239.68</td>\n",
       "      <td>221.82</td>\n",
       "      <td>230.68</td>\n",
       "      <td>445887.775346</td>\n",
       "      <td>201503.607457</td>\n",
       "      <td>244384.167889</td>\n",
       "    </tr>\n",
       "    <tr>\n",
       "      <th>1</th>\n",
       "      <td>1732665600</td>\n",
       "      <td>230.68</td>\n",
       "      <td>245.00</td>\n",
       "      <td>227.66</td>\n",
       "      <td>242.26</td>\n",
       "      <td>265621.873707</td>\n",
       "      <td>161330.187523</td>\n",
       "      <td>104291.686184</td>\n",
       "    </tr>\n",
       "    <tr>\n",
       "      <th>2</th>\n",
       "      <td>1732752000</td>\n",
       "      <td>242.26</td>\n",
       "      <td>245.46</td>\n",
       "      <td>233.00</td>\n",
       "      <td>237.59</td>\n",
       "      <td>142466.637324</td>\n",
       "      <td>73142.398338</td>\n",
       "      <td>69324.238987</td>\n",
       "    </tr>\n",
       "    <tr>\n",
       "      <th>3</th>\n",
       "      <td>1732838400</td>\n",
       "      <td>237.59</td>\n",
       "      <td>247.04</td>\n",
       "      <td>236.58</td>\n",
       "      <td>243.47</td>\n",
       "      <td>301558.576846</td>\n",
       "      <td>121169.466633</td>\n",
       "      <td>180389.110213</td>\n",
       "    </tr>\n",
       "    <tr>\n",
       "      <th>4</th>\n",
       "      <td>1732924800</td>\n",
       "      <td>243.47</td>\n",
       "      <td>245.34</td>\n",
       "      <td>237.56</td>\n",
       "      <td>237.75</td>\n",
       "      <td>173213.101124</td>\n",
       "      <td>81975.271321</td>\n",
       "      <td>91237.829804</td>\n",
       "    </tr>\n",
       "  </tbody>\n",
       "</table>\n",
       "</div>"
      ],
      "text/plain": [
       "    timestamp    open    high     low   close         volume     volume_buy  \\\n",
       "0  1732579200  233.96  239.68  221.82  230.68  445887.775346  201503.607457   \n",
       "1  1732665600  230.68  245.00  227.66  242.26  265621.873707  161330.187523   \n",
       "2  1732752000  242.26  245.46  233.00  237.59  142466.637324   73142.398338   \n",
       "3  1732838400  237.59  247.04  236.58  243.47  301558.576846  121169.466633   \n",
       "4  1732924800  243.47  245.34  237.56  237.75  173213.101124   81975.271321   \n",
       "\n",
       "     volume_sell  \n",
       "0  244384.167889  \n",
       "1  104291.686184  \n",
       "2   69324.238987  \n",
       "3  180389.110213  \n",
       "4   91237.829804  "
      ]
     },
     "execution_count": 33,
     "metadata": {},
     "output_type": "execute_result"
    }
   ],
   "source": [
    "solana_feature_group = fs.get_feature_group(\n",
    "    name=\"solana\",  \n",
    "    version=solana_feature_group_version\n",
    ")\n",
    "\n",
    "solana_batch_data = solana_feature_group.filter(solana_feature_group.timestamp >= starting_timestamp).read().sort_values(by='timestamp', inplace=False).reset_index(drop=True)\n",
    "solana_batch_data.head()"
   ]
  },
  {
   "cell_type": "code",
   "execution_count": 34,
   "metadata": {
    "ExecuteTime": {
     "end_time": "2025-01-04T17:50:50.745546Z",
     "start_time": "2025-01-04T17:50:48.439836Z"
    }
   },
   "outputs": [
    {
     "name": "stdout",
     "output_type": "stream",
     "text": [
      "Finished: Reading data from Hopsworks, using Hopsworks Feature Query Service (0.63s) \n"
     ]
    },
    {
     "data": {
      "text/html": [
       "<div>\n",
       "<style scoped>\n",
       "    .dataframe tbody tr th:only-of-type {\n",
       "        vertical-align: middle;\n",
       "    }\n",
       "\n",
       "    .dataframe tbody tr th {\n",
       "        vertical-align: top;\n",
       "    }\n",
       "\n",
       "    .dataframe thead th {\n",
       "        text-align: right;\n",
       "    }\n",
       "</style>\n",
       "<table border=\"1\" class=\"dataframe\">\n",
       "  <thead>\n",
       "    <tr style=\"text-align: right;\">\n",
       "      <th></th>\n",
       "      <th>timestamp</th>\n",
       "      <th>open</th>\n",
       "    </tr>\n",
       "  </thead>\n",
       "  <tbody>\n",
       "    <tr>\n",
       "      <th>0</th>\n",
       "      <td>1732579200</td>\n",
       "      <td>93000.0</td>\n",
       "    </tr>\n",
       "    <tr>\n",
       "      <th>1</th>\n",
       "      <td>1732665600</td>\n",
       "      <td>91914.5</td>\n",
       "    </tr>\n",
       "    <tr>\n",
       "      <th>2</th>\n",
       "      <td>1732752000</td>\n",
       "      <td>95952.9</td>\n",
       "    </tr>\n",
       "    <tr>\n",
       "      <th>3</th>\n",
       "      <td>1732838400</td>\n",
       "      <td>95637.8</td>\n",
       "    </tr>\n",
       "    <tr>\n",
       "      <th>4</th>\n",
       "      <td>1732924800</td>\n",
       "      <td>97478.7</td>\n",
       "    </tr>\n",
       "  </tbody>\n",
       "</table>\n",
       "</div>"
      ],
      "text/plain": [
       "    timestamp     open\n",
       "0  1732579200  93000.0\n",
       "1  1732665600  91914.5\n",
       "2  1732752000  95952.9\n",
       "3  1732838400  95637.8\n",
       "4  1732924800  97478.7"
      ]
     },
     "execution_count": 34,
     "metadata": {},
     "output_type": "execute_result"
    }
   ],
   "source": [
    "bitcoin_feature_group = fs.get_feature_group(\n",
    "    name=\"bitcoin\",  \n",
    "    version=bitcoin_feature_group_version\n",
    ")\n",
    "bitcoin_batch_data = bitcoin_feature_group.filter(bitcoin_feature_group.timestamp >= starting_timestamp).read().sort_values(by='timestamp', inplace=False).reset_index(drop=True)\n",
    "bitcoin_batch_data = bitcoin_batch_data[[\"timestamp\",\"open\"]]\n",
    "bitcoin_batch_data.head()"
   ]
  },
  {
   "cell_type": "code",
   "execution_count": 35,
   "metadata": {
    "ExecuteTime": {
     "end_time": "2025-01-04T17:50:52.409518Z",
     "start_time": "2025-01-04T17:50:50.746723Z"
    }
   },
   "outputs": [
    {
     "name": "stdout",
     "output_type": "stream",
     "text": [
      "Finished: Reading data from Hopsworks, using Hopsworks Feature Query Service (0.63s) \n"
     ]
    },
    {
     "data": {
      "text/html": [
       "<div>\n",
       "<style scoped>\n",
       "    .dataframe tbody tr th:only-of-type {\n",
       "        vertical-align: middle;\n",
       "    }\n",
       "\n",
       "    .dataframe tbody tr th {\n",
       "        vertical-align: top;\n",
       "    }\n",
       "\n",
       "    .dataframe thead th {\n",
       "        text-align: right;\n",
       "    }\n",
       "</style>\n",
       "<table border=\"1\" class=\"dataframe\">\n",
       "  <thead>\n",
       "    <tr style=\"text-align: right;\">\n",
       "      <th></th>\n",
       "      <th>fng_value</th>\n",
       "      <th>fng_classification</th>\n",
       "      <th>timestamp</th>\n",
       "    </tr>\n",
       "  </thead>\n",
       "  <tbody>\n",
       "    <tr>\n",
       "      <th>0</th>\n",
       "      <td>79</td>\n",
       "      <td>4</td>\n",
       "      <td>1.732579e+09</td>\n",
       "    </tr>\n",
       "    <tr>\n",
       "      <th>1</th>\n",
       "      <td>75</td>\n",
       "      <td>3</td>\n",
       "      <td>1.732666e+09</td>\n",
       "    </tr>\n",
       "    <tr>\n",
       "      <th>2</th>\n",
       "      <td>77</td>\n",
       "      <td>4</td>\n",
       "      <td>1.732752e+09</td>\n",
       "    </tr>\n",
       "    <tr>\n",
       "      <th>3</th>\n",
       "      <td>78</td>\n",
       "      <td>4</td>\n",
       "      <td>1.732838e+09</td>\n",
       "    </tr>\n",
       "    <tr>\n",
       "      <th>4</th>\n",
       "      <td>84</td>\n",
       "      <td>4</td>\n",
       "      <td>1.732925e+09</td>\n",
       "    </tr>\n",
       "  </tbody>\n",
       "</table>\n",
       "</div>"
      ],
      "text/plain": [
       "  fng_value  fng_classification     timestamp\n",
       "0        79                   4  1.732579e+09\n",
       "1        75                   3  1.732666e+09\n",
       "2        77                   4  1.732752e+09\n",
       "3        78                   4  1.732838e+09\n",
       "4        84                   4  1.732925e+09"
      ]
     },
     "execution_count": 35,
     "metadata": {},
     "output_type": "execute_result"
    }
   ],
   "source": [
    "fng_feature_group = fs.get_feature_group(\n",
    "    'f_n_g_index',\n",
    "    version=fng_feature_group_version\n",
    ")\n",
    "fng_batch_data = fng_feature_group.filter(fng_feature_group.timestamp >= starting_timestamp).read().sort_values(by='timestamp', inplace=False).reset_index(drop=True)\n",
    "fng_batch_data['fng_classification'] = fng_batch_data['fng_classification'].map(fng_labels_to_numbers_map)\n",
    "fng_batch_data.head()"
   ]
  },
  {
   "cell_type": "code",
   "execution_count": 36,
   "metadata": {
    "ExecuteTime": {
     "end_time": "2025-01-04T17:50:56.948836Z",
     "start_time": "2025-01-04T17:50:52.410796Z"
    }
   },
   "outputs": [
    {
     "name": "stdout",
     "output_type": "stream",
     "text": [
      "/var/folders/vc/103l9n915p1_fcsd6kw28dsm0000gn/T/f7027e41-03d2-4efb-a907-4aeb7a694d7c/solana_price_daily_model_10d/4\n"
     ]
    },
    {
     "data": {
      "text/plain": [
       "<Sequential name=sequential_7, built=True>"
      ]
     },
     "execution_count": 36,
     "metadata": {},
     "output_type": "execute_result"
    }
   ],
   "source": [
    "from tensorflow.keras.models import load_model\n",
    "\n",
    "mr = project.get_model_registry()\n",
    "\n",
    "retrieved_model = mr.get_model(\n",
    "    name=\"solana_price_daily_model_10d\",\n",
    "    version=model_version,\n",
    ")\n",
    "saved_model_dir = retrieved_model.download()\n",
    "print(saved_model_dir)\n",
    "model = load_model(saved_model_dir+'/best_model.keras')\n",
    "model\n"
   ]
  },
  {
   "cell_type": "code",
   "execution_count": 37,
   "metadata": {
    "ExecuteTime": {
     "end_time": "2025-01-04T17:50:56.949124Z",
     "start_time": "2025-01-04T17:50:56.946540Z"
    }
   },
   "outputs": [
    {
     "data": {
      "text/html": [
       "<div>\n",
       "<style scoped>\n",
       "    .dataframe tbody tr th:only-of-type {\n",
       "        vertical-align: middle;\n",
       "    }\n",
       "\n",
       "    .dataframe tbody tr th {\n",
       "        vertical-align: top;\n",
       "    }\n",
       "\n",
       "    .dataframe thead th {\n",
       "        text-align: right;\n",
       "    }\n",
       "</style>\n",
       "<table border=\"1\" class=\"dataframe\">\n",
       "  <thead>\n",
       "    <tr style=\"text-align: right;\">\n",
       "      <th></th>\n",
       "      <th>high</th>\n",
       "      <th>low</th>\n",
       "      <th>close</th>\n",
       "      <th>volume</th>\n",
       "      <th>volume_buy</th>\n",
       "      <th>volume_sell</th>\n",
       "      <th>open_bitcoin</th>\n",
       "      <th>fng_value</th>\n",
       "      <th>fng_classification</th>\n",
       "      <th>open_solana</th>\n",
       "    </tr>\n",
       "  </thead>\n",
       "  <tbody>\n",
       "    <tr>\n",
       "      <th>0</th>\n",
       "      <td>239.68</td>\n",
       "      <td>221.82</td>\n",
       "      <td>230.68</td>\n",
       "      <td>445887.775346</td>\n",
       "      <td>201503.607457</td>\n",
       "      <td>244384.167889</td>\n",
       "      <td>93000.0</td>\n",
       "      <td>79</td>\n",
       "      <td>4</td>\n",
       "      <td>233.96</td>\n",
       "    </tr>\n",
       "    <tr>\n",
       "      <th>1</th>\n",
       "      <td>245.00</td>\n",
       "      <td>227.66</td>\n",
       "      <td>242.26</td>\n",
       "      <td>265621.873707</td>\n",
       "      <td>161330.187523</td>\n",
       "      <td>104291.686184</td>\n",
       "      <td>91914.5</td>\n",
       "      <td>75</td>\n",
       "      <td>3</td>\n",
       "      <td>230.68</td>\n",
       "    </tr>\n",
       "    <tr>\n",
       "      <th>2</th>\n",
       "      <td>245.46</td>\n",
       "      <td>233.00</td>\n",
       "      <td>237.59</td>\n",
       "      <td>142466.637324</td>\n",
       "      <td>73142.398338</td>\n",
       "      <td>69324.238987</td>\n",
       "      <td>95952.9</td>\n",
       "      <td>77</td>\n",
       "      <td>4</td>\n",
       "      <td>242.26</td>\n",
       "    </tr>\n",
       "    <tr>\n",
       "      <th>3</th>\n",
       "      <td>247.04</td>\n",
       "      <td>236.58</td>\n",
       "      <td>243.47</td>\n",
       "      <td>301558.576846</td>\n",
       "      <td>121169.466633</td>\n",
       "      <td>180389.110213</td>\n",
       "      <td>95637.8</td>\n",
       "      <td>78</td>\n",
       "      <td>4</td>\n",
       "      <td>237.59</td>\n",
       "    </tr>\n",
       "    <tr>\n",
       "      <th>4</th>\n",
       "      <td>245.34</td>\n",
       "      <td>237.56</td>\n",
       "      <td>237.75</td>\n",
       "      <td>173213.101124</td>\n",
       "      <td>81975.271321</td>\n",
       "      <td>91237.829804</td>\n",
       "      <td>97478.7</td>\n",
       "      <td>84</td>\n",
       "      <td>4</td>\n",
       "      <td>243.47</td>\n",
       "    </tr>\n",
       "  </tbody>\n",
       "</table>\n",
       "</div>"
      ],
      "text/plain": [
       "     high     low   close         volume     volume_buy    volume_sell  \\\n",
       "0  239.68  221.82  230.68  445887.775346  201503.607457  244384.167889   \n",
       "1  245.00  227.66  242.26  265621.873707  161330.187523  104291.686184   \n",
       "2  245.46  233.00  237.59  142466.637324   73142.398338   69324.238987   \n",
       "3  247.04  236.58  243.47  301558.576846  121169.466633  180389.110213   \n",
       "4  245.34  237.56  237.75  173213.101124   81975.271321   91237.829804   \n",
       "\n",
       "   open_bitcoin fng_value  fng_classification  open_solana  \n",
       "0       93000.0        79                   4       233.96  \n",
       "1       91914.5        75                   3       230.68  \n",
       "2       95952.9        77                   4       242.26  \n",
       "3       95637.8        78                   4       237.59  \n",
       "4       97478.7        84                   4       243.47  "
      ]
     },
     "execution_count": 37,
     "metadata": {},
     "output_type": "execute_result"
    }
   ],
   "source": [
    "all_data = pd.merge(solana_batch_data, bitcoin_batch_data, how='inner', on=\"timestamp\",suffixes=('_solana', '_bitcoin'))  \n",
    "all_data = pd.merge(all_data, fng_batch_data, how='inner', on=\"timestamp\")\n",
    "\n",
    "if \"timestamp\" in all_data.columns:\n",
    "    all_data = all_data.drop(columns=['timestamp'])\n",
    "\n",
    "target_column = 'open_solana'\n",
    "all_data = utils.move_target_at_the_end(all_data, target_column)\n",
    "all_data_values = all_data.values[-30:]\n",
    "\n",
    "all_data.head()"
   ]
  },
  {
   "cell_type": "code",
   "execution_count": 38,
   "metadata": {
    "ExecuteTime": {
     "end_time": "2025-01-04T17:50:57.002277Z",
     "start_time": "2025-01-04T17:50:56.949526Z"
    }
   },
   "outputs": [],
   "source": [
    "model_workspace = \"solana_price_10d_scalers/\" \n",
    "scaler_labels = joblib.load(model_workspace+'scaler_labels.pkl')\n",
    "scaler_features = joblib.load(model_workspace+'scaler_features.pkl')\n",
    "\n",
    "all_data_values = scaler_features.transform(all_data_values)\n",
    "X = all_data_values.reshape(1, 30, 10)\n"
   ]
  },
  {
   "cell_type": "code",
   "execution_count": 39,
   "metadata": {
    "ExecuteTime": {
     "end_time": "2025-01-04T17:50:57.002510Z",
     "start_time": "2025-01-04T17:50:56.998331Z"
    }
   },
   "outputs": [
    {
     "data": {
      "text/plain": [
       "Index(['high', 'low', 'close', 'volume', 'volume_buy', 'volume_sell',\n",
       "       'open_bitcoin', 'fng_value', 'fng_classification', 'open_solana'],\n",
       "      dtype='object')"
      ]
     },
     "execution_count": 39,
     "metadata": {},
     "output_type": "execute_result"
    }
   ],
   "source": [
    "all_data.columns"
   ]
  },
  {
   "cell_type": "code",
   "execution_count": 40,
   "metadata": {
    "ExecuteTime": {
     "end_time": "2025-01-04T17:50:57.093572Z",
     "start_time": "2025-01-04T17:50:57.001572Z"
    }
   },
   "outputs": [
    {
     "name": "stdout",
     "output_type": "stream",
     "text": [
      "\u001b[1m1/1\u001b[0m \u001b[32m━━━━━━━━━━━━━━━━━━━━\u001b[0m\u001b[37m\u001b[0m \u001b[1m0s\u001b[0m 116ms/step\n"
     ]
    }
   ],
   "source": [
    "predictions = model.predict(X)"
   ]
  },
  {
   "cell_type": "code",
   "execution_count": 41,
   "metadata": {},
   "outputs": [
    {
     "data": {
      "text/plain": [
       "array([[0.8146669 , 0.8556554 , 0.71653044, 0.82936704, 0.78877497,\n",
       "        0.7910065 , 0.72385657, 0.9152052 , 0.8212321 , 0.8136881 ]],\n",
       "      dtype=float32)"
      ]
     },
     "execution_count": 41,
     "metadata": {},
     "output_type": "execute_result"
    }
   ],
   "source": [
    "predictions"
   ]
  },
  {
   "cell_type": "code",
   "execution_count": 42,
   "metadata": {
    "ExecuteTime": {
     "end_time": "2025-01-04T17:50:57.096765Z",
     "start_time": "2025-01-04T17:50:57.093656Z"
    }
   },
   "outputs": [
    {
     "data": {
      "text/plain": [
       "array([[212.51466, 222.72243, 188.07475, 216.17557, 206.06653, 206.62227,\n",
       "        189.89925, 237.5527 , 214.14964, 212.27089]], dtype=float32)"
      ]
     },
     "execution_count": 42,
     "metadata": {},
     "output_type": "execute_result"
    }
   ],
   "source": [
    "predictions_unscaled =  scaler_labels.inverse_transform(predictions)\n",
    "predictions_unscaled\n"
   ]
  },
  {
   "cell_type": "code",
   "execution_count": 43,
   "metadata": {
    "ExecuteTime": {
     "end_time": "2025-01-04T17:50:57.113537Z",
     "start_time": "2025-01-04T17:50:57.096589Z"
    }
   },
   "outputs": [],
   "source": [
    "\n",
    "timestamps = [today + (i+1) * seconds_in_one_day for i in range(len(predictions[0]))]"
   ]
  },
  {
   "cell_type": "code",
   "execution_count": null,
   "metadata": {
    "ExecuteTime": {
     "end_time": "2025-01-04T17:50:57.418051Z",
     "start_time": "2025-01-04T17:50:57.102182Z"
    }
   },
   "outputs": [],
   "source": [
    "monitor_fg = fs.get_or_create_feature_group(\n",
    "    name='solana_predictions',\n",
    "    description='Solana_predictions',\n",
    "    version=1,\n",
    "    primary_key=['timestamp']\n",
    ")"
   ]
  },
  {
   "cell_type": "code",
   "execution_count": null,
   "metadata": {
    "ExecuteTime": {
     "end_time": "2025-01-04T17:50:57.418443Z",
     "start_time": "2025-01-04T17:50:57.415094Z"
    }
   },
   "outputs": [
    {
     "data": {
      "text/html": [
       "<div>\n",
       "<style scoped>\n",
       "    .dataframe tbody tr th:only-of-type {\n",
       "        vertical-align: middle;\n",
       "    }\n",
       "\n",
       "    .dataframe tbody tr th {\n",
       "        vertical-align: top;\n",
       "    }\n",
       "\n",
       "    .dataframe thead th {\n",
       "        text-align: right;\n",
       "    }\n",
       "</style>\n",
       "<table border=\"1\" class=\"dataframe\">\n",
       "  <thead>\n",
       "    <tr style=\"text-align: right;\">\n",
       "      <th></th>\n",
       "      <th>timestamp</th>\n",
       "      <th>open_solana</th>\n",
       "    </tr>\n",
       "  </thead>\n",
       "  <tbody>\n",
       "    <tr>\n",
       "      <th>0</th>\n",
       "      <td>1736106446</td>\n",
       "      <td>212.514664</td>\n",
       "    </tr>\n",
       "    <tr>\n",
       "      <th>1</th>\n",
       "      <td>1736192846</td>\n",
       "      <td>222.722427</td>\n",
       "    </tr>\n",
       "    <tr>\n",
       "      <th>2</th>\n",
       "      <td>1736279246</td>\n",
       "      <td>188.074753</td>\n",
       "    </tr>\n",
       "    <tr>\n",
       "      <th>3</th>\n",
       "      <td>1736365646</td>\n",
       "      <td>216.175568</td>\n",
       "    </tr>\n",
       "    <tr>\n",
       "      <th>4</th>\n",
       "      <td>1736452046</td>\n",
       "      <td>206.066528</td>\n",
       "    </tr>\n",
       "    <tr>\n",
       "      <th>5</th>\n",
       "      <td>1736538446</td>\n",
       "      <td>206.622269</td>\n",
       "    </tr>\n",
       "    <tr>\n",
       "      <th>6</th>\n",
       "      <td>1736624846</td>\n",
       "      <td>189.899246</td>\n",
       "    </tr>\n",
       "    <tr>\n",
       "      <th>7</th>\n",
       "      <td>1736711246</td>\n",
       "      <td>237.552704</td>\n",
       "    </tr>\n",
       "    <tr>\n",
       "      <th>8</th>\n",
       "      <td>1736797646</td>\n",
       "      <td>214.149643</td>\n",
       "    </tr>\n",
       "    <tr>\n",
       "      <th>9</th>\n",
       "      <td>1736884046</td>\n",
       "      <td>212.270889</td>\n",
       "    </tr>\n",
       "  </tbody>\n",
       "</table>\n",
       "</div>"
      ],
      "text/plain": [
       "    timestamp  open_solana\n",
       "0  1736106446   212.514664\n",
       "1  1736192846   222.722427\n",
       "2  1736279246   188.074753\n",
       "3  1736365646   216.175568\n",
       "4  1736452046   206.066528\n",
       "5  1736538446   206.622269\n",
       "6  1736624846   189.899246\n",
       "7  1736711246   237.552704\n",
       "8  1736797646   214.149643\n",
       "9  1736884046   212.270889"
      ]
     },
     "execution_count": 45,
     "metadata": {},
     "output_type": "execute_result"
    }
   ],
   "source": [
    "result = pd.DataFrame(columns=['timestamp', \"open_solana\"])\n",
    "result[\"timestamp\"]=timestamps\n",
    "result[\"open_solana\"]=predictions_unscaled[0]\n",
    "result"
   ]
  },
  {
   "cell_type": "code",
   "execution_count": 46,
   "metadata": {
    "ExecuteTime": {
     "end_time": "2025-01-04T17:50:57.439434Z",
     "start_time": "2025-01-04T17:50:57.425676Z"
    },
    "collapsed": false
   },
   "outputs": [
    {
     "data": {
      "text/html": [
       "<div>\n",
       "<style scoped>\n",
       "    .dataframe tbody tr th:only-of-type {\n",
       "        vertical-align: middle;\n",
       "    }\n",
       "\n",
       "    .dataframe tbody tr th {\n",
       "        vertical-align: top;\n",
       "    }\n",
       "\n",
       "    .dataframe thead th {\n",
       "        text-align: right;\n",
       "    }\n",
       "</style>\n",
       "<table border=\"1\" class=\"dataframe\">\n",
       "  <thead>\n",
       "    <tr style=\"text-align: right;\">\n",
       "      <th></th>\n",
       "      <th>timestamp</th>\n",
       "      <th>open_solana</th>\n",
       "      <th>date</th>\n",
       "    </tr>\n",
       "  </thead>\n",
       "  <tbody>\n",
       "    <tr>\n",
       "      <th>0</th>\n",
       "      <td>1736106446</td>\n",
       "      <td>212.514664</td>\n",
       "      <td>2025-01-05</td>\n",
       "    </tr>\n",
       "    <tr>\n",
       "      <th>1</th>\n",
       "      <td>1736192846</td>\n",
       "      <td>222.722427</td>\n",
       "      <td>2025-01-06</td>\n",
       "    </tr>\n",
       "    <tr>\n",
       "      <th>2</th>\n",
       "      <td>1736279246</td>\n",
       "      <td>188.074753</td>\n",
       "      <td>2025-01-07</td>\n",
       "    </tr>\n",
       "    <tr>\n",
       "      <th>3</th>\n",
       "      <td>1736365646</td>\n",
       "      <td>216.175568</td>\n",
       "      <td>2025-01-08</td>\n",
       "    </tr>\n",
       "    <tr>\n",
       "      <th>4</th>\n",
       "      <td>1736452046</td>\n",
       "      <td>206.066528</td>\n",
       "      <td>2025-01-09</td>\n",
       "    </tr>\n",
       "    <tr>\n",
       "      <th>5</th>\n",
       "      <td>1736538446</td>\n",
       "      <td>206.622269</td>\n",
       "      <td>2025-01-10</td>\n",
       "    </tr>\n",
       "    <tr>\n",
       "      <th>6</th>\n",
       "      <td>1736624846</td>\n",
       "      <td>189.899246</td>\n",
       "      <td>2025-01-11</td>\n",
       "    </tr>\n",
       "    <tr>\n",
       "      <th>7</th>\n",
       "      <td>1736711246</td>\n",
       "      <td>237.552704</td>\n",
       "      <td>2025-01-12</td>\n",
       "    </tr>\n",
       "    <tr>\n",
       "      <th>8</th>\n",
       "      <td>1736797646</td>\n",
       "      <td>214.149643</td>\n",
       "      <td>2025-01-13</td>\n",
       "    </tr>\n",
       "    <tr>\n",
       "      <th>9</th>\n",
       "      <td>1736884046</td>\n",
       "      <td>212.270889</td>\n",
       "      <td>2025-01-14</td>\n",
       "    </tr>\n",
       "  </tbody>\n",
       "</table>\n",
       "</div>"
      ],
      "text/plain": [
       "    timestamp  open_solana       date\n",
       "0  1736106446   212.514664 2025-01-05\n",
       "1  1736192846   222.722427 2025-01-06\n",
       "2  1736279246   188.074753 2025-01-07\n",
       "3  1736365646   216.175568 2025-01-08\n",
       "4  1736452046   206.066528 2025-01-09\n",
       "5  1736538446   206.622269 2025-01-10\n",
       "6  1736624846   189.899246 2025-01-11\n",
       "7  1736711246   237.552704 2025-01-12\n",
       "8  1736797646   214.149643 2025-01-13\n",
       "9  1736884046   212.270889 2025-01-14"
      ]
     },
     "execution_count": 46,
     "metadata": {},
     "output_type": "execute_result"
    }
   ],
   "source": [
    "result['date'] = pd.to_datetime(result['timestamp'], unit='s')\n",
    "result['date'] = result['date'].dt.normalize()\n",
    "result= result.sort_values(by=['date'])\n",
    "\n",
    "# result.drop(columns=[\"timestamp\"], inplace=True)\n",
    "\n",
    "result"
   ]
  },
  {
   "cell_type": "code",
   "execution_count": null,
   "metadata": {
    "ExecuteTime": {
     "end_time": "2025-01-04T17:50:57.439514Z",
     "start_time": "2025-01-04T17:50:57.429937Z"
    }
   },
   "outputs": [],
   "source": [
    "#this is plane and we may have duplicates\n",
    "#monitor_fg.insert(result)"
   ]
  },
  {
   "cell_type": "code",
   "execution_count": null,
   "metadata": {
    "ExecuteTime": {
     "end_time": "2025-01-04T17:51:10.924828Z",
     "start_time": "2025-01-04T17:50:57.434969Z"
    }
   },
   "outputs": [],
   "source": [
    "#this insert prevents duplicates\n",
    "monitor_fg.insert(\n",
    "    result,\n",
    "    # overwrite=False,  # Do not overwrite all data\n",
    "    operation=\"upsert\",  # Use upsert to handle duplicates based on the primary key\n",
    "    #storage=None  # Write to both online and offline storage\n",
    ")"
   ]
  }
 ],
 "metadata": {
  "kernelspec": {
   "display_name": "crypto-env",
   "language": "python",
   "name": "python3"
  },
  "language_info": {
   "codemirror_mode": {
    "name": "ipython",
    "version": 3
   },
   "file_extension": ".py",
   "mimetype": "text/x-python",
   "name": "python",
   "nbconvert_exporter": "python",
   "pygments_lexer": "ipython3",
   "version": "3.10.16"
  }
 },
 "nbformat": 4,
 "nbformat_minor": 2
}
