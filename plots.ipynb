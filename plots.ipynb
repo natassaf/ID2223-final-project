{
 "cells": [
  {
   "cell_type": "code",
   "execution_count": 1,
   "id": "initial_id",
   "metadata": {
    "collapsed": true,
    "ExecuteTime": {
     "end_time": "2025-01-04T20:08:28.671505Z",
     "start_time": "2025-01-04T20:08:27.209142Z"
    }
   },
   "outputs": [],
   "source": [
    "\n",
    "import numpy as np\n",
    "\n",
    "import time\n",
    "import hopsworks\n",
    "import os\n",
    "from dotenv import load_dotenv\n",
    "import joblib\n",
    "from datetime import datetime, timedelta, date\n",
    "import pandas as pd\n",
    "\n",
    "import hopsworks\n",
    "import matplotlib.pyplot as plt\n",
    "\n",
    "from utils import *\n",
    "import utils\n",
    "from functools import reduce\n",
    "\n"
   ]
  },
  {
   "cell_type": "code",
   "execution_count": 2,
   "outputs": [
    {
     "name": "stdout",
     "output_type": "stream",
     "text": [
      "2025-01-04 22:08:28,672 INFO: Initializing external client\n",
      "2025-01-04 22:08:28,673 INFO: Base URL: https://c.app.hopsworks.ai:443\n",
      "2025-01-04 22:08:30,383 INFO: Python Engine initialized.\n",
      "\n",
      "Logged in to project, explore it here https://c.app.hopsworks.ai:443/p/1160346\n"
     ]
    }
   ],
   "source": [
    "load_dotenv()\n",
    "#os.environ[\"HOPSWORKS_API_KEY\"] = os.getenv(\"HOPSWORKS_API_KEY\")\n",
    "\n",
    "\n",
    "project = hopsworks.login()"
   ],
   "metadata": {
    "collapsed": false,
    "ExecuteTime": {
     "end_time": "2025-01-04T20:08:31.772468Z",
     "start_time": "2025-01-04T20:08:28.672613Z"
    }
   },
   "id": "2f8c34a71bfe0a75"
  },
  {
   "cell_type": "code",
   "execution_count": 3,
   "outputs": [],
   "source": [
    "\n",
    "fs = project.get_feature_store() \n",
    "#secrets = secrets_api(project.name)\n",
    "\n",
    "# This line will fail if you have not registered the CRYPTO_API_KEY as a secret in Hopsworks\n",
    "#CRYPTO_API_KEY = secrets.get_secret(\"CRYPTO_API_KEY\").value\n",
    "\n",
    "#CRYPTO_API_KEY = os.getenv(\"CRYPTO_API_KEY\")\n",
    "\n"
   ],
   "metadata": {
    "collapsed": false,
    "ExecuteTime": {
     "end_time": "2025-01-04T20:08:31.944559Z",
     "start_time": "2025-01-04T20:08:31.773440Z"
    }
   },
   "id": "a59a18c1ecdcc9b8"
  },
  {
   "cell_type": "code",
   "execution_count": 4,
   "outputs": [],
   "source": [
    "#Step 1: get the  forcasted data\n",
    "solana_pred_feature_group = fs.get_feature_group(\n",
    "    name=\"solana_predictions\",  \n",
    "    version=1\n",
    ")\n",
    "\n",
    "#Step 2: get the actual data\n",
    "solana_feature_group = fs.get_feature_group(\n",
    "    name=\"solana\",  \n",
    "    version=1\n",
    ")\n",
    "\n",
    "\n"
   ],
   "metadata": {
    "collapsed": false,
    "ExecuteTime": {
     "end_time": "2025-01-04T20:08:32.607322Z",
     "start_time": "2025-01-04T20:08:31.946241Z"
    }
   },
   "id": "8405e9475da1c57f"
  },
  {
   "cell_type": "code",
   "execution_count": 5,
   "outputs": [
    {
     "name": "stdout",
     "output_type": "stream",
     "text": [
      "2025-01-04 22:08:34,574 ERROR: No commits found for featuregroup: /apps/hive/warehouse/id2223_airquality_lab1_featurestore.db/solana_predictions_1. Detail: Python exception: FlyingDuckException. gRPC client debug context: UNKNOWN:Error received from peer ipv4:51.79.26.27:5005 {created_time:\"2025-01-04T22:08:34.567625+02:00\", grpc_status:2, grpc_message:\"No commits found for featuregroup: /apps/hive/warehouse/id2223_airquality_lab1_featurestore.db/solana_predictions_1. Detail: Python exception: FlyingDuckException\"}. Client context: IOError: Server never sent a data message. Detail: Internal\n",
      "Traceback (most recent call last):\n",
      "  File \"/Users/michailroussos/Desktop/MSc-courses/2024-2025_P2/Saclable Machine Learning and Deep Learning (ID2223)/Assignments/final project/Scalable Final Project/ID2223-final-project/venv/lib/python3.9/site-packages/hsfs/core/arrow_flight_client.py\", line 364, in afs_error_handler_wrapper\n",
      "    return func(instance, *args, **kw)\n",
      "  File \"/Users/michailroussos/Desktop/MSc-courses/2024-2025_P2/Saclable Machine Learning and Deep Learning (ID2223)/Assignments/final project/Scalable Final Project/ID2223-final-project/venv/lib/python3.9/site-packages/hsfs/core/arrow_flight_client.py\", line 427, in read_query\n",
      "    return self._get_dataset(\n",
      "  File \"/Users/michailroussos/Desktop/MSc-courses/2024-2025_P2/Saclable Machine Learning and Deep Learning (ID2223)/Assignments/final project/Scalable Final Project/ID2223-final-project/venv/lib/python3.9/site-packages/retrying.py\", line 56, in wrapped_f\n",
      "    return Retrying(*dargs, **dkw).call(f, *args, **kw)\n",
      "  File \"/Users/michailroussos/Desktop/MSc-courses/2024-2025_P2/Saclable Machine Learning and Deep Learning (ID2223)/Assignments/final project/Scalable Final Project/ID2223-final-project/venv/lib/python3.9/site-packages/retrying.py\", line 257, in call\n",
      "    return attempt.get(self._wrap_exception)\n",
      "  File \"/Users/michailroussos/Desktop/MSc-courses/2024-2025_P2/Saclable Machine Learning and Deep Learning (ID2223)/Assignments/final project/Scalable Final Project/ID2223-final-project/venv/lib/python3.9/site-packages/retrying.py\", line 301, in get\n",
      "    six.reraise(self.value[0], self.value[1], self.value[2])\n",
      "  File \"/Users/michailroussos/Desktop/MSc-courses/2024-2025_P2/Saclable Machine Learning and Deep Learning (ID2223)/Assignments/final project/Scalable Final Project/ID2223-final-project/venv/lib/python3.9/site-packages/six.py\", line 724, in reraise\n",
      "    raise value\n",
      "  File \"/Users/michailroussos/Desktop/MSc-courses/2024-2025_P2/Saclable Machine Learning and Deep Learning (ID2223)/Assignments/final project/Scalable Final Project/ID2223-final-project/venv/lib/python3.9/site-packages/retrying.py\", line 251, in call\n",
      "    attempt = Attempt(fn(*args, **kwargs), attempt_number, False)\n",
      "  File \"/Users/michailroussos/Desktop/MSc-courses/2024-2025_P2/Saclable Machine Learning and Deep Learning (ID2223)/Assignments/final project/Scalable Final Project/ID2223-final-project/venv/lib/python3.9/site-packages/hsfs/core/arrow_flight_client.py\", line 413, in _get_dataset\n",
      "    reader = self._connection.do_get(info.endpoints[0].ticket, options)\n",
      "  File \"pyarrow/_flight.pyx\", line 1633, in pyarrow._flight.FlightClient.do_get\n",
      "  File \"pyarrow/_flight.pyx\", line 58, in pyarrow._flight.check_flight_status\n",
      "pyarrow._flight.FlightServerError: No commits found for featuregroup: /apps/hive/warehouse/id2223_airquality_lab1_featurestore.db/solana_predictions_1. Detail: Python exception: FlyingDuckException. gRPC client debug context: UNKNOWN:Error received from peer ipv4:51.79.26.27:5005 {created_time:\"2025-01-04T22:08:34.567625+02:00\", grpc_status:2, grpc_message:\"No commits found for featuregroup: /apps/hive/warehouse/id2223_airquality_lab1_featurestore.db/solana_predictions_1. Detail: Python exception: FlyingDuckException\"}. Client context: IOError: Server never sent a data message. Detail: Internal\n",
      "Error: Reading data from Hopsworks, using Hopsworks Feature Query Service           \n"
     ]
    },
    {
     "ename": "FeatureStoreException",
     "evalue": "No commits found for featuregroup: /apps/hive/warehouse/id2223_airquality_lab1_featurestore.db/solana_predictions_1. Detail: Python exception: FlyingDuckException. gRPC client debug context: UNKNOWN:Error received from peer ipv4:51.79.26.27:5005 {created_time:\"2025-01-04T22:08:34.567625+02:00\", grpc_status:2, grpc_message:\"No commits found for featuregroup: /apps/hive/warehouse/id2223_airquality_lab1_featurestore.db/solana_predictions_1. Detail: Python exception: FlyingDuckException\"}. Client context: IOError: Server never sent a data message. Detail: Internal",
     "output_type": "error",
     "traceback": [
      "\u001B[0;31m---------------------------------------------------------------------------\u001B[0m",
      "\u001B[0;31mFlightServerError\u001B[0m                         Traceback (most recent call last)",
      "File \u001B[0;32m~/Desktop/MSc-courses/2024-2025_P2/Saclable Machine Learning and Deep Learning (ID2223)/Assignments/final project/Scalable Final Project/ID2223-final-project/venv/lib/python3.9/site-packages/hsfs/core/arrow_flight_client.py:364\u001B[0m, in \u001B[0;36mArrowFlightClient._handle_afs_exception.<locals>.decorator.<locals>.afs_error_handler_wrapper\u001B[0;34m(instance, *args, **kw)\u001B[0m\n\u001B[1;32m    363\u001B[0m \u001B[38;5;28;01mtry\u001B[39;00m:\n\u001B[0;32m--> 364\u001B[0m     \u001B[38;5;28;01mreturn\u001B[39;00m \u001B[43mfunc\u001B[49m\u001B[43m(\u001B[49m\u001B[43minstance\u001B[49m\u001B[43m,\u001B[49m\u001B[43m \u001B[49m\u001B[38;5;241;43m*\u001B[39;49m\u001B[43margs\u001B[49m\u001B[43m,\u001B[49m\u001B[43m \u001B[49m\u001B[38;5;241;43m*\u001B[39;49m\u001B[38;5;241;43m*\u001B[39;49m\u001B[43mkw\u001B[49m\u001B[43m)\u001B[49m\n\u001B[1;32m    365\u001B[0m \u001B[38;5;28;01mexcept\u001B[39;00m \u001B[38;5;167;01mException\u001B[39;00m \u001B[38;5;28;01mas\u001B[39;00m e:\n",
      "File \u001B[0;32m~/Desktop/MSc-courses/2024-2025_P2/Saclable Machine Learning and Deep Learning (ID2223)/Assignments/final project/Scalable Final Project/ID2223-final-project/venv/lib/python3.9/site-packages/hsfs/core/arrow_flight_client.py:427\u001B[0m, in \u001B[0;36mArrowFlightClient.read_query\u001B[0;34m(self, query_object, arrow_flight_config, dataframe_type)\u001B[0m\n\u001B[1;32m    426\u001B[0m descriptor \u001B[38;5;241m=\u001B[39m pyarrow\u001B[38;5;241m.\u001B[39mflight\u001B[38;5;241m.\u001B[39mFlightDescriptor\u001B[38;5;241m.\u001B[39mfor_command(query_encoded)\n\u001B[0;32m--> 427\u001B[0m \u001B[38;5;28;01mreturn\u001B[39;00m \u001B[38;5;28;43mself\u001B[39;49m\u001B[38;5;241;43m.\u001B[39;49m\u001B[43m_get_dataset\u001B[49m\u001B[43m(\u001B[49m\n\u001B[1;32m    428\u001B[0m \u001B[43m    \u001B[49m\u001B[43mdescriptor\u001B[49m\u001B[43m,\u001B[49m\n\u001B[1;32m    429\u001B[0m \u001B[43m    \u001B[49m\u001B[43m(\u001B[49m\n\u001B[1;32m    430\u001B[0m \u001B[43m        \u001B[49m\u001B[43marrow_flight_config\u001B[49m\u001B[38;5;241;43m.\u001B[39;49m\u001B[43mget\u001B[49m\u001B[43m(\u001B[49m\u001B[38;5;124;43m\"\u001B[39;49m\u001B[38;5;124;43mtimeout\u001B[39;49m\u001B[38;5;124;43m\"\u001B[39;49m\u001B[43m,\u001B[49m\u001B[43m \u001B[49m\u001B[38;5;28;43mself\u001B[39;49m\u001B[38;5;241;43m.\u001B[39;49m\u001B[43mtimeout\u001B[49m\u001B[43m)\u001B[49m\n\u001B[1;32m    431\u001B[0m \u001B[43m        \u001B[49m\u001B[38;5;28;43;01mif\u001B[39;49;00m\u001B[43m \u001B[49m\u001B[43marrow_flight_config\u001B[49m\n\u001B[1;32m    432\u001B[0m \u001B[43m        \u001B[49m\u001B[38;5;28;43;01melse\u001B[39;49;00m\u001B[43m \u001B[49m\u001B[38;5;28;43mself\u001B[39;49m\u001B[38;5;241;43m.\u001B[39;49m\u001B[43mtimeout\u001B[49m\n\u001B[1;32m    433\u001B[0m \u001B[43m    \u001B[49m\u001B[43m)\u001B[49m\u001B[43m,\u001B[49m\n\u001B[1;32m    434\u001B[0m \u001B[43m    \u001B[49m\u001B[43mdataframe_type\u001B[49m\u001B[43m,\u001B[49m\n\u001B[1;32m    435\u001B[0m \u001B[43m\u001B[49m\u001B[43m)\u001B[49m\n",
      "File \u001B[0;32m~/Desktop/MSc-courses/2024-2025_P2/Saclable Machine Learning and Deep Learning (ID2223)/Assignments/final project/Scalable Final Project/ID2223-final-project/venv/lib/python3.9/site-packages/retrying.py:56\u001B[0m, in \u001B[0;36mretry.<locals>.wrap.<locals>.wrapped_f\u001B[0;34m(*args, **kw)\u001B[0m\n\u001B[1;32m     54\u001B[0m \u001B[38;5;129m@six\u001B[39m\u001B[38;5;241m.\u001B[39mwraps(f)\n\u001B[1;32m     55\u001B[0m \u001B[38;5;28;01mdef\u001B[39;00m \u001B[38;5;21mwrapped_f\u001B[39m(\u001B[38;5;241m*\u001B[39margs, \u001B[38;5;241m*\u001B[39m\u001B[38;5;241m*\u001B[39mkw):\n\u001B[0;32m---> 56\u001B[0m     \u001B[38;5;28;01mreturn\u001B[39;00m \u001B[43mRetrying\u001B[49m\u001B[43m(\u001B[49m\u001B[38;5;241;43m*\u001B[39;49m\u001B[43mdargs\u001B[49m\u001B[43m,\u001B[49m\u001B[43m \u001B[49m\u001B[38;5;241;43m*\u001B[39;49m\u001B[38;5;241;43m*\u001B[39;49m\u001B[43mdkw\u001B[49m\u001B[43m)\u001B[49m\u001B[38;5;241;43m.\u001B[39;49m\u001B[43mcall\u001B[49m\u001B[43m(\u001B[49m\u001B[43mf\u001B[49m\u001B[43m,\u001B[49m\u001B[43m \u001B[49m\u001B[38;5;241;43m*\u001B[39;49m\u001B[43margs\u001B[49m\u001B[43m,\u001B[49m\u001B[43m \u001B[49m\u001B[38;5;241;43m*\u001B[39;49m\u001B[38;5;241;43m*\u001B[39;49m\u001B[43mkw\u001B[49m\u001B[43m)\u001B[49m\n",
      "File \u001B[0;32m~/Desktop/MSc-courses/2024-2025_P2/Saclable Machine Learning and Deep Learning (ID2223)/Assignments/final project/Scalable Final Project/ID2223-final-project/venv/lib/python3.9/site-packages/retrying.py:257\u001B[0m, in \u001B[0;36mRetrying.call\u001B[0;34m(self, fn, *args, **kwargs)\u001B[0m\n\u001B[1;32m    256\u001B[0m \u001B[38;5;28;01mif\u001B[39;00m \u001B[38;5;129;01mnot\u001B[39;00m \u001B[38;5;28mself\u001B[39m\u001B[38;5;241m.\u001B[39mshould_reject(attempt):\n\u001B[0;32m--> 257\u001B[0m     \u001B[38;5;28;01mreturn\u001B[39;00m \u001B[43mattempt\u001B[49m\u001B[38;5;241;43m.\u001B[39;49m\u001B[43mget\u001B[49m\u001B[43m(\u001B[49m\u001B[38;5;28;43mself\u001B[39;49m\u001B[38;5;241;43m.\u001B[39;49m\u001B[43m_wrap_exception\u001B[49m\u001B[43m)\u001B[49m\n\u001B[1;32m    259\u001B[0m \u001B[38;5;28;01mif\u001B[39;00m \u001B[38;5;28mself\u001B[39m\u001B[38;5;241m.\u001B[39m_after_attempts:\n",
      "File \u001B[0;32m~/Desktop/MSc-courses/2024-2025_P2/Saclable Machine Learning and Deep Learning (ID2223)/Assignments/final project/Scalable Final Project/ID2223-final-project/venv/lib/python3.9/site-packages/retrying.py:301\u001B[0m, in \u001B[0;36mAttempt.get\u001B[0;34m(self, wrap_exception)\u001B[0m\n\u001B[1;32m    300\u001B[0m     \u001B[38;5;28;01melse\u001B[39;00m:\n\u001B[0;32m--> 301\u001B[0m         \u001B[43msix\u001B[49m\u001B[38;5;241;43m.\u001B[39;49m\u001B[43mreraise\u001B[49m\u001B[43m(\u001B[49m\u001B[38;5;28;43mself\u001B[39;49m\u001B[38;5;241;43m.\u001B[39;49m\u001B[43mvalue\u001B[49m\u001B[43m[\u001B[49m\u001B[38;5;241;43m0\u001B[39;49m\u001B[43m]\u001B[49m\u001B[43m,\u001B[49m\u001B[43m \u001B[49m\u001B[38;5;28;43mself\u001B[39;49m\u001B[38;5;241;43m.\u001B[39;49m\u001B[43mvalue\u001B[49m\u001B[43m[\u001B[49m\u001B[38;5;241;43m1\u001B[39;49m\u001B[43m]\u001B[49m\u001B[43m,\u001B[49m\u001B[43m \u001B[49m\u001B[38;5;28;43mself\u001B[39;49m\u001B[38;5;241;43m.\u001B[39;49m\u001B[43mvalue\u001B[49m\u001B[43m[\u001B[49m\u001B[38;5;241;43m2\u001B[39;49m\u001B[43m]\u001B[49m\u001B[43m)\u001B[49m\n\u001B[1;32m    302\u001B[0m \u001B[38;5;28;01melse\u001B[39;00m:\n",
      "File \u001B[0;32m~/Desktop/MSc-courses/2024-2025_P2/Saclable Machine Learning and Deep Learning (ID2223)/Assignments/final project/Scalable Final Project/ID2223-final-project/venv/lib/python3.9/site-packages/six.py:724\u001B[0m, in \u001B[0;36mreraise\u001B[0;34m(tp, value, tb)\u001B[0m\n\u001B[1;32m    723\u001B[0m         \u001B[38;5;28;01mraise\u001B[39;00m value\u001B[38;5;241m.\u001B[39mwith_traceback(tb)\n\u001B[0;32m--> 724\u001B[0m     \u001B[38;5;28;01mraise\u001B[39;00m value\n\u001B[1;32m    725\u001B[0m \u001B[38;5;28;01mfinally\u001B[39;00m:\n",
      "File \u001B[0;32m~/Desktop/MSc-courses/2024-2025_P2/Saclable Machine Learning and Deep Learning (ID2223)/Assignments/final project/Scalable Final Project/ID2223-final-project/venv/lib/python3.9/site-packages/retrying.py:251\u001B[0m, in \u001B[0;36mRetrying.call\u001B[0;34m(self, fn, *args, **kwargs)\u001B[0m\n\u001B[1;32m    250\u001B[0m \u001B[38;5;28;01mtry\u001B[39;00m:\n\u001B[0;32m--> 251\u001B[0m     attempt \u001B[38;5;241m=\u001B[39m Attempt(\u001B[43mfn\u001B[49m\u001B[43m(\u001B[49m\u001B[38;5;241;43m*\u001B[39;49m\u001B[43margs\u001B[49m\u001B[43m,\u001B[49m\u001B[43m \u001B[49m\u001B[38;5;241;43m*\u001B[39;49m\u001B[38;5;241;43m*\u001B[39;49m\u001B[43mkwargs\u001B[49m\u001B[43m)\u001B[49m, attempt_number, \u001B[38;5;28;01mFalse\u001B[39;00m)\n\u001B[1;32m    252\u001B[0m \u001B[38;5;28;01mexcept\u001B[39;00m:\n",
      "File \u001B[0;32m~/Desktop/MSc-courses/2024-2025_P2/Saclable Machine Learning and Deep Learning (ID2223)/Assignments/final project/Scalable Final Project/ID2223-final-project/venv/lib/python3.9/site-packages/hsfs/core/arrow_flight_client.py:413\u001B[0m, in \u001B[0;36mArrowFlightClient._get_dataset\u001B[0;34m(self, descriptor, timeout, dataframe_type)\u001B[0m\n\u001B[1;32m    412\u001B[0m options \u001B[38;5;241m=\u001B[39m pyarrow\u001B[38;5;241m.\u001B[39mflight\u001B[38;5;241m.\u001B[39mFlightCallOptions(timeout\u001B[38;5;241m=\u001B[39mtimeout)\n\u001B[0;32m--> 413\u001B[0m reader \u001B[38;5;241m=\u001B[39m \u001B[38;5;28;43mself\u001B[39;49m\u001B[38;5;241;43m.\u001B[39;49m\u001B[43m_connection\u001B[49m\u001B[38;5;241;43m.\u001B[39;49m\u001B[43mdo_get\u001B[49m\u001B[43m(\u001B[49m\u001B[43minfo\u001B[49m\u001B[38;5;241;43m.\u001B[39;49m\u001B[43mendpoints\u001B[49m\u001B[43m[\u001B[49m\u001B[38;5;241;43m0\u001B[39;49m\u001B[43m]\u001B[49m\u001B[38;5;241;43m.\u001B[39;49m\u001B[43mticket\u001B[49m\u001B[43m,\u001B[49m\u001B[43m \u001B[49m\u001B[43moptions\u001B[49m\u001B[43m)\u001B[49m\n\u001B[1;32m    414\u001B[0m _logger\u001B[38;5;241m.\u001B[39mdebug(\u001B[38;5;124m\"\u001B[39m\u001B[38;5;124mDataset fetched. Converting to dataframe \u001B[39m\u001B[38;5;132;01m%s\u001B[39;00m\u001B[38;5;124m.\u001B[39m\u001B[38;5;124m\"\u001B[39m, dataframe_type)\n",
      "File \u001B[0;32m~/Desktop/MSc-courses/2024-2025_P2/Saclable Machine Learning and Deep Learning (ID2223)/Assignments/final project/Scalable Final Project/ID2223-final-project/venv/lib/python3.9/site-packages/pyarrow/_flight.pyx:1633\u001B[0m, in \u001B[0;36mpyarrow._flight.FlightClient.do_get\u001B[0;34m()\u001B[0m\n",
      "File \u001B[0;32m~/Desktop/MSc-courses/2024-2025_P2/Saclable Machine Learning and Deep Learning (ID2223)/Assignments/final project/Scalable Final Project/ID2223-final-project/venv/lib/python3.9/site-packages/pyarrow/_flight.pyx:58\u001B[0m, in \u001B[0;36mpyarrow._flight.check_flight_status\u001B[0;34m()\u001B[0m\n",
      "\u001B[0;31mFlightServerError\u001B[0m: No commits found for featuregroup: /apps/hive/warehouse/id2223_airquality_lab1_featurestore.db/solana_predictions_1. Detail: Python exception: FlyingDuckException. gRPC client debug context: UNKNOWN:Error received from peer ipv4:51.79.26.27:5005 {created_time:\"2025-01-04T22:08:34.567625+02:00\", grpc_status:2, grpc_message:\"No commits found for featuregroup: /apps/hive/warehouse/id2223_airquality_lab1_featurestore.db/solana_predictions_1. Detail: Python exception: FlyingDuckException\"}. Client context: IOError: Server never sent a data message. Detail: Internal",
      "\nThe above exception was the direct cause of the following exception:\n",
      "\u001B[0;31mFeatureStoreException\u001B[0m                     Traceback (most recent call last)",
      "Cell \u001B[0;32mIn[5], line 2\u001B[0m\n\u001B[1;32m      1\u001B[0m \u001B[38;5;66;03m# Step 3: Read the data from the feature group\u001B[39;00m\n\u001B[0;32m----> 2\u001B[0m solana_pred_df \u001B[38;5;241m=\u001B[39m \u001B[43msolana_pred_feature_group\u001B[49m\u001B[38;5;241;43m.\u001B[39;49m\u001B[43mselect\u001B[49m\u001B[43m(\u001B[49m\u001B[43m[\u001B[49m\u001B[38;5;124;43m\"\u001B[39;49m\u001B[38;5;124;43mdate\u001B[39;49m\u001B[38;5;124;43m\"\u001B[39;49m\u001B[43m,\u001B[49m\u001B[38;5;124;43m\"\u001B[39;49m\u001B[38;5;124;43mopen_solana\u001B[39;49m\u001B[38;5;124;43m\"\u001B[39;49m\u001B[43m]\u001B[49m\u001B[43m)\u001B[49m\u001B[38;5;241;43m.\u001B[39;49m\u001B[43mread\u001B[49m\u001B[43m(\u001B[49m\u001B[43m)\u001B[49m\n\u001B[1;32m      4\u001B[0m \u001B[38;5;66;03m# Step 4: Read the data from the feature group\u001B[39;00m\n\u001B[1;32m      5\u001B[0m solana_actual_df \u001B[38;5;241m=\u001B[39m solana_feature_group\u001B[38;5;241m.\u001B[39mselect([\u001B[38;5;124m\"\u001B[39m\u001B[38;5;124mtimestamp\u001B[39m\u001B[38;5;124m\"\u001B[39m,\u001B[38;5;124m\"\u001B[39m\u001B[38;5;124mopen\u001B[39m\u001B[38;5;124m\"\u001B[39m])\u001B[38;5;241m.\u001B[39mread()\n",
      "File \u001B[0;32m~/Desktop/MSc-courses/2024-2025_P2/Saclable Machine Learning and Deep Learning (ID2223)/Assignments/final project/Scalable Final Project/ID2223-final-project/venv/lib/python3.9/site-packages/hsfs/constructor/query.py:206\u001B[0m, in \u001B[0;36mQuery.read\u001B[0;34m(self, online, dataframe_type, read_options)\u001B[0m\n\u001B[1;32m    201\u001B[0m     \u001B[38;5;28;01mif\u001B[39;00m \u001B[38;5;28mlen\u001B[39m(\u001B[38;5;28mself\u001B[39m\u001B[38;5;241m.\u001B[39mjoins) \u001B[38;5;241m>\u001B[39m \u001B[38;5;241m0\u001B[39m \u001B[38;5;129;01mor\u001B[39;00m \u001B[38;5;28;01mNone\u001B[39;00m \u001B[38;5;129;01min\u001B[39;00m [f\u001B[38;5;241m.\u001B[39mtype \u001B[38;5;28;01mfor\u001B[39;00m f \u001B[38;5;129;01min\u001B[39;00m schema]:\n\u001B[1;32m    202\u001B[0m         \u001B[38;5;28;01mraise\u001B[39;00m \u001B[38;5;167;01mValueError\u001B[39;00m(\n\u001B[1;32m    203\u001B[0m             \u001B[38;5;124m\"\u001B[39m\u001B[38;5;124mPandas types casting only supported for feature_group.read()/query.select_all()\u001B[39m\u001B[38;5;124m\"\u001B[39m\n\u001B[1;32m    204\u001B[0m         )\n\u001B[0;32m--> 206\u001B[0m \u001B[38;5;28;01mreturn\u001B[39;00m \u001B[43mengine\u001B[49m\u001B[38;5;241;43m.\u001B[39;49m\u001B[43mget_instance\u001B[49m\u001B[43m(\u001B[49m\u001B[43m)\u001B[49m\u001B[38;5;241;43m.\u001B[39;49m\u001B[43msql\u001B[49m\u001B[43m(\u001B[49m\n\u001B[1;32m    207\u001B[0m \u001B[43m    \u001B[49m\u001B[43msql_query\u001B[49m\u001B[43m,\u001B[49m\n\u001B[1;32m    208\u001B[0m \u001B[43m    \u001B[49m\u001B[38;5;28;43mself\u001B[39;49m\u001B[38;5;241;43m.\u001B[39;49m\u001B[43m_feature_store_name\u001B[49m\u001B[43m,\u001B[49m\n\u001B[1;32m    209\u001B[0m \u001B[43m    \u001B[49m\u001B[43monline_conn\u001B[49m\u001B[43m,\u001B[49m\n\u001B[1;32m    210\u001B[0m \u001B[43m    \u001B[49m\u001B[43mdataframe_type\u001B[49m\u001B[43m,\u001B[49m\n\u001B[1;32m    211\u001B[0m \u001B[43m    \u001B[49m\u001B[43mread_options\u001B[49m\u001B[43m,\u001B[49m\n\u001B[1;32m    212\u001B[0m \u001B[43m    \u001B[49m\u001B[43mschema\u001B[49m\u001B[43m,\u001B[49m\n\u001B[1;32m    213\u001B[0m \u001B[43m\u001B[49m\u001B[43m)\u001B[49m\n",
      "File \u001B[0;32m~/Desktop/MSc-courses/2024-2025_P2/Saclable Machine Learning and Deep Learning (ID2223)/Assignments/final project/Scalable Final Project/ID2223-final-project/venv/lib/python3.9/site-packages/hsfs/engine/python.py:146\u001B[0m, in \u001B[0;36mEngine.sql\u001B[0;34m(self, sql_query, feature_store, online_conn, dataframe_type, read_options, schema)\u001B[0m\n\u001B[1;32m    136\u001B[0m \u001B[38;5;28;01mdef\u001B[39;00m \u001B[38;5;21msql\u001B[39m(\n\u001B[1;32m    137\u001B[0m     \u001B[38;5;28mself\u001B[39m,\n\u001B[1;32m    138\u001B[0m     sql_query: \u001B[38;5;28mstr\u001B[39m,\n\u001B[0;32m   (...)\u001B[0m\n\u001B[1;32m    143\u001B[0m     schema: Optional[List[feature\u001B[38;5;241m.\u001B[39mFeature]] \u001B[38;5;241m=\u001B[39m \u001B[38;5;28;01mNone\u001B[39;00m,\n\u001B[1;32m    144\u001B[0m ) \u001B[38;5;241m-\u001B[39m\u001B[38;5;241m>\u001B[39m Union[pd\u001B[38;5;241m.\u001B[39mDataFrame, pl\u001B[38;5;241m.\u001B[39mDataFrame]:\n\u001B[1;32m    145\u001B[0m     \u001B[38;5;28;01mif\u001B[39;00m \u001B[38;5;129;01mnot\u001B[39;00m online_conn:\n\u001B[0;32m--> 146\u001B[0m         \u001B[38;5;28;01mreturn\u001B[39;00m \u001B[38;5;28;43mself\u001B[39;49m\u001B[38;5;241;43m.\u001B[39;49m\u001B[43m_sql_offline\u001B[49m\u001B[43m(\u001B[49m\n\u001B[1;32m    147\u001B[0m \u001B[43m            \u001B[49m\u001B[43msql_query\u001B[49m\u001B[43m,\u001B[49m\n\u001B[1;32m    148\u001B[0m \u001B[43m            \u001B[49m\u001B[43mdataframe_type\u001B[49m\u001B[43m,\u001B[49m\n\u001B[1;32m    149\u001B[0m \u001B[43m            \u001B[49m\u001B[43mschema\u001B[49m\u001B[43m,\u001B[49m\n\u001B[1;32m    150\u001B[0m \u001B[43m            \u001B[49m\u001B[43marrow_flight_config\u001B[49m\u001B[38;5;241;43m=\u001B[39;49m\u001B[43mread_options\u001B[49m\u001B[38;5;241;43m.\u001B[39;49m\u001B[43mget\u001B[49m\u001B[43m(\u001B[49m\u001B[38;5;124;43m\"\u001B[39;49m\u001B[38;5;124;43marrow_flight_config\u001B[39;49m\u001B[38;5;124;43m\"\u001B[39;49m\u001B[43m,\u001B[49m\u001B[43m \u001B[49m\u001B[43m{\u001B[49m\u001B[43m}\u001B[49m\u001B[43m)\u001B[49m\n\u001B[1;32m    151\u001B[0m \u001B[43m            \u001B[49m\u001B[38;5;28;43;01mif\u001B[39;49;00m\u001B[43m \u001B[49m\u001B[43mread_options\u001B[49m\n\u001B[1;32m    152\u001B[0m \u001B[43m            \u001B[49m\u001B[38;5;28;43;01melse\u001B[39;49;00m\u001B[43m \u001B[49m\u001B[43m{\u001B[49m\u001B[43m}\u001B[49m\u001B[43m,\u001B[49m\n\u001B[1;32m    153\u001B[0m \u001B[43m        \u001B[49m\u001B[43m)\u001B[49m\n\u001B[1;32m    154\u001B[0m     \u001B[38;5;28;01melse\u001B[39;00m:\n\u001B[1;32m    155\u001B[0m         \u001B[38;5;28;01mreturn\u001B[39;00m \u001B[38;5;28mself\u001B[39m\u001B[38;5;241m.\u001B[39m_jdbc(\n\u001B[1;32m    156\u001B[0m             sql_query, online_conn, dataframe_type, read_options, schema\n\u001B[1;32m    157\u001B[0m         )\n",
      "File \u001B[0;32m~/Desktop/MSc-courses/2024-2025_P2/Saclable Machine Learning and Deep Learning (ID2223)/Assignments/final project/Scalable Final Project/ID2223-final-project/venv/lib/python3.9/site-packages/hsfs/engine/python.py:189\u001B[0m, in \u001B[0;36mEngine._sql_offline\u001B[0;34m(self, sql_query, dataframe_type, schema, arrow_flight_config)\u001B[0m\n\u001B[1;32m    186\u001B[0m \u001B[38;5;28;01mif\u001B[39;00m \u001B[38;5;28misinstance\u001B[39m(sql_query, \u001B[38;5;28mdict\u001B[39m) \u001B[38;5;129;01mand\u001B[39;00m \u001B[38;5;124m\"\u001B[39m\u001B[38;5;124mquery_string\u001B[39m\u001B[38;5;124m\"\u001B[39m \u001B[38;5;129;01min\u001B[39;00m sql_query:\n\u001B[1;32m    187\u001B[0m     \u001B[38;5;28;01mfrom\u001B[39;00m \u001B[38;5;21;01mhsfs\u001B[39;00m\u001B[38;5;21;01m.\u001B[39;00m\u001B[38;5;21;01mcore\u001B[39;00m \u001B[38;5;28;01mimport\u001B[39;00m arrow_flight_client\n\u001B[0;32m--> 189\u001B[0m     result_df \u001B[38;5;241m=\u001B[39m \u001B[43mutil\u001B[49m\u001B[38;5;241;43m.\u001B[39;49m\u001B[43mrun_with_loading_animation\u001B[49m\u001B[43m(\u001B[49m\n\u001B[1;32m    190\u001B[0m \u001B[43m        \u001B[49m\u001B[38;5;124;43m\"\u001B[39;49m\u001B[38;5;124;43mReading data from Hopsworks, using Hopsworks Feature Query Service\u001B[39;49m\u001B[38;5;124;43m\"\u001B[39;49m\u001B[43m,\u001B[49m\n\u001B[1;32m    191\u001B[0m \u001B[43m        \u001B[49m\u001B[43marrow_flight_client\u001B[49m\u001B[38;5;241;43m.\u001B[39;49m\u001B[43mget_instance\u001B[49m\u001B[43m(\u001B[49m\u001B[43m)\u001B[49m\u001B[38;5;241;43m.\u001B[39;49m\u001B[43mread_query\u001B[49m\u001B[43m,\u001B[49m\n\u001B[1;32m    192\u001B[0m \u001B[43m        \u001B[49m\u001B[43msql_query\u001B[49m\u001B[43m,\u001B[49m\n\u001B[1;32m    193\u001B[0m \u001B[43m        \u001B[49m\u001B[43marrow_flight_config\u001B[49m\u001B[43m \u001B[49m\u001B[38;5;129;43;01mor\u001B[39;49;00m\u001B[43m \u001B[49m\u001B[43m{\u001B[49m\u001B[43m}\u001B[49m\u001B[43m,\u001B[49m\n\u001B[1;32m    194\u001B[0m \u001B[43m        \u001B[49m\u001B[43mdataframe_type\u001B[49m\u001B[43m,\u001B[49m\n\u001B[1;32m    195\u001B[0m \u001B[43m    \u001B[49m\u001B[43m)\u001B[49m\n\u001B[1;32m    196\u001B[0m \u001B[38;5;28;01melse\u001B[39;00m:\n\u001B[1;32m    197\u001B[0m     \u001B[38;5;28;01mraise\u001B[39;00m \u001B[38;5;167;01mValueError\u001B[39;00m(\n\u001B[1;32m    198\u001B[0m         \u001B[38;5;124m\"\u001B[39m\u001B[38;5;124mReading data with Hive is not supported when using hopsworks client version >= 4.0\u001B[39m\u001B[38;5;124m\"\u001B[39m\n\u001B[1;32m    199\u001B[0m     )\n",
      "File \u001B[0;32m~/Desktop/MSc-courses/2024-2025_P2/Saclable Machine Learning and Deep Learning (ID2223)/Assignments/final project/Scalable Final Project/ID2223-final-project/venv/lib/python3.9/site-packages/hopsworks_common/util.py:303\u001B[0m, in \u001B[0;36mrun_with_loading_animation\u001B[0;34m(message, func, *args, **kwargs)\u001B[0m\n\u001B[1;32m    300\u001B[0m end \u001B[38;5;241m=\u001B[39m \u001B[38;5;28;01mNone\u001B[39;00m\n\u001B[1;32m    302\u001B[0m \u001B[38;5;28;01mtry\u001B[39;00m:\n\u001B[0;32m--> 303\u001B[0m     result \u001B[38;5;241m=\u001B[39m \u001B[43mfunc\u001B[49m\u001B[43m(\u001B[49m\u001B[38;5;241;43m*\u001B[39;49m\u001B[43margs\u001B[49m\u001B[43m,\u001B[49m\u001B[43m \u001B[49m\u001B[38;5;241;43m*\u001B[39;49m\u001B[38;5;241;43m*\u001B[39;49m\u001B[43mkwargs\u001B[49m\u001B[43m)\u001B[49m\n\u001B[1;32m    304\u001B[0m     end \u001B[38;5;241m=\u001B[39m time\u001B[38;5;241m.\u001B[39mtime()\n\u001B[1;32m    305\u001B[0m     \u001B[38;5;28;01mreturn\u001B[39;00m result\n",
      "File \u001B[0;32m~/Desktop/MSc-courses/2024-2025_P2/Saclable Machine Learning and Deep Learning (ID2223)/Assignments/final project/Scalable Final Project/ID2223-final-project/venv/lib/python3.9/site-packages/hsfs/core/arrow_flight_client.py:380\u001B[0m, in \u001B[0;36mArrowFlightClient._handle_afs_exception.<locals>.decorator.<locals>.afs_error_handler_wrapper\u001B[0;34m(instance, *args, **kw)\u001B[0m\n\u001B[1;32m    376\u001B[0m     \u001B[38;5;28;01mraise\u001B[39;00m FeatureStoreException(\n\u001B[1;32m    377\u001B[0m         \u001B[38;5;124m\"\u001B[39m\u001B[38;5;124mHopsworks Feature Query Service is busy right now. Please try again later.\u001B[39m\u001B[38;5;124m\"\u001B[39m\n\u001B[1;32m    378\u001B[0m     ) \u001B[38;5;28;01mfrom\u001B[39;00m \u001B[38;5;21;01me\u001B[39;00m\n\u001B[1;32m    379\u001B[0m \u001B[38;5;28;01melif\u001B[39;00m _is_no_commits_found_error(e):\n\u001B[0;32m--> 380\u001B[0m     \u001B[38;5;28;01mraise\u001B[39;00m FeatureStoreException(\u001B[38;5;28mstr\u001B[39m(e)\u001B[38;5;241m.\u001B[39msplit(\u001B[38;5;124m\"\u001B[39m\u001B[38;5;124mDetails:\u001B[39m\u001B[38;5;124m\"\u001B[39m)[\u001B[38;5;241m0\u001B[39m]) \u001B[38;5;28;01mfrom\u001B[39;00m \u001B[38;5;21;01me\u001B[39;00m\n\u001B[1;32m    381\u001B[0m \u001B[38;5;28;01melse\u001B[39;00m:\n\u001B[1;32m    382\u001B[0m     \u001B[38;5;28;01mraise\u001B[39;00m FeatureStoreException(user_message) \u001B[38;5;28;01mfrom\u001B[39;00m \u001B[38;5;21;01me\u001B[39;00m\n",
      "\u001B[0;31mFeatureStoreException\u001B[0m: No commits found for featuregroup: /apps/hive/warehouse/id2223_airquality_lab1_featurestore.db/solana_predictions_1. Detail: Python exception: FlyingDuckException. gRPC client debug context: UNKNOWN:Error received from peer ipv4:51.79.26.27:5005 {created_time:\"2025-01-04T22:08:34.567625+02:00\", grpc_status:2, grpc_message:\"No commits found for featuregroup: /apps/hive/warehouse/id2223_airquality_lab1_featurestore.db/solana_predictions_1. Detail: Python exception: FlyingDuckException\"}. Client context: IOError: Server never sent a data message. Detail: Internal"
     ]
    }
   ],
   "source": [
    "# Step 3: Read the data from the feature group\n",
    "solana_pred_df = solana_pred_feature_group.select([\"date\",\"open_solana\"]).read()\n",
    "\n",
    "# Step 4: Read the data from the feature group\n",
    "solana_actual_df = solana_feature_group.select([\"timestamp\",\"open\"]).read()"
   ],
   "metadata": {
    "collapsed": false,
    "ExecuteTime": {
     "end_time": "2025-01-04T20:08:35.136380Z",
     "start_time": "2025-01-04T20:08:32.612246Z"
    }
   },
   "id": "cf6ce232d85da946"
  },
  {
   "cell_type": "code",
   "execution_count": null,
   "outputs": [],
   "source": [
    "solana_pred_df['date'] = pd.to_datetime(solana_pred_df['date'], errors='coerce')\n",
    "\n",
    "solana_pred_df['date'] = solana_pred_df['date'].dt.normalize()\n",
    "solana_pred_df['date'] = solana_pred_df['date'].dt.tz_localize(None)\n",
    "solana_pred_df.rename(columns={'open_solana': 'solana_open_pred'}, inplace=True)\n",
    "solana_pred_df = solana_pred_df.sort_values(by='date')\n",
    "\n",
    "solana_pred_df\n",
    "\n"
   ],
   "metadata": {
    "collapsed": false,
    "ExecuteTime": {
     "end_time": "2025-01-04T20:08:35.140557Z",
     "start_time": "2025-01-04T20:08:35.137046Z"
    }
   },
   "id": "7e38df96a8f921d9"
  },
  {
   "cell_type": "code",
   "execution_count": null,
   "outputs": [],
   "source": [
    "\n",
    "solana_actual_df['date'] = pd.to_datetime(solana_actual_df['timestamp'], unit='s')\n",
    "solana_actual_df['date'] = pd.to_datetime(solana_actual_df['date'], errors='coerce')\n",
    "\n",
    "solana_actual_df['date'] = solana_actual_df['date'].dt.normalize()\n",
    "solana_actual_df['date'] = solana_actual_df['date'].dt.tz_localize(None)\n",
    "solana_actual_df.drop(columns=[\"timestamp\"], inplace=True)\n",
    "solana_actual_df.rename(columns={'open': 'solana_open_actual'}, inplace=True)\n",
    "solana_actual_df = solana_actual_df.sort_values(by='date')\n",
    "\n",
    "\n",
    "solana_actual_df"
   ],
   "metadata": {
    "collapsed": false,
    "ExecuteTime": {
     "start_time": "2025-01-04T20:08:35.138195Z"
    }
   },
   "id": "6d262df922367428"
  },
  {
   "cell_type": "code",
   "execution_count": null,
   "outputs": [],
   "source": [
    "file_path='img/solana_predictions_plot.png'\n",
    "\n",
    "plot_solana_predictions(solana_pred_df, file_path) "
   ],
   "metadata": {
    "collapsed": false,
    "ExecuteTime": {
     "start_time": "2025-01-04T20:08:35.139562Z"
    }
   },
   "id": "3596fbe1bd2399b0"
  },
  {
   "cell_type": "code",
   "execution_count": null,
   "outputs": [],
   "source": [
    "\n",
    "solana_actual_df['date'] = pd.to_datetime(solana_actual_df['date'], errors='coerce')\n",
    "\n",
    "solana_actual_df['date'] = solana_actual_df['date'].dt.normalize()\n",
    "solana_actual_df['date'] = solana_actual_df['date'].dt.tz_localize(None)\n",
    "\n",
    "solana_pred_df['date'] = pd.to_datetime(solana_pred_df['date'], errors='coerce')\n",
    "\n",
    "solana_pred_df['date'] = solana_pred_df['date'].dt.normalize()\n",
    "solana_pred_df['date'] = solana_pred_df['date'].dt.tz_localize(None)"
   ],
   "metadata": {
    "collapsed": false,
    "ExecuteTime": {
     "end_time": "2025-01-04T20:08:35.140784Z",
     "start_time": "2025-01-04T20:08:35.140671Z"
    }
   },
   "id": "56a0e1ed7f5bc563"
  },
  {
   "cell_type": "code",
   "execution_count": null,
   "outputs": [],
   "source": [
    "# Merge the two df on date\n",
    "pred_actual_join = solana_pred_df.merge(solana_actual_df, left_on='date', right_on='date')\n",
    "\n",
    "# Show the results\n",
    "pred_actual_join"
   ],
   "metadata": {
    "collapsed": false,
    "ExecuteTime": {
     "end_time": "2025-01-04T20:08:35.143058Z",
     "start_time": "2025-01-04T20:08:35.141703Z"
    }
   },
   "id": "8afd231426395bb1"
  },
  {
   "cell_type": "code",
   "execution_count": null,
   "outputs": [],
   "source": [
    "file_path='img/solana_actual_vs_predictions_plot.png'\n",
    "confidence_upper = [p + 1 for p in pred_actual_join['solana_open_pred']]\n",
    "confidence_lower = [p - 1 for p in pred_actual_join['solana_open_pred']]\n",
    "plot_solana_actual_vs_predictions(pred_actual_join, confidence_lower, confidence_upper, file_path)\n"
   ],
   "metadata": {
    "collapsed": false,
    "ExecuteTime": {
     "start_time": "2025-01-04T20:08:35.142764Z"
    }
   },
   "id": "30efb436caf78bde"
  },
  {
   "cell_type": "code",
   "execution_count": null,
   "outputs": [],
   "source": [
    "bitcoin_feature_group = fs.get_feature_group(\n",
    "    name=\"bitcoin\",  \n",
    "    version=1\n",
    ")\n",
    "\n",
    "# Read the data from the feature group\n",
    "btc_df = bitcoin_feature_group.select([\"timestamp\",\"open\"]).read()"
   ],
   "metadata": {
    "collapsed": false,
    "ExecuteTime": {
     "start_time": "2025-01-04T20:08:35.143880Z"
    }
   },
   "id": "f97fa04a5369b0ff"
  },
  {
   "cell_type": "code",
   "execution_count": null,
   "outputs": [],
   "source": [
    "btc_df['date'] = pd.to_datetime(btc_df['timestamp'], unit='s')\n",
    "btc_df['date'] = pd.to_datetime(btc_df['date'], errors='coerce')\n",
    "\n",
    "btc_df['date'] = btc_df['date'].dt.normalize()\n",
    "btc_df['date'] = btc_df['date'].dt.tz_localize(None)\n",
    "btc_df.drop(columns=[\"timestamp\"], inplace=True)\n",
    "btc_df.rename(columns={'open': 'btc_open'}, inplace=True)\n",
    "#btc_df = btc_df.sort_values(by='date')\n",
    "\n",
    "\n",
    "btc_df"
   ],
   "metadata": {
    "collapsed": false,
    "ExecuteTime": {
     "start_time": "2025-01-04T20:08:35.144972Z"
    }
   },
   "id": "ea9a8b1e3b297656"
  },
  {
   "cell_type": "code",
   "execution_count": null,
   "outputs": [],
   "source": [
    "fng_feature_group = fs.get_feature_group(\n",
    "    name='f_n_g_index', \n",
    "    version=1)\n",
    "fng_df = fng_feature_group.select([\"timestamp\",\"fng_value\"]).read()"
   ],
   "metadata": {
    "collapsed": false,
    "ExecuteTime": {
     "start_time": "2025-01-04T20:08:35.145876Z"
    }
   },
   "id": "595d28fd2f39a231"
  },
  {
   "cell_type": "code",
   "execution_count": null,
   "outputs": [],
   "source": [
    "fng_df['date'] = pd.to_datetime(fng_df['timestamp'], unit='s')\n",
    "fng_df['date'] = pd.to_datetime(fng_df['date'], errors='coerce')\n",
    "\n",
    "fng_df['date'] = fng_df['date'].dt.normalize()\n",
    "fng_df['date'] = fng_df['date'].dt.tz_localize(None)\n",
    "fng_df.drop(columns=[\"timestamp\"], inplace=True)\n",
    "#fng_df.rename(columns={'value': 'fng_value'}, inplace=True)\n",
    "#fng_df = fng_df.sort_values(by='date')\n",
    "\n",
    "\n",
    "fng_df"
   ],
   "metadata": {
    "collapsed": false,
    "ExecuteTime": {
     "start_time": "2025-01-04T20:08:35.146752Z"
    }
   },
   "id": "10de4c220871be9e"
  },
  {
   "cell_type": "code",
   "execution_count": null,
   "outputs": [],
   "source": [
    "\n",
    "# List of DataFrames to merge\n",
    "dfs = [btc_df, solana_actual_df, fng_df]\n",
    "\n",
    "# Merge all DataFrames on 'date'\n",
    "sln_btc_fng_join = reduce(lambda left, right: left.merge(right, on='date', how='inner'), dfs)\n",
    "sln_btc_fng_join = sln_btc_fng_join.sort_values(by='date')\n",
    "\n",
    "sln_btc_fng_join"
   ],
   "metadata": {
    "collapsed": false,
    "ExecuteTime": {
     "start_time": "2025-01-04T20:08:35.147469Z"
    }
   },
   "id": "f08be1fdff6ad102"
  },
  {
   "cell_type": "code",
   "execution_count": null,
   "outputs": [],
   "source": [
    "file_path='img/sln_btc_fng_heatmap.png'\n",
    "\n",
    "plot_correlation_heatmap(sln_btc_fng_join,file_path)"
   ],
   "metadata": {
    "collapsed": false,
    "ExecuteTime": {
     "start_time": "2025-01-04T20:08:35.148052Z"
    }
   },
   "id": "fee6dc81c5341872"
  },
  {
   "cell_type": "code",
   "execution_count": null,
   "outputs": [],
   "source": [
    "# List of DataFrames to merge\n",
    "dfs = [btc_df, solana_actual_df,solana_pred_df, fng_df]\n",
    "\n",
    "# Merge all DataFrames on 'date'\n",
    "trend_join = reduce(lambda left, right: left.merge(right, on='date', how='inner'), dfs)\n",
    "trend_join = trend_join.sort_values(by='date')\n",
    "\n",
    "trend_join.columns"
   ],
   "metadata": {
    "collapsed": false,
    "ExecuteTime": {
     "start_time": "2025-01-04T20:08:35.148797Z"
    }
   },
   "id": "29b015fed9c22455"
  },
  {
   "cell_type": "code",
   "execution_count": null,
   "outputs": [],
   "source": [
    "file_path='img/trend_analisis.png'\n",
    "\n",
    "plot_trend_analysis(trend_join,file_path)"
   ],
   "metadata": {
    "collapsed": false,
    "ExecuteTime": {
     "start_time": "2025-01-04T20:08:35.149419Z"
    }
   },
   "id": "376ac339ab66625a"
  },
  {
   "cell_type": "code",
   "execution_count": null,
   "outputs": [],
   "source": [],
   "metadata": {
    "collapsed": false,
    "ExecuteTime": {
     "start_time": "2025-01-04T20:08:35.149938Z"
    }
   },
   "id": "a7ed0a0f6a11693f"
  }
 ],
 "metadata": {
  "kernelspec": {
   "display_name": "Python 3",
   "language": "python",
   "name": "python3"
  },
  "language_info": {
   "codemirror_mode": {
    "name": "ipython",
    "version": 2
   },
   "file_extension": ".py",
   "mimetype": "text/x-python",
   "name": "python",
   "nbconvert_exporter": "python",
   "pygments_lexer": "ipython2",
   "version": "2.7.6"
  }
 },
 "nbformat": 4,
 "nbformat_minor": 5
}
