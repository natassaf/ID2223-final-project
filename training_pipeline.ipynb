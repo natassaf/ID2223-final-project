{
 "cells": [
  {
   "cell_type": "code",
   "execution_count": 1,
   "metadata": {
    "ExecuteTime": {
     "end_time": "2025-01-02T14:20:01.581942Z",
     "start_time": "2025-01-02T14:20:01.392556Z"
    }
   },
   "outputs": [],
   "source": [
    "test_mode = False"
   ]
  },
  {
   "cell_type": "code",
   "execution_count": 2,
   "metadata": {
    "ExecuteTime": {
     "end_time": "2025-01-02T14:20:02.837939Z",
     "start_time": "2025-01-02T14:20:01.397535Z"
    }
   },
   "outputs": [
    {
     "name": "stderr",
     "output_type": "stream",
     "text": [
      "/opt/anaconda3/envs/crypto-env/lib/python3.10/site-packages/tqdm/auto.py:21: TqdmWarning: IProgress not found. Please update jupyter and ipywidgets. See https://ipywidgets.readthedocs.io/en/stable/user_install.html\n",
      "  from .autonotebook import tqdm as notebook_tqdm\n"
     ]
    }
   ],
   "source": [
    "import os\n",
    "from dotenv import load_dotenv\n",
    "import pandas as pd\n",
    "import hopsworks\n",
    "import numpy as np\n",
    "from sklearn.preprocessing import MinMaxScaler\n",
    "from sklearn.metrics import mean_squared_error, r2_score\n",
    "import matplotlib.pyplot as plt\n",
    "\n",
    "import joblib\n",
    "import pickle\n",
    "import utils\n",
    "from utils import fng_labels_to_numbers_map"
   ]
  },
  {
   "cell_type": "markdown",
   "metadata": {},
   "source": [
    "### Connect to hopsworks"
   ]
  },
  {
   "cell_type": "code",
   "execution_count": 3,
   "metadata": {
    "ExecuteTime": {
     "end_time": "2025-01-02T14:20:05.868559Z",
     "start_time": "2025-01-02T14:20:02.838507Z"
    }
   },
   "outputs": [
    {
     "name": "stdout",
     "output_type": "stream",
     "text": [
      "2025-01-04 19:04:17,187 INFO: Initializing external client\n",
      "2025-01-04 19:04:17,187 INFO: Base URL: https://c.app.hopsworks.ai:443\n",
      "\n",
      "Multiple projects found. \n",
      "\n",
      "\t (1) kth_lab1_2024\n",
      "\t (2) ID2223_AirQuality_Lab1\n",
      "2025-01-04 19:04:21,327 INFO: Python Engine initialized.\n",
      "\n",
      "Logged in to project, explore it here https://c.app.hopsworks.ai:443/p/1164448\n"
     ]
    }
   ],
   "source": [
    "load_dotenv()\n",
    "os.environ[\"HOPSWORKS_API_KEY\"] = os.getenv(\"HOPSWORKS_API_KEY\")\n",
    "project = hopsworks.login()\n",
    "\n",
    "fs = project.get_feature_store() "
   ]
  },
  {
   "cell_type": "markdown",
   "metadata": {},
   "source": [
    "### Read data from hopsworks and merge them into a feature table"
   ]
  },
  {
   "cell_type": "code",
   "execution_count": 4,
   "metadata": {
    "ExecuteTime": {
     "end_time": "2025-01-02T14:20:08.670040Z",
     "start_time": "2025-01-02T14:20:05.871733Z"
    }
   },
   "outputs": [
    {
     "name": "stdout",
     "output_type": "stream",
     "text": [
      "Finished: Reading data from Hopsworks, using Hopsworks Feature Query Service (0.86s) \n"
     ]
    },
    {
     "data": {
      "text/html": [
       "<div>\n",
       "<style scoped>\n",
       "    .dataframe tbody tr th:only-of-type {\n",
       "        vertical-align: middle;\n",
       "    }\n",
       "\n",
       "    .dataframe tbody tr th {\n",
       "        vertical-align: top;\n",
       "    }\n",
       "\n",
       "    .dataframe thead th {\n",
       "        text-align: right;\n",
       "    }\n",
       "</style>\n",
       "<table border=\"1\" class=\"dataframe\">\n",
       "  <thead>\n",
       "    <tr style=\"text-align: right;\">\n",
       "      <th></th>\n",
       "      <th>timestamp</th>\n",
       "      <th>open</th>\n",
       "      <th>high</th>\n",
       "      <th>low</th>\n",
       "      <th>close</th>\n",
       "      <th>volume</th>\n",
       "      <th>volume_buy</th>\n",
       "      <th>volume_sell</th>\n",
       "    </tr>\n",
       "  </thead>\n",
       "  <tbody>\n",
       "    <tr>\n",
       "      <th>0</th>\n",
       "      <td>1623888000</td>\n",
       "      <td>40.23</td>\n",
       "      <td>40.57</td>\n",
       "      <td>38.30</td>\n",
       "      <td>39.13</td>\n",
       "      <td>6007.618490</td>\n",
       "      <td>2885.660324</td>\n",
       "      <td>3121.958166</td>\n",
       "    </tr>\n",
       "    <tr>\n",
       "      <th>1</th>\n",
       "      <td>1623974400</td>\n",
       "      <td>39.13</td>\n",
       "      <td>39.36</td>\n",
       "      <td>35.00</td>\n",
       "      <td>36.62</td>\n",
       "      <td>13557.357196</td>\n",
       "      <td>7925.472309</td>\n",
       "      <td>5631.884887</td>\n",
       "    </tr>\n",
       "    <tr>\n",
       "      <th>2</th>\n",
       "      <td>1624060800</td>\n",
       "      <td>36.62</td>\n",
       "      <td>37.35</td>\n",
       "      <td>35.00</td>\n",
       "      <td>35.45</td>\n",
       "      <td>16986.163716</td>\n",
       "      <td>9258.361133</td>\n",
       "      <td>7727.802583</td>\n",
       "    </tr>\n",
       "    <tr>\n",
       "      <th>3</th>\n",
       "      <td>1624147200</td>\n",
       "      <td>35.45</td>\n",
       "      <td>35.89</td>\n",
       "      <td>31.48</td>\n",
       "      <td>35.28</td>\n",
       "      <td>38681.265775</td>\n",
       "      <td>21052.579774</td>\n",
       "      <td>17628.686001</td>\n",
       "    </tr>\n",
       "    <tr>\n",
       "      <th>4</th>\n",
       "      <td>1624233600</td>\n",
       "      <td>35.28</td>\n",
       "      <td>35.28</td>\n",
       "      <td>26.00</td>\n",
       "      <td>26.55</td>\n",
       "      <td>41903.613224</td>\n",
       "      <td>15380.745579</td>\n",
       "      <td>26522.867646</td>\n",
       "    </tr>\n",
       "    <tr>\n",
       "      <th>...</th>\n",
       "      <td>...</td>\n",
       "      <td>...</td>\n",
       "      <td>...</td>\n",
       "      <td>...</td>\n",
       "      <td>...</td>\n",
       "      <td>...</td>\n",
       "      <td>...</td>\n",
       "      <td>...</td>\n",
       "    </tr>\n",
       "    <tr>\n",
       "      <th>1290</th>\n",
       "      <td>1735344000</td>\n",
       "      <td>183.81</td>\n",
       "      <td>186.47</td>\n",
       "      <td>183.57</td>\n",
       "      <td>185.64</td>\n",
       "      <td>30635.592390</td>\n",
       "      <td>19058.783527</td>\n",
       "      <td>11576.808863</td>\n",
       "    </tr>\n",
       "    <tr>\n",
       "      <th>1291</th>\n",
       "      <td>1735430400</td>\n",
       "      <td>195.15</td>\n",
       "      <td>197.19</td>\n",
       "      <td>188.26</td>\n",
       "      <td>189.60</td>\n",
       "      <td>120179.830193</td>\n",
       "      <td>45590.791614</td>\n",
       "      <td>74589.038579</td>\n",
       "    </tr>\n",
       "    <tr>\n",
       "      <th>1292</th>\n",
       "      <td>1735516800</td>\n",
       "      <td>189.60</td>\n",
       "      <td>196.10</td>\n",
       "      <td>185.58</td>\n",
       "      <td>191.06</td>\n",
       "      <td>186701.859563</td>\n",
       "      <td>80979.111912</td>\n",
       "      <td>105722.747651</td>\n",
       "    </tr>\n",
       "    <tr>\n",
       "      <th>1293</th>\n",
       "      <td>1735603200</td>\n",
       "      <td>191.06</td>\n",
       "      <td>198.73</td>\n",
       "      <td>187.76</td>\n",
       "      <td>188.95</td>\n",
       "      <td>169485.435743</td>\n",
       "      <td>98813.418835</td>\n",
       "      <td>70672.016908</td>\n",
       "    </tr>\n",
       "    <tr>\n",
       "      <th>1294</th>\n",
       "      <td>1735689600</td>\n",
       "      <td>188.95</td>\n",
       "      <td>192.19</td>\n",
       "      <td>187.63</td>\n",
       "      <td>191.97</td>\n",
       "      <td>68217.177694</td>\n",
       "      <td>38111.182699</td>\n",
       "      <td>30105.994995</td>\n",
       "    </tr>\n",
       "  </tbody>\n",
       "</table>\n",
       "<p>1295 rows × 8 columns</p>\n",
       "</div>"
      ],
      "text/plain": [
       "       timestamp    open    high     low   close         volume    volume_buy  \\\n",
       "0     1623888000   40.23   40.57   38.30   39.13    6007.618490   2885.660324   \n",
       "1     1623974400   39.13   39.36   35.00   36.62   13557.357196   7925.472309   \n",
       "2     1624060800   36.62   37.35   35.00   35.45   16986.163716   9258.361133   \n",
       "3     1624147200   35.45   35.89   31.48   35.28   38681.265775  21052.579774   \n",
       "4     1624233600   35.28   35.28   26.00   26.55   41903.613224  15380.745579   \n",
       "...          ...     ...     ...     ...     ...            ...           ...   \n",
       "1290  1735344000  183.81  186.47  183.57  185.64   30635.592390  19058.783527   \n",
       "1291  1735430400  195.15  197.19  188.26  189.60  120179.830193  45590.791614   \n",
       "1292  1735516800  189.60  196.10  185.58  191.06  186701.859563  80979.111912   \n",
       "1293  1735603200  191.06  198.73  187.76  188.95  169485.435743  98813.418835   \n",
       "1294  1735689600  188.95  192.19  187.63  191.97   68217.177694  38111.182699   \n",
       "\n",
       "        volume_sell  \n",
       "0       3121.958166  \n",
       "1       5631.884887  \n",
       "2       7727.802583  \n",
       "3      17628.686001  \n",
       "4      26522.867646  \n",
       "...             ...  \n",
       "1290   11576.808863  \n",
       "1291   74589.038579  \n",
       "1292  105722.747651  \n",
       "1293   70672.016908  \n",
       "1294   30105.994995  \n",
       "\n",
       "[1295 rows x 8 columns]"
      ]
     },
     "execution_count": 4,
     "metadata": {},
     "output_type": "execute_result"
    }
   ],
   "source": [
    "# ****************** Solana data ******************\n",
    "\n",
    "solana_feature_group = fs.get_feature_group(\n",
    "    name=\"solana\",  \n",
    "    version=1\n",
    ")\n",
    "\n",
    "# Step 3: Read the data from the feature group\n",
    "solana_df = solana_feature_group.read().sort_values(by='timestamp', inplace=False).reset_index(drop=True)\n",
    "# solana_df['open_diff'] = solana_df['open'].diff().fillna(0)\n",
    "solana_df"
   ]
  },
  {
   "cell_type": "code",
   "execution_count": 5,
   "metadata": {
    "ExecuteTime": {
     "end_time": "2025-01-02T14:20:10.296722Z",
     "start_time": "2025-01-02T14:20:08.672572Z"
    }
   },
   "outputs": [
    {
     "name": "stdout",
     "output_type": "stream",
     "text": [
      "Finished: Reading data from Hopsworks, using Hopsworks Feature Query Service (0.91s) \n"
     ]
    }
   ],
   "source": [
    "# ****************** Bitcoin Data ******************\n",
    "bitcoin_feature_group = fs.get_feature_group(\n",
    "    name=\"bitcoin\",  \n",
    "    version=1\n",
    ")\n",
    "\n",
    "# Step 3: Read the data from the feature group\n",
    "bitcoin_df = bitcoin_feature_group.read().sort_values(by='timestamp', inplace=False).reset_index(drop=True)\n",
    "# bitcoin_df['open_diff'] = bitcoin_df['open'].diff()\n",
    "bitcoin_df = bitcoin_df[[\"timestamp\",\"open\"]]"
   ]
  },
  {
   "cell_type": "code",
   "execution_count": 6,
   "metadata": {
    "ExecuteTime": {
     "end_time": "2025-01-02T14:20:12.603860Z",
     "start_time": "2025-01-02T14:20:10.296572Z"
    }
   },
   "outputs": [
    {
     "name": "stdout",
     "output_type": "stream",
     "text": [
      "Finished: Reading data from Hopsworks, using Hopsworks Feature Query Service (1.02s) \n"
     ]
    },
    {
     "data": {
      "text/html": [
       "<div>\n",
       "<style scoped>\n",
       "    .dataframe tbody tr th:only-of-type {\n",
       "        vertical-align: middle;\n",
       "    }\n",
       "\n",
       "    .dataframe tbody tr th {\n",
       "        vertical-align: top;\n",
       "    }\n",
       "\n",
       "    .dataframe thead th {\n",
       "        text-align: right;\n",
       "    }\n",
       "</style>\n",
       "<table border=\"1\" class=\"dataframe\">\n",
       "  <thead>\n",
       "    <tr style=\"text-align: right;\">\n",
       "      <th></th>\n",
       "      <th>fng_value</th>\n",
       "      <th>fng_classification</th>\n",
       "      <th>timestamp</th>\n",
       "    </tr>\n",
       "  </thead>\n",
       "  <tbody>\n",
       "    <tr>\n",
       "      <th>0</th>\n",
       "      <td>74</td>\n",
       "      <td>3</td>\n",
       "      <td>1.718410e+09</td>\n",
       "    </tr>\n",
       "    <tr>\n",
       "      <th>1</th>\n",
       "      <td>77</td>\n",
       "      <td>4</td>\n",
       "      <td>1.710720e+09</td>\n",
       "    </tr>\n",
       "    <tr>\n",
       "      <th>2</th>\n",
       "      <td>43</td>\n",
       "      <td>1</td>\n",
       "      <td>1.550189e+09</td>\n",
       "    </tr>\n",
       "    <tr>\n",
       "      <th>3</th>\n",
       "      <td>68</td>\n",
       "      <td>3</td>\n",
       "      <td>1.721952e+09</td>\n",
       "    </tr>\n",
       "    <tr>\n",
       "      <th>4</th>\n",
       "      <td>30</td>\n",
       "      <td>1</td>\n",
       "      <td>1.659571e+09</td>\n",
       "    </tr>\n",
       "    <tr>\n",
       "      <th>...</th>\n",
       "      <td>...</td>\n",
       "      <td>...</td>\n",
       "      <td>...</td>\n",
       "    </tr>\n",
       "    <tr>\n",
       "      <th>2521</th>\n",
       "      <td>50</td>\n",
       "      <td>2</td>\n",
       "      <td>1.589760e+09</td>\n",
       "    </tr>\n",
       "    <tr>\n",
       "      <th>2522</th>\n",
       "      <td>79</td>\n",
       "      <td>4</td>\n",
       "      <td>1.707782e+09</td>\n",
       "    </tr>\n",
       "    <tr>\n",
       "      <th>2523</th>\n",
       "      <td>27</td>\n",
       "      <td>1</td>\n",
       "      <td>1.645747e+09</td>\n",
       "    </tr>\n",
       "    <tr>\n",
       "      <th>2524</th>\n",
       "      <td>28</td>\n",
       "      <td>1</td>\n",
       "      <td>1.542586e+09</td>\n",
       "    </tr>\n",
       "    <tr>\n",
       "      <th>2525</th>\n",
       "      <td>15</td>\n",
       "      <td>0</td>\n",
       "      <td>1.654560e+09</td>\n",
       "    </tr>\n",
       "  </tbody>\n",
       "</table>\n",
       "<p>2526 rows × 3 columns</p>\n",
       "</div>"
      ],
      "text/plain": [
       "     fng_value  fng_classification     timestamp\n",
       "0           74                   3  1.718410e+09\n",
       "1           77                   4  1.710720e+09\n",
       "2           43                   1  1.550189e+09\n",
       "3           68                   3  1.721952e+09\n",
       "4           30                   1  1.659571e+09\n",
       "...        ...                 ...           ...\n",
       "2521        50                   2  1.589760e+09\n",
       "2522        79                   4  1.707782e+09\n",
       "2523        27                   1  1.645747e+09\n",
       "2524        28                   1  1.542586e+09\n",
       "2525        15                   0  1.654560e+09\n",
       "\n",
       "[2526 rows x 3 columns]"
      ]
     },
     "execution_count": 6,
     "metadata": {},
     "output_type": "execute_result"
    }
   ],
   "source": [
    "# ****************** Fear and Greed Index Data ******************\n",
    "\n",
    "#fs = project.get_feature_store(name='kth_lab1_2024_featurestore')\n",
    "fs = project.get_feature_store()\n",
    "fng_feature_group = fs.get_feature_group('f_n_g_index', version=1)\n",
    "fng_df = fng_feature_group.read()\n",
    "fng_df['timestamp'] = fng_df['timestamp'].astype(float)\n",
    "fng_df['fng_classification'] = fng_df['fng_classification'].map(fng_labels_to_numbers_map)\n",
    "\n",
    "fng_df\n"
   ]
  },
  {
   "cell_type": "code",
   "execution_count": 7,
   "metadata": {
    "ExecuteTime": {
     "end_time": "2025-01-02T14:20:12.618780Z",
     "start_time": "2025-01-02T14:20:12.607456Z"
    }
   },
   "outputs": [
    {
     "data": {
      "text/html": [
       "<div>\n",
       "<style scoped>\n",
       "    .dataframe tbody tr th:only-of-type {\n",
       "        vertical-align: middle;\n",
       "    }\n",
       "\n",
       "    .dataframe tbody tr th {\n",
       "        vertical-align: top;\n",
       "    }\n",
       "\n",
       "    .dataframe thead th {\n",
       "        text-align: right;\n",
       "    }\n",
       "</style>\n",
       "<table border=\"1\" class=\"dataframe\">\n",
       "  <thead>\n",
       "    <tr style=\"text-align: right;\">\n",
       "      <th></th>\n",
       "      <th>timestamp</th>\n",
       "      <th>open_solana</th>\n",
       "      <th>high</th>\n",
       "      <th>low</th>\n",
       "      <th>close</th>\n",
       "      <th>volume</th>\n",
       "      <th>volume_buy</th>\n",
       "      <th>volume_sell</th>\n",
       "      <th>open_bitcoin</th>\n",
       "      <th>fng_value</th>\n",
       "      <th>fng_classification</th>\n",
       "    </tr>\n",
       "  </thead>\n",
       "  <tbody>\n",
       "    <tr>\n",
       "      <th>0</th>\n",
       "      <td>1623888000</td>\n",
       "      <td>40.23</td>\n",
       "      <td>40.57</td>\n",
       "      <td>38.30</td>\n",
       "      <td>39.13</td>\n",
       "      <td>6007.618490</td>\n",
       "      <td>2885.660324</td>\n",
       "      <td>3121.958166</td>\n",
       "      <td>38337.1</td>\n",
       "      <td>26</td>\n",
       "      <td>1</td>\n",
       "    </tr>\n",
       "    <tr>\n",
       "      <th>1</th>\n",
       "      <td>1623974400</td>\n",
       "      <td>39.13</td>\n",
       "      <td>39.36</td>\n",
       "      <td>35.00</td>\n",
       "      <td>36.62</td>\n",
       "      <td>13557.357196</td>\n",
       "      <td>7925.472309</td>\n",
       "      <td>5631.884887</td>\n",
       "      <td>38078.2</td>\n",
       "      <td>25</td>\n",
       "      <td>0</td>\n",
       "    </tr>\n",
       "    <tr>\n",
       "      <th>2</th>\n",
       "      <td>1624060800</td>\n",
       "      <td>36.62</td>\n",
       "      <td>37.35</td>\n",
       "      <td>35.00</td>\n",
       "      <td>35.45</td>\n",
       "      <td>16986.163716</td>\n",
       "      <td>9258.361133</td>\n",
       "      <td>7727.802583</td>\n",
       "      <td>35824.0</td>\n",
       "      <td>23</td>\n",
       "      <td>0</td>\n",
       "    </tr>\n",
       "    <tr>\n",
       "      <th>3</th>\n",
       "      <td>1624147200</td>\n",
       "      <td>35.45</td>\n",
       "      <td>35.89</td>\n",
       "      <td>31.48</td>\n",
       "      <td>35.28</td>\n",
       "      <td>38681.265775</td>\n",
       "      <td>21052.579774</td>\n",
       "      <td>17628.686001</td>\n",
       "      <td>35490.5</td>\n",
       "      <td>21</td>\n",
       "      <td>0</td>\n",
       "    </tr>\n",
       "    <tr>\n",
       "      <th>4</th>\n",
       "      <td>1624233600</td>\n",
       "      <td>35.28</td>\n",
       "      <td>35.28</td>\n",
       "      <td>26.00</td>\n",
       "      <td>26.55</td>\n",
       "      <td>41903.613224</td>\n",
       "      <td>15380.745579</td>\n",
       "      <td>26522.867646</td>\n",
       "      <td>35595.0</td>\n",
       "      <td>23</td>\n",
       "      <td>0</td>\n",
       "    </tr>\n",
       "  </tbody>\n",
       "</table>\n",
       "</div>"
      ],
      "text/plain": [
       "    timestamp  open_solana   high    low  close        volume    volume_buy  \\\n",
       "0  1623888000        40.23  40.57  38.30  39.13   6007.618490   2885.660324   \n",
       "1  1623974400        39.13  39.36  35.00  36.62  13557.357196   7925.472309   \n",
       "2  1624060800        36.62  37.35  35.00  35.45  16986.163716   9258.361133   \n",
       "3  1624147200        35.45  35.89  31.48  35.28  38681.265775  21052.579774   \n",
       "4  1624233600        35.28  35.28  26.00  26.55  41903.613224  15380.745579   \n",
       "\n",
       "    volume_sell  open_bitcoin fng_value  fng_classification  \n",
       "0   3121.958166       38337.1        26                   1  \n",
       "1   5631.884887       38078.2        25                   0  \n",
       "2   7727.802583       35824.0        23                   0  \n",
       "3  17628.686001       35490.5        21                   0  \n",
       "4  26522.867646       35595.0        23                   0  "
      ]
     },
     "execution_count": 7,
     "metadata": {},
     "output_type": "execute_result"
    }
   ],
   "source": [
    "\n",
    "all_data = pd.merge(solana_df, bitcoin_df, how='inner', on=\"timestamp\",suffixes=('_solana', '_bitcoin'))  \n",
    "all_data = pd.merge(all_data, fng_df, how='inner', on=\"timestamp\")\n",
    "all_data.head()\n"
   ]
  },
  {
   "cell_type": "markdown",
   "metadata": {},
   "source": [
    "### Data Preprocessing"
   ]
  },
  {
   "cell_type": "code",
   "execution_count": 8,
   "metadata": {
    "ExecuteTime": {
     "end_time": "2025-01-02T14:20:12.628901Z",
     "start_time": "2025-01-02T14:20:12.617595Z"
    }
   },
   "outputs": [
    {
     "data": {
      "text/html": [
       "<div>\n",
       "<style scoped>\n",
       "    .dataframe tbody tr th:only-of-type {\n",
       "        vertical-align: middle;\n",
       "    }\n",
       "\n",
       "    .dataframe tbody tr th {\n",
       "        vertical-align: top;\n",
       "    }\n",
       "\n",
       "    .dataframe thead th {\n",
       "        text-align: right;\n",
       "    }\n",
       "</style>\n",
       "<table border=\"1\" class=\"dataframe\">\n",
       "  <thead>\n",
       "    <tr style=\"text-align: right;\">\n",
       "      <th></th>\n",
       "      <th>high</th>\n",
       "      <th>low</th>\n",
       "      <th>close</th>\n",
       "      <th>volume</th>\n",
       "      <th>volume_buy</th>\n",
       "      <th>volume_sell</th>\n",
       "      <th>open_bitcoin</th>\n",
       "      <th>fng_value</th>\n",
       "      <th>fng_classification</th>\n",
       "      <th>open_solana</th>\n",
       "    </tr>\n",
       "  </thead>\n",
       "  <tbody>\n",
       "    <tr>\n",
       "      <th>0</th>\n",
       "      <td>40.57</td>\n",
       "      <td>38.30</td>\n",
       "      <td>39.13</td>\n",
       "      <td>6007.618490</td>\n",
       "      <td>2885.660324</td>\n",
       "      <td>3121.958166</td>\n",
       "      <td>38337.1</td>\n",
       "      <td>26</td>\n",
       "      <td>1</td>\n",
       "      <td>40.23</td>\n",
       "    </tr>\n",
       "    <tr>\n",
       "      <th>1</th>\n",
       "      <td>39.36</td>\n",
       "      <td>35.00</td>\n",
       "      <td>36.62</td>\n",
       "      <td>13557.357196</td>\n",
       "      <td>7925.472309</td>\n",
       "      <td>5631.884887</td>\n",
       "      <td>38078.2</td>\n",
       "      <td>25</td>\n",
       "      <td>0</td>\n",
       "      <td>39.13</td>\n",
       "    </tr>\n",
       "    <tr>\n",
       "      <th>2</th>\n",
       "      <td>37.35</td>\n",
       "      <td>35.00</td>\n",
       "      <td>35.45</td>\n",
       "      <td>16986.163716</td>\n",
       "      <td>9258.361133</td>\n",
       "      <td>7727.802583</td>\n",
       "      <td>35824.0</td>\n",
       "      <td>23</td>\n",
       "      <td>0</td>\n",
       "      <td>36.62</td>\n",
       "    </tr>\n",
       "    <tr>\n",
       "      <th>3</th>\n",
       "      <td>35.89</td>\n",
       "      <td>31.48</td>\n",
       "      <td>35.28</td>\n",
       "      <td>38681.265775</td>\n",
       "      <td>21052.579774</td>\n",
       "      <td>17628.686001</td>\n",
       "      <td>35490.5</td>\n",
       "      <td>21</td>\n",
       "      <td>0</td>\n",
       "      <td>35.45</td>\n",
       "    </tr>\n",
       "    <tr>\n",
       "      <th>4</th>\n",
       "      <td>35.28</td>\n",
       "      <td>26.00</td>\n",
       "      <td>26.55</td>\n",
       "      <td>41903.613224</td>\n",
       "      <td>15380.745579</td>\n",
       "      <td>26522.867646</td>\n",
       "      <td>35595.0</td>\n",
       "      <td>23</td>\n",
       "      <td>0</td>\n",
       "      <td>35.28</td>\n",
       "    </tr>\n",
       "  </tbody>\n",
       "</table>\n",
       "</div>"
      ],
      "text/plain": [
       "    high    low  close        volume    volume_buy   volume_sell  \\\n",
       "0  40.57  38.30  39.13   6007.618490   2885.660324   3121.958166   \n",
       "1  39.36  35.00  36.62  13557.357196   7925.472309   5631.884887   \n",
       "2  37.35  35.00  35.45  16986.163716   9258.361133   7727.802583   \n",
       "3  35.89  31.48  35.28  38681.265775  21052.579774  17628.686001   \n",
       "4  35.28  26.00  26.55  41903.613224  15380.745579  26522.867646   \n",
       "\n",
       "   open_bitcoin fng_value  fng_classification  open_solana  \n",
       "0       38337.1        26                   1        40.23  \n",
       "1       38078.2        25                   0        39.13  \n",
       "2       35824.0        23                   0        36.62  \n",
       "3       35490.5        21                   0        35.45  \n",
       "4       35595.0        23                   0        35.28  "
      ]
     },
     "execution_count": 8,
     "metadata": {},
     "output_type": "execute_result"
    }
   ],
   "source": [
    "# All data object will be used as features and thus we dont need timestamp\n",
    "if \"timestamp\" in all_data.columns:\n",
    "    all_data = all_data.drop(columns=['timestamp'])\n",
    "\n",
    "target_column = 'open_solana'\n",
    "all_data = utils.move_target_at_the_end(all_data, target_column)\n",
    "all_data_values = all_data.values\n",
    "\n",
    "all_data.head()"
   ]
  },
  {
   "cell_type": "code",
   "execution_count": 9,
   "metadata": {
    "ExecuteTime": {
     "end_time": "2025-01-02T14:20:12.665366Z",
     "start_time": "2025-01-02T14:20:12.630095Z"
    }
   },
   "outputs": [
    {
     "data": {
      "text/plain": [
       "((1254, 30, 10), (1254, 10))"
      ]
     },
     "execution_count": 9,
     "metadata": {},
     "output_type": "execute_result"
    }
   ],
   "source": [
    "time_steps = 30\n",
    "num_predictions = 10\n",
    "X, y = utils.create_sequences(all_data_values, time_steps=time_steps, num_predictions=num_predictions)\n",
    "# y_percentage_change = create_featured_label(all_data_values, time_steps=time_steps, num_predictions=num_predictions)\n",
    "X.shape, y.shape"
   ]
  },
  {
   "cell_type": "markdown",
   "metadata": {},
   "source": [
    "### Separate dataset into train validation and test set "
   ]
  },
  {
   "cell_type": "code",
   "execution_count": 10,
   "metadata": {
    "ExecuteTime": {
     "end_time": "2025-01-02T14:20:12.665645Z",
     "start_time": "2025-01-02T14:20:12.633632Z"
    }
   },
   "outputs": [
    {
     "name": "stdout",
     "output_type": "stream",
     "text": [
      "X_train shape: (702, 30, 10), X_val shape: (301, 30, 10), X_test shape: (251, 30, 10)\n",
      "Labels1_train shape: (702, 10), Labels1 val shape: (301, 10), Labels1_test shape: (251, 10)\n"
     ]
    }
   ],
   "source": [
    "\n",
    "(X_train, X_val, X_test, y_train, y_val, y_test ) = utils.train_val_test_split(X, y)\n",
    "print(f\"X_train shape: {X_train.shape}, X_val shape: {X_val.shape}, X_test shape: {X_test.shape}\")\n",
    "print(f\"Labels1_train shape: {y_train.shape}, Labels1 val shape: {y_val.shape}, Labels1_test shape: {y_test.shape}\")\n"
   ]
  },
  {
   "cell_type": "markdown",
   "metadata": {},
   "source": [
    "### Normalize data in order to be used with the model"
   ]
  },
  {
   "cell_type": "code",
   "execution_count": 11,
   "metadata": {
    "ExecuteTime": {
     "end_time": "2025-01-02T14:20:12.714761Z",
     "start_time": "2025-01-02T14:20:12.640692Z"
    }
   },
   "outputs": [],
   "source": [
    "scaler_features = MinMaxScaler(feature_range=(0, 1))\n",
    "\n",
    "data_reshaped = X_train.reshape(-1, X_train.shape[2])  # Shape: (12680, 18)\n",
    "\n",
    "data_scaled = scaler_features.fit_transform(data_reshaped)\n",
    "\n",
    "X_train = data_scaled.reshape(X_train.shape)\n",
    "\n",
    "# ************************************************\n",
    "\n",
    "data_reshaped = X_val.reshape(-1, X_val.shape[2])  \n",
    "\n",
    "data_scaled = scaler_features.transform(data_reshaped)\n",
    "\n",
    "X_val = data_scaled.reshape(X_val.shape)\n",
    "\n",
    "# *************************************************\n",
    "data_reshaped = X_test.reshape(-1, X_test.shape[2]) \n",
    "\n",
    "\n",
    "data_scaled = scaler_features.transform(data_reshaped)\n",
    "\n",
    "X_test = data_scaled.reshape(X_test.shape)\n",
    "\n"
   ]
  },
  {
   "cell_type": "code",
   "execution_count": 12,
   "metadata": {
    "ExecuteTime": {
     "end_time": "2025-01-02T14:20:12.714980Z",
     "start_time": "2025-01-02T14:20:12.650962Z"
    }
   },
   "outputs": [],
   "source": [
    "scaler_labels = MinMaxScaler(feature_range=(0, 1))\n",
    "scaler_labels.fit(y_train)\n",
    "\n",
    "y_train = scaler_labels.transform(y_train)\n",
    "y_val = scaler_labels.transform(y_val)\n",
    "y_test = scaler_labels.transform(y_test)"
   ]
  },
  {
   "cell_type": "markdown",
   "metadata": {},
   "source": [
    "### Train LSTM Model"
   ]
  },
  {
   "cell_type": "code",
   "execution_count": 13,
   "metadata": {
    "ExecuteTime": {
     "end_time": "2025-01-02T14:23:02.585208Z",
     "start_time": "2025-01-02T14:23:02.582581Z"
    }
   },
   "outputs": [],
   "source": [
    "from tensorflow.keras.models import Sequential\n",
    "from tensorflow.keras.layers import *\n",
    "from tensorflow.keras.losses import MeanSquaredError\n",
    "from tensorflow.keras.metrics import RootMeanSquaredError, R2Score \n",
    "from tensorflow.keras.optimizers import Adam\n",
    "from tensorflow.keras.callbacks import ModelCheckpoint\n",
    "from keras.regularizers import l2"
   ]
  },
  {
   "cell_type": "code",
   "execution_count": 70,
   "metadata": {
    "ExecuteTime": {
     "start_time": "2025-01-02T14:23:02.586367Z"
    }
   },
   "outputs": [
    {
     "data": {
      "text/html": [
       "<pre style=\"white-space:pre;overflow-x:auto;line-height:normal;font-family:Menlo,'DejaVu Sans Mono',consolas,'Courier New',monospace\"><span style=\"font-weight: bold\">Model: \"sequential_7\"</span>\n",
       "</pre>\n"
      ],
      "text/plain": [
       "\u001b[1mModel: \"sequential_7\"\u001b[0m\n"
      ]
     },
     "metadata": {},
     "output_type": "display_data"
    },
    {
     "data": {
      "text/html": [
       "<pre style=\"white-space:pre;overflow-x:auto;line-height:normal;font-family:Menlo,'DejaVu Sans Mono',consolas,'Courier New',monospace\">┏━━━━━━━━━━━━━━━━━━━━━━━━━━━━━━━━━┳━━━━━━━━━━━━━━━━━━━━━━━━┳━━━━━━━━━━━━━━━┓\n",
       "┃<span style=\"font-weight: bold\"> Layer (type)                    </span>┃<span style=\"font-weight: bold\"> Output Shape           </span>┃<span style=\"font-weight: bold\">       Param # </span>┃\n",
       "┡━━━━━━━━━━━━━━━━━━━━━━━━━━━━━━━━━╇━━━━━━━━━━━━━━━━━━━━━━━━╇━━━━━━━━━━━━━━━┩\n",
       "│ lstm_7 (<span style=\"color: #0087ff; text-decoration-color: #0087ff\">LSTM</span>)                   │ (<span style=\"color: #00d7ff; text-decoration-color: #00d7ff\">None</span>, <span style=\"color: #00af00; text-decoration-color: #00af00\">12</span>)             │         <span style=\"color: #00af00; text-decoration-color: #00af00\">1,104</span> │\n",
       "├─────────────────────────────────┼────────────────────────┼───────────────┤\n",
       "│ dense_14 (<span style=\"color: #0087ff; text-decoration-color: #0087ff\">Dense</span>)                │ (<span style=\"color: #00d7ff; text-decoration-color: #00d7ff\">None</span>, <span style=\"color: #00af00; text-decoration-color: #00af00\">10</span>)             │           <span style=\"color: #00af00; text-decoration-color: #00af00\">130</span> │\n",
       "├─────────────────────────────────┼────────────────────────┼───────────────┤\n",
       "│ dense_15 (<span style=\"color: #0087ff; text-decoration-color: #0087ff\">Dense</span>)                │ (<span style=\"color: #00d7ff; text-decoration-color: #00d7ff\">None</span>, <span style=\"color: #00af00; text-decoration-color: #00af00\">10</span>)             │           <span style=\"color: #00af00; text-decoration-color: #00af00\">110</span> │\n",
       "└─────────────────────────────────┴────────────────────────┴───────────────┘\n",
       "</pre>\n"
      ],
      "text/plain": [
       "┏━━━━━━━━━━━━━━━━━━━━━━━━━━━━━━━━━┳━━━━━━━━━━━━━━━━━━━━━━━━┳━━━━━━━━━━━━━━━┓\n",
       "┃\u001b[1m \u001b[0m\u001b[1mLayer (type)                   \u001b[0m\u001b[1m \u001b[0m┃\u001b[1m \u001b[0m\u001b[1mOutput Shape          \u001b[0m\u001b[1m \u001b[0m┃\u001b[1m \u001b[0m\u001b[1m      Param #\u001b[0m\u001b[1m \u001b[0m┃\n",
       "┡━━━━━━━━━━━━━━━━━━━━━━━━━━━━━━━━━╇━━━━━━━━━━━━━━━━━━━━━━━━╇━━━━━━━━━━━━━━━┩\n",
       "│ lstm_7 (\u001b[38;5;33mLSTM\u001b[0m)                   │ (\u001b[38;5;45mNone\u001b[0m, \u001b[38;5;34m12\u001b[0m)             │         \u001b[38;5;34m1,104\u001b[0m │\n",
       "├─────────────────────────────────┼────────────────────────┼───────────────┤\n",
       "│ dense_14 (\u001b[38;5;33mDense\u001b[0m)                │ (\u001b[38;5;45mNone\u001b[0m, \u001b[38;5;34m10\u001b[0m)             │           \u001b[38;5;34m130\u001b[0m │\n",
       "├─────────────────────────────────┼────────────────────────┼───────────────┤\n",
       "│ dense_15 (\u001b[38;5;33mDense\u001b[0m)                │ (\u001b[38;5;45mNone\u001b[0m, \u001b[38;5;34m10\u001b[0m)             │           \u001b[38;5;34m110\u001b[0m │\n",
       "└─────────────────────────────────┴────────────────────────┴───────────────┘\n"
      ]
     },
     "metadata": {},
     "output_type": "display_data"
    },
    {
     "data": {
      "text/html": [
       "<pre style=\"white-space:pre;overflow-x:auto;line-height:normal;font-family:Menlo,'DejaVu Sans Mono',consolas,'Courier New',monospace\"><span style=\"font-weight: bold\"> Total params: </span><span style=\"color: #00af00; text-decoration-color: #00af00\">1,344</span> (5.25 KB)\n",
       "</pre>\n"
      ],
      "text/plain": [
       "\u001b[1m Total params: \u001b[0m\u001b[38;5;34m1,344\u001b[0m (5.25 KB)\n"
      ]
     },
     "metadata": {},
     "output_type": "display_data"
    },
    {
     "data": {
      "text/html": [
       "<pre style=\"white-space:pre;overflow-x:auto;line-height:normal;font-family:Menlo,'DejaVu Sans Mono',consolas,'Courier New',monospace\"><span style=\"font-weight: bold\"> Trainable params: </span><span style=\"color: #00af00; text-decoration-color: #00af00\">1,344</span> (5.25 KB)\n",
       "</pre>\n"
      ],
      "text/plain": [
       "\u001b[1m Trainable params: \u001b[0m\u001b[38;5;34m1,344\u001b[0m (5.25 KB)\n"
      ]
     },
     "metadata": {},
     "output_type": "display_data"
    },
    {
     "data": {
      "text/html": [
       "<pre style=\"white-space:pre;overflow-x:auto;line-height:normal;font-family:Menlo,'DejaVu Sans Mono',consolas,'Courier New',monospace\"><span style=\"font-weight: bold\"> Non-trainable params: </span><span style=\"color: #00af00; text-decoration-color: #00af00\">0</span> (0.00 B)\n",
       "</pre>\n"
      ],
      "text/plain": [
       "\u001b[1m Non-trainable params: \u001b[0m\u001b[38;5;34m0\u001b[0m (0.00 B)\n"
      ]
     },
     "metadata": {},
     "output_type": "display_data"
    }
   ],
   "source": [
    "\n",
    "model = Sequential()\n",
    "model.add(InputLayer((time_steps, X.shape[2])))\n",
    "model.add(LSTM(12, return_sequences=False))  # L2 regularization\n",
    "model.add(Dense(y.shape[1], activation='relu'))       # L2 regularization\n",
    "model.add(Dense(y.shape[1], activation='linear'))        \n",
    "model.summary()"
   ]
  },
  {
   "cell_type": "code",
   "execution_count": 74,
   "metadata": {
    "ExecuteTime": {
     "end_time": "2025-01-02T14:20:15.983426Z",
     "start_time": "2025-01-02T14:20:15.977383Z"
    }
   },
   "outputs": [],
   "source": [
    "cp2 = ModelCheckpoint('solana_price_model_10d/best_model.keras', save_best_only=True)\n",
    "model.compile(loss=MeanSquaredError(), optimizer=Adam(learning_rate=0.0001), metrics=[MeanSquaredError(), R2Score()])"
   ]
  },
  {
   "cell_type": "code",
   "execution_count": 75,
   "metadata": {
    "ExecuteTime": {
     "end_time": "2025-01-02T14:20:15.985301Z",
     "start_time": "2025-01-02T14:20:15.982571Z"
    }
   },
   "outputs": [
    {
     "data": {
      "text/plain": [
       "((702, 30, 10), (702, 10), (301, 30, 10), (301, 10))"
      ]
     },
     "execution_count": 75,
     "metadata": {},
     "output_type": "execute_result"
    }
   ],
   "source": [
    "X_train.shape, y_train.shape, X_val.shape, y_val.shape\n"
   ]
  },
  {
   "cell_type": "code",
   "execution_count": 76,
   "metadata": {
    "ExecuteTime": {
     "end_time": "2025-01-02T14:21:52.449980Z",
     "start_time": "2025-01-02T14:20:15.985528Z"
    }
   },
   "outputs": [
    {
     "name": "stdout",
     "output_type": "stream",
     "text": [
      "Epoch 1/300\n",
      "\u001b[1m22/22\u001b[0m \u001b[32m━━━━━━━━━━━━━━━━━━━━\u001b[0m\u001b[37m\u001b[0m \u001b[1m1s\u001b[0m 12ms/step - loss: 0.0025 - mean_squared_error: 0.0025 - r2_score: 0.9596 - val_loss: 0.0071 - val_mean_squared_error: 0.0104 - val_r2_score: 0.8464\n",
      "Epoch 2/300\n",
      "\u001b[1m22/22\u001b[0m \u001b[32m━━━━━━━━━━━━━━━━━━━━\u001b[0m\u001b[37m\u001b[0m \u001b[1m0s\u001b[0m 5ms/step - loss: 0.0024 - mean_squared_error: 0.0024 - r2_score: 0.9634 - val_loss: 0.0070 - val_mean_squared_error: 0.0103 - val_r2_score: 0.8483\n",
      "Epoch 3/300\n",
      "\u001b[1m22/22\u001b[0m \u001b[32m━━━━━━━━━━━━━━━━━━━━\u001b[0m\u001b[37m\u001b[0m \u001b[1m0s\u001b[0m 6ms/step - loss: 0.0025 - mean_squared_error: 0.0025 - r2_score: 0.9624 - val_loss: 0.0069 - val_mean_squared_error: 0.0101 - val_r2_score: 0.8512\n",
      "Epoch 4/300\n",
      "\u001b[1m22/22\u001b[0m \u001b[32m━━━━━━━━━━━━━━━━━━━━\u001b[0m\u001b[37m\u001b[0m \u001b[1m0s\u001b[0m 5ms/step - loss: 0.0026 - mean_squared_error: 0.0026 - r2_score: 0.9619 - val_loss: 0.0070 - val_mean_squared_error: 0.0102 - val_r2_score: 0.8502\n",
      "Epoch 5/300\n",
      "\u001b[1m22/22\u001b[0m \u001b[32m━━━━━━━━━━━━━━━━━━━━\u001b[0m\u001b[37m\u001b[0m \u001b[1m0s\u001b[0m 5ms/step - loss: 0.0026 - mean_squared_error: 0.0026 - r2_score: 0.9603 - val_loss: 0.0069 - val_mean_squared_error: 0.0101 - val_r2_score: 0.8512\n",
      "Epoch 6/300\n",
      "\u001b[1m22/22\u001b[0m \u001b[32m━━━━━━━━━━━━━━━━━━━━\u001b[0m\u001b[37m\u001b[0m \u001b[1m0s\u001b[0m 5ms/step - loss: 0.0026 - mean_squared_error: 0.0026 - r2_score: 0.9568 - val_loss: 0.0068 - val_mean_squared_error: 0.0100 - val_r2_score: 0.8525\n",
      "Epoch 7/300\n",
      "\u001b[1m22/22\u001b[0m \u001b[32m━━━━━━━━━━━━━━━━━━━━\u001b[0m\u001b[37m\u001b[0m \u001b[1m0s\u001b[0m 5ms/step - loss: 0.0024 - mean_squared_error: 0.0024 - r2_score: 0.9600 - val_loss: 0.0071 - val_mean_squared_error: 0.0104 - val_r2_score: 0.8479\n",
      "Epoch 8/300\n",
      "\u001b[1m22/22\u001b[0m \u001b[32m━━━━━━━━━━━━━━━━━━━━\u001b[0m\u001b[37m\u001b[0m \u001b[1m0s\u001b[0m 5ms/step - loss: 0.0025 - mean_squared_error: 0.0025 - r2_score: 0.9624 - val_loss: 0.0070 - val_mean_squared_error: 0.0102 - val_r2_score: 0.8501\n",
      "Epoch 9/300\n",
      "\u001b[1m22/22\u001b[0m \u001b[32m━━━━━━━━━━━━━━━━━━━━\u001b[0m\u001b[37m\u001b[0m \u001b[1m0s\u001b[0m 5ms/step - loss: 0.0024 - mean_squared_error: 0.0024 - r2_score: 0.9612 - val_loss: 0.0070 - val_mean_squared_error: 0.0103 - val_r2_score: 0.8493\n",
      "Epoch 10/300\n",
      "\u001b[1m22/22\u001b[0m \u001b[32m━━━━━━━━━━━━━━━━━━━━\u001b[0m\u001b[37m\u001b[0m \u001b[1m0s\u001b[0m 5ms/step - loss: 0.0024 - mean_squared_error: 0.0024 - r2_score: 0.9581 - val_loss: 0.0070 - val_mean_squared_error: 0.0102 - val_r2_score: 0.8498\n",
      "Epoch 11/300\n",
      "\u001b[1m22/22\u001b[0m \u001b[32m━━━━━━━━━━━━━━━━━━━━\u001b[0m\u001b[37m\u001b[0m \u001b[1m0s\u001b[0m 5ms/step - loss: 0.0024 - mean_squared_error: 0.0024 - r2_score: 0.9628 - val_loss: 0.0069 - val_mean_squared_error: 0.0101 - val_r2_score: 0.8516\n",
      "Epoch 12/300\n",
      "\u001b[1m22/22\u001b[0m \u001b[32m━━━━━━━━━━━━━━━━━━━━\u001b[0m\u001b[37m\u001b[0m \u001b[1m0s\u001b[0m 5ms/step - loss: 0.0024 - mean_squared_error: 0.0024 - r2_score: 0.9630 - val_loss: 0.0070 - val_mean_squared_error: 0.0102 - val_r2_score: 0.8498\n",
      "Epoch 13/300\n",
      "\u001b[1m22/22\u001b[0m \u001b[32m━━━━━━━━━━━━━━━━━━━━\u001b[0m\u001b[37m\u001b[0m \u001b[1m0s\u001b[0m 5ms/step - loss: 0.0023 - mean_squared_error: 0.0023 - r2_score: 0.9589 - val_loss: 0.0070 - val_mean_squared_error: 0.0102 - val_r2_score: 0.8502\n",
      "Epoch 14/300\n",
      "\u001b[1m22/22\u001b[0m \u001b[32m━━━━━━━━━━━━━━━━━━━━\u001b[0m\u001b[37m\u001b[0m \u001b[1m0s\u001b[0m 5ms/step - loss: 0.0024 - mean_squared_error: 0.0024 - r2_score: 0.9634 - val_loss: 0.0070 - val_mean_squared_error: 0.0104 - val_r2_score: 0.8482\n",
      "Epoch 15/300\n",
      "\u001b[1m22/22\u001b[0m \u001b[32m━━━━━━━━━━━━━━━━━━━━\u001b[0m\u001b[37m\u001b[0m \u001b[1m0s\u001b[0m 5ms/step - loss: 0.0024 - mean_squared_error: 0.0024 - r2_score: 0.9599 - val_loss: 0.0070 - val_mean_squared_error: 0.0103 - val_r2_score: 0.8491\n",
      "Epoch 16/300\n",
      "\u001b[1m22/22\u001b[0m \u001b[32m━━━━━━━━━━━━━━━━━━━━\u001b[0m\u001b[37m\u001b[0m \u001b[1m0s\u001b[0m 6ms/step - loss: 0.0023 - mean_squared_error: 0.0023 - r2_score: 0.9612 - val_loss: 0.0069 - val_mean_squared_error: 0.0101 - val_r2_score: 0.8515\n",
      "Epoch 17/300\n",
      "\u001b[1m22/22\u001b[0m \u001b[32m━━━━━━━━━━━━━━━━━━━━\u001b[0m\u001b[37m\u001b[0m \u001b[1m0s\u001b[0m 6ms/step - loss: 0.0024 - mean_squared_error: 0.0024 - r2_score: 0.9595 - val_loss: 0.0072 - val_mean_squared_error: 0.0106 - val_r2_score: 0.8447\n",
      "Epoch 18/300\n",
      "\u001b[1m22/22\u001b[0m \u001b[32m━━━━━━━━━━━━━━━━━━━━\u001b[0m\u001b[37m\u001b[0m \u001b[1m0s\u001b[0m 5ms/step - loss: 0.0022 - mean_squared_error: 0.0022 - r2_score: 0.9661 - val_loss: 0.0069 - val_mean_squared_error: 0.0101 - val_r2_score: 0.8523\n",
      "Epoch 19/300\n",
      "\u001b[1m22/22\u001b[0m \u001b[32m━━━━━━━━━━━━━━━━━━━━\u001b[0m\u001b[37m\u001b[0m \u001b[1m0s\u001b[0m 5ms/step - loss: 0.0024 - mean_squared_error: 0.0024 - r2_score: 0.9641 - val_loss: 0.0071 - val_mean_squared_error: 0.0105 - val_r2_score: 0.8462\n",
      "Epoch 20/300\n",
      "\u001b[1m22/22\u001b[0m \u001b[32m━━━━━━━━━━━━━━━━━━━━\u001b[0m\u001b[37m\u001b[0m \u001b[1m0s\u001b[0m 5ms/step - loss: 0.0023 - mean_squared_error: 0.0023 - r2_score: 0.9630 - val_loss: 0.0070 - val_mean_squared_error: 0.0104 - val_r2_score: 0.8484\n",
      "Epoch 21/300\n",
      "\u001b[1m22/22\u001b[0m \u001b[32m━━━━━━━━━━━━━━━━━━━━\u001b[0m\u001b[37m\u001b[0m \u001b[1m0s\u001b[0m 5ms/step - loss: 0.0024 - mean_squared_error: 0.0024 - r2_score: 0.9632 - val_loss: 0.0071 - val_mean_squared_error: 0.0104 - val_r2_score: 0.8481\n",
      "Epoch 22/300\n",
      "\u001b[1m22/22\u001b[0m \u001b[32m━━━━━━━━━━━━━━━━━━━━\u001b[0m\u001b[37m\u001b[0m \u001b[1m0s\u001b[0m 5ms/step - loss: 0.0023 - mean_squared_error: 0.0023 - r2_score: 0.9640 - val_loss: 0.0070 - val_mean_squared_error: 0.0103 - val_r2_score: 0.8494\n",
      "Epoch 23/300\n",
      "\u001b[1m22/22\u001b[0m \u001b[32m━━━━━━━━━━━━━━━━━━━━\u001b[0m\u001b[37m\u001b[0m \u001b[1m0s\u001b[0m 5ms/step - loss: 0.0023 - mean_squared_error: 0.0023 - r2_score: 0.9620 - val_loss: 0.0071 - val_mean_squared_error: 0.0105 - val_r2_score: 0.8469\n",
      "Epoch 24/300\n",
      "\u001b[1m22/22\u001b[0m \u001b[32m━━━━━━━━━━━━━━━━━━━━\u001b[0m\u001b[37m\u001b[0m \u001b[1m0s\u001b[0m 5ms/step - loss: 0.0024 - mean_squared_error: 0.0024 - r2_score: 0.9636 - val_loss: 0.0071 - val_mean_squared_error: 0.0105 - val_r2_score: 0.8466\n",
      "Epoch 25/300\n",
      "\u001b[1m22/22\u001b[0m \u001b[32m━━━━━━━━━━━━━━━━━━━━\u001b[0m\u001b[37m\u001b[0m \u001b[1m0s\u001b[0m 5ms/step - loss: 0.0021 - mean_squared_error: 0.0021 - r2_score: 0.9629 - val_loss: 0.0070 - val_mean_squared_error: 0.0104 - val_r2_score: 0.8484\n",
      "Epoch 26/300\n",
      "\u001b[1m22/22\u001b[0m \u001b[32m━━━━━━━━━━━━━━━━━━━━\u001b[0m\u001b[37m\u001b[0m \u001b[1m0s\u001b[0m 6ms/step - loss: 0.0023 - mean_squared_error: 0.0023 - r2_score: 0.9645 - val_loss: 0.0071 - val_mean_squared_error: 0.0105 - val_r2_score: 0.8461\n",
      "Epoch 27/300\n",
      "\u001b[1m22/22\u001b[0m \u001b[32m━━━━━━━━━━━━━━━━━━━━\u001b[0m\u001b[37m\u001b[0m \u001b[1m0s\u001b[0m 5ms/step - loss: 0.0021 - mean_squared_error: 0.0021 - r2_score: 0.9666 - val_loss: 0.0071 - val_mean_squared_error: 0.0104 - val_r2_score: 0.8481\n",
      "Epoch 28/300\n",
      "\u001b[1m22/22\u001b[0m \u001b[32m━━━━━━━━━━━━━━━━━━━━\u001b[0m\u001b[37m\u001b[0m \u001b[1m0s\u001b[0m 5ms/step - loss: 0.0022 - mean_squared_error: 0.0022 - r2_score: 0.9637 - val_loss: 0.0072 - val_mean_squared_error: 0.0106 - val_r2_score: 0.8456\n",
      "Epoch 29/300\n",
      "\u001b[1m22/22\u001b[0m \u001b[32m━━━━━━━━━━━━━━━━━━━━\u001b[0m\u001b[37m\u001b[0m \u001b[1m0s\u001b[0m 5ms/step - loss: 0.0023 - mean_squared_error: 0.0023 - r2_score: 0.9607 - val_loss: 0.0071 - val_mean_squared_error: 0.0104 - val_r2_score: 0.8475\n",
      "Epoch 30/300\n",
      "\u001b[1m22/22\u001b[0m \u001b[32m━━━━━━━━━━━━━━━━━━━━\u001b[0m\u001b[37m\u001b[0m \u001b[1m0s\u001b[0m 5ms/step - loss: 0.0023 - mean_squared_error: 0.0023 - r2_score: 0.9661 - val_loss: 0.0072 - val_mean_squared_error: 0.0106 - val_r2_score: 0.8446\n",
      "Epoch 31/300\n",
      "\u001b[1m22/22\u001b[0m \u001b[32m━━━━━━━━━━━━━━━━━━━━\u001b[0m\u001b[37m\u001b[0m \u001b[1m0s\u001b[0m 5ms/step - loss: 0.0021 - mean_squared_error: 0.0021 - r2_score: 0.9634 - val_loss: 0.0071 - val_mean_squared_error: 0.0105 - val_r2_score: 0.8471\n",
      "Epoch 32/300\n",
      "\u001b[1m22/22\u001b[0m \u001b[32m━━━━━━━━━━━━━━━━━━━━\u001b[0m\u001b[37m\u001b[0m \u001b[1m0s\u001b[0m 5ms/step - loss: 0.0024 - mean_squared_error: 0.0024 - r2_score: 0.9645 - val_loss: 0.0071 - val_mean_squared_error: 0.0105 - val_r2_score: 0.8473\n",
      "Epoch 33/300\n",
      "\u001b[1m22/22\u001b[0m \u001b[32m━━━━━━━━━━━━━━━━━━━━\u001b[0m\u001b[37m\u001b[0m \u001b[1m0s\u001b[0m 5ms/step - loss: 0.0023 - mean_squared_error: 0.0023 - r2_score: 0.9663 - val_loss: 0.0070 - val_mean_squared_error: 0.0104 - val_r2_score: 0.8487\n",
      "Epoch 34/300\n",
      "\u001b[1m22/22\u001b[0m \u001b[32m━━━━━━━━━━━━━━━━━━━━\u001b[0m\u001b[37m\u001b[0m \u001b[1m0s\u001b[0m 5ms/step - loss: 0.0023 - mean_squared_error: 0.0023 - r2_score: 0.9630 - val_loss: 0.0072 - val_mean_squared_error: 0.0106 - val_r2_score: 0.8446\n",
      "Epoch 35/300\n",
      "\u001b[1m22/22\u001b[0m \u001b[32m━━━━━━━━━━━━━━━━━━━━\u001b[0m\u001b[37m\u001b[0m \u001b[1m0s\u001b[0m 5ms/step - loss: 0.0024 - mean_squared_error: 0.0024 - r2_score: 0.9629 - val_loss: 0.0070 - val_mean_squared_error: 0.0104 - val_r2_score: 0.8481\n",
      "Epoch 36/300\n",
      "\u001b[1m22/22\u001b[0m \u001b[32m━━━━━━━━━━━━━━━━━━━━\u001b[0m\u001b[37m\u001b[0m \u001b[1m0s\u001b[0m 7ms/step - loss: 0.0023 - mean_squared_error: 0.0023 - r2_score: 0.9629 - val_loss: 0.0071 - val_mean_squared_error: 0.0105 - val_r2_score: 0.8470\n",
      "Epoch 37/300\n",
      "\u001b[1m22/22\u001b[0m \u001b[32m━━━━━━━━━━━━━━━━━━━━\u001b[0m\u001b[37m\u001b[0m \u001b[1m0s\u001b[0m 6ms/step - loss: 0.0023 - mean_squared_error: 0.0023 - r2_score: 0.9627 - val_loss: 0.0070 - val_mean_squared_error: 0.0104 - val_r2_score: 0.8486\n",
      "Epoch 38/300\n",
      "\u001b[1m22/22\u001b[0m \u001b[32m━━━━━━━━━━━━━━━━━━━━\u001b[0m\u001b[37m\u001b[0m \u001b[1m0s\u001b[0m 5ms/step - loss: 0.0023 - mean_squared_error: 0.0023 - r2_score: 0.9635 - val_loss: 0.0071 - val_mean_squared_error: 0.0104 - val_r2_score: 0.8477\n",
      "Epoch 39/300\n",
      "\u001b[1m22/22\u001b[0m \u001b[32m━━━━━━━━━━━━━━━━━━━━\u001b[0m\u001b[37m\u001b[0m \u001b[1m0s\u001b[0m 5ms/step - loss: 0.0023 - mean_squared_error: 0.0023 - r2_score: 0.9652 - val_loss: 0.0072 - val_mean_squared_error: 0.0106 - val_r2_score: 0.8459\n",
      "Epoch 40/300\n",
      "\u001b[1m22/22\u001b[0m \u001b[32m━━━━━━━━━━━━━━━━━━━━\u001b[0m\u001b[37m\u001b[0m \u001b[1m0s\u001b[0m 5ms/step - loss: 0.0022 - mean_squared_error: 0.0022 - r2_score: 0.9648 - val_loss: 0.0071 - val_mean_squared_error: 0.0104 - val_r2_score: 0.8477\n",
      "Epoch 41/300\n",
      "\u001b[1m22/22\u001b[0m \u001b[32m━━━━━━━━━━━━━━━━━━━━\u001b[0m\u001b[37m\u001b[0m \u001b[1m0s\u001b[0m 5ms/step - loss: 0.0023 - mean_squared_error: 0.0023 - r2_score: 0.9657 - val_loss: 0.0069 - val_mean_squared_error: 0.0102 - val_r2_score: 0.8506\n",
      "Epoch 42/300\n",
      "\u001b[1m22/22\u001b[0m \u001b[32m━━━━━━━━━━━━━━━━━━━━\u001b[0m\u001b[37m\u001b[0m \u001b[1m0s\u001b[0m 5ms/step - loss: 0.0021 - mean_squared_error: 0.0021 - r2_score: 0.9658 - val_loss: 0.0072 - val_mean_squared_error: 0.0106 - val_r2_score: 0.8452\n",
      "Epoch 43/300\n",
      "\u001b[1m22/22\u001b[0m \u001b[32m━━━━━━━━━━━━━━━━━━━━\u001b[0m\u001b[37m\u001b[0m \u001b[1m0s\u001b[0m 7ms/step - loss: 0.0022 - mean_squared_error: 0.0022 - r2_score: 0.9658 - val_loss: 0.0071 - val_mean_squared_error: 0.0104 - val_r2_score: 0.8480\n",
      "Epoch 44/300\n",
      "\u001b[1m22/22\u001b[0m \u001b[32m━━━━━━━━━━━━━━━━━━━━\u001b[0m\u001b[37m\u001b[0m \u001b[1m0s\u001b[0m 5ms/step - loss: 0.0022 - mean_squared_error: 0.0022 - r2_score: 0.9645 - val_loss: 0.0072 - val_mean_squared_error: 0.0106 - val_r2_score: 0.8456\n",
      "Epoch 45/300\n",
      "\u001b[1m22/22\u001b[0m \u001b[32m━━━━━━━━━━━━━━━━━━━━\u001b[0m\u001b[37m\u001b[0m \u001b[1m0s\u001b[0m 5ms/step - loss: 0.0023 - mean_squared_error: 0.0023 - r2_score: 0.9658 - val_loss: 0.0070 - val_mean_squared_error: 0.0104 - val_r2_score: 0.8488\n",
      "Epoch 46/300\n",
      "\u001b[1m22/22\u001b[0m \u001b[32m━━━━━━━━━━━━━━━━━━━━\u001b[0m\u001b[37m\u001b[0m \u001b[1m0s\u001b[0m 5ms/step - loss: 0.0021 - mean_squared_error: 0.0021 - r2_score: 0.9663 - val_loss: 0.0071 - val_mean_squared_error: 0.0105 - val_r2_score: 0.8465\n",
      "Epoch 47/300\n",
      "\u001b[1m22/22\u001b[0m \u001b[32m━━━━━━━━━━━━━━━━━━━━\u001b[0m\u001b[37m\u001b[0m \u001b[1m0s\u001b[0m 5ms/step - loss: 0.0023 - mean_squared_error: 0.0023 - r2_score: 0.9635 - val_loss: 0.0072 - val_mean_squared_error: 0.0107 - val_r2_score: 0.8444\n",
      "Epoch 48/300\n",
      "\u001b[1m22/22\u001b[0m \u001b[32m━━━━━━━━━━━━━━━━━━━━\u001b[0m\u001b[37m\u001b[0m \u001b[1m0s\u001b[0m 5ms/step - loss: 0.0022 - mean_squared_error: 0.0022 - r2_score: 0.9665 - val_loss: 0.0071 - val_mean_squared_error: 0.0105 - val_r2_score: 0.8464\n",
      "Epoch 49/300\n",
      "\u001b[1m22/22\u001b[0m \u001b[32m━━━━━━━━━━━━━━━━━━━━\u001b[0m\u001b[37m\u001b[0m \u001b[1m0s\u001b[0m 5ms/step - loss: 0.0020 - mean_squared_error: 0.0020 - r2_score: 0.9671 - val_loss: 0.0070 - val_mean_squared_error: 0.0103 - val_r2_score: 0.8500\n",
      "Epoch 50/300\n",
      "\u001b[1m22/22\u001b[0m \u001b[32m━━━━━━━━━━━━━━━━━━━━\u001b[0m\u001b[37m\u001b[0m \u001b[1m0s\u001b[0m 5ms/step - loss: 0.0021 - mean_squared_error: 0.0021 - r2_score: 0.9653 - val_loss: 0.0071 - val_mean_squared_error: 0.0105 - val_r2_score: 0.8466\n",
      "Epoch 51/300\n",
      "\u001b[1m22/22\u001b[0m \u001b[32m━━━━━━━━━━━━━━━━━━━━\u001b[0m\u001b[37m\u001b[0m \u001b[1m0s\u001b[0m 5ms/step - loss: 0.0021 - mean_squared_error: 0.0021 - r2_score: 0.9683 - val_loss: 0.0071 - val_mean_squared_error: 0.0106 - val_r2_score: 0.8462\n",
      "Epoch 52/300\n",
      "\u001b[1m22/22\u001b[0m \u001b[32m━━━━━━━━━━━━━━━━━━━━\u001b[0m\u001b[37m\u001b[0m \u001b[1m0s\u001b[0m 5ms/step - loss: 0.0022 - mean_squared_error: 0.0022 - r2_score: 0.9660 - val_loss: 0.0070 - val_mean_squared_error: 0.0104 - val_r2_score: 0.8482\n",
      "Epoch 53/300\n",
      "\u001b[1m22/22\u001b[0m \u001b[32m━━━━━━━━━━━━━━━━━━━━\u001b[0m\u001b[37m\u001b[0m \u001b[1m0s\u001b[0m 5ms/step - loss: 0.0022 - mean_squared_error: 0.0022 - r2_score: 0.9636 - val_loss: 0.0072 - val_mean_squared_error: 0.0107 - val_r2_score: 0.8441\n",
      "Epoch 54/300\n",
      "\u001b[1m22/22\u001b[0m \u001b[32m━━━━━━━━━━━━━━━━━━━━\u001b[0m\u001b[37m\u001b[0m \u001b[1m0s\u001b[0m 5ms/step - loss: 0.0022 - mean_squared_error: 0.0022 - r2_score: 0.9652 - val_loss: 0.0071 - val_mean_squared_error: 0.0105 - val_r2_score: 0.8473\n",
      "Epoch 55/300\n",
      "\u001b[1m22/22\u001b[0m \u001b[32m━━━━━━━━━━━━━━━━━━━━\u001b[0m\u001b[37m\u001b[0m \u001b[1m0s\u001b[0m 5ms/step - loss: 0.0022 - mean_squared_error: 0.0022 - r2_score: 0.9659 - val_loss: 0.0071 - val_mean_squared_error: 0.0105 - val_r2_score: 0.8465\n",
      "Epoch 56/300\n",
      "\u001b[1m22/22\u001b[0m \u001b[32m━━━━━━━━━━━━━━━━━━━━\u001b[0m\u001b[37m\u001b[0m \u001b[1m0s\u001b[0m 5ms/step - loss: 0.0020 - mean_squared_error: 0.0020 - r2_score: 0.9655 - val_loss: 0.0072 - val_mean_squared_error: 0.0107 - val_r2_score: 0.8440\n",
      "Epoch 57/300\n",
      "\u001b[1m22/22\u001b[0m \u001b[32m━━━━━━━━━━━━━━━━━━━━\u001b[0m\u001b[37m\u001b[0m \u001b[1m0s\u001b[0m 5ms/step - loss: 0.0021 - mean_squared_error: 0.0021 - r2_score: 0.9667 - val_loss: 0.0070 - val_mean_squared_error: 0.0103 - val_r2_score: 0.8495\n",
      "Epoch 58/300\n",
      "\u001b[1m22/22\u001b[0m \u001b[32m━━━━━━━━━━━━━━━━━━━━\u001b[0m\u001b[37m\u001b[0m \u001b[1m0s\u001b[0m 5ms/step - loss: 0.0020 - mean_squared_error: 0.0020 - r2_score: 0.9695 - val_loss: 0.0071 - val_mean_squared_error: 0.0106 - val_r2_score: 0.8463\n",
      "Epoch 59/300\n",
      "\u001b[1m22/22\u001b[0m \u001b[32m━━━━━━━━━━━━━━━━━━━━\u001b[0m\u001b[37m\u001b[0m \u001b[1m0s\u001b[0m 5ms/step - loss: 0.0023 - mean_squared_error: 0.0023 - r2_score: 0.9641 - val_loss: 0.0071 - val_mean_squared_error: 0.0104 - val_r2_score: 0.8479\n",
      "Epoch 60/300\n",
      "\u001b[1m22/22\u001b[0m \u001b[32m━━━━━━━━━━━━━━━━━━━━\u001b[0m\u001b[37m\u001b[0m \u001b[1m0s\u001b[0m 5ms/step - loss: 0.0020 - mean_squared_error: 0.0020 - r2_score: 0.9673 - val_loss: 0.0071 - val_mean_squared_error: 0.0105 - val_r2_score: 0.8466\n",
      "Epoch 61/300\n",
      "\u001b[1m22/22\u001b[0m \u001b[32m━━━━━━━━━━━━━━━━━━━━\u001b[0m\u001b[37m\u001b[0m \u001b[1m0s\u001b[0m 5ms/step - loss: 0.0021 - mean_squared_error: 0.0021 - r2_score: 0.9644 - val_loss: 0.0070 - val_mean_squared_error: 0.0104 - val_r2_score: 0.8485\n",
      "Epoch 62/300\n",
      "\u001b[1m22/22\u001b[0m \u001b[32m━━━━━━━━━━━━━━━━━━━━\u001b[0m\u001b[37m\u001b[0m \u001b[1m0s\u001b[0m 5ms/step - loss: 0.0023 - mean_squared_error: 0.0023 - r2_score: 0.9663 - val_loss: 0.0072 - val_mean_squared_error: 0.0106 - val_r2_score: 0.8452\n",
      "Epoch 63/300\n",
      "\u001b[1m22/22\u001b[0m \u001b[32m━━━━━━━━━━━━━━━━━━━━\u001b[0m\u001b[37m\u001b[0m \u001b[1m0s\u001b[0m 5ms/step - loss: 0.0020 - mean_squared_error: 0.0020 - r2_score: 0.9666 - val_loss: 0.0071 - val_mean_squared_error: 0.0106 - val_r2_score: 0.8465\n",
      "Epoch 64/300\n",
      "\u001b[1m22/22\u001b[0m \u001b[32m━━━━━━━━━━━━━━━━━━━━\u001b[0m\u001b[37m\u001b[0m \u001b[1m0s\u001b[0m 5ms/step - loss: 0.0022 - mean_squared_error: 0.0022 - r2_score: 0.9655 - val_loss: 0.0070 - val_mean_squared_error: 0.0103 - val_r2_score: 0.8503\n",
      "Epoch 65/300\n",
      "\u001b[1m22/22\u001b[0m \u001b[32m━━━━━━━━━━━━━━━━━━━━\u001b[0m\u001b[37m\u001b[0m \u001b[1m0s\u001b[0m 5ms/step - loss: 0.0021 - mean_squared_error: 0.0021 - r2_score: 0.9674 - val_loss: 0.0072 - val_mean_squared_error: 0.0107 - val_r2_score: 0.8449\n",
      "Epoch 66/300\n",
      "\u001b[1m22/22\u001b[0m \u001b[32m━━━━━━━━━━━━━━━━━━━━\u001b[0m\u001b[37m\u001b[0m \u001b[1m0s\u001b[0m 5ms/step - loss: 0.0021 - mean_squared_error: 0.0021 - r2_score: 0.9682 - val_loss: 0.0071 - val_mean_squared_error: 0.0106 - val_r2_score: 0.8463\n",
      "Epoch 67/300\n",
      "\u001b[1m22/22\u001b[0m \u001b[32m━━━━━━━━━━━━━━━━━━━━\u001b[0m\u001b[37m\u001b[0m \u001b[1m0s\u001b[0m 5ms/step - loss: 0.0021 - mean_squared_error: 0.0021 - r2_score: 0.9656 - val_loss: 0.0070 - val_mean_squared_error: 0.0103 - val_r2_score: 0.8499\n",
      "Epoch 68/300\n",
      "\u001b[1m22/22\u001b[0m \u001b[32m━━━━━━━━━━━━━━━━━━━━\u001b[0m\u001b[37m\u001b[0m \u001b[1m0s\u001b[0m 5ms/step - loss: 0.0021 - mean_squared_error: 0.0021 - r2_score: 0.9658 - val_loss: 0.0073 - val_mean_squared_error: 0.0108 - val_r2_score: 0.8438\n",
      "Epoch 69/300\n",
      "\u001b[1m22/22\u001b[0m \u001b[32m━━━━━━━━━━━━━━━━━━━━\u001b[0m\u001b[37m\u001b[0m \u001b[1m0s\u001b[0m 5ms/step - loss: 0.0022 - mean_squared_error: 0.0022 - r2_score: 0.9676 - val_loss: 0.0070 - val_mean_squared_error: 0.0104 - val_r2_score: 0.8484\n",
      "Epoch 70/300\n",
      "\u001b[1m22/22\u001b[0m \u001b[32m━━━━━━━━━━━━━━━━━━━━\u001b[0m\u001b[37m\u001b[0m \u001b[1m0s\u001b[0m 5ms/step - loss: 0.0020 - mean_squared_error: 0.0020 - r2_score: 0.9678 - val_loss: 0.0070 - val_mean_squared_error: 0.0104 - val_r2_score: 0.8491\n",
      "Epoch 71/300\n",
      "\u001b[1m22/22\u001b[0m \u001b[32m━━━━━━━━━━━━━━━━━━━━\u001b[0m\u001b[37m\u001b[0m \u001b[1m0s\u001b[0m 5ms/step - loss: 0.0022 - mean_squared_error: 0.0022 - r2_score: 0.9644 - val_loss: 0.0071 - val_mean_squared_error: 0.0105 - val_r2_score: 0.8478\n",
      "Epoch 72/300\n",
      "\u001b[1m22/22\u001b[0m \u001b[32m━━━━━━━━━━━━━━━━━━━━\u001b[0m\u001b[37m\u001b[0m \u001b[1m0s\u001b[0m 5ms/step - loss: 0.0020 - mean_squared_error: 0.0020 - r2_score: 0.9654 - val_loss: 0.0072 - val_mean_squared_error: 0.0107 - val_r2_score: 0.8443\n",
      "Epoch 73/300\n",
      "\u001b[1m22/22\u001b[0m \u001b[32m━━━━━━━━━━━━━━━━━━━━\u001b[0m\u001b[37m\u001b[0m \u001b[1m0s\u001b[0m 5ms/step - loss: 0.0019 - mean_squared_error: 0.0019 - r2_score: 0.9682 - val_loss: 0.0071 - val_mean_squared_error: 0.0106 - val_r2_score: 0.8464\n",
      "Epoch 74/300\n",
      "\u001b[1m22/22\u001b[0m \u001b[32m━━━━━━━━━━━━━━━━━━━━\u001b[0m\u001b[37m\u001b[0m \u001b[1m0s\u001b[0m 5ms/step - loss: 0.0022 - mean_squared_error: 0.0022 - r2_score: 0.9653 - val_loss: 0.0071 - val_mean_squared_error: 0.0105 - val_r2_score: 0.8471\n",
      "Epoch 75/300\n",
      "\u001b[1m22/22\u001b[0m \u001b[32m━━━━━━━━━━━━━━━━━━━━\u001b[0m\u001b[37m\u001b[0m \u001b[1m0s\u001b[0m 5ms/step - loss: 0.0022 - mean_squared_error: 0.0022 - r2_score: 0.9684 - val_loss: 0.0071 - val_mean_squared_error: 0.0106 - val_r2_score: 0.8467\n",
      "Epoch 76/300\n",
      "\u001b[1m22/22\u001b[0m \u001b[32m━━━━━━━━━━━━━━━━━━━━\u001b[0m\u001b[37m\u001b[0m \u001b[1m0s\u001b[0m 5ms/step - loss: 0.0022 - mean_squared_error: 0.0022 - r2_score: 0.9645 - val_loss: 0.0071 - val_mean_squared_error: 0.0105 - val_r2_score: 0.8473\n",
      "Epoch 77/300\n",
      "\u001b[1m22/22\u001b[0m \u001b[32m━━━━━━━━━━━━━━━━━━━━\u001b[0m\u001b[37m\u001b[0m \u001b[1m0s\u001b[0m 5ms/step - loss: 0.0022 - mean_squared_error: 0.0022 - r2_score: 0.9627 - val_loss: 0.0071 - val_mean_squared_error: 0.0106 - val_r2_score: 0.8464\n",
      "Epoch 78/300\n",
      "\u001b[1m22/22\u001b[0m \u001b[32m━━━━━━━━━━━━━━━━━━━━\u001b[0m\u001b[37m\u001b[0m \u001b[1m0s\u001b[0m 7ms/step - loss: 0.0021 - mean_squared_error: 0.0021 - r2_score: 0.9674 - val_loss: 0.0071 - val_mean_squared_error: 0.0105 - val_r2_score: 0.8475\n",
      "Epoch 79/300\n",
      "\u001b[1m22/22\u001b[0m \u001b[32m━━━━━━━━━━━━━━━━━━━━\u001b[0m\u001b[37m\u001b[0m \u001b[1m0s\u001b[0m 5ms/step - loss: 0.0021 - mean_squared_error: 0.0021 - r2_score: 0.9674 - val_loss: 0.0073 - val_mean_squared_error: 0.0108 - val_r2_score: 0.8430\n",
      "Epoch 80/300\n",
      "\u001b[1m22/22\u001b[0m \u001b[32m━━━━━━━━━━━━━━━━━━━━\u001b[0m\u001b[37m\u001b[0m \u001b[1m0s\u001b[0m 5ms/step - loss: 0.0020 - mean_squared_error: 0.0020 - r2_score: 0.9680 - val_loss: 0.0071 - val_mean_squared_error: 0.0105 - val_r2_score: 0.8469\n",
      "Epoch 81/300\n",
      "\u001b[1m22/22\u001b[0m \u001b[32m━━━━━━━━━━━━━━━━━━━━\u001b[0m\u001b[37m\u001b[0m \u001b[1m0s\u001b[0m 5ms/step - loss: 0.0023 - mean_squared_error: 0.0023 - r2_score: 0.9652 - val_loss: 0.0072 - val_mean_squared_error: 0.0106 - val_r2_score: 0.8455\n",
      "Epoch 82/300\n",
      "\u001b[1m22/22\u001b[0m \u001b[32m━━━━━━━━━━━━━━━━━━━━\u001b[0m\u001b[37m\u001b[0m \u001b[1m0s\u001b[0m 6ms/step - loss: 0.0021 - mean_squared_error: 0.0021 - r2_score: 0.9646 - val_loss: 0.0071 - val_mean_squared_error: 0.0105 - val_r2_score: 0.8474\n",
      "Epoch 83/300\n",
      "\u001b[1m22/22\u001b[0m \u001b[32m━━━━━━━━━━━━━━━━━━━━\u001b[0m\u001b[37m\u001b[0m \u001b[1m0s\u001b[0m 5ms/step - loss: 0.0020 - mean_squared_error: 0.0020 - r2_score: 0.9664 - val_loss: 0.0072 - val_mean_squared_error: 0.0107 - val_r2_score: 0.8446\n",
      "Epoch 84/300\n",
      "\u001b[1m22/22\u001b[0m \u001b[32m━━━━━━━━━━━━━━━━━━━━\u001b[0m\u001b[37m\u001b[0m \u001b[1m0s\u001b[0m 5ms/step - loss: 0.0020 - mean_squared_error: 0.0020 - r2_score: 0.9676 - val_loss: 0.0071 - val_mean_squared_error: 0.0106 - val_r2_score: 0.8464\n",
      "Epoch 85/300\n",
      "\u001b[1m22/22\u001b[0m \u001b[32m━━━━━━━━━━━━━━━━━━━━\u001b[0m\u001b[37m\u001b[0m \u001b[1m0s\u001b[0m 5ms/step - loss: 0.0021 - mean_squared_error: 0.0021 - r2_score: 0.9677 - val_loss: 0.0070 - val_mean_squared_error: 0.0104 - val_r2_score: 0.8492\n",
      "Epoch 86/300\n",
      "\u001b[1m22/22\u001b[0m \u001b[32m━━━━━━━━━━━━━━━━━━━━\u001b[0m\u001b[37m\u001b[0m \u001b[1m0s\u001b[0m 5ms/step - loss: 0.0021 - mean_squared_error: 0.0021 - r2_score: 0.9662 - val_loss: 0.0072 - val_mean_squared_error: 0.0107 - val_r2_score: 0.8445\n",
      "Epoch 87/300\n",
      "\u001b[1m22/22\u001b[0m \u001b[32m━━━━━━━━━━━━━━━━━━━━\u001b[0m\u001b[37m\u001b[0m \u001b[1m0s\u001b[0m 6ms/step - loss: 0.0020 - mean_squared_error: 0.0020 - r2_score: 0.9687 - val_loss: 0.0071 - val_mean_squared_error: 0.0105 - val_r2_score: 0.8475\n",
      "Epoch 88/300\n",
      "\u001b[1m22/22\u001b[0m \u001b[32m━━━━━━━━━━━━━━━━━━━━\u001b[0m\u001b[37m\u001b[0m \u001b[1m0s\u001b[0m 5ms/step - loss: 0.0020 - mean_squared_error: 0.0020 - r2_score: 0.9689 - val_loss: 0.0071 - val_mean_squared_error: 0.0105 - val_r2_score: 0.8474\n",
      "Epoch 89/300\n",
      "\u001b[1m22/22\u001b[0m \u001b[32m━━━━━━━━━━━━━━━━━━━━\u001b[0m\u001b[37m\u001b[0m \u001b[1m0s\u001b[0m 5ms/step - loss: 0.0020 - mean_squared_error: 0.0020 - r2_score: 0.9692 - val_loss: 0.0072 - val_mean_squared_error: 0.0106 - val_r2_score: 0.8460\n",
      "Epoch 90/300\n",
      "\u001b[1m22/22\u001b[0m \u001b[32m━━━━━━━━━━━━━━━━━━━━\u001b[0m\u001b[37m\u001b[0m \u001b[1m0s\u001b[0m 5ms/step - loss: 0.0022 - mean_squared_error: 0.0022 - r2_score: 0.9686 - val_loss: 0.0070 - val_mean_squared_error: 0.0104 - val_r2_score: 0.8482\n",
      "Epoch 91/300\n",
      "\u001b[1m22/22\u001b[0m \u001b[32m━━━━━━━━━━━━━━━━━━━━\u001b[0m\u001b[37m\u001b[0m \u001b[1m0s\u001b[0m 5ms/step - loss: 0.0020 - mean_squared_error: 0.0020 - r2_score: 0.9650 - val_loss: 0.0071 - val_mean_squared_error: 0.0105 - val_r2_score: 0.8469\n",
      "Epoch 92/300\n",
      "\u001b[1m22/22\u001b[0m \u001b[32m━━━━━━━━━━━━━━━━━━━━\u001b[0m\u001b[37m\u001b[0m \u001b[1m0s\u001b[0m 5ms/step - loss: 0.0020 - mean_squared_error: 0.0020 - r2_score: 0.9673 - val_loss: 0.0072 - val_mean_squared_error: 0.0106 - val_r2_score: 0.8459\n",
      "Epoch 93/300\n",
      "\u001b[1m22/22\u001b[0m \u001b[32m━━━━━━━━━━━━━━━━━━━━\u001b[0m\u001b[37m\u001b[0m \u001b[1m0s\u001b[0m 5ms/step - loss: 0.0021 - mean_squared_error: 0.0021 - r2_score: 0.9640 - val_loss: 0.0072 - val_mean_squared_error: 0.0106 - val_r2_score: 0.8457\n",
      "Epoch 94/300\n",
      "\u001b[1m22/22\u001b[0m \u001b[32m━━━━━━━━━━━━━━━━━━━━\u001b[0m\u001b[37m\u001b[0m \u001b[1m0s\u001b[0m 5ms/step - loss: 0.0019 - mean_squared_error: 0.0019 - r2_score: 0.9690 - val_loss: 0.0071 - val_mean_squared_error: 0.0105 - val_r2_score: 0.8475\n",
      "Epoch 95/300\n",
      "\u001b[1m22/22\u001b[0m \u001b[32m━━━━━━━━━━━━━━━━━━━━\u001b[0m\u001b[37m\u001b[0m \u001b[1m0s\u001b[0m 5ms/step - loss: 0.0020 - mean_squared_error: 0.0020 - r2_score: 0.9692 - val_loss: 0.0071 - val_mean_squared_error: 0.0105 - val_r2_score: 0.8479\n",
      "Epoch 96/300\n",
      "\u001b[1m22/22\u001b[0m \u001b[32m━━━━━━━━━━━━━━━━━━━━\u001b[0m\u001b[37m\u001b[0m \u001b[1m0s\u001b[0m 5ms/step - loss: 0.0020 - mean_squared_error: 0.0020 - r2_score: 0.9667 - val_loss: 0.0071 - val_mean_squared_error: 0.0106 - val_r2_score: 0.8468\n",
      "Epoch 97/300\n",
      "\u001b[1m22/22\u001b[0m \u001b[32m━━━━━━━━━━━━━━━━━━━━\u001b[0m\u001b[37m\u001b[0m \u001b[1m0s\u001b[0m 6ms/step - loss: 0.0020 - mean_squared_error: 0.0020 - r2_score: 0.9663 - val_loss: 0.0071 - val_mean_squared_error: 0.0105 - val_r2_score: 0.8471\n",
      "Epoch 98/300\n",
      "\u001b[1m22/22\u001b[0m \u001b[32m━━━━━━━━━━━━━━━━━━━━\u001b[0m\u001b[37m\u001b[0m \u001b[1m0s\u001b[0m 5ms/step - loss: 0.0020 - mean_squared_error: 0.0020 - r2_score: 0.9653 - val_loss: 0.0071 - val_mean_squared_error: 0.0105 - val_r2_score: 0.8473\n",
      "Epoch 99/300\n",
      "\u001b[1m22/22\u001b[0m \u001b[32m━━━━━━━━━━━━━━━━━━━━\u001b[0m\u001b[37m\u001b[0m \u001b[1m0s\u001b[0m 5ms/step - loss: 0.0020 - mean_squared_error: 0.0020 - r2_score: 0.9705 - val_loss: 0.0071 - val_mean_squared_error: 0.0106 - val_r2_score: 0.8462\n",
      "Epoch 100/300\n",
      "\u001b[1m22/22\u001b[0m \u001b[32m━━━━━━━━━━━━━━━━━━━━\u001b[0m\u001b[37m\u001b[0m \u001b[1m0s\u001b[0m 5ms/step - loss: 0.0019 - mean_squared_error: 0.0019 - r2_score: 0.9695 - val_loss: 0.0071 - val_mean_squared_error: 0.0105 - val_r2_score: 0.8477\n",
      "Epoch 101/300\n",
      "\u001b[1m22/22\u001b[0m \u001b[32m━━━━━━━━━━━━━━━━━━━━\u001b[0m\u001b[37m\u001b[0m \u001b[1m0s\u001b[0m 5ms/step - loss: 0.0020 - mean_squared_error: 0.0020 - r2_score: 0.9705 - val_loss: 0.0071 - val_mean_squared_error: 0.0106 - val_r2_score: 0.8470\n",
      "Epoch 102/300\n",
      "\u001b[1m22/22\u001b[0m \u001b[32m━━━━━━━━━━━━━━━━━━━━\u001b[0m\u001b[37m\u001b[0m \u001b[1m0s\u001b[0m 5ms/step - loss: 0.0019 - mean_squared_error: 0.0019 - r2_score: 0.9690 - val_loss: 0.0071 - val_mean_squared_error: 0.0105 - val_r2_score: 0.8475\n",
      "Epoch 103/300\n",
      "\u001b[1m22/22\u001b[0m \u001b[32m━━━━━━━━━━━━━━━━━━━━\u001b[0m\u001b[37m\u001b[0m \u001b[1m0s\u001b[0m 5ms/step - loss: 0.0020 - mean_squared_error: 0.0020 - r2_score: 0.9682 - val_loss: 0.0072 - val_mean_squared_error: 0.0107 - val_r2_score: 0.8449\n",
      "Epoch 104/300\n",
      "\u001b[1m22/22\u001b[0m \u001b[32m━━━━━━━━━━━━━━━━━━━━\u001b[0m\u001b[37m\u001b[0m \u001b[1m0s\u001b[0m 5ms/step - loss: 0.0019 - mean_squared_error: 0.0019 - r2_score: 0.9664 - val_loss: 0.0072 - val_mean_squared_error: 0.0107 - val_r2_score: 0.8443\n",
      "Epoch 105/300\n",
      "\u001b[1m22/22\u001b[0m \u001b[32m━━━━━━━━━━━━━━━━━━━━\u001b[0m\u001b[37m\u001b[0m \u001b[1m0s\u001b[0m 5ms/step - loss: 0.0019 - mean_squared_error: 0.0019 - r2_score: 0.9695 - val_loss: 0.0072 - val_mean_squared_error: 0.0107 - val_r2_score: 0.8452\n",
      "Epoch 106/300\n",
      "\u001b[1m22/22\u001b[0m \u001b[32m━━━━━━━━━━━━━━━━━━━━\u001b[0m\u001b[37m\u001b[0m \u001b[1m0s\u001b[0m 5ms/step - loss: 0.0020 - mean_squared_error: 0.0020 - r2_score: 0.9685 - val_loss: 0.0071 - val_mean_squared_error: 0.0105 - val_r2_score: 0.8471\n",
      "Epoch 107/300\n",
      "\u001b[1m22/22\u001b[0m \u001b[32m━━━━━━━━━━━━━━━━━━━━\u001b[0m\u001b[37m\u001b[0m \u001b[1m0s\u001b[0m 5ms/step - loss: 0.0020 - mean_squared_error: 0.0020 - r2_score: 0.9686 - val_loss: 0.0072 - val_mean_squared_error: 0.0106 - val_r2_score: 0.8460\n",
      "Epoch 108/300\n",
      "\u001b[1m22/22\u001b[0m \u001b[32m━━━━━━━━━━━━━━━━━━━━\u001b[0m\u001b[37m\u001b[0m \u001b[1m0s\u001b[0m 5ms/step - loss: 0.0019 - mean_squared_error: 0.0019 - r2_score: 0.9694 - val_loss: 0.0071 - val_mean_squared_error: 0.0105 - val_r2_score: 0.8477\n",
      "Epoch 109/300\n",
      "\u001b[1m22/22\u001b[0m \u001b[32m━━━━━━━━━━━━━━━━━━━━\u001b[0m\u001b[37m\u001b[0m \u001b[1m0s\u001b[0m 5ms/step - loss: 0.0020 - mean_squared_error: 0.0020 - r2_score: 0.9678 - val_loss: 0.0071 - val_mean_squared_error: 0.0106 - val_r2_score: 0.8462\n",
      "Epoch 110/300\n",
      "\u001b[1m22/22\u001b[0m \u001b[32m━━━━━━━━━━━━━━━━━━━━\u001b[0m\u001b[37m\u001b[0m \u001b[1m0s\u001b[0m 6ms/step - loss: 0.0020 - mean_squared_error: 0.0020 - r2_score: 0.9698 - val_loss: 0.0069 - val_mean_squared_error: 0.0103 - val_r2_score: 0.8507\n",
      "Epoch 111/300\n",
      "\u001b[1m22/22\u001b[0m \u001b[32m━━━━━━━━━━━━━━━━━━━━\u001b[0m\u001b[37m\u001b[0m \u001b[1m0s\u001b[0m 5ms/step - loss: 0.0019 - mean_squared_error: 0.0019 - r2_score: 0.9657 - val_loss: 0.0071 - val_mean_squared_error: 0.0106 - val_r2_score: 0.8473\n",
      "Epoch 112/300\n",
      "\u001b[1m22/22\u001b[0m \u001b[32m━━━━━━━━━━━━━━━━━━━━\u001b[0m\u001b[37m\u001b[0m \u001b[1m0s\u001b[0m 5ms/step - loss: 0.0021 - mean_squared_error: 0.0021 - r2_score: 0.9643 - val_loss: 0.0072 - val_mean_squared_error: 0.0107 - val_r2_score: 0.8446\n",
      "Epoch 113/300\n",
      "\u001b[1m22/22\u001b[0m \u001b[32m━━━━━━━━━━━━━━━━━━━━\u001b[0m\u001b[37m\u001b[0m \u001b[1m0s\u001b[0m 5ms/step - loss: 0.0019 - mean_squared_error: 0.0019 - r2_score: 0.9683 - val_loss: 0.0072 - val_mean_squared_error: 0.0107 - val_r2_score: 0.8457\n",
      "Epoch 114/300\n",
      "\u001b[1m22/22\u001b[0m \u001b[32m━━━━━━━━━━━━━━━━━━━━\u001b[0m\u001b[37m\u001b[0m \u001b[1m0s\u001b[0m 5ms/step - loss: 0.0022 - mean_squared_error: 0.0022 - r2_score: 0.9683 - val_loss: 0.0072 - val_mean_squared_error: 0.0107 - val_r2_score: 0.8450\n",
      "Epoch 115/300\n",
      "\u001b[1m22/22\u001b[0m \u001b[32m━━━━━━━━━━━━━━━━━━━━\u001b[0m\u001b[37m\u001b[0m \u001b[1m0s\u001b[0m 5ms/step - loss: 0.0019 - mean_squared_error: 0.0019 - r2_score: 0.9692 - val_loss: 0.0071 - val_mean_squared_error: 0.0105 - val_r2_score: 0.8474\n",
      "Epoch 116/300\n",
      "\u001b[1m22/22\u001b[0m \u001b[32m━━━━━━━━━━━━━━━━━━━━\u001b[0m\u001b[37m\u001b[0m \u001b[1m0s\u001b[0m 5ms/step - loss: 0.0019 - mean_squared_error: 0.0019 - r2_score: 0.9687 - val_loss: 0.0071 - val_mean_squared_error: 0.0106 - val_r2_score: 0.8465\n",
      "Epoch 117/300\n",
      "\u001b[1m22/22\u001b[0m \u001b[32m━━━━━━━━━━━━━━━━━━━━\u001b[0m\u001b[37m\u001b[0m \u001b[1m0s\u001b[0m 5ms/step - loss: 0.0020 - mean_squared_error: 0.0020 - r2_score: 0.9662 - val_loss: 0.0072 - val_mean_squared_error: 0.0107 - val_r2_score: 0.8458\n",
      "Epoch 118/300\n",
      "\u001b[1m22/22\u001b[0m \u001b[32m━━━━━━━━━━━━━━━━━━━━\u001b[0m\u001b[37m\u001b[0m \u001b[1m0s\u001b[0m 5ms/step - loss: 0.0019 - mean_squared_error: 0.0019 - r2_score: 0.9681 - val_loss: 0.0072 - val_mean_squared_error: 0.0106 - val_r2_score: 0.8460\n",
      "Epoch 119/300\n",
      "\u001b[1m22/22\u001b[0m \u001b[32m━━━━━━━━━━━━━━━━━━━━\u001b[0m\u001b[37m\u001b[0m \u001b[1m0s\u001b[0m 5ms/step - loss: 0.0021 - mean_squared_error: 0.0021 - r2_score: 0.9690 - val_loss: 0.0070 - val_mean_squared_error: 0.0105 - val_r2_score: 0.8488\n",
      "Epoch 120/300\n",
      "\u001b[1m22/22\u001b[0m \u001b[32m━━━━━━━━━━━━━━━━━━━━\u001b[0m\u001b[37m\u001b[0m \u001b[1m0s\u001b[0m 5ms/step - loss: 0.0018 - mean_squared_error: 0.0018 - r2_score: 0.9718 - val_loss: 0.0074 - val_mean_squared_error: 0.0110 - val_r2_score: 0.8406\n",
      "Epoch 121/300\n",
      "\u001b[1m22/22\u001b[0m \u001b[32m━━━━━━━━━━━━━━━━━━━━\u001b[0m\u001b[37m\u001b[0m \u001b[1m0s\u001b[0m 5ms/step - loss: 0.0019 - mean_squared_error: 0.0019 - r2_score: 0.9697 - val_loss: 0.0072 - val_mean_squared_error: 0.0107 - val_r2_score: 0.8450\n",
      "Epoch 122/300\n",
      "\u001b[1m22/22\u001b[0m \u001b[32m━━━━━━━━━━━━━━━━━━━━\u001b[0m\u001b[37m\u001b[0m \u001b[1m0s\u001b[0m 5ms/step - loss: 0.0019 - mean_squared_error: 0.0019 - r2_score: 0.9699 - val_loss: 0.0073 - val_mean_squared_error: 0.0108 - val_r2_score: 0.8438\n",
      "Epoch 123/300\n",
      "\u001b[1m22/22\u001b[0m \u001b[32m━━━━━━━━━━━━━━━━━━━━\u001b[0m\u001b[37m\u001b[0m \u001b[1m0s\u001b[0m 5ms/step - loss: 0.0019 - mean_squared_error: 0.0019 - r2_score: 0.9676 - val_loss: 0.0072 - val_mean_squared_error: 0.0107 - val_r2_score: 0.8454\n",
      "Epoch 124/300\n",
      "\u001b[1m22/22\u001b[0m \u001b[32m━━━━━━━━━━━━━━━━━━━━\u001b[0m\u001b[37m\u001b[0m \u001b[1m0s\u001b[0m 5ms/step - loss: 0.0020 - mean_squared_error: 0.0020 - r2_score: 0.9690 - val_loss: 0.0072 - val_mean_squared_error: 0.0107 - val_r2_score: 0.8458\n",
      "Epoch 125/300\n",
      "\u001b[1m22/22\u001b[0m \u001b[32m━━━━━━━━━━━━━━━━━━━━\u001b[0m\u001b[37m\u001b[0m \u001b[1m0s\u001b[0m 6ms/step - loss: 0.0019 - mean_squared_error: 0.0019 - r2_score: 0.9685 - val_loss: 0.0071 - val_mean_squared_error: 0.0106 - val_r2_score: 0.8462\n",
      "Epoch 126/300\n",
      "\u001b[1m22/22\u001b[0m \u001b[32m━━━━━━━━━━━━━━━━━━━━\u001b[0m\u001b[37m\u001b[0m \u001b[1m0s\u001b[0m 5ms/step - loss: 0.0020 - mean_squared_error: 0.0020 - r2_score: 0.9666 - val_loss: 0.0071 - val_mean_squared_error: 0.0106 - val_r2_score: 0.8463\n",
      "Epoch 127/300\n",
      "\u001b[1m22/22\u001b[0m \u001b[32m━━━━━━━━━━━━━━━━━━━━\u001b[0m\u001b[37m\u001b[0m \u001b[1m0s\u001b[0m 5ms/step - loss: 0.0019 - mean_squared_error: 0.0019 - r2_score: 0.9718 - val_loss: 0.0072 - val_mean_squared_error: 0.0107 - val_r2_score: 0.8452\n",
      "Epoch 128/300\n",
      "\u001b[1m22/22\u001b[0m \u001b[32m━━━━━━━━━━━━━━━━━━━━\u001b[0m\u001b[37m\u001b[0m \u001b[1m0s\u001b[0m 5ms/step - loss: 0.0021 - mean_squared_error: 0.0021 - r2_score: 0.9693 - val_loss: 0.0071 - val_mean_squared_error: 0.0106 - val_r2_score: 0.8471\n",
      "Epoch 129/300\n",
      "\u001b[1m22/22\u001b[0m \u001b[32m━━━━━━━━━━━━━━━━━━━━\u001b[0m\u001b[37m\u001b[0m \u001b[1m0s\u001b[0m 5ms/step - loss: 0.0020 - mean_squared_error: 0.0020 - r2_score: 0.9680 - val_loss: 0.0073 - val_mean_squared_error: 0.0108 - val_r2_score: 0.8437\n",
      "Epoch 130/300\n",
      "\u001b[1m22/22\u001b[0m \u001b[32m━━━━━━━━━━━━━━━━━━━━\u001b[0m\u001b[37m\u001b[0m \u001b[1m0s\u001b[0m 5ms/step - loss: 0.0019 - mean_squared_error: 0.0019 - r2_score: 0.9686 - val_loss: 0.0072 - val_mean_squared_error: 0.0108 - val_r2_score: 0.8449\n",
      "Epoch 131/300\n",
      "\u001b[1m22/22\u001b[0m \u001b[32m━━━━━━━━━━━━━━━━━━━━\u001b[0m\u001b[37m\u001b[0m \u001b[1m0s\u001b[0m 9ms/step - loss: 0.0018 - mean_squared_error: 0.0018 - r2_score: 0.9712 - val_loss: 0.0072 - val_mean_squared_error: 0.0107 - val_r2_score: 0.8459\n",
      "Epoch 132/300\n",
      "\u001b[1m22/22\u001b[0m \u001b[32m━━━━━━━━━━━━━━━━━━━━\u001b[0m\u001b[37m\u001b[0m \u001b[1m0s\u001b[0m 5ms/step - loss: 0.0019 - mean_squared_error: 0.0019 - r2_score: 0.9706 - val_loss: 0.0072 - val_mean_squared_error: 0.0107 - val_r2_score: 0.8454\n",
      "Epoch 133/300\n",
      "\u001b[1m22/22\u001b[0m \u001b[32m━━━━━━━━━━━━━━━━━━━━\u001b[0m\u001b[37m\u001b[0m \u001b[1m0s\u001b[0m 5ms/step - loss: 0.0019 - mean_squared_error: 0.0019 - r2_score: 0.9687 - val_loss: 0.0071 - val_mean_squared_error: 0.0107 - val_r2_score: 0.8463\n",
      "Epoch 134/300\n",
      "\u001b[1m22/22\u001b[0m \u001b[32m━━━━━━━━━━━━━━━━━━━━\u001b[0m\u001b[37m\u001b[0m \u001b[1m0s\u001b[0m 5ms/step - loss: 0.0019 - mean_squared_error: 0.0019 - r2_score: 0.9686 - val_loss: 0.0072 - val_mean_squared_error: 0.0108 - val_r2_score: 0.8450\n",
      "Epoch 135/300\n",
      "\u001b[1m22/22\u001b[0m \u001b[32m━━━━━━━━━━━━━━━━━━━━\u001b[0m\u001b[37m\u001b[0m \u001b[1m0s\u001b[0m 5ms/step - loss: 0.0018 - mean_squared_error: 0.0018 - r2_score: 0.9700 - val_loss: 0.0072 - val_mean_squared_error: 0.0107 - val_r2_score: 0.8457\n",
      "Epoch 136/300\n",
      "\u001b[1m22/22\u001b[0m \u001b[32m━━━━━━━━━━━━━━━━━━━━\u001b[0m\u001b[37m\u001b[0m \u001b[1m0s\u001b[0m 5ms/step - loss: 0.0018 - mean_squared_error: 0.0018 - r2_score: 0.9712 - val_loss: 0.0072 - val_mean_squared_error: 0.0107 - val_r2_score: 0.8460\n",
      "Epoch 137/300\n",
      "\u001b[1m22/22\u001b[0m \u001b[32m━━━━━━━━━━━━━━━━━━━━\u001b[0m\u001b[37m\u001b[0m \u001b[1m0s\u001b[0m 5ms/step - loss: 0.0017 - mean_squared_error: 0.0017 - r2_score: 0.9718 - val_loss: 0.0072 - val_mean_squared_error: 0.0107 - val_r2_score: 0.8456\n",
      "Epoch 138/300\n",
      "\u001b[1m22/22\u001b[0m \u001b[32m━━━━━━━━━━━━━━━━━━━━\u001b[0m\u001b[37m\u001b[0m \u001b[1m0s\u001b[0m 5ms/step - loss: 0.0019 - mean_squared_error: 0.0019 - r2_score: 0.9715 - val_loss: 0.0072 - val_mean_squared_error: 0.0108 - val_r2_score: 0.8446\n",
      "Epoch 139/300\n",
      "\u001b[1m22/22\u001b[0m \u001b[32m━━━━━━━━━━━━━━━━━━━━\u001b[0m\u001b[37m\u001b[0m \u001b[1m0s\u001b[0m 6ms/step - loss: 0.0019 - mean_squared_error: 0.0019 - r2_score: 0.9687 - val_loss: 0.0071 - val_mean_squared_error: 0.0107 - val_r2_score: 0.8467\n",
      "Epoch 140/300\n",
      "\u001b[1m22/22\u001b[0m \u001b[32m━━━━━━━━━━━━━━━━━━━━\u001b[0m\u001b[37m\u001b[0m \u001b[1m0s\u001b[0m 5ms/step - loss: 0.0018 - mean_squared_error: 0.0018 - r2_score: 0.9691 - val_loss: 0.0072 - val_mean_squared_error: 0.0108 - val_r2_score: 0.8444\n",
      "Epoch 141/300\n",
      "\u001b[1m22/22\u001b[0m \u001b[32m━━━━━━━━━━━━━━━━━━━━\u001b[0m\u001b[37m\u001b[0m \u001b[1m0s\u001b[0m 5ms/step - loss: 0.0020 - mean_squared_error: 0.0020 - r2_score: 0.9696 - val_loss: 0.0072 - val_mean_squared_error: 0.0108 - val_r2_score: 0.8450\n",
      "Epoch 142/300\n",
      "\u001b[1m22/22\u001b[0m \u001b[32m━━━━━━━━━━━━━━━━━━━━\u001b[0m\u001b[37m\u001b[0m \u001b[1m0s\u001b[0m 5ms/step - loss: 0.0018 - mean_squared_error: 0.0018 - r2_score: 0.9707 - val_loss: 0.0072 - val_mean_squared_error: 0.0107 - val_r2_score: 0.8452\n",
      "Epoch 143/300\n",
      "\u001b[1m22/22\u001b[0m \u001b[32m━━━━━━━━━━━━━━━━━━━━\u001b[0m\u001b[37m\u001b[0m \u001b[1m0s\u001b[0m 5ms/step - loss: 0.0018 - mean_squared_error: 0.0018 - r2_score: 0.9711 - val_loss: 0.0072 - val_mean_squared_error: 0.0108 - val_r2_score: 0.8451\n",
      "Epoch 144/300\n",
      "\u001b[1m22/22\u001b[0m \u001b[32m━━━━━━━━━━━━━━━━━━━━\u001b[0m\u001b[37m\u001b[0m \u001b[1m0s\u001b[0m 5ms/step - loss: 0.0017 - mean_squared_error: 0.0017 - r2_score: 0.9721 - val_loss: 0.0072 - val_mean_squared_error: 0.0108 - val_r2_score: 0.8446\n",
      "Epoch 145/300\n",
      "\u001b[1m22/22\u001b[0m \u001b[32m━━━━━━━━━━━━━━━━━━━━\u001b[0m\u001b[37m\u001b[0m \u001b[1m0s\u001b[0m 5ms/step - loss: 0.0018 - mean_squared_error: 0.0018 - r2_score: 0.9685 - val_loss: 0.0072 - val_mean_squared_error: 0.0108 - val_r2_score: 0.8456\n",
      "Epoch 146/300\n",
      "\u001b[1m22/22\u001b[0m \u001b[32m━━━━━━━━━━━━━━━━━━━━\u001b[0m\u001b[37m\u001b[0m \u001b[1m0s\u001b[0m 5ms/step - loss: 0.0019 - mean_squared_error: 0.0019 - r2_score: 0.9709 - val_loss: 0.0071 - val_mean_squared_error: 0.0107 - val_r2_score: 0.8463\n",
      "Epoch 147/300\n",
      "\u001b[1m22/22\u001b[0m \u001b[32m━━━━━━━━━━━━━━━━━━━━\u001b[0m\u001b[37m\u001b[0m \u001b[1m0s\u001b[0m 5ms/step - loss: 0.0018 - mean_squared_error: 0.0018 - r2_score: 0.9697 - val_loss: 0.0072 - val_mean_squared_error: 0.0108 - val_r2_score: 0.8450\n",
      "Epoch 148/300\n",
      "\u001b[1m22/22\u001b[0m \u001b[32m━━━━━━━━━━━━━━━━━━━━\u001b[0m\u001b[37m\u001b[0m \u001b[1m0s\u001b[0m 5ms/step - loss: 0.0018 - mean_squared_error: 0.0018 - r2_score: 0.9702 - val_loss: 0.0072 - val_mean_squared_error: 0.0109 - val_r2_score: 0.8440\n",
      "Epoch 149/300\n",
      "\u001b[1m22/22\u001b[0m \u001b[32m━━━━━━━━━━━━━━━━━━━━\u001b[0m\u001b[37m\u001b[0m \u001b[1m0s\u001b[0m 5ms/step - loss: 0.0018 - mean_squared_error: 0.0018 - r2_score: 0.9732 - val_loss: 0.0072 - val_mean_squared_error: 0.0109 - val_r2_score: 0.8449\n",
      "Epoch 150/300\n",
      "\u001b[1m22/22\u001b[0m \u001b[32m━━━━━━━━━━━━━━━━━━━━\u001b[0m\u001b[37m\u001b[0m \u001b[1m0s\u001b[0m 5ms/step - loss: 0.0019 - mean_squared_error: 0.0019 - r2_score: 0.9723 - val_loss: 0.0072 - val_mean_squared_error: 0.0109 - val_r2_score: 0.8441\n",
      "Epoch 151/300\n",
      "\u001b[1m22/22\u001b[0m \u001b[32m━━━━━━━━━━━━━━━━━━━━\u001b[0m\u001b[37m\u001b[0m \u001b[1m0s\u001b[0m 7ms/step - loss: 0.0020 - mean_squared_error: 0.0020 - r2_score: 0.9670 - val_loss: 0.0072 - val_mean_squared_error: 0.0108 - val_r2_score: 0.8455\n",
      "Epoch 152/300\n",
      "\u001b[1m22/22\u001b[0m \u001b[32m━━━━━━━━━━━━━━━━━━━━\u001b[0m\u001b[37m\u001b[0m \u001b[1m0s\u001b[0m 5ms/step - loss: 0.0017 - mean_squared_error: 0.0017 - r2_score: 0.9683 - val_loss: 0.0073 - val_mean_squared_error: 0.0110 - val_r2_score: 0.8433\n",
      "Epoch 153/300\n",
      "\u001b[1m22/22\u001b[0m \u001b[32m━━━━━━━━━━━━━━━━━━━━\u001b[0m\u001b[37m\u001b[0m \u001b[1m0s\u001b[0m 5ms/step - loss: 0.0019 - mean_squared_error: 0.0019 - r2_score: 0.9700 - val_loss: 0.0073 - val_mean_squared_error: 0.0109 - val_r2_score: 0.8436\n",
      "Epoch 154/300\n",
      "\u001b[1m22/22\u001b[0m \u001b[32m━━━━━━━━━━━━━━━━━━━━\u001b[0m\u001b[37m\u001b[0m \u001b[1m0s\u001b[0m 5ms/step - loss: 0.0018 - mean_squared_error: 0.0018 - r2_score: 0.9691 - val_loss: 0.0073 - val_mean_squared_error: 0.0110 - val_r2_score: 0.8439\n",
      "Epoch 155/300\n",
      "\u001b[1m22/22\u001b[0m \u001b[32m━━━━━━━━━━━━━━━━━━━━\u001b[0m\u001b[37m\u001b[0m \u001b[1m0s\u001b[0m 5ms/step - loss: 0.0018 - mean_squared_error: 0.0018 - r2_score: 0.9698 - val_loss: 0.0073 - val_mean_squared_error: 0.0111 - val_r2_score: 0.8422\n",
      "Epoch 156/300\n",
      "\u001b[1m22/22\u001b[0m \u001b[32m━━━━━━━━━━━━━━━━━━━━\u001b[0m\u001b[37m\u001b[0m \u001b[1m0s\u001b[0m 5ms/step - loss: 0.0018 - mean_squared_error: 0.0018 - r2_score: 0.9681 - val_loss: 0.0072 - val_mean_squared_error: 0.0109 - val_r2_score: 0.8441\n",
      "Epoch 157/300\n",
      "\u001b[1m22/22\u001b[0m \u001b[32m━━━━━━━━━━━━━━━━━━━━\u001b[0m\u001b[37m\u001b[0m \u001b[1m0s\u001b[0m 5ms/step - loss: 0.0018 - mean_squared_error: 0.0018 - r2_score: 0.9709 - val_loss: 0.0072 - val_mean_squared_error: 0.0108 - val_r2_score: 0.8461\n",
      "Epoch 158/300\n",
      "\u001b[1m22/22\u001b[0m \u001b[32m━━━━━━━━━━━━━━━━━━━━\u001b[0m\u001b[37m\u001b[0m \u001b[1m0s\u001b[0m 5ms/step - loss: 0.0017 - mean_squared_error: 0.0017 - r2_score: 0.9720 - val_loss: 0.0072 - val_mean_squared_error: 0.0108 - val_r2_score: 0.8461\n",
      "Epoch 159/300\n",
      "\u001b[1m22/22\u001b[0m \u001b[32m━━━━━━━━━━━━━━━━━━━━\u001b[0m\u001b[37m\u001b[0m \u001b[1m0s\u001b[0m 5ms/step - loss: 0.0017 - mean_squared_error: 0.0017 - r2_score: 0.9735 - val_loss: 0.0073 - val_mean_squared_error: 0.0111 - val_r2_score: 0.8422\n",
      "Epoch 160/300\n",
      "\u001b[1m22/22\u001b[0m \u001b[32m━━━━━━━━━━━━━━━━━━━━\u001b[0m\u001b[37m\u001b[0m \u001b[1m0s\u001b[0m 5ms/step - loss: 0.0017 - mean_squared_error: 0.0017 - r2_score: 0.9726 - val_loss: 0.0073 - val_mean_squared_error: 0.0110 - val_r2_score: 0.8434\n",
      "Epoch 161/300\n",
      "\u001b[1m22/22\u001b[0m \u001b[32m━━━━━━━━━━━━━━━━━━━━\u001b[0m\u001b[37m\u001b[0m \u001b[1m0s\u001b[0m 5ms/step - loss: 0.0019 - mean_squared_error: 0.0019 - r2_score: 0.9700 - val_loss: 0.0072 - val_mean_squared_error: 0.0108 - val_r2_score: 0.8457\n",
      "Epoch 162/300\n",
      "\u001b[1m22/22\u001b[0m \u001b[32m━━━━━━━━━━━━━━━━━━━━\u001b[0m\u001b[37m\u001b[0m \u001b[1m0s\u001b[0m 5ms/step - loss: 0.0016 - mean_squared_error: 0.0016 - r2_score: 0.9728 - val_loss: 0.0072 - val_mean_squared_error: 0.0108 - val_r2_score: 0.8455\n",
      "Epoch 163/300\n",
      "\u001b[1m22/22\u001b[0m \u001b[32m━━━━━━━━━━━━━━━━━━━━\u001b[0m\u001b[37m\u001b[0m \u001b[1m0s\u001b[0m 5ms/step - loss: 0.0019 - mean_squared_error: 0.0019 - r2_score: 0.9727 - val_loss: 0.0073 - val_mean_squared_error: 0.0111 - val_r2_score: 0.8425\n",
      "Epoch 164/300\n",
      "\u001b[1m22/22\u001b[0m \u001b[32m━━━━━━━━━━━━━━━━━━━━\u001b[0m\u001b[37m\u001b[0m \u001b[1m0s\u001b[0m 5ms/step - loss: 0.0019 - mean_squared_error: 0.0019 - r2_score: 0.9702 - val_loss: 0.0073 - val_mean_squared_error: 0.0111 - val_r2_score: 0.8426\n",
      "Epoch 165/300\n",
      "\u001b[1m22/22\u001b[0m \u001b[32m━━━━━━━━━━━━━━━━━━━━\u001b[0m\u001b[37m\u001b[0m \u001b[1m0s\u001b[0m 5ms/step - loss: 0.0020 - mean_squared_error: 0.0020 - r2_score: 0.9677 - val_loss: 0.0073 - val_mean_squared_error: 0.0110 - val_r2_score: 0.8426\n",
      "Epoch 166/300\n",
      "\u001b[1m22/22\u001b[0m \u001b[32m━━━━━━━━━━━━━━━━━━━━\u001b[0m\u001b[37m\u001b[0m \u001b[1m0s\u001b[0m 5ms/step - loss: 0.0018 - mean_squared_error: 0.0018 - r2_score: 0.9727 - val_loss: 0.0073 - val_mean_squared_error: 0.0110 - val_r2_score: 0.8431\n",
      "Epoch 167/300\n",
      "\u001b[1m22/22\u001b[0m \u001b[32m━━━━━━━━━━━━━━━━━━━━\u001b[0m\u001b[37m\u001b[0m \u001b[1m0s\u001b[0m 5ms/step - loss: 0.0017 - mean_squared_error: 0.0017 - r2_score: 0.9728 - val_loss: 0.0073 - val_mean_squared_error: 0.0110 - val_r2_score: 0.8431\n",
      "Epoch 168/300\n",
      "\u001b[1m22/22\u001b[0m \u001b[32m━━━━━━━━━━━━━━━━━━━━\u001b[0m\u001b[37m\u001b[0m \u001b[1m0s\u001b[0m 5ms/step - loss: 0.0018 - mean_squared_error: 0.0018 - r2_score: 0.9684 - val_loss: 0.0073 - val_mean_squared_error: 0.0110 - val_r2_score: 0.8437\n",
      "Epoch 169/300\n",
      "\u001b[1m22/22\u001b[0m \u001b[32m━━━━━━━━━━━━━━━━━━━━\u001b[0m\u001b[37m\u001b[0m \u001b[1m0s\u001b[0m 5ms/step - loss: 0.0018 - mean_squared_error: 0.0018 - r2_score: 0.9721 - val_loss: 0.0073 - val_mean_squared_error: 0.0110 - val_r2_score: 0.8435\n",
      "Epoch 170/300\n",
      "\u001b[1m22/22\u001b[0m \u001b[32m━━━━━━━━━━━━━━━━━━━━\u001b[0m\u001b[37m\u001b[0m \u001b[1m0s\u001b[0m 5ms/step - loss: 0.0018 - mean_squared_error: 0.0018 - r2_score: 0.9716 - val_loss: 0.0072 - val_mean_squared_error: 0.0108 - val_r2_score: 0.8461\n",
      "Epoch 171/300\n",
      "\u001b[1m22/22\u001b[0m \u001b[32m━━━━━━━━━━━━━━━━━━━━\u001b[0m\u001b[37m\u001b[0m \u001b[1m0s\u001b[0m 7ms/step - loss: 0.0018 - mean_squared_error: 0.0018 - r2_score: 0.9699 - val_loss: 0.0073 - val_mean_squared_error: 0.0110 - val_r2_score: 0.8431\n",
      "Epoch 172/300\n",
      "\u001b[1m22/22\u001b[0m \u001b[32m━━━━━━━━━━━━━━━━━━━━\u001b[0m\u001b[37m\u001b[0m \u001b[1m0s\u001b[0m 5ms/step - loss: 0.0018 - mean_squared_error: 0.0018 - r2_score: 0.9737 - val_loss: 0.0072 - val_mean_squared_error: 0.0109 - val_r2_score: 0.8445\n",
      "Epoch 173/300\n",
      "\u001b[1m22/22\u001b[0m \u001b[32m━━━━━━━━━━━━━━━━━━━━\u001b[0m\u001b[37m\u001b[0m \u001b[1m0s\u001b[0m 5ms/step - loss: 0.0017 - mean_squared_error: 0.0017 - r2_score: 0.9725 - val_loss: 0.0072 - val_mean_squared_error: 0.0109 - val_r2_score: 0.8442\n",
      "Epoch 174/300\n",
      "\u001b[1m22/22\u001b[0m \u001b[32m━━━━━━━━━━━━━━━━━━━━\u001b[0m\u001b[37m\u001b[0m \u001b[1m0s\u001b[0m 5ms/step - loss: 0.0016 - mean_squared_error: 0.0016 - r2_score: 0.9760 - val_loss: 0.0072 - val_mean_squared_error: 0.0109 - val_r2_score: 0.8445\n",
      "Epoch 175/300\n",
      "\u001b[1m22/22\u001b[0m \u001b[32m━━━━━━━━━━━━━━━━━━━━\u001b[0m\u001b[37m\u001b[0m \u001b[1m0s\u001b[0m 6ms/step - loss: 0.0015 - mean_squared_error: 0.0015 - r2_score: 0.9745 - val_loss: 0.0073 - val_mean_squared_error: 0.0111 - val_r2_score: 0.8427\n",
      "Epoch 176/300\n",
      "\u001b[1m22/22\u001b[0m \u001b[32m━━━━━━━━━━━━━━━━━━━━\u001b[0m\u001b[37m\u001b[0m \u001b[1m0s\u001b[0m 5ms/step - loss: 0.0017 - mean_squared_error: 0.0017 - r2_score: 0.9739 - val_loss: 0.0074 - val_mean_squared_error: 0.0112 - val_r2_score: 0.8413\n",
      "Epoch 177/300\n",
      "\u001b[1m22/22\u001b[0m \u001b[32m━━━━━━━━━━━━━━━━━━━━\u001b[0m\u001b[37m\u001b[0m \u001b[1m0s\u001b[0m 5ms/step - loss: 0.0019 - mean_squared_error: 0.0019 - r2_score: 0.9685 - val_loss: 0.0072 - val_mean_squared_error: 0.0110 - val_r2_score: 0.8441\n",
      "Epoch 178/300\n",
      "\u001b[1m22/22\u001b[0m \u001b[32m━━━━━━━━━━━━━━━━━━━━\u001b[0m\u001b[37m\u001b[0m \u001b[1m0s\u001b[0m 5ms/step - loss: 0.0019 - mean_squared_error: 0.0019 - r2_score: 0.9700 - val_loss: 0.0073 - val_mean_squared_error: 0.0110 - val_r2_score: 0.8437\n",
      "Epoch 179/300\n",
      "\u001b[1m22/22\u001b[0m \u001b[32m━━━━━━━━━━━━━━━━━━━━\u001b[0m\u001b[37m\u001b[0m \u001b[1m0s\u001b[0m 5ms/step - loss: 0.0019 - mean_squared_error: 0.0019 - r2_score: 0.9693 - val_loss: 0.0074 - val_mean_squared_error: 0.0112 - val_r2_score: 0.8409\n",
      "Epoch 180/300\n",
      "\u001b[1m22/22\u001b[0m \u001b[32m━━━━━━━━━━━━━━━━━━━━\u001b[0m\u001b[37m\u001b[0m \u001b[1m0s\u001b[0m 5ms/step - loss: 0.0018 - mean_squared_error: 0.0018 - r2_score: 0.9722 - val_loss: 0.0074 - val_mean_squared_error: 0.0112 - val_r2_score: 0.8414\n",
      "Epoch 181/300\n",
      "\u001b[1m22/22\u001b[0m \u001b[32m━━━━━━━━━━━━━━━━━━━━\u001b[0m\u001b[37m\u001b[0m \u001b[1m0s\u001b[0m 5ms/step - loss: 0.0017 - mean_squared_error: 0.0017 - r2_score: 0.9721 - val_loss: 0.0073 - val_mean_squared_error: 0.0111 - val_r2_score: 0.8426\n",
      "Epoch 182/300\n",
      "\u001b[1m22/22\u001b[0m \u001b[32m━━━━━━━━━━━━━━━━━━━━\u001b[0m\u001b[37m\u001b[0m \u001b[1m0s\u001b[0m 5ms/step - loss: 0.0018 - mean_squared_error: 0.0018 - r2_score: 0.9715 - val_loss: 0.0072 - val_mean_squared_error: 0.0110 - val_r2_score: 0.8450\n",
      "Epoch 183/300\n",
      "\u001b[1m22/22\u001b[0m \u001b[32m━━━━━━━━━━━━━━━━━━━━\u001b[0m\u001b[37m\u001b[0m \u001b[1m0s\u001b[0m 5ms/step - loss: 0.0018 - mean_squared_error: 0.0018 - r2_score: 0.9713 - val_loss: 0.0074 - val_mean_squared_error: 0.0112 - val_r2_score: 0.8416\n",
      "Epoch 184/300\n",
      "\u001b[1m22/22\u001b[0m \u001b[32m━━━━━━━━━━━━━━━━━━━━\u001b[0m\u001b[37m\u001b[0m \u001b[1m0s\u001b[0m 5ms/step - loss: 0.0018 - mean_squared_error: 0.0018 - r2_score: 0.9714 - val_loss: 0.0073 - val_mean_squared_error: 0.0110 - val_r2_score: 0.8436\n",
      "Epoch 185/300\n",
      "\u001b[1m22/22\u001b[0m \u001b[32m━━━━━━━━━━━━━━━━━━━━\u001b[0m\u001b[37m\u001b[0m \u001b[1m0s\u001b[0m 6ms/step - loss: 0.0016 - mean_squared_error: 0.0016 - r2_score: 0.9737 - val_loss: 0.0074 - val_mean_squared_error: 0.0113 - val_r2_score: 0.8405\n",
      "Epoch 186/300\n",
      "\u001b[1m22/22\u001b[0m \u001b[32m━━━━━━━━━━━━━━━━━━━━\u001b[0m\u001b[37m\u001b[0m \u001b[1m0s\u001b[0m 5ms/step - loss: 0.0017 - mean_squared_error: 0.0017 - r2_score: 0.9717 - val_loss: 0.0074 - val_mean_squared_error: 0.0113 - val_r2_score: 0.8399\n",
      "Epoch 187/300\n",
      "\u001b[1m22/22\u001b[0m \u001b[32m━━━━━━━━━━━━━━━━━━━━\u001b[0m\u001b[37m\u001b[0m \u001b[1m0s\u001b[0m 5ms/step - loss: 0.0018 - mean_squared_error: 0.0018 - r2_score: 0.9720 - val_loss: 0.0073 - val_mean_squared_error: 0.0110 - val_r2_score: 0.8436\n",
      "Epoch 188/300\n",
      "\u001b[1m22/22\u001b[0m \u001b[32m━━━━━━━━━━━━━━━━━━━━\u001b[0m\u001b[37m\u001b[0m \u001b[1m0s\u001b[0m 5ms/step - loss: 0.0018 - mean_squared_error: 0.0018 - r2_score: 0.9732 - val_loss: 0.0074 - val_mean_squared_error: 0.0113 - val_r2_score: 0.8409\n",
      "Epoch 189/300\n",
      "\u001b[1m22/22\u001b[0m \u001b[32m━━━━━━━━━━━━━━━━━━━━\u001b[0m\u001b[37m\u001b[0m \u001b[1m0s\u001b[0m 5ms/step - loss: 0.0017 - mean_squared_error: 0.0017 - r2_score: 0.9753 - val_loss: 0.0072 - val_mean_squared_error: 0.0110 - val_r2_score: 0.8441\n",
      "Epoch 190/300\n",
      "\u001b[1m22/22\u001b[0m \u001b[32m━━━━━━━━━━━━━━━━━━━━\u001b[0m\u001b[37m\u001b[0m \u001b[1m0s\u001b[0m 6ms/step - loss: 0.0018 - mean_squared_error: 0.0018 - r2_score: 0.9700 - val_loss: 0.0073 - val_mean_squared_error: 0.0112 - val_r2_score: 0.8419\n",
      "Epoch 191/300\n",
      "\u001b[1m22/22\u001b[0m \u001b[32m━━━━━━━━━━━━━━━━━━━━\u001b[0m\u001b[37m\u001b[0m \u001b[1m0s\u001b[0m 5ms/step - loss: 0.0016 - mean_squared_error: 0.0016 - r2_score: 0.9734 - val_loss: 0.0072 - val_mean_squared_error: 0.0109 - val_r2_score: 0.8455\n",
      "Epoch 192/300\n",
      "\u001b[1m22/22\u001b[0m \u001b[32m━━━━━━━━━━━━━━━━━━━━\u001b[0m\u001b[37m\u001b[0m \u001b[1m0s\u001b[0m 5ms/step - loss: 0.0017 - mean_squared_error: 0.0017 - r2_score: 0.9722 - val_loss: 0.0074 - val_mean_squared_error: 0.0112 - val_r2_score: 0.8416\n",
      "Epoch 193/300\n",
      "\u001b[1m22/22\u001b[0m \u001b[32m━━━━━━━━━━━━━━━━━━━━\u001b[0m\u001b[37m\u001b[0m \u001b[1m0s\u001b[0m 5ms/step - loss: 0.0019 - mean_squared_error: 0.0019 - r2_score: 0.9712 - val_loss: 0.0075 - val_mean_squared_error: 0.0113 - val_r2_score: 0.8397\n",
      "Epoch 194/300\n",
      "\u001b[1m22/22\u001b[0m \u001b[32m━━━━━━━━━━━━━━━━━━━━\u001b[0m\u001b[37m\u001b[0m \u001b[1m0s\u001b[0m 5ms/step - loss: 0.0018 - mean_squared_error: 0.0018 - r2_score: 0.9734 - val_loss: 0.0073 - val_mean_squared_error: 0.0112 - val_r2_score: 0.8427\n",
      "Epoch 195/300\n",
      "\u001b[1m22/22\u001b[0m \u001b[32m━━━━━━━━━━━━━━━━━━━━\u001b[0m\u001b[37m\u001b[0m \u001b[1m0s\u001b[0m 6ms/step - loss: 0.0017 - mean_squared_error: 0.0017 - r2_score: 0.9728 - val_loss: 0.0074 - val_mean_squared_error: 0.0113 - val_r2_score: 0.8409\n",
      "Epoch 196/300\n",
      "\u001b[1m22/22\u001b[0m \u001b[32m━━━━━━━━━━━━━━━━━━━━\u001b[0m\u001b[37m\u001b[0m \u001b[1m0s\u001b[0m 5ms/step - loss: 0.0017 - mean_squared_error: 0.0017 - r2_score: 0.9714 - val_loss: 0.0074 - val_mean_squared_error: 0.0114 - val_r2_score: 0.8401\n",
      "Epoch 197/300\n",
      "\u001b[1m22/22\u001b[0m \u001b[32m━━━━━━━━━━━━━━━━━━━━\u001b[0m\u001b[37m\u001b[0m \u001b[1m0s\u001b[0m 5ms/step - loss: 0.0016 - mean_squared_error: 0.0016 - r2_score: 0.9745 - val_loss: 0.0073 - val_mean_squared_error: 0.0111 - val_r2_score: 0.8432\n",
      "Epoch 198/300\n",
      "\u001b[1m22/22\u001b[0m \u001b[32m━━━━━━━━━━━━━━━━━━━━\u001b[0m\u001b[37m\u001b[0m \u001b[1m0s\u001b[0m 5ms/step - loss: 0.0018 - mean_squared_error: 0.0018 - r2_score: 0.9717 - val_loss: 0.0074 - val_mean_squared_error: 0.0114 - val_r2_score: 0.8401\n",
      "Epoch 199/300\n",
      "\u001b[1m22/22\u001b[0m \u001b[32m━━━━━━━━━━━━━━━━━━━━\u001b[0m\u001b[37m\u001b[0m \u001b[1m0s\u001b[0m 5ms/step - loss: 0.0017 - mean_squared_error: 0.0017 - r2_score: 0.9712 - val_loss: 0.0074 - val_mean_squared_error: 0.0113 - val_r2_score: 0.8414\n",
      "Epoch 200/300\n",
      "\u001b[1m22/22\u001b[0m \u001b[32m━━━━━━━━━━━━━━━━━━━━\u001b[0m\u001b[37m\u001b[0m \u001b[1m0s\u001b[0m 5ms/step - loss: 0.0017 - mean_squared_error: 0.0017 - r2_score: 0.9724 - val_loss: 0.0073 - val_mean_squared_error: 0.0112 - val_r2_score: 0.8422\n",
      "Epoch 201/300\n",
      "\u001b[1m22/22\u001b[0m \u001b[32m━━━━━━━━━━━━━━━━━━━━\u001b[0m\u001b[37m\u001b[0m \u001b[1m0s\u001b[0m 5ms/step - loss: 0.0019 - mean_squared_error: 0.0019 - r2_score: 0.9695 - val_loss: 0.0074 - val_mean_squared_error: 0.0113 - val_r2_score: 0.8411\n",
      "Epoch 202/300\n",
      "\u001b[1m22/22\u001b[0m \u001b[32m━━━━━━━━━━━━━━━━━━━━\u001b[0m\u001b[37m\u001b[0m \u001b[1m0s\u001b[0m 5ms/step - loss: 0.0016 - mean_squared_error: 0.0016 - r2_score: 0.9734 - val_loss: 0.0075 - val_mean_squared_error: 0.0115 - val_r2_score: 0.8382\n",
      "Epoch 203/300\n",
      "\u001b[1m22/22\u001b[0m \u001b[32m━━━━━━━━━━━━━━━━━━━━\u001b[0m\u001b[37m\u001b[0m \u001b[1m0s\u001b[0m 5ms/step - loss: 0.0018 - mean_squared_error: 0.0018 - r2_score: 0.9719 - val_loss: 0.0074 - val_mean_squared_error: 0.0112 - val_r2_score: 0.8415\n",
      "Epoch 204/300\n",
      "\u001b[1m22/22\u001b[0m \u001b[32m━━━━━━━━━━━━━━━━━━━━\u001b[0m\u001b[37m\u001b[0m \u001b[1m0s\u001b[0m 5ms/step - loss: 0.0016 - mean_squared_error: 0.0016 - r2_score: 0.9714 - val_loss: 0.0074 - val_mean_squared_error: 0.0113 - val_r2_score: 0.8405\n",
      "Epoch 205/300\n",
      "\u001b[1m22/22\u001b[0m \u001b[32m━━━━━━━━━━━━━━━━━━━━\u001b[0m\u001b[37m\u001b[0m \u001b[1m0s\u001b[0m 5ms/step - loss: 0.0018 - mean_squared_error: 0.0018 - r2_score: 0.9699 - val_loss: 0.0072 - val_mean_squared_error: 0.0110 - val_r2_score: 0.8448\n",
      "Epoch 206/300\n",
      "\u001b[1m22/22\u001b[0m \u001b[32m━━━━━━━━━━━━━━━━━━━━\u001b[0m\u001b[37m\u001b[0m \u001b[1m0s\u001b[0m 5ms/step - loss: 0.0017 - mean_squared_error: 0.0017 - r2_score: 0.9740 - val_loss: 0.0074 - val_mean_squared_error: 0.0113 - val_r2_score: 0.8405\n",
      "Epoch 207/300\n",
      "\u001b[1m22/22\u001b[0m \u001b[32m━━━━━━━━━━━━━━━━━━━━\u001b[0m\u001b[37m\u001b[0m \u001b[1m0s\u001b[0m 5ms/step - loss: 0.0019 - mean_squared_error: 0.0019 - r2_score: 0.9687 - val_loss: 0.0077 - val_mean_squared_error: 0.0119 - val_r2_score: 0.8337\n",
      "Epoch 208/300\n",
      "\u001b[1m22/22\u001b[0m \u001b[32m━━━━━━━━━━━━━━━━━━━━\u001b[0m\u001b[37m\u001b[0m \u001b[1m0s\u001b[0m 7ms/step - loss: 0.0016 - mean_squared_error: 0.0016 - r2_score: 0.9734 - val_loss: 0.0074 - val_mean_squared_error: 0.0113 - val_r2_score: 0.8416\n",
      "Epoch 209/300\n",
      "\u001b[1m22/22\u001b[0m \u001b[32m━━━━━━━━━━━━━━━━━━━━\u001b[0m\u001b[37m\u001b[0m \u001b[1m0s\u001b[0m 5ms/step - loss: 0.0018 - mean_squared_error: 0.0018 - r2_score: 0.9726 - val_loss: 0.0074 - val_mean_squared_error: 0.0114 - val_r2_score: 0.8407\n",
      "Epoch 210/300\n",
      "\u001b[1m22/22\u001b[0m \u001b[32m━━━━━━━━━━━━━━━━━━━━\u001b[0m\u001b[37m\u001b[0m \u001b[1m0s\u001b[0m 5ms/step - loss: 0.0017 - mean_squared_error: 0.0017 - r2_score: 0.9733 - val_loss: 0.0074 - val_mean_squared_error: 0.0114 - val_r2_score: 0.8405\n",
      "Epoch 211/300\n",
      "\u001b[1m22/22\u001b[0m \u001b[32m━━━━━━━━━━━━━━━━━━━━\u001b[0m\u001b[37m\u001b[0m \u001b[1m0s\u001b[0m 5ms/step - loss: 0.0017 - mean_squared_error: 0.0017 - r2_score: 0.9715 - val_loss: 0.0074 - val_mean_squared_error: 0.0113 - val_r2_score: 0.8412\n",
      "Epoch 212/300\n",
      "\u001b[1m22/22\u001b[0m \u001b[32m━━━━━━━━━━━━━━━━━━━━\u001b[0m\u001b[37m\u001b[0m \u001b[1m0s\u001b[0m 5ms/step - loss: 0.0018 - mean_squared_error: 0.0018 - r2_score: 0.9734 - val_loss: 0.0074 - val_mean_squared_error: 0.0114 - val_r2_score: 0.8405\n",
      "Epoch 213/300\n",
      "\u001b[1m22/22\u001b[0m \u001b[32m━━━━━━━━━━━━━━━━━━━━\u001b[0m\u001b[37m\u001b[0m \u001b[1m0s\u001b[0m 5ms/step - loss: 0.0017 - mean_squared_error: 0.0017 - r2_score: 0.9727 - val_loss: 0.0074 - val_mean_squared_error: 0.0114 - val_r2_score: 0.8404\n",
      "Epoch 214/300\n",
      "\u001b[1m22/22\u001b[0m \u001b[32m━━━━━━━━━━━━━━━━━━━━\u001b[0m\u001b[37m\u001b[0m \u001b[1m0s\u001b[0m 5ms/step - loss: 0.0017 - mean_squared_error: 0.0017 - r2_score: 0.9729 - val_loss: 0.0074 - val_mean_squared_error: 0.0113 - val_r2_score: 0.8417\n",
      "Epoch 215/300\n",
      "\u001b[1m22/22\u001b[0m \u001b[32m━━━━━━━━━━━━━━━━━━━━\u001b[0m\u001b[37m\u001b[0m \u001b[1m0s\u001b[0m 5ms/step - loss: 0.0017 - mean_squared_error: 0.0017 - r2_score: 0.9732 - val_loss: 0.0075 - val_mean_squared_error: 0.0115 - val_r2_score: 0.8390\n",
      "Epoch 216/300\n",
      "\u001b[1m22/22\u001b[0m \u001b[32m━━━━━━━━━━━━━━━━━━━━\u001b[0m\u001b[37m\u001b[0m \u001b[1m0s\u001b[0m 5ms/step - loss: 0.0018 - mean_squared_error: 0.0018 - r2_score: 0.9727 - val_loss: 0.0073 - val_mean_squared_error: 0.0112 - val_r2_score: 0.8425\n",
      "Epoch 217/300\n",
      "\u001b[1m22/22\u001b[0m \u001b[32m━━━━━━━━━━━━━━━━━━━━\u001b[0m\u001b[37m\u001b[0m \u001b[1m0s\u001b[0m 5ms/step - loss: 0.0015 - mean_squared_error: 0.0015 - r2_score: 0.9733 - val_loss: 0.0076 - val_mean_squared_error: 0.0118 - val_r2_score: 0.8357\n",
      "Epoch 218/300\n",
      "\u001b[1m22/22\u001b[0m \u001b[32m━━━━━━━━━━━━━━━━━━━━\u001b[0m\u001b[37m\u001b[0m \u001b[1m0s\u001b[0m 5ms/step - loss: 0.0018 - mean_squared_error: 0.0018 - r2_score: 0.9728 - val_loss: 0.0074 - val_mean_squared_error: 0.0114 - val_r2_score: 0.8411\n",
      "Epoch 219/300\n",
      "\u001b[1m22/22\u001b[0m \u001b[32m━━━━━━━━━━━━━━━━━━━━\u001b[0m\u001b[37m\u001b[0m \u001b[1m0s\u001b[0m 5ms/step - loss: 0.0017 - mean_squared_error: 0.0017 - r2_score: 0.9730 - val_loss: 0.0074 - val_mean_squared_error: 0.0114 - val_r2_score: 0.8404\n",
      "Epoch 220/300\n",
      "\u001b[1m22/22\u001b[0m \u001b[32m━━━━━━━━━━━━━━━━━━━━\u001b[0m\u001b[37m\u001b[0m \u001b[1m0s\u001b[0m 5ms/step - loss: 0.0016 - mean_squared_error: 0.0016 - r2_score: 0.9751 - val_loss: 0.0075 - val_mean_squared_error: 0.0116 - val_r2_score: 0.8377\n",
      "Epoch 221/300\n",
      "\u001b[1m22/22\u001b[0m \u001b[32m━━━━━━━━━━━━━━━━━━━━\u001b[0m\u001b[37m\u001b[0m \u001b[1m0s\u001b[0m 5ms/step - loss: 0.0015 - mean_squared_error: 0.0015 - r2_score: 0.9753 - val_loss: 0.0074 - val_mean_squared_error: 0.0113 - val_r2_score: 0.8416\n",
      "Epoch 222/300\n",
      "\u001b[1m22/22\u001b[0m \u001b[32m━━━━━━━━━━━━━━━━━━━━\u001b[0m\u001b[37m\u001b[0m \u001b[1m0s\u001b[0m 6ms/step - loss: 0.0019 - mean_squared_error: 0.0019 - r2_score: 0.9718 - val_loss: 0.0072 - val_mean_squared_error: 0.0111 - val_r2_score: 0.8452\n",
      "Epoch 223/300\n",
      "\u001b[1m22/22\u001b[0m \u001b[32m━━━━━━━━━━━━━━━━━━━━\u001b[0m\u001b[37m\u001b[0m \u001b[1m0s\u001b[0m 5ms/step - loss: 0.0018 - mean_squared_error: 0.0018 - r2_score: 0.9709 - val_loss: 0.0076 - val_mean_squared_error: 0.0117 - val_r2_score: 0.8374\n",
      "Epoch 224/300\n",
      "\u001b[1m22/22\u001b[0m \u001b[32m━━━━━━━━━━━━━━━━━━━━\u001b[0m\u001b[37m\u001b[0m \u001b[1m0s\u001b[0m 5ms/step - loss: 0.0017 - mean_squared_error: 0.0017 - r2_score: 0.9739 - val_loss: 0.0075 - val_mean_squared_error: 0.0116 - val_r2_score: 0.8390\n",
      "Epoch 225/300\n",
      "\u001b[1m22/22\u001b[0m \u001b[32m━━━━━━━━━━━━━━━━━━━━\u001b[0m\u001b[37m\u001b[0m \u001b[1m0s\u001b[0m 7ms/step - loss: 0.0016 - mean_squared_error: 0.0016 - r2_score: 0.9743 - val_loss: 0.0077 - val_mean_squared_error: 0.0120 - val_r2_score: 0.8336\n",
      "Epoch 226/300\n",
      "\u001b[1m22/22\u001b[0m \u001b[32m━━━━━━━━━━━━━━━━━━━━\u001b[0m\u001b[37m\u001b[0m \u001b[1m0s\u001b[0m 5ms/step - loss: 0.0017 - mean_squared_error: 0.0017 - r2_score: 0.9711 - val_loss: 0.0074 - val_mean_squared_error: 0.0114 - val_r2_score: 0.8411\n",
      "Epoch 227/300\n",
      "\u001b[1m22/22\u001b[0m \u001b[32m━━━━━━━━━━━━━━━━━━━━\u001b[0m\u001b[37m\u001b[0m \u001b[1m0s\u001b[0m 5ms/step - loss: 0.0017 - mean_squared_error: 0.0017 - r2_score: 0.9738 - val_loss: 0.0076 - val_mean_squared_error: 0.0117 - val_r2_score: 0.8366\n",
      "Epoch 228/300\n",
      "\u001b[1m22/22\u001b[0m \u001b[32m━━━━━━━━━━━━━━━━━━━━\u001b[0m\u001b[37m\u001b[0m \u001b[1m0s\u001b[0m 5ms/step - loss: 0.0017 - mean_squared_error: 0.0017 - r2_score: 0.9730 - val_loss: 0.0074 - val_mean_squared_error: 0.0115 - val_r2_score: 0.8408\n",
      "Epoch 229/300\n",
      "\u001b[1m22/22\u001b[0m \u001b[32m━━━━━━━━━━━━━━━━━━━━\u001b[0m\u001b[37m\u001b[0m \u001b[1m0s\u001b[0m 5ms/step - loss: 0.0017 - mean_squared_error: 0.0017 - r2_score: 0.9746 - val_loss: 0.0075 - val_mean_squared_error: 0.0116 - val_r2_score: 0.8392\n",
      "Epoch 230/300\n",
      "\u001b[1m22/22\u001b[0m \u001b[32m━━━━━━━━━━━━━━━━━━━━\u001b[0m\u001b[37m\u001b[0m \u001b[1m0s\u001b[0m 6ms/step - loss: 0.0016 - mean_squared_error: 0.0016 - r2_score: 0.9738 - val_loss: 0.0075 - val_mean_squared_error: 0.0117 - val_r2_score: 0.8382\n",
      "Epoch 231/300\n",
      "\u001b[1m22/22\u001b[0m \u001b[32m━━━━━━━━━━━━━━━━━━━━\u001b[0m\u001b[37m\u001b[0m \u001b[1m0s\u001b[0m 6ms/step - loss: 0.0016 - mean_squared_error: 0.0016 - r2_score: 0.9740 - val_loss: 0.0075 - val_mean_squared_error: 0.0116 - val_r2_score: 0.8386\n",
      "Epoch 232/300\n",
      "\u001b[1m22/22\u001b[0m \u001b[32m━━━━━━━━━━━━━━━━━━━━\u001b[0m\u001b[37m\u001b[0m \u001b[1m0s\u001b[0m 5ms/step - loss: 0.0016 - mean_squared_error: 0.0016 - r2_score: 0.9748 - val_loss: 0.0076 - val_mean_squared_error: 0.0119 - val_r2_score: 0.8358\n",
      "Epoch 233/300\n",
      "\u001b[1m22/22\u001b[0m \u001b[32m━━━━━━━━━━━━━━━━━━━━\u001b[0m\u001b[37m\u001b[0m \u001b[1m0s\u001b[0m 5ms/step - loss: 0.0017 - mean_squared_error: 0.0017 - r2_score: 0.9725 - val_loss: 0.0076 - val_mean_squared_error: 0.0118 - val_r2_score: 0.8368\n",
      "Epoch 234/300\n",
      "\u001b[1m22/22\u001b[0m \u001b[32m━━━━━━━━━━━━━━━━━━━━\u001b[0m\u001b[37m\u001b[0m \u001b[1m0s\u001b[0m 5ms/step - loss: 0.0017 - mean_squared_error: 0.0017 - r2_score: 0.9721 - val_loss: 0.0074 - val_mean_squared_error: 0.0115 - val_r2_score: 0.8399\n",
      "Epoch 235/300\n",
      "\u001b[1m22/22\u001b[0m \u001b[32m━━━━━━━━━━━━━━━━━━━━\u001b[0m\u001b[37m\u001b[0m \u001b[1m0s\u001b[0m 5ms/step - loss: 0.0017 - mean_squared_error: 0.0017 - r2_score: 0.9741 - val_loss: 0.0076 - val_mean_squared_error: 0.0119 - val_r2_score: 0.8360\n",
      "Epoch 236/300\n",
      "\u001b[1m22/22\u001b[0m \u001b[32m━━━━━━━━━━━━━━━━━━━━\u001b[0m\u001b[37m\u001b[0m \u001b[1m0s\u001b[0m 5ms/step - loss: 0.0016 - mean_squared_error: 0.0016 - r2_score: 0.9729 - val_loss: 0.0076 - val_mean_squared_error: 0.0118 - val_r2_score: 0.8364\n",
      "Epoch 237/300\n",
      "\u001b[1m22/22\u001b[0m \u001b[32m━━━━━━━━━━━━━━━━━━━━\u001b[0m\u001b[37m\u001b[0m \u001b[1m0s\u001b[0m 5ms/step - loss: 0.0015 - mean_squared_error: 0.0015 - r2_score: 0.9745 - val_loss: 0.0076 - val_mean_squared_error: 0.0118 - val_r2_score: 0.8366\n",
      "Epoch 238/300\n",
      "\u001b[1m22/22\u001b[0m \u001b[32m━━━━━━━━━━━━━━━━━━━━\u001b[0m\u001b[37m\u001b[0m \u001b[1m0s\u001b[0m 5ms/step - loss: 0.0018 - mean_squared_error: 0.0018 - r2_score: 0.9711 - val_loss: 0.0075 - val_mean_squared_error: 0.0116 - val_r2_score: 0.8392\n",
      "Epoch 239/300\n",
      "\u001b[1m22/22\u001b[0m \u001b[32m━━━━━━━━━━━━━━━━━━━━\u001b[0m\u001b[37m\u001b[0m \u001b[1m0s\u001b[0m 5ms/step - loss: 0.0015 - mean_squared_error: 0.0015 - r2_score: 0.9753 - val_loss: 0.0075 - val_mean_squared_error: 0.0116 - val_r2_score: 0.8390\n",
      "Epoch 240/300\n",
      "\u001b[1m22/22\u001b[0m \u001b[32m━━━━━━━━━━━━━━━━━━━━\u001b[0m\u001b[37m\u001b[0m \u001b[1m0s\u001b[0m 5ms/step - loss: 0.0017 - mean_squared_error: 0.0017 - r2_score: 0.9751 - val_loss: 0.0077 - val_mean_squared_error: 0.0120 - val_r2_score: 0.8352\n",
      "Epoch 241/300\n",
      "\u001b[1m22/22\u001b[0m \u001b[32m━━━━━━━━━━━━━━━━━━━━\u001b[0m\u001b[37m\u001b[0m \u001b[1m0s\u001b[0m 7ms/step - loss: 0.0018 - mean_squared_error: 0.0018 - r2_score: 0.9724 - val_loss: 0.0076 - val_mean_squared_error: 0.0118 - val_r2_score: 0.8371\n",
      "Epoch 242/300\n",
      "\u001b[1m22/22\u001b[0m \u001b[32m━━━━━━━━━━━━━━━━━━━━\u001b[0m\u001b[37m\u001b[0m \u001b[1m0s\u001b[0m 5ms/step - loss: 0.0016 - mean_squared_error: 0.0016 - r2_score: 0.9742 - val_loss: 0.0075 - val_mean_squared_error: 0.0117 - val_r2_score: 0.8384\n",
      "Epoch 243/300\n",
      "\u001b[1m22/22\u001b[0m \u001b[32m━━━━━━━━━━━━━━━━━━━━\u001b[0m\u001b[37m\u001b[0m \u001b[1m0s\u001b[0m 5ms/step - loss: 0.0018 - mean_squared_error: 0.0018 - r2_score: 0.9724 - val_loss: 0.0074 - val_mean_squared_error: 0.0116 - val_r2_score: 0.8404\n",
      "Epoch 244/300\n",
      "\u001b[1m22/22\u001b[0m \u001b[32m━━━━━━━━━━━━━━━━━━━━\u001b[0m\u001b[37m\u001b[0m \u001b[1m0s\u001b[0m 5ms/step - loss: 0.0016 - mean_squared_error: 0.0016 - r2_score: 0.9737 - val_loss: 0.0077 - val_mean_squared_error: 0.0120 - val_r2_score: 0.8340\n",
      "Epoch 245/300\n",
      "\u001b[1m22/22\u001b[0m \u001b[32m━━━━━━━━━━━━━━━━━━━━\u001b[0m\u001b[37m\u001b[0m \u001b[1m0s\u001b[0m 5ms/step - loss: 0.0018 - mean_squared_error: 0.0018 - r2_score: 0.9719 - val_loss: 0.0076 - val_mean_squared_error: 0.0118 - val_r2_score: 0.8370\n",
      "Epoch 246/300\n",
      "\u001b[1m22/22\u001b[0m \u001b[32m━━━━━━━━━━━━━━━━━━━━\u001b[0m\u001b[37m\u001b[0m \u001b[1m0s\u001b[0m 6ms/step - loss: 0.0016 - mean_squared_error: 0.0016 - r2_score: 0.9734 - val_loss: 0.0076 - val_mean_squared_error: 0.0119 - val_r2_score: 0.8371\n",
      "Epoch 247/300\n",
      "\u001b[1m22/22\u001b[0m \u001b[32m━━━━━━━━━━━━━━━━━━━━\u001b[0m\u001b[37m\u001b[0m \u001b[1m0s\u001b[0m 5ms/step - loss: 0.0016 - mean_squared_error: 0.0016 - r2_score: 0.9765 - val_loss: 0.0075 - val_mean_squared_error: 0.0117 - val_r2_score: 0.8392\n",
      "Epoch 248/300\n",
      "\u001b[1m22/22\u001b[0m \u001b[32m━━━━━━━━━━━━━━━━━━━━\u001b[0m\u001b[37m\u001b[0m \u001b[1m0s\u001b[0m 5ms/step - loss: 0.0016 - mean_squared_error: 0.0016 - r2_score: 0.9759 - val_loss: 0.0077 - val_mean_squared_error: 0.0121 - val_r2_score: 0.8343\n",
      "Epoch 249/300\n",
      "\u001b[1m22/22\u001b[0m \u001b[32m━━━━━━━━━━━━━━━━━━━━\u001b[0m\u001b[37m\u001b[0m \u001b[1m0s\u001b[0m 5ms/step - loss: 0.0017 - mean_squared_error: 0.0017 - r2_score: 0.9724 - val_loss: 0.0076 - val_mean_squared_error: 0.0119 - val_r2_score: 0.8361\n",
      "Epoch 250/300\n",
      "\u001b[1m22/22\u001b[0m \u001b[32m━━━━━━━━━━━━━━━━━━━━\u001b[0m\u001b[37m\u001b[0m \u001b[1m0s\u001b[0m 5ms/step - loss: 0.0015 - mean_squared_error: 0.0015 - r2_score: 0.9750 - val_loss: 0.0078 - val_mean_squared_error: 0.0121 - val_r2_score: 0.8332\n",
      "Epoch 251/300\n",
      "\u001b[1m22/22\u001b[0m \u001b[32m━━━━━━━━━━━━━━━━━━━━\u001b[0m\u001b[37m\u001b[0m \u001b[1m0s\u001b[0m 5ms/step - loss: 0.0016 - mean_squared_error: 0.0016 - r2_score: 0.9722 - val_loss: 0.0074 - val_mean_squared_error: 0.0117 - val_r2_score: 0.8401\n",
      "Epoch 252/300\n",
      "\u001b[1m22/22\u001b[0m \u001b[32m━━━━━━━━━━━━━━━━━━━━\u001b[0m\u001b[37m\u001b[0m \u001b[1m0s\u001b[0m 5ms/step - loss: 0.0017 - mean_squared_error: 0.0017 - r2_score: 0.9744 - val_loss: 0.0077 - val_mean_squared_error: 0.0121 - val_r2_score: 0.8343\n",
      "Epoch 253/300\n",
      "\u001b[1m22/22\u001b[0m \u001b[32m━━━━━━━━━━━━━━━━━━━━\u001b[0m\u001b[37m\u001b[0m \u001b[1m0s\u001b[0m 5ms/step - loss: 0.0016 - mean_squared_error: 0.0016 - r2_score: 0.9744 - val_loss: 0.0076 - val_mean_squared_error: 0.0119 - val_r2_score: 0.8367\n",
      "Epoch 254/300\n",
      "\u001b[1m22/22\u001b[0m \u001b[32m━━━━━━━━━━━━━━━━━━━━\u001b[0m\u001b[37m\u001b[0m \u001b[1m0s\u001b[0m 6ms/step - loss: 0.0017 - mean_squared_error: 0.0017 - r2_score: 0.9745 - val_loss: 0.0079 - val_mean_squared_error: 0.0123 - val_r2_score: 0.8313\n",
      "Epoch 255/300\n",
      "\u001b[1m22/22\u001b[0m \u001b[32m━━━━━━━━━━━━━━━━━━━━\u001b[0m\u001b[37m\u001b[0m \u001b[1m0s\u001b[0m 5ms/step - loss: 0.0015 - mean_squared_error: 0.0015 - r2_score: 0.9759 - val_loss: 0.0077 - val_mean_squared_error: 0.0121 - val_r2_score: 0.8339\n",
      "Epoch 256/300\n",
      "\u001b[1m22/22\u001b[0m \u001b[32m━━━━━━━━━━━━━━━━━━━━\u001b[0m\u001b[37m\u001b[0m \u001b[1m0s\u001b[0m 7ms/step - loss: 0.0015 - mean_squared_error: 0.0015 - r2_score: 0.9750 - val_loss: 0.0077 - val_mean_squared_error: 0.0120 - val_r2_score: 0.8354\n",
      "Epoch 257/300\n",
      "\u001b[1m22/22\u001b[0m \u001b[32m━━━━━━━━━━━━━━━━━━━━\u001b[0m\u001b[37m\u001b[0m \u001b[1m0s\u001b[0m 5ms/step - loss: 0.0016 - mean_squared_error: 0.0016 - r2_score: 0.9762 - val_loss: 0.0075 - val_mean_squared_error: 0.0119 - val_r2_score: 0.8379\n",
      "Epoch 258/300\n",
      "\u001b[1m22/22\u001b[0m \u001b[32m━━━━━━━━━━━━━━━━━━━━\u001b[0m\u001b[37m\u001b[0m \u001b[1m0s\u001b[0m 5ms/step - loss: 0.0014 - mean_squared_error: 0.0014 - r2_score: 0.9773 - val_loss: 0.0078 - val_mean_squared_error: 0.0122 - val_r2_score: 0.8323\n",
      "Epoch 259/300\n",
      "\u001b[1m22/22\u001b[0m \u001b[32m━━━━━━━━━━━━━━━━━━━━\u001b[0m\u001b[37m\u001b[0m \u001b[1m0s\u001b[0m 5ms/step - loss: 0.0016 - mean_squared_error: 0.0016 - r2_score: 0.9741 - val_loss: 0.0076 - val_mean_squared_error: 0.0120 - val_r2_score: 0.8365\n",
      "Epoch 260/300\n",
      "\u001b[1m22/22\u001b[0m \u001b[32m━━━━━━━━━━━━━━━━━━━━\u001b[0m\u001b[37m\u001b[0m \u001b[1m0s\u001b[0m 5ms/step - loss: 0.0016 - mean_squared_error: 0.0016 - r2_score: 0.9719 - val_loss: 0.0080 - val_mean_squared_error: 0.0126 - val_r2_score: 0.8271\n",
      "Epoch 261/300\n",
      "\u001b[1m22/22\u001b[0m \u001b[32m━━━━━━━━━━━━━━━━━━━━\u001b[0m\u001b[37m\u001b[0m \u001b[1m0s\u001b[0m 6ms/step - loss: 0.0015 - mean_squared_error: 0.0015 - r2_score: 0.9747 - val_loss: 0.0076 - val_mean_squared_error: 0.0119 - val_r2_score: 0.8377\n",
      "Epoch 262/300\n",
      "\u001b[1m22/22\u001b[0m \u001b[32m━━━━━━━━━━━━━━━━━━━━\u001b[0m\u001b[37m\u001b[0m \u001b[1m0s\u001b[0m 5ms/step - loss: 0.0018 - mean_squared_error: 0.0018 - r2_score: 0.9691 - val_loss: 0.0077 - val_mean_squared_error: 0.0121 - val_r2_score: 0.8347\n",
      "Epoch 263/300\n",
      "\u001b[1m22/22\u001b[0m \u001b[32m━━━━━━━━━━━━━━━━━━━━\u001b[0m\u001b[37m\u001b[0m \u001b[1m0s\u001b[0m 5ms/step - loss: 0.0015 - mean_squared_error: 0.0015 - r2_score: 0.9770 - val_loss: 0.0077 - val_mean_squared_error: 0.0122 - val_r2_score: 0.8344\n",
      "Epoch 264/300\n",
      "\u001b[1m22/22\u001b[0m \u001b[32m━━━━━━━━━━━━━━━━━━━━\u001b[0m\u001b[37m\u001b[0m \u001b[1m0s\u001b[0m 5ms/step - loss: 0.0016 - mean_squared_error: 0.0016 - r2_score: 0.9739 - val_loss: 0.0076 - val_mean_squared_error: 0.0119 - val_r2_score: 0.8372\n",
      "Epoch 265/300\n",
      "\u001b[1m22/22\u001b[0m \u001b[32m━━━━━━━━━━━━━━━━━━━━\u001b[0m\u001b[37m\u001b[0m \u001b[1m0s\u001b[0m 5ms/step - loss: 0.0016 - mean_squared_error: 0.0016 - r2_score: 0.9754 - val_loss: 0.0076 - val_mean_squared_error: 0.0119 - val_r2_score: 0.8376\n",
      "Epoch 266/300\n",
      "\u001b[1m22/22\u001b[0m \u001b[32m━━━━━━━━━━━━━━━━━━━━\u001b[0m\u001b[37m\u001b[0m \u001b[1m0s\u001b[0m 5ms/step - loss: 0.0016 - mean_squared_error: 0.0016 - r2_score: 0.9761 - val_loss: 0.0079 - val_mean_squared_error: 0.0125 - val_r2_score: 0.8296\n",
      "Epoch 267/300\n",
      "\u001b[1m22/22\u001b[0m \u001b[32m━━━━━━━━━━━━━━━━━━━━\u001b[0m\u001b[37m\u001b[0m \u001b[1m0s\u001b[0m 5ms/step - loss: 0.0016 - mean_squared_error: 0.0016 - r2_score: 0.9744 - val_loss: 0.0076 - val_mean_squared_error: 0.0121 - val_r2_score: 0.8358\n",
      "Epoch 268/300\n",
      "\u001b[1m22/22\u001b[0m \u001b[32m━━━━━━━━━━━━━━━━━━━━\u001b[0m\u001b[37m\u001b[0m \u001b[1m0s\u001b[0m 5ms/step - loss: 0.0016 - mean_squared_error: 0.0016 - r2_score: 0.9741 - val_loss: 0.0079 - val_mean_squared_error: 0.0125 - val_r2_score: 0.8293\n",
      "Epoch 269/300\n",
      "\u001b[1m22/22\u001b[0m \u001b[32m━━━━━━━━━━━━━━━━━━━━\u001b[0m\u001b[37m\u001b[0m \u001b[1m0s\u001b[0m 5ms/step - loss: 0.0015 - mean_squared_error: 0.0015 - r2_score: 0.9763 - val_loss: 0.0075 - val_mean_squared_error: 0.0118 - val_r2_score: 0.8387\n",
      "Epoch 270/300\n",
      "\u001b[1m22/22\u001b[0m \u001b[32m━━━━━━━━━━━━━━━━━━━━\u001b[0m\u001b[37m\u001b[0m \u001b[1m0s\u001b[0m 7ms/step - loss: 0.0016 - mean_squared_error: 0.0016 - r2_score: 0.9722 - val_loss: 0.0077 - val_mean_squared_error: 0.0122 - val_r2_score: 0.8352\n",
      "Epoch 271/300\n",
      "\u001b[1m22/22\u001b[0m \u001b[32m━━━━━━━━━━━━━━━━━━━━\u001b[0m\u001b[37m\u001b[0m \u001b[1m0s\u001b[0m 5ms/step - loss: 0.0017 - mean_squared_error: 0.0017 - r2_score: 0.9745 - val_loss: 0.0076 - val_mean_squared_error: 0.0121 - val_r2_score: 0.8360\n",
      "Epoch 272/300\n",
      "\u001b[1m22/22\u001b[0m \u001b[32m━━━━━━━━━━━━━━━━━━━━\u001b[0m\u001b[37m\u001b[0m \u001b[1m0s\u001b[0m 5ms/step - loss: 0.0017 - mean_squared_error: 0.0017 - r2_score: 0.9742 - val_loss: 0.0078 - val_mean_squared_error: 0.0123 - val_r2_score: 0.8325\n",
      "Epoch 273/300\n",
      "\u001b[1m22/22\u001b[0m \u001b[32m━━━━━━━━━━━━━━━━━━━━\u001b[0m\u001b[37m\u001b[0m \u001b[1m0s\u001b[0m 5ms/step - loss: 0.0015 - mean_squared_error: 0.0015 - r2_score: 0.9762 - val_loss: 0.0077 - val_mean_squared_error: 0.0123 - val_r2_score: 0.8334\n",
      "Epoch 274/300\n",
      "\u001b[1m22/22\u001b[0m \u001b[32m━━━━━━━━━━━━━━━━━━━━\u001b[0m\u001b[37m\u001b[0m \u001b[1m0s\u001b[0m 5ms/step - loss: 0.0017 - mean_squared_error: 0.0017 - r2_score: 0.9718 - val_loss: 0.0073 - val_mean_squared_error: 0.0116 - val_r2_score: 0.8426\n",
      "Epoch 275/300\n",
      "\u001b[1m22/22\u001b[0m \u001b[32m━━━━━━━━━━━━━━━━━━━━\u001b[0m\u001b[37m\u001b[0m \u001b[1m0s\u001b[0m 6ms/step - loss: 0.0016 - mean_squared_error: 0.0016 - r2_score: 0.9713 - val_loss: 0.0080 - val_mean_squared_error: 0.0127 - val_r2_score: 0.8277\n",
      "Epoch 276/300\n",
      "\u001b[1m22/22\u001b[0m \u001b[32m━━━━━━━━━━━━━━━━━━━━\u001b[0m\u001b[37m\u001b[0m \u001b[1m0s\u001b[0m 5ms/step - loss: 0.0017 - mean_squared_error: 0.0017 - r2_score: 0.9724 - val_loss: 0.0078 - val_mean_squared_error: 0.0124 - val_r2_score: 0.8321\n",
      "Epoch 277/300\n",
      "\u001b[1m22/22\u001b[0m \u001b[32m━━━━━━━━━━━━━━━━━━━━\u001b[0m\u001b[37m\u001b[0m \u001b[1m0s\u001b[0m 5ms/step - loss: 0.0014 - mean_squared_error: 0.0014 - r2_score: 0.9768 - val_loss: 0.0078 - val_mean_squared_error: 0.0124 - val_r2_score: 0.8321\n",
      "Epoch 278/300\n",
      "\u001b[1m22/22\u001b[0m \u001b[32m━━━━━━━━━━━━━━━━━━━━\u001b[0m\u001b[37m\u001b[0m \u001b[1m0s\u001b[0m 5ms/step - loss: 0.0016 - mean_squared_error: 0.0016 - r2_score: 0.9731 - val_loss: 0.0079 - val_mean_squared_error: 0.0126 - val_r2_score: 0.8301\n",
      "Epoch 279/300\n",
      "\u001b[1m22/22\u001b[0m \u001b[32m━━━━━━━━━━━━━━━━━━━━\u001b[0m\u001b[37m\u001b[0m \u001b[1m0s\u001b[0m 5ms/step - loss: 0.0016 - mean_squared_error: 0.0016 - r2_score: 0.9736 - val_loss: 0.0076 - val_mean_squared_error: 0.0121 - val_r2_score: 0.8360\n",
      "Epoch 280/300\n",
      "\u001b[1m22/22\u001b[0m \u001b[32m━━━━━━━━━━━━━━━━━━━━\u001b[0m\u001b[37m\u001b[0m \u001b[1m0s\u001b[0m 5ms/step - loss: 0.0016 - mean_squared_error: 0.0016 - r2_score: 0.9757 - val_loss: 0.0078 - val_mean_squared_error: 0.0124 - val_r2_score: 0.8331\n",
      "Epoch 281/300\n",
      "\u001b[1m22/22\u001b[0m \u001b[32m━━━━━━━━━━━━━━━━━━━━\u001b[0m\u001b[37m\u001b[0m \u001b[1m0s\u001b[0m 5ms/step - loss: 0.0016 - mean_squared_error: 0.0016 - r2_score: 0.9744 - val_loss: 0.0077 - val_mean_squared_error: 0.0122 - val_r2_score: 0.8347\n",
      "Epoch 282/300\n",
      "\u001b[1m22/22\u001b[0m \u001b[32m━━━━━━━━━━━━━━━━━━━━\u001b[0m\u001b[37m\u001b[0m \u001b[1m0s\u001b[0m 6ms/step - loss: 0.0014 - mean_squared_error: 0.0014 - r2_score: 0.9777 - val_loss: 0.0078 - val_mean_squared_error: 0.0123 - val_r2_score: 0.8333\n",
      "Epoch 283/300\n",
      "\u001b[1m22/22\u001b[0m \u001b[32m━━━━━━━━━━━━━━━━━━━━\u001b[0m\u001b[37m\u001b[0m \u001b[1m0s\u001b[0m 5ms/step - loss: 0.0015 - mean_squared_error: 0.0015 - r2_score: 0.9763 - val_loss: 0.0081 - val_mean_squared_error: 0.0129 - val_r2_score: 0.8262\n",
      "Epoch 284/300\n",
      "\u001b[1m22/22\u001b[0m \u001b[32m━━━━━━━━━━━━━━━━━━━━\u001b[0m\u001b[37m\u001b[0m \u001b[1m0s\u001b[0m 5ms/step - loss: 0.0016 - mean_squared_error: 0.0016 - r2_score: 0.9750 - val_loss: 0.0079 - val_mean_squared_error: 0.0126 - val_r2_score: 0.8304\n",
      "Epoch 285/300\n",
      "\u001b[1m22/22\u001b[0m \u001b[32m━━━━━━━━━━━━━━━━━━━━\u001b[0m\u001b[37m\u001b[0m \u001b[1m0s\u001b[0m 5ms/step - loss: 0.0015 - mean_squared_error: 0.0015 - r2_score: 0.9747 - val_loss: 0.0080 - val_mean_squared_error: 0.0127 - val_r2_score: 0.8287\n",
      "Epoch 286/300\n",
      "\u001b[1m22/22\u001b[0m \u001b[32m━━━━━━━━━━━━━━━━━━━━\u001b[0m\u001b[37m\u001b[0m \u001b[1m0s\u001b[0m 5ms/step - loss: 0.0015 - mean_squared_error: 0.0015 - r2_score: 0.9776 - val_loss: 0.0076 - val_mean_squared_error: 0.0121 - val_r2_score: 0.8376\n",
      "Epoch 287/300\n",
      "\u001b[1m22/22\u001b[0m \u001b[32m━━━━━━━━━━━━━━━━━━━━\u001b[0m\u001b[37m\u001b[0m \u001b[1m0s\u001b[0m 5ms/step - loss: 0.0016 - mean_squared_error: 0.0016 - r2_score: 0.9752 - val_loss: 0.0079 - val_mean_squared_error: 0.0127 - val_r2_score: 0.8294\n",
      "Epoch 288/300\n",
      "\u001b[1m22/22\u001b[0m \u001b[32m━━━━━━━━━━━━━━━━━━━━\u001b[0m\u001b[37m\u001b[0m \u001b[1m0s\u001b[0m 5ms/step - loss: 0.0016 - mean_squared_error: 0.0016 - r2_score: 0.9742 - val_loss: 0.0076 - val_mean_squared_error: 0.0121 - val_r2_score: 0.8365\n",
      "Epoch 289/300\n",
      "\u001b[1m22/22\u001b[0m \u001b[32m━━━━━━━━━━━━━━━━━━━━\u001b[0m\u001b[37m\u001b[0m \u001b[1m0s\u001b[0m 6ms/step - loss: 0.0014 - mean_squared_error: 0.0014 - r2_score: 0.9757 - val_loss: 0.0077 - val_mean_squared_error: 0.0123 - val_r2_score: 0.8340\n",
      "Epoch 290/300\n",
      "\u001b[1m22/22\u001b[0m \u001b[32m━━━━━━━━━━━━━━━━━━━━\u001b[0m\u001b[37m\u001b[0m \u001b[1m0s\u001b[0m 5ms/step - loss: 0.0017 - mean_squared_error: 0.0017 - r2_score: 0.9749 - val_loss: 0.0077 - val_mean_squared_error: 0.0124 - val_r2_score: 0.8336\n",
      "Epoch 291/300\n",
      "\u001b[1m22/22\u001b[0m \u001b[32m━━━━━━━━━━━━━━━━━━━━\u001b[0m\u001b[37m\u001b[0m \u001b[1m0s\u001b[0m 5ms/step - loss: 0.0015 - mean_squared_error: 0.0015 - r2_score: 0.9778 - val_loss: 0.0075 - val_mean_squared_error: 0.0119 - val_r2_score: 0.8396\n",
      "Epoch 292/300\n",
      "\u001b[1m22/22\u001b[0m \u001b[32m━━━━━━━━━━━━━━━━━━━━\u001b[0m\u001b[37m\u001b[0m \u001b[1m0s\u001b[0m 5ms/step - loss: 0.0015 - mean_squared_error: 0.0015 - r2_score: 0.9766 - val_loss: 0.0078 - val_mean_squared_error: 0.0125 - val_r2_score: 0.8327\n",
      "Epoch 293/300\n",
      "\u001b[1m22/22\u001b[0m \u001b[32m━━━━━━━━━━━━━━━━━━━━\u001b[0m\u001b[37m\u001b[0m \u001b[1m0s\u001b[0m 5ms/step - loss: 0.0016 - mean_squared_error: 0.0016 - r2_score: 0.9752 - val_loss: 0.0078 - val_mean_squared_error: 0.0124 - val_r2_score: 0.8327\n",
      "Epoch 294/300\n",
      "\u001b[1m22/22\u001b[0m \u001b[32m━━━━━━━━━━━━━━━━━━━━\u001b[0m\u001b[37m\u001b[0m \u001b[1m0s\u001b[0m 5ms/step - loss: 0.0015 - mean_squared_error: 0.0015 - r2_score: 0.9745 - val_loss: 0.0079 - val_mean_squared_error: 0.0127 - val_r2_score: 0.8295\n",
      "Epoch 295/300\n",
      "\u001b[1m22/22\u001b[0m \u001b[32m━━━━━━━━━━━━━━━━━━━━\u001b[0m\u001b[37m\u001b[0m \u001b[1m0s\u001b[0m 6ms/step - loss: 0.0014 - mean_squared_error: 0.0014 - r2_score: 0.9742 - val_loss: 0.0078 - val_mean_squared_error: 0.0125 - val_r2_score: 0.8325\n",
      "Epoch 296/300\n",
      "\u001b[1m22/22\u001b[0m \u001b[32m━━━━━━━━━━━━━━━━━━━━\u001b[0m\u001b[37m\u001b[0m \u001b[1m0s\u001b[0m 7ms/step - loss: 0.0017 - mean_squared_error: 0.0017 - r2_score: 0.9745 - val_loss: 0.0077 - val_mean_squared_error: 0.0124 - val_r2_score: 0.8335\n",
      "Epoch 297/300\n",
      "\u001b[1m22/22\u001b[0m \u001b[32m━━━━━━━━━━━━━━━━━━━━\u001b[0m\u001b[37m\u001b[0m \u001b[1m0s\u001b[0m 5ms/step - loss: 0.0016 - mean_squared_error: 0.0016 - r2_score: 0.9758 - val_loss: 0.0079 - val_mean_squared_error: 0.0126 - val_r2_score: 0.8305\n",
      "Epoch 298/300\n",
      "\u001b[1m22/22\u001b[0m \u001b[32m━━━━━━━━━━━━━━━━━━━━\u001b[0m\u001b[37m\u001b[0m \u001b[1m0s\u001b[0m 5ms/step - loss: 0.0017 - mean_squared_error: 0.0017 - r2_score: 0.9739 - val_loss: 0.0075 - val_mean_squared_error: 0.0121 - val_r2_score: 0.8380\n",
      "Epoch 299/300\n",
      "\u001b[1m22/22\u001b[0m \u001b[32m━━━━━━━━━━━━━━━━━━━━\u001b[0m\u001b[37m\u001b[0m \u001b[1m0s\u001b[0m 5ms/step - loss: 0.0016 - mean_squared_error: 0.0016 - r2_score: 0.9761 - val_loss: 0.0082 - val_mean_squared_error: 0.0131 - val_r2_score: 0.8242\n",
      "Epoch 300/300\n",
      "\u001b[1m22/22\u001b[0m \u001b[32m━━━━━━━━━━━━━━━━━━━━\u001b[0m\u001b[37m\u001b[0m \u001b[1m0s\u001b[0m 5ms/step - loss: 0.0015 - mean_squared_error: 0.0015 - r2_score: 0.9753 - val_loss: 0.0084 - val_mean_squared_error: 0.0134 - val_r2_score: 0.8204\n"
     ]
    },
    {
     "data": {
      "text/plain": [
       "<keras.src.callbacks.history.History at 0x32a2ccbe0>"
      ]
     },
     "execution_count": 76,
     "metadata": {},
     "output_type": "execute_result"
    }
   ],
   "source": [
    "# Train model with train dataset\n",
    "model.fit(X_train, y_train, validation_data=(X_val, y_val), epochs=300, callbacks=[cp2])"
   ]
  },
  {
   "cell_type": "code",
   "execution_count": 18,
   "metadata": {
    "ExecuteTime": {
     "end_time": "2025-01-02T14:21:52.452046Z",
     "start_time": "2025-01-02T14:21:52.420609Z"
    }
   },
   "outputs": [
    {
     "data": {
      "text/plain": [
       "(702, 30, 10)"
      ]
     },
     "execution_count": 18,
     "metadata": {},
     "output_type": "execute_result"
    }
   ],
   "source": [
    "X_train.shape"
   ]
  },
  {
   "cell_type": "code",
   "execution_count": 19,
   "metadata": {
    "ExecuteTime": {
     "end_time": "2025-01-02T14:21:52.452119Z",
     "start_time": "2025-01-02T14:21:52.423353Z"
    }
   },
   "outputs": [],
   "source": [
    "# train_predictions = model.predict(X_train).flatten()\n",
    "# y_train_flattened = y_train.flatten()\n",
    "# train_results = pd.DataFrame(data={'Train Predictions':train_predictions, 'Actuals':y_train_flattened})\n",
    "# train_results"
   ]
  },
  {
   "cell_type": "code",
   "execution_count": 20,
   "metadata": {
    "ExecuteTime": {
     "end_time": "2025-01-02T14:21:52.452171Z",
     "start_time": "2025-01-02T14:21:52.425447Z"
    }
   },
   "outputs": [],
   "source": [
    "# from tensorflow.keras.models import load_model\n",
    "\n",
    "# model = load_model('model2/best_model.keras')\n"
   ]
  },
  {
   "cell_type": "markdown",
   "metadata": {},
   "source": [
    "#### Train with validation set\n"
   ]
  },
  {
   "cell_type": "code",
   "execution_count": 77,
   "metadata": {
    "ExecuteTime": {
     "end_time": "2025-01-02T14:22:07.803731Z",
     "start_time": "2025-01-02T14:21:52.428212Z"
    }
   },
   "outputs": [
    {
     "name": "stdout",
     "output_type": "stream",
     "text": [
      "Epoch 1/10\n",
      "\u001b[1m10/10\u001b[0m \u001b[32m━━━━━━━━━━━━━━━━━━━━\u001b[0m\u001b[37m\u001b[0m \u001b[1m0s\u001b[0m 12ms/step - loss: 0.0068 - mean_squared_error: 0.0069 - r2_score: 0.8508 - val_loss: 0.0024 - val_mean_squared_error: 0.0024 - val_r2_score: 0.9622\n",
      "Epoch 2/10\n",
      "\u001b[1m10/10\u001b[0m \u001b[32m━━━━━━━━━━━━━━━━━━━━\u001b[0m\u001b[37m\u001b[0m \u001b[1m0s\u001b[0m 9ms/step - loss: 0.0039 - mean_squared_error: 0.0039 - r2_score: 0.9054 - val_loss: 0.0036 - val_mean_squared_error: 0.0036 - val_r2_score: 0.9428\n",
      "Epoch 3/10\n",
      "\u001b[1m10/10\u001b[0m \u001b[32m━━━━━━━━━━━━━━━━━━━━\u001b[0m\u001b[37m\u001b[0m \u001b[1m0s\u001b[0m 8ms/step - loss: 0.0020 - mean_squared_error: 0.0020 - r2_score: 0.9579 - val_loss: 0.0038 - val_mean_squared_error: 0.0038 - val_r2_score: 0.9399\n",
      "Epoch 4/10\n",
      "\u001b[1m10/10\u001b[0m \u001b[32m━━━━━━━━━━━━━━━━━━━━\u001b[0m\u001b[37m\u001b[0m \u001b[1m0s\u001b[0m 8ms/step - loss: 0.0023 - mean_squared_error: 0.0022 - r2_score: 0.9508 - val_loss: 0.0039 - val_mean_squared_error: 0.0039 - val_r2_score: 0.9379\n",
      "Epoch 5/10\n",
      "\u001b[1m10/10\u001b[0m \u001b[32m━━━━━━━━━━━━━━━━━━━━\u001b[0m\u001b[37m\u001b[0m \u001b[1m0s\u001b[0m 9ms/step - loss: 0.0018 - mean_squared_error: 0.0018 - r2_score: 0.9628 - val_loss: 0.0040 - val_mean_squared_error: 0.0040 - val_r2_score: 0.9371\n",
      "Epoch 6/10\n",
      "\u001b[1m10/10\u001b[0m \u001b[32m━━━━━━━━━━━━━━━━━━━━\u001b[0m\u001b[37m\u001b[0m \u001b[1m0s\u001b[0m 9ms/step - loss: 0.0015 - mean_squared_error: 0.0016 - r2_score: 0.9673 - val_loss: 0.0039 - val_mean_squared_error: 0.0039 - val_r2_score: 0.9377\n",
      "Epoch 7/10\n",
      "\u001b[1m10/10\u001b[0m \u001b[32m━━━━━━━━━━━━━━━━━━━━\u001b[0m\u001b[37m\u001b[0m \u001b[1m0s\u001b[0m 9ms/step - loss: 0.0014 - mean_squared_error: 0.0014 - r2_score: 0.9697 - val_loss: 0.0040 - val_mean_squared_error: 0.0039 - val_r2_score: 0.9375\n",
      "Epoch 8/10\n",
      "\u001b[1m10/10\u001b[0m \u001b[32m━━━━━━━━━━━━━━━━━━━━\u001b[0m\u001b[37m\u001b[0m \u001b[1m0s\u001b[0m 9ms/step - loss: 0.0016 - mean_squared_error: 0.0016 - r2_score: 0.9629 - val_loss: 0.0040 - val_mean_squared_error: 0.0039 - val_r2_score: 0.9375\n",
      "Epoch 9/10\n",
      "\u001b[1m10/10\u001b[0m \u001b[32m━━━━━━━━━━━━━━━━━━━━\u001b[0m\u001b[37m\u001b[0m \u001b[1m0s\u001b[0m 9ms/step - loss: 0.0016 - mean_squared_error: 0.0016 - r2_score: 0.9649 - val_loss: 0.0040 - val_mean_squared_error: 0.0040 - val_r2_score: 0.9363\n",
      "Epoch 10/10\n",
      "\u001b[1m10/10\u001b[0m \u001b[32m━━━━━━━━━━━━━━━━━━━━\u001b[0m\u001b[37m\u001b[0m \u001b[1m0s\u001b[0m 9ms/step - loss: 0.0013 - mean_squared_error: 0.0013 - r2_score: 0.9722 - val_loss: 0.0041 - val_mean_squared_error: 0.0041 - val_r2_score: 0.9356\n"
     ]
    },
    {
     "data": {
      "text/plain": [
       "<keras.src.callbacks.history.History at 0x32bdad7b0>"
      ]
     },
     "execution_count": 77,
     "metadata": {},
     "output_type": "execute_result"
    }
   ],
   "source": [
    "model.fit(X_val, y_val, validation_data=(X_train, y_train), epochs=10, callbacks=[cp2])"
   ]
  },
  {
   "cell_type": "markdown",
   "metadata": {},
   "source": [
    "### Evaluate Model"
   ]
  },
  {
   "cell_type": "code",
   "execution_count": 78,
   "metadata": {
    "ExecuteTime": {
     "end_time": "2025-01-02T14:22:07.808102Z",
     "start_time": "2025-01-02T14:22:07.804493Z"
    }
   },
   "outputs": [],
   "source": [
    "def evaluation_metrics(y_predictions, y_actuals):\n",
    "    y_predictions_flattened = y_predictions.flatten()\n",
    "    y_actuals_flattened = y_actuals.flatten()\n",
    "\n",
    "    mse = mean_squared_error(y_actuals_flattened, y_predictions_flattened)\n",
    "    rmse = np.sqrt(mse)\n",
    "    r_squared = r2_score(y_actuals_flattened, y_predictions_flattened)\n",
    "\n",
    "    res_dict = { \n",
    "            \"mse\": str(mse),\n",
    "            \"r_squared\": str(r_squared),\n",
    "        }\n",
    "    \n",
    "    return res_dict"
   ]
  },
  {
   "cell_type": "code",
   "execution_count": 79,
   "metadata": {
    "ExecuteTime": {
     "end_time": "2025-01-02T14:22:07.991880Z",
     "start_time": "2025-01-02T14:22:07.808417Z"
    }
   },
   "outputs": [
    {
     "name": "stdout",
     "output_type": "stream",
     "text": [
      "\u001b[1m10/10\u001b[0m \u001b[32m━━━━━━━━━━━━━━━━━━━━\u001b[0m\u001b[37m\u001b[0m \u001b[1m0s\u001b[0m 8ms/step\n",
      "\u001b[1m8/8\u001b[0m \u001b[32m━━━━━━━━━━━━━━━━━━━━\u001b[0m\u001b[37m\u001b[0m \u001b[1m0s\u001b[0m 2ms/step\n",
      "**********************\n",
      "Val Mean Squared Error (MSE): 0.0014631831018081121\n",
      "R-squared on validation set: 0.9684435332393603\n",
      "**********************\n",
      "Test Mean Squared Error (MSE): 0.006129461304592241\n",
      "R-squared on test set: 0.6369056337332566\n",
      "**********************\n",
      "Val Mean Squared Error (MSE) unormalized: 90.74796085288314\n",
      "R-squared on validation set unormalized: 0.9684435344880169\n",
      "**********************\n",
      "Test MSE unormalized: 380.154854703858\n",
      "R-squared on test set unormalized: 0.6369056187554978\n"
     ]
    }
   ],
   "source": [
    "val_predictions = model.predict(X_val)\n",
    "test_predictions = model.predict(X_test)\n",
    "\n",
    "# Metrics calculated on normalized data\n",
    "res_dict_val = evaluation_metrics(val_predictions, y_val)\n",
    "\n",
    "print(\"**********************\")\n",
    "print(f\"Val Mean Squared Error (MSE): {res_dict_val['mse']}\")\n",
    "print(F\"R-squared on validation set: {res_dict_val['r_squared']}\")\n",
    "\n",
    "res_dict_test = evaluation_metrics(test_predictions, y_test)\n",
    "\n",
    "print(\"**********************\")\n",
    "print(f\"Test Mean Squared Error (MSE): {res_dict_test['mse']}\")\n",
    "print(F\"R-squared on test set: {res_dict_test['r_squared']}\")\n",
    "\n",
    "\n",
    "# Metrics calculated on unnormalized data\n",
    "\n",
    "y_val_unscaled = scaler_labels.inverse_transform(y_val)\n",
    "val_predictions_unscaled =  scaler_labels.inverse_transform(val_predictions)\n",
    "res_dict_val_unscaled = evaluation_metrics(val_predictions_unscaled, y_val_unscaled)\n",
    "print(\"**********************\")\n",
    "print(f\"Val Mean Squared Error (MSE) unormalized: {res_dict_val_unscaled['mse']}\")\n",
    "print(F\"R-squared on validation set unormalized: {res_dict_val_unscaled['r_squared']}\")\n",
    "\n",
    "y_test_unscaled = scaler_labels.inverse_transform(y_test)\n",
    "test_predictions_unscaled =  scaler_labels.inverse_transform(test_predictions)\n",
    "res_dict_test_unscaled = evaluation_metrics(test_predictions_unscaled, y_test_unscaled)\n",
    "print(\"**********************\")\n",
    "print(f\"Test MSE unormalized: {res_dict_test_unscaled['mse']}\")\n",
    "print(F\"R-squared on test set unormalized: {res_dict_test_unscaled['r_squared']}\")\n",
    "\n",
    "\n"
   ]
  },
  {
   "cell_type": "code",
   "execution_count": 80,
   "metadata": {
    "ExecuteTime": {
     "end_time": "2025-01-02T14:22:07.992853Z",
     "start_time": "2025-01-02T14:22:07.991324Z"
    }
   },
   "outputs": [],
   "source": [
    "def plot_predictions(y_predicted_sample, y_actual_sample, num_predictions):\n",
    "  df = pd.DataFrame(data={'Predictions': y_predicted_sample, 'Actuals':y_actual_sample})\n",
    "  plt.plot(df['Predictions'][0:num_predictions], label='Predictions')\n",
    "  plt.plot(df['Actuals'][0:num_predictions], label='Actuals')\n",
    "  plt.legend()\n",
    "\n",
    "  plt.show()\n",
    "\n",
    "  return \n",
    "\n",
    "def predictions_table(y_predicted, y_actual, num_predictions):\n",
    "  combined_array = np.column_stack((y_predicted, y_actual))\n",
    "  \n",
    "  results_price = pd.DataFrame(combined_array[:num_predictions], columns=['y_predicted_price','y_actual_price'])\n",
    "  display(results_price)\n",
    "\n"
   ]
  },
  {
   "cell_type": "markdown",
   "metadata": {},
   "source": [
    "### Plot some predictions vs actuals"
   ]
  },
  {
   "cell_type": "code",
   "execution_count": 81,
   "metadata": {
    "ExecuteTime": {
     "end_time": "2025-01-02T14:22:08.144430Z",
     "start_time": "2025-01-02T14:22:07.993687Z"
    }
   },
   "outputs": [
    {
     "data": {
      "image/png": "[encoded data removed]",
      "text/plain": [
       "<Figure size 640x480 with 1 Axes>"
      ]
     },
     "metadata": {},
     "output_type": "display_data"
    },
    {
     "data": {
      "text/html": [
       "<div>\n",
       "<style scoped>\n",
       "    .dataframe tbody tr th:only-of-type {\n",
       "        vertical-align: middle;\n",
       "    }\n",
       "\n",
       "    .dataframe tbody tr th {\n",
       "        vertical-align: top;\n",
       "    }\n",
       "\n",
       "    .dataframe thead th {\n",
       "        text-align: right;\n",
       "    }\n",
       "</style>\n",
       "<table border=\"1\" class=\"dataframe\">\n",
       "  <thead>\n",
       "    <tr style=\"text-align: right;\">\n",
       "      <th></th>\n",
       "      <th>y_predicted_price</th>\n",
       "      <th>y_actual_price</th>\n",
       "    </tr>\n",
       "  </thead>\n",
       "  <tbody>\n",
       "    <tr>\n",
       "      <th>0</th>\n",
       "      <td>151.337128</td>\n",
       "      <td>138.65</td>\n",
       "    </tr>\n",
       "    <tr>\n",
       "      <th>1</th>\n",
       "      <td>141.492462</td>\n",
       "      <td>136.31</td>\n",
       "    </tr>\n",
       "    <tr>\n",
       "      <th>2</th>\n",
       "      <td>169.557938</td>\n",
       "      <td>132.02</td>\n",
       "    </tr>\n",
       "    <tr>\n",
       "      <th>3</th>\n",
       "      <td>150.846786</td>\n",
       "      <td>142.06</td>\n",
       "    </tr>\n",
       "    <tr>\n",
       "      <th>4</th>\n",
       "      <td>167.928543</td>\n",
       "      <td>142.48</td>\n",
       "    </tr>\n",
       "    <tr>\n",
       "      <th>5</th>\n",
       "      <td>166.519104</td>\n",
       "      <td>151.20</td>\n",
       "    </tr>\n",
       "    <tr>\n",
       "      <th>6</th>\n",
       "      <td>184.342453</td>\n",
       "      <td>148.72</td>\n",
       "    </tr>\n",
       "    <tr>\n",
       "      <th>7</th>\n",
       "      <td>145.219147</td>\n",
       "      <td>157.03</td>\n",
       "    </tr>\n",
       "    <tr>\n",
       "      <th>8</th>\n",
       "      <td>156.807236</td>\n",
       "      <td>154.67</td>\n",
       "    </tr>\n",
       "    <tr>\n",
       "      <th>9</th>\n",
       "      <td>170.325470</td>\n",
       "      <td>147.71</td>\n",
       "    </tr>\n",
       "  </tbody>\n",
       "</table>\n",
       "</div>"
      ],
      "text/plain": [
       "   y_predicted_price  y_actual_price\n",
       "0         151.337128          138.65\n",
       "1         141.492462          136.31\n",
       "2         169.557938          132.02\n",
       "3         150.846786          142.06\n",
       "4         167.928543          142.48\n",
       "5         166.519104          151.20\n",
       "6         184.342453          148.72\n",
       "7         145.219147          157.03\n",
       "8         156.807236          154.67\n",
       "9         170.325470          147.71"
      ]
     },
     "metadata": {},
     "output_type": "display_data"
    },
    {
     "data": {
      "image/png": "[encoded data removed]",
      "text/plain": [
       "<Figure size 640x480 with 1 Axes>"
      ]
     },
     "metadata": {},
     "output_type": "display_data"
    },
    {
     "data": {
      "text/html": [
       "<div>\n",
       "<style scoped>\n",
       "    .dataframe tbody tr th:only-of-type {\n",
       "        vertical-align: middle;\n",
       "    }\n",
       "\n",
       "    .dataframe tbody tr th {\n",
       "        vertical-align: top;\n",
       "    }\n",
       "\n",
       "    .dataframe thead th {\n",
       "        text-align: right;\n",
       "    }\n",
       "</style>\n",
       "<table border=\"1\" class=\"dataframe\">\n",
       "  <thead>\n",
       "    <tr style=\"text-align: right;\">\n",
       "      <th></th>\n",
       "      <th>y_predicted_price</th>\n",
       "      <th>y_actual_price</th>\n",
       "    </tr>\n",
       "  </thead>\n",
       "  <tbody>\n",
       "    <tr>\n",
       "      <th>0</th>\n",
       "      <td>160.135071</td>\n",
       "      <td>147.71</td>\n",
       "    </tr>\n",
       "    <tr>\n",
       "      <th>1</th>\n",
       "      <td>157.069229</td>\n",
       "      <td>144.85</td>\n",
       "    </tr>\n",
       "    <tr>\n",
       "      <th>2</th>\n",
       "      <td>167.162201</td>\n",
       "      <td>139.06</td>\n",
       "    </tr>\n",
       "    <tr>\n",
       "      <th>3</th>\n",
       "      <td>161.095428</td>\n",
       "      <td>141.22</td>\n",
       "    </tr>\n",
       "    <tr>\n",
       "      <th>4</th>\n",
       "      <td>164.972427</td>\n",
       "      <td>137.91</td>\n",
       "    </tr>\n",
       "    <tr>\n",
       "      <th>5</th>\n",
       "      <td>165.250275</td>\n",
       "      <td>137.66</td>\n",
       "    </tr>\n",
       "    <tr>\n",
       "      <th>6</th>\n",
       "      <td>171.517136</td>\n",
       "      <td>126.68</td>\n",
       "    </tr>\n",
       "    <tr>\n",
       "      <th>7</th>\n",
       "      <td>171.960892</td>\n",
       "      <td>134.51</td>\n",
       "    </tr>\n",
       "    <tr>\n",
       "      <th>8</th>\n",
       "      <td>178.381332</td>\n",
       "      <td>137.64</td>\n",
       "    </tr>\n",
       "    <tr>\n",
       "      <th>9</th>\n",
       "      <td>175.096191</td>\n",
       "      <td>143.72</td>\n",
       "    </tr>\n",
       "  </tbody>\n",
       "</table>\n",
       "</div>"
      ],
      "text/plain": [
       "   y_predicted_price  y_actual_price\n",
       "0         160.135071          147.71\n",
       "1         157.069229          144.85\n",
       "2         167.162201          139.06\n",
       "3         161.095428          141.22\n",
       "4         164.972427          137.91\n",
       "5         165.250275          137.66\n",
       "6         171.517136          126.68\n",
       "7         171.960892          134.51\n",
       "8         178.381332          137.64\n",
       "9         175.096191          143.72"
      ]
     },
     "metadata": {},
     "output_type": "display_data"
    }
   ],
   "source": [
    "test_predictions_unscaled = scaler_labels.inverse_transform(test_predictions)\n",
    "y_test_unscaled = scaler_labels.inverse_transform(y_test)\n",
    "for i in [1, 10]:  \n",
    "    plot_predictions(test_predictions_unscaled[i], y_test_unscaled[i], num_predictions)\n",
    "    predictions_table(test_predictions_unscaled[i], y_test_unscaled[i], num_predictions)"
   ]
  },
  {
   "cell_type": "markdown",
   "metadata": {},
   "source": [
    "### Train model also on test set before deploying"
   ]
  },
  {
   "cell_type": "code",
   "execution_count": 82,
   "metadata": {
    "ExecuteTime": {
     "end_time": "2025-01-02T14:22:46.185664Z",
     "start_time": "2025-01-02T14:22:08.117345Z"
    }
   },
   "outputs": [
    {
     "name": "stdout",
     "output_type": "stream",
     "text": [
      "Epoch 1/10\n",
      "\u001b[1m8/8\u001b[0m \u001b[32m━━━━━━━━━━━━━━━━━━━━\u001b[0m\u001b[37m\u001b[0m \u001b[1m0s\u001b[0m 13ms/step - loss: 0.0065 - mean_squared_error: 0.0065 - r2_score: 0.6507 - val_loss: 0.0043 - val_mean_squared_error: 0.0043 - val_r2_score: 0.9325\n",
      "Epoch 2/10\n",
      "\u001b[1m8/8\u001b[0m \u001b[32m━━━━━━━━━━━━━━━━━━━━\u001b[0m\u001b[37m\u001b[0m \u001b[1m0s\u001b[0m 10ms/step - loss: 0.0058 - mean_squared_error: 0.0058 - r2_score: 0.6070 - val_loss: 0.0045 - val_mean_squared_error: 0.0045 - val_r2_score: 0.9290\n",
      "Epoch 3/10\n",
      "\u001b[1m8/8\u001b[0m \u001b[32m━━━━━━━━━━━━━━━━━━━━\u001b[0m\u001b[37m\u001b[0m \u001b[1m0s\u001b[0m 10ms/step - loss: 0.0051 - mean_squared_error: 0.0052 - r2_score: 0.6786 - val_loss: 0.0041 - val_mean_squared_error: 0.0041 - val_r2_score: 0.9355\n",
      "Epoch 4/10\n",
      "\u001b[1m8/8\u001b[0m \u001b[32m━━━━━━━━━━━━━━━━━━━━\u001b[0m\u001b[37m\u001b[0m \u001b[1m0s\u001b[0m 10ms/step - loss: 0.0054 - mean_squared_error: 0.0054 - r2_score: 0.6620 - val_loss: 0.0043 - val_mean_squared_error: 0.0043 - val_r2_score: 0.9325\n",
      "Epoch 5/10\n",
      "\u001b[1m8/8\u001b[0m \u001b[32m━━━━━━━━━━━━━━━━━━━━\u001b[0m\u001b[37m\u001b[0m \u001b[1m0s\u001b[0m 11ms/step - loss: 0.0052 - mean_squared_error: 0.0052 - r2_score: 0.7010 - val_loss: 0.0045 - val_mean_squared_error: 0.0045 - val_r2_score: 0.9291\n",
      "Epoch 6/10\n",
      "\u001b[1m8/8\u001b[0m \u001b[32m━━━━━━━━━━━━━━━━━━━━\u001b[0m\u001b[37m\u001b[0m \u001b[1m0s\u001b[0m 12ms/step - loss: 0.0046 - mean_squared_error: 0.0045 - r2_score: 0.7062 - val_loss: 0.0043 - val_mean_squared_error: 0.0043 - val_r2_score: 0.9316\n",
      "Epoch 7/10\n",
      "\u001b[1m8/8\u001b[0m \u001b[32m━━━━━━━━━━━━━━━━━━━━\u001b[0m\u001b[37m\u001b[0m \u001b[1m0s\u001b[0m 10ms/step - loss: 0.0048 - mean_squared_error: 0.0047 - r2_score: 0.7441 - val_loss: 0.0043 - val_mean_squared_error: 0.0043 - val_r2_score: 0.9320\n",
      "Epoch 8/10\n",
      "\u001b[1m8/8\u001b[0m \u001b[32m━━━━━━━━━━━━━━━━━━━━\u001b[0m\u001b[37m\u001b[0m \u001b[1m0s\u001b[0m 10ms/step - loss: 0.0048 - mean_squared_error: 0.0048 - r2_score: 0.7079 - val_loss: 0.0048 - val_mean_squared_error: 0.0047 - val_r2_score: 0.9249\n",
      "Epoch 9/10\n",
      "\u001b[1m8/8\u001b[0m \u001b[32m━━━━━━━━━━━━━━━━━━━━\u001b[0m\u001b[37m\u001b[0m \u001b[1m0s\u001b[0m 10ms/step - loss: 0.0046 - mean_squared_error: 0.0046 - r2_score: 0.7074 - val_loss: 0.0045 - val_mean_squared_error: 0.0045 - val_r2_score: 0.9295\n",
      "Epoch 10/10\n",
      "\u001b[1m8/8\u001b[0m \u001b[32m━━━━━━━━━━━━━━━━━━━━\u001b[0m\u001b[37m\u001b[0m \u001b[1m0s\u001b[0m 10ms/step - loss: 0.0043 - mean_squared_error: 0.0043 - r2_score: 0.7005 - val_loss: 0.0045 - val_mean_squared_error: 0.0044 - val_r2_score: 0.9297\n"
     ]
    },
    {
     "data": {
      "text/plain": [
       "<keras.src.callbacks.history.History at 0x353fd1180>"
      ]
     },
     "execution_count": 82,
     "metadata": {},
     "output_type": "execute_result"
    }
   ],
   "source": [
    "model.fit(X_test, y_test, validation_data=(X_train, y_train), epochs=10, callbacks=[cp2])"
   ]
  },
  {
   "cell_type": "markdown",
   "metadata": {},
   "source": [
    "## Save model on registry"
   ]
  },
  {
   "cell_type": "code",
   "execution_count": 84,
   "metadata": {
    "ExecuteTime": {
     "end_time": "2025-01-02T14:22:46.186176Z",
     "start_time": "2025-01-02T14:22:41.950450Z"
    }
   },
   "outputs": [],
   "source": [
    "from hsml.schema import Schema\n",
    "from hsml.model_schema import ModelSchema"
   ]
  },
  {
   "cell_type": "code",
   "execution_count": 85,
   "metadata": {
    "ExecuteTime": {
     "end_time": "2025-01-02T14:22:46.186257Z",
     "start_time": "2025-01-02T14:22:41.953332Z"
    }
   },
   "outputs": [],
   "source": [
    "model_dir = \"solana_price_model_10d/\"\n",
    "scalers_dir = \"solana_price_10d_scalers/\"\n",
    "if not os.path.exists(model_dir):\n",
    "    os.mkdir(model_dir)\n",
    "images_dir = model_dir + \"/images\"\n",
    "if not os.path.exists(images_dir):\n",
    "    os.mkdir(images_dir)\n",
    "if not os.path.exists(scalers_dir):\n",
    "    os.mkdir(scalers_dir)"
   ]
  },
  {
   "cell_type": "code",
   "execution_count": 87,
   "metadata": {
    "ExecuteTime": {
     "end_time": "2025-01-02T14:23:02.111407Z",
     "start_time": "2025-01-02T14:22:41.957910Z"
    }
   },
   "outputs": [
    {
     "name": "stderr",
     "output_type": "stream",
     "text": [
      "Uploading: 100.000%|██████████| 45638/45638 elapsed<00:02 remaining<00:005,  1.06s/it]\n",
      "Uploading: 100.000%|██████████| 96584/96584 elapsed<00:02 remaining<00:0008,  2.17s/it]\n",
      "Uploading: 100.000%|██████████| 219/219 elapsed<00:02 remaining<00:00\n",
      "Model export complete: 100%|██████████| 6/6 [00:15<00:00,  2.56s/it]                   "
     ]
    },
    {
     "name": "stdout",
     "output_type": "stream",
     "text": [
      "Model created, explore it at https://c.app.hopsworks.ai:443/p/1164448/models/solana_price_daily_model_10d/4\n"
     ]
    },
    {
     "name": "stderr",
     "output_type": "stream",
     "text": [
      "\n"
     ]
    }
   ],
   "source": [
    "mr = project.get_model_registry()\n",
    "\n",
    "\n",
    "# Creating input and output schemas using the 'Schema' class for features (X) and target variable (y)\n",
    "input_schema = Schema(X_train)\n",
    "output_schema = Schema(y_train)\n",
    "\n",
    "# Creating a model schema using 'ModelSchema' with the input and output schemas\n",
    "model_schema = ModelSchema(input_schema=input_schema, output_schema=output_schema)\n",
    "\n",
    "# Converting the model schema to a dictionary representation\n",
    "schema_dict = model_schema.to_dict()\n",
    "\n",
    "\n",
    "sample_indices = np.random.choice(X_test.shape[0], size=17, replace=False)\n",
    "sample_test_values = X_test[sample_indices]\n",
    "\n",
    "\n",
    "solana_model = mr.python.create_model(\n",
    "    name=\"solana_price_daily_model_10d\", \n",
    "    metrics= res_dict_test,\n",
    "    model_schema=model_schema,\n",
    "    input_example=sample_test_values, \n",
    "    version=4,\n",
    "    description=\"Solana daily price predictor. Predicts 10 days using solana lagged 30 timesteps, bitcoin lagged price (10) and fear greed index\",\n",
    ")\n",
    "if not test_mode:\n",
    "    model.save(model_dir + \"best_model.keras\")\n",
    "    joblib.dump(scaler_features, 'scaler_features.pkl')\n",
    "    joblib.dump(scaler_labels, 'scaler_labels.pkl')\n",
    "    solana_model.save(model_dir)"
   ]
  },
  {
   "cell_type": "code",
   "execution_count": 88,
   "metadata": {
    "ExecuteTime": {
     "end_time": "2025-01-02T14:25:44.652780Z",
     "start_time": "2025-01-02T14:25:44.619489Z"
    }
   },
   "outputs": [],
   "source": [
    "\n",
    "# min_max_scaler = fs.create_transformation_function(\n",
    "#         transformation_function=\"min_max_scaler\",\n",
    "#         description=\"Scales features to a range between 0 and 1\",\n",
    "#         version=1\n",
    "#     )\n",
    "\n",
    "# min_max_scaler.save()"
   ]
  }
 ],
 "metadata": {
  "kernelspec": {
   "display_name": "crypto-env",
   "language": "python",
   "name": "python3"
  },
  "language_info": {
   "codemirror_mode": {
    "name": "ipython",
    "version": 3
   },
   "file_extension": ".py",
   "mimetype": "text/x-python",
   "name": "python",
   "nbconvert_exporter": "python",
   "pygments_lexer": "ipython3",
   "version": "3.10.16"
  }
 },
 "nbformat": 4,
 "nbformat_minor": 2
}
