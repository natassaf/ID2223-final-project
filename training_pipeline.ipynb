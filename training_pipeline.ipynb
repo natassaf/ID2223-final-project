{
 "cells": [
  {
   "cell_type": "code",
   "execution_count": 1,
   "metadata": {
    "ExecuteTime": {
     "end_time": "2025-01-04T17:47:03.908055Z",
     "start_time": "2025-01-04T17:47:03.568665Z"
    }
   },
   "outputs": [],
   "source": [
    "test_mode = False"
   ]
  },
  {
   "cell_type": "code",
   "execution_count": 2,
   "metadata": {
    "ExecuteTime": {
     "end_time": "2025-01-04T17:47:05.429126Z",
     "start_time": "2025-01-04T17:47:03.573263Z"
    }
   },
   "outputs": [],
   "source": [
    "import os\n",
    "from dotenv import load_dotenv\n",
    "import pandas as pd\n",
    "import hopsworks\n",
    "import numpy as np\n",
    "from sklearn.preprocessing import MinMaxScaler\n",
    "from sklearn.metrics import mean_squared_error, r2_score\n",
    "import matplotlib.pyplot as plt\n",
    "\n",
    "import joblib\n",
    "import pickle\n",
    "import utils\n",
    "from utils import fng_labels_to_numbers_map"
   ]
  },
  {
   "cell_type": "markdown",
   "metadata": {},
   "source": [
    "### Connect to hopsworks"
   ]
  },
  {
   "cell_type": "code",
   "execution_count": 3,
   "metadata": {
    "ExecuteTime": {
     "end_time": "2025-01-04T17:47:09.199083Z",
     "start_time": "2025-01-04T17:47:05.430040Z"
    }
   },
   "outputs": [
    {
     "name": "stdout",
     "output_type": "stream",
     "text": [
      "2025-01-04 19:47:05,430 INFO: Initializing external client\n",
      "2025-01-04 19:47:05,430 INFO: Base URL: https://c.app.hopsworks.ai:443\n",
      "2025-01-04 19:47:07,143 INFO: Python Engine initialized.\n",
      "\n",
      "Logged in to project, explore it here https://c.app.hopsworks.ai:443/p/1160346\n"
     ]
    }
   ],
   "source": [
    "load_dotenv()\n",
    "os.environ[\"HOPSWORKS_API_KEY\"] = os.getenv(\"HOPSWORKS_API_KEY\")\n",
    "project = hopsworks.login()\n",
    "\n",
    "fs = project.get_feature_store() "
   ]
  },
  {
   "cell_type": "markdown",
   "metadata": {},
   "source": [
    "### Read data from hopsworks and merge them into a feature table"
   ]
  },
  {
   "cell_type": "code",
   "execution_count": 4,
   "metadata": {
    "ExecuteTime": {
     "end_time": "2025-01-04T17:47:12.584548Z",
     "start_time": "2025-01-04T17:47:09.202170Z"
    }
   },
   "outputs": [
    {
     "name": "stdout",
     "output_type": "stream",
     "text": [
      "Finished: Reading data from Hopsworks, using Hopsworks Feature Query Service (1.29s) \n"
     ]
    },
    {
     "data": {
      "text/plain": "       timestamp    open    high     low   close         volume  \\\n0     1623888000   40.23   40.57   38.30   39.13    6007.618490   \n1     1623974400   39.13   39.36   35.00   36.62   13557.357196   \n2     1624060800   36.62   37.35   35.00   35.45   16986.163716   \n3     1624147200   35.45   35.89   31.48   35.28   38681.265775   \n4     1624233600   35.28   35.28   26.00   26.55   41903.613224   \n...          ...     ...     ...     ...     ...            ...   \n1293  1735603200  191.06  198.73  187.76  188.95  169485.435743   \n1294  1735689600  188.95  194.72  187.63  193.82  109203.098115   \n1295  1735776000  193.82  209.95  193.10  208.00  284268.543094   \n1296  1735862400  208.00  219.57  205.61  217.70  177794.247005   \n1297  1735948800  217.70  217.88  213.61  215.39   66943.902867   \n\n         volume_buy    volume_sell  \n0       2885.660324    3121.958166  \n1       7925.472309    5631.884887  \n2       9258.361133    7727.802583  \n3      21052.579774   17628.686001  \n4      15380.745579   26522.867646  \n...             ...            ...  \n1293   98813.418835   70672.016908  \n1294   57924.768090   51278.330025  \n1295  180733.503944  103535.039150  \n1296   95001.493852   82792.753153  \n1297   26735.269434   40208.633433  \n\n[1298 rows x 8 columns]",
      "text/html": "<div>\n<style scoped>\n    .dataframe tbody tr th:only-of-type {\n        vertical-align: middle;\n    }\n\n    .dataframe tbody tr th {\n        vertical-align: top;\n    }\n\n    .dataframe thead th {\n        text-align: right;\n    }\n</style>\n<table border=\"1\" class=\"dataframe\">\n  <thead>\n    <tr style=\"text-align: right;\">\n      <th></th>\n      <th>timestamp</th>\n      <th>open</th>\n      <th>high</th>\n      <th>low</th>\n      <th>close</th>\n      <th>volume</th>\n      <th>volume_buy</th>\n      <th>volume_sell</th>\n    </tr>\n  </thead>\n  <tbody>\n    <tr>\n      <th>0</th>\n      <td>1623888000</td>\n      <td>40.23</td>\n      <td>40.57</td>\n      <td>38.30</td>\n      <td>39.13</td>\n      <td>6007.618490</td>\n      <td>2885.660324</td>\n      <td>3121.958166</td>\n    </tr>\n    <tr>\n      <th>1</th>\n      <td>1623974400</td>\n      <td>39.13</td>\n      <td>39.36</td>\n      <td>35.00</td>\n      <td>36.62</td>\n      <td>13557.357196</td>\n      <td>7925.472309</td>\n      <td>5631.884887</td>\n    </tr>\n    <tr>\n      <th>2</th>\n      <td>1624060800</td>\n      <td>36.62</td>\n      <td>37.35</td>\n      <td>35.00</td>\n      <td>35.45</td>\n      <td>16986.163716</td>\n      <td>9258.361133</td>\n      <td>7727.802583</td>\n    </tr>\n    <tr>\n      <th>3</th>\n      <td>1624147200</td>\n      <td>35.45</td>\n      <td>35.89</td>\n      <td>31.48</td>\n      <td>35.28</td>\n      <td>38681.265775</td>\n      <td>21052.579774</td>\n      <td>17628.686001</td>\n    </tr>\n    <tr>\n      <th>4</th>\n      <td>1624233600</td>\n      <td>35.28</td>\n      <td>35.28</td>\n      <td>26.00</td>\n      <td>26.55</td>\n      <td>41903.613224</td>\n      <td>15380.745579</td>\n      <td>26522.867646</td>\n    </tr>\n    <tr>\n      <th>...</th>\n      <td>...</td>\n      <td>...</td>\n      <td>...</td>\n      <td>...</td>\n      <td>...</td>\n      <td>...</td>\n      <td>...</td>\n      <td>...</td>\n    </tr>\n    <tr>\n      <th>1293</th>\n      <td>1735603200</td>\n      <td>191.06</td>\n      <td>198.73</td>\n      <td>187.76</td>\n      <td>188.95</td>\n      <td>169485.435743</td>\n      <td>98813.418835</td>\n      <td>70672.016908</td>\n    </tr>\n    <tr>\n      <th>1294</th>\n      <td>1735689600</td>\n      <td>188.95</td>\n      <td>194.72</td>\n      <td>187.63</td>\n      <td>193.82</td>\n      <td>109203.098115</td>\n      <td>57924.768090</td>\n      <td>51278.330025</td>\n    </tr>\n    <tr>\n      <th>1295</th>\n      <td>1735776000</td>\n      <td>193.82</td>\n      <td>209.95</td>\n      <td>193.10</td>\n      <td>208.00</td>\n      <td>284268.543094</td>\n      <td>180733.503944</td>\n      <td>103535.039150</td>\n    </tr>\n    <tr>\n      <th>1296</th>\n      <td>1735862400</td>\n      <td>208.00</td>\n      <td>219.57</td>\n      <td>205.61</td>\n      <td>217.70</td>\n      <td>177794.247005</td>\n      <td>95001.493852</td>\n      <td>82792.753153</td>\n    </tr>\n    <tr>\n      <th>1297</th>\n      <td>1735948800</td>\n      <td>217.70</td>\n      <td>217.88</td>\n      <td>213.61</td>\n      <td>215.39</td>\n      <td>66943.902867</td>\n      <td>26735.269434</td>\n      <td>40208.633433</td>\n    </tr>\n  </tbody>\n</table>\n<p>1298 rows × 8 columns</p>\n</div>"
     },
     "execution_count": 4,
     "metadata": {},
     "output_type": "execute_result"
    }
   ],
   "source": [
    "# ****************** Solana data ******************\n",
    "\n",
    "solana_feature_group = fs.get_feature_group(\n",
    "    name=\"solana\",  \n",
    "    version=1\n",
    ")\n",
    "\n",
    "# Step 3: Read the data from the feature group\n",
    "solana_df = solana_feature_group.read().sort_values(by='timestamp', inplace=False).reset_index(drop=True)\n",
    "# solana_df['open_diff'] = solana_df['open'].diff().fillna(0)\n",
    "solana_df"
   ]
  },
  {
   "cell_type": "code",
   "execution_count": 5,
   "metadata": {
    "ExecuteTime": {
     "end_time": "2025-01-04T17:47:15.380324Z",
     "start_time": "2025-01-04T17:47:12.586488Z"
    }
   },
   "outputs": [
    {
     "name": "stdout",
     "output_type": "stream",
     "text": [
      "Finished: Reading data from Hopsworks, using Hopsworks Feature Query Service (1.08s) \n"
     ]
    }
   ],
   "source": [
    "# ****************** Bitcoin Data ******************\n",
    "bitcoin_feature_group = fs.get_feature_group(\n",
    "    name=\"bitcoin\",  \n",
    "    version=1\n",
    ")\n",
    "\n",
    "# Step 3: Read the data from the feature group\n",
    "bitcoin_df = bitcoin_feature_group.read().sort_values(by='timestamp', inplace=False).reset_index(drop=True)\n",
    "# bitcoin_df['open_diff'] = bitcoin_df['open'].diff()\n",
    "bitcoin_df = bitcoin_df[[\"timestamp\",\"open\"]]"
   ]
  },
  {
   "cell_type": "code",
   "execution_count": 6,
   "metadata": {
    "ExecuteTime": {
     "end_time": "2025-01-04T17:47:17.873482Z",
     "start_time": "2025-01-04T17:47:15.381771Z"
    }
   },
   "outputs": [
    {
     "name": "stdout",
     "output_type": "stream",
     "text": [
      "Finished: Reading data from Hopsworks, using Hopsworks Feature Query Service (1.12s) \n"
     ]
    },
    {
     "data": {
      "text/plain": "     fng_value  fng_classification     timestamp\n0           74                   3  1.718410e+09\n1           77                   4  1.710720e+09\n2           43                   1  1.550189e+09\n3           68                   3  1.721952e+09\n4           30                   1  1.659571e+09\n...        ...                 ...           ...\n2521        50                   2  1.589760e+09\n2522        79                   4  1.707782e+09\n2523        27                   1  1.645747e+09\n2524        28                   1  1.542586e+09\n2525        15                   0  1.654560e+09\n\n[2526 rows x 3 columns]",
      "text/html": "<div>\n<style scoped>\n    .dataframe tbody tr th:only-of-type {\n        vertical-align: middle;\n    }\n\n    .dataframe tbody tr th {\n        vertical-align: top;\n    }\n\n    .dataframe thead th {\n        text-align: right;\n    }\n</style>\n<table border=\"1\" class=\"dataframe\">\n  <thead>\n    <tr style=\"text-align: right;\">\n      <th></th>\n      <th>fng_value</th>\n      <th>fng_classification</th>\n      <th>timestamp</th>\n    </tr>\n  </thead>\n  <tbody>\n    <tr>\n      <th>0</th>\n      <td>74</td>\n      <td>3</td>\n      <td>1.718410e+09</td>\n    </tr>\n    <tr>\n      <th>1</th>\n      <td>77</td>\n      <td>4</td>\n      <td>1.710720e+09</td>\n    </tr>\n    <tr>\n      <th>2</th>\n      <td>43</td>\n      <td>1</td>\n      <td>1.550189e+09</td>\n    </tr>\n    <tr>\n      <th>3</th>\n      <td>68</td>\n      <td>3</td>\n      <td>1.721952e+09</td>\n    </tr>\n    <tr>\n      <th>4</th>\n      <td>30</td>\n      <td>1</td>\n      <td>1.659571e+09</td>\n    </tr>\n    <tr>\n      <th>...</th>\n      <td>...</td>\n      <td>...</td>\n      <td>...</td>\n    </tr>\n    <tr>\n      <th>2521</th>\n      <td>50</td>\n      <td>2</td>\n      <td>1.589760e+09</td>\n    </tr>\n    <tr>\n      <th>2522</th>\n      <td>79</td>\n      <td>4</td>\n      <td>1.707782e+09</td>\n    </tr>\n    <tr>\n      <th>2523</th>\n      <td>27</td>\n      <td>1</td>\n      <td>1.645747e+09</td>\n    </tr>\n    <tr>\n      <th>2524</th>\n      <td>28</td>\n      <td>1</td>\n      <td>1.542586e+09</td>\n    </tr>\n    <tr>\n      <th>2525</th>\n      <td>15</td>\n      <td>0</td>\n      <td>1.654560e+09</td>\n    </tr>\n  </tbody>\n</table>\n<p>2526 rows × 3 columns</p>\n</div>"
     },
     "execution_count": 6,
     "metadata": {},
     "output_type": "execute_result"
    }
   ],
   "source": [
    "# ****************** Fear and Greed Index Data ******************\n",
    "\n",
    "#fs = project.get_feature_store(name='kth_lab1_2024_featurestore')\n",
    "fs = project.get_feature_store()\n",
    "fng_feature_group = fs.get_feature_group('f_n_g_index', version=1)\n",
    "fng_df = fng_feature_group.read()\n",
    "fng_df['timestamp'] = fng_df['timestamp'].astype(float)\n",
    "fng_df['fng_classification'] = fng_df['fng_classification'].map(fng_labels_to_numbers_map)\n",
    "\n",
    "fng_df\n"
   ]
  },
  {
   "cell_type": "code",
   "execution_count": 7,
   "metadata": {
    "ExecuteTime": {
     "end_time": "2025-01-04T17:47:17.892938Z",
     "start_time": "2025-01-04T17:47:17.877537Z"
    }
   },
   "outputs": [
    {
     "data": {
      "text/plain": "    timestamp  open_solana   high    low  close        volume    volume_buy  \\\n0  1623888000        40.23  40.57  38.30  39.13   6007.618490   2885.660324   \n1  1623974400        39.13  39.36  35.00  36.62  13557.357196   7925.472309   \n2  1624060800        36.62  37.35  35.00  35.45  16986.163716   9258.361133   \n3  1624147200        35.45  35.89  31.48  35.28  38681.265775  21052.579774   \n4  1624233600        35.28  35.28  26.00  26.55  41903.613224  15380.745579   \n\n    volume_sell  open_bitcoin fng_value  fng_classification  \n0   3121.958166       38337.1        26                   1  \n1   5631.884887       38078.2        25                   0  \n2   7727.802583       35824.0        23                   0  \n3  17628.686001       35490.5        21                   0  \n4  26522.867646       35595.0        23                   0  ",
      "text/html": "<div>\n<style scoped>\n    .dataframe tbody tr th:only-of-type {\n        vertical-align: middle;\n    }\n\n    .dataframe tbody tr th {\n        vertical-align: top;\n    }\n\n    .dataframe thead th {\n        text-align: right;\n    }\n</style>\n<table border=\"1\" class=\"dataframe\">\n  <thead>\n    <tr style=\"text-align: right;\">\n      <th></th>\n      <th>timestamp</th>\n      <th>open_solana</th>\n      <th>high</th>\n      <th>low</th>\n      <th>close</th>\n      <th>volume</th>\n      <th>volume_buy</th>\n      <th>volume_sell</th>\n      <th>open_bitcoin</th>\n      <th>fng_value</th>\n      <th>fng_classification</th>\n    </tr>\n  </thead>\n  <tbody>\n    <tr>\n      <th>0</th>\n      <td>1623888000</td>\n      <td>40.23</td>\n      <td>40.57</td>\n      <td>38.30</td>\n      <td>39.13</td>\n      <td>6007.618490</td>\n      <td>2885.660324</td>\n      <td>3121.958166</td>\n      <td>38337.1</td>\n      <td>26</td>\n      <td>1</td>\n    </tr>\n    <tr>\n      <th>1</th>\n      <td>1623974400</td>\n      <td>39.13</td>\n      <td>39.36</td>\n      <td>35.00</td>\n      <td>36.62</td>\n      <td>13557.357196</td>\n      <td>7925.472309</td>\n      <td>5631.884887</td>\n      <td>38078.2</td>\n      <td>25</td>\n      <td>0</td>\n    </tr>\n    <tr>\n      <th>2</th>\n      <td>1624060800</td>\n      <td>36.62</td>\n      <td>37.35</td>\n      <td>35.00</td>\n      <td>35.45</td>\n      <td>16986.163716</td>\n      <td>9258.361133</td>\n      <td>7727.802583</td>\n      <td>35824.0</td>\n      <td>23</td>\n      <td>0</td>\n    </tr>\n    <tr>\n      <th>3</th>\n      <td>1624147200</td>\n      <td>35.45</td>\n      <td>35.89</td>\n      <td>31.48</td>\n      <td>35.28</td>\n      <td>38681.265775</td>\n      <td>21052.579774</td>\n      <td>17628.686001</td>\n      <td>35490.5</td>\n      <td>21</td>\n      <td>0</td>\n    </tr>\n    <tr>\n      <th>4</th>\n      <td>1624233600</td>\n      <td>35.28</td>\n      <td>35.28</td>\n      <td>26.00</td>\n      <td>26.55</td>\n      <td>41903.613224</td>\n      <td>15380.745579</td>\n      <td>26522.867646</td>\n      <td>35595.0</td>\n      <td>23</td>\n      <td>0</td>\n    </tr>\n  </tbody>\n</table>\n</div>"
     },
     "execution_count": 7,
     "metadata": {},
     "output_type": "execute_result"
    }
   ],
   "source": [
    "\n",
    "all_data = pd.merge(solana_df, bitcoin_df, how='inner', on=\"timestamp\",suffixes=('_solana', '_bitcoin'))  \n",
    "all_data = pd.merge(all_data, fng_df, how='inner', on=\"timestamp\")\n",
    "all_data.head()\n"
   ]
  },
  {
   "cell_type": "markdown",
   "metadata": {},
   "source": [
    "### Data Preprocessing"
   ]
  },
  {
   "cell_type": "code",
   "execution_count": 8,
   "metadata": {
    "ExecuteTime": {
     "end_time": "2025-01-04T17:47:17.908544Z",
     "start_time": "2025-01-04T17:47:17.898602Z"
    }
   },
   "outputs": [
    {
     "data": {
      "text/plain": "    high    low  close        volume    volume_buy   volume_sell  \\\n0  40.57  38.30  39.13   6007.618490   2885.660324   3121.958166   \n1  39.36  35.00  36.62  13557.357196   7925.472309   5631.884887   \n2  37.35  35.00  35.45  16986.163716   9258.361133   7727.802583   \n3  35.89  31.48  35.28  38681.265775  21052.579774  17628.686001   \n4  35.28  26.00  26.55  41903.613224  15380.745579  26522.867646   \n\n   open_bitcoin fng_value  fng_classification  open_solana  \n0       38337.1        26                   1        40.23  \n1       38078.2        25                   0        39.13  \n2       35824.0        23                   0        36.62  \n3       35490.5        21                   0        35.45  \n4       35595.0        23                   0        35.28  ",
      "text/html": "<div>\n<style scoped>\n    .dataframe tbody tr th:only-of-type {\n        vertical-align: middle;\n    }\n\n    .dataframe tbody tr th {\n        vertical-align: top;\n    }\n\n    .dataframe thead th {\n        text-align: right;\n    }\n</style>\n<table border=\"1\" class=\"dataframe\">\n  <thead>\n    <tr style=\"text-align: right;\">\n      <th></th>\n      <th>high</th>\n      <th>low</th>\n      <th>close</th>\n      <th>volume</th>\n      <th>volume_buy</th>\n      <th>volume_sell</th>\n      <th>open_bitcoin</th>\n      <th>fng_value</th>\n      <th>fng_classification</th>\n      <th>open_solana</th>\n    </tr>\n  </thead>\n  <tbody>\n    <tr>\n      <th>0</th>\n      <td>40.57</td>\n      <td>38.30</td>\n      <td>39.13</td>\n      <td>6007.618490</td>\n      <td>2885.660324</td>\n      <td>3121.958166</td>\n      <td>38337.1</td>\n      <td>26</td>\n      <td>1</td>\n      <td>40.23</td>\n    </tr>\n    <tr>\n      <th>1</th>\n      <td>39.36</td>\n      <td>35.00</td>\n      <td>36.62</td>\n      <td>13557.357196</td>\n      <td>7925.472309</td>\n      <td>5631.884887</td>\n      <td>38078.2</td>\n      <td>25</td>\n      <td>0</td>\n      <td>39.13</td>\n    </tr>\n    <tr>\n      <th>2</th>\n      <td>37.35</td>\n      <td>35.00</td>\n      <td>35.45</td>\n      <td>16986.163716</td>\n      <td>9258.361133</td>\n      <td>7727.802583</td>\n      <td>35824.0</td>\n      <td>23</td>\n      <td>0</td>\n      <td>36.62</td>\n    </tr>\n    <tr>\n      <th>3</th>\n      <td>35.89</td>\n      <td>31.48</td>\n      <td>35.28</td>\n      <td>38681.265775</td>\n      <td>21052.579774</td>\n      <td>17628.686001</td>\n      <td>35490.5</td>\n      <td>21</td>\n      <td>0</td>\n      <td>35.45</td>\n    </tr>\n    <tr>\n      <th>4</th>\n      <td>35.28</td>\n      <td>26.00</td>\n      <td>26.55</td>\n      <td>41903.613224</td>\n      <td>15380.745579</td>\n      <td>26522.867646</td>\n      <td>35595.0</td>\n      <td>23</td>\n      <td>0</td>\n      <td>35.28</td>\n    </tr>\n  </tbody>\n</table>\n</div>"
     },
     "execution_count": 8,
     "metadata": {},
     "output_type": "execute_result"
    }
   ],
   "source": [
    "# All data object will be used as features and thus we dont need timestamp\n",
    "if \"timestamp\" in all_data.columns:\n",
    "    all_data = all_data.drop(columns=['timestamp'])\n",
    "\n",
    "target_column = 'open_solana'\n",
    "all_data = utils.move_target_at_the_end(all_data, target_column)\n",
    "all_data_values = all_data.values\n",
    "\n",
    "all_data.head()"
   ]
  },
  {
   "cell_type": "code",
   "execution_count": 9,
   "metadata": {
    "ExecuteTime": {
     "end_time": "2025-01-04T17:47:17.920039Z",
     "start_time": "2025-01-04T17:47:17.906894Z"
    }
   },
   "outputs": [
    {
     "data": {
      "text/plain": "((1257, 30, 10), (1257, 10))"
     },
     "execution_count": 9,
     "metadata": {},
     "output_type": "execute_result"
    }
   ],
   "source": [
    "time_steps = 30\n",
    "num_predictions = 10\n",
    "X, y = utils.create_sequences(all_data_values, time_steps=time_steps, num_predictions=num_predictions)\n",
    "# y_percentage_change = create_featured_label(all_data_values, time_steps=time_steps, num_predictions=num_predictions)\n",
    "X.shape, y.shape"
   ]
  },
  {
   "cell_type": "markdown",
   "metadata": {},
   "source": [
    "### Separate dataset into train validation and test set "
   ]
  },
  {
   "cell_type": "code",
   "execution_count": 10,
   "metadata": {
    "ExecuteTime": {
     "end_time": "2025-01-04T17:47:17.926324Z",
     "start_time": "2025-01-04T17:47:17.912097Z"
    }
   },
   "outputs": [
    {
     "name": "stdout",
     "output_type": "stream",
     "text": [
      "X_train shape: (703, 30, 10), X_val shape: (302, 30, 10), X_test shape: (252, 30, 10)\n",
      "Labels1_train shape: (703, 10), Labels1 val shape: (302, 10), Labels1_test shape: (252, 10)\n"
     ]
    }
   ],
   "source": [
    "\n",
    "(X_train, X_val, X_test, y_train, y_val, y_test ) = utils.train_val_test_split(X, y)\n",
    "print(f\"X_train shape: {X_train.shape}, X_val shape: {X_val.shape}, X_test shape: {X_test.shape}\")\n",
    "print(f\"Labels1_train shape: {y_train.shape}, Labels1 val shape: {y_val.shape}, Labels1_test shape: {y_test.shape}\")\n"
   ]
  },
  {
   "cell_type": "markdown",
   "metadata": {},
   "source": [
    "### Normalize data in order to be used with the model"
   ]
  },
  {
   "cell_type": "code",
   "execution_count": 11,
   "metadata": {
    "ExecuteTime": {
     "end_time": "2025-01-04T17:47:17.941530Z",
     "start_time": "2025-01-04T17:47:17.920206Z"
    }
   },
   "outputs": [],
   "source": [
    "scaler_features = MinMaxScaler(feature_range=(0, 1))\n",
    "\n",
    "data_reshaped = X_train.reshape(-1, X_train.shape[2])  # Shape: (12680, 18)\n",
    "\n",
    "data_scaled = scaler_features.fit_transform(data_reshaped)\n",
    "\n",
    "X_train = data_scaled.reshape(X_train.shape)\n",
    "\n",
    "# ************************************************\n",
    "\n",
    "data_reshaped = X_val.reshape(-1, X_val.shape[2])  \n",
    "\n",
    "data_scaled = scaler_features.transform(data_reshaped)\n",
    "\n",
    "X_val = data_scaled.reshape(X_val.shape)\n",
    "\n",
    "# *************************************************\n",
    "data_reshaped = X_test.reshape(-1, X_test.shape[2]) \n",
    "\n",
    "\n",
    "data_scaled = scaler_features.transform(data_reshaped)\n",
    "\n",
    "X_test = data_scaled.reshape(X_test.shape)\n",
    "\n"
   ]
  },
  {
   "cell_type": "code",
   "execution_count": 12,
   "metadata": {
    "ExecuteTime": {
     "end_time": "2025-01-04T17:47:17.946671Z",
     "start_time": "2025-01-04T17:47:17.930524Z"
    }
   },
   "outputs": [],
   "source": [
    "scaler_labels = MinMaxScaler(feature_range=(0, 1))\n",
    "scaler_labels.fit(y_train)\n",
    "\n",
    "y_train = scaler_labels.transform(y_train)\n",
    "y_val = scaler_labels.transform(y_val)\n",
    "y_test = scaler_labels.transform(y_test)"
   ]
  },
  {
   "cell_type": "markdown",
   "metadata": {},
   "source": [
    "### Train LSTM Model"
   ]
  },
  {
   "cell_type": "code",
   "execution_count": 13,
   "metadata": {
    "ExecuteTime": {
     "end_time": "2025-01-04T17:47:21.197424Z",
     "start_time": "2025-01-04T17:47:17.933390Z"
    }
   },
   "outputs": [],
   "source": [
    "from tensorflow.keras.models import Sequential\n",
    "from tensorflow.keras.layers import *\n",
    "from tensorflow.keras.losses import MeanSquaredError\n",
    "from tensorflow.keras.metrics import RootMeanSquaredError, R2Score \n",
    "from tensorflow.keras.optimizers import Adam\n",
    "from tensorflow.keras.callbacks import ModelCheckpoint\n",
    "from keras.regularizers import l2"
   ]
  },
  {
   "cell_type": "code",
   "execution_count": 14,
   "metadata": {
    "ExecuteTime": {
     "end_time": "2025-01-04T17:47:21.253577Z",
     "start_time": "2025-01-04T17:47:21.204077Z"
    }
   },
   "outputs": [
    {
     "data": {
      "text/plain": "\u001B[1mModel: \"sequential\"\u001B[0m\n",
      "text/html": "<pre style=\"white-space:pre;overflow-x:auto;line-height:normal;font-family:Menlo,'DejaVu Sans Mono',consolas,'Courier New',monospace\"><span style=\"font-weight: bold\">Model: \"sequential\"</span>\n</pre>\n"
     },
     "metadata": {},
     "output_type": "display_data"
    },
    {
     "data": {
      "text/plain": "┏━━━━━━━━━━━━━━━━━━━━━━━━━━━━━━━━━┳━━━━━━━━━━━━━━━━━━━━━━━━┳━━━━━━━━━━━━━━━┓\n┃\u001B[1m \u001B[0m\u001B[1mLayer (type)                   \u001B[0m\u001B[1m \u001B[0m┃\u001B[1m \u001B[0m\u001B[1mOutput Shape          \u001B[0m\u001B[1m \u001B[0m┃\u001B[1m \u001B[0m\u001B[1m      Param #\u001B[0m\u001B[1m \u001B[0m┃\n┡━━━━━━━━━━━━━━━━━━━━━━━━━━━━━━━━━╇━━━━━━━━━━━━━━━━━━━━━━━━╇━━━━━━━━━━━━━━━┩\n│ lstm (\u001B[38;5;33mLSTM\u001B[0m)                     │ (\u001B[38;5;45mNone\u001B[0m, \u001B[38;5;34m12\u001B[0m)             │         \u001B[38;5;34m1,104\u001B[0m │\n├─────────────────────────────────┼────────────────────────┼───────────────┤\n│ dense (\u001B[38;5;33mDense\u001B[0m)                   │ (\u001B[38;5;45mNone\u001B[0m, \u001B[38;5;34m10\u001B[0m)             │           \u001B[38;5;34m130\u001B[0m │\n├─────────────────────────────────┼────────────────────────┼───────────────┤\n│ dense_1 (\u001B[38;5;33mDense\u001B[0m)                 │ (\u001B[38;5;45mNone\u001B[0m, \u001B[38;5;34m10\u001B[0m)             │           \u001B[38;5;34m110\u001B[0m │\n└─────────────────────────────────┴────────────────────────┴───────────────┘\n",
      "text/html": "<pre style=\"white-space:pre;overflow-x:auto;line-height:normal;font-family:Menlo,'DejaVu Sans Mono',consolas,'Courier New',monospace\">┏━━━━━━━━━━━━━━━━━━━━━━━━━━━━━━━━━┳━━━━━━━━━━━━━━━━━━━━━━━━┳━━━━━━━━━━━━━━━┓\n┃<span style=\"font-weight: bold\"> Layer (type)                    </span>┃<span style=\"font-weight: bold\"> Output Shape           </span>┃<span style=\"font-weight: bold\">       Param # </span>┃\n┡━━━━━━━━━━━━━━━━━━━━━━━━━━━━━━━━━╇━━━━━━━━━━━━━━━━━━━━━━━━╇━━━━━━━━━━━━━━━┩\n│ lstm (<span style=\"color: #0087ff; text-decoration-color: #0087ff\">LSTM</span>)                     │ (<span style=\"color: #00d7ff; text-decoration-color: #00d7ff\">None</span>, <span style=\"color: #00af00; text-decoration-color: #00af00\">12</span>)             │         <span style=\"color: #00af00; text-decoration-color: #00af00\">1,104</span> │\n├─────────────────────────────────┼────────────────────────┼───────────────┤\n│ dense (<span style=\"color: #0087ff; text-decoration-color: #0087ff\">Dense</span>)                   │ (<span style=\"color: #00d7ff; text-decoration-color: #00d7ff\">None</span>, <span style=\"color: #00af00; text-decoration-color: #00af00\">10</span>)             │           <span style=\"color: #00af00; text-decoration-color: #00af00\">130</span> │\n├─────────────────────────────────┼────────────────────────┼───────────────┤\n│ dense_1 (<span style=\"color: #0087ff; text-decoration-color: #0087ff\">Dense</span>)                 │ (<span style=\"color: #00d7ff; text-decoration-color: #00d7ff\">None</span>, <span style=\"color: #00af00; text-decoration-color: #00af00\">10</span>)             │           <span style=\"color: #00af00; text-decoration-color: #00af00\">110</span> │\n└─────────────────────────────────┴────────────────────────┴───────────────┘\n</pre>\n"
     },
     "metadata": {},
     "output_type": "display_data"
    },
    {
     "data": {
      "text/plain": "\u001B[1m Total params: \u001B[0m\u001B[38;5;34m1,344\u001B[0m (5.25 KB)\n",
      "text/html": "<pre style=\"white-space:pre;overflow-x:auto;line-height:normal;font-family:Menlo,'DejaVu Sans Mono',consolas,'Courier New',monospace\"><span style=\"font-weight: bold\"> Total params: </span><span style=\"color: #00af00; text-decoration-color: #00af00\">1,344</span> (5.25 KB)\n</pre>\n"
     },
     "metadata": {},
     "output_type": "display_data"
    },
    {
     "data": {
      "text/plain": "\u001B[1m Trainable params: \u001B[0m\u001B[38;5;34m1,344\u001B[0m (5.25 KB)\n",
      "text/html": "<pre style=\"white-space:pre;overflow-x:auto;line-height:normal;font-family:Menlo,'DejaVu Sans Mono',consolas,'Courier New',monospace\"><span style=\"font-weight: bold\"> Trainable params: </span><span style=\"color: #00af00; text-decoration-color: #00af00\">1,344</span> (5.25 KB)\n</pre>\n"
     },
     "metadata": {},
     "output_type": "display_data"
    },
    {
     "data": {
      "text/plain": "\u001B[1m Non-trainable params: \u001B[0m\u001B[38;5;34m0\u001B[0m (0.00 B)\n",
      "text/html": "<pre style=\"white-space:pre;overflow-x:auto;line-height:normal;font-family:Menlo,'DejaVu Sans Mono',consolas,'Courier New',monospace\"><span style=\"font-weight: bold\"> Non-trainable params: </span><span style=\"color: #00af00; text-decoration-color: #00af00\">0</span> (0.00 B)\n</pre>\n"
     },
     "metadata": {},
     "output_type": "display_data"
    }
   ],
   "source": [
    "\n",
    "model = Sequential()\n",
    "model.add(InputLayer((time_steps, X.shape[2])))\n",
    "model.add(LSTM(12, return_sequences=False))  # L2 regularization\n",
    "model.add(Dense(y.shape[1], activation='relu'))       # L2 regularization\n",
    "model.add(Dense(y.shape[1], activation='linear'))        \n",
    "model.summary()"
   ]
  },
  {
   "cell_type": "code",
   "execution_count": 15,
   "metadata": {
    "ExecuteTime": {
     "end_time": "2025-01-04T17:47:21.258466Z",
     "start_time": "2025-01-04T17:47:21.251495Z"
    }
   },
   "outputs": [],
   "source": [
    "cp2 = ModelCheckpoint('solana_price_model_10d/best_model.keras', save_best_only=True)\n",
    "model.compile(loss=MeanSquaredError(), optimizer=Adam(learning_rate=0.0001), metrics=[MeanSquaredError(), R2Score()])"
   ]
  },
  {
   "cell_type": "code",
   "execution_count": 16,
   "metadata": {
    "ExecuteTime": {
     "end_time": "2025-01-04T17:47:21.259974Z",
     "start_time": "2025-01-04T17:47:21.256863Z"
    }
   },
   "outputs": [
    {
     "data": {
      "text/plain": "((703, 30, 10), (703, 10), (302, 30, 10), (302, 10))"
     },
     "execution_count": 16,
     "metadata": {},
     "output_type": "execute_result"
    }
   ],
   "source": [
    "X_train.shape, y_train.shape, X_val.shape, y_val.shape\n"
   ]
  },
  {
   "cell_type": "code",
   "execution_count": 17,
   "metadata": {
    "ExecuteTime": {
     "end_time": "2025-01-04T17:47:49.685684Z",
     "start_time": "2025-01-04T17:47:21.259868Z"
    }
   },
   "outputs": [
    {
     "name": "stdout",
     "output_type": "stream",
     "text": [
      "Epoch 1/300\n",
      "\u001B[1m22/22\u001B[0m \u001B[32m━━━━━━━━━━━━━━━━━━━━\u001B[0m\u001B[37m\u001B[0m \u001B[1m1s\u001B[0m 10ms/step - loss: 0.1145 - mean_squared_error: 0.1145 - r2_score: -0.8923 - val_loss: 0.1030 - val_mean_squared_error: 0.1142 - val_r2_score: -1.2051\n",
      "Epoch 2/300\n",
      "\u001B[1m22/22\u001B[0m \u001B[32m━━━━━━━━━━━━━━━━━━━━\u001B[0m\u001B[37m\u001B[0m \u001B[1m0s\u001B[0m 4ms/step - loss: 0.1135 - mean_squared_error: 0.1135 - r2_score: -0.7774 - val_loss: 0.0977 - val_mean_squared_error: 0.1086 - val_r2_score: -1.0922\n",
      "Epoch 3/300\n",
      "\u001B[1m22/22\u001B[0m \u001B[32m━━━━━━━━━━━━━━━━━━━━\u001B[0m\u001B[37m\u001B[0m \u001B[1m0s\u001B[0m 4ms/step - loss: 0.1116 - mean_squared_error: 0.1116 - r2_score: -0.6998 - val_loss: 0.0929 - val_mean_squared_error: 0.1036 - val_r2_score: -0.9905\n",
      "Epoch 4/300\n",
      "\u001B[1m22/22\u001B[0m \u001B[32m━━━━━━━━━━━━━━━━━━━━\u001B[0m\u001B[37m\u001B[0m \u001B[1m0s\u001B[0m 4ms/step - loss: 0.1038 - mean_squared_error: 0.1038 - r2_score: -0.6082 - val_loss: 0.0882 - val_mean_squared_error: 0.0985 - val_r2_score: -0.8902\n",
      "Epoch 5/300\n",
      "\u001B[1m22/22\u001B[0m \u001B[32m━━━━━━━━━━━━━━━━━━━━\u001B[0m\u001B[37m\u001B[0m \u001B[1m0s\u001B[0m 4ms/step - loss: 0.0831 - mean_squared_error: 0.0831 - r2_score: -0.4775 - val_loss: 0.0837 - val_mean_squared_error: 0.0937 - val_r2_score: -0.7948\n",
      "Epoch 6/300\n",
      "\u001B[1m22/22\u001B[0m \u001B[32m━━━━━━━━━━━━━━━━━━━━\u001B[0m\u001B[37m\u001B[0m \u001B[1m0s\u001B[0m 4ms/step - loss: 0.0927 - mean_squared_error: 0.0927 - r2_score: -0.4642 - val_loss: 0.0791 - val_mean_squared_error: 0.0887 - val_r2_score: -0.6959\n",
      "Epoch 7/300\n",
      "\u001B[1m22/22\u001B[0m \u001B[32m━━━━━━━━━━━━━━━━━━━━\u001B[0m\u001B[37m\u001B[0m \u001B[1m0s\u001B[0m 4ms/step - loss: 0.0921 - mean_squared_error: 0.0921 - r2_score: -0.4571 - val_loss: 0.0744 - val_mean_squared_error: 0.0835 - val_r2_score: -0.5962\n",
      "Epoch 8/300\n",
      "\u001B[1m22/22\u001B[0m \u001B[32m━━━━━━━━━━━━━━━━━━━━\u001B[0m\u001B[37m\u001B[0m \u001B[1m0s\u001B[0m 4ms/step - loss: 0.0799 - mean_squared_error: 0.0799 - r2_score: -0.3058 - val_loss: 0.0696 - val_mean_squared_error: 0.0782 - val_r2_score: -0.4933\n",
      "Epoch 9/300\n",
      "\u001B[1m22/22\u001B[0m \u001B[32m━━━━━━━━━━━━━━━━━━━━\u001B[0m\u001B[37m\u001B[0m \u001B[1m0s\u001B[0m 4ms/step - loss: 0.0753 - mean_squared_error: 0.0753 - r2_score: -0.2348 - val_loss: 0.0647 - val_mean_squared_error: 0.0728 - val_r2_score: -0.3893\n",
      "Epoch 10/300\n",
      "\u001B[1m22/22\u001B[0m \u001B[32m━━━━━━━━━━━━━━━━━━━━\u001B[0m\u001B[37m\u001B[0m \u001B[1m0s\u001B[0m 4ms/step - loss: 0.0822 - mean_squared_error: 0.0822 - r2_score: -0.1858 - val_loss: 0.0596 - val_mean_squared_error: 0.0671 - val_r2_score: -0.2801\n",
      "Epoch 11/300\n",
      "\u001B[1m22/22\u001B[0m \u001B[32m━━━━━━━━━━━━━━━━━━━━\u001B[0m\u001B[37m\u001B[0m \u001B[1m0s\u001B[0m 4ms/step - loss: 0.0656 - mean_squared_error: 0.0656 - r2_score: -0.0989 - val_loss: 0.0547 - val_mean_squared_error: 0.0615 - val_r2_score: -0.1745\n",
      "Epoch 12/300\n",
      "\u001B[1m22/22\u001B[0m \u001B[32m━━━━━━━━━━━━━━━━━━━━\u001B[0m\u001B[37m\u001B[0m \u001B[1m0s\u001B[0m 4ms/step - loss: 0.0676 - mean_squared_error: 0.0676 - r2_score: -0.0171 - val_loss: 0.0498 - val_mean_squared_error: 0.0561 - val_r2_score: -0.0701\n",
      "Epoch 13/300\n",
      "\u001B[1m22/22\u001B[0m \u001B[32m━━━━━━━━━━━━━━━━━━━━\u001B[0m\u001B[37m\u001B[0m \u001B[1m0s\u001B[0m 4ms/step - loss: 0.0589 - mean_squared_error: 0.0589 - r2_score: 0.0439 - val_loss: 0.0453 - val_mean_squared_error: 0.0509 - val_r2_score: 0.0271\n",
      "Epoch 14/300\n",
      "\u001B[1m22/22\u001B[0m \u001B[32m━━━━━━━━━━━━━━━━━━━━\u001B[0m\u001B[37m\u001B[0m \u001B[1m0s\u001B[0m 4ms/step - loss: 0.0568 - mean_squared_error: 0.0568 - r2_score: 0.1091 - val_loss: 0.0412 - val_mean_squared_error: 0.0463 - val_r2_score: 0.1153\n",
      "Epoch 15/300\n",
      "\u001B[1m22/22\u001B[0m \u001B[32m━━━━━━━━━━━━━━━━━━━━\u001B[0m\u001B[37m\u001B[0m \u001B[1m0s\u001B[0m 4ms/step - loss: 0.0548 - mean_squared_error: 0.0548 - r2_score: 0.1632 - val_loss: 0.0374 - val_mean_squared_error: 0.0420 - val_r2_score: 0.1953\n",
      "Epoch 16/300\n",
      "\u001B[1m22/22\u001B[0m \u001B[32m━━━━━━━━━━━━━━━━━━━━\u001B[0m\u001B[37m\u001B[0m \u001B[1m0s\u001B[0m 4ms/step - loss: 0.0436 - mean_squared_error: 0.0436 - r2_score: 0.2694 - val_loss: 0.0343 - val_mean_squared_error: 0.0385 - val_r2_score: 0.2619\n",
      "Epoch 17/300\n",
      "\u001B[1m22/22\u001B[0m \u001B[32m━━━━━━━━━━━━━━━━━━━━\u001B[0m\u001B[37m\u001B[0m \u001B[1m0s\u001B[0m 4ms/step - loss: 0.0477 - mean_squared_error: 0.0477 - r2_score: 0.2871 - val_loss: 0.0314 - val_mean_squared_error: 0.0352 - val_r2_score: 0.3249\n",
      "Epoch 18/300\n",
      "\u001B[1m22/22\u001B[0m \u001B[32m━━━━━━━━━━━━━━━━━━━━\u001B[0m\u001B[37m\u001B[0m \u001B[1m0s\u001B[0m 4ms/step - loss: 0.0389 - mean_squared_error: 0.0389 - r2_score: 0.3602 - val_loss: 0.0289 - val_mean_squared_error: 0.0324 - val_r2_score: 0.3777\n",
      "Epoch 19/300\n",
      "\u001B[1m22/22\u001B[0m \u001B[32m━━━━━━━━━━━━━━━━━━━━\u001B[0m\u001B[37m\u001B[0m \u001B[1m0s\u001B[0m 4ms/step - loss: 0.0388 - mean_squared_error: 0.0388 - r2_score: 0.3977 - val_loss: 0.0266 - val_mean_squared_error: 0.0297 - val_r2_score: 0.4277\n",
      "Epoch 20/300\n",
      "\u001B[1m22/22\u001B[0m \u001B[32m━━━━━━━━━━━━━━━━━━━━\u001B[0m\u001B[37m\u001B[0m \u001B[1m0s\u001B[0m 4ms/step - loss: 0.0336 - mean_squared_error: 0.0336 - r2_score: 0.4398 - val_loss: 0.0246 - val_mean_squared_error: 0.0274 - val_r2_score: 0.4717\n",
      "Epoch 21/300\n",
      "\u001B[1m22/22\u001B[0m \u001B[32m━━━━━━━━━━━━━━━━━━━━\u001B[0m\u001B[37m\u001B[0m \u001B[1m0s\u001B[0m 4ms/step - loss: 0.0318 - mean_squared_error: 0.0318 - r2_score: 0.4732 - val_loss: 0.0228 - val_mean_squared_error: 0.0253 - val_r2_score: 0.5106\n",
      "Epoch 22/300\n",
      "\u001B[1m22/22\u001B[0m \u001B[32m━━━━━━━━━━━━━━━━━━━━\u001B[0m\u001B[37m\u001B[0m \u001B[1m0s\u001B[0m 4ms/step - loss: 0.0313 - mean_squared_error: 0.0313 - r2_score: 0.5056 - val_loss: 0.0211 - val_mean_squared_error: 0.0234 - val_r2_score: 0.5474\n",
      "Epoch 23/300\n",
      "\u001B[1m22/22\u001B[0m \u001B[32m━━━━━━━━━━━━━━━━━━━━\u001B[0m\u001B[37m\u001B[0m \u001B[1m0s\u001B[0m 4ms/step - loss: 0.0288 - mean_squared_error: 0.0288 - r2_score: 0.5364 - val_loss: 0.0195 - val_mean_squared_error: 0.0217 - val_r2_score: 0.5803\n",
      "Epoch 24/300\n",
      "\u001B[1m22/22\u001B[0m \u001B[32m━━━━━━━━━━━━━━━━━━━━\u001B[0m\u001B[37m\u001B[0m \u001B[1m0s\u001B[0m 4ms/step - loss: 0.0285 - mean_squared_error: 0.0285 - r2_score: 0.5618 - val_loss: 0.0181 - val_mean_squared_error: 0.0201 - val_r2_score: 0.6100\n",
      "Epoch 25/300\n",
      "\u001B[1m22/22\u001B[0m \u001B[32m━━━━━━━━━━━━━━━━━━━━\u001B[0m\u001B[37m\u001B[0m \u001B[1m0s\u001B[0m 4ms/step - loss: 0.0285 - mean_squared_error: 0.0285 - r2_score: 0.5856 - val_loss: 0.0168 - val_mean_squared_error: 0.0186 - val_r2_score: 0.6384\n",
      "Epoch 26/300\n",
      "\u001B[1m22/22\u001B[0m \u001B[32m━━━━━━━━━━━━━━━━━━━━\u001B[0m\u001B[37m\u001B[0m \u001B[1m0s\u001B[0m 4ms/step - loss: 0.0236 - mean_squared_error: 0.0236 - r2_score: 0.6230 - val_loss: 0.0157 - val_mean_squared_error: 0.0173 - val_r2_score: 0.6629\n",
      "Epoch 27/300\n",
      "\u001B[1m22/22\u001B[0m \u001B[32m━━━━━━━━━━━━━━━━━━━━\u001B[0m\u001B[37m\u001B[0m \u001B[1m0s\u001B[0m 4ms/step - loss: 0.0209 - mean_squared_error: 0.0209 - r2_score: 0.6479 - val_loss: 0.0146 - val_mean_squared_error: 0.0161 - val_r2_score: 0.6860\n",
      "Epoch 28/300\n",
      "\u001B[1m22/22\u001B[0m \u001B[32m━━━━━━━━━━━━━━━━━━━━\u001B[0m\u001B[37m\u001B[0m \u001B[1m0s\u001B[0m 4ms/step - loss: 0.0197 - mean_squared_error: 0.0197 - r2_score: 0.6754 - val_loss: 0.0136 - val_mean_squared_error: 0.0151 - val_r2_score: 0.7068\n",
      "Epoch 29/300\n",
      "\u001B[1m22/22\u001B[0m \u001B[32m━━━━━━━━━━━━━━━━━━━━\u001B[0m\u001B[37m\u001B[0m \u001B[1m0s\u001B[0m 4ms/step - loss: 0.0183 - mean_squared_error: 0.0183 - r2_score: 0.6895 - val_loss: 0.0127 - val_mean_squared_error: 0.0140 - val_r2_score: 0.7263\n",
      "Epoch 30/300\n",
      "\u001B[1m22/22\u001B[0m \u001B[32m━━━━━━━━━━━━━━━━━━━━\u001B[0m\u001B[37m\u001B[0m \u001B[1m0s\u001B[0m 4ms/step - loss: 0.0198 - mean_squared_error: 0.0198 - r2_score: 0.7105 - val_loss: 0.0119 - val_mean_squared_error: 0.0131 - val_r2_score: 0.7447\n",
      "Epoch 31/300\n",
      "\u001B[1m22/22\u001B[0m \u001B[32m━━━━━━━━━━━━━━━━━━━━\u001B[0m\u001B[37m\u001B[0m \u001B[1m0s\u001B[0m 4ms/step - loss: 0.0172 - mean_squared_error: 0.0172 - r2_score: 0.7293 - val_loss: 0.0111 - val_mean_squared_error: 0.0122 - val_r2_score: 0.7615\n",
      "Epoch 32/300\n",
      "\u001B[1m22/22\u001B[0m \u001B[32m━━━━━━━━━━━━━━━━━━━━\u001B[0m\u001B[37m\u001B[0m \u001B[1m0s\u001B[0m 4ms/step - loss: 0.0152 - mean_squared_error: 0.0152 - r2_score: 0.7573 - val_loss: 0.0104 - val_mean_squared_error: 0.0115 - val_r2_score: 0.7761\n",
      "Epoch 33/300\n",
      "\u001B[1m22/22\u001B[0m \u001B[32m━━━━━━━━━━━━━━━━━━━━\u001B[0m\u001B[37m\u001B[0m \u001B[1m0s\u001B[0m 4ms/step - loss: 0.0160 - mean_squared_error: 0.0160 - r2_score: 0.7551 - val_loss: 0.0098 - val_mean_squared_error: 0.0108 - val_r2_score: 0.7905\n",
      "Epoch 34/300\n",
      "\u001B[1m22/22\u001B[0m \u001B[32m━━━━━━━━━━━━━━━━━━━━\u001B[0m\u001B[37m\u001B[0m \u001B[1m0s\u001B[0m 4ms/step - loss: 0.0131 - mean_squared_error: 0.0131 - r2_score: 0.7819 - val_loss: 0.0092 - val_mean_squared_error: 0.0102 - val_r2_score: 0.8022\n",
      "Epoch 35/300\n",
      "\u001B[1m22/22\u001B[0m \u001B[32m━━━━━━━━━━━━━━━━━━━━\u001B[0m\u001B[37m\u001B[0m \u001B[1m0s\u001B[0m 4ms/step - loss: 0.0137 - mean_squared_error: 0.0137 - r2_score: 0.7928 - val_loss: 0.0087 - val_mean_squared_error: 0.0096 - val_r2_score: 0.8133\n",
      "Epoch 36/300\n",
      "\u001B[1m22/22\u001B[0m \u001B[32m━━━━━━━━━━━━━━━━━━━━\u001B[0m\u001B[37m\u001B[0m \u001B[1m0s\u001B[0m 4ms/step - loss: 0.0140 - mean_squared_error: 0.0140 - r2_score: 0.8014 - val_loss: 0.0082 - val_mean_squared_error: 0.0091 - val_r2_score: 0.8241\n",
      "Epoch 37/300\n",
      "\u001B[1m22/22\u001B[0m \u001B[32m━━━━━━━━━━━━━━━━━━━━\u001B[0m\u001B[37m\u001B[0m \u001B[1m0s\u001B[0m 5ms/step - loss: 0.0122 - mean_squared_error: 0.0122 - r2_score: 0.8111 - val_loss: 0.0078 - val_mean_squared_error: 0.0087 - val_r2_score: 0.8328\n",
      "Epoch 38/300\n",
      "\u001B[1m22/22\u001B[0m \u001B[32m━━━━━━━━━━━━━━━━━━━━\u001B[0m\u001B[37m\u001B[0m \u001B[1m0s\u001B[0m 5ms/step - loss: 0.0104 - mean_squared_error: 0.0104 - r2_score: 0.8252 - val_loss: 0.0074 - val_mean_squared_error: 0.0083 - val_r2_score: 0.8407\n",
      "Epoch 39/300\n",
      "\u001B[1m22/22\u001B[0m \u001B[32m━━━━━━━━━━━━━━━━━━━━\u001B[0m\u001B[37m\u001B[0m \u001B[1m0s\u001B[0m 4ms/step - loss: 0.0108 - mean_squared_error: 0.0108 - r2_score: 0.8347 - val_loss: 0.0071 - val_mean_squared_error: 0.0079 - val_r2_score: 0.8485\n",
      "Epoch 40/300\n",
      "\u001B[1m22/22\u001B[0m \u001B[32m━━━━━━━━━━━━━━━━━━━━\u001B[0m\u001B[37m\u001B[0m \u001B[1m0s\u001B[0m 4ms/step - loss: 0.0100 - mean_squared_error: 0.0100 - r2_score: 0.8461 - val_loss: 0.0067 - val_mean_squared_error: 0.0076 - val_r2_score: 0.8551\n",
      "Epoch 41/300\n",
      "\u001B[1m22/22\u001B[0m \u001B[32m━━━━━━━━━━━━━━━━━━━━\u001B[0m\u001B[37m\u001B[0m \u001B[1m0s\u001B[0m 4ms/step - loss: 0.0098 - mean_squared_error: 0.0098 - r2_score: 0.8493 - val_loss: 0.0065 - val_mean_squared_error: 0.0073 - val_r2_score: 0.8611\n",
      "Epoch 42/300\n",
      "\u001B[1m22/22\u001B[0m \u001B[32m━━━━━━━━━━━━━━━━━━━━\u001B[0m\u001B[37m\u001B[0m \u001B[1m0s\u001B[0m 4ms/step - loss: 0.0080 - mean_squared_error: 0.0080 - r2_score: 0.8663 - val_loss: 0.0062 - val_mean_squared_error: 0.0071 - val_r2_score: 0.8664\n",
      "Epoch 43/300\n",
      "\u001B[1m22/22\u001B[0m \u001B[32m━━━━━━━━━━━━━━━━━━━━\u001B[0m\u001B[37m\u001B[0m \u001B[1m0s\u001B[0m 4ms/step - loss: 0.0089 - mean_squared_error: 0.0089 - r2_score: 0.8638 - val_loss: 0.0060 - val_mean_squared_error: 0.0069 - val_r2_score: 0.8709\n",
      "Epoch 44/300\n",
      "\u001B[1m22/22\u001B[0m \u001B[32m━━━━━━━━━━━━━━━━━━━━\u001B[0m\u001B[37m\u001B[0m \u001B[1m0s\u001B[0m 4ms/step - loss: 0.0085 - mean_squared_error: 0.0085 - r2_score: 0.8683 - val_loss: 0.0058 - val_mean_squared_error: 0.0067 - val_r2_score: 0.8751\n",
      "Epoch 45/300\n",
      "\u001B[1m22/22\u001B[0m \u001B[32m━━━━━━━━━━━━━━━━━━━━\u001B[0m\u001B[37m\u001B[0m \u001B[1m0s\u001B[0m 4ms/step - loss: 0.0069 - mean_squared_error: 0.0069 - r2_score: 0.8712 - val_loss: 0.0057 - val_mean_squared_error: 0.0066 - val_r2_score: 0.8784\n",
      "Epoch 46/300\n",
      "\u001B[1m22/22\u001B[0m \u001B[32m━━━━━━━━━━━━━━━━━━━━\u001B[0m\u001B[37m\u001B[0m \u001B[1m0s\u001B[0m 4ms/step - loss: 0.0071 - mean_squared_error: 0.0071 - r2_score: 0.8856 - val_loss: 0.0055 - val_mean_squared_error: 0.0065 - val_r2_score: 0.8814\n",
      "Epoch 47/300\n",
      "\u001B[1m22/22\u001B[0m \u001B[32m━━━━━━━━━━━━━━━━━━━━\u001B[0m\u001B[37m\u001B[0m \u001B[1m0s\u001B[0m 4ms/step - loss: 0.0068 - mean_squared_error: 0.0068 - r2_score: 0.8937 - val_loss: 0.0054 - val_mean_squared_error: 0.0063 - val_r2_score: 0.8848\n",
      "Epoch 48/300\n",
      "\u001B[1m22/22\u001B[0m \u001B[32m━━━━━━━━━━━━━━━━━━━━\u001B[0m\u001B[37m\u001B[0m \u001B[1m0s\u001B[0m 4ms/step - loss: 0.0067 - mean_squared_error: 0.0067 - r2_score: 0.8954 - val_loss: 0.0052 - val_mean_squared_error: 0.0062 - val_r2_score: 0.8875\n",
      "Epoch 49/300\n",
      "\u001B[1m22/22\u001B[0m \u001B[32m━━━━━━━━━━━━━━━━━━━━\u001B[0m\u001B[37m\u001B[0m \u001B[1m0s\u001B[0m 4ms/step - loss: 0.0061 - mean_squared_error: 0.0061 - r2_score: 0.9041 - val_loss: 0.0051 - val_mean_squared_error: 0.0061 - val_r2_score: 0.8898\n",
      "Epoch 50/300\n",
      "\u001B[1m22/22\u001B[0m \u001B[32m━━━━━━━━━━━━━━━━━━━━\u001B[0m\u001B[37m\u001B[0m \u001B[1m0s\u001B[0m 4ms/step - loss: 0.0056 - mean_squared_error: 0.0056 - r2_score: 0.9091 - val_loss: 0.0051 - val_mean_squared_error: 0.0061 - val_r2_score: 0.8915\n",
      "Epoch 51/300\n",
      "\u001B[1m22/22\u001B[0m \u001B[32m━━━━━━━━━━━━━━━━━━━━\u001B[0m\u001B[37m\u001B[0m \u001B[1m0s\u001B[0m 4ms/step - loss: 0.0055 - mean_squared_error: 0.0055 - r2_score: 0.9123 - val_loss: 0.0050 - val_mean_squared_error: 0.0060 - val_r2_score: 0.8935\n",
      "Epoch 52/300\n",
      "\u001B[1m22/22\u001B[0m \u001B[32m━━━━━━━━━━━━━━━━━━━━\u001B[0m\u001B[37m\u001B[0m \u001B[1m0s\u001B[0m 4ms/step - loss: 0.0056 - mean_squared_error: 0.0056 - r2_score: 0.9196 - val_loss: 0.0050 - val_mean_squared_error: 0.0061 - val_r2_score: 0.8939\n",
      "Epoch 53/300\n",
      "\u001B[1m22/22\u001B[0m \u001B[32m━━━━━━━━━━━━━━━━━━━━\u001B[0m\u001B[37m\u001B[0m \u001B[1m0s\u001B[0m 4ms/step - loss: 0.0054 - mean_squared_error: 0.0054 - r2_score: 0.9156 - val_loss: 0.0048 - val_mean_squared_error: 0.0059 - val_r2_score: 0.8966\n",
      "Epoch 54/300\n",
      "\u001B[1m22/22\u001B[0m \u001B[32m━━━━━━━━━━━━━━━━━━━━\u001B[0m\u001B[37m\u001B[0m \u001B[1m0s\u001B[0m 4ms/step - loss: 0.0051 - mean_squared_error: 0.0051 - r2_score: 0.9200 - val_loss: 0.0048 - val_mean_squared_error: 0.0059 - val_r2_score: 0.8975\n",
      "Epoch 55/300\n",
      "\u001B[1m22/22\u001B[0m \u001B[32m━━━━━━━━━━━━━━━━━━━━\u001B[0m\u001B[37m\u001B[0m \u001B[1m0s\u001B[0m 3ms/step - loss: 0.0053 - mean_squared_error: 0.0053 - r2_score: 0.9220 - val_loss: 0.0048 - val_mean_squared_error: 0.0060 - val_r2_score: 0.8974\n",
      "Epoch 56/300\n",
      "\u001B[1m22/22\u001B[0m \u001B[32m━━━━━━━━━━━━━━━━━━━━\u001B[0m\u001B[37m\u001B[0m \u001B[1m0s\u001B[0m 4ms/step - loss: 0.0046 - mean_squared_error: 0.0046 - r2_score: 0.9269 - val_loss: 0.0047 - val_mean_squared_error: 0.0060 - val_r2_score: 0.8984\n",
      "Epoch 57/300\n",
      "\u001B[1m22/22\u001B[0m \u001B[32m━━━━━━━━━━━━━━━━━━━━\u001B[0m\u001B[37m\u001B[0m \u001B[1m0s\u001B[0m 4ms/step - loss: 0.0048 - mean_squared_error: 0.0048 - r2_score: 0.9270 - val_loss: 0.0047 - val_mean_squared_error: 0.0060 - val_r2_score: 0.8997\n",
      "Epoch 58/300\n",
      "\u001B[1m22/22\u001B[0m \u001B[32m━━━━━━━━━━━━━━━━━━━━\u001B[0m\u001B[37m\u001B[0m \u001B[1m0s\u001B[0m 3ms/step - loss: 0.0046 - mean_squared_error: 0.0046 - r2_score: 0.9272 - val_loss: 0.0047 - val_mean_squared_error: 0.0060 - val_r2_score: 0.8995\n",
      "Epoch 59/300\n",
      "\u001B[1m22/22\u001B[0m \u001B[32m━━━━━━━━━━━━━━━━━━━━\u001B[0m\u001B[37m\u001B[0m \u001B[1m0s\u001B[0m 4ms/step - loss: 0.0041 - mean_squared_error: 0.0041 - r2_score: 0.9327 - val_loss: 0.0046 - val_mean_squared_error: 0.0060 - val_r2_score: 0.9005\n",
      "Epoch 60/300\n",
      "\u001B[1m22/22\u001B[0m \u001B[32m━━━━━━━━━━━━━━━━━━━━\u001B[0m\u001B[37m\u001B[0m \u001B[1m0s\u001B[0m 4ms/step - loss: 0.0042 - mean_squared_error: 0.0042 - r2_score: 0.9324 - val_loss: 0.0046 - val_mean_squared_error: 0.0060 - val_r2_score: 0.9008\n",
      "Epoch 61/300\n",
      "\u001B[1m22/22\u001B[0m \u001B[32m━━━━━━━━━━━━━━━━━━━━\u001B[0m\u001B[37m\u001B[0m \u001B[1m0s\u001B[0m 4ms/step - loss: 0.0040 - mean_squared_error: 0.0040 - r2_score: 0.9284 - val_loss: 0.0046 - val_mean_squared_error: 0.0061 - val_r2_score: 0.9011\n",
      "Epoch 62/300\n",
      "\u001B[1m22/22\u001B[0m \u001B[32m━━━━━━━━━━━━━━━━━━━━\u001B[0m\u001B[37m\u001B[0m \u001B[1m0s\u001B[0m 4ms/step - loss: 0.0038 - mean_squared_error: 0.0038 - r2_score: 0.9352 - val_loss: 0.0047 - val_mean_squared_error: 0.0062 - val_r2_score: 0.9003\n",
      "Epoch 63/300\n",
      "\u001B[1m22/22\u001B[0m \u001B[32m━━━━━━━━━━━━━━━━━━━━\u001B[0m\u001B[37m\u001B[0m \u001B[1m0s\u001B[0m 4ms/step - loss: 0.0039 - mean_squared_error: 0.0039 - r2_score: 0.9363 - val_loss: 0.0046 - val_mean_squared_error: 0.0061 - val_r2_score: 0.9016\n",
      "Epoch 64/300\n",
      "\u001B[1m22/22\u001B[0m \u001B[32m━━━━━━━━━━━━━━━━━━━━\u001B[0m\u001B[37m\u001B[0m \u001B[1m0s\u001B[0m 4ms/step - loss: 0.0037 - mean_squared_error: 0.0037 - r2_score: 0.9404 - val_loss: 0.0046 - val_mean_squared_error: 0.0062 - val_r2_score: 0.9005\n",
      "Epoch 65/300\n",
      "\u001B[1m22/22\u001B[0m \u001B[32m━━━━━━━━━━━━━━━━━━━━\u001B[0m\u001B[37m\u001B[0m \u001B[1m0s\u001B[0m 3ms/step - loss: 0.0038 - mean_squared_error: 0.0038 - r2_score: 0.9392 - val_loss: 0.0046 - val_mean_squared_error: 0.0062 - val_r2_score: 0.9010\n",
      "Epoch 66/300\n",
      "\u001B[1m22/22\u001B[0m \u001B[32m━━━━━━━━━━━━━━━━━━━━\u001B[0m\u001B[37m\u001B[0m \u001B[1m0s\u001B[0m 4ms/step - loss: 0.0040 - mean_squared_error: 0.0040 - r2_score: 0.9398 - val_loss: 0.0047 - val_mean_squared_error: 0.0064 - val_r2_score: 0.8998\n",
      "Epoch 67/300\n",
      "\u001B[1m22/22\u001B[0m \u001B[32m━━━━━━━━━━━━━━━━━━━━\u001B[0m\u001B[37m\u001B[0m \u001B[1m0s\u001B[0m 4ms/step - loss: 0.0039 - mean_squared_error: 0.0039 - r2_score: 0.9399 - val_loss: 0.0046 - val_mean_squared_error: 0.0063 - val_r2_score: 0.9009\n",
      "Epoch 68/300\n",
      "\u001B[1m22/22\u001B[0m \u001B[32m━━━━━━━━━━━━━━━━━━━━\u001B[0m\u001B[37m\u001B[0m \u001B[1m0s\u001B[0m 4ms/step - loss: 0.0038 - mean_squared_error: 0.0038 - r2_score: 0.9431 - val_loss: 0.0046 - val_mean_squared_error: 0.0064 - val_r2_score: 0.9006\n",
      "Epoch 69/300\n",
      "\u001B[1m22/22\u001B[0m \u001B[32m━━━━━━━━━━━━━━━━━━━━\u001B[0m\u001B[37m\u001B[0m \u001B[1m0s\u001B[0m 4ms/step - loss: 0.0036 - mean_squared_error: 0.0036 - r2_score: 0.9438 - val_loss: 0.0046 - val_mean_squared_error: 0.0064 - val_r2_score: 0.9009\n",
      "Epoch 70/300\n",
      "\u001B[1m22/22\u001B[0m \u001B[32m━━━━━━━━━━━━━━━━━━━━\u001B[0m\u001B[37m\u001B[0m \u001B[1m0s\u001B[0m 4ms/step - loss: 0.0035 - mean_squared_error: 0.0035 - r2_score: 0.9463 - val_loss: 0.0047 - val_mean_squared_error: 0.0064 - val_r2_score: 0.9002\n",
      "Epoch 71/300\n",
      "\u001B[1m22/22\u001B[0m \u001B[32m━━━━━━━━━━━━━━━━━━━━\u001B[0m\u001B[37m\u001B[0m \u001B[1m0s\u001B[0m 4ms/step - loss: 0.0034 - mean_squared_error: 0.0034 - r2_score: 0.9426 - val_loss: 0.0047 - val_mean_squared_error: 0.0065 - val_r2_score: 0.9003\n",
      "Epoch 72/300\n",
      "\u001B[1m22/22\u001B[0m \u001B[32m━━━━━━━━━━━━━━━━━━━━\u001B[0m\u001B[37m\u001B[0m \u001B[1m0s\u001B[0m 4ms/step - loss: 0.0031 - mean_squared_error: 0.0031 - r2_score: 0.9490 - val_loss: 0.0047 - val_mean_squared_error: 0.0066 - val_r2_score: 0.8990\n",
      "Epoch 73/300\n",
      "\u001B[1m22/22\u001B[0m \u001B[32m━━━━━━━━━━━━━━━━━━━━\u001B[0m\u001B[37m\u001B[0m \u001B[1m0s\u001B[0m 4ms/step - loss: 0.0033 - mean_squared_error: 0.0033 - r2_score: 0.9471 - val_loss: 0.0047 - val_mean_squared_error: 0.0065 - val_r2_score: 0.9000\n",
      "Epoch 74/300\n",
      "\u001B[1m22/22\u001B[0m \u001B[32m━━━━━━━━━━━━━━━━━━━━\u001B[0m\u001B[37m\u001B[0m \u001B[1m0s\u001B[0m 4ms/step - loss: 0.0034 - mean_squared_error: 0.0034 - r2_score: 0.9462 - val_loss: 0.0047 - val_mean_squared_error: 0.0066 - val_r2_score: 0.8990\n",
      "Epoch 75/300\n",
      "\u001B[1m22/22\u001B[0m \u001B[32m━━━━━━━━━━━━━━━━━━━━\u001B[0m\u001B[37m\u001B[0m \u001B[1m0s\u001B[0m 4ms/step - loss: 0.0034 - mean_squared_error: 0.0034 - r2_score: 0.9465 - val_loss: 0.0047 - val_mean_squared_error: 0.0067 - val_r2_score: 0.8990\n",
      "Epoch 76/300\n",
      "\u001B[1m22/22\u001B[0m \u001B[32m━━━━━━━━━━━━━━━━━━━━\u001B[0m\u001B[37m\u001B[0m \u001B[1m0s\u001B[0m 4ms/step - loss: 0.0033 - mean_squared_error: 0.0033 - r2_score: 0.9459 - val_loss: 0.0047 - val_mean_squared_error: 0.0067 - val_r2_score: 0.8994\n",
      "Epoch 77/300\n",
      "\u001B[1m22/22\u001B[0m \u001B[32m━━━━━━━━━━━━━━━━━━━━\u001B[0m\u001B[37m\u001B[0m \u001B[1m0s\u001B[0m 4ms/step - loss: 0.0032 - mean_squared_error: 0.0032 - r2_score: 0.9460 - val_loss: 0.0047 - val_mean_squared_error: 0.0067 - val_r2_score: 0.8989\n",
      "Epoch 78/300\n",
      "\u001B[1m22/22\u001B[0m \u001B[32m━━━━━━━━━━━━━━━━━━━━\u001B[0m\u001B[37m\u001B[0m \u001B[1m0s\u001B[0m 4ms/step - loss: 0.0031 - mean_squared_error: 0.0031 - r2_score: 0.9512 - val_loss: 0.0048 - val_mean_squared_error: 0.0068 - val_r2_score: 0.8978\n",
      "Epoch 79/300\n",
      "\u001B[1m22/22\u001B[0m \u001B[32m━━━━━━━━━━━━━━━━━━━━\u001B[0m\u001B[37m\u001B[0m \u001B[1m0s\u001B[0m 4ms/step - loss: 0.0029 - mean_squared_error: 0.0029 - r2_score: 0.9546 - val_loss: 0.0048 - val_mean_squared_error: 0.0069 - val_r2_score: 0.8978\n",
      "Epoch 80/300\n",
      "\u001B[1m22/22\u001B[0m \u001B[32m━━━━━━━━━━━━━━━━━━━━\u001B[0m\u001B[37m\u001B[0m \u001B[1m0s\u001B[0m 4ms/step - loss: 0.0031 - mean_squared_error: 0.0031 - r2_score: 0.9544 - val_loss: 0.0048 - val_mean_squared_error: 0.0069 - val_r2_score: 0.8976\n",
      "Epoch 81/300\n",
      "\u001B[1m22/22\u001B[0m \u001B[32m━━━━━━━━━━━━━━━━━━━━\u001B[0m\u001B[37m\u001B[0m \u001B[1m0s\u001B[0m 4ms/step - loss: 0.0030 - mean_squared_error: 0.0030 - r2_score: 0.9509 - val_loss: 0.0048 - val_mean_squared_error: 0.0069 - val_r2_score: 0.8983\n",
      "Epoch 82/300\n",
      "\u001B[1m22/22\u001B[0m \u001B[32m━━━━━━━━━━━━━━━━━━━━\u001B[0m\u001B[37m\u001B[0m \u001B[1m0s\u001B[0m 4ms/step - loss: 0.0030 - mean_squared_error: 0.0030 - r2_score: 0.9512 - val_loss: 0.0048 - val_mean_squared_error: 0.0069 - val_r2_score: 0.8981\n",
      "Epoch 83/300\n",
      "\u001B[1m22/22\u001B[0m \u001B[32m━━━━━━━━━━━━━━━━━━━━\u001B[0m\u001B[37m\u001B[0m \u001B[1m0s\u001B[0m 4ms/step - loss: 0.0029 - mean_squared_error: 0.0029 - r2_score: 0.9546 - val_loss: 0.0048 - val_mean_squared_error: 0.0070 - val_r2_score: 0.8974\n",
      "Epoch 84/300\n",
      "\u001B[1m22/22\u001B[0m \u001B[32m━━━━━━━━━━━━━━━━━━━━\u001B[0m\u001B[37m\u001B[0m \u001B[1m0s\u001B[0m 4ms/step - loss: 0.0030 - mean_squared_error: 0.0030 - r2_score: 0.9532 - val_loss: 0.0048 - val_mean_squared_error: 0.0070 - val_r2_score: 0.8970\n",
      "Epoch 85/300\n",
      "\u001B[1m22/22\u001B[0m \u001B[32m━━━━━━━━━━━━━━━━━━━━\u001B[0m\u001B[37m\u001B[0m \u001B[1m0s\u001B[0m 4ms/step - loss: 0.0030 - mean_squared_error: 0.0030 - r2_score: 0.9533 - val_loss: 0.0048 - val_mean_squared_error: 0.0070 - val_r2_score: 0.8972\n",
      "Epoch 86/300\n",
      "\u001B[1m22/22\u001B[0m \u001B[32m━━━━━━━━━━━━━━━━━━━━\u001B[0m\u001B[37m\u001B[0m \u001B[1m0s\u001B[0m 4ms/step - loss: 0.0030 - mean_squared_error: 0.0030 - r2_score: 0.9554 - val_loss: 0.0048 - val_mean_squared_error: 0.0071 - val_r2_score: 0.8970\n",
      "Epoch 87/300\n",
      "\u001B[1m22/22\u001B[0m \u001B[32m━━━━━━━━━━━━━━━━━━━━\u001B[0m\u001B[37m\u001B[0m \u001B[1m0s\u001B[0m 4ms/step - loss: 0.0030 - mean_squared_error: 0.0030 - r2_score: 0.9546 - val_loss: 0.0048 - val_mean_squared_error: 0.0070 - val_r2_score: 0.8977\n",
      "Epoch 88/300\n",
      "\u001B[1m22/22\u001B[0m \u001B[32m━━━━━━━━━━━━━━━━━━━━\u001B[0m\u001B[37m\u001B[0m \u001B[1m0s\u001B[0m 4ms/step - loss: 0.0030 - mean_squared_error: 0.0030 - r2_score: 0.9535 - val_loss: 0.0048 - val_mean_squared_error: 0.0071 - val_r2_score: 0.8970\n",
      "Epoch 89/300\n",
      "\u001B[1m22/22\u001B[0m \u001B[32m━━━━━━━━━━━━━━━━━━━━\u001B[0m\u001B[37m\u001B[0m \u001B[1m0s\u001B[0m 4ms/step - loss: 0.0028 - mean_squared_error: 0.0028 - r2_score: 0.9568 - val_loss: 0.0049 - val_mean_squared_error: 0.0073 - val_r2_score: 0.8951\n",
      "Epoch 90/300\n",
      "\u001B[1m22/22\u001B[0m \u001B[32m━━━━━━━━━━━━━━━━━━━━\u001B[0m\u001B[37m\u001B[0m \u001B[1m0s\u001B[0m 4ms/step - loss: 0.0028 - mean_squared_error: 0.0028 - r2_score: 0.9532 - val_loss: 0.0048 - val_mean_squared_error: 0.0071 - val_r2_score: 0.8972\n",
      "Epoch 91/300\n",
      "\u001B[1m22/22\u001B[0m \u001B[32m━━━━━━━━━━━━━━━━━━━━\u001B[0m\u001B[37m\u001B[0m \u001B[1m0s\u001B[0m 4ms/step - loss: 0.0028 - mean_squared_error: 0.0028 - r2_score: 0.9553 - val_loss: 0.0048 - val_mean_squared_error: 0.0072 - val_r2_score: 0.8963\n",
      "Epoch 92/300\n",
      "\u001B[1m22/22\u001B[0m \u001B[32m━━━━━━━━━━━━━━━━━━━━\u001B[0m\u001B[37m\u001B[0m \u001B[1m0s\u001B[0m 4ms/step - loss: 0.0027 - mean_squared_error: 0.0027 - r2_score: 0.9592 - val_loss: 0.0049 - val_mean_squared_error: 0.0073 - val_r2_score: 0.8956\n",
      "Epoch 93/300\n",
      "\u001B[1m22/22\u001B[0m \u001B[32m━━━━━━━━━━━━━━━━━━━━\u001B[0m\u001B[37m\u001B[0m \u001B[1m0s\u001B[0m 4ms/step - loss: 0.0027 - mean_squared_error: 0.0027 - r2_score: 0.9575 - val_loss: 0.0048 - val_mean_squared_error: 0.0072 - val_r2_score: 0.8964\n",
      "Epoch 94/300\n",
      "\u001B[1m22/22\u001B[0m \u001B[32m━━━━━━━━━━━━━━━━━━━━\u001B[0m\u001B[37m\u001B[0m \u001B[1m0s\u001B[0m 4ms/step - loss: 0.0029 - mean_squared_error: 0.0029 - r2_score: 0.9560 - val_loss: 0.0049 - val_mean_squared_error: 0.0073 - val_r2_score: 0.8953\n",
      "Epoch 95/300\n",
      "\u001B[1m22/22\u001B[0m \u001B[32m━━━━━━━━━━━━━━━━━━━━\u001B[0m\u001B[37m\u001B[0m \u001B[1m0s\u001B[0m 4ms/step - loss: 0.0029 - mean_squared_error: 0.0029 - r2_score: 0.9526 - val_loss: 0.0049 - val_mean_squared_error: 0.0073 - val_r2_score: 0.8952\n",
      "Epoch 96/300\n",
      "\u001B[1m22/22\u001B[0m \u001B[32m━━━━━━━━━━━━━━━━━━━━\u001B[0m\u001B[37m\u001B[0m \u001B[1m0s\u001B[0m 4ms/step - loss: 0.0026 - mean_squared_error: 0.0026 - r2_score: 0.9561 - val_loss: 0.0049 - val_mean_squared_error: 0.0074 - val_r2_score: 0.8951\n",
      "Epoch 97/300\n",
      "\u001B[1m22/22\u001B[0m \u001B[32m━━━━━━━━━━━━━━━━━━━━\u001B[0m\u001B[37m\u001B[0m \u001B[1m0s\u001B[0m 4ms/step - loss: 0.0026 - mean_squared_error: 0.0026 - r2_score: 0.9559 - val_loss: 0.0049 - val_mean_squared_error: 0.0074 - val_r2_score: 0.8951\n",
      "Epoch 98/300\n",
      "\u001B[1m22/22\u001B[0m \u001B[32m━━━━━━━━━━━━━━━━━━━━\u001B[0m\u001B[37m\u001B[0m \u001B[1m0s\u001B[0m 5ms/step - loss: 0.0025 - mean_squared_error: 0.0025 - r2_score: 0.9610 - val_loss: 0.0049 - val_mean_squared_error: 0.0073 - val_r2_score: 0.8954\n",
      "Epoch 99/300\n",
      "\u001B[1m22/22\u001B[0m \u001B[32m━━━━━━━━━━━━━━━━━━━━\u001B[0m\u001B[37m\u001B[0m \u001B[1m0s\u001B[0m 4ms/step - loss: 0.0028 - mean_squared_error: 0.0028 - r2_score: 0.9567 - val_loss: 0.0049 - val_mean_squared_error: 0.0074 - val_r2_score: 0.8946\n",
      "Epoch 100/300\n",
      "\u001B[1m22/22\u001B[0m \u001B[32m━━━━━━━━━━━━━━━━━━━━\u001B[0m\u001B[37m\u001B[0m \u001B[1m0s\u001B[0m 4ms/step - loss: 0.0026 - mean_squared_error: 0.0026 - r2_score: 0.9598 - val_loss: 0.0049 - val_mean_squared_error: 0.0074 - val_r2_score: 0.8954\n",
      "Epoch 101/300\n",
      "\u001B[1m22/22\u001B[0m \u001B[32m━━━━━━━━━━━━━━━━━━━━\u001B[0m\u001B[37m\u001B[0m \u001B[1m0s\u001B[0m 4ms/step - loss: 0.0028 - mean_squared_error: 0.0028 - r2_score: 0.9588 - val_loss: 0.0050 - val_mean_squared_error: 0.0075 - val_r2_score: 0.8935\n",
      "Epoch 102/300\n",
      "\u001B[1m22/22\u001B[0m \u001B[32m━━━━━━━━━━━━━━━━━━━━\u001B[0m\u001B[37m\u001B[0m \u001B[1m0s\u001B[0m 4ms/step - loss: 0.0026 - mean_squared_error: 0.0026 - r2_score: 0.9565 - val_loss: 0.0050 - val_mean_squared_error: 0.0075 - val_r2_score: 0.8936\n",
      "Epoch 103/300\n",
      "\u001B[1m22/22\u001B[0m \u001B[32m━━━━━━━━━━━━━━━━━━━━\u001B[0m\u001B[37m\u001B[0m \u001B[1m0s\u001B[0m 4ms/step - loss: 0.0026 - mean_squared_error: 0.0026 - r2_score: 0.9602 - val_loss: 0.0049 - val_mean_squared_error: 0.0075 - val_r2_score: 0.8946\n",
      "Epoch 104/300\n",
      "\u001B[1m22/22\u001B[0m \u001B[32m━━━━━━━━━━━━━━━━━━━━\u001B[0m\u001B[37m\u001B[0m \u001B[1m0s\u001B[0m 4ms/step - loss: 0.0026 - mean_squared_error: 0.0026 - r2_score: 0.9586 - val_loss: 0.0050 - val_mean_squared_error: 0.0076 - val_r2_score: 0.8933\n",
      "Epoch 105/300\n",
      "\u001B[1m22/22\u001B[0m \u001B[32m━━━━━━━━━━━━━━━━━━━━\u001B[0m\u001B[37m\u001B[0m \u001B[1m0s\u001B[0m 4ms/step - loss: 0.0025 - mean_squared_error: 0.0025 - r2_score: 0.9611 - val_loss: 0.0049 - val_mean_squared_error: 0.0074 - val_r2_score: 0.8956\n",
      "Epoch 106/300\n",
      "\u001B[1m22/22\u001B[0m \u001B[32m━━━━━━━━━━━━━━━━━━━━\u001B[0m\u001B[37m\u001B[0m \u001B[1m0s\u001B[0m 4ms/step - loss: 0.0027 - mean_squared_error: 0.0027 - r2_score: 0.9535 - val_loss: 0.0051 - val_mean_squared_error: 0.0077 - val_r2_score: 0.8913\n",
      "Epoch 107/300\n",
      "\u001B[1m22/22\u001B[0m \u001B[32m━━━━━━━━━━━━━━━━━━━━\u001B[0m\u001B[37m\u001B[0m \u001B[1m0s\u001B[0m 4ms/step - loss: 0.0027 - mean_squared_error: 0.0027 - r2_score: 0.9589 - val_loss: 0.0050 - val_mean_squared_error: 0.0076 - val_r2_score: 0.8939\n",
      "Epoch 108/300\n",
      "\u001B[1m22/22\u001B[0m \u001B[32m━━━━━━━━━━━━━━━━━━━━\u001B[0m\u001B[37m\u001B[0m \u001B[1m0s\u001B[0m 4ms/step - loss: 0.0024 - mean_squared_error: 0.0024 - r2_score: 0.9599 - val_loss: 0.0050 - val_mean_squared_error: 0.0076 - val_r2_score: 0.8938\n",
      "Epoch 109/300\n",
      "\u001B[1m22/22\u001B[0m \u001B[32m━━━━━━━━━━━━━━━━━━━━\u001B[0m\u001B[37m\u001B[0m \u001B[1m0s\u001B[0m 4ms/step - loss: 0.0026 - mean_squared_error: 0.0026 - r2_score: 0.9617 - val_loss: 0.0050 - val_mean_squared_error: 0.0076 - val_r2_score: 0.8932\n",
      "Epoch 110/300\n",
      "\u001B[1m22/22\u001B[0m \u001B[32m━━━━━━━━━━━━━━━━━━━━\u001B[0m\u001B[37m\u001B[0m \u001B[1m0s\u001B[0m 4ms/step - loss: 0.0023 - mean_squared_error: 0.0023 - r2_score: 0.9634 - val_loss: 0.0050 - val_mean_squared_error: 0.0077 - val_r2_score: 0.8923\n",
      "Epoch 111/300\n",
      "\u001B[1m22/22\u001B[0m \u001B[32m━━━━━━━━━━━━━━━━━━━━\u001B[0m\u001B[37m\u001B[0m \u001B[1m0s\u001B[0m 4ms/step - loss: 0.0025 - mean_squared_error: 0.0025 - r2_score: 0.9611 - val_loss: 0.0050 - val_mean_squared_error: 0.0077 - val_r2_score: 0.8924\n",
      "Epoch 112/300\n",
      "\u001B[1m22/22\u001B[0m \u001B[32m━━━━━━━━━━━━━━━━━━━━\u001B[0m\u001B[37m\u001B[0m \u001B[1m0s\u001B[0m 4ms/step - loss: 0.0025 - mean_squared_error: 0.0025 - r2_score: 0.9634 - val_loss: 0.0050 - val_mean_squared_error: 0.0077 - val_r2_score: 0.8927\n",
      "Epoch 113/300\n",
      "\u001B[1m22/22\u001B[0m \u001B[32m━━━━━━━━━━━━━━━━━━━━\u001B[0m\u001B[37m\u001B[0m \u001B[1m0s\u001B[0m 4ms/step - loss: 0.0024 - mean_squared_error: 0.0024 - r2_score: 0.9627 - val_loss: 0.0051 - val_mean_squared_error: 0.0078 - val_r2_score: 0.8908\n",
      "Epoch 114/300\n",
      "\u001B[1m22/22\u001B[0m \u001B[32m━━━━━━━━━━━━━━━━━━━━\u001B[0m\u001B[37m\u001B[0m \u001B[1m0s\u001B[0m 4ms/step - loss: 0.0025 - mean_squared_error: 0.0025 - r2_score: 0.9610 - val_loss: 0.0050 - val_mean_squared_error: 0.0077 - val_r2_score: 0.8923\n",
      "Epoch 115/300\n",
      "\u001B[1m22/22\u001B[0m \u001B[32m━━━━━━━━━━━━━━━━━━━━\u001B[0m\u001B[37m\u001B[0m \u001B[1m0s\u001B[0m 4ms/step - loss: 0.0025 - mean_squared_error: 0.0025 - r2_score: 0.9616 - val_loss: 0.0051 - val_mean_squared_error: 0.0078 - val_r2_score: 0.8919\n",
      "Epoch 116/300\n",
      "\u001B[1m22/22\u001B[0m \u001B[32m━━━━━━━━━━━━━━━━━━━━\u001B[0m\u001B[37m\u001B[0m \u001B[1m0s\u001B[0m 4ms/step - loss: 0.0026 - mean_squared_error: 0.0026 - r2_score: 0.9599 - val_loss: 0.0051 - val_mean_squared_error: 0.0078 - val_r2_score: 0.8911\n",
      "Epoch 117/300\n",
      "\u001B[1m22/22\u001B[0m \u001B[32m━━━━━━━━━━━━━━━━━━━━\u001B[0m\u001B[37m\u001B[0m \u001B[1m0s\u001B[0m 4ms/step - loss: 0.0024 - mean_squared_error: 0.0024 - r2_score: 0.9627 - val_loss: 0.0051 - val_mean_squared_error: 0.0078 - val_r2_score: 0.8918\n",
      "Epoch 118/300\n",
      "\u001B[1m22/22\u001B[0m \u001B[32m━━━━━━━━━━━━━━━━━━━━\u001B[0m\u001B[37m\u001B[0m \u001B[1m0s\u001B[0m 4ms/step - loss: 0.0023 - mean_squared_error: 0.0023 - r2_score: 0.9621 - val_loss: 0.0051 - val_mean_squared_error: 0.0078 - val_r2_score: 0.8917\n",
      "Epoch 119/300\n",
      "\u001B[1m22/22\u001B[0m \u001B[32m━━━━━━━━━━━━━━━━━━━━\u001B[0m\u001B[37m\u001B[0m \u001B[1m0s\u001B[0m 4ms/step - loss: 0.0025 - mean_squared_error: 0.0025 - r2_score: 0.9603 - val_loss: 0.0051 - val_mean_squared_error: 0.0078 - val_r2_score: 0.8916\n",
      "Epoch 120/300\n",
      "\u001B[1m22/22\u001B[0m \u001B[32m━━━━━━━━━━━━━━━━━━━━\u001B[0m\u001B[37m\u001B[0m \u001B[1m0s\u001B[0m 4ms/step - loss: 0.0025 - mean_squared_error: 0.0025 - r2_score: 0.9589 - val_loss: 0.0051 - val_mean_squared_error: 0.0078 - val_r2_score: 0.8916\n",
      "Epoch 121/300\n",
      "\u001B[1m22/22\u001B[0m \u001B[32m━━━━━━━━━━━━━━━━━━━━\u001B[0m\u001B[37m\u001B[0m \u001B[1m0s\u001B[0m 4ms/step - loss: 0.0026 - mean_squared_error: 0.0026 - r2_score: 0.9608 - val_loss: 0.0052 - val_mean_squared_error: 0.0080 - val_r2_score: 0.8896\n",
      "Epoch 122/300\n",
      "\u001B[1m22/22\u001B[0m \u001B[32m━━━━━━━━━━━━━━━━━━━━\u001B[0m\u001B[37m\u001B[0m \u001B[1m0s\u001B[0m 4ms/step - loss: 0.0023 - mean_squared_error: 0.0023 - r2_score: 0.9644 - val_loss: 0.0050 - val_mean_squared_error: 0.0077 - val_r2_score: 0.8929\n",
      "Epoch 123/300\n",
      "\u001B[1m22/22\u001B[0m \u001B[32m━━━━━━━━━━━━━━━━━━━━\u001B[0m\u001B[37m\u001B[0m \u001B[1m0s\u001B[0m 4ms/step - loss: 0.0023 - mean_squared_error: 0.0023 - r2_score: 0.9609 - val_loss: 0.0051 - val_mean_squared_error: 0.0079 - val_r2_score: 0.8903\n",
      "Epoch 124/300\n",
      "\u001B[1m22/22\u001B[0m \u001B[32m━━━━━━━━━━━━━━━━━━━━\u001B[0m\u001B[37m\u001B[0m \u001B[1m0s\u001B[0m 4ms/step - loss: 0.0022 - mean_squared_error: 0.0022 - r2_score: 0.9630 - val_loss: 0.0051 - val_mean_squared_error: 0.0079 - val_r2_score: 0.8903\n",
      "Epoch 125/300\n",
      "\u001B[1m22/22\u001B[0m \u001B[32m━━━━━━━━━━━━━━━━━━━━\u001B[0m\u001B[37m\u001B[0m \u001B[1m0s\u001B[0m 4ms/step - loss: 0.0024 - mean_squared_error: 0.0024 - r2_score: 0.9596 - val_loss: 0.0051 - val_mean_squared_error: 0.0080 - val_r2_score: 0.8900\n",
      "Epoch 126/300\n",
      "\u001B[1m22/22\u001B[0m \u001B[32m━━━━━━━━━━━━━━━━━━━━\u001B[0m\u001B[37m\u001B[0m \u001B[1m0s\u001B[0m 4ms/step - loss: 0.0024 - mean_squared_error: 0.0024 - r2_score: 0.9595 - val_loss: 0.0050 - val_mean_squared_error: 0.0078 - val_r2_score: 0.8925\n",
      "Epoch 127/300\n",
      "\u001B[1m22/22\u001B[0m \u001B[32m━━━━━━━━━━━━━━━━━━━━\u001B[0m\u001B[37m\u001B[0m \u001B[1m0s\u001B[0m 4ms/step - loss: 0.0023 - mean_squared_error: 0.0023 - r2_score: 0.9651 - val_loss: 0.0052 - val_mean_squared_error: 0.0080 - val_r2_score: 0.8890\n",
      "Epoch 128/300\n",
      "\u001B[1m22/22\u001B[0m \u001B[32m━━━━━━━━━━━━━━━━━━━━\u001B[0m\u001B[37m\u001B[0m \u001B[1m0s\u001B[0m 4ms/step - loss: 0.0022 - mean_squared_error: 0.0022 - r2_score: 0.9652 - val_loss: 0.0052 - val_mean_squared_error: 0.0081 - val_r2_score: 0.8888\n",
      "Epoch 129/300\n",
      "\u001B[1m22/22\u001B[0m \u001B[32m━━━━━━━━━━━━━━━━━━━━\u001B[0m\u001B[37m\u001B[0m \u001B[1m0s\u001B[0m 4ms/step - loss: 0.0024 - mean_squared_error: 0.0024 - r2_score: 0.9622 - val_loss: 0.0051 - val_mean_squared_error: 0.0079 - val_r2_score: 0.8910\n",
      "Epoch 130/300\n",
      "\u001B[1m22/22\u001B[0m \u001B[32m━━━━━━━━━━━━━━━━━━━━\u001B[0m\u001B[37m\u001B[0m \u001B[1m0s\u001B[0m 4ms/step - loss: 0.0024 - mean_squared_error: 0.0024 - r2_score: 0.9609 - val_loss: 0.0052 - val_mean_squared_error: 0.0080 - val_r2_score: 0.8895\n",
      "Epoch 131/300\n",
      "\u001B[1m22/22\u001B[0m \u001B[32m━━━━━━━━━━━━━━━━━━━━\u001B[0m\u001B[37m\u001B[0m \u001B[1m0s\u001B[0m 4ms/step - loss: 0.0022 - mean_squared_error: 0.0022 - r2_score: 0.9643 - val_loss: 0.0052 - val_mean_squared_error: 0.0080 - val_r2_score: 0.8892\n",
      "Epoch 132/300\n",
      "\u001B[1m22/22\u001B[0m \u001B[32m━━━━━━━━━━━━━━━━━━━━\u001B[0m\u001B[37m\u001B[0m \u001B[1m0s\u001B[0m 4ms/step - loss: 0.0023 - mean_squared_error: 0.0023 - r2_score: 0.9649 - val_loss: 0.0052 - val_mean_squared_error: 0.0081 - val_r2_score: 0.8890\n",
      "Epoch 133/300\n",
      "\u001B[1m22/22\u001B[0m \u001B[32m━━━━━━━━━━━━━━━━━━━━\u001B[0m\u001B[37m\u001B[0m \u001B[1m0s\u001B[0m 4ms/step - loss: 0.0025 - mean_squared_error: 0.0025 - r2_score: 0.9637 - val_loss: 0.0052 - val_mean_squared_error: 0.0081 - val_r2_score: 0.8885\n",
      "Epoch 134/300\n",
      "\u001B[1m22/22\u001B[0m \u001B[32m━━━━━━━━━━━━━━━━━━━━\u001B[0m\u001B[37m\u001B[0m \u001B[1m0s\u001B[0m 4ms/step - loss: 0.0023 - mean_squared_error: 0.0023 - r2_score: 0.9635 - val_loss: 0.0051 - val_mean_squared_error: 0.0079 - val_r2_score: 0.8915\n",
      "Epoch 135/300\n",
      "\u001B[1m22/22\u001B[0m \u001B[32m━━━━━━━━━━━━━━━━━━━━\u001B[0m\u001B[37m\u001B[0m \u001B[1m0s\u001B[0m 4ms/step - loss: 0.0022 - mean_squared_error: 0.0022 - r2_score: 0.9639 - val_loss: 0.0053 - val_mean_squared_error: 0.0083 - val_r2_score: 0.8862\n",
      "Epoch 136/300\n",
      "\u001B[1m22/22\u001B[0m \u001B[32m━━━━━━━━━━━━━━━━━━━━\u001B[0m\u001B[37m\u001B[0m \u001B[1m0s\u001B[0m 4ms/step - loss: 0.0027 - mean_squared_error: 0.0027 - r2_score: 0.9592 - val_loss: 0.0052 - val_mean_squared_error: 0.0081 - val_r2_score: 0.8892\n",
      "Epoch 137/300\n",
      "\u001B[1m22/22\u001B[0m \u001B[32m━━━━━━━━━━━━━━━━━━━━\u001B[0m\u001B[37m\u001B[0m \u001B[1m0s\u001B[0m 4ms/step - loss: 0.0022 - mean_squared_error: 0.0022 - r2_score: 0.9643 - val_loss: 0.0051 - val_mean_squared_error: 0.0080 - val_r2_score: 0.8901\n",
      "Epoch 138/300\n",
      "\u001B[1m22/22\u001B[0m \u001B[32m━━━━━━━━━━━━━━━━━━━━\u001B[0m\u001B[37m\u001B[0m \u001B[1m0s\u001B[0m 4ms/step - loss: 0.0023 - mean_squared_error: 0.0023 - r2_score: 0.9638 - val_loss: 0.0054 - val_mean_squared_error: 0.0084 - val_r2_score: 0.8855\n",
      "Epoch 139/300\n",
      "\u001B[1m22/22\u001B[0m \u001B[32m━━━━━━━━━━━━━━━━━━━━\u001B[0m\u001B[37m\u001B[0m \u001B[1m0s\u001B[0m 4ms/step - loss: 0.0021 - mean_squared_error: 0.0021 - r2_score: 0.9649 - val_loss: 0.0052 - val_mean_squared_error: 0.0081 - val_r2_score: 0.8883\n",
      "Epoch 140/300\n",
      "\u001B[1m22/22\u001B[0m \u001B[32m━━━━━━━━━━━━━━━━━━━━\u001B[0m\u001B[37m\u001B[0m \u001B[1m0s\u001B[0m 5ms/step - loss: 0.0021 - mean_squared_error: 0.0021 - r2_score: 0.9657 - val_loss: 0.0052 - val_mean_squared_error: 0.0081 - val_r2_score: 0.8886\n",
      "Epoch 141/300\n",
      "\u001B[1m22/22\u001B[0m \u001B[32m━━━━━━━━━━━━━━━━━━━━\u001B[0m\u001B[37m\u001B[0m \u001B[1m0s\u001B[0m 5ms/step - loss: 0.0025 - mean_squared_error: 0.0025 - r2_score: 0.9603 - val_loss: 0.0053 - val_mean_squared_error: 0.0082 - val_r2_score: 0.8877\n",
      "Epoch 142/300\n",
      "\u001B[1m22/22\u001B[0m \u001B[32m━━━━━━━━━━━━━━━━━━━━\u001B[0m\u001B[37m\u001B[0m \u001B[1m0s\u001B[0m 6ms/step - loss: 0.0021 - mean_squared_error: 0.0021 - r2_score: 0.9650 - val_loss: 0.0052 - val_mean_squared_error: 0.0082 - val_r2_score: 0.8881\n",
      "Epoch 143/300\n",
      "\u001B[1m22/22\u001B[0m \u001B[32m━━━━━━━━━━━━━━━━━━━━\u001B[0m\u001B[37m\u001B[0m \u001B[1m0s\u001B[0m 4ms/step - loss: 0.0026 - mean_squared_error: 0.0026 - r2_score: 0.9598 - val_loss: 0.0052 - val_mean_squared_error: 0.0081 - val_r2_score: 0.8889\n",
      "Epoch 144/300\n",
      "\u001B[1m22/22\u001B[0m \u001B[32m━━━━━━━━━━━━━━━━━━━━\u001B[0m\u001B[37m\u001B[0m \u001B[1m0s\u001B[0m 4ms/step - loss: 0.0023 - mean_squared_error: 0.0023 - r2_score: 0.9648 - val_loss: 0.0053 - val_mean_squared_error: 0.0083 - val_r2_score: 0.8862\n",
      "Epoch 145/300\n",
      "\u001B[1m22/22\u001B[0m \u001B[32m━━━━━━━━━━━━━━━━━━━━\u001B[0m\u001B[37m\u001B[0m \u001B[1m0s\u001B[0m 4ms/step - loss: 0.0023 - mean_squared_error: 0.0023 - r2_score: 0.9648 - val_loss: 0.0053 - val_mean_squared_error: 0.0083 - val_r2_score: 0.8862\n",
      "Epoch 146/300\n",
      "\u001B[1m22/22\u001B[0m \u001B[32m━━━━━━━━━━━━━━━━━━━━\u001B[0m\u001B[37m\u001B[0m \u001B[1m0s\u001B[0m 4ms/step - loss: 0.0021 - mean_squared_error: 0.0021 - r2_score: 0.9659 - val_loss: 0.0053 - val_mean_squared_error: 0.0083 - val_r2_score: 0.8861\n",
      "Epoch 147/300\n",
      "\u001B[1m22/22\u001B[0m \u001B[32m━━━━━━━━━━━━━━━━━━━━\u001B[0m\u001B[37m\u001B[0m \u001B[1m0s\u001B[0m 4ms/step - loss: 0.0021 - mean_squared_error: 0.0021 - r2_score: 0.9648 - val_loss: 0.0053 - val_mean_squared_error: 0.0083 - val_r2_score: 0.8863\n",
      "Epoch 148/300\n",
      "\u001B[1m22/22\u001B[0m \u001B[32m━━━━━━━━━━━━━━━━━━━━\u001B[0m\u001B[37m\u001B[0m \u001B[1m0s\u001B[0m 4ms/step - loss: 0.0021 - mean_squared_error: 0.0021 - r2_score: 0.9647 - val_loss: 0.0053 - val_mean_squared_error: 0.0083 - val_r2_score: 0.8863\n",
      "Epoch 149/300\n",
      "\u001B[1m22/22\u001B[0m \u001B[32m━━━━━━━━━━━━━━━━━━━━\u001B[0m\u001B[37m\u001B[0m \u001B[1m0s\u001B[0m 4ms/step - loss: 0.0023 - mean_squared_error: 0.0023 - r2_score: 0.9624 - val_loss: 0.0053 - val_mean_squared_error: 0.0083 - val_r2_score: 0.8867\n",
      "Epoch 150/300\n",
      "\u001B[1m22/22\u001B[0m \u001B[32m━━━━━━━━━━━━━━━━━━━━\u001B[0m\u001B[37m\u001B[0m \u001B[1m0s\u001B[0m 4ms/step - loss: 0.0024 - mean_squared_error: 0.0024 - r2_score: 0.9615 - val_loss: 0.0054 - val_mean_squared_error: 0.0084 - val_r2_score: 0.8854\n",
      "Epoch 151/300\n",
      "\u001B[1m22/22\u001B[0m \u001B[32m━━━━━━━━━━━━━━━━━━━━\u001B[0m\u001B[37m\u001B[0m \u001B[1m0s\u001B[0m 4ms/step - loss: 0.0024 - mean_squared_error: 0.0024 - r2_score: 0.9648 - val_loss: 0.0053 - val_mean_squared_error: 0.0082 - val_r2_score: 0.8874\n",
      "Epoch 152/300\n",
      "\u001B[1m22/22\u001B[0m \u001B[32m━━━━━━━━━━━━━━━━━━━━\u001B[0m\u001B[37m\u001B[0m \u001B[1m0s\u001B[0m 4ms/step - loss: 0.0023 - mean_squared_error: 0.0023 - r2_score: 0.9660 - val_loss: 0.0053 - val_mean_squared_error: 0.0082 - val_r2_score: 0.8873\n",
      "Epoch 153/300\n",
      "\u001B[1m22/22\u001B[0m \u001B[32m━━━━━━━━━━━━━━━━━━━━\u001B[0m\u001B[37m\u001B[0m \u001B[1m0s\u001B[0m 4ms/step - loss: 0.0022 - mean_squared_error: 0.0022 - r2_score: 0.9639 - val_loss: 0.0054 - val_mean_squared_error: 0.0085 - val_r2_score: 0.8846\n",
      "Epoch 154/300\n",
      "\u001B[1m22/22\u001B[0m \u001B[32m━━━━━━━━━━━━━━━━━━━━\u001B[0m\u001B[37m\u001B[0m \u001B[1m0s\u001B[0m 4ms/step - loss: 0.0023 - mean_squared_error: 0.0023 - r2_score: 0.9640 - val_loss: 0.0054 - val_mean_squared_error: 0.0084 - val_r2_score: 0.8856\n",
      "Epoch 155/300\n",
      "\u001B[1m22/22\u001B[0m \u001B[32m━━━━━━━━━━━━━━━━━━━━\u001B[0m\u001B[37m\u001B[0m \u001B[1m0s\u001B[0m 4ms/step - loss: 0.0021 - mean_squared_error: 0.0021 - r2_score: 0.9679 - val_loss: 0.0053 - val_mean_squared_error: 0.0082 - val_r2_score: 0.8872\n",
      "Epoch 156/300\n",
      "\u001B[1m22/22\u001B[0m \u001B[32m━━━━━━━━━━━━━━━━━━━━\u001B[0m\u001B[37m\u001B[0m \u001B[1m0s\u001B[0m 4ms/step - loss: 0.0021 - mean_squared_error: 0.0021 - r2_score: 0.9653 - val_loss: 0.0054 - val_mean_squared_error: 0.0084 - val_r2_score: 0.8853\n",
      "Epoch 157/300\n",
      "\u001B[1m22/22\u001B[0m \u001B[32m━━━━━━━━━━━━━━━━━━━━\u001B[0m\u001B[37m\u001B[0m \u001B[1m0s\u001B[0m 4ms/step - loss: 0.0020 - mean_squared_error: 0.0020 - r2_score: 0.9657 - val_loss: 0.0053 - val_mean_squared_error: 0.0084 - val_r2_score: 0.8859\n",
      "Epoch 158/300\n",
      "\u001B[1m22/22\u001B[0m \u001B[32m━━━━━━━━━━━━━━━━━━━━\u001B[0m\u001B[37m\u001B[0m \u001B[1m0s\u001B[0m 4ms/step - loss: 0.0022 - mean_squared_error: 0.0022 - r2_score: 0.9637 - val_loss: 0.0054 - val_mean_squared_error: 0.0084 - val_r2_score: 0.8852\n",
      "Epoch 159/300\n",
      "\u001B[1m22/22\u001B[0m \u001B[32m━━━━━━━━━━━━━━━━━━━━\u001B[0m\u001B[37m\u001B[0m \u001B[1m0s\u001B[0m 4ms/step - loss: 0.0023 - mean_squared_error: 0.0023 - r2_score: 0.9625 - val_loss: 0.0053 - val_mean_squared_error: 0.0083 - val_r2_score: 0.8862\n",
      "Epoch 160/300\n",
      "\u001B[1m22/22\u001B[0m \u001B[32m━━━━━━━━━━━━━━━━━━━━\u001B[0m\u001B[37m\u001B[0m \u001B[1m0s\u001B[0m 4ms/step - loss: 0.0023 - mean_squared_error: 0.0023 - r2_score: 0.9633 - val_loss: 0.0054 - val_mean_squared_error: 0.0085 - val_r2_score: 0.8845\n",
      "Epoch 161/300\n",
      "\u001B[1m22/22\u001B[0m \u001B[32m━━━━━━━━━━━━━━━━━━━━\u001B[0m\u001B[37m\u001B[0m \u001B[1m0s\u001B[0m 4ms/step - loss: 0.0023 - mean_squared_error: 0.0023 - r2_score: 0.9666 - val_loss: 0.0053 - val_mean_squared_error: 0.0084 - val_r2_score: 0.8859\n",
      "Epoch 162/300\n",
      "\u001B[1m22/22\u001B[0m \u001B[32m━━━━━━━━━━━━━━━━━━━━\u001B[0m\u001B[37m\u001B[0m \u001B[1m0s\u001B[0m 4ms/step - loss: 0.0022 - mean_squared_error: 0.0022 - r2_score: 0.9655 - val_loss: 0.0054 - val_mean_squared_error: 0.0085 - val_r2_score: 0.8843\n",
      "Epoch 163/300\n",
      "\u001B[1m22/22\u001B[0m \u001B[32m━━━━━━━━━━━━━━━━━━━━\u001B[0m\u001B[37m\u001B[0m \u001B[1m0s\u001B[0m 4ms/step - loss: 0.0023 - mean_squared_error: 0.0023 - r2_score: 0.9624 - val_loss: 0.0054 - val_mean_squared_error: 0.0084 - val_r2_score: 0.8852\n",
      "Epoch 164/300\n",
      "\u001B[1m22/22\u001B[0m \u001B[32m━━━━━━━━━━━━━━━━━━━━\u001B[0m\u001B[37m\u001B[0m \u001B[1m0s\u001B[0m 4ms/step - loss: 0.0021 - mean_squared_error: 0.0021 - r2_score: 0.9617 - val_loss: 0.0055 - val_mean_squared_error: 0.0087 - val_r2_score: 0.8821\n",
      "Epoch 165/300\n",
      "\u001B[1m22/22\u001B[0m \u001B[32m━━━━━━━━━━━━━━━━━━━━\u001B[0m\u001B[37m\u001B[0m \u001B[1m0s\u001B[0m 4ms/step - loss: 0.0021 - mean_squared_error: 0.0021 - r2_score: 0.9670 - val_loss: 0.0053 - val_mean_squared_error: 0.0084 - val_r2_score: 0.8859\n",
      "Epoch 166/300\n",
      "\u001B[1m22/22\u001B[0m \u001B[32m━━━━━━━━━━━━━━━━━━━━\u001B[0m\u001B[37m\u001B[0m \u001B[1m0s\u001B[0m 4ms/step - loss: 0.0022 - mean_squared_error: 0.0022 - r2_score: 0.9667 - val_loss: 0.0054 - val_mean_squared_error: 0.0085 - val_r2_score: 0.8847\n",
      "Epoch 167/300\n",
      "\u001B[1m22/22\u001B[0m \u001B[32m━━━━━━━━━━━━━━━━━━━━\u001B[0m\u001B[37m\u001B[0m \u001B[1m0s\u001B[0m 4ms/step - loss: 0.0022 - mean_squared_error: 0.0022 - r2_score: 0.9641 - val_loss: 0.0054 - val_mean_squared_error: 0.0085 - val_r2_score: 0.8836\n",
      "Epoch 168/300\n",
      "\u001B[1m22/22\u001B[0m \u001B[32m━━━━━━━━━━━━━━━━━━━━\u001B[0m\u001B[37m\u001B[0m \u001B[1m0s\u001B[0m 4ms/step - loss: 0.0023 - mean_squared_error: 0.0023 - r2_score: 0.9617 - val_loss: 0.0054 - val_mean_squared_error: 0.0084 - val_r2_score: 0.8855\n",
      "Epoch 169/300\n",
      "\u001B[1m22/22\u001B[0m \u001B[32m━━━━━━━━━━━━━━━━━━━━\u001B[0m\u001B[37m\u001B[0m \u001B[1m0s\u001B[0m 4ms/step - loss: 0.0022 - mean_squared_error: 0.0022 - r2_score: 0.9648 - val_loss: 0.0054 - val_mean_squared_error: 0.0085 - val_r2_score: 0.8841\n",
      "Epoch 170/300\n",
      "\u001B[1m22/22\u001B[0m \u001B[32m━━━━━━━━━━━━━━━━━━━━\u001B[0m\u001B[37m\u001B[0m \u001B[1m0s\u001B[0m 4ms/step - loss: 0.0022 - mean_squared_error: 0.0022 - r2_score: 0.9656 - val_loss: 0.0054 - val_mean_squared_error: 0.0086 - val_r2_score: 0.8835\n",
      "Epoch 171/300\n",
      "\u001B[1m22/22\u001B[0m \u001B[32m━━━━━━━━━━━━━━━━━━━━\u001B[0m\u001B[37m\u001B[0m \u001B[1m0s\u001B[0m 4ms/step - loss: 0.0019 - mean_squared_error: 0.0019 - r2_score: 0.9679 - val_loss: 0.0054 - val_mean_squared_error: 0.0085 - val_r2_score: 0.8843\n",
      "Epoch 172/300\n",
      "\u001B[1m22/22\u001B[0m \u001B[32m━━━━━━━━━━━━━━━━━━━━\u001B[0m\u001B[37m\u001B[0m \u001B[1m0s\u001B[0m 4ms/step - loss: 0.0020 - mean_squared_error: 0.0020 - r2_score: 0.9649 - val_loss: 0.0054 - val_mean_squared_error: 0.0086 - val_r2_score: 0.8835\n",
      "Epoch 173/300\n",
      "\u001B[1m22/22\u001B[0m \u001B[32m━━━━━━━━━━━━━━━━━━━━\u001B[0m\u001B[37m\u001B[0m \u001B[1m0s\u001B[0m 4ms/step - loss: 0.0022 - mean_squared_error: 0.0022 - r2_score: 0.9668 - val_loss: 0.0054 - val_mean_squared_error: 0.0085 - val_r2_score: 0.8845\n",
      "Epoch 174/300\n",
      "\u001B[1m22/22\u001B[0m \u001B[32m━━━━━━━━━━━━━━━━━━━━\u001B[0m\u001B[37m\u001B[0m \u001B[1m0s\u001B[0m 4ms/step - loss: 0.0022 - mean_squared_error: 0.0022 - r2_score: 0.9656 - val_loss: 0.0054 - val_mean_squared_error: 0.0085 - val_r2_score: 0.8839\n",
      "Epoch 175/300\n",
      "\u001B[1m22/22\u001B[0m \u001B[32m━━━━━━━━━━━━━━━━━━━━\u001B[0m\u001B[37m\u001B[0m \u001B[1m0s\u001B[0m 4ms/step - loss: 0.0020 - mean_squared_error: 0.0020 - r2_score: 0.9678 - val_loss: 0.0055 - val_mean_squared_error: 0.0087 - val_r2_score: 0.8819\n",
      "Epoch 176/300\n",
      "\u001B[1m22/22\u001B[0m \u001B[32m━━━━━━━━━━━━━━━━━━━━\u001B[0m\u001B[37m\u001B[0m \u001B[1m0s\u001B[0m 4ms/step - loss: 0.0022 - mean_squared_error: 0.0022 - r2_score: 0.9645 - val_loss: 0.0054 - val_mean_squared_error: 0.0085 - val_r2_score: 0.8842\n",
      "Epoch 177/300\n",
      "\u001B[1m22/22\u001B[0m \u001B[32m━━━━━━━━━━━━━━━━━━━━\u001B[0m\u001B[37m\u001B[0m \u001B[1m0s\u001B[0m 4ms/step - loss: 0.0021 - mean_squared_error: 0.0021 - r2_score: 0.9673 - val_loss: 0.0054 - val_mean_squared_error: 0.0085 - val_r2_score: 0.8843\n",
      "Epoch 178/300\n",
      "\u001B[1m22/22\u001B[0m \u001B[32m━━━━━━━━━━━━━━━━━━━━\u001B[0m\u001B[37m\u001B[0m \u001B[1m0s\u001B[0m 4ms/step - loss: 0.0021 - mean_squared_error: 0.0021 - r2_score: 0.9680 - val_loss: 0.0055 - val_mean_squared_error: 0.0087 - val_r2_score: 0.8814\n",
      "Epoch 179/300\n",
      "\u001B[1m22/22\u001B[0m \u001B[32m━━━━━━━━━━━━━━━━━━━━\u001B[0m\u001B[37m\u001B[0m \u001B[1m0s\u001B[0m 4ms/step - loss: 0.0022 - mean_squared_error: 0.0022 - r2_score: 0.9671 - val_loss: 0.0055 - val_mean_squared_error: 0.0086 - val_r2_score: 0.8830\n",
      "Epoch 180/300\n",
      "\u001B[1m22/22\u001B[0m \u001B[32m━━━━━━━━━━━━━━━━━━━━\u001B[0m\u001B[37m\u001B[0m \u001B[1m0s\u001B[0m 4ms/step - loss: 0.0020 - mean_squared_error: 0.0020 - r2_score: 0.9680 - val_loss: 0.0053 - val_mean_squared_error: 0.0084 - val_r2_score: 0.8857\n",
      "Epoch 181/300\n",
      "\u001B[1m22/22\u001B[0m \u001B[32m━━━━━━━━━━━━━━━━━━━━\u001B[0m\u001B[37m\u001B[0m \u001B[1m0s\u001B[0m 4ms/step - loss: 0.0022 - mean_squared_error: 0.0022 - r2_score: 0.9651 - val_loss: 0.0055 - val_mean_squared_error: 0.0086 - val_r2_score: 0.8826\n",
      "Epoch 182/300\n",
      "\u001B[1m22/22\u001B[0m \u001B[32m━━━━━━━━━━━━━━━━━━━━\u001B[0m\u001B[37m\u001B[0m \u001B[1m0s\u001B[0m 4ms/step - loss: 0.0018 - mean_squared_error: 0.0018 - r2_score: 0.9687 - val_loss: 0.0055 - val_mean_squared_error: 0.0086 - val_r2_score: 0.8827\n",
      "Epoch 183/300\n",
      "\u001B[1m22/22\u001B[0m \u001B[32m━━━━━━━━━━━━━━━━━━━━\u001B[0m\u001B[37m\u001B[0m \u001B[1m0s\u001B[0m 4ms/step - loss: 0.0020 - mean_squared_error: 0.0020 - r2_score: 0.9684 - val_loss: 0.0055 - val_mean_squared_error: 0.0086 - val_r2_score: 0.8830\n",
      "Epoch 184/300\n",
      "\u001B[1m22/22\u001B[0m \u001B[32m━━━━━━━━━━━━━━━━━━━━\u001B[0m\u001B[37m\u001B[0m \u001B[1m0s\u001B[0m 4ms/step - loss: 0.0022 - mean_squared_error: 0.0022 - r2_score: 0.9653 - val_loss: 0.0056 - val_mean_squared_error: 0.0088 - val_r2_score: 0.8812\n",
      "Epoch 185/300\n",
      "\u001B[1m22/22\u001B[0m \u001B[32m━━━━━━━━━━━━━━━━━━━━\u001B[0m\u001B[37m\u001B[0m \u001B[1m0s\u001B[0m 5ms/step - loss: 0.0023 - mean_squared_error: 0.0023 - r2_score: 0.9658 - val_loss: 0.0054 - val_mean_squared_error: 0.0085 - val_r2_score: 0.8839\n",
      "Epoch 186/300\n",
      "\u001B[1m22/22\u001B[0m \u001B[32m━━━━━━━━━━━━━━━━━━━━\u001B[0m\u001B[37m\u001B[0m \u001B[1m0s\u001B[0m 4ms/step - loss: 0.0022 - mean_squared_error: 0.0022 - r2_score: 0.9658 - val_loss: 0.0055 - val_mean_squared_error: 0.0086 - val_r2_score: 0.8833\n",
      "Epoch 187/300\n",
      "\u001B[1m22/22\u001B[0m \u001B[32m━━━━━━━━━━━━━━━━━━━━\u001B[0m\u001B[37m\u001B[0m \u001B[1m0s\u001B[0m 4ms/step - loss: 0.0021 - mean_squared_error: 0.0021 - r2_score: 0.9680 - val_loss: 0.0056 - val_mean_squared_error: 0.0088 - val_r2_score: 0.8813\n",
      "Epoch 188/300\n",
      "\u001B[1m22/22\u001B[0m \u001B[32m━━━━━━━━━━━━━━━━━━━━\u001B[0m\u001B[37m\u001B[0m \u001B[1m0s\u001B[0m 4ms/step - loss: 0.0020 - mean_squared_error: 0.0020 - r2_score: 0.9662 - val_loss: 0.0055 - val_mean_squared_error: 0.0087 - val_r2_score: 0.8826\n",
      "Epoch 189/300\n",
      "\u001B[1m22/22\u001B[0m \u001B[32m━━━━━━━━━━━━━━━━━━━━\u001B[0m\u001B[37m\u001B[0m \u001B[1m0s\u001B[0m 4ms/step - loss: 0.0021 - mean_squared_error: 0.0021 - r2_score: 0.9678 - val_loss: 0.0055 - val_mean_squared_error: 0.0087 - val_r2_score: 0.8824\n",
      "Epoch 190/300\n",
      "\u001B[1m22/22\u001B[0m \u001B[32m━━━━━━━━━━━━━━━━━━━━\u001B[0m\u001B[37m\u001B[0m \u001B[1m0s\u001B[0m 4ms/step - loss: 0.0021 - mean_squared_error: 0.0021 - r2_score: 0.9663 - val_loss: 0.0055 - val_mean_squared_error: 0.0086 - val_r2_score: 0.8835\n",
      "Epoch 191/300\n",
      "\u001B[1m22/22\u001B[0m \u001B[32m━━━━━━━━━━━━━━━━━━━━\u001B[0m\u001B[37m\u001B[0m \u001B[1m0s\u001B[0m 4ms/step - loss: 0.0020 - mean_squared_error: 0.0020 - r2_score: 0.9680 - val_loss: 0.0055 - val_mean_squared_error: 0.0086 - val_r2_score: 0.8826\n",
      "Epoch 192/300\n",
      "\u001B[1m22/22\u001B[0m \u001B[32m━━━━━━━━━━━━━━━━━━━━\u001B[0m\u001B[37m\u001B[0m \u001B[1m0s\u001B[0m 4ms/step - loss: 0.0019 - mean_squared_error: 0.0019 - r2_score: 0.9679 - val_loss: 0.0056 - val_mean_squared_error: 0.0088 - val_r2_score: 0.8813\n",
      "Epoch 193/300\n",
      "\u001B[1m22/22\u001B[0m \u001B[32m━━━━━━━━━━━━━━━━━━━━\u001B[0m\u001B[37m\u001B[0m \u001B[1m0s\u001B[0m 4ms/step - loss: 0.0020 - mean_squared_error: 0.0020 - r2_score: 0.9674 - val_loss: 0.0055 - val_mean_squared_error: 0.0086 - val_r2_score: 0.8830\n",
      "Epoch 194/300\n",
      "\u001B[1m22/22\u001B[0m \u001B[32m━━━━━━━━━━━━━━━━━━━━\u001B[0m\u001B[37m\u001B[0m \u001B[1m0s\u001B[0m 4ms/step - loss: 0.0022 - mean_squared_error: 0.0022 - r2_score: 0.9656 - val_loss: 0.0056 - val_mean_squared_error: 0.0088 - val_r2_score: 0.8807\n",
      "Epoch 195/300\n",
      "\u001B[1m22/22\u001B[0m \u001B[32m━━━━━━━━━━━━━━━━━━━━\u001B[0m\u001B[37m\u001B[0m \u001B[1m0s\u001B[0m 4ms/step - loss: 0.0022 - mean_squared_error: 0.0022 - r2_score: 0.9671 - val_loss: 0.0054 - val_mean_squared_error: 0.0086 - val_r2_score: 0.8836\n",
      "Epoch 196/300\n",
      "\u001B[1m22/22\u001B[0m \u001B[32m━━━━━━━━━━━━━━━━━━━━\u001B[0m\u001B[37m\u001B[0m \u001B[1m0s\u001B[0m 4ms/step - loss: 0.0023 - mean_squared_error: 0.0023 - r2_score: 0.9653 - val_loss: 0.0055 - val_mean_squared_error: 0.0087 - val_r2_score: 0.8824\n",
      "Epoch 197/300\n",
      "\u001B[1m22/22\u001B[0m \u001B[32m━━━━━━━━━━━━━━━━━━━━\u001B[0m\u001B[37m\u001B[0m \u001B[1m0s\u001B[0m 4ms/step - loss: 0.0020 - mean_squared_error: 0.0020 - r2_score: 0.9664 - val_loss: 0.0055 - val_mean_squared_error: 0.0087 - val_r2_score: 0.8821\n",
      "Epoch 198/300\n",
      "\u001B[1m22/22\u001B[0m \u001B[32m━━━━━━━━━━━━━━━━━━━━\u001B[0m\u001B[37m\u001B[0m \u001B[1m0s\u001B[0m 4ms/step - loss: 0.0019 - mean_squared_error: 0.0019 - r2_score: 0.9671 - val_loss: 0.0055 - val_mean_squared_error: 0.0087 - val_r2_score: 0.8814\n",
      "Epoch 199/300\n",
      "\u001B[1m22/22\u001B[0m \u001B[32m━━━━━━━━━━━━━━━━━━━━\u001B[0m\u001B[37m\u001B[0m \u001B[1m0s\u001B[0m 4ms/step - loss: 0.0021 - mean_squared_error: 0.0021 - r2_score: 0.9667 - val_loss: 0.0055 - val_mean_squared_error: 0.0088 - val_r2_score: 0.8814\n",
      "Epoch 200/300\n",
      "\u001B[1m22/22\u001B[0m \u001B[32m━━━━━━━━━━━━━━━━━━━━\u001B[0m\u001B[37m\u001B[0m \u001B[1m0s\u001B[0m 4ms/step - loss: 0.0022 - mean_squared_error: 0.0022 - r2_score: 0.9672 - val_loss: 0.0055 - val_mean_squared_error: 0.0087 - val_r2_score: 0.8814\n",
      "Epoch 201/300\n",
      "\u001B[1m22/22\u001B[0m \u001B[32m━━━━━━━━━━━━━━━━━━━━\u001B[0m\u001B[37m\u001B[0m \u001B[1m0s\u001B[0m 4ms/step - loss: 0.0022 - mean_squared_error: 0.0022 - r2_score: 0.9662 - val_loss: 0.0056 - val_mean_squared_error: 0.0088 - val_r2_score: 0.8808\n",
      "Epoch 202/300\n",
      "\u001B[1m22/22\u001B[0m \u001B[32m━━━━━━━━━━━━━━━━━━━━\u001B[0m\u001B[37m\u001B[0m \u001B[1m0s\u001B[0m 4ms/step - loss: 0.0020 - mean_squared_error: 0.0020 - r2_score: 0.9678 - val_loss: 0.0055 - val_mean_squared_error: 0.0087 - val_r2_score: 0.8823\n",
      "Epoch 203/300\n",
      "\u001B[1m22/22\u001B[0m \u001B[32m━━━━━━━━━━━━━━━━━━━━\u001B[0m\u001B[37m\u001B[0m \u001B[1m0s\u001B[0m 4ms/step - loss: 0.0021 - mean_squared_error: 0.0021 - r2_score: 0.9656 - val_loss: 0.0055 - val_mean_squared_error: 0.0088 - val_r2_score: 0.8814\n",
      "Epoch 204/300\n",
      "\u001B[1m22/22\u001B[0m \u001B[32m━━━━━━━━━━━━━━━━━━━━\u001B[0m\u001B[37m\u001B[0m \u001B[1m0s\u001B[0m 4ms/step - loss: 0.0021 - mean_squared_error: 0.0021 - r2_score: 0.9658 - val_loss: 0.0055 - val_mean_squared_error: 0.0087 - val_r2_score: 0.8818\n",
      "Epoch 205/300\n",
      "\u001B[1m22/22\u001B[0m \u001B[32m━━━━━━━━━━━━━━━━━━━━\u001B[0m\u001B[37m\u001B[0m \u001B[1m0s\u001B[0m 4ms/step - loss: 0.0019 - mean_squared_error: 0.0019 - r2_score: 0.9682 - val_loss: 0.0055 - val_mean_squared_error: 0.0087 - val_r2_score: 0.8824\n",
      "Epoch 206/300\n",
      "\u001B[1m22/22\u001B[0m \u001B[32m━━━━━━━━━━━━━━━━━━━━\u001B[0m\u001B[37m\u001B[0m \u001B[1m0s\u001B[0m 4ms/step - loss: 0.0019 - mean_squared_error: 0.0019 - r2_score: 0.9686 - val_loss: 0.0056 - val_mean_squared_error: 0.0088 - val_r2_score: 0.8807\n",
      "Epoch 207/300\n",
      "\u001B[1m22/22\u001B[0m \u001B[32m━━━━━━━━━━━━━━━━━━━━\u001B[0m\u001B[37m\u001B[0m \u001B[1m0s\u001B[0m 4ms/step - loss: 0.0020 - mean_squared_error: 0.0020 - r2_score: 0.9685 - val_loss: 0.0056 - val_mean_squared_error: 0.0088 - val_r2_score: 0.8806\n",
      "Epoch 208/300\n",
      "\u001B[1m22/22\u001B[0m \u001B[32m━━━━━━━━━━━━━━━━━━━━\u001B[0m\u001B[37m\u001B[0m \u001B[1m0s\u001B[0m 4ms/step - loss: 0.0022 - mean_squared_error: 0.0022 - r2_score: 0.9632 - val_loss: 0.0055 - val_mean_squared_error: 0.0087 - val_r2_score: 0.8827\n",
      "Epoch 209/300\n",
      "\u001B[1m22/22\u001B[0m \u001B[32m━━━━━━━━━━━━━━━━━━━━\u001B[0m\u001B[37m\u001B[0m \u001B[1m0s\u001B[0m 4ms/step - loss: 0.0021 - mean_squared_error: 0.0021 - r2_score: 0.9637 - val_loss: 0.0056 - val_mean_squared_error: 0.0089 - val_r2_score: 0.8795\n",
      "Epoch 210/300\n",
      "\u001B[1m22/22\u001B[0m \u001B[32m━━━━━━━━━━━━━━━━━━━━\u001B[0m\u001B[37m\u001B[0m \u001B[1m0s\u001B[0m 4ms/step - loss: 0.0021 - mean_squared_error: 0.0021 - r2_score: 0.9661 - val_loss: 0.0056 - val_mean_squared_error: 0.0088 - val_r2_score: 0.8801\n",
      "Epoch 211/300\n",
      "\u001B[1m22/22\u001B[0m \u001B[32m━━━━━━━━━━━━━━━━━━━━\u001B[0m\u001B[37m\u001B[0m \u001B[1m0s\u001B[0m 4ms/step - loss: 0.0020 - mean_squared_error: 0.0020 - r2_score: 0.9700 - val_loss: 0.0056 - val_mean_squared_error: 0.0088 - val_r2_score: 0.8804\n",
      "Epoch 212/300\n",
      "\u001B[1m22/22\u001B[0m \u001B[32m━━━━━━━━━━━━━━━━━━━━\u001B[0m\u001B[37m\u001B[0m \u001B[1m0s\u001B[0m 4ms/step - loss: 0.0020 - mean_squared_error: 0.0020 - r2_score: 0.9677 - val_loss: 0.0055 - val_mean_squared_error: 0.0087 - val_r2_score: 0.8816\n",
      "Epoch 213/300\n",
      "\u001B[1m22/22\u001B[0m \u001B[32m━━━━━━━━━━━━━━━━━━━━\u001B[0m\u001B[37m\u001B[0m \u001B[1m0s\u001B[0m 4ms/step - loss: 0.0020 - mean_squared_error: 0.0020 - r2_score: 0.9695 - val_loss: 0.0056 - val_mean_squared_error: 0.0088 - val_r2_score: 0.8808\n",
      "Epoch 214/300\n",
      "\u001B[1m22/22\u001B[0m \u001B[32m━━━━━━━━━━━━━━━━━━━━\u001B[0m\u001B[37m\u001B[0m \u001B[1m0s\u001B[0m 4ms/step - loss: 0.0019 - mean_squared_error: 0.0019 - r2_score: 0.9722 - val_loss: 0.0057 - val_mean_squared_error: 0.0090 - val_r2_score: 0.8778\n",
      "Epoch 215/300\n",
      "\u001B[1m22/22\u001B[0m \u001B[32m━━━━━━━━━━━━━━━━━━━━\u001B[0m\u001B[37m\u001B[0m \u001B[1m0s\u001B[0m 4ms/step - loss: 0.0021 - mean_squared_error: 0.0021 - r2_score: 0.9681 - val_loss: 0.0055 - val_mean_squared_error: 0.0087 - val_r2_score: 0.8817\n",
      "Epoch 216/300\n",
      "\u001B[1m22/22\u001B[0m \u001B[32m━━━━━━━━━━━━━━━━━━━━\u001B[0m\u001B[37m\u001B[0m \u001B[1m0s\u001B[0m 4ms/step - loss: 0.0022 - mean_squared_error: 0.0022 - r2_score: 0.9651 - val_loss: 0.0056 - val_mean_squared_error: 0.0089 - val_r2_score: 0.8802\n",
      "Epoch 217/300\n",
      "\u001B[1m22/22\u001B[0m \u001B[32m━━━━━━━━━━━━━━━━━━━━\u001B[0m\u001B[37m\u001B[0m \u001B[1m0s\u001B[0m 4ms/step - loss: 0.0019 - mean_squared_error: 0.0019 - r2_score: 0.9693 - val_loss: 0.0056 - val_mean_squared_error: 0.0089 - val_r2_score: 0.8799\n",
      "Epoch 218/300\n",
      "\u001B[1m22/22\u001B[0m \u001B[32m━━━━━━━━━━━━━━━━━━━━\u001B[0m\u001B[37m\u001B[0m \u001B[1m0s\u001B[0m 4ms/step - loss: 0.0021 - mean_squared_error: 0.0021 - r2_score: 0.9685 - val_loss: 0.0056 - val_mean_squared_error: 0.0088 - val_r2_score: 0.8809\n",
      "Epoch 219/300\n",
      "\u001B[1m22/22\u001B[0m \u001B[32m━━━━━━━━━━━━━━━━━━━━\u001B[0m\u001B[37m\u001B[0m \u001B[1m0s\u001B[0m 4ms/step - loss: 0.0020 - mean_squared_error: 0.0020 - r2_score: 0.9699 - val_loss: 0.0056 - val_mean_squared_error: 0.0089 - val_r2_score: 0.8794\n",
      "Epoch 220/300\n",
      "\u001B[1m22/22\u001B[0m \u001B[32m━━━━━━━━━━━━━━━━━━━━\u001B[0m\u001B[37m\u001B[0m \u001B[1m0s\u001B[0m 4ms/step - loss: 0.0019 - mean_squared_error: 0.0019 - r2_score: 0.9708 - val_loss: 0.0056 - val_mean_squared_error: 0.0088 - val_r2_score: 0.8803\n",
      "Epoch 221/300\n",
      "\u001B[1m22/22\u001B[0m \u001B[32m━━━━━━━━━━━━━━━━━━━━\u001B[0m\u001B[37m\u001B[0m \u001B[1m0s\u001B[0m 4ms/step - loss: 0.0021 - mean_squared_error: 0.0021 - r2_score: 0.9686 - val_loss: 0.0056 - val_mean_squared_error: 0.0089 - val_r2_score: 0.8796\n",
      "Epoch 222/300\n",
      "\u001B[1m22/22\u001B[0m \u001B[32m━━━━━━━━━━━━━━━━━━━━\u001B[0m\u001B[37m\u001B[0m \u001B[1m0s\u001B[0m 4ms/step - loss: 0.0018 - mean_squared_error: 0.0018 - r2_score: 0.9688 - val_loss: 0.0056 - val_mean_squared_error: 0.0089 - val_r2_score: 0.8792\n",
      "Epoch 223/300\n",
      "\u001B[1m22/22\u001B[0m \u001B[32m━━━━━━━━━━━━━━━━━━━━\u001B[0m\u001B[37m\u001B[0m \u001B[1m0s\u001B[0m 4ms/step - loss: 0.0020 - mean_squared_error: 0.0020 - r2_score: 0.9689 - val_loss: 0.0056 - val_mean_squared_error: 0.0089 - val_r2_score: 0.8801\n",
      "Epoch 224/300\n",
      "\u001B[1m22/22\u001B[0m \u001B[32m━━━━━━━━━━━━━━━━━━━━\u001B[0m\u001B[37m\u001B[0m \u001B[1m0s\u001B[0m 4ms/step - loss: 0.0021 - mean_squared_error: 0.0021 - r2_score: 0.9680 - val_loss: 0.0056 - val_mean_squared_error: 0.0089 - val_r2_score: 0.8797\n",
      "Epoch 225/300\n",
      "\u001B[1m22/22\u001B[0m \u001B[32m━━━━━━━━━━━━━━━━━━━━\u001B[0m\u001B[37m\u001B[0m \u001B[1m0s\u001B[0m 4ms/step - loss: 0.0019 - mean_squared_error: 0.0019 - r2_score: 0.9688 - val_loss: 0.0056 - val_mean_squared_error: 0.0089 - val_r2_score: 0.8795\n",
      "Epoch 226/300\n",
      "\u001B[1m22/22\u001B[0m \u001B[32m━━━━━━━━━━━━━━━━━━━━\u001B[0m\u001B[37m\u001B[0m \u001B[1m0s\u001B[0m 4ms/step - loss: 0.0020 - mean_squared_error: 0.0020 - r2_score: 0.9672 - val_loss: 0.0057 - val_mean_squared_error: 0.0090 - val_r2_score: 0.8785\n",
      "Epoch 227/300\n",
      "\u001B[1m22/22\u001B[0m \u001B[32m━━━━━━━━━━━━━━━━━━━━\u001B[0m\u001B[37m\u001B[0m \u001B[1m0s\u001B[0m 4ms/step - loss: 0.0020 - mean_squared_error: 0.0020 - r2_score: 0.9679 - val_loss: 0.0056 - val_mean_squared_error: 0.0089 - val_r2_score: 0.8800\n",
      "Epoch 228/300\n",
      "\u001B[1m22/22\u001B[0m \u001B[32m━━━━━━━━━━━━━━━━━━━━\u001B[0m\u001B[37m\u001B[0m \u001B[1m0s\u001B[0m 4ms/step - loss: 0.0020 - mean_squared_error: 0.0020 - r2_score: 0.9686 - val_loss: 0.0055 - val_mean_squared_error: 0.0088 - val_r2_score: 0.8815\n",
      "Epoch 229/300\n",
      "\u001B[1m22/22\u001B[0m \u001B[32m━━━━━━━━━━━━━━━━━━━━\u001B[0m\u001B[37m\u001B[0m \u001B[1m0s\u001B[0m 4ms/step - loss: 0.0019 - mean_squared_error: 0.0019 - r2_score: 0.9667 - val_loss: 0.0056 - val_mean_squared_error: 0.0089 - val_r2_score: 0.8800\n",
      "Epoch 230/300\n",
      "\u001B[1m22/22\u001B[0m \u001B[32m━━━━━━━━━━━━━━━━━━━━\u001B[0m\u001B[37m\u001B[0m \u001B[1m0s\u001B[0m 4ms/step - loss: 0.0020 - mean_squared_error: 0.0020 - r2_score: 0.9675 - val_loss: 0.0056 - val_mean_squared_error: 0.0089 - val_r2_score: 0.8794\n",
      "Epoch 231/300\n",
      "\u001B[1m22/22\u001B[0m \u001B[32m━━━━━━━━━━━━━━━━━━━━\u001B[0m\u001B[37m\u001B[0m \u001B[1m0s\u001B[0m 4ms/step - loss: 0.0019 - mean_squared_error: 0.0019 - r2_score: 0.9696 - val_loss: 0.0057 - val_mean_squared_error: 0.0091 - val_r2_score: 0.8775\n",
      "Epoch 232/300\n",
      "\u001B[1m22/22\u001B[0m \u001B[32m━━━━━━━━━━━━━━━━━━━━\u001B[0m\u001B[37m\u001B[0m \u001B[1m0s\u001B[0m 4ms/step - loss: 0.0019 - mean_squared_error: 0.0019 - r2_score: 0.9697 - val_loss: 0.0056 - val_mean_squared_error: 0.0088 - val_r2_score: 0.8807\n",
      "Epoch 233/300\n",
      "\u001B[1m22/22\u001B[0m \u001B[32m━━━━━━━━━━━━━━━━━━━━\u001B[0m\u001B[37m\u001B[0m \u001B[1m0s\u001B[0m 4ms/step - loss: 0.0021 - mean_squared_error: 0.0021 - r2_score: 0.9684 - val_loss: 0.0057 - val_mean_squared_error: 0.0089 - val_r2_score: 0.8788\n",
      "Epoch 234/300\n",
      "\u001B[1m22/22\u001B[0m \u001B[32m━━━━━━━━━━━━━━━━━━━━\u001B[0m\u001B[37m\u001B[0m \u001B[1m0s\u001B[0m 4ms/step - loss: 0.0020 - mean_squared_error: 0.0020 - r2_score: 0.9693 - val_loss: 0.0057 - val_mean_squared_error: 0.0090 - val_r2_score: 0.8786\n",
      "Epoch 235/300\n",
      "\u001B[1m22/22\u001B[0m \u001B[32m━━━━━━━━━━━━━━━━━━━━\u001B[0m\u001B[37m\u001B[0m \u001B[1m0s\u001B[0m 4ms/step - loss: 0.0017 - mean_squared_error: 0.0017 - r2_score: 0.9690 - val_loss: 0.0057 - val_mean_squared_error: 0.0090 - val_r2_score: 0.8782\n",
      "Epoch 236/300\n",
      "\u001B[1m22/22\u001B[0m \u001B[32m━━━━━━━━━━━━━━━━━━━━\u001B[0m\u001B[37m\u001B[0m \u001B[1m0s\u001B[0m 4ms/step - loss: 0.0020 - mean_squared_error: 0.0020 - r2_score: 0.9656 - val_loss: 0.0057 - val_mean_squared_error: 0.0089 - val_r2_score: 0.8789\n",
      "Epoch 237/300\n",
      "\u001B[1m22/22\u001B[0m \u001B[32m━━━━━━━━━━━━━━━━━━━━\u001B[0m\u001B[37m\u001B[0m \u001B[1m0s\u001B[0m 4ms/step - loss: 0.0019 - mean_squared_error: 0.0019 - r2_score: 0.9698 - val_loss: 0.0057 - val_mean_squared_error: 0.0089 - val_r2_score: 0.8788\n",
      "Epoch 238/300\n",
      "\u001B[1m22/22\u001B[0m \u001B[32m━━━━━━━━━━━━━━━━━━━━\u001B[0m\u001B[37m\u001B[0m \u001B[1m0s\u001B[0m 4ms/step - loss: 0.0020 - mean_squared_error: 0.0020 - r2_score: 0.9671 - val_loss: 0.0057 - val_mean_squared_error: 0.0091 - val_r2_score: 0.8774\n",
      "Epoch 239/300\n",
      "\u001B[1m22/22\u001B[0m \u001B[32m━━━━━━━━━━━━━━━━━━━━\u001B[0m\u001B[37m\u001B[0m \u001B[1m0s\u001B[0m 4ms/step - loss: 0.0020 - mean_squared_error: 0.0020 - r2_score: 0.9679 - val_loss: 0.0057 - val_mean_squared_error: 0.0089 - val_r2_score: 0.8791\n",
      "Epoch 240/300\n",
      "\u001B[1m22/22\u001B[0m \u001B[32m━━━━━━━━━━━━━━━━━━━━\u001B[0m\u001B[37m\u001B[0m \u001B[1m0s\u001B[0m 4ms/step - loss: 0.0020 - mean_squared_error: 0.0020 - r2_score: 0.9682 - val_loss: 0.0057 - val_mean_squared_error: 0.0090 - val_r2_score: 0.8785\n",
      "Epoch 241/300\n",
      "\u001B[1m22/22\u001B[0m \u001B[32m━━━━━━━━━━━━━━━━━━━━\u001B[0m\u001B[37m\u001B[0m \u001B[1m0s\u001B[0m 4ms/step - loss: 0.0019 - mean_squared_error: 0.0019 - r2_score: 0.9714 - val_loss: 0.0057 - val_mean_squared_error: 0.0091 - val_r2_score: 0.8774\n",
      "Epoch 242/300\n",
      "\u001B[1m22/22\u001B[0m \u001B[32m━━━━━━━━━━━━━━━━━━━━\u001B[0m\u001B[37m\u001B[0m \u001B[1m0s\u001B[0m 4ms/step - loss: 0.0019 - mean_squared_error: 0.0019 - r2_score: 0.9682 - val_loss: 0.0057 - val_mean_squared_error: 0.0090 - val_r2_score: 0.8777\n",
      "Epoch 243/300\n",
      "\u001B[1m22/22\u001B[0m \u001B[32m━━━━━━━━━━━━━━━━━━━━\u001B[0m\u001B[37m\u001B[0m \u001B[1m0s\u001B[0m 4ms/step - loss: 0.0019 - mean_squared_error: 0.0019 - r2_score: 0.9714 - val_loss: 0.0056 - val_mean_squared_error: 0.0089 - val_r2_score: 0.8798\n",
      "Epoch 244/300\n",
      "\u001B[1m22/22\u001B[0m \u001B[32m━━━━━━━━━━━━━━━━━━━━\u001B[0m\u001B[37m\u001B[0m \u001B[1m0s\u001B[0m 4ms/step - loss: 0.0019 - mean_squared_error: 0.0019 - r2_score: 0.9700 - val_loss: 0.0057 - val_mean_squared_error: 0.0091 - val_r2_score: 0.8771\n",
      "Epoch 245/300\n",
      "\u001B[1m22/22\u001B[0m \u001B[32m━━━━━━━━━━━━━━━━━━━━\u001B[0m\u001B[37m\u001B[0m \u001B[1m0s\u001B[0m 4ms/step - loss: 0.0021 - mean_squared_error: 0.0021 - r2_score: 0.9668 - val_loss: 0.0056 - val_mean_squared_error: 0.0088 - val_r2_score: 0.8805\n",
      "Epoch 246/300\n",
      "\u001B[1m22/22\u001B[0m \u001B[32m━━━━━━━━━━━━━━━━━━━━\u001B[0m\u001B[37m\u001B[0m \u001B[1m0s\u001B[0m 4ms/step - loss: 0.0019 - mean_squared_error: 0.0019 - r2_score: 0.9699 - val_loss: 0.0056 - val_mean_squared_error: 0.0089 - val_r2_score: 0.8793\n",
      "Epoch 247/300\n",
      "\u001B[1m22/22\u001B[0m \u001B[32m━━━━━━━━━━━━━━━━━━━━\u001B[0m\u001B[37m\u001B[0m \u001B[1m0s\u001B[0m 4ms/step - loss: 0.0020 - mean_squared_error: 0.0020 - r2_score: 0.9677 - val_loss: 0.0057 - val_mean_squared_error: 0.0090 - val_r2_score: 0.8784\n",
      "Epoch 248/300\n",
      "\u001B[1m22/22\u001B[0m \u001B[32m━━━━━━━━━━━━━━━━━━━━\u001B[0m\u001B[37m\u001B[0m \u001B[1m0s\u001B[0m 4ms/step - loss: 0.0019 - mean_squared_error: 0.0019 - r2_score: 0.9699 - val_loss: 0.0058 - val_mean_squared_error: 0.0091 - val_r2_score: 0.8769\n",
      "Epoch 249/300\n",
      "\u001B[1m22/22\u001B[0m \u001B[32m━━━━━━━━━━━━━━━━━━━━\u001B[0m\u001B[37m\u001B[0m \u001B[1m0s\u001B[0m 4ms/step - loss: 0.0020 - mean_squared_error: 0.0020 - r2_score: 0.9702 - val_loss: 0.0057 - val_mean_squared_error: 0.0090 - val_r2_score: 0.8787\n",
      "Epoch 250/300\n",
      "\u001B[1m22/22\u001B[0m \u001B[32m━━━━━━━━━━━━━━━━━━━━\u001B[0m\u001B[37m\u001B[0m \u001B[1m0s\u001B[0m 4ms/step - loss: 0.0019 - mean_squared_error: 0.0019 - r2_score: 0.9680 - val_loss: 0.0058 - val_mean_squared_error: 0.0091 - val_r2_score: 0.8762\n",
      "Epoch 251/300\n",
      "\u001B[1m22/22\u001B[0m \u001B[32m━━━━━━━━━━━━━━━━━━━━\u001B[0m\u001B[37m\u001B[0m \u001B[1m0s\u001B[0m 4ms/step - loss: 0.0019 - mean_squared_error: 0.0019 - r2_score: 0.9693 - val_loss: 0.0058 - val_mean_squared_error: 0.0091 - val_r2_score: 0.8770\n",
      "Epoch 252/300\n",
      "\u001B[1m22/22\u001B[0m \u001B[32m━━━━━━━━━━━━━━━━━━━━\u001B[0m\u001B[37m\u001B[0m \u001B[1m0s\u001B[0m 4ms/step - loss: 0.0021 - mean_squared_error: 0.0021 - r2_score: 0.9699 - val_loss: 0.0057 - val_mean_squared_error: 0.0090 - val_r2_score: 0.8781\n",
      "Epoch 253/300\n",
      "\u001B[1m22/22\u001B[0m \u001B[32m━━━━━━━━━━━━━━━━━━━━\u001B[0m\u001B[37m\u001B[0m \u001B[1m0s\u001B[0m 4ms/step - loss: 0.0018 - mean_squared_error: 0.0018 - r2_score: 0.9708 - val_loss: 0.0057 - val_mean_squared_error: 0.0091 - val_r2_score: 0.8772\n",
      "Epoch 254/300\n",
      "\u001B[1m22/22\u001B[0m \u001B[32m━━━━━━━━━━━━━━━━━━━━\u001B[0m\u001B[37m\u001B[0m \u001B[1m0s\u001B[0m 4ms/step - loss: 0.0019 - mean_squared_error: 0.0019 - r2_score: 0.9689 - val_loss: 0.0057 - val_mean_squared_error: 0.0090 - val_r2_score: 0.8778\n",
      "Epoch 255/300\n",
      "\u001B[1m22/22\u001B[0m \u001B[32m━━━━━━━━━━━━━━━━━━━━\u001B[0m\u001B[37m\u001B[0m \u001B[1m0s\u001B[0m 4ms/step - loss: 0.0019 - mean_squared_error: 0.0019 - r2_score: 0.9712 - val_loss: 0.0057 - val_mean_squared_error: 0.0090 - val_r2_score: 0.8778\n",
      "Epoch 256/300\n",
      "\u001B[1m22/22\u001B[0m \u001B[32m━━━━━━━━━━━━━━━━━━━━\u001B[0m\u001B[37m\u001B[0m \u001B[1m0s\u001B[0m 4ms/step - loss: 0.0020 - mean_squared_error: 0.0020 - r2_score: 0.9699 - val_loss: 0.0058 - val_mean_squared_error: 0.0091 - val_r2_score: 0.8769\n",
      "Epoch 257/300\n",
      "\u001B[1m22/22\u001B[0m \u001B[32m━━━━━━━━━━━━━━━━━━━━\u001B[0m\u001B[37m\u001B[0m \u001B[1m0s\u001B[0m 4ms/step - loss: 0.0020 - mean_squared_error: 0.0020 - r2_score: 0.9684 - val_loss: 0.0058 - val_mean_squared_error: 0.0091 - val_r2_score: 0.8764\n",
      "Epoch 258/300\n",
      "\u001B[1m22/22\u001B[0m \u001B[32m━━━━━━━━━━━━━━━━━━━━\u001B[0m\u001B[37m\u001B[0m \u001B[1m0s\u001B[0m 4ms/step - loss: 0.0019 - mean_squared_error: 0.0019 - r2_score: 0.9688 - val_loss: 0.0058 - val_mean_squared_error: 0.0091 - val_r2_score: 0.8766\n",
      "Epoch 259/300\n",
      "\u001B[1m22/22\u001B[0m \u001B[32m━━━━━━━━━━━━━━━━━━━━\u001B[0m\u001B[37m\u001B[0m \u001B[1m0s\u001B[0m 4ms/step - loss: 0.0018 - mean_squared_error: 0.0018 - r2_score: 0.9710 - val_loss: 0.0058 - val_mean_squared_error: 0.0091 - val_r2_score: 0.8763\n",
      "Epoch 260/300\n",
      "\u001B[1m22/22\u001B[0m \u001B[32m━━━━━━━━━━━━━━━━━━━━\u001B[0m\u001B[37m\u001B[0m \u001B[1m0s\u001B[0m 4ms/step - loss: 0.0020 - mean_squared_error: 0.0020 - r2_score: 0.9701 - val_loss: 0.0057 - val_mean_squared_error: 0.0090 - val_r2_score: 0.8773\n",
      "Epoch 261/300\n",
      "\u001B[1m22/22\u001B[0m \u001B[32m━━━━━━━━━━━━━━━━━━━━\u001B[0m\u001B[37m\u001B[0m \u001B[1m0s\u001B[0m 4ms/step - loss: 0.0018 - mean_squared_error: 0.0018 - r2_score: 0.9693 - val_loss: 0.0057 - val_mean_squared_error: 0.0091 - val_r2_score: 0.8776\n",
      "Epoch 262/300\n",
      "\u001B[1m22/22\u001B[0m \u001B[32m━━━━━━━━━━━━━━━━━━━━\u001B[0m\u001B[37m\u001B[0m \u001B[1m0s\u001B[0m 4ms/step - loss: 0.0020 - mean_squared_error: 0.0020 - r2_score: 0.9693 - val_loss: 0.0058 - val_mean_squared_error: 0.0091 - val_r2_score: 0.8770\n",
      "Epoch 263/300\n",
      "\u001B[1m22/22\u001B[0m \u001B[32m━━━━━━━━━━━━━━━━━━━━\u001B[0m\u001B[37m\u001B[0m \u001B[1m0s\u001B[0m 4ms/step - loss: 0.0019 - mean_squared_error: 0.0019 - r2_score: 0.9711 - val_loss: 0.0056 - val_mean_squared_error: 0.0089 - val_r2_score: 0.8793\n",
      "Epoch 264/300\n",
      "\u001B[1m22/22\u001B[0m \u001B[32m━━━━━━━━━━━━━━━━━━━━\u001B[0m\u001B[37m\u001B[0m \u001B[1m0s\u001B[0m 4ms/step - loss: 0.0019 - mean_squared_error: 0.0019 - r2_score: 0.9697 - val_loss: 0.0058 - val_mean_squared_error: 0.0092 - val_r2_score: 0.8754\n",
      "Epoch 265/300\n",
      "\u001B[1m22/22\u001B[0m \u001B[32m━━━━━━━━━━━━━━━━━━━━\u001B[0m\u001B[37m\u001B[0m \u001B[1m0s\u001B[0m 4ms/step - loss: 0.0020 - mean_squared_error: 0.0020 - r2_score: 0.9654 - val_loss: 0.0057 - val_mean_squared_error: 0.0091 - val_r2_score: 0.8774\n",
      "Epoch 266/300\n",
      "\u001B[1m22/22\u001B[0m \u001B[32m━━━━━━━━━━━━━━━━━━━━\u001B[0m\u001B[37m\u001B[0m \u001B[1m0s\u001B[0m 4ms/step - loss: 0.0019 - mean_squared_error: 0.0019 - r2_score: 0.9689 - val_loss: 0.0058 - val_mean_squared_error: 0.0091 - val_r2_score: 0.8759\n",
      "Epoch 267/300\n",
      "\u001B[1m22/22\u001B[0m \u001B[32m━━━━━━━━━━━━━━━━━━━━\u001B[0m\u001B[37m\u001B[0m \u001B[1m0s\u001B[0m 8ms/step - loss: 0.0020 - mean_squared_error: 0.0020 - r2_score: 0.9695 - val_loss: 0.0058 - val_mean_squared_error: 0.0092 - val_r2_score: 0.8756\n",
      "Epoch 268/300\n",
      "\u001B[1m22/22\u001B[0m \u001B[32m━━━━━━━━━━━━━━━━━━━━\u001B[0m\u001B[37m\u001B[0m \u001B[1m0s\u001B[0m 4ms/step - loss: 0.0019 - mean_squared_error: 0.0019 - r2_score: 0.9701 - val_loss: 0.0057 - val_mean_squared_error: 0.0091 - val_r2_score: 0.8779\n",
      "Epoch 269/300\n",
      "\u001B[1m22/22\u001B[0m \u001B[32m━━━━━━━━━━━━━━━━━━━━\u001B[0m\u001B[37m\u001B[0m \u001B[1m0s\u001B[0m 4ms/step - loss: 0.0019 - mean_squared_error: 0.0019 - r2_score: 0.9700 - val_loss: 0.0058 - val_mean_squared_error: 0.0091 - val_r2_score: 0.8762\n",
      "Epoch 270/300\n",
      "\u001B[1m22/22\u001B[0m \u001B[32m━━━━━━━━━━━━━━━━━━━━\u001B[0m\u001B[37m\u001B[0m \u001B[1m0s\u001B[0m 4ms/step - loss: 0.0019 - mean_squared_error: 0.0019 - r2_score: 0.9708 - val_loss: 0.0057 - val_mean_squared_error: 0.0091 - val_r2_score: 0.8774\n",
      "Epoch 271/300\n",
      "\u001B[1m22/22\u001B[0m \u001B[32m━━━━━━━━━━━━━━━━━━━━\u001B[0m\u001B[37m\u001B[0m \u001B[1m0s\u001B[0m 4ms/step - loss: 0.0020 - mean_squared_error: 0.0020 - r2_score: 0.9683 - val_loss: 0.0058 - val_mean_squared_error: 0.0091 - val_r2_score: 0.8763\n",
      "Epoch 272/300\n",
      "\u001B[1m22/22\u001B[0m \u001B[32m━━━━━━━━━━━━━━━━━━━━\u001B[0m\u001B[37m\u001B[0m \u001B[1m0s\u001B[0m 4ms/step - loss: 0.0019 - mean_squared_error: 0.0019 - r2_score: 0.9685 - val_loss: 0.0058 - val_mean_squared_error: 0.0092 - val_r2_score: 0.8765\n",
      "Epoch 273/300\n",
      "\u001B[1m22/22\u001B[0m \u001B[32m━━━━━━━━━━━━━━━━━━━━\u001B[0m\u001B[37m\u001B[0m \u001B[1m0s\u001B[0m 4ms/step - loss: 0.0021 - mean_squared_error: 0.0021 - r2_score: 0.9685 - val_loss: 0.0058 - val_mean_squared_error: 0.0091 - val_r2_score: 0.8765\n",
      "Epoch 274/300\n",
      "\u001B[1m22/22\u001B[0m \u001B[32m━━━━━━━━━━━━━━━━━━━━\u001B[0m\u001B[37m\u001B[0m \u001B[1m0s\u001B[0m 4ms/step - loss: 0.0019 - mean_squared_error: 0.0019 - r2_score: 0.9705 - val_loss: 0.0059 - val_mean_squared_error: 0.0093 - val_r2_score: 0.8748\n",
      "Epoch 275/300\n",
      "\u001B[1m22/22\u001B[0m \u001B[32m━━━━━━━━━━━━━━━━━━━━\u001B[0m\u001B[37m\u001B[0m \u001B[1m0s\u001B[0m 4ms/step - loss: 0.0018 - mean_squared_error: 0.0018 - r2_score: 0.9698 - val_loss: 0.0058 - val_mean_squared_error: 0.0091 - val_r2_score: 0.8768\n",
      "Epoch 276/300\n",
      "\u001B[1m22/22\u001B[0m \u001B[32m━━━━━━━━━━━━━━━━━━━━\u001B[0m\u001B[37m\u001B[0m \u001B[1m0s\u001B[0m 4ms/step - loss: 0.0017 - mean_squared_error: 0.0017 - r2_score: 0.9733 - val_loss: 0.0059 - val_mean_squared_error: 0.0093 - val_r2_score: 0.8748\n",
      "Epoch 277/300\n",
      "\u001B[1m22/22\u001B[0m \u001B[32m━━━━━━━━━━━━━━━━━━━━\u001B[0m\u001B[37m\u001B[0m \u001B[1m0s\u001B[0m 4ms/step - loss: 0.0020 - mean_squared_error: 0.0020 - r2_score: 0.9713 - val_loss: 0.0059 - val_mean_squared_error: 0.0093 - val_r2_score: 0.8750\n",
      "Epoch 278/300\n",
      "\u001B[1m22/22\u001B[0m \u001B[32m━━━━━━━━━━━━━━━━━━━━\u001B[0m\u001B[37m\u001B[0m \u001B[1m0s\u001B[0m 4ms/step - loss: 0.0018 - mean_squared_error: 0.0018 - r2_score: 0.9696 - val_loss: 0.0058 - val_mean_squared_error: 0.0092 - val_r2_score: 0.8761\n",
      "Epoch 279/300\n",
      "\u001B[1m22/22\u001B[0m \u001B[32m━━━━━━━━━━━━━━━━━━━━\u001B[0m\u001B[37m\u001B[0m \u001B[1m0s\u001B[0m 4ms/step - loss: 0.0020 - mean_squared_error: 0.0020 - r2_score: 0.9711 - val_loss: 0.0059 - val_mean_squared_error: 0.0093 - val_r2_score: 0.8747\n",
      "Epoch 280/300\n",
      "\u001B[1m22/22\u001B[0m \u001B[32m━━━━━━━━━━━━━━━━━━━━\u001B[0m\u001B[37m\u001B[0m \u001B[1m0s\u001B[0m 4ms/step - loss: 0.0018 - mean_squared_error: 0.0018 - r2_score: 0.9733 - val_loss: 0.0058 - val_mean_squared_error: 0.0092 - val_r2_score: 0.8763\n",
      "Epoch 281/300\n",
      "\u001B[1m22/22\u001B[0m \u001B[32m━━━━━━━━━━━━━━━━━━━━\u001B[0m\u001B[37m\u001B[0m \u001B[1m0s\u001B[0m 4ms/step - loss: 0.0019 - mean_squared_error: 0.0019 - r2_score: 0.9709 - val_loss: 0.0059 - val_mean_squared_error: 0.0093 - val_r2_score: 0.8749\n",
      "Epoch 282/300\n",
      "\u001B[1m22/22\u001B[0m \u001B[32m━━━━━━━━━━━━━━━━━━━━\u001B[0m\u001B[37m\u001B[0m \u001B[1m0s\u001B[0m 4ms/step - loss: 0.0018 - mean_squared_error: 0.0018 - r2_score: 0.9707 - val_loss: 0.0059 - val_mean_squared_error: 0.0093 - val_r2_score: 0.8745\n",
      "Epoch 283/300\n",
      "\u001B[1m22/22\u001B[0m \u001B[32m━━━━━━━━━━━━━━━━━━━━\u001B[0m\u001B[37m\u001B[0m \u001B[1m0s\u001B[0m 4ms/step - loss: 0.0018 - mean_squared_error: 0.0018 - r2_score: 0.9710 - val_loss: 0.0058 - val_mean_squared_error: 0.0092 - val_r2_score: 0.8763\n",
      "Epoch 284/300\n",
      "\u001B[1m22/22\u001B[0m \u001B[32m━━━━━━━━━━━━━━━━━━━━\u001B[0m\u001B[37m\u001B[0m \u001B[1m0s\u001B[0m 4ms/step - loss: 0.0019 - mean_squared_error: 0.0019 - r2_score: 0.9678 - val_loss: 0.0058 - val_mean_squared_error: 0.0093 - val_r2_score: 0.8752\n",
      "Epoch 285/300\n",
      "\u001B[1m22/22\u001B[0m \u001B[32m━━━━━━━━━━━━━━━━━━━━\u001B[0m\u001B[37m\u001B[0m \u001B[1m0s\u001B[0m 4ms/step - loss: 0.0017 - mean_squared_error: 0.0017 - r2_score: 0.9707 - val_loss: 0.0059 - val_mean_squared_error: 0.0094 - val_r2_score: 0.8738\n",
      "Epoch 286/300\n",
      "\u001B[1m22/22\u001B[0m \u001B[32m━━━━━━━━━━━━━━━━━━━━\u001B[0m\u001B[37m\u001B[0m \u001B[1m0s\u001B[0m 4ms/step - loss: 0.0018 - mean_squared_error: 0.0018 - r2_score: 0.9697 - val_loss: 0.0059 - val_mean_squared_error: 0.0093 - val_r2_score: 0.8747\n",
      "Epoch 287/300\n",
      "\u001B[1m22/22\u001B[0m \u001B[32m━━━━━━━━━━━━━━━━━━━━\u001B[0m\u001B[37m\u001B[0m \u001B[1m0s\u001B[0m 4ms/step - loss: 0.0019 - mean_squared_error: 0.0019 - r2_score: 0.9722 - val_loss: 0.0058 - val_mean_squared_error: 0.0092 - val_r2_score: 0.8755\n",
      "Epoch 288/300\n",
      "\u001B[1m22/22\u001B[0m \u001B[32m━━━━━━━━━━━━━━━━━━━━\u001B[0m\u001B[37m\u001B[0m \u001B[1m0s\u001B[0m 4ms/step - loss: 0.0019 - mean_squared_error: 0.0019 - r2_score: 0.9702 - val_loss: 0.0059 - val_mean_squared_error: 0.0093 - val_r2_score: 0.8742\n",
      "Epoch 289/300\n",
      "\u001B[1m22/22\u001B[0m \u001B[32m━━━━━━━━━━━━━━━━━━━━\u001B[0m\u001B[37m\u001B[0m \u001B[1m0s\u001B[0m 4ms/step - loss: 0.0018 - mean_squared_error: 0.0018 - r2_score: 0.9711 - val_loss: 0.0059 - val_mean_squared_error: 0.0094 - val_r2_score: 0.8738\n",
      "Epoch 290/300\n",
      "\u001B[1m22/22\u001B[0m \u001B[32m━━━━━━━━━━━━━━━━━━━━\u001B[0m\u001B[37m\u001B[0m \u001B[1m0s\u001B[0m 4ms/step - loss: 0.0017 - mean_squared_error: 0.0017 - r2_score: 0.9735 - val_loss: 0.0059 - val_mean_squared_error: 0.0094 - val_r2_score: 0.8735\n",
      "Epoch 291/300\n",
      "\u001B[1m22/22\u001B[0m \u001B[32m━━━━━━━━━━━━━━━━━━━━\u001B[0m\u001B[37m\u001B[0m \u001B[1m0s\u001B[0m 4ms/step - loss: 0.0018 - mean_squared_error: 0.0018 - r2_score: 0.9697 - val_loss: 0.0060 - val_mean_squared_error: 0.0095 - val_r2_score: 0.8728\n",
      "Epoch 292/300\n",
      "\u001B[1m22/22\u001B[0m \u001B[32m━━━━━━━━━━━━━━━━━━━━\u001B[0m\u001B[37m\u001B[0m \u001B[1m0s\u001B[0m 4ms/step - loss: 0.0017 - mean_squared_error: 0.0017 - r2_score: 0.9727 - val_loss: 0.0059 - val_mean_squared_error: 0.0093 - val_r2_score: 0.8746\n",
      "Epoch 293/300\n",
      "\u001B[1m22/22\u001B[0m \u001B[32m━━━━━━━━━━━━━━━━━━━━\u001B[0m\u001B[37m\u001B[0m \u001B[1m0s\u001B[0m 4ms/step - loss: 0.0017 - mean_squared_error: 0.0017 - r2_score: 0.9718 - val_loss: 0.0059 - val_mean_squared_error: 0.0094 - val_r2_score: 0.8730\n",
      "Epoch 294/300\n",
      "\u001B[1m22/22\u001B[0m \u001B[32m━━━━━━━━━━━━━━━━━━━━\u001B[0m\u001B[37m\u001B[0m \u001B[1m0s\u001B[0m 4ms/step - loss: 0.0019 - mean_squared_error: 0.0019 - r2_score: 0.9700 - val_loss: 0.0059 - val_mean_squared_error: 0.0094 - val_r2_score: 0.8735\n",
      "Epoch 295/300\n",
      "\u001B[1m22/22\u001B[0m \u001B[32m━━━━━━━━━━━━━━━━━━━━\u001B[0m\u001B[37m\u001B[0m \u001B[1m0s\u001B[0m 4ms/step - loss: 0.0018 - mean_squared_error: 0.0018 - r2_score: 0.9694 - val_loss: 0.0058 - val_mean_squared_error: 0.0093 - val_r2_score: 0.8753\n",
      "Epoch 296/300\n",
      "\u001B[1m22/22\u001B[0m \u001B[32m━━━━━━━━━━━━━━━━━━━━\u001B[0m\u001B[37m\u001B[0m \u001B[1m0s\u001B[0m 4ms/step - loss: 0.0019 - mean_squared_error: 0.0019 - r2_score: 0.9699 - val_loss: 0.0059 - val_mean_squared_error: 0.0094 - val_r2_score: 0.8738\n",
      "Epoch 297/300\n",
      "\u001B[1m22/22\u001B[0m \u001B[32m━━━━━━━━━━━━━━━━━━━━\u001B[0m\u001B[37m\u001B[0m \u001B[1m0s\u001B[0m 4ms/step - loss: 0.0019 - mean_squared_error: 0.0019 - r2_score: 0.9679 - val_loss: 0.0060 - val_mean_squared_error: 0.0096 - val_r2_score: 0.8718\n",
      "Epoch 298/300\n",
      "\u001B[1m22/22\u001B[0m \u001B[32m━━━━━━━━━━━━━━━━━━━━\u001B[0m\u001B[37m\u001B[0m \u001B[1m0s\u001B[0m 4ms/step - loss: 0.0017 - mean_squared_error: 0.0017 - r2_score: 0.9718 - val_loss: 0.0059 - val_mean_squared_error: 0.0094 - val_r2_score: 0.8736\n",
      "Epoch 299/300\n",
      "\u001B[1m22/22\u001B[0m \u001B[32m━━━━━━━━━━━━━━━━━━━━\u001B[0m\u001B[37m\u001B[0m \u001B[1m0s\u001B[0m 4ms/step - loss: 0.0018 - mean_squared_error: 0.0018 - r2_score: 0.9715 - val_loss: 0.0060 - val_mean_squared_error: 0.0095 - val_r2_score: 0.8726\n",
      "Epoch 300/300\n",
      "\u001B[1m22/22\u001B[0m \u001B[32m━━━━━━━━━━━━━━━━━━━━\u001B[0m\u001B[37m\u001B[0m \u001B[1m0s\u001B[0m 4ms/step - loss: 0.0018 - mean_squared_error: 0.0018 - r2_score: 0.9708 - val_loss: 0.0059 - val_mean_squared_error: 0.0093 - val_r2_score: 0.8749\n"
     ]
    },
    {
     "data": {
      "text/plain": "<keras.src.callbacks.history.History at 0x3353e1460>"
     },
     "execution_count": 17,
     "metadata": {},
     "output_type": "execute_result"
    }
   ],
   "source": [
    "# Train model with train dataset\n",
    "model.fit(X_train, y_train, validation_data=(X_val, y_val), epochs=300, callbacks=[cp2])"
   ]
  },
  {
   "cell_type": "code",
   "execution_count": 18,
   "metadata": {
    "ExecuteTime": {
     "end_time": "2025-01-04T17:47:49.690204Z",
     "start_time": "2025-01-04T17:47:49.686837Z"
    }
   },
   "outputs": [
    {
     "data": {
      "text/plain": "(703, 30, 10)"
     },
     "execution_count": 18,
     "metadata": {},
     "output_type": "execute_result"
    }
   ],
   "source": [
    "X_train.shape"
   ]
  },
  {
   "cell_type": "code",
   "execution_count": 19,
   "metadata": {
    "ExecuteTime": {
     "end_time": "2025-01-04T17:47:49.692081Z",
     "start_time": "2025-01-04T17:47:49.689763Z"
    }
   },
   "outputs": [],
   "source": [
    "# train_predictions = model.predict(X_train).flatten()\n",
    "# y_train_flattened = y_train.flatten()\n",
    "# train_results = pd.DataFrame(data={'Train Predictions':train_predictions, 'Actuals':y_train_flattened})\n",
    "# train_results"
   ]
  },
  {
   "cell_type": "code",
   "execution_count": 20,
   "metadata": {
    "ExecuteTime": {
     "end_time": "2025-01-04T17:47:49.696726Z",
     "start_time": "2025-01-04T17:47:49.691801Z"
    }
   },
   "outputs": [],
   "source": [
    "# from tensorflow.keras.models import load_model\n",
    "\n",
    "# model = load_model('model2/best_model.keras')\n"
   ]
  },
  {
   "cell_type": "markdown",
   "metadata": {},
   "source": [
    "#### Train with validation set\n"
   ]
  },
  {
   "cell_type": "code",
   "execution_count": 21,
   "metadata": {
    "ExecuteTime": {
     "end_time": "2025-01-04T17:47:50.470509Z",
     "start_time": "2025-01-04T17:47:49.695711Z"
    }
   },
   "outputs": [
    {
     "name": "stdout",
     "output_type": "stream",
     "text": [
      "Epoch 1/10\n",
      "\u001B[1m10/10\u001B[0m \u001B[32m━━━━━━━━━━━━━━━━━━━━\u001B[0m\u001B[37m\u001B[0m \u001B[1m0s\u001B[0m 10ms/step - loss: 0.0058 - mean_squared_error: 0.0058 - r2_score: 0.8803 - val_loss: 0.0022 - val_mean_squared_error: 0.0022 - val_r2_score: 0.9658\n",
      "Epoch 2/10\n",
      "\u001B[1m10/10\u001B[0m \u001B[32m━━━━━━━━━━━━━━━━━━━━\u001B[0m\u001B[37m\u001B[0m \u001B[1m0s\u001B[0m 7ms/step - loss: 0.0034 - mean_squared_error: 0.0034 - r2_score: 0.9234 - val_loss: 0.0031 - val_mean_squared_error: 0.0031 - val_r2_score: 0.9508\n",
      "Epoch 3/10\n",
      "\u001B[1m10/10\u001B[0m \u001B[32m━━━━━━━━━━━━━━━━━━━━\u001B[0m\u001B[37m\u001B[0m \u001B[1m0s\u001B[0m 7ms/step - loss: 0.0028 - mean_squared_error: 0.0027 - r2_score: 0.9393 - val_loss: 0.0043 - val_mean_squared_error: 0.0043 - val_r2_score: 0.9319\n",
      "Epoch 4/10\n",
      "\u001B[1m10/10\u001B[0m \u001B[32m━━━━━━━━━━━━━━━━━━━━\u001B[0m\u001B[37m\u001B[0m \u001B[1m0s\u001B[0m 7ms/step - loss: 0.0023 - mean_squared_error: 0.0023 - r2_score: 0.9505 - val_loss: 0.0050 - val_mean_squared_error: 0.0050 - val_r2_score: 0.9213\n",
      "Epoch 5/10\n",
      "\u001B[1m10/10\u001B[0m \u001B[32m━━━━━━━━━━━━━━━━━━━━\u001B[0m\u001B[37m\u001B[0m \u001B[1m0s\u001B[0m 7ms/step - loss: 0.0019 - mean_squared_error: 0.0019 - r2_score: 0.9595 - val_loss: 0.0052 - val_mean_squared_error: 0.0052 - val_r2_score: 0.9184\n",
      "Epoch 6/10\n",
      "\u001B[1m10/10\u001B[0m \u001B[32m━━━━━━━━━━━━━━━━━━━━\u001B[0m\u001B[37m\u001B[0m \u001B[1m0s\u001B[0m 7ms/step - loss: 0.0018 - mean_squared_error: 0.0018 - r2_score: 0.9622 - val_loss: 0.0054 - val_mean_squared_error: 0.0054 - val_r2_score: 0.9150\n",
      "Epoch 7/10\n",
      "\u001B[1m10/10\u001B[0m \u001B[32m━━━━━━━━━━━━━━━━━━━━\u001B[0m\u001B[37m\u001B[0m \u001B[1m0s\u001B[0m 7ms/step - loss: 0.0014 - mean_squared_error: 0.0015 - r2_score: 0.9699 - val_loss: 0.0057 - val_mean_squared_error: 0.0057 - val_r2_score: 0.9098\n",
      "Epoch 8/10\n",
      "\u001B[1m10/10\u001B[0m \u001B[32m━━━━━━━━━━━━━━━━━━━━\u001B[0m\u001B[37m\u001B[0m \u001B[1m0s\u001B[0m 7ms/step - loss: 0.0016 - mean_squared_error: 0.0016 - r2_score: 0.9662 - val_loss: 0.0062 - val_mean_squared_error: 0.0062 - val_r2_score: 0.9021\n",
      "Epoch 9/10\n",
      "\u001B[1m10/10\u001B[0m \u001B[32m━━━━━━━━━━━━━━━━━━━━\u001B[0m\u001B[37m\u001B[0m \u001B[1m0s\u001B[0m 7ms/step - loss: 0.0013 - mean_squared_error: 0.0014 - r2_score: 0.9712 - val_loss: 0.0063 - val_mean_squared_error: 0.0063 - val_r2_score: 0.9009\n",
      "Epoch 10/10\n",
      "\u001B[1m10/10\u001B[0m \u001B[32m━━━━━━━━━━━━━━━━━━━━\u001B[0m\u001B[37m\u001B[0m \u001B[1m0s\u001B[0m 7ms/step - loss: 0.0012 - mean_squared_error: 0.0012 - r2_score: 0.9701 - val_loss: 0.0065 - val_mean_squared_error: 0.0065 - val_r2_score: 0.8979\n"
     ]
    },
    {
     "data": {
      "text/plain": "<keras.src.callbacks.history.History at 0x3353e1fd0>"
     },
     "execution_count": 21,
     "metadata": {},
     "output_type": "execute_result"
    }
   ],
   "source": [
    "model.fit(X_val, y_val, validation_data=(X_train, y_train), epochs=10, callbacks=[cp2])"
   ]
  },
  {
   "cell_type": "markdown",
   "metadata": {},
   "source": [
    "### Evaluate Model"
   ]
  },
  {
   "cell_type": "code",
   "execution_count": 22,
   "metadata": {
    "ExecuteTime": {
     "end_time": "2025-01-04T17:47:50.471776Z",
     "start_time": "2025-01-04T17:47:50.469425Z"
    }
   },
   "outputs": [],
   "source": [
    "def evaluation_metrics(y_predictions, y_actuals):\n",
    "    y_predictions_flattened = y_predictions.flatten()\n",
    "    y_actuals_flattened = y_actuals.flatten()\n",
    "\n",
    "    mse = mean_squared_error(y_actuals_flattened, y_predictions_flattened)\n",
    "    rmse = np.sqrt(mse)\n",
    "    r_squared = r2_score(y_actuals_flattened, y_predictions_flattened)\n",
    "\n",
    "    res_dict = { \n",
    "            \"mse\": str(mse),\n",
    "            \"r_squared\": str(r_squared),\n",
    "        }\n",
    "    \n",
    "    return res_dict"
   ]
  },
  {
   "cell_type": "code",
   "execution_count": 23,
   "metadata": {
    "ExecuteTime": {
     "end_time": "2025-01-04T17:47:50.652550Z",
     "start_time": "2025-01-04T17:47:50.473456Z"
    }
   },
   "outputs": [
    {
     "name": "stdout",
     "output_type": "stream",
     "text": [
      "\u001B[1m10/10\u001B[0m \u001B[32m━━━━━━━━━━━━━━━━━━━━\u001B[0m\u001B[37m\u001B[0m \u001B[1m0s\u001B[0m 7ms/step\n",
      "\u001B[1m8/8\u001B[0m \u001B[32m━━━━━━━━━━━━━━━━━━━━\u001B[0m\u001B[37m\u001B[0m \u001B[1m0s\u001B[0m 2ms/step\n",
      "**********************\n",
      "Val Mean Squared Error (MSE): 0.0014523557286800631\n",
      "R-squared on validation set: 0.9688678097389223\n",
      "**********************\n",
      "Test Mean Squared Error (MSE): 0.00803840690084225\n",
      "R-squared on test set: 0.5240405373178039\n",
      "**********************\n",
      "Val Mean Squared Error (MSE) unormalized: 90.07644085002377\n",
      "R-squared on validation set unormalized: 0.9688678097160262\n",
      "**********************\n",
      "Test MSE unormalized: 498.5493170801378\n",
      "R-squared on test set unormalized: 0.5240406204768171\n"
     ]
    }
   ],
   "source": [
    "val_predictions = model.predict(X_val)\n",
    "test_predictions = model.predict(X_test)\n",
    "\n",
    "# Metrics calculated on normalized data\n",
    "res_dict_val = evaluation_metrics(val_predictions, y_val)\n",
    "\n",
    "print(\"**********************\")\n",
    "print(f\"Val Mean Squared Error (MSE): {res_dict_val['mse']}\")\n",
    "print(F\"R-squared on validation set: {res_dict_val['r_squared']}\")\n",
    "\n",
    "res_dict_test = evaluation_metrics(test_predictions, y_test)\n",
    "\n",
    "print(\"**********************\")\n",
    "print(f\"Test Mean Squared Error (MSE): {res_dict_test['mse']}\")\n",
    "print(F\"R-squared on test set: {res_dict_test['r_squared']}\")\n",
    "\n",
    "\n",
    "# Metrics calculated on unnormalized data\n",
    "\n",
    "y_val_unscaled = scaler_labels.inverse_transform(y_val)\n",
    "val_predictions_unscaled =  scaler_labels.inverse_transform(val_predictions)\n",
    "res_dict_val_unscaled = evaluation_metrics(val_predictions_unscaled, y_val_unscaled)\n",
    "print(\"**********************\")\n",
    "print(f\"Val Mean Squared Error (MSE) unormalized: {res_dict_val_unscaled['mse']}\")\n",
    "print(F\"R-squared on validation set unormalized: {res_dict_val_unscaled['r_squared']}\")\n",
    "\n",
    "y_test_unscaled = scaler_labels.inverse_transform(y_test)\n",
    "test_predictions_unscaled =  scaler_labels.inverse_transform(test_predictions)\n",
    "res_dict_test_unscaled = evaluation_metrics(test_predictions_unscaled, y_test_unscaled)\n",
    "print(\"**********************\")\n",
    "print(f\"Test MSE unormalized: {res_dict_test_unscaled['mse']}\")\n",
    "print(F\"R-squared on test set unormalized: {res_dict_test_unscaled['r_squared']}\")\n",
    "\n",
    "\n"
   ]
  },
  {
   "cell_type": "code",
   "execution_count": 24,
   "metadata": {
    "ExecuteTime": {
     "end_time": "2025-01-04T17:47:50.657628Z",
     "start_time": "2025-01-04T17:47:50.654878Z"
    }
   },
   "outputs": [],
   "source": [
    "def plot_predictions(y_predicted_sample, y_actual_sample, num_predictions):\n",
    "  df = pd.DataFrame(data={'Predictions': y_predicted_sample, 'Actuals':y_actual_sample})\n",
    "  plt.plot(df['Predictions'][0:num_predictions], label='Predictions')\n",
    "  plt.plot(df['Actuals'][0:num_predictions], label='Actuals')\n",
    "  plt.legend()\n",
    "\n",
    "  plt.show()\n",
    "\n",
    "  return \n",
    "\n",
    "def predictions_table(y_predicted, y_actual, num_predictions):\n",
    "  combined_array = np.column_stack((y_predicted, y_actual))\n",
    "  \n",
    "  results_price = pd.DataFrame(combined_array[:num_predictions], columns=['y_predicted_price','y_actual_price'])\n",
    "  display(results_price)\n",
    "\n"
   ]
  },
  {
   "cell_type": "markdown",
   "metadata": {},
   "source": [
    "### Plot some predictions vs actuals"
   ]
  },
  {
   "cell_type": "code",
   "execution_count": 25,
   "metadata": {
    "ExecuteTime": {
     "end_time": "2025-01-04T17:47:50.818796Z",
     "start_time": "2025-01-04T17:47:50.658276Z"
    }
   },
   "outputs": [
    {
     "data": {
      "text/plain": "<Figure size 640x480 with 1 Axes>",
      "image/png": "[encoded data removed]"
     },
     "metadata": {},
     "output_type": "display_data"
    },
    {
     "data": {
      "text/plain": "   y_predicted_price  y_actual_price\n0         152.769287          132.02\n1         148.440338          142.06\n2         153.259247          142.48\n3         158.243088          151.20\n4         155.350967          148.72\n5         163.781540          157.03\n6         159.893753          154.67\n7         163.688538          147.71\n8         170.520538          144.85\n9         165.712448          139.06",
      "text/html": "<div>\n<style scoped>\n    .dataframe tbody tr th:only-of-type {\n        vertical-align: middle;\n    }\n\n    .dataframe tbody tr th {\n        vertical-align: top;\n    }\n\n    .dataframe thead th {\n        text-align: right;\n    }\n</style>\n<table border=\"1\" class=\"dataframe\">\n  <thead>\n    <tr style=\"text-align: right;\">\n      <th></th>\n      <th>y_predicted_price</th>\n      <th>y_actual_price</th>\n    </tr>\n  </thead>\n  <tbody>\n    <tr>\n      <th>0</th>\n      <td>152.769287</td>\n      <td>132.02</td>\n    </tr>\n    <tr>\n      <th>1</th>\n      <td>148.440338</td>\n      <td>142.06</td>\n    </tr>\n    <tr>\n      <th>2</th>\n      <td>153.259247</td>\n      <td>142.48</td>\n    </tr>\n    <tr>\n      <th>3</th>\n      <td>158.243088</td>\n      <td>151.20</td>\n    </tr>\n    <tr>\n      <th>4</th>\n      <td>155.350967</td>\n      <td>148.72</td>\n    </tr>\n    <tr>\n      <th>5</th>\n      <td>163.781540</td>\n      <td>157.03</td>\n    </tr>\n    <tr>\n      <th>6</th>\n      <td>159.893753</td>\n      <td>154.67</td>\n    </tr>\n    <tr>\n      <th>7</th>\n      <td>163.688538</td>\n      <td>147.71</td>\n    </tr>\n    <tr>\n      <th>8</th>\n      <td>170.520538</td>\n      <td>144.85</td>\n    </tr>\n    <tr>\n      <th>9</th>\n      <td>165.712448</td>\n      <td>139.06</td>\n    </tr>\n  </tbody>\n</table>\n</div>"
     },
     "metadata": {},
     "output_type": "display_data"
    },
    {
     "data": {
      "text/plain": "<Figure size 640x480 with 1 Axes>",
      "image/png": "[encoded data removed]"
     },
     "metadata": {},
     "output_type": "display_data"
    },
    {
     "data": {
      "text/plain": "   y_predicted_price  y_actual_price\n0         152.760956          139.06\n1         151.129089          141.22\n2         153.944580          137.91\n3         156.979630          137.66\n4         157.395004          126.68\n5         160.615097          134.51\n6         157.721313          137.64\n7         161.210129          143.72\n8         166.585754          146.05\n9         164.656754          145.71",
      "text/html": "<div>\n<style scoped>\n    .dataframe tbody tr th:only-of-type {\n        vertical-align: middle;\n    }\n\n    .dataframe tbody tr th {\n        vertical-align: top;\n    }\n\n    .dataframe thead th {\n        text-align: right;\n    }\n</style>\n<table border=\"1\" class=\"dataframe\">\n  <thead>\n    <tr style=\"text-align: right;\">\n      <th></th>\n      <th>y_predicted_price</th>\n      <th>y_actual_price</th>\n    </tr>\n  </thead>\n  <tbody>\n    <tr>\n      <th>0</th>\n      <td>152.760956</td>\n      <td>139.06</td>\n    </tr>\n    <tr>\n      <th>1</th>\n      <td>151.129089</td>\n      <td>141.22</td>\n    </tr>\n    <tr>\n      <th>2</th>\n      <td>153.944580</td>\n      <td>137.91</td>\n    </tr>\n    <tr>\n      <th>3</th>\n      <td>156.979630</td>\n      <td>137.66</td>\n    </tr>\n    <tr>\n      <th>4</th>\n      <td>157.395004</td>\n      <td>126.68</td>\n    </tr>\n    <tr>\n      <th>5</th>\n      <td>160.615097</td>\n      <td>134.51</td>\n    </tr>\n    <tr>\n      <th>6</th>\n      <td>157.721313</td>\n      <td>137.64</td>\n    </tr>\n    <tr>\n      <th>7</th>\n      <td>161.210129</td>\n      <td>143.72</td>\n    </tr>\n    <tr>\n      <th>8</th>\n      <td>166.585754</td>\n      <td>146.05</td>\n    </tr>\n    <tr>\n      <th>9</th>\n      <td>164.656754</td>\n      <td>145.71</td>\n    </tr>\n  </tbody>\n</table>\n</div>"
     },
     "metadata": {},
     "output_type": "display_data"
    }
   ],
   "source": [
    "test_predictions_unscaled = scaler_labels.inverse_transform(test_predictions)\n",
    "y_test_unscaled = scaler_labels.inverse_transform(y_test)\n",
    "for i in [1, 10]:  \n",
    "    plot_predictions(test_predictions_unscaled[i], y_test_unscaled[i], num_predictions)\n",
    "    predictions_table(test_predictions_unscaled[i], y_test_unscaled[i], num_predictions)"
   ]
  },
  {
   "cell_type": "markdown",
   "metadata": {},
   "source": [
    "### Train model also on test set before deploying"
   ]
  },
  {
   "cell_type": "code",
   "execution_count": 26,
   "metadata": {
    "ExecuteTime": {
     "end_time": "2025-01-04T17:47:51.592070Z",
     "start_time": "2025-01-04T17:47:50.804039Z"
    }
   },
   "outputs": [
    {
     "name": "stdout",
     "output_type": "stream",
     "text": [
      "Epoch 1/10\n",
      "\u001B[1m8/8\u001B[0m \u001B[32m━━━━━━━━━━━━━━━━━━━━\u001B[0m\u001B[37m\u001B[0m \u001B[1m0s\u001B[0m 10ms/step - loss: 0.0074 - mean_squared_error: 0.0074 - r2_score: 0.5408 - val_loss: 0.0046 - val_mean_squared_error: 0.0045 - val_r2_score: 0.9281\n",
      "Epoch 2/10\n",
      "\u001B[1m8/8\u001B[0m \u001B[32m━━━━━━━━━━━━━━━━━━━━\u001B[0m\u001B[37m\u001B[0m \u001B[1m0s\u001B[0m 14ms/step - loss: 0.0063 - mean_squared_error: 0.0063 - r2_score: 0.6351 - val_loss: 0.0040 - val_mean_squared_error: 0.0040 - val_r2_score: 0.9361\n",
      "Epoch 3/10\n",
      "\u001B[1m8/8\u001B[0m \u001B[32m━━━━━━━━━━━━━━━━━━━━\u001B[0m\u001B[37m\u001B[0m \u001B[1m0s\u001B[0m 9ms/step - loss: 0.0066 - mean_squared_error: 0.0066 - r2_score: 0.6211 - val_loss: 0.0046 - val_mean_squared_error: 0.0046 - val_r2_score: 0.9269\n",
      "Epoch 4/10\n",
      "\u001B[1m8/8\u001B[0m \u001B[32m━━━━━━━━━━━━━━━━━━━━\u001B[0m\u001B[37m\u001B[0m \u001B[1m0s\u001B[0m 8ms/step - loss: 0.0065 - mean_squared_error: 0.0065 - r2_score: 0.5977 - val_loss: 0.0048 - val_mean_squared_error: 0.0048 - val_r2_score: 0.9245\n",
      "Epoch 5/10\n",
      "\u001B[1m8/8\u001B[0m \u001B[32m━━━━━━━━━━━━━━━━━━━━\u001B[0m\u001B[37m\u001B[0m \u001B[1m0s\u001B[0m 9ms/step - loss: 0.0055 - mean_squared_error: 0.0055 - r2_score: 0.6263 - val_loss: 0.0048 - val_mean_squared_error: 0.0048 - val_r2_score: 0.9237\n",
      "Epoch 6/10\n",
      "\u001B[1m8/8\u001B[0m \u001B[32m━━━━━━━━━━━━━━━━━━━━\u001B[0m\u001B[37m\u001B[0m \u001B[1m0s\u001B[0m 8ms/step - loss: 0.0062 - mean_squared_error: 0.0062 - r2_score: 0.6522 - val_loss: 0.0049 - val_mean_squared_error: 0.0049 - val_r2_score: 0.9220\n",
      "Epoch 7/10\n",
      "\u001B[1m8/8\u001B[0m \u001B[32m━━━━━━━━━━━━━━━━━━━━\u001B[0m\u001B[37m\u001B[0m \u001B[1m0s\u001B[0m 9ms/step - loss: 0.0056 - mean_squared_error: 0.0056 - r2_score: 0.6690 - val_loss: 0.0050 - val_mean_squared_error: 0.0050 - val_r2_score: 0.9203\n",
      "Epoch 8/10\n",
      "\u001B[1m8/8\u001B[0m \u001B[32m━━━━━━━━━━━━━━━━━━━━\u001B[0m\u001B[37m\u001B[0m \u001B[1m0s\u001B[0m 8ms/step - loss: 0.0054 - mean_squared_error: 0.0054 - r2_score: 0.6789 - val_loss: 0.0052 - val_mean_squared_error: 0.0052 - val_r2_score: 0.9179\n",
      "Epoch 9/10\n",
      "\u001B[1m8/8\u001B[0m \u001B[32m━━━━━━━━━━━━━━━━━━━━\u001B[0m\u001B[37m\u001B[0m \u001B[1m0s\u001B[0m 8ms/step - loss: 0.0047 - mean_squared_error: 0.0047 - r2_score: 0.7063 - val_loss: 0.0055 - val_mean_squared_error: 0.0055 - val_r2_score: 0.9130\n",
      "Epoch 10/10\n",
      "\u001B[1m8/8\u001B[0m \u001B[32m━━━━━━━━━━━━━━━━━━━━\u001B[0m\u001B[37m\u001B[0m \u001B[1m0s\u001B[0m 8ms/step - loss: 0.0053 - mean_squared_error: 0.0053 - r2_score: 0.6587 - val_loss: 0.0055 - val_mean_squared_error: 0.0055 - val_r2_score: 0.9125\n"
     ]
    },
    {
     "data": {
      "text/plain": "<keras.src.callbacks.history.History at 0x3355f52e0>"
     },
     "execution_count": 26,
     "metadata": {},
     "output_type": "execute_result"
    }
   ],
   "source": [
    "model.fit(X_test, y_test, validation_data=(X_train, y_train), epochs=10, callbacks=[cp2])"
   ]
  },
  {
   "cell_type": "markdown",
   "metadata": {},
   "source": [
    "## Save model on registry"
   ]
  },
  {
   "cell_type": "code",
   "execution_count": 27,
   "metadata": {
    "ExecuteTime": {
     "end_time": "2025-01-04T17:47:51.593875Z",
     "start_time": "2025-01-04T17:47:51.591575Z"
    }
   },
   "outputs": [],
   "source": [
    "from hsml.schema import Schema\n",
    "from hsml.model_schema import ModelSchema"
   ]
  },
  {
   "cell_type": "code",
   "execution_count": 28,
   "metadata": {
    "ExecuteTime": {
     "end_time": "2025-01-04T17:47:51.597987Z",
     "start_time": "2025-01-04T17:47:51.594611Z"
    }
   },
   "outputs": [],
   "source": [
    "model_dir = \"solana_price_model_10d/\"\n",
    "scalers_dir = \"solana_price_10d_scalers/\"\n",
    "if not os.path.exists(model_dir):\n",
    "    os.mkdir(model_dir)\n",
    "images_dir = model_dir + \"/images\"\n",
    "if not os.path.exists(images_dir):\n",
    "    os.mkdir(images_dir)\n",
    "if not os.path.exists(scalers_dir):\n",
    "    os.mkdir(scalers_dir)"
   ]
  },
  {
   "cell_type": "code",
   "execution_count": 29,
   "metadata": {
    "ExecuteTime": {
     "end_time": "2025-01-04T17:48:07.622731Z",
     "start_time": "2025-01-04T17:47:51.596490Z"
    }
   },
   "outputs": [
    {
     "data": {
      "text/plain": "  0%|          | 0/6 [00:00<?, ?it/s]",
      "application/vnd.jupyter.widget-view+json": {
       "version_major": 2,
       "version_minor": 0,
       "model_id": "c537ecf4be774f348a4f503d535182a5"
      }
     },
     "metadata": {},
     "output_type": "display_data"
    },
    {
     "data": {
      "text/plain": "Uploading: 0.000%|          | 0/45628 elapsed<00:00 remaining<?",
      "application/vnd.jupyter.widget-view+json": {
       "version_major": 2,
       "version_minor": 0,
       "model_id": "d4d031b326514bcdb482d243f2d93753"
      }
     },
     "metadata": {},
     "output_type": "display_data"
    },
    {
     "data": {
      "text/plain": "Uploading: 0.000%|          | 0/96582 elapsed<00:00 remaining<?",
      "application/vnd.jupyter.widget-view+json": {
       "version_major": 2,
       "version_minor": 0,
       "model_id": "b662aa76284849dba73f80def2ba2a5c"
      }
     },
     "metadata": {},
     "output_type": "display_data"
    },
    {
     "data": {
      "text/plain": "Uploading: 0.000%|          | 0/219 elapsed<00:00 remaining<?",
      "application/vnd.jupyter.widget-view+json": {
       "version_major": 2,
       "version_minor": 0,
       "model_id": "e260d73a2da149298864df6da4c37c4d"
      }
     },
     "metadata": {},
     "output_type": "display_data"
    },
    {
     "name": "stdout",
     "output_type": "stream",
     "text": [
      "Model created, explore it at https://c.app.hopsworks.ai:443/p/1160346/models/solana_price_daily_model_10d/4\n"
     ]
    }
   ],
   "source": [
    "mr = project.get_model_registry()\n",
    "\n",
    "\n",
    "# Creating input and output schemas using the 'Schema' class for features (X) and target variable (y)\n",
    "input_schema = Schema(X_train)\n",
    "output_schema = Schema(y_train)\n",
    "\n",
    "# Creating a model schema using 'ModelSchema' with the input and output schemas\n",
    "model_schema = ModelSchema(input_schema=input_schema, output_schema=output_schema)\n",
    "\n",
    "# Converting the model schema to a dictionary representation\n",
    "schema_dict = model_schema.to_dict()\n",
    "\n",
    "\n",
    "sample_indices = np.random.choice(X_test.shape[0], size=17, replace=False)\n",
    "sample_test_values = X_test[sample_indices]\n",
    "\n",
    "\n",
    "solana_model = mr.python.create_model(\n",
    "    name=\"solana_price_daily_model_10d\", \n",
    "    metrics= res_dict_test,\n",
    "    model_schema=model_schema,\n",
    "    input_example=sample_test_values, \n",
    "    version=4,\n",
    "    description=\"Solana daily price predictor. Predicts 10 days using solana lagged 30 timesteps, bitcoin lagged price (10) and fear greed index\",\n",
    ")\n",
    "if not test_mode:\n",
    "    model.save(model_dir + \"best_model.keras\")\n",
    "    joblib.dump(scaler_features, 'scaler_features.pkl')\n",
    "    joblib.dump(scaler_labels, 'scaler_labels.pkl')\n",
    "    solana_model.save(model_dir)"
   ]
  },
  {
   "cell_type": "code",
   "execution_count": 30,
   "metadata": {
    "ExecuteTime": {
     "end_time": "2025-01-04T17:48:07.627857Z",
     "start_time": "2025-01-04T17:48:07.625749Z"
    }
   },
   "outputs": [],
   "source": [
    "\n",
    "# min_max_scaler = fs.create_transformation_function(\n",
    "#         transformation_function=\"min_max_scaler\",\n",
    "#         description=\"Scales features to a range between 0 and 1\",\n",
    "#         version=1\n",
    "#     )\n",
    "\n",
    "# min_max_scaler.save()"
   ]
  }
 ],
 "metadata": {
  "kernelspec": {
   "display_name": "crypto-env",
   "language": "python",
   "name": "python3"
  },
  "language_info": {
   "codemirror_mode": {
    "name": "ipython",
    "version": 3
   },
   "file_extension": ".py",
   "mimetype": "text/x-python",
   "name": "python",
   "nbconvert_exporter": "python",
   "pygments_lexer": "ipython3",
   "version": "3.10.16"
  }
 },
 "nbformat": 4,
 "nbformat_minor": 2
}
