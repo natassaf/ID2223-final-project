{
 "cells": [
  {
   "cell_type": "code",
   "execution_count": 1,
   "metadata": {
    "ExecuteTime": {
     "end_time": "2025-01-04T20:05:41.842593Z",
     "start_time": "2025-01-04T20:05:41.621818Z"
    }
   },
   "outputs": [],
   "source": [
    "test_mode = False"
   ]
  },
  {
   "cell_type": "code",
   "execution_count": 2,
   "metadata": {
    "ExecuteTime": {
     "end_time": "2025-01-04T20:05:43.118456Z",
     "start_time": "2025-01-04T20:05:41.628289Z"
    }
   },
   "outputs": [],
   "source": [
    "import os\n",
    "from dotenv import load_dotenv\n",
    "import pandas as pd\n",
    "import hopsworks\n",
    "import numpy as np\n",
    "from sklearn.preprocessing import MinMaxScaler\n",
    "from sklearn.metrics import mean_squared_error, r2_score\n",
    "import matplotlib.pyplot as plt\n",
    "\n",
    "import joblib\n",
    "import pickle\n",
    "import utils\n",
    "from utils import fng_labels_to_numbers_map"
   ]
  },
  {
   "cell_type": "markdown",
   "metadata": {},
   "source": [
    "### Connect to hopsworks"
   ]
  },
  {
   "cell_type": "code",
   "execution_count": 3,
   "metadata": {
    "ExecuteTime": {
     "end_time": "2025-01-04T20:05:46.498053Z",
     "start_time": "2025-01-04T20:05:43.119645Z"
    }
   },
   "outputs": [
    {
     "name": "stdout",
     "output_type": "stream",
     "text": [
      "2025-01-04 22:05:43,119 INFO: Initializing external client\n",
      "2025-01-04 22:05:43,120 INFO: Base URL: https://c.app.hopsworks.ai:443\n",
      "2025-01-04 22:05:44,816 INFO: Python Engine initialized.\n",
      "\n",
      "Logged in to project, explore it here https://c.app.hopsworks.ai:443/p/1160346\n"
     ]
    }
   ],
   "source": [
    "load_dotenv()\n",
    "#os.environ[\"HOPSWORKS_API_KEY\"] = os.getenv(\"HOPSWORKS_API_KEY\")\n",
    "project = hopsworks.login()\n",
    "\n",
    "fs = project.get_feature_store() "
   ]
  },
  {
   "cell_type": "markdown",
   "metadata": {},
   "source": [
    "### Read data from hopsworks and merge them into a feature table"
   ]
  },
  {
   "cell_type": "code",
   "execution_count": 4,
   "metadata": {
    "ExecuteTime": {
     "end_time": "2025-01-04T20:05:49.243461Z",
     "start_time": "2025-01-04T20:05:46.501692Z"
    }
   },
   "outputs": [
    {
     "name": "stdout",
     "output_type": "stream",
     "text": [
      "Finished: Reading data from Hopsworks, using Hopsworks Feature Query Service (0.90s) \n"
     ]
    },
    {
     "data": {
      "text/plain": "       timestamp    open    high     low   close         volume  \\\n0     1623888000   40.23   40.57   38.30   39.13    6007.618490   \n1     1623974400   39.13   39.36   35.00   36.62   13557.357196   \n2     1624060800   36.62   37.35   35.00   35.45   16986.163716   \n3     1624147200   35.45   35.89   31.48   35.28   38681.265775   \n4     1624233600   35.28   35.28   26.00   26.55   41903.613224   \n...          ...     ...     ...     ...     ...            ...   \n1281  1734566400  206.49  215.00  186.80  193.65  452547.729871   \n1282  1734652800  193.65  199.44  175.01  194.40  463451.482080   \n1283  1734739200  194.40  201.91  178.50  181.06  308103.063575   \n1284  1734825600  181.06  187.86  176.87  180.34  218352.282441   \n1285  1734912000  180.34  187.58  176.48  183.61   83071.983154   \n\n         volume_buy    volume_sell  \n0       2885.660324    3121.958166  \n1       7925.472309    5631.884887  \n2       9258.361133    7727.802583  \n3      21052.579774   17628.686001  \n4      15380.745579   26522.867646  \n...             ...            ...  \n1281  185623.785796  266923.944075  \n1282  210245.812667  253205.669413  \n1283  122417.224892  185685.838684  \n1284  108511.764430  109840.518011  \n1285   42510.166606   40561.816548  \n\n[1286 rows x 8 columns]",
      "text/html": "<div>\n<style scoped>\n    .dataframe tbody tr th:only-of-type {\n        vertical-align: middle;\n    }\n\n    .dataframe tbody tr th {\n        vertical-align: top;\n    }\n\n    .dataframe thead th {\n        text-align: right;\n    }\n</style>\n<table border=\"1\" class=\"dataframe\">\n  <thead>\n    <tr style=\"text-align: right;\">\n      <th></th>\n      <th>timestamp</th>\n      <th>open</th>\n      <th>high</th>\n      <th>low</th>\n      <th>close</th>\n      <th>volume</th>\n      <th>volume_buy</th>\n      <th>volume_sell</th>\n    </tr>\n  </thead>\n  <tbody>\n    <tr>\n      <th>0</th>\n      <td>1623888000</td>\n      <td>40.23</td>\n      <td>40.57</td>\n      <td>38.30</td>\n      <td>39.13</td>\n      <td>6007.618490</td>\n      <td>2885.660324</td>\n      <td>3121.958166</td>\n    </tr>\n    <tr>\n      <th>1</th>\n      <td>1623974400</td>\n      <td>39.13</td>\n      <td>39.36</td>\n      <td>35.00</td>\n      <td>36.62</td>\n      <td>13557.357196</td>\n      <td>7925.472309</td>\n      <td>5631.884887</td>\n    </tr>\n    <tr>\n      <th>2</th>\n      <td>1624060800</td>\n      <td>36.62</td>\n      <td>37.35</td>\n      <td>35.00</td>\n      <td>35.45</td>\n      <td>16986.163716</td>\n      <td>9258.361133</td>\n      <td>7727.802583</td>\n    </tr>\n    <tr>\n      <th>3</th>\n      <td>1624147200</td>\n      <td>35.45</td>\n      <td>35.89</td>\n      <td>31.48</td>\n      <td>35.28</td>\n      <td>38681.265775</td>\n      <td>21052.579774</td>\n      <td>17628.686001</td>\n    </tr>\n    <tr>\n      <th>4</th>\n      <td>1624233600</td>\n      <td>35.28</td>\n      <td>35.28</td>\n      <td>26.00</td>\n      <td>26.55</td>\n      <td>41903.613224</td>\n      <td>15380.745579</td>\n      <td>26522.867646</td>\n    </tr>\n    <tr>\n      <th>...</th>\n      <td>...</td>\n      <td>...</td>\n      <td>...</td>\n      <td>...</td>\n      <td>...</td>\n      <td>...</td>\n      <td>...</td>\n      <td>...</td>\n    </tr>\n    <tr>\n      <th>1281</th>\n      <td>1734566400</td>\n      <td>206.49</td>\n      <td>215.00</td>\n      <td>186.80</td>\n      <td>193.65</td>\n      <td>452547.729871</td>\n      <td>185623.785796</td>\n      <td>266923.944075</td>\n    </tr>\n    <tr>\n      <th>1282</th>\n      <td>1734652800</td>\n      <td>193.65</td>\n      <td>199.44</td>\n      <td>175.01</td>\n      <td>194.40</td>\n      <td>463451.482080</td>\n      <td>210245.812667</td>\n      <td>253205.669413</td>\n    </tr>\n    <tr>\n      <th>1283</th>\n      <td>1734739200</td>\n      <td>194.40</td>\n      <td>201.91</td>\n      <td>178.50</td>\n      <td>181.06</td>\n      <td>308103.063575</td>\n      <td>122417.224892</td>\n      <td>185685.838684</td>\n    </tr>\n    <tr>\n      <th>1284</th>\n      <td>1734825600</td>\n      <td>181.06</td>\n      <td>187.86</td>\n      <td>176.87</td>\n      <td>180.34</td>\n      <td>218352.282441</td>\n      <td>108511.764430</td>\n      <td>109840.518011</td>\n    </tr>\n    <tr>\n      <th>1285</th>\n      <td>1734912000</td>\n      <td>180.34</td>\n      <td>187.58</td>\n      <td>176.48</td>\n      <td>183.61</td>\n      <td>83071.983154</td>\n      <td>42510.166606</td>\n      <td>40561.816548</td>\n    </tr>\n  </tbody>\n</table>\n<p>1286 rows × 8 columns</p>\n</div>"
     },
     "execution_count": 4,
     "metadata": {},
     "output_type": "execute_result"
    }
   ],
   "source": [
    "# ****************** Solana data ******************\n",
    "\n",
    "solana_feature_group = fs.get_feature_group(\n",
    "    name=\"solana\",  \n",
    "    version=1\n",
    ")\n",
    "\n",
    "# Step 3: Read the data from the feature group\n",
    "solana_df = solana_feature_group.read().sort_values(by='timestamp', inplace=False).reset_index(drop=True)\n",
    "# solana_df['open_diff'] = solana_df['open'].diff().fillna(0)\n",
    "solana_df"
   ]
  },
  {
   "cell_type": "code",
   "execution_count": 5,
   "metadata": {
    "ExecuteTime": {
     "end_time": "2025-01-04T20:05:51.420127Z",
     "start_time": "2025-01-04T20:05:49.245021Z"
    }
   },
   "outputs": [
    {
     "name": "stdout",
     "output_type": "stream",
     "text": [
      "Finished: Reading data from Hopsworks, using Hopsworks Feature Query Service (1.18s) \n"
     ]
    }
   ],
   "source": [
    "# ****************** Bitcoin Data ******************\n",
    "bitcoin_feature_group = fs.get_feature_group(\n",
    "    name=\"bitcoin\",  \n",
    "    version=1\n",
    ")\n",
    "\n",
    "# Step 3: Read the data from the feature group\n",
    "bitcoin_df = bitcoin_feature_group.read().sort_values(by='timestamp', inplace=False).reset_index(drop=True)\n",
    "# bitcoin_df['open_diff'] = bitcoin_df['open'].diff()\n",
    "bitcoin_df = bitcoin_df[[\"timestamp\",\"open\"]]"
   ]
  },
  {
   "cell_type": "code",
   "execution_count": 6,
   "metadata": {
    "ExecuteTime": {
     "end_time": "2025-01-04T20:05:53.288844Z",
     "start_time": "2025-01-04T20:05:51.423011Z"
    }
   },
   "outputs": [
    {
     "name": "stdout",
     "output_type": "stream",
     "text": [
      "Finished: Reading data from Hopsworks, using Hopsworks Feature Query Service (0.87s) \n"
     ]
    },
    {
     "data": {
      "text/plain": "     fng_value  fng_classification     timestamp\n0           74                   3  1.718410e+09\n1           77                   4  1.710720e+09\n2           43                   1  1.550189e+09\n3           68                   3  1.721952e+09\n4           30                   1  1.659571e+09\n...        ...                 ...           ...\n2521        50                   2  1.589760e+09\n2522        79                   4  1.707782e+09\n2523        27                   1  1.645747e+09\n2524        28                   1  1.542586e+09\n2525        15                   0  1.654560e+09\n\n[2526 rows x 3 columns]",
      "text/html": "<div>\n<style scoped>\n    .dataframe tbody tr th:only-of-type {\n        vertical-align: middle;\n    }\n\n    .dataframe tbody tr th {\n        vertical-align: top;\n    }\n\n    .dataframe thead th {\n        text-align: right;\n    }\n</style>\n<table border=\"1\" class=\"dataframe\">\n  <thead>\n    <tr style=\"text-align: right;\">\n      <th></th>\n      <th>fng_value</th>\n      <th>fng_classification</th>\n      <th>timestamp</th>\n    </tr>\n  </thead>\n  <tbody>\n    <tr>\n      <th>0</th>\n      <td>74</td>\n      <td>3</td>\n      <td>1.718410e+09</td>\n    </tr>\n    <tr>\n      <th>1</th>\n      <td>77</td>\n      <td>4</td>\n      <td>1.710720e+09</td>\n    </tr>\n    <tr>\n      <th>2</th>\n      <td>43</td>\n      <td>1</td>\n      <td>1.550189e+09</td>\n    </tr>\n    <tr>\n      <th>3</th>\n      <td>68</td>\n      <td>3</td>\n      <td>1.721952e+09</td>\n    </tr>\n    <tr>\n      <th>4</th>\n      <td>30</td>\n      <td>1</td>\n      <td>1.659571e+09</td>\n    </tr>\n    <tr>\n      <th>...</th>\n      <td>...</td>\n      <td>...</td>\n      <td>...</td>\n    </tr>\n    <tr>\n      <th>2521</th>\n      <td>50</td>\n      <td>2</td>\n      <td>1.589760e+09</td>\n    </tr>\n    <tr>\n      <th>2522</th>\n      <td>79</td>\n      <td>4</td>\n      <td>1.707782e+09</td>\n    </tr>\n    <tr>\n      <th>2523</th>\n      <td>27</td>\n      <td>1</td>\n      <td>1.645747e+09</td>\n    </tr>\n    <tr>\n      <th>2524</th>\n      <td>28</td>\n      <td>1</td>\n      <td>1.542586e+09</td>\n    </tr>\n    <tr>\n      <th>2525</th>\n      <td>15</td>\n      <td>0</td>\n      <td>1.654560e+09</td>\n    </tr>\n  </tbody>\n</table>\n<p>2526 rows × 3 columns</p>\n</div>"
     },
     "execution_count": 6,
     "metadata": {},
     "output_type": "execute_result"
    }
   ],
   "source": [
    "# ****************** Fear and Greed Index Data ******************\n",
    "\n",
    "#fs = project.get_feature_store(name='kth_lab1_2024_featurestore')\n",
    "fs = project.get_feature_store()\n",
    "fng_feature_group = fs.get_feature_group('f_n_g_index', version=1)\n",
    "fng_df = fng_feature_group.read()\n",
    "fng_df['timestamp'] = fng_df['timestamp'].astype(float)\n",
    "fng_df['fng_classification'] = fng_df['fng_classification'].map(fng_labels_to_numbers_map)\n",
    "\n",
    "fng_df\n"
   ]
  },
  {
   "cell_type": "code",
   "execution_count": 7,
   "metadata": {
    "ExecuteTime": {
     "end_time": "2025-01-04T20:05:53.304376Z",
     "start_time": "2025-01-04T20:05:53.291795Z"
    }
   },
   "outputs": [
    {
     "data": {
      "text/plain": "    timestamp  open_solana   high    low  close        volume    volume_buy  \\\n0  1623888000        40.23  40.57  38.30  39.13   6007.618490   2885.660324   \n1  1623974400        39.13  39.36  35.00  36.62  13557.357196   7925.472309   \n2  1624060800        36.62  37.35  35.00  35.45  16986.163716   9258.361133   \n3  1624147200        35.45  35.89  31.48  35.28  38681.265775  21052.579774   \n4  1624233600        35.28  35.28  26.00  26.55  41903.613224  15380.745579   \n\n    volume_sell  open_bitcoin fng_value  fng_classification  \n0   3121.958166       38337.1        26                   1  \n1   5631.884887       38078.2        25                   0  \n2   7727.802583       35824.0        23                   0  \n3  17628.686001       35490.5        21                   0  \n4  26522.867646       35595.0        23                   0  ",
      "text/html": "<div>\n<style scoped>\n    .dataframe tbody tr th:only-of-type {\n        vertical-align: middle;\n    }\n\n    .dataframe tbody tr th {\n        vertical-align: top;\n    }\n\n    .dataframe thead th {\n        text-align: right;\n    }\n</style>\n<table border=\"1\" class=\"dataframe\">\n  <thead>\n    <tr style=\"text-align: right;\">\n      <th></th>\n      <th>timestamp</th>\n      <th>open_solana</th>\n      <th>high</th>\n      <th>low</th>\n      <th>close</th>\n      <th>volume</th>\n      <th>volume_buy</th>\n      <th>volume_sell</th>\n      <th>open_bitcoin</th>\n      <th>fng_value</th>\n      <th>fng_classification</th>\n    </tr>\n  </thead>\n  <tbody>\n    <tr>\n      <th>0</th>\n      <td>1623888000</td>\n      <td>40.23</td>\n      <td>40.57</td>\n      <td>38.30</td>\n      <td>39.13</td>\n      <td>6007.618490</td>\n      <td>2885.660324</td>\n      <td>3121.958166</td>\n      <td>38337.1</td>\n      <td>26</td>\n      <td>1</td>\n    </tr>\n    <tr>\n      <th>1</th>\n      <td>1623974400</td>\n      <td>39.13</td>\n      <td>39.36</td>\n      <td>35.00</td>\n      <td>36.62</td>\n      <td>13557.357196</td>\n      <td>7925.472309</td>\n      <td>5631.884887</td>\n      <td>38078.2</td>\n      <td>25</td>\n      <td>0</td>\n    </tr>\n    <tr>\n      <th>2</th>\n      <td>1624060800</td>\n      <td>36.62</td>\n      <td>37.35</td>\n      <td>35.00</td>\n      <td>35.45</td>\n      <td>16986.163716</td>\n      <td>9258.361133</td>\n      <td>7727.802583</td>\n      <td>35824.0</td>\n      <td>23</td>\n      <td>0</td>\n    </tr>\n    <tr>\n      <th>3</th>\n      <td>1624147200</td>\n      <td>35.45</td>\n      <td>35.89</td>\n      <td>31.48</td>\n      <td>35.28</td>\n      <td>38681.265775</td>\n      <td>21052.579774</td>\n      <td>17628.686001</td>\n      <td>35490.5</td>\n      <td>21</td>\n      <td>0</td>\n    </tr>\n    <tr>\n      <th>4</th>\n      <td>1624233600</td>\n      <td>35.28</td>\n      <td>35.28</td>\n      <td>26.00</td>\n      <td>26.55</td>\n      <td>41903.613224</td>\n      <td>15380.745579</td>\n      <td>26522.867646</td>\n      <td>35595.0</td>\n      <td>23</td>\n      <td>0</td>\n    </tr>\n  </tbody>\n</table>\n</div>"
     },
     "execution_count": 7,
     "metadata": {},
     "output_type": "execute_result"
    }
   ],
   "source": [
    "\n",
    "all_data = pd.merge(solana_df, bitcoin_df, how='inner', on=\"timestamp\",suffixes=('_solana', '_bitcoin'))  \n",
    "all_data = pd.merge(all_data, fng_df, how='inner', on=\"timestamp\")\n",
    "all_data.head()\n"
   ]
  },
  {
   "cell_type": "markdown",
   "metadata": {},
   "source": [
    "### Data Preprocessing"
   ]
  },
  {
   "cell_type": "code",
   "execution_count": 8,
   "metadata": {
    "ExecuteTime": {
     "end_time": "2025-01-04T20:05:53.327020Z",
     "start_time": "2025-01-04T20:05:53.305670Z"
    }
   },
   "outputs": [
    {
     "data": {
      "text/plain": "    high    low  close        volume    volume_buy   volume_sell  \\\n0  40.57  38.30  39.13   6007.618490   2885.660324   3121.958166   \n1  39.36  35.00  36.62  13557.357196   7925.472309   5631.884887   \n2  37.35  35.00  35.45  16986.163716   9258.361133   7727.802583   \n3  35.89  31.48  35.28  38681.265775  21052.579774  17628.686001   \n4  35.28  26.00  26.55  41903.613224  15380.745579  26522.867646   \n\n   open_bitcoin fng_value  fng_classification  open_solana  \n0       38337.1        26                   1        40.23  \n1       38078.2        25                   0        39.13  \n2       35824.0        23                   0        36.62  \n3       35490.5        21                   0        35.45  \n4       35595.0        23                   0        35.28  ",
      "text/html": "<div>\n<style scoped>\n    .dataframe tbody tr th:only-of-type {\n        vertical-align: middle;\n    }\n\n    .dataframe tbody tr th {\n        vertical-align: top;\n    }\n\n    .dataframe thead th {\n        text-align: right;\n    }\n</style>\n<table border=\"1\" class=\"dataframe\">\n  <thead>\n    <tr style=\"text-align: right;\">\n      <th></th>\n      <th>high</th>\n      <th>low</th>\n      <th>close</th>\n      <th>volume</th>\n      <th>volume_buy</th>\n      <th>volume_sell</th>\n      <th>open_bitcoin</th>\n      <th>fng_value</th>\n      <th>fng_classification</th>\n      <th>open_solana</th>\n    </tr>\n  </thead>\n  <tbody>\n    <tr>\n      <th>0</th>\n      <td>40.57</td>\n      <td>38.30</td>\n      <td>39.13</td>\n      <td>6007.618490</td>\n      <td>2885.660324</td>\n      <td>3121.958166</td>\n      <td>38337.1</td>\n      <td>26</td>\n      <td>1</td>\n      <td>40.23</td>\n    </tr>\n    <tr>\n      <th>1</th>\n      <td>39.36</td>\n      <td>35.00</td>\n      <td>36.62</td>\n      <td>13557.357196</td>\n      <td>7925.472309</td>\n      <td>5631.884887</td>\n      <td>38078.2</td>\n      <td>25</td>\n      <td>0</td>\n      <td>39.13</td>\n    </tr>\n    <tr>\n      <th>2</th>\n      <td>37.35</td>\n      <td>35.00</td>\n      <td>35.45</td>\n      <td>16986.163716</td>\n      <td>9258.361133</td>\n      <td>7727.802583</td>\n      <td>35824.0</td>\n      <td>23</td>\n      <td>0</td>\n      <td>36.62</td>\n    </tr>\n    <tr>\n      <th>3</th>\n      <td>35.89</td>\n      <td>31.48</td>\n      <td>35.28</td>\n      <td>38681.265775</td>\n      <td>21052.579774</td>\n      <td>17628.686001</td>\n      <td>35490.5</td>\n      <td>21</td>\n      <td>0</td>\n      <td>35.45</td>\n    </tr>\n    <tr>\n      <th>4</th>\n      <td>35.28</td>\n      <td>26.00</td>\n      <td>26.55</td>\n      <td>41903.613224</td>\n      <td>15380.745579</td>\n      <td>26522.867646</td>\n      <td>35595.0</td>\n      <td>23</td>\n      <td>0</td>\n      <td>35.28</td>\n    </tr>\n  </tbody>\n</table>\n</div>"
     },
     "execution_count": 8,
     "metadata": {},
     "output_type": "execute_result"
    }
   ],
   "source": [
    "# All data object will be used as features and thus we dont need timestamp\n",
    "if \"timestamp\" in all_data.columns:\n",
    "    all_data = all_data.drop(columns=['timestamp'])\n",
    "\n",
    "target_column = 'open_solana'\n",
    "all_data = utils.move_target_at_the_end(all_data, target_column)\n",
    "all_data_values = all_data.values\n",
    "\n",
    "all_data.head()"
   ]
  },
  {
   "cell_type": "code",
   "execution_count": 9,
   "metadata": {
    "ExecuteTime": {
     "end_time": "2025-01-04T20:05:53.347049Z",
     "start_time": "2025-01-04T20:05:53.320024Z"
    }
   },
   "outputs": [
    {
     "data": {
      "text/plain": "((1245, 30, 10), (1245, 10))"
     },
     "execution_count": 9,
     "metadata": {},
     "output_type": "execute_result"
    }
   ],
   "source": [
    "time_steps = 30\n",
    "num_predictions = 10\n",
    "X, y = utils.create_sequences(all_data_values, time_steps=time_steps, num_predictions=num_predictions)\n",
    "# y_percentage_change = create_featured_label(all_data_values, time_steps=time_steps, num_predictions=num_predictions)\n",
    "X.shape, y.shape"
   ]
  },
  {
   "cell_type": "markdown",
   "metadata": {},
   "source": [
    "### Separate dataset into train validation and test set "
   ]
  },
  {
   "cell_type": "code",
   "execution_count": 10,
   "metadata": {
    "ExecuteTime": {
     "end_time": "2025-01-04T20:05:53.347148Z",
     "start_time": "2025-01-04T20:05:53.324780Z"
    }
   },
   "outputs": [
    {
     "name": "stdout",
     "output_type": "stream",
     "text": [
      "X_train shape: (697, 30, 10), X_val shape: (299, 30, 10), X_test shape: (249, 30, 10)\n",
      "Labels1_train shape: (697, 10), Labels1 val shape: (299, 10), Labels1_test shape: (249, 10)\n"
     ]
    }
   ],
   "source": [
    "\n",
    "(X_train, X_val, X_test, y_train, y_val, y_test ) = utils.train_val_test_split(X, y)\n",
    "print(f\"X_train shape: {X_train.shape}, X_val shape: {X_val.shape}, X_test shape: {X_test.shape}\")\n",
    "print(f\"Labels1_train shape: {y_train.shape}, Labels1 val shape: {y_val.shape}, Labels1_test shape: {y_test.shape}\")\n"
   ]
  },
  {
   "cell_type": "markdown",
   "metadata": {},
   "source": [
    "### Normalize data in order to be used with the model"
   ]
  },
  {
   "cell_type": "code",
   "execution_count": 11,
   "metadata": {
    "ExecuteTime": {
     "end_time": "2025-01-04T20:05:53.348706Z",
     "start_time": "2025-01-04T20:05:53.333510Z"
    }
   },
   "outputs": [],
   "source": [
    "scaler_features = MinMaxScaler(feature_range=(0, 1))\n",
    "\n",
    "data_reshaped = X_train.reshape(-1, X_train.shape[2])  # Shape: (12680, 18)\n",
    "\n",
    "data_scaled = scaler_features.fit_transform(data_reshaped)\n",
    "\n",
    "X_train = data_scaled.reshape(X_train.shape)\n",
    "\n",
    "# ************************************************\n",
    "\n",
    "data_reshaped = X_val.reshape(-1, X_val.shape[2])  \n",
    "\n",
    "data_scaled = scaler_features.transform(data_reshaped)\n",
    "\n",
    "X_val = data_scaled.reshape(X_val.shape)\n",
    "\n",
    "# *************************************************\n",
    "data_reshaped = X_test.reshape(-1, X_test.shape[2]) \n",
    "\n",
    "\n",
    "data_scaled = scaler_features.transform(data_reshaped)\n",
    "\n",
    "X_test = data_scaled.reshape(X_test.shape)\n",
    "\n"
   ]
  },
  {
   "cell_type": "code",
   "execution_count": 12,
   "metadata": {
    "ExecuteTime": {
     "end_time": "2025-01-04T20:05:53.348844Z",
     "start_time": "2025-01-04T20:05:53.345100Z"
    }
   },
   "outputs": [],
   "source": [
    "scaler_labels = MinMaxScaler(feature_range=(0, 1))\n",
    "scaler_labels.fit(y_train)\n",
    "\n",
    "y_train = scaler_labels.transform(y_train)\n",
    "y_val = scaler_labels.transform(y_val)\n",
    "y_test = scaler_labels.transform(y_test)"
   ]
  },
  {
   "cell_type": "markdown",
   "metadata": {},
   "source": [
    "### Train LSTM Model"
   ]
  },
  {
   "cell_type": "code",
   "execution_count": 13,
   "metadata": {
    "ExecuteTime": {
     "end_time": "2025-01-04T20:05:56.448127Z",
     "start_time": "2025-01-04T20:05:53.347939Z"
    }
   },
   "outputs": [],
   "source": [
    "from tensorflow.keras.models import Sequential\n",
    "from tensorflow.keras.layers import *\n",
    "from tensorflow.keras.losses import MeanSquaredError\n",
    "from tensorflow.keras.metrics import RootMeanSquaredError, R2Score \n",
    "from tensorflow.keras.optimizers import Adam\n",
    "from tensorflow.keras.callbacks import ModelCheckpoint\n",
    "from keras.regularizers import l2"
   ]
  },
  {
   "cell_type": "code",
   "execution_count": 14,
   "metadata": {
    "ExecuteTime": {
     "end_time": "2025-01-04T20:05:56.511237Z",
     "start_time": "2025-01-04T20:05:56.477297Z"
    }
   },
   "outputs": [
    {
     "data": {
      "text/plain": "\u001B[1mModel: \"sequential\"\u001B[0m\n",
      "text/html": "<pre style=\"white-space:pre;overflow-x:auto;line-height:normal;font-family:Menlo,'DejaVu Sans Mono',consolas,'Courier New',monospace\"><span style=\"font-weight: bold\">Model: \"sequential\"</span>\n</pre>\n"
     },
     "metadata": {},
     "output_type": "display_data"
    },
    {
     "data": {
      "text/plain": "┏━━━━━━━━━━━━━━━━━━━━━━━━━━━━━━━━━┳━━━━━━━━━━━━━━━━━━━━━━━━┳━━━━━━━━━━━━━━━┓\n┃\u001B[1m \u001B[0m\u001B[1mLayer (type)                   \u001B[0m\u001B[1m \u001B[0m┃\u001B[1m \u001B[0m\u001B[1mOutput Shape          \u001B[0m\u001B[1m \u001B[0m┃\u001B[1m \u001B[0m\u001B[1m      Param #\u001B[0m\u001B[1m \u001B[0m┃\n┡━━━━━━━━━━━━━━━━━━━━━━━━━━━━━━━━━╇━━━━━━━━━━━━━━━━━━━━━━━━╇━━━━━━━━━━━━━━━┩\n│ lstm (\u001B[38;5;33mLSTM\u001B[0m)                     │ (\u001B[38;5;45mNone\u001B[0m, \u001B[38;5;34m12\u001B[0m)             │         \u001B[38;5;34m1,104\u001B[0m │\n├─────────────────────────────────┼────────────────────────┼───────────────┤\n│ dense (\u001B[38;5;33mDense\u001B[0m)                   │ (\u001B[38;5;45mNone\u001B[0m, \u001B[38;5;34m10\u001B[0m)             │           \u001B[38;5;34m130\u001B[0m │\n├─────────────────────────────────┼────────────────────────┼───────────────┤\n│ dense_1 (\u001B[38;5;33mDense\u001B[0m)                 │ (\u001B[38;5;45mNone\u001B[0m, \u001B[38;5;34m10\u001B[0m)             │           \u001B[38;5;34m110\u001B[0m │\n└─────────────────────────────────┴────────────────────────┴───────────────┘\n",
      "text/html": "<pre style=\"white-space:pre;overflow-x:auto;line-height:normal;font-family:Menlo,'DejaVu Sans Mono',consolas,'Courier New',monospace\">┏━━━━━━━━━━━━━━━━━━━━━━━━━━━━━━━━━┳━━━━━━━━━━━━━━━━━━━━━━━━┳━━━━━━━━━━━━━━━┓\n┃<span style=\"font-weight: bold\"> Layer (type)                    </span>┃<span style=\"font-weight: bold\"> Output Shape           </span>┃<span style=\"font-weight: bold\">       Param # </span>┃\n┡━━━━━━━━━━━━━━━━━━━━━━━━━━━━━━━━━╇━━━━━━━━━━━━━━━━━━━━━━━━╇━━━━━━━━━━━━━━━┩\n│ lstm (<span style=\"color: #0087ff; text-decoration-color: #0087ff\">LSTM</span>)                     │ (<span style=\"color: #00d7ff; text-decoration-color: #00d7ff\">None</span>, <span style=\"color: #00af00; text-decoration-color: #00af00\">12</span>)             │         <span style=\"color: #00af00; text-decoration-color: #00af00\">1,104</span> │\n├─────────────────────────────────┼────────────────────────┼───────────────┤\n│ dense (<span style=\"color: #0087ff; text-decoration-color: #0087ff\">Dense</span>)                   │ (<span style=\"color: #00d7ff; text-decoration-color: #00d7ff\">None</span>, <span style=\"color: #00af00; text-decoration-color: #00af00\">10</span>)             │           <span style=\"color: #00af00; text-decoration-color: #00af00\">130</span> │\n├─────────────────────────────────┼────────────────────────┼───────────────┤\n│ dense_1 (<span style=\"color: #0087ff; text-decoration-color: #0087ff\">Dense</span>)                 │ (<span style=\"color: #00d7ff; text-decoration-color: #00d7ff\">None</span>, <span style=\"color: #00af00; text-decoration-color: #00af00\">10</span>)             │           <span style=\"color: #00af00; text-decoration-color: #00af00\">110</span> │\n└─────────────────────────────────┴────────────────────────┴───────────────┘\n</pre>\n"
     },
     "metadata": {},
     "output_type": "display_data"
    },
    {
     "data": {
      "text/plain": "\u001B[1m Total params: \u001B[0m\u001B[38;5;34m1,344\u001B[0m (5.25 KB)\n",
      "text/html": "<pre style=\"white-space:pre;overflow-x:auto;line-height:normal;font-family:Menlo,'DejaVu Sans Mono',consolas,'Courier New',monospace\"><span style=\"font-weight: bold\"> Total params: </span><span style=\"color: #00af00; text-decoration-color: #00af00\">1,344</span> (5.25 KB)\n</pre>\n"
     },
     "metadata": {},
     "output_type": "display_data"
    },
    {
     "data": {
      "text/plain": "\u001B[1m Trainable params: \u001B[0m\u001B[38;5;34m1,344\u001B[0m (5.25 KB)\n",
      "text/html": "<pre style=\"white-space:pre;overflow-x:auto;line-height:normal;font-family:Menlo,'DejaVu Sans Mono',consolas,'Courier New',monospace\"><span style=\"font-weight: bold\"> Trainable params: </span><span style=\"color: #00af00; text-decoration-color: #00af00\">1,344</span> (5.25 KB)\n</pre>\n"
     },
     "metadata": {},
     "output_type": "display_data"
    },
    {
     "data": {
      "text/plain": "\u001B[1m Non-trainable params: \u001B[0m\u001B[38;5;34m0\u001B[0m (0.00 B)\n",
      "text/html": "<pre style=\"white-space:pre;overflow-x:auto;line-height:normal;font-family:Menlo,'DejaVu Sans Mono',consolas,'Courier New',monospace\"><span style=\"font-weight: bold\"> Non-trainable params: </span><span style=\"color: #00af00; text-decoration-color: #00af00\">0</span> (0.00 B)\n</pre>\n"
     },
     "metadata": {},
     "output_type": "display_data"
    }
   ],
   "source": [
    "\n",
    "model = Sequential()\n",
    "model.add(InputLayer((time_steps, X.shape[2])))\n",
    "model.add(LSTM(12, return_sequences=False))  # L2 regularization\n",
    "model.add(Dense(y.shape[1], activation='relu'))       # L2 regularization\n",
    "model.add(Dense(y.shape[1], activation='linear'))        \n",
    "model.summary()"
   ]
  },
  {
   "cell_type": "code",
   "execution_count": 15,
   "metadata": {
    "ExecuteTime": {
     "end_time": "2025-01-04T20:05:56.515345Z",
     "start_time": "2025-01-04T20:05:56.509927Z"
    }
   },
   "outputs": [],
   "source": [
    "cp2 = ModelCheckpoint('solana_price_model_10d/best_model.keras', save_best_only=True)\n",
    "model.compile(loss=MeanSquaredError(), optimizer=Adam(learning_rate=0.0001), metrics=[MeanSquaredError(), R2Score()])"
   ]
  },
  {
   "cell_type": "code",
   "execution_count": 16,
   "metadata": {
    "ExecuteTime": {
     "end_time": "2025-01-04T20:05:56.519319Z",
     "start_time": "2025-01-04T20:05:56.516309Z"
    }
   },
   "outputs": [
    {
     "data": {
      "text/plain": "((697, 30, 10), (697, 10), (299, 30, 10), (299, 10))"
     },
     "execution_count": 16,
     "metadata": {},
     "output_type": "execute_result"
    }
   ],
   "source": [
    "X_train.shape, y_train.shape, X_val.shape, y_val.shape\n"
   ]
  },
  {
   "cell_type": "code",
   "execution_count": 17,
   "metadata": {
    "ExecuteTime": {
     "end_time": "2025-01-04T20:06:24.489371Z",
     "start_time": "2025-01-04T20:05:56.519185Z"
    }
   },
   "outputs": [
    {
     "name": "stdout",
     "output_type": "stream",
     "text": [
      "Epoch 1/300\n",
      "\u001B[1m22/22\u001B[0m \u001B[32m━━━━━━━━━━━━━━━━━━━━\u001B[0m\u001B[37m\u001B[0m \u001B[1m1s\u001B[0m 10ms/step - loss: 0.1183 - mean_squared_error: 0.1183 - r2_score: -0.8347 - val_loss: 0.0964 - val_mean_squared_error: 0.1165 - val_r2_score: -1.1368\n",
      "Epoch 2/300\n",
      "\u001B[1m22/22\u001B[0m \u001B[32m━━━━━━━━━━━━━━━━━━━━\u001B[0m\u001B[37m\u001B[0m \u001B[1m0s\u001B[0m 4ms/step - loss: 0.1164 - mean_squared_error: 0.1163 - r2_score: -0.7973 - val_loss: 0.0913 - val_mean_squared_error: 0.1110 - val_r2_score: -1.0248\n",
      "Epoch 3/300\n",
      "\u001B[1m22/22\u001B[0m \u001B[32m━━━━━━━━━━━━━━━━━━━━\u001B[0m\u001B[37m\u001B[0m \u001B[1m0s\u001B[0m 4ms/step - loss: 0.1018 - mean_squared_error: 0.1018 - r2_score: -0.6713 - val_loss: 0.0866 - val_mean_squared_error: 0.1058 - val_r2_score: -0.9212\n",
      "Epoch 4/300\n",
      "\u001B[1m22/22\u001B[0m \u001B[32m━━━━━━━━━━━━━━━━━━━━\u001B[0m\u001B[37m\u001B[0m \u001B[1m0s\u001B[0m 4ms/step - loss: 0.1078 - mean_squared_error: 0.1078 - r2_score: -0.6288 - val_loss: 0.0822 - val_mean_squared_error: 0.1008 - val_r2_score: -0.8222\n",
      "Epoch 5/300\n",
      "\u001B[1m22/22\u001B[0m \u001B[32m━━━━━━━━━━━━━━━━━━━━\u001B[0m\u001B[37m\u001B[0m \u001B[1m0s\u001B[0m 4ms/step - loss: 0.1034 - mean_squared_error: 0.1034 - r2_score: -0.5909 - val_loss: 0.0779 - val_mean_squared_error: 0.0960 - val_r2_score: -0.7281\n",
      "Epoch 6/300\n",
      "\u001B[1m22/22\u001B[0m \u001B[32m━━━━━━━━━━━━━━━━━━━━\u001B[0m\u001B[37m\u001B[0m \u001B[1m0s\u001B[0m 4ms/step - loss: 0.0940 - mean_squared_error: 0.0940 - r2_score: -0.5133 - val_loss: 0.0736 - val_mean_squared_error: 0.0910 - val_r2_score: -0.6335\n",
      "Epoch 7/300\n",
      "\u001B[1m22/22\u001B[0m \u001B[32m━━━━━━━━━━━━━━━━━━━━\u001B[0m\u001B[37m\u001B[0m \u001B[1m0s\u001B[0m 4ms/step - loss: 0.0939 - mean_squared_error: 0.0940 - r2_score: -0.4110 - val_loss: 0.0693 - val_mean_squared_error: 0.0859 - val_r2_score: -0.5372\n",
      "Epoch 8/300\n",
      "\u001B[1m22/22\u001B[0m \u001B[32m━━━━━━━━━━━━━━━━━━━━\u001B[0m\u001B[37m\u001B[0m \u001B[1m0s\u001B[0m 4ms/step - loss: 0.0804 - mean_squared_error: 0.0804 - r2_score: -0.3424 - val_loss: 0.0648 - val_mean_squared_error: 0.0808 - val_r2_score: -0.4401\n",
      "Epoch 9/300\n",
      "\u001B[1m22/22\u001B[0m \u001B[32m━━━━━━━━━━━━━━━━━━━━\u001B[0m\u001B[37m\u001B[0m \u001B[1m0s\u001B[0m 4ms/step - loss: 0.0782 - mean_squared_error: 0.0782 - r2_score: -0.2386 - val_loss: 0.0603 - val_mean_squared_error: 0.0754 - val_r2_score: -0.3401\n",
      "Epoch 10/300\n",
      "\u001B[1m22/22\u001B[0m \u001B[32m━━━━━━━━━━━━━━━━━━━━\u001B[0m\u001B[37m\u001B[0m \u001B[1m0s\u001B[0m 4ms/step - loss: 0.0799 - mean_squared_error: 0.0799 - r2_score: -0.2000 - val_loss: 0.0556 - val_mean_squared_error: 0.0697 - val_r2_score: -0.2358\n",
      "Epoch 11/300\n",
      "\u001B[1m22/22\u001B[0m \u001B[32m━━━━━━━━━━━━━━━━━━━━\u001B[0m\u001B[37m\u001B[0m \u001B[1m0s\u001B[0m 4ms/step - loss: 0.0674 - mean_squared_error: 0.0674 - r2_score: -0.1074 - val_loss: 0.0510 - val_mean_squared_error: 0.0642 - val_r2_score: -0.1347\n",
      "Epoch 12/300\n",
      "\u001B[1m22/22\u001B[0m \u001B[32m━━━━━━━━━━━━━━━━━━━━\u001B[0m\u001B[37m\u001B[0m \u001B[1m0s\u001B[0m 4ms/step - loss: 0.0629 - mean_squared_error: 0.0629 - r2_score: -0.0257 - val_loss: 0.0466 - val_mean_squared_error: 0.0588 - val_r2_score: -0.0364\n",
      "Epoch 13/300\n",
      "\u001B[1m22/22\u001B[0m \u001B[32m━━━━━━━━━━━━━━━━━━━━\u001B[0m\u001B[37m\u001B[0m \u001B[1m0s\u001B[0m 4ms/step - loss: 0.0624 - mean_squared_error: 0.0623 - r2_score: 0.0456 - val_loss: 0.0423 - val_mean_squared_error: 0.0535 - val_r2_score: 0.0583\n",
      "Epoch 14/300\n",
      "\u001B[1m22/22\u001B[0m \u001B[32m━━━━━━━━━━━━━━━━━━━━\u001B[0m\u001B[37m\u001B[0m \u001B[1m0s\u001B[0m 4ms/step - loss: 0.0532 - mean_squared_error: 0.0532 - r2_score: 0.1265 - val_loss: 0.0386 - val_mean_squared_error: 0.0490 - val_r2_score: 0.1402\n",
      "Epoch 15/300\n",
      "\u001B[1m22/22\u001B[0m \u001B[32m━━━━━━━━━━━━━━━━━━━━\u001B[0m\u001B[37m\u001B[0m \u001B[1m0s\u001B[0m 4ms/step - loss: 0.0543 - mean_squared_error: 0.0542 - r2_score: 0.1789 - val_loss: 0.0351 - val_mean_squared_error: 0.0446 - val_r2_score: 0.2172\n",
      "Epoch 16/300\n",
      "\u001B[1m22/22\u001B[0m \u001B[32m━━━━━━━━━━━━━━━━━━━━\u001B[0m\u001B[37m\u001B[0m \u001B[1m0s\u001B[0m 4ms/step - loss: 0.0482 - mean_squared_error: 0.0482 - r2_score: 0.2245 - val_loss: 0.0322 - val_mean_squared_error: 0.0409 - val_r2_score: 0.2822\n",
      "Epoch 17/300\n",
      "\u001B[1m22/22\u001B[0m \u001B[32m━━━━━━━━━━━━━━━━━━━━\u001B[0m\u001B[37m\u001B[0m \u001B[1m0s\u001B[0m 4ms/step - loss: 0.0464 - mean_squared_error: 0.0464 - r2_score: 0.2988 - val_loss: 0.0296 - val_mean_squared_error: 0.0375 - val_r2_score: 0.3404\n",
      "Epoch 18/300\n",
      "\u001B[1m22/22\u001B[0m \u001B[32m━━━━━━━━━━━━━━━━━━━━\u001B[0m\u001B[37m\u001B[0m \u001B[1m0s\u001B[0m 4ms/step - loss: 0.0401 - mean_squared_error: 0.0401 - r2_score: 0.3460 - val_loss: 0.0273 - val_mean_squared_error: 0.0345 - val_r2_score: 0.3923\n",
      "Epoch 19/300\n",
      "\u001B[1m22/22\u001B[0m \u001B[32m━━━━━━━━━━━━━━━━━━━━\u001B[0m\u001B[37m\u001B[0m \u001B[1m0s\u001B[0m 4ms/step - loss: 0.0386 - mean_squared_error: 0.0386 - r2_score: 0.3933 - val_loss: 0.0251 - val_mean_squared_error: 0.0318 - val_r2_score: 0.4402\n",
      "Epoch 20/300\n",
      "\u001B[1m22/22\u001B[0m \u001B[32m━━━━━━━━━━━━━━━━━━━━\u001B[0m\u001B[37m\u001B[0m \u001B[1m0s\u001B[0m 4ms/step - loss: 0.0377 - mean_squared_error: 0.0377 - r2_score: 0.4232 - val_loss: 0.0232 - val_mean_squared_error: 0.0293 - val_r2_score: 0.4832\n",
      "Epoch 21/300\n",
      "\u001B[1m22/22\u001B[0m \u001B[32m━━━━━━━━━━━━━━━━━━━━\u001B[0m\u001B[37m\u001B[0m \u001B[1m0s\u001B[0m 4ms/step - loss: 0.0317 - mean_squared_error: 0.0317 - r2_score: 0.4808 - val_loss: 0.0215 - val_mean_squared_error: 0.0271 - val_r2_score: 0.5211\n",
      "Epoch 22/300\n",
      "\u001B[1m22/22\u001B[0m \u001B[32m━━━━━━━━━━━━━━━━━━━━\u001B[0m\u001B[37m\u001B[0m \u001B[1m0s\u001B[0m 4ms/step - loss: 0.0313 - mean_squared_error: 0.0313 - r2_score: 0.5047 - val_loss: 0.0199 - val_mean_squared_error: 0.0251 - val_r2_score: 0.5558\n",
      "Epoch 23/300\n",
      "\u001B[1m22/22\u001B[0m \u001B[32m━━━━━━━━━━━━━━━━━━━━\u001B[0m\u001B[37m\u001B[0m \u001B[1m0s\u001B[0m 4ms/step - loss: 0.0309 - mean_squared_error: 0.0309 - r2_score: 0.5306 - val_loss: 0.0185 - val_mean_squared_error: 0.0232 - val_r2_score: 0.5880\n",
      "Epoch 24/300\n",
      "\u001B[1m22/22\u001B[0m \u001B[32m━━━━━━━━━━━━━━━━━━━━\u001B[0m\u001B[37m\u001B[0m \u001B[1m0s\u001B[0m 4ms/step - loss: 0.0270 - mean_squared_error: 0.0270 - r2_score: 0.5671 - val_loss: 0.0172 - val_mean_squared_error: 0.0215 - val_r2_score: 0.6174\n",
      "Epoch 25/300\n",
      "\u001B[1m22/22\u001B[0m \u001B[32m━━━━━━━━━━━━━━━━━━━━\u001B[0m\u001B[37m\u001B[0m \u001B[1m0s\u001B[0m 4ms/step - loss: 0.0248 - mean_squared_error: 0.0248 - r2_score: 0.5997 - val_loss: 0.0160 - val_mean_squared_error: 0.0200 - val_r2_score: 0.6442\n",
      "Epoch 26/300\n",
      "\u001B[1m22/22\u001B[0m \u001B[32m━━━━━━━━━━━━━━━━━━━━\u001B[0m\u001B[37m\u001B[0m \u001B[1m0s\u001B[0m 4ms/step - loss: 0.0252 - mean_squared_error: 0.0252 - r2_score: 0.6102 - val_loss: 0.0149 - val_mean_squared_error: 0.0185 - val_r2_score: 0.6686\n",
      "Epoch 27/300\n",
      "\u001B[1m22/22\u001B[0m \u001B[32m━━━━━━━━━━━━━━━━━━━━\u001B[0m\u001B[37m\u001B[0m \u001B[1m0s\u001B[0m 4ms/step - loss: 0.0222 - mean_squared_error: 0.0222 - r2_score: 0.6549 - val_loss: 0.0138 - val_mean_squared_error: 0.0172 - val_r2_score: 0.6914\n",
      "Epoch 28/300\n",
      "\u001B[1m22/22\u001B[0m \u001B[32m━━━━━━━━━━━━━━━━━━━━\u001B[0m\u001B[37m\u001B[0m \u001B[1m0s\u001B[0m 4ms/step - loss: 0.0217 - mean_squared_error: 0.0217 - r2_score: 0.6709 - val_loss: 0.0129 - val_mean_squared_error: 0.0160 - val_r2_score: 0.7130\n",
      "Epoch 29/300\n",
      "\u001B[1m22/22\u001B[0m \u001B[32m━━━━━━━━━━━━━━━━━━━━\u001B[0m\u001B[37m\u001B[0m \u001B[1m0s\u001B[0m 4ms/step - loss: 0.0172 - mean_squared_error: 0.0172 - r2_score: 0.6971 - val_loss: 0.0120 - val_mean_squared_error: 0.0149 - val_r2_score: 0.7315\n",
      "Epoch 30/300\n",
      "\u001B[1m22/22\u001B[0m \u001B[32m━━━━━━━━━━━━━━━━━━━━\u001B[0m\u001B[37m\u001B[0m \u001B[1m0s\u001B[0m 4ms/step - loss: 0.0161 - mean_squared_error: 0.0161 - r2_score: 0.7069 - val_loss: 0.0112 - val_mean_squared_error: 0.0139 - val_r2_score: 0.7493\n",
      "Epoch 31/300\n",
      "\u001B[1m22/22\u001B[0m \u001B[32m━━━━━━━━━━━━━━━━━━━━\u001B[0m\u001B[37m\u001B[0m \u001B[1m0s\u001B[0m 4ms/step - loss: 0.0171 - mean_squared_error: 0.0171 - r2_score: 0.7225 - val_loss: 0.0105 - val_mean_squared_error: 0.0129 - val_r2_score: 0.7660\n",
      "Epoch 32/300\n",
      "\u001B[1m22/22\u001B[0m \u001B[32m━━━━━━━━━━━━━━━━━━━━\u001B[0m\u001B[37m\u001B[0m \u001B[1m0s\u001B[0m 4ms/step - loss: 0.0154 - mean_squared_error: 0.0154 - r2_score: 0.7449 - val_loss: 0.0098 - val_mean_squared_error: 0.0120 - val_r2_score: 0.7809\n",
      "Epoch 33/300\n",
      "\u001B[1m22/22\u001B[0m \u001B[32m━━━━━━━━━━━━━━━━━━━━\u001B[0m\u001B[37m\u001B[0m \u001B[1m0s\u001B[0m 4ms/step - loss: 0.0163 - mean_squared_error: 0.0163 - r2_score: 0.7572 - val_loss: 0.0092 - val_mean_squared_error: 0.0112 - val_r2_score: 0.7947\n",
      "Epoch 34/300\n",
      "\u001B[1m22/22\u001B[0m \u001B[32m━━━━━━━━━━━━━━━━━━━━\u001B[0m\u001B[37m\u001B[0m \u001B[1m0s\u001B[0m 4ms/step - loss: 0.0142 - mean_squared_error: 0.0142 - r2_score: 0.7728 - val_loss: 0.0086 - val_mean_squared_error: 0.0105 - val_r2_score: 0.8072\n",
      "Epoch 35/300\n",
      "\u001B[1m22/22\u001B[0m \u001B[32m━━━━━━━━━━━━━━━━━━━━\u001B[0m\u001B[37m\u001B[0m \u001B[1m0s\u001B[0m 4ms/step - loss: 0.0134 - mean_squared_error: 0.0134 - r2_score: 0.7915 - val_loss: 0.0082 - val_mean_squared_error: 0.0098 - val_r2_score: 0.8181\n",
      "Epoch 36/300\n",
      "\u001B[1m22/22\u001B[0m \u001B[32m━━━━━━━━━━━━━━━━━━━━\u001B[0m\u001B[37m\u001B[0m \u001B[1m0s\u001B[0m 4ms/step - loss: 0.0123 - mean_squared_error: 0.0123 - r2_score: 0.8078 - val_loss: 0.0077 - val_mean_squared_error: 0.0092 - val_r2_score: 0.8294\n",
      "Epoch 37/300\n",
      "\u001B[1m22/22\u001B[0m \u001B[32m━━━━━━━━━━━━━━━━━━━━\u001B[0m\u001B[37m\u001B[0m \u001B[1m0s\u001B[0m 4ms/step - loss: 0.0106 - mean_squared_error: 0.0106 - r2_score: 0.8137 - val_loss: 0.0072 - val_mean_squared_error: 0.0087 - val_r2_score: 0.8387\n",
      "Epoch 38/300\n",
      "\u001B[1m22/22\u001B[0m \u001B[32m━━━━━━━━━━━━━━━━━━━━\u001B[0m\u001B[37m\u001B[0m \u001B[1m0s\u001B[0m 4ms/step - loss: 0.0106 - mean_squared_error: 0.0106 - r2_score: 0.8230 - val_loss: 0.0069 - val_mean_squared_error: 0.0082 - val_r2_score: 0.8471\n",
      "Epoch 39/300\n",
      "\u001B[1m22/22\u001B[0m \u001B[32m━━━━━━━━━━━━━━━━━━━━\u001B[0m\u001B[37m\u001B[0m \u001B[1m0s\u001B[0m 4ms/step - loss: 0.0100 - mean_squared_error: 0.0100 - r2_score: 0.8351 - val_loss: 0.0065 - val_mean_squared_error: 0.0077 - val_r2_score: 0.8548\n",
      "Epoch 40/300\n",
      "\u001B[1m22/22\u001B[0m \u001B[32m━━━━━━━━━━━━━━━━━━━━\u001B[0m\u001B[37m\u001B[0m \u001B[1m0s\u001B[0m 4ms/step - loss: 0.0103 - mean_squared_error: 0.0103 - r2_score: 0.8417 - val_loss: 0.0062 - val_mean_squared_error: 0.0073 - val_r2_score: 0.8619\n",
      "Epoch 41/300\n",
      "\u001B[1m22/22\u001B[0m \u001B[32m━━━━━━━━━━━━━━━━━━━━\u001B[0m\u001B[37m\u001B[0m \u001B[1m0s\u001B[0m 4ms/step - loss: 0.0096 - mean_squared_error: 0.0096 - r2_score: 0.8533 - val_loss: 0.0059 - val_mean_squared_error: 0.0069 - val_r2_score: 0.8682\n",
      "Epoch 42/300\n",
      "\u001B[1m22/22\u001B[0m \u001B[32m━━━━━━━━━━━━━━━━━━━━\u001B[0m\u001B[37m\u001B[0m \u001B[1m0s\u001B[0m 4ms/step - loss: 0.0090 - mean_squared_error: 0.0090 - r2_score: 0.8619 - val_loss: 0.0057 - val_mean_squared_error: 0.0066 - val_r2_score: 0.8737\n",
      "Epoch 43/300\n",
      "\u001B[1m22/22\u001B[0m \u001B[32m━━━━━━━━━━━━━━━━━━━━\u001B[0m\u001B[37m\u001B[0m \u001B[1m0s\u001B[0m 4ms/step - loss: 0.0088 - mean_squared_error: 0.0088 - r2_score: 0.8676 - val_loss: 0.0054 - val_mean_squared_error: 0.0063 - val_r2_score: 0.8790\n",
      "Epoch 44/300\n",
      "\u001B[1m22/22\u001B[0m \u001B[32m━━━━━━━━━━━━━━━━━━━━\u001B[0m\u001B[37m\u001B[0m \u001B[1m0s\u001B[0m 4ms/step - loss: 0.0080 - mean_squared_error: 0.0080 - r2_score: 0.8722 - val_loss: 0.0052 - val_mean_squared_error: 0.0060 - val_r2_score: 0.8841\n",
      "Epoch 45/300\n",
      "\u001B[1m22/22\u001B[0m \u001B[32m━━━━━━━━━━━━━━━━━━━━\u001B[0m\u001B[37m\u001B[0m \u001B[1m0s\u001B[0m 4ms/step - loss: 0.0061 - mean_squared_error: 0.0061 - r2_score: 0.8868 - val_loss: 0.0050 - val_mean_squared_error: 0.0058 - val_r2_score: 0.8882\n",
      "Epoch 46/300\n",
      "\u001B[1m22/22\u001B[0m \u001B[32m━━━━━━━━━━━━━━━━━━━━\u001B[0m\u001B[37m\u001B[0m \u001B[1m0s\u001B[0m 4ms/step - loss: 0.0069 - mean_squared_error: 0.0069 - r2_score: 0.8890 - val_loss: 0.0049 - val_mean_squared_error: 0.0056 - val_r2_score: 0.8915\n",
      "Epoch 47/300\n",
      "\u001B[1m22/22\u001B[0m \u001B[32m━━━━━━━━━━━━━━━━━━━━\u001B[0m\u001B[37m\u001B[0m \u001B[1m0s\u001B[0m 4ms/step - loss: 0.0069 - mean_squared_error: 0.0069 - r2_score: 0.8944 - val_loss: 0.0047 - val_mean_squared_error: 0.0054 - val_r2_score: 0.8955\n",
      "Epoch 48/300\n",
      "\u001B[1m22/22\u001B[0m \u001B[32m━━━━━━━━━━━━━━━━━━━━\u001B[0m\u001B[37m\u001B[0m \u001B[1m0s\u001B[0m 4ms/step - loss: 0.0065 - mean_squared_error: 0.0065 - r2_score: 0.8961 - val_loss: 0.0045 - val_mean_squared_error: 0.0052 - val_r2_score: 0.8987\n",
      "Epoch 49/300\n",
      "\u001B[1m22/22\u001B[0m \u001B[32m━━━━━━━━━━━━━━━━━━━━\u001B[0m\u001B[37m\u001B[0m \u001B[1m0s\u001B[0m 4ms/step - loss: 0.0064 - mean_squared_error: 0.0064 - r2_score: 0.9002 - val_loss: 0.0044 - val_mean_squared_error: 0.0051 - val_r2_score: 0.9011\n",
      "Epoch 50/300\n",
      "\u001B[1m22/22\u001B[0m \u001B[32m━━━━━━━━━━━━━━━━━━━━\u001B[0m\u001B[37m\u001B[0m \u001B[1m0s\u001B[0m 4ms/step - loss: 0.0061 - mean_squared_error: 0.0061 - r2_score: 0.9061 - val_loss: 0.0043 - val_mean_squared_error: 0.0049 - val_r2_score: 0.9038\n",
      "Epoch 51/300\n",
      "\u001B[1m22/22\u001B[0m \u001B[32m━━━━━━━━━━━━━━━━━━━━\u001B[0m\u001B[37m\u001B[0m \u001B[1m0s\u001B[0m 4ms/step - loss: 0.0061 - mean_squared_error: 0.0061 - r2_score: 0.9095 - val_loss: 0.0042 - val_mean_squared_error: 0.0048 - val_r2_score: 0.9065\n",
      "Epoch 52/300\n",
      "\u001B[1m22/22\u001B[0m \u001B[32m━━━━━━━━━━━━━━━━━━━━\u001B[0m\u001B[37m\u001B[0m \u001B[1m0s\u001B[0m 4ms/step - loss: 0.0049 - mean_squared_error: 0.0049 - r2_score: 0.9155 - val_loss: 0.0041 - val_mean_squared_error: 0.0047 - val_r2_score: 0.9086\n",
      "Epoch 53/300\n",
      "\u001B[1m22/22\u001B[0m \u001B[32m━━━━━━━━━━━━━━━━━━━━\u001B[0m\u001B[37m\u001B[0m \u001B[1m0s\u001B[0m 4ms/step - loss: 0.0055 - mean_squared_error: 0.0055 - r2_score: 0.9151 - val_loss: 0.0040 - val_mean_squared_error: 0.0046 - val_r2_score: 0.9100\n",
      "Epoch 54/300\n",
      "\u001B[1m22/22\u001B[0m \u001B[32m━━━━━━━━━━━━━━━━━━━━\u001B[0m\u001B[37m\u001B[0m \u001B[1m0s\u001B[0m 4ms/step - loss: 0.0054 - mean_squared_error: 0.0054 - r2_score: 0.9190 - val_loss: 0.0039 - val_mean_squared_error: 0.0045 - val_r2_score: 0.9121\n",
      "Epoch 55/300\n",
      "\u001B[1m22/22\u001B[0m \u001B[32m━━━━━━━━━━━━━━━━━━━━\u001B[0m\u001B[37m\u001B[0m \u001B[1m0s\u001B[0m 4ms/step - loss: 0.0052 - mean_squared_error: 0.0052 - r2_score: 0.9217 - val_loss: 0.0039 - val_mean_squared_error: 0.0044 - val_r2_score: 0.9139\n",
      "Epoch 56/300\n",
      "\u001B[1m22/22\u001B[0m \u001B[32m━━━━━━━━━━━━━━━━━━━━\u001B[0m\u001B[37m\u001B[0m \u001B[1m0s\u001B[0m 4ms/step - loss: 0.0048 - mean_squared_error: 0.0048 - r2_score: 0.9185 - val_loss: 0.0038 - val_mean_squared_error: 0.0043 - val_r2_score: 0.9149\n",
      "Epoch 57/300\n",
      "\u001B[1m22/22\u001B[0m \u001B[32m━━━━━━━━━━━━━━━━━━━━\u001B[0m\u001B[37m\u001B[0m \u001B[1m0s\u001B[0m 4ms/step - loss: 0.0046 - mean_squared_error: 0.0046 - r2_score: 0.9246 - val_loss: 0.0037 - val_mean_squared_error: 0.0043 - val_r2_score: 0.9165\n",
      "Epoch 58/300\n",
      "\u001B[1m22/22\u001B[0m \u001B[32m━━━━━━━━━━━━━━━━━━━━\u001B[0m\u001B[37m\u001B[0m \u001B[1m0s\u001B[0m 4ms/step - loss: 0.0048 - mean_squared_error: 0.0048 - r2_score: 0.9250 - val_loss: 0.0037 - val_mean_squared_error: 0.0043 - val_r2_score: 0.9171\n",
      "Epoch 59/300\n",
      "\u001B[1m22/22\u001B[0m \u001B[32m━━━━━━━━━━━━━━━━━━━━\u001B[0m\u001B[37m\u001B[0m \u001B[1m0s\u001B[0m 4ms/step - loss: 0.0041 - mean_squared_error: 0.0041 - r2_score: 0.9329 - val_loss: 0.0037 - val_mean_squared_error: 0.0042 - val_r2_score: 0.9184\n",
      "Epoch 60/300\n",
      "\u001B[1m22/22\u001B[0m \u001B[32m━━━━━━━━━━━━━━━━━━━━\u001B[0m\u001B[37m\u001B[0m \u001B[1m0s\u001B[0m 4ms/step - loss: 0.0041 - mean_squared_error: 0.0041 - r2_score: 0.9304 - val_loss: 0.0036 - val_mean_squared_error: 0.0042 - val_r2_score: 0.9195\n",
      "Epoch 61/300\n",
      "\u001B[1m22/22\u001B[0m \u001B[32m━━━━━━━━━━━━━━━━━━━━\u001B[0m\u001B[37m\u001B[0m \u001B[1m0s\u001B[0m 4ms/step - loss: 0.0043 - mean_squared_error: 0.0043 - r2_score: 0.9331 - val_loss: 0.0036 - val_mean_squared_error: 0.0042 - val_r2_score: 0.9198\n",
      "Epoch 62/300\n",
      "\u001B[1m22/22\u001B[0m \u001B[32m━━━━━━━━━━━━━━━━━━━━\u001B[0m\u001B[37m\u001B[0m \u001B[1m0s\u001B[0m 4ms/step - loss: 0.0039 - mean_squared_error: 0.0039 - r2_score: 0.9390 - val_loss: 0.0035 - val_mean_squared_error: 0.0041 - val_r2_score: 0.9213\n",
      "Epoch 63/300\n",
      "\u001B[1m22/22\u001B[0m \u001B[32m━━━━━━━━━━━━━━━━━━━━\u001B[0m\u001B[37m\u001B[0m \u001B[1m0s\u001B[0m 4ms/step - loss: 0.0040 - mean_squared_error: 0.0040 - r2_score: 0.9384 - val_loss: 0.0035 - val_mean_squared_error: 0.0041 - val_r2_score: 0.9209\n",
      "Epoch 64/300\n",
      "\u001B[1m22/22\u001B[0m \u001B[32m━━━━━━━━━━━━━━━━━━━━\u001B[0m\u001B[37m\u001B[0m \u001B[1m0s\u001B[0m 4ms/step - loss: 0.0039 - mean_squared_error: 0.0039 - r2_score: 0.9398 - val_loss: 0.0035 - val_mean_squared_error: 0.0041 - val_r2_score: 0.9221\n",
      "Epoch 65/300\n",
      "\u001B[1m22/22\u001B[0m \u001B[32m━━━━━━━━━━━━━━━━━━━━\u001B[0m\u001B[37m\u001B[0m \u001B[1m0s\u001B[0m 4ms/step - loss: 0.0038 - mean_squared_error: 0.0038 - r2_score: 0.9383 - val_loss: 0.0035 - val_mean_squared_error: 0.0041 - val_r2_score: 0.9226\n",
      "Epoch 66/300\n",
      "\u001B[1m22/22\u001B[0m \u001B[32m━━━━━━━━━━━━━━━━━━━━\u001B[0m\u001B[37m\u001B[0m \u001B[1m0s\u001B[0m 4ms/step - loss: 0.0038 - mean_squared_error: 0.0038 - r2_score: 0.9392 - val_loss: 0.0035 - val_mean_squared_error: 0.0041 - val_r2_score: 0.9229\n",
      "Epoch 67/300\n",
      "\u001B[1m22/22\u001B[0m \u001B[32m━━━━━━━━━━━━━━━━━━━━\u001B[0m\u001B[37m\u001B[0m \u001B[1m0s\u001B[0m 4ms/step - loss: 0.0037 - mean_squared_error: 0.0037 - r2_score: 0.9414 - val_loss: 0.0034 - val_mean_squared_error: 0.0041 - val_r2_score: 0.9236\n",
      "Epoch 68/300\n",
      "\u001B[1m22/22\u001B[0m \u001B[32m━━━━━━━━━━━━━━━━━━━━\u001B[0m\u001B[37m\u001B[0m \u001B[1m0s\u001B[0m 4ms/step - loss: 0.0035 - mean_squared_error: 0.0035 - r2_score: 0.9431 - val_loss: 0.0034 - val_mean_squared_error: 0.0041 - val_r2_score: 0.9241\n",
      "Epoch 69/300\n",
      "\u001B[1m22/22\u001B[0m \u001B[32m━━━━━━━━━━━━━━━━━━━━\u001B[0m\u001B[37m\u001B[0m \u001B[1m0s\u001B[0m 4ms/step - loss: 0.0036 - mean_squared_error: 0.0036 - r2_score: 0.9401 - val_loss: 0.0034 - val_mean_squared_error: 0.0041 - val_r2_score: 0.9243\n",
      "Epoch 70/300\n",
      "\u001B[1m22/22\u001B[0m \u001B[32m━━━━━━━━━━━━━━━━━━━━\u001B[0m\u001B[37m\u001B[0m \u001B[1m0s\u001B[0m 4ms/step - loss: 0.0034 - mean_squared_error: 0.0034 - r2_score: 0.9468 - val_loss: 0.0034 - val_mean_squared_error: 0.0041 - val_r2_score: 0.9245\n",
      "Epoch 71/300\n",
      "\u001B[1m22/22\u001B[0m \u001B[32m━━━━━━━━━━━━━━━━━━━━\u001B[0m\u001B[37m\u001B[0m \u001B[1m0s\u001B[0m 4ms/step - loss: 0.0033 - mean_squared_error: 0.0033 - r2_score: 0.9466 - val_loss: 0.0034 - val_mean_squared_error: 0.0041 - val_r2_score: 0.9248\n",
      "Epoch 72/300\n",
      "\u001B[1m22/22\u001B[0m \u001B[32m━━━━━━━━━━━━━━━━━━━━\u001B[0m\u001B[37m\u001B[0m \u001B[1m0s\u001B[0m 4ms/step - loss: 0.0032 - mean_squared_error: 0.0032 - r2_score: 0.9473 - val_loss: 0.0034 - val_mean_squared_error: 0.0041 - val_r2_score: 0.9254\n",
      "Epoch 73/300\n",
      "\u001B[1m22/22\u001B[0m \u001B[32m━━━━━━━━━━━━━━━━━━━━\u001B[0m\u001B[37m\u001B[0m \u001B[1m0s\u001B[0m 4ms/step - loss: 0.0033 - mean_squared_error: 0.0033 - r2_score: 0.9479 - val_loss: 0.0034 - val_mean_squared_error: 0.0041 - val_r2_score: 0.9253\n",
      "Epoch 74/300\n",
      "\u001B[1m22/22\u001B[0m \u001B[32m━━━━━━━━━━━━━━━━━━━━\u001B[0m\u001B[37m\u001B[0m \u001B[1m0s\u001B[0m 4ms/step - loss: 0.0033 - mean_squared_error: 0.0033 - r2_score: 0.9475 - val_loss: 0.0033 - val_mean_squared_error: 0.0041 - val_r2_score: 0.9257\n",
      "Epoch 75/300\n",
      "\u001B[1m22/22\u001B[0m \u001B[32m━━━━━━━━━━━━━━━━━━━━\u001B[0m\u001B[37m\u001B[0m \u001B[1m0s\u001B[0m 4ms/step - loss: 0.0031 - mean_squared_error: 0.0031 - r2_score: 0.9525 - val_loss: 0.0033 - val_mean_squared_error: 0.0041 - val_r2_score: 0.9260\n",
      "Epoch 76/300\n",
      "\u001B[1m22/22\u001B[0m \u001B[32m━━━━━━━━━━━━━━━━━━━━\u001B[0m\u001B[37m\u001B[0m \u001B[1m0s\u001B[0m 4ms/step - loss: 0.0034 - mean_squared_error: 0.0034 - r2_score: 0.9431 - val_loss: 0.0033 - val_mean_squared_error: 0.0040 - val_r2_score: 0.9271\n",
      "Epoch 77/300\n",
      "\u001B[1m22/22\u001B[0m \u001B[32m━━━━━━━━━━━━━━━━━━━━\u001B[0m\u001B[37m\u001B[0m \u001B[1m0s\u001B[0m 4ms/step - loss: 0.0032 - mean_squared_error: 0.0032 - r2_score: 0.9479 - val_loss: 0.0033 - val_mean_squared_error: 0.0041 - val_r2_score: 0.9265\n",
      "Epoch 78/300\n",
      "\u001B[1m22/22\u001B[0m \u001B[32m━━━━━━━━━━━━━━━━━━━━\u001B[0m\u001B[37m\u001B[0m \u001B[1m0s\u001B[0m 4ms/step - loss: 0.0034 - mean_squared_error: 0.0034 - r2_score: 0.9515 - val_loss: 0.0033 - val_mean_squared_error: 0.0041 - val_r2_score: 0.9270\n",
      "Epoch 79/300\n",
      "\u001B[1m22/22\u001B[0m \u001B[32m━━━━━━━━━━━━━━━━━━━━\u001B[0m\u001B[37m\u001B[0m \u001B[1m0s\u001B[0m 3ms/step - loss: 0.0031 - mean_squared_error: 0.0031 - r2_score: 0.9517 - val_loss: 0.0033 - val_mean_squared_error: 0.0041 - val_r2_score: 0.9269\n",
      "Epoch 80/300\n",
      "\u001B[1m22/22\u001B[0m \u001B[32m━━━━━━━━━━━━━━━━━━━━\u001B[0m\u001B[37m\u001B[0m \u001B[1m0s\u001B[0m 4ms/step - loss: 0.0031 - mean_squared_error: 0.0031 - r2_score: 0.9564 - val_loss: 0.0033 - val_mean_squared_error: 0.0041 - val_r2_score: 0.9269\n",
      "Epoch 81/300\n",
      "\u001B[1m22/22\u001B[0m \u001B[32m━━━━━━━━━━━━━━━━━━━━\u001B[0m\u001B[37m\u001B[0m \u001B[1m0s\u001B[0m 4ms/step - loss: 0.0029 - mean_squared_error: 0.0029 - r2_score: 0.9520 - val_loss: 0.0032 - val_mean_squared_error: 0.0041 - val_r2_score: 0.9279\n",
      "Epoch 82/300\n",
      "\u001B[1m22/22\u001B[0m \u001B[32m━━━━━━━━━━━━━━━━━━━━\u001B[0m\u001B[37m\u001B[0m \u001B[1m0s\u001B[0m 3ms/step - loss: 0.0029 - mean_squared_error: 0.0029 - r2_score: 0.9513 - val_loss: 0.0033 - val_mean_squared_error: 0.0041 - val_r2_score: 0.9277\n",
      "Epoch 83/300\n",
      "\u001B[1m22/22\u001B[0m \u001B[32m━━━━━━━━━━━━━━━━━━━━\u001B[0m\u001B[37m\u001B[0m \u001B[1m0s\u001B[0m 4ms/step - loss: 0.0030 - mean_squared_error: 0.0030 - r2_score: 0.9515 - val_loss: 0.0032 - val_mean_squared_error: 0.0041 - val_r2_score: 0.9279\n",
      "Epoch 84/300\n",
      "\u001B[1m22/22\u001B[0m \u001B[32m━━━━━━━━━━━━━━━━━━━━\u001B[0m\u001B[37m\u001B[0m \u001B[1m0s\u001B[0m 4ms/step - loss: 0.0029 - mean_squared_error: 0.0029 - r2_score: 0.9523 - val_loss: 0.0032 - val_mean_squared_error: 0.0041 - val_r2_score: 0.9282\n",
      "Epoch 85/300\n",
      "\u001B[1m22/22\u001B[0m \u001B[32m━━━━━━━━━━━━━━━━━━━━\u001B[0m\u001B[37m\u001B[0m \u001B[1m0s\u001B[0m 4ms/step - loss: 0.0029 - mean_squared_error: 0.0029 - r2_score: 0.9508 - val_loss: 0.0032 - val_mean_squared_error: 0.0042 - val_r2_score: 0.9280\n",
      "Epoch 86/300\n",
      "\u001B[1m22/22\u001B[0m \u001B[32m━━━━━━━━━━━━━━━━━━━━\u001B[0m\u001B[37m\u001B[0m \u001B[1m0s\u001B[0m 4ms/step - loss: 0.0029 - mean_squared_error: 0.0029 - r2_score: 0.9492 - val_loss: 0.0032 - val_mean_squared_error: 0.0041 - val_r2_score: 0.9286\n",
      "Epoch 87/300\n",
      "\u001B[1m22/22\u001B[0m \u001B[32m━━━━━━━━━━━━━━━━━━━━\u001B[0m\u001B[37m\u001B[0m \u001B[1m0s\u001B[0m 4ms/step - loss: 0.0031 - mean_squared_error: 0.0031 - r2_score: 0.9557 - val_loss: 0.0032 - val_mean_squared_error: 0.0041 - val_r2_score: 0.9288\n",
      "Epoch 88/300\n",
      "\u001B[1m22/22\u001B[0m \u001B[32m━━━━━━━━━━━━━━━━━━━━\u001B[0m\u001B[37m\u001B[0m \u001B[1m0s\u001B[0m 4ms/step - loss: 0.0029 - mean_squared_error: 0.0029 - r2_score: 0.9568 - val_loss: 0.0032 - val_mean_squared_error: 0.0042 - val_r2_score: 0.9282\n",
      "Epoch 89/300\n",
      "\u001B[1m22/22\u001B[0m \u001B[32m━━━━━━━━━━━━━━━━━━━━\u001B[0m\u001B[37m\u001B[0m \u001B[1m0s\u001B[0m 4ms/step - loss: 0.0029 - mean_squared_error: 0.0029 - r2_score: 0.9529 - val_loss: 0.0032 - val_mean_squared_error: 0.0042 - val_r2_score: 0.9289\n",
      "Epoch 90/300\n",
      "\u001B[1m22/22\u001B[0m \u001B[32m━━━━━━━━━━━━━━━━━━━━\u001B[0m\u001B[37m\u001B[0m \u001B[1m0s\u001B[0m 4ms/step - loss: 0.0026 - mean_squared_error: 0.0026 - r2_score: 0.9580 - val_loss: 0.0032 - val_mean_squared_error: 0.0042 - val_r2_score: 0.9285\n",
      "Epoch 91/300\n",
      "\u001B[1m22/22\u001B[0m \u001B[32m━━━━━━━━━━━━━━━━━━━━\u001B[0m\u001B[37m\u001B[0m \u001B[1m0s\u001B[0m 4ms/step - loss: 0.0028 - mean_squared_error: 0.0028 - r2_score: 0.9578 - val_loss: 0.0032 - val_mean_squared_error: 0.0041 - val_r2_score: 0.9295\n",
      "Epoch 92/300\n",
      "\u001B[1m22/22\u001B[0m \u001B[32m━━━━━━━━━━━━━━━━━━━━\u001B[0m\u001B[37m\u001B[0m \u001B[1m0s\u001B[0m 4ms/step - loss: 0.0029 - mean_squared_error: 0.0029 - r2_score: 0.9501 - val_loss: 0.0033 - val_mean_squared_error: 0.0043 - val_r2_score: 0.9276\n",
      "Epoch 93/300\n",
      "\u001B[1m22/22\u001B[0m \u001B[32m━━━━━━━━━━━━━━━━━━━━\u001B[0m\u001B[37m\u001B[0m \u001B[1m0s\u001B[0m 4ms/step - loss: 0.0029 - mean_squared_error: 0.0029 - r2_score: 0.9541 - val_loss: 0.0032 - val_mean_squared_error: 0.0043 - val_r2_score: 0.9287\n",
      "Epoch 94/300\n",
      "\u001B[1m22/22\u001B[0m \u001B[32m━━━━━━━━━━━━━━━━━━━━\u001B[0m\u001B[37m\u001B[0m \u001B[1m0s\u001B[0m 4ms/step - loss: 0.0027 - mean_squared_error: 0.0027 - r2_score: 0.9557 - val_loss: 0.0032 - val_mean_squared_error: 0.0042 - val_r2_score: 0.9299\n",
      "Epoch 95/300\n",
      "\u001B[1m22/22\u001B[0m \u001B[32m━━━━━━━━━━━━━━━━━━━━\u001B[0m\u001B[37m\u001B[0m \u001B[1m0s\u001B[0m 4ms/step - loss: 0.0030 - mean_squared_error: 0.0030 - r2_score: 0.9556 - val_loss: 0.0032 - val_mean_squared_error: 0.0043 - val_r2_score: 0.9280\n",
      "Epoch 96/300\n",
      "\u001B[1m22/22\u001B[0m \u001B[32m━━━━━━━━━━━━━━━━━━━━\u001B[0m\u001B[37m\u001B[0m \u001B[1m0s\u001B[0m 4ms/step - loss: 0.0028 - mean_squared_error: 0.0028 - r2_score: 0.9552 - val_loss: 0.0031 - val_mean_squared_error: 0.0042 - val_r2_score: 0.9305\n",
      "Epoch 97/300\n",
      "\u001B[1m22/22\u001B[0m \u001B[32m━━━━━━━━━━━━━━━━━━━━\u001B[0m\u001B[37m\u001B[0m \u001B[1m0s\u001B[0m 4ms/step - loss: 0.0026 - mean_squared_error: 0.0026 - r2_score: 0.9595 - val_loss: 0.0032 - val_mean_squared_error: 0.0043 - val_r2_score: 0.9294\n",
      "Epoch 98/300\n",
      "\u001B[1m22/22\u001B[0m \u001B[32m━━━━━━━━━━━━━━━━━━━━\u001B[0m\u001B[37m\u001B[0m \u001B[1m0s\u001B[0m 4ms/step - loss: 0.0028 - mean_squared_error: 0.0028 - r2_score: 0.9570 - val_loss: 0.0032 - val_mean_squared_error: 0.0043 - val_r2_score: 0.9290\n",
      "Epoch 99/300\n",
      "\u001B[1m22/22\u001B[0m \u001B[32m━━━━━━━━━━━━━━━━━━━━\u001B[0m\u001B[37m\u001B[0m \u001B[1m0s\u001B[0m 4ms/step - loss: 0.0026 - mean_squared_error: 0.0026 - r2_score: 0.9586 - val_loss: 0.0032 - val_mean_squared_error: 0.0043 - val_r2_score: 0.9297\n",
      "Epoch 100/300\n",
      "\u001B[1m22/22\u001B[0m \u001B[32m━━━━━━━━━━━━━━━━━━━━\u001B[0m\u001B[37m\u001B[0m \u001B[1m0s\u001B[0m 4ms/step - loss: 0.0026 - mean_squared_error: 0.0026 - r2_score: 0.9561 - val_loss: 0.0032 - val_mean_squared_error: 0.0043 - val_r2_score: 0.9298\n",
      "Epoch 101/300\n",
      "\u001B[1m22/22\u001B[0m \u001B[32m━━━━━━━━━━━━━━━━━━━━\u001B[0m\u001B[37m\u001B[0m \u001B[1m0s\u001B[0m 4ms/step - loss: 0.0026 - mean_squared_error: 0.0026 - r2_score: 0.9602 - val_loss: 0.0032 - val_mean_squared_error: 0.0043 - val_r2_score: 0.9301\n",
      "Epoch 102/300\n",
      "\u001B[1m22/22\u001B[0m \u001B[32m━━━━━━━━━━━━━━━━━━━━\u001B[0m\u001B[37m\u001B[0m \u001B[1m0s\u001B[0m 4ms/step - loss: 0.0029 - mean_squared_error: 0.0029 - r2_score: 0.9517 - val_loss: 0.0032 - val_mean_squared_error: 0.0043 - val_r2_score: 0.9300\n",
      "Epoch 103/300\n",
      "\u001B[1m22/22\u001B[0m \u001B[32m━━━━━━━━━━━━━━━━━━━━\u001B[0m\u001B[37m\u001B[0m \u001B[1m0s\u001B[0m 4ms/step - loss: 0.0027 - mean_squared_error: 0.0027 - r2_score: 0.9560 - val_loss: 0.0032 - val_mean_squared_error: 0.0043 - val_r2_score: 0.9298\n",
      "Epoch 104/300\n",
      "\u001B[1m22/22\u001B[0m \u001B[32m━━━━━━━━━━━━━━━━━━━━\u001B[0m\u001B[37m\u001B[0m \u001B[1m0s\u001B[0m 4ms/step - loss: 0.0025 - mean_squared_error: 0.0025 - r2_score: 0.9614 - val_loss: 0.0032 - val_mean_squared_error: 0.0043 - val_r2_score: 0.9299\n",
      "Epoch 105/300\n",
      "\u001B[1m22/22\u001B[0m \u001B[32m━━━━━━━━━━━━━━━━━━━━\u001B[0m\u001B[37m\u001B[0m \u001B[1m0s\u001B[0m 4ms/step - loss: 0.0026 - mean_squared_error: 0.0026 - r2_score: 0.9617 - val_loss: 0.0032 - val_mean_squared_error: 0.0043 - val_r2_score: 0.9297\n",
      "Epoch 106/300\n",
      "\u001B[1m22/22\u001B[0m \u001B[32m━━━━━━━━━━━━━━━━━━━━\u001B[0m\u001B[37m\u001B[0m \u001B[1m0s\u001B[0m 4ms/step - loss: 0.0026 - mean_squared_error: 0.0026 - r2_score: 0.9594 - val_loss: 0.0031 - val_mean_squared_error: 0.0043 - val_r2_score: 0.9304\n",
      "Epoch 107/300\n",
      "\u001B[1m22/22\u001B[0m \u001B[32m━━━━━━━━━━━━━━━━━━━━\u001B[0m\u001B[37m\u001B[0m \u001B[1m0s\u001B[0m 4ms/step - loss: 0.0024 - mean_squared_error: 0.0024 - r2_score: 0.9629 - val_loss: 0.0032 - val_mean_squared_error: 0.0043 - val_r2_score: 0.9300\n",
      "Epoch 108/300\n",
      "\u001B[1m22/22\u001B[0m \u001B[32m━━━━━━━━━━━━━━━━━━━━\u001B[0m\u001B[37m\u001B[0m \u001B[1m0s\u001B[0m 4ms/step - loss: 0.0025 - mean_squared_error: 0.0025 - r2_score: 0.9596 - val_loss: 0.0031 - val_mean_squared_error: 0.0043 - val_r2_score: 0.9301\n",
      "Epoch 109/300\n",
      "\u001B[1m22/22\u001B[0m \u001B[32m━━━━━━━━━━━━━━━━━━━━\u001B[0m\u001B[37m\u001B[0m \u001B[1m0s\u001B[0m 4ms/step - loss: 0.0027 - mean_squared_error: 0.0027 - r2_score: 0.9567 - val_loss: 0.0032 - val_mean_squared_error: 0.0044 - val_r2_score: 0.9297\n",
      "Epoch 110/300\n",
      "\u001B[1m22/22\u001B[0m \u001B[32m━━━━━━━━━━━━━━━━━━━━\u001B[0m\u001B[37m\u001B[0m \u001B[1m0s\u001B[0m 3ms/step - loss: 0.0025 - mean_squared_error: 0.0025 - r2_score: 0.9562 - val_loss: 0.0032 - val_mean_squared_error: 0.0044 - val_r2_score: 0.9301\n",
      "Epoch 111/300\n",
      "\u001B[1m22/22\u001B[0m \u001B[32m━━━━━━━━━━━━━━━━━━━━\u001B[0m\u001B[37m\u001B[0m \u001B[1m0s\u001B[0m 4ms/step - loss: 0.0024 - mean_squared_error: 0.0024 - r2_score: 0.9614 - val_loss: 0.0032 - val_mean_squared_error: 0.0044 - val_r2_score: 0.9300\n",
      "Epoch 112/300\n",
      "\u001B[1m22/22\u001B[0m \u001B[32m━━━━━━━━━━━━━━━━━━━━\u001B[0m\u001B[37m\u001B[0m \u001B[1m0s\u001B[0m 4ms/step - loss: 0.0025 - mean_squared_error: 0.0025 - r2_score: 0.9615 - val_loss: 0.0032 - val_mean_squared_error: 0.0045 - val_r2_score: 0.9287\n",
      "Epoch 113/300\n",
      "\u001B[1m22/22\u001B[0m \u001B[32m━━━━━━━━━━━━━━━━━━━━\u001B[0m\u001B[37m\u001B[0m \u001B[1m0s\u001B[0m 4ms/step - loss: 0.0025 - mean_squared_error: 0.0025 - r2_score: 0.9617 - val_loss: 0.0031 - val_mean_squared_error: 0.0043 - val_r2_score: 0.9307\n",
      "Epoch 114/300\n",
      "\u001B[1m22/22\u001B[0m \u001B[32m━━━━━━━━━━━━━━━━━━━━\u001B[0m\u001B[37m\u001B[0m \u001B[1m0s\u001B[0m 4ms/step - loss: 0.0026 - mean_squared_error: 0.0026 - r2_score: 0.9603 - val_loss: 0.0032 - val_mean_squared_error: 0.0044 - val_r2_score: 0.9298\n",
      "Epoch 115/300\n",
      "\u001B[1m22/22\u001B[0m \u001B[32m━━━━━━━━━━━━━━━━━━━━\u001B[0m\u001B[37m\u001B[0m \u001B[1m0s\u001B[0m 4ms/step - loss: 0.0027 - mean_squared_error: 0.0027 - r2_score: 0.9563 - val_loss: 0.0031 - val_mean_squared_error: 0.0043 - val_r2_score: 0.9311\n",
      "Epoch 116/300\n",
      "\u001B[1m22/22\u001B[0m \u001B[32m━━━━━━━━━━━━━━━━━━━━\u001B[0m\u001B[37m\u001B[0m \u001B[1m0s\u001B[0m 3ms/step - loss: 0.0023 - mean_squared_error: 0.0023 - r2_score: 0.9622 - val_loss: 0.0031 - val_mean_squared_error: 0.0044 - val_r2_score: 0.9305\n",
      "Epoch 117/300\n",
      "\u001B[1m22/22\u001B[0m \u001B[32m━━━━━━━━━━━━━━━━━━━━\u001B[0m\u001B[37m\u001B[0m \u001B[1m0s\u001B[0m 4ms/step - loss: 0.0024 - mean_squared_error: 0.0024 - r2_score: 0.9595 - val_loss: 0.0032 - val_mean_squared_error: 0.0045 - val_r2_score: 0.9291\n",
      "Epoch 118/300\n",
      "\u001B[1m22/22\u001B[0m \u001B[32m━━━━━━━━━━━━━━━━━━━━\u001B[0m\u001B[37m\u001B[0m \u001B[1m0s\u001B[0m 4ms/step - loss: 0.0026 - mean_squared_error: 0.0026 - r2_score: 0.9619 - val_loss: 0.0032 - val_mean_squared_error: 0.0044 - val_r2_score: 0.9299\n",
      "Epoch 119/300\n",
      "\u001B[1m22/22\u001B[0m \u001B[32m━━━━━━━━━━━━━━━━━━━━\u001B[0m\u001B[37m\u001B[0m \u001B[1m0s\u001B[0m 4ms/step - loss: 0.0024 - mean_squared_error: 0.0024 - r2_score: 0.9629 - val_loss: 0.0031 - val_mean_squared_error: 0.0044 - val_r2_score: 0.9307\n",
      "Epoch 120/300\n",
      "\u001B[1m22/22\u001B[0m \u001B[32m━━━━━━━━━━━━━━━━━━━━\u001B[0m\u001B[37m\u001B[0m \u001B[1m0s\u001B[0m 4ms/step - loss: 0.0023 - mean_squared_error: 0.0023 - r2_score: 0.9597 - val_loss: 0.0032 - val_mean_squared_error: 0.0045 - val_r2_score: 0.9297\n",
      "Epoch 121/300\n",
      "\u001B[1m22/22\u001B[0m \u001B[32m━━━━━━━━━━━━━━━━━━━━\u001B[0m\u001B[37m\u001B[0m \u001B[1m0s\u001B[0m 3ms/step - loss: 0.0026 - mean_squared_error: 0.0026 - r2_score: 0.9606 - val_loss: 0.0032 - val_mean_squared_error: 0.0044 - val_r2_score: 0.9301\n",
      "Epoch 122/300\n",
      "\u001B[1m22/22\u001B[0m \u001B[32m━━━━━━━━━━━━━━━━━━━━\u001B[0m\u001B[37m\u001B[0m \u001B[1m0s\u001B[0m 4ms/step - loss: 0.0024 - mean_squared_error: 0.0024 - r2_score: 0.9616 - val_loss: 0.0032 - val_mean_squared_error: 0.0045 - val_r2_score: 0.9295\n",
      "Epoch 123/300\n",
      "\u001B[1m22/22\u001B[0m \u001B[32m━━━━━━━━━━━━━━━━━━━━\u001B[0m\u001B[37m\u001B[0m \u001B[1m0s\u001B[0m 4ms/step - loss: 0.0023 - mean_squared_error: 0.0023 - r2_score: 0.9616 - val_loss: 0.0031 - val_mean_squared_error: 0.0044 - val_r2_score: 0.9303\n",
      "Epoch 124/300\n",
      "\u001B[1m22/22\u001B[0m \u001B[32m━━━━━━━━━━━━━━━━━━━━\u001B[0m\u001B[37m\u001B[0m \u001B[1m0s\u001B[0m 4ms/step - loss: 0.0024 - mean_squared_error: 0.0024 - r2_score: 0.9607 - val_loss: 0.0032 - val_mean_squared_error: 0.0045 - val_r2_score: 0.9298\n",
      "Epoch 125/300\n",
      "\u001B[1m22/22\u001B[0m \u001B[32m━━━━━━━━━━━━━━━━━━━━\u001B[0m\u001B[37m\u001B[0m \u001B[1m0s\u001B[0m 4ms/step - loss: 0.0025 - mean_squared_error: 0.0025 - r2_score: 0.9621 - val_loss: 0.0032 - val_mean_squared_error: 0.0045 - val_r2_score: 0.9297\n",
      "Epoch 126/300\n",
      "\u001B[1m22/22\u001B[0m \u001B[32m━━━━━━━━━━━━━━━━━━━━\u001B[0m\u001B[37m\u001B[0m \u001B[1m0s\u001B[0m 4ms/step - loss: 0.0024 - mean_squared_error: 0.0024 - r2_score: 0.9606 - val_loss: 0.0032 - val_mean_squared_error: 0.0045 - val_r2_score: 0.9298\n",
      "Epoch 127/300\n",
      "\u001B[1m22/22\u001B[0m \u001B[32m━━━━━━━━━━━━━━━━━━━━\u001B[0m\u001B[37m\u001B[0m \u001B[1m0s\u001B[0m 4ms/step - loss: 0.0023 - mean_squared_error: 0.0023 - r2_score: 0.9619 - val_loss: 0.0032 - val_mean_squared_error: 0.0045 - val_r2_score: 0.9297\n",
      "Epoch 128/300\n",
      "\u001B[1m22/22\u001B[0m \u001B[32m━━━━━━━━━━━━━━━━━━━━\u001B[0m\u001B[37m\u001B[0m \u001B[1m0s\u001B[0m 4ms/step - loss: 0.0024 - mean_squared_error: 0.0024 - r2_score: 0.9621 - val_loss: 0.0032 - val_mean_squared_error: 0.0045 - val_r2_score: 0.9297\n",
      "Epoch 129/300\n",
      "\u001B[1m22/22\u001B[0m \u001B[32m━━━━━━━━━━━━━━━━━━━━\u001B[0m\u001B[37m\u001B[0m \u001B[1m0s\u001B[0m 4ms/step - loss: 0.0024 - mean_squared_error: 0.0024 - r2_score: 0.9629 - val_loss: 0.0032 - val_mean_squared_error: 0.0046 - val_r2_score: 0.9286\n",
      "Epoch 130/300\n",
      "\u001B[1m22/22\u001B[0m \u001B[32m━━━━━━━━━━━━━━━━━━━━\u001B[0m\u001B[37m\u001B[0m \u001B[1m0s\u001B[0m 4ms/step - loss: 0.0024 - mean_squared_error: 0.0024 - r2_score: 0.9612 - val_loss: 0.0032 - val_mean_squared_error: 0.0046 - val_r2_score: 0.9291\n",
      "Epoch 131/300\n",
      "\u001B[1m22/22\u001B[0m \u001B[32m━━━━━━━━━━━━━━━━━━━━\u001B[0m\u001B[37m\u001B[0m \u001B[1m0s\u001B[0m 4ms/step - loss: 0.0022 - mean_squared_error: 0.0022 - r2_score: 0.9650 - val_loss: 0.0032 - val_mean_squared_error: 0.0045 - val_r2_score: 0.9300\n",
      "Epoch 132/300\n",
      "\u001B[1m22/22\u001B[0m \u001B[32m━━━━━━━━━━━━━━━━━━━━\u001B[0m\u001B[37m\u001B[0m \u001B[1m0s\u001B[0m 4ms/step - loss: 0.0023 - mean_squared_error: 0.0023 - r2_score: 0.9630 - val_loss: 0.0031 - val_mean_squared_error: 0.0045 - val_r2_score: 0.9303\n",
      "Epoch 133/300\n",
      "\u001B[1m22/22\u001B[0m \u001B[32m━━━━━━━━━━━━━━━━━━━━\u001B[0m\u001B[37m\u001B[0m \u001B[1m0s\u001B[0m 4ms/step - loss: 0.0024 - mean_squared_error: 0.0024 - r2_score: 0.9632 - val_loss: 0.0032 - val_mean_squared_error: 0.0045 - val_r2_score: 0.9300\n",
      "Epoch 134/300\n",
      "\u001B[1m22/22\u001B[0m \u001B[32m━━━━━━━━━━━━━━━━━━━━\u001B[0m\u001B[37m\u001B[0m \u001B[1m0s\u001B[0m 4ms/step - loss: 0.0024 - mean_squared_error: 0.0024 - r2_score: 0.9624 - val_loss: 0.0032 - val_mean_squared_error: 0.0046 - val_r2_score: 0.9292\n",
      "Epoch 135/300\n",
      "\u001B[1m22/22\u001B[0m \u001B[32m━━━━━━━━━━━━━━━━━━━━\u001B[0m\u001B[37m\u001B[0m \u001B[1m0s\u001B[0m 4ms/step - loss: 0.0023 - mean_squared_error: 0.0023 - r2_score: 0.9613 - val_loss: 0.0032 - val_mean_squared_error: 0.0046 - val_r2_score: 0.9294\n",
      "Epoch 136/300\n",
      "\u001B[1m22/22\u001B[0m \u001B[32m━━━━━━━━━━━━━━━━━━━━\u001B[0m\u001B[37m\u001B[0m \u001B[1m0s\u001B[0m 4ms/step - loss: 0.0022 - mean_squared_error: 0.0022 - r2_score: 0.9659 - val_loss: 0.0032 - val_mean_squared_error: 0.0046 - val_r2_score: 0.9290\n",
      "Epoch 137/300\n",
      "\u001B[1m22/22\u001B[0m \u001B[32m━━━━━━━━━━━━━━━━━━━━\u001B[0m\u001B[37m\u001B[0m \u001B[1m0s\u001B[0m 4ms/step - loss: 0.0022 - mean_squared_error: 0.0022 - r2_score: 0.9670 - val_loss: 0.0033 - val_mean_squared_error: 0.0047 - val_r2_score: 0.9278\n",
      "Epoch 138/300\n",
      "\u001B[1m22/22\u001B[0m \u001B[32m━━━━━━━━━━━━━━━━━━━━\u001B[0m\u001B[37m\u001B[0m \u001B[1m0s\u001B[0m 4ms/step - loss: 0.0024 - mean_squared_error: 0.0024 - r2_score: 0.9626 - val_loss: 0.0032 - val_mean_squared_error: 0.0046 - val_r2_score: 0.9292\n",
      "Epoch 139/300\n",
      "\u001B[1m22/22\u001B[0m \u001B[32m━━━━━━━━━━━━━━━━━━━━\u001B[0m\u001B[37m\u001B[0m \u001B[1m0s\u001B[0m 4ms/step - loss: 0.0022 - mean_squared_error: 0.0022 - r2_score: 0.9660 - val_loss: 0.0032 - val_mean_squared_error: 0.0046 - val_r2_score: 0.9291\n",
      "Epoch 140/300\n",
      "\u001B[1m22/22\u001B[0m \u001B[32m━━━━━━━━━━━━━━━━━━━━\u001B[0m\u001B[37m\u001B[0m \u001B[1m0s\u001B[0m 4ms/step - loss: 0.0023 - mean_squared_error: 0.0023 - r2_score: 0.9622 - val_loss: 0.0032 - val_mean_squared_error: 0.0046 - val_r2_score: 0.9290\n",
      "Epoch 141/300\n",
      "\u001B[1m22/22\u001B[0m \u001B[32m━━━━━━━━━━━━━━━━━━━━\u001B[0m\u001B[37m\u001B[0m \u001B[1m0s\u001B[0m 4ms/step - loss: 0.0022 - mean_squared_error: 0.0022 - r2_score: 0.9632 - val_loss: 0.0032 - val_mean_squared_error: 0.0046 - val_r2_score: 0.9294\n",
      "Epoch 142/300\n",
      "\u001B[1m22/22\u001B[0m \u001B[32m━━━━━━━━━━━━━━━━━━━━\u001B[0m\u001B[37m\u001B[0m \u001B[1m0s\u001B[0m 4ms/step - loss: 0.0023 - mean_squared_error: 0.0023 - r2_score: 0.9615 - val_loss: 0.0032 - val_mean_squared_error: 0.0046 - val_r2_score: 0.9291\n",
      "Epoch 143/300\n",
      "\u001B[1m22/22\u001B[0m \u001B[32m━━━━━━━━━━━━━━━━━━━━\u001B[0m\u001B[37m\u001B[0m \u001B[1m0s\u001B[0m 4ms/step - loss: 0.0024 - mean_squared_error: 0.0024 - r2_score: 0.9633 - val_loss: 0.0032 - val_mean_squared_error: 0.0046 - val_r2_score: 0.9289\n",
      "Epoch 144/300\n",
      "\u001B[1m22/22\u001B[0m \u001B[32m━━━━━━━━━━━━━━━━━━━━\u001B[0m\u001B[37m\u001B[0m \u001B[1m0s\u001B[0m 4ms/step - loss: 0.0023 - mean_squared_error: 0.0023 - r2_score: 0.9652 - val_loss: 0.0032 - val_mean_squared_error: 0.0047 - val_r2_score: 0.9281\n",
      "Epoch 145/300\n",
      "\u001B[1m22/22\u001B[0m \u001B[32m━━━━━━━━━━━━━━━━━━━━\u001B[0m\u001B[37m\u001B[0m \u001B[1m0s\u001B[0m 4ms/step - loss: 0.0023 - mean_squared_error: 0.0023 - r2_score: 0.9648 - val_loss: 0.0032 - val_mean_squared_error: 0.0046 - val_r2_score: 0.9288\n",
      "Epoch 146/300\n",
      "\u001B[1m22/22\u001B[0m \u001B[32m━━━━━━━━━━━━━━━━━━━━\u001B[0m\u001B[37m\u001B[0m \u001B[1m0s\u001B[0m 4ms/step - loss: 0.0022 - mean_squared_error: 0.0022 - r2_score: 0.9671 - val_loss: 0.0032 - val_mean_squared_error: 0.0047 - val_r2_score: 0.9289\n",
      "Epoch 147/300\n",
      "\u001B[1m22/22\u001B[0m \u001B[32m━━━━━━━━━━━━━━━━━━━━\u001B[0m\u001B[37m\u001B[0m \u001B[1m0s\u001B[0m 4ms/step - loss: 0.0025 - mean_squared_error: 0.0025 - r2_score: 0.9617 - val_loss: 0.0032 - val_mean_squared_error: 0.0047 - val_r2_score: 0.9281\n",
      "Epoch 148/300\n",
      "\u001B[1m22/22\u001B[0m \u001B[32m━━━━━━━━━━━━━━━━━━━━\u001B[0m\u001B[37m\u001B[0m \u001B[1m0s\u001B[0m 4ms/step - loss: 0.0022 - mean_squared_error: 0.0022 - r2_score: 0.9658 - val_loss: 0.0032 - val_mean_squared_error: 0.0046 - val_r2_score: 0.9290\n",
      "Epoch 149/300\n",
      "\u001B[1m22/22\u001B[0m \u001B[32m━━━━━━━━━━━━━━━━━━━━\u001B[0m\u001B[37m\u001B[0m \u001B[1m0s\u001B[0m 4ms/step - loss: 0.0023 - mean_squared_error: 0.0023 - r2_score: 0.9613 - val_loss: 0.0032 - val_mean_squared_error: 0.0047 - val_r2_score: 0.9282\n",
      "Epoch 150/300\n",
      "\u001B[1m22/22\u001B[0m \u001B[32m━━━━━━━━━━━━━━━━━━━━\u001B[0m\u001B[37m\u001B[0m \u001B[1m0s\u001B[0m 4ms/step - loss: 0.0022 - mean_squared_error: 0.0022 - r2_score: 0.9643 - val_loss: 0.0033 - val_mean_squared_error: 0.0048 - val_r2_score: 0.9274\n",
      "Epoch 151/300\n",
      "\u001B[1m22/22\u001B[0m \u001B[32m━━━━━━━━━━━━━━━━━━━━\u001B[0m\u001B[37m\u001B[0m \u001B[1m0s\u001B[0m 4ms/step - loss: 0.0025 - mean_squared_error: 0.0025 - r2_score: 0.9623 - val_loss: 0.0032 - val_mean_squared_error: 0.0047 - val_r2_score: 0.9285\n",
      "Epoch 152/300\n",
      "\u001B[1m22/22\u001B[0m \u001B[32m━━━━━━━━━━━━━━━━━━━━\u001B[0m\u001B[37m\u001B[0m \u001B[1m0s\u001B[0m 4ms/step - loss: 0.0022 - mean_squared_error: 0.0022 - r2_score: 0.9636 - val_loss: 0.0032 - val_mean_squared_error: 0.0047 - val_r2_score: 0.9289\n",
      "Epoch 153/300\n",
      "\u001B[1m22/22\u001B[0m \u001B[32m━━━━━━━━━━━━━━━━━━━━\u001B[0m\u001B[37m\u001B[0m \u001B[1m0s\u001B[0m 4ms/step - loss: 0.0023 - mean_squared_error: 0.0023 - r2_score: 0.9660 - val_loss: 0.0033 - val_mean_squared_error: 0.0048 - val_r2_score: 0.9276\n",
      "Epoch 154/300\n",
      "\u001B[1m22/22\u001B[0m \u001B[32m━━━━━━━━━━━━━━━━━━━━\u001B[0m\u001B[37m\u001B[0m \u001B[1m0s\u001B[0m 4ms/step - loss: 0.0021 - mean_squared_error: 0.0021 - r2_score: 0.9681 - val_loss: 0.0032 - val_mean_squared_error: 0.0047 - val_r2_score: 0.9285\n",
      "Epoch 155/300\n",
      "\u001B[1m22/22\u001B[0m \u001B[32m━━━━━━━━━━━━━━━━━━━━\u001B[0m\u001B[37m\u001B[0m \u001B[1m0s\u001B[0m 4ms/step - loss: 0.0023 - mean_squared_error: 0.0023 - r2_score: 0.9619 - val_loss: 0.0032 - val_mean_squared_error: 0.0047 - val_r2_score: 0.9281\n",
      "Epoch 156/300\n",
      "\u001B[1m22/22\u001B[0m \u001B[32m━━━━━━━━━━━━━━━━━━━━\u001B[0m\u001B[37m\u001B[0m \u001B[1m0s\u001B[0m 4ms/step - loss: 0.0023 - mean_squared_error: 0.0023 - r2_score: 0.9647 - val_loss: 0.0032 - val_mean_squared_error: 0.0047 - val_r2_score: 0.9285\n",
      "Epoch 157/300\n",
      "\u001B[1m22/22\u001B[0m \u001B[32m━━━━━━━━━━━━━━━━━━━━\u001B[0m\u001B[37m\u001B[0m \u001B[1m0s\u001B[0m 4ms/step - loss: 0.0023 - mean_squared_error: 0.0023 - r2_score: 0.9620 - val_loss: 0.0033 - val_mean_squared_error: 0.0048 - val_r2_score: 0.9280\n",
      "Epoch 158/300\n",
      "\u001B[1m22/22\u001B[0m \u001B[32m━━━━━━━━━━━━━━━━━━━━\u001B[0m\u001B[37m\u001B[0m \u001B[1m0s\u001B[0m 4ms/step - loss: 0.0023 - mean_squared_error: 0.0023 - r2_score: 0.9624 - val_loss: 0.0032 - val_mean_squared_error: 0.0047 - val_r2_score: 0.9287\n",
      "Epoch 159/300\n",
      "\u001B[1m22/22\u001B[0m \u001B[32m━━━━━━━━━━━━━━━━━━━━\u001B[0m\u001B[37m\u001B[0m \u001B[1m0s\u001B[0m 4ms/step - loss: 0.0024 - mean_squared_error: 0.0024 - r2_score: 0.9625 - val_loss: 0.0033 - val_mean_squared_error: 0.0049 - val_r2_score: 0.9261\n",
      "Epoch 160/300\n",
      "\u001B[1m22/22\u001B[0m \u001B[32m━━━━━━━━━━━━━━━━━━━━\u001B[0m\u001B[37m\u001B[0m \u001B[1m0s\u001B[0m 4ms/step - loss: 0.0021 - mean_squared_error: 0.0021 - r2_score: 0.9624 - val_loss: 0.0032 - val_mean_squared_error: 0.0047 - val_r2_score: 0.9289\n",
      "Epoch 161/300\n",
      "\u001B[1m22/22\u001B[0m \u001B[32m━━━━━━━━━━━━━━━━━━━━\u001B[0m\u001B[37m\u001B[0m \u001B[1m0s\u001B[0m 4ms/step - loss: 0.0023 - mean_squared_error: 0.0023 - r2_score: 0.9643 - val_loss: 0.0033 - val_mean_squared_error: 0.0049 - val_r2_score: 0.9267\n",
      "Epoch 162/300\n",
      "\u001B[1m22/22\u001B[0m \u001B[32m━━━━━━━━━━━━━━━━━━━━\u001B[0m\u001B[37m\u001B[0m \u001B[1m0s\u001B[0m 4ms/step - loss: 0.0021 - mean_squared_error: 0.0021 - r2_score: 0.9664 - val_loss: 0.0033 - val_mean_squared_error: 0.0048 - val_r2_score: 0.9276\n",
      "Epoch 163/300\n",
      "\u001B[1m22/22\u001B[0m \u001B[32m━━━━━━━━━━━━━━━━━━━━\u001B[0m\u001B[37m\u001B[0m \u001B[1m0s\u001B[0m 7ms/step - loss: 0.0022 - mean_squared_error: 0.0022 - r2_score: 0.9663 - val_loss: 0.0033 - val_mean_squared_error: 0.0048 - val_r2_score: 0.9270\n",
      "Epoch 164/300\n",
      "\u001B[1m22/22\u001B[0m \u001B[32m━━━━━━━━━━━━━━━━━━━━\u001B[0m\u001B[37m\u001B[0m \u001B[1m0s\u001B[0m 4ms/step - loss: 0.0020 - mean_squared_error: 0.0020 - r2_score: 0.9688 - val_loss: 0.0033 - val_mean_squared_error: 0.0049 - val_r2_score: 0.9269\n",
      "Epoch 165/300\n",
      "\u001B[1m22/22\u001B[0m \u001B[32m━━━━━━━━━━━━━━━━━━━━\u001B[0m\u001B[37m\u001B[0m \u001B[1m0s\u001B[0m 4ms/step - loss: 0.0023 - mean_squared_error: 0.0023 - r2_score: 0.9639 - val_loss: 0.0033 - val_mean_squared_error: 0.0048 - val_r2_score: 0.9270\n",
      "Epoch 166/300\n",
      "\u001B[1m22/22\u001B[0m \u001B[32m━━━━━━━━━━━━━━━━━━━━\u001B[0m\u001B[37m\u001B[0m \u001B[1m0s\u001B[0m 4ms/step - loss: 0.0022 - mean_squared_error: 0.0022 - r2_score: 0.9629 - val_loss: 0.0033 - val_mean_squared_error: 0.0048 - val_r2_score: 0.9276\n",
      "Epoch 167/300\n",
      "\u001B[1m22/22\u001B[0m \u001B[32m━━━━━━━━━━━━━━━━━━━━\u001B[0m\u001B[37m\u001B[0m \u001B[1m0s\u001B[0m 4ms/step - loss: 0.0022 - mean_squared_error: 0.0022 - r2_score: 0.9640 - val_loss: 0.0033 - val_mean_squared_error: 0.0049 - val_r2_score: 0.9270\n",
      "Epoch 168/300\n",
      "\u001B[1m22/22\u001B[0m \u001B[32m━━━━━━━━━━━━━━━━━━━━\u001B[0m\u001B[37m\u001B[0m \u001B[1m0s\u001B[0m 4ms/step - loss: 0.0022 - mean_squared_error: 0.0022 - r2_score: 0.9658 - val_loss: 0.0033 - val_mean_squared_error: 0.0048 - val_r2_score: 0.9279\n",
      "Epoch 169/300\n",
      "\u001B[1m22/22\u001B[0m \u001B[32m━━━━━━━━━━━━━━━━━━━━\u001B[0m\u001B[37m\u001B[0m \u001B[1m0s\u001B[0m 4ms/step - loss: 0.0020 - mean_squared_error: 0.0020 - r2_score: 0.9686 - val_loss: 0.0033 - val_mean_squared_error: 0.0049 - val_r2_score: 0.9264\n",
      "Epoch 170/300\n",
      "\u001B[1m22/22\u001B[0m \u001B[32m━━━━━━━━━━━━━━━━━━━━\u001B[0m\u001B[37m\u001B[0m \u001B[1m0s\u001B[0m 3ms/step - loss: 0.0021 - mean_squared_error: 0.0021 - r2_score: 0.9670 - val_loss: 0.0033 - val_mean_squared_error: 0.0049 - val_r2_score: 0.9260\n",
      "Epoch 171/300\n",
      "\u001B[1m22/22\u001B[0m \u001B[32m━━━━━━━━━━━━━━━━━━━━\u001B[0m\u001B[37m\u001B[0m \u001B[1m0s\u001B[0m 4ms/step - loss: 0.0021 - mean_squared_error: 0.0021 - r2_score: 0.9672 - val_loss: 0.0033 - val_mean_squared_error: 0.0049 - val_r2_score: 0.9265\n",
      "Epoch 172/300\n",
      "\u001B[1m22/22\u001B[0m \u001B[32m━━━━━━━━━━━━━━━━━━━━\u001B[0m\u001B[37m\u001B[0m \u001B[1m0s\u001B[0m 4ms/step - loss: 0.0021 - mean_squared_error: 0.0021 - r2_score: 0.9627 - val_loss: 0.0034 - val_mean_squared_error: 0.0050 - val_r2_score: 0.9258\n",
      "Epoch 173/300\n",
      "\u001B[1m22/22\u001B[0m \u001B[32m━━━━━━━━━━━━━━━━━━━━\u001B[0m\u001B[37m\u001B[0m \u001B[1m0s\u001B[0m 4ms/step - loss: 0.0023 - mean_squared_error: 0.0023 - r2_score: 0.9627 - val_loss: 0.0033 - val_mean_squared_error: 0.0049 - val_r2_score: 0.9270\n",
      "Epoch 174/300\n",
      "\u001B[1m22/22\u001B[0m \u001B[32m━━━━━━━━━━━━━━━━━━━━\u001B[0m\u001B[37m\u001B[0m \u001B[1m0s\u001B[0m 4ms/step - loss: 0.0021 - mean_squared_error: 0.0021 - r2_score: 0.9655 - val_loss: 0.0033 - val_mean_squared_error: 0.0049 - val_r2_score: 0.9265\n",
      "Epoch 175/300\n",
      "\u001B[1m22/22\u001B[0m \u001B[32m━━━━━━━━━━━━━━━━━━━━\u001B[0m\u001B[37m\u001B[0m \u001B[1m0s\u001B[0m 4ms/step - loss: 0.0020 - mean_squared_error: 0.0020 - r2_score: 0.9667 - val_loss: 0.0033 - val_mean_squared_error: 0.0049 - val_r2_score: 0.9261\n",
      "Epoch 176/300\n",
      "\u001B[1m22/22\u001B[0m \u001B[32m━━━━━━━━━━━━━━━━━━━━\u001B[0m\u001B[37m\u001B[0m \u001B[1m0s\u001B[0m 4ms/step - loss: 0.0022 - mean_squared_error: 0.0022 - r2_score: 0.9661 - val_loss: 0.0033 - val_mean_squared_error: 0.0048 - val_r2_score: 0.9271\n",
      "Epoch 177/300\n",
      "\u001B[1m22/22\u001B[0m \u001B[32m━━━━━━━━━━━━━━━━━━━━\u001B[0m\u001B[37m\u001B[0m \u001B[1m0s\u001B[0m 4ms/step - loss: 0.0024 - mean_squared_error: 0.0024 - r2_score: 0.9625 - val_loss: 0.0033 - val_mean_squared_error: 0.0049 - val_r2_score: 0.9268\n",
      "Epoch 178/300\n",
      "\u001B[1m22/22\u001B[0m \u001B[32m━━━━━━━━━━━━━━━━━━━━\u001B[0m\u001B[37m\u001B[0m \u001B[1m0s\u001B[0m 3ms/step - loss: 0.0022 - mean_squared_error: 0.0022 - r2_score: 0.9659 - val_loss: 0.0034 - val_mean_squared_error: 0.0050 - val_r2_score: 0.9254\n",
      "Epoch 179/300\n",
      "\u001B[1m22/22\u001B[0m \u001B[32m━━━━━━━━━━━━━━━━━━━━\u001B[0m\u001B[37m\u001B[0m \u001B[1m0s\u001B[0m 4ms/step - loss: 0.0022 - mean_squared_error: 0.0022 - r2_score: 0.9638 - val_loss: 0.0034 - val_mean_squared_error: 0.0050 - val_r2_score: 0.9255\n",
      "Epoch 180/300\n",
      "\u001B[1m22/22\u001B[0m \u001B[32m━━━━━━━━━━━━━━━━━━━━\u001B[0m\u001B[37m\u001B[0m \u001B[1m0s\u001B[0m 4ms/step - loss: 0.0021 - mean_squared_error: 0.0021 - r2_score: 0.9662 - val_loss: 0.0033 - val_mean_squared_error: 0.0049 - val_r2_score: 0.9260\n",
      "Epoch 181/300\n",
      "\u001B[1m22/22\u001B[0m \u001B[32m━━━━━━━━━━━━━━━━━━━━\u001B[0m\u001B[37m\u001B[0m \u001B[1m0s\u001B[0m 4ms/step - loss: 0.0023 - mean_squared_error: 0.0023 - r2_score: 0.9664 - val_loss: 0.0034 - val_mean_squared_error: 0.0050 - val_r2_score: 0.9257\n",
      "Epoch 182/300\n",
      "\u001B[1m22/22\u001B[0m \u001B[32m━━━━━━━━━━━━━━━━━━━━\u001B[0m\u001B[37m\u001B[0m \u001B[1m0s\u001B[0m 4ms/step - loss: 0.0020 - mean_squared_error: 0.0020 - r2_score: 0.9659 - val_loss: 0.0033 - val_mean_squared_error: 0.0049 - val_r2_score: 0.9259\n",
      "Epoch 183/300\n",
      "\u001B[1m22/22\u001B[0m \u001B[32m━━━━━━━━━━━━━━━━━━━━\u001B[0m\u001B[37m\u001B[0m \u001B[1m0s\u001B[0m 4ms/step - loss: 0.0021 - mean_squared_error: 0.0021 - r2_score: 0.9687 - val_loss: 0.0034 - val_mean_squared_error: 0.0050 - val_r2_score: 0.9254\n",
      "Epoch 184/300\n",
      "\u001B[1m22/22\u001B[0m \u001B[32m━━━━━━━━━━━━━━━━━━━━\u001B[0m\u001B[37m\u001B[0m \u001B[1m0s\u001B[0m 4ms/step - loss: 0.0022 - mean_squared_error: 0.0022 - r2_score: 0.9662 - val_loss: 0.0034 - val_mean_squared_error: 0.0050 - val_r2_score: 0.9254\n",
      "Epoch 185/300\n",
      "\u001B[1m22/22\u001B[0m \u001B[32m━━━━━━━━━━━━━━━━━━━━\u001B[0m\u001B[37m\u001B[0m \u001B[1m0s\u001B[0m 4ms/step - loss: 0.0020 - mean_squared_error: 0.0020 - r2_score: 0.9691 - val_loss: 0.0034 - val_mean_squared_error: 0.0050 - val_r2_score: 0.9256\n",
      "Epoch 186/300\n",
      "\u001B[1m22/22\u001B[0m \u001B[32m━━━━━━━━━━━━━━━━━━━━\u001B[0m\u001B[37m\u001B[0m \u001B[1m0s\u001B[0m 4ms/step - loss: 0.0021 - mean_squared_error: 0.0021 - r2_score: 0.9653 - val_loss: 0.0033 - val_mean_squared_error: 0.0049 - val_r2_score: 0.9263\n",
      "Epoch 187/300\n",
      "\u001B[1m22/22\u001B[0m \u001B[32m━━━━━━━━━━━━━━━━━━━━\u001B[0m\u001B[37m\u001B[0m \u001B[1m0s\u001B[0m 4ms/step - loss: 0.0023 - mean_squared_error: 0.0023 - r2_score: 0.9655 - val_loss: 0.0034 - val_mean_squared_error: 0.0050 - val_r2_score: 0.9253\n",
      "Epoch 188/300\n",
      "\u001B[1m22/22\u001B[0m \u001B[32m━━━━━━━━━━━━━━━━━━━━\u001B[0m\u001B[37m\u001B[0m \u001B[1m0s\u001B[0m 4ms/step - loss: 0.0021 - mean_squared_error: 0.0021 - r2_score: 0.9669 - val_loss: 0.0034 - val_mean_squared_error: 0.0050 - val_r2_score: 0.9257\n",
      "Epoch 189/300\n",
      "\u001B[1m22/22\u001B[0m \u001B[32m━━━━━━━━━━━━━━━━━━━━\u001B[0m\u001B[37m\u001B[0m \u001B[1m0s\u001B[0m 4ms/step - loss: 0.0021 - mean_squared_error: 0.0021 - r2_score: 0.9693 - val_loss: 0.0034 - val_mean_squared_error: 0.0050 - val_r2_score: 0.9254\n",
      "Epoch 190/300\n",
      "\u001B[1m22/22\u001B[0m \u001B[32m━━━━━━━━━━━━━━━━━━━━\u001B[0m\u001B[37m\u001B[0m \u001B[1m0s\u001B[0m 4ms/step - loss: 0.0019 - mean_squared_error: 0.0019 - r2_score: 0.9706 - val_loss: 0.0034 - val_mean_squared_error: 0.0050 - val_r2_score: 0.9254\n",
      "Epoch 191/300\n",
      "\u001B[1m22/22\u001B[0m \u001B[32m━━━━━━━━━━━━━━━━━━━━\u001B[0m\u001B[37m\u001B[0m \u001B[1m0s\u001B[0m 4ms/step - loss: 0.0021 - mean_squared_error: 0.0021 - r2_score: 0.9654 - val_loss: 0.0034 - val_mean_squared_error: 0.0051 - val_r2_score: 0.9242\n",
      "Epoch 192/300\n",
      "\u001B[1m22/22\u001B[0m \u001B[32m━━━━━━━━━━━━━━━━━━━━\u001B[0m\u001B[37m\u001B[0m \u001B[1m0s\u001B[0m 4ms/step - loss: 0.0020 - mean_squared_error: 0.0020 - r2_score: 0.9697 - val_loss: 0.0034 - val_mean_squared_error: 0.0050 - val_r2_score: 0.9256\n",
      "Epoch 193/300\n",
      "\u001B[1m22/22\u001B[0m \u001B[32m━━━━━━━━━━━━━━━━━━━━\u001B[0m\u001B[37m\u001B[0m \u001B[1m0s\u001B[0m 4ms/step - loss: 0.0021 - mean_squared_error: 0.0021 - r2_score: 0.9692 - val_loss: 0.0033 - val_mean_squared_error: 0.0050 - val_r2_score: 0.9260\n",
      "Epoch 194/300\n",
      "\u001B[1m22/22\u001B[0m \u001B[32m━━━━━━━━━━━━━━━━━━━━\u001B[0m\u001B[37m\u001B[0m \u001B[1m0s\u001B[0m 4ms/step - loss: 0.0021 - mean_squared_error: 0.0021 - r2_score: 0.9678 - val_loss: 0.0034 - val_mean_squared_error: 0.0050 - val_r2_score: 0.9250\n",
      "Epoch 195/300\n",
      "\u001B[1m22/22\u001B[0m \u001B[32m━━━━━━━━━━━━━━━━━━━━\u001B[0m\u001B[37m\u001B[0m \u001B[1m0s\u001B[0m 3ms/step - loss: 0.0020 - mean_squared_error: 0.0020 - r2_score: 0.9686 - val_loss: 0.0034 - val_mean_squared_error: 0.0050 - val_r2_score: 0.9258\n",
      "Epoch 196/300\n",
      "\u001B[1m22/22\u001B[0m \u001B[32m━━━━━━━━━━━━━━━━━━━━\u001B[0m\u001B[37m\u001B[0m \u001B[1m0s\u001B[0m 4ms/step - loss: 0.0021 - mean_squared_error: 0.0021 - r2_score: 0.9653 - val_loss: 0.0034 - val_mean_squared_error: 0.0050 - val_r2_score: 0.9253\n",
      "Epoch 197/300\n",
      "\u001B[1m22/22\u001B[0m \u001B[32m━━━━━━━━━━━━━━━━━━━━\u001B[0m\u001B[37m\u001B[0m \u001B[1m0s\u001B[0m 4ms/step - loss: 0.0021 - mean_squared_error: 0.0021 - r2_score: 0.9665 - val_loss: 0.0034 - val_mean_squared_error: 0.0051 - val_r2_score: 0.9241\n",
      "Epoch 198/300\n",
      "\u001B[1m22/22\u001B[0m \u001B[32m━━━━━━━━━━━━━━━━━━━━\u001B[0m\u001B[37m\u001B[0m \u001B[1m0s\u001B[0m 4ms/step - loss: 0.0020 - mean_squared_error: 0.0020 - r2_score: 0.9672 - val_loss: 0.0034 - val_mean_squared_error: 0.0050 - val_r2_score: 0.9249\n",
      "Epoch 199/300\n",
      "\u001B[1m22/22\u001B[0m \u001B[32m━━━━━━━━━━━━━━━━━━━━\u001B[0m\u001B[37m\u001B[0m \u001B[1m0s\u001B[0m 4ms/step - loss: 0.0021 - mean_squared_error: 0.0021 - r2_score: 0.9665 - val_loss: 0.0034 - val_mean_squared_error: 0.0051 - val_r2_score: 0.9246\n",
      "Epoch 200/300\n",
      "\u001B[1m22/22\u001B[0m \u001B[32m━━━━━━━━━━━━━━━━━━━━\u001B[0m\u001B[37m\u001B[0m \u001B[1m0s\u001B[0m 4ms/step - loss: 0.0021 - mean_squared_error: 0.0021 - r2_score: 0.9672 - val_loss: 0.0034 - val_mean_squared_error: 0.0050 - val_r2_score: 0.9250\n",
      "Epoch 201/300\n",
      "\u001B[1m22/22\u001B[0m \u001B[32m━━━━━━━━━━━━━━━━━━━━\u001B[0m\u001B[37m\u001B[0m \u001B[1m0s\u001B[0m 4ms/step - loss: 0.0021 - mean_squared_error: 0.0021 - r2_score: 0.9666 - val_loss: 0.0034 - val_mean_squared_error: 0.0051 - val_r2_score: 0.9248\n",
      "Epoch 202/300\n",
      "\u001B[1m22/22\u001B[0m \u001B[32m━━━━━━━━━━━━━━━━━━━━\u001B[0m\u001B[37m\u001B[0m \u001B[1m0s\u001B[0m 4ms/step - loss: 0.0018 - mean_squared_error: 0.0018 - r2_score: 0.9705 - val_loss: 0.0034 - val_mean_squared_error: 0.0051 - val_r2_score: 0.9247\n",
      "Epoch 203/300\n",
      "\u001B[1m22/22\u001B[0m \u001B[32m━━━━━━━━━━━━━━━━━━━━\u001B[0m\u001B[37m\u001B[0m \u001B[1m0s\u001B[0m 4ms/step - loss: 0.0023 - mean_squared_error: 0.0023 - r2_score: 0.9651 - val_loss: 0.0033 - val_mean_squared_error: 0.0050 - val_r2_score: 0.9260\n",
      "Epoch 204/300\n",
      "\u001B[1m22/22\u001B[0m \u001B[32m━━━━━━━━━━━━━━━━━━━━\u001B[0m\u001B[37m\u001B[0m \u001B[1m0s\u001B[0m 4ms/step - loss: 0.0020 - mean_squared_error: 0.0020 - r2_score: 0.9678 - val_loss: 0.0034 - val_mean_squared_error: 0.0050 - val_r2_score: 0.9250\n",
      "Epoch 205/300\n",
      "\u001B[1m22/22\u001B[0m \u001B[32m━━━━━━━━━━━━━━━━━━━━\u001B[0m\u001B[37m\u001B[0m \u001B[1m0s\u001B[0m 4ms/step - loss: 0.0020 - mean_squared_error: 0.0020 - r2_score: 0.9702 - val_loss: 0.0034 - val_mean_squared_error: 0.0050 - val_r2_score: 0.9252\n",
      "Epoch 206/300\n",
      "\u001B[1m22/22\u001B[0m \u001B[32m━━━━━━━━━━━━━━━━━━━━\u001B[0m\u001B[37m\u001B[0m \u001B[1m0s\u001B[0m 4ms/step - loss: 0.0021 - mean_squared_error: 0.0021 - r2_score: 0.9674 - val_loss: 0.0034 - val_mean_squared_error: 0.0051 - val_r2_score: 0.9248\n",
      "Epoch 207/300\n",
      "\u001B[1m22/22\u001B[0m \u001B[32m━━━━━━━━━━━━━━━━━━━━\u001B[0m\u001B[37m\u001B[0m \u001B[1m0s\u001B[0m 4ms/step - loss: 0.0019 - mean_squared_error: 0.0019 - r2_score: 0.9706 - val_loss: 0.0034 - val_mean_squared_error: 0.0050 - val_r2_score: 0.9257\n",
      "Epoch 208/300\n",
      "\u001B[1m22/22\u001B[0m \u001B[32m━━━━━━━━━━━━━━━━━━━━\u001B[0m\u001B[37m\u001B[0m \u001B[1m0s\u001B[0m 4ms/step - loss: 0.0022 - mean_squared_error: 0.0022 - r2_score: 0.9652 - val_loss: 0.0034 - val_mean_squared_error: 0.0051 - val_r2_score: 0.9239\n",
      "Epoch 209/300\n",
      "\u001B[1m22/22\u001B[0m \u001B[32m━━━━━━━━━━━━━━━━━━━━\u001B[0m\u001B[37m\u001B[0m \u001B[1m0s\u001B[0m 4ms/step - loss: 0.0021 - mean_squared_error: 0.0021 - r2_score: 0.9672 - val_loss: 0.0033 - val_mean_squared_error: 0.0050 - val_r2_score: 0.9259\n",
      "Epoch 210/300\n",
      "\u001B[1m22/22\u001B[0m \u001B[32m━━━━━━━━━━━━━━━━━━━━\u001B[0m\u001B[37m\u001B[0m \u001B[1m0s\u001B[0m 4ms/step - loss: 0.0020 - mean_squared_error: 0.0020 - r2_score: 0.9682 - val_loss: 0.0034 - val_mean_squared_error: 0.0051 - val_r2_score: 0.9238\n",
      "Epoch 211/300\n",
      "\u001B[1m22/22\u001B[0m \u001B[32m━━━━━━━━━━━━━━━━━━━━\u001B[0m\u001B[37m\u001B[0m \u001B[1m0s\u001B[0m 4ms/step - loss: 0.0021 - mean_squared_error: 0.0021 - r2_score: 0.9692 - val_loss: 0.0034 - val_mean_squared_error: 0.0051 - val_r2_score: 0.9249\n",
      "Epoch 212/300\n",
      "\u001B[1m22/22\u001B[0m \u001B[32m━━━━━━━━━━━━━━━━━━━━\u001B[0m\u001B[37m\u001B[0m \u001B[1m0s\u001B[0m 4ms/step - loss: 0.0018 - mean_squared_error: 0.0018 - r2_score: 0.9695 - val_loss: 0.0034 - val_mean_squared_error: 0.0051 - val_r2_score: 0.9245\n",
      "Epoch 213/300\n",
      "\u001B[1m22/22\u001B[0m \u001B[32m━━━━━━━━━━━━━━━━━━━━\u001B[0m\u001B[37m\u001B[0m \u001B[1m0s\u001B[0m 4ms/step - loss: 0.0023 - mean_squared_error: 0.0023 - r2_score: 0.9645 - val_loss: 0.0034 - val_mean_squared_error: 0.0051 - val_r2_score: 0.9245\n",
      "Epoch 214/300\n",
      "\u001B[1m22/22\u001B[0m \u001B[32m━━━━━━━━━━━━━━━━━━━━\u001B[0m\u001B[37m\u001B[0m \u001B[1m0s\u001B[0m 4ms/step - loss: 0.0020 - mean_squared_error: 0.0020 - r2_score: 0.9683 - val_loss: 0.0034 - val_mean_squared_error: 0.0051 - val_r2_score: 0.9244\n",
      "Epoch 215/300\n",
      "\u001B[1m22/22\u001B[0m \u001B[32m━━━━━━━━━━━━━━━━━━━━\u001B[0m\u001B[37m\u001B[0m \u001B[1m0s\u001B[0m 4ms/step - loss: 0.0021 - mean_squared_error: 0.0021 - r2_score: 0.9674 - val_loss: 0.0034 - val_mean_squared_error: 0.0051 - val_r2_score: 0.9238\n",
      "Epoch 216/300\n",
      "\u001B[1m22/22\u001B[0m \u001B[32m━━━━━━━━━━━━━━━━━━━━\u001B[0m\u001B[37m\u001B[0m \u001B[1m0s\u001B[0m 4ms/step - loss: 0.0020 - mean_squared_error: 0.0020 - r2_score: 0.9693 - val_loss: 0.0034 - val_mean_squared_error: 0.0051 - val_r2_score: 0.9244\n",
      "Epoch 217/300\n",
      "\u001B[1m22/22\u001B[0m \u001B[32m━━━━━━━━━━━━━━━━━━━━\u001B[0m\u001B[37m\u001B[0m \u001B[1m0s\u001B[0m 4ms/step - loss: 0.0021 - mean_squared_error: 0.0021 - r2_score: 0.9667 - val_loss: 0.0034 - val_mean_squared_error: 0.0051 - val_r2_score: 0.9247\n",
      "Epoch 218/300\n",
      "\u001B[1m22/22\u001B[0m \u001B[32m━━━━━━━━━━━━━━━━━━━━\u001B[0m\u001B[37m\u001B[0m \u001B[1m0s\u001B[0m 4ms/step - loss: 0.0021 - mean_squared_error: 0.0021 - r2_score: 0.9678 - val_loss: 0.0034 - val_mean_squared_error: 0.0051 - val_r2_score: 0.9240\n",
      "Epoch 219/300\n",
      "\u001B[1m22/22\u001B[0m \u001B[32m━━━━━━━━━━━━━━━━━━━━\u001B[0m\u001B[37m\u001B[0m \u001B[1m0s\u001B[0m 4ms/step - loss: 0.0020 - mean_squared_error: 0.0020 - r2_score: 0.9690 - val_loss: 0.0034 - val_mean_squared_error: 0.0051 - val_r2_score: 0.9240\n",
      "Epoch 220/300\n",
      "\u001B[1m22/22\u001B[0m \u001B[32m━━━━━━━━━━━━━━━━━━━━\u001B[0m\u001B[37m\u001B[0m \u001B[1m0s\u001B[0m 4ms/step - loss: 0.0022 - mean_squared_error: 0.0022 - r2_score: 0.9656 - val_loss: 0.0034 - val_mean_squared_error: 0.0051 - val_r2_score: 0.9240\n",
      "Epoch 221/300\n",
      "\u001B[1m22/22\u001B[0m \u001B[32m━━━━━━━━━━━━━━━━━━━━\u001B[0m\u001B[37m\u001B[0m \u001B[1m0s\u001B[0m 4ms/step - loss: 0.0019 - mean_squared_error: 0.0019 - r2_score: 0.9665 - val_loss: 0.0035 - val_mean_squared_error: 0.0052 - val_r2_score: 0.9236\n",
      "Epoch 222/300\n",
      "\u001B[1m22/22\u001B[0m \u001B[32m━━━━━━━━━━━━━━━━━━━━\u001B[0m\u001B[37m\u001B[0m \u001B[1m0s\u001B[0m 4ms/step - loss: 0.0020 - mean_squared_error: 0.0020 - r2_score: 0.9688 - val_loss: 0.0034 - val_mean_squared_error: 0.0050 - val_r2_score: 0.9252\n",
      "Epoch 223/300\n",
      "\u001B[1m22/22\u001B[0m \u001B[32m━━━━━━━━━━━━━━━━━━━━\u001B[0m\u001B[37m\u001B[0m \u001B[1m0s\u001B[0m 4ms/step - loss: 0.0020 - mean_squared_error: 0.0020 - r2_score: 0.9689 - val_loss: 0.0035 - val_mean_squared_error: 0.0052 - val_r2_score: 0.9231\n",
      "Epoch 224/300\n",
      "\u001B[1m22/22\u001B[0m \u001B[32m━━━━━━━━━━━━━━━━━━━━\u001B[0m\u001B[37m\u001B[0m \u001B[1m0s\u001B[0m 4ms/step - loss: 0.0021 - mean_squared_error: 0.0021 - r2_score: 0.9676 - val_loss: 0.0034 - val_mean_squared_error: 0.0051 - val_r2_score: 0.9241\n",
      "Epoch 225/300\n",
      "\u001B[1m22/22\u001B[0m \u001B[32m━━━━━━━━━━━━━━━━━━━━\u001B[0m\u001B[37m\u001B[0m \u001B[1m0s\u001B[0m 4ms/step - loss: 0.0020 - mean_squared_error: 0.0020 - r2_score: 0.9665 - val_loss: 0.0034 - val_mean_squared_error: 0.0051 - val_r2_score: 0.9243\n",
      "Epoch 226/300\n",
      "\u001B[1m22/22\u001B[0m \u001B[32m━━━━━━━━━━━━━━━━━━━━\u001B[0m\u001B[37m\u001B[0m \u001B[1m0s\u001B[0m 4ms/step - loss: 0.0021 - mean_squared_error: 0.0021 - r2_score: 0.9682 - val_loss: 0.0034 - val_mean_squared_error: 0.0051 - val_r2_score: 0.9241\n",
      "Epoch 227/300\n",
      "\u001B[1m22/22\u001B[0m \u001B[32m━━━━━━━━━━━━━━━━━━━━\u001B[0m\u001B[37m\u001B[0m \u001B[1m0s\u001B[0m 4ms/step - loss: 0.0021 - mean_squared_error: 0.0021 - r2_score: 0.9676 - val_loss: 0.0034 - val_mean_squared_error: 0.0052 - val_r2_score: 0.9238\n",
      "Epoch 228/300\n",
      "\u001B[1m22/22\u001B[0m \u001B[32m━━━━━━━━━━━━━━━━━━━━\u001B[0m\u001B[37m\u001B[0m \u001B[1m0s\u001B[0m 4ms/step - loss: 0.0020 - mean_squared_error: 0.0020 - r2_score: 0.9692 - val_loss: 0.0034 - val_mean_squared_error: 0.0051 - val_r2_score: 0.9242\n",
      "Epoch 229/300\n",
      "\u001B[1m22/22\u001B[0m \u001B[32m━━━━━━━━━━━━━━━━━━━━\u001B[0m\u001B[37m\u001B[0m \u001B[1m0s\u001B[0m 4ms/step - loss: 0.0021 - mean_squared_error: 0.0021 - r2_score: 0.9659 - val_loss: 0.0035 - val_mean_squared_error: 0.0053 - val_r2_score: 0.9223\n",
      "Epoch 230/300\n",
      "\u001B[1m22/22\u001B[0m \u001B[32m━━━━━━━━━━━━━━━━━━━━\u001B[0m\u001B[37m\u001B[0m \u001B[1m0s\u001B[0m 4ms/step - loss: 0.0020 - mean_squared_error: 0.0020 - r2_score: 0.9694 - val_loss: 0.0034 - val_mean_squared_error: 0.0051 - val_r2_score: 0.9243\n",
      "Epoch 231/300\n",
      "\u001B[1m22/22\u001B[0m \u001B[32m━━━━━━━━━━━━━━━━━━━━\u001B[0m\u001B[37m\u001B[0m \u001B[1m0s\u001B[0m 4ms/step - loss: 0.0018 - mean_squared_error: 0.0018 - r2_score: 0.9729 - val_loss: 0.0034 - val_mean_squared_error: 0.0051 - val_r2_score: 0.9242\n",
      "Epoch 232/300\n",
      "\u001B[1m22/22\u001B[0m \u001B[32m━━━━━━━━━━━━━━━━━━━━\u001B[0m\u001B[37m\u001B[0m \u001B[1m0s\u001B[0m 4ms/step - loss: 0.0020 - mean_squared_error: 0.0020 - r2_score: 0.9691 - val_loss: 0.0035 - val_mean_squared_error: 0.0053 - val_r2_score: 0.9221\n",
      "Epoch 233/300\n",
      "\u001B[1m22/22\u001B[0m \u001B[32m━━━━━━━━━━━━━━━━━━━━\u001B[0m\u001B[37m\u001B[0m \u001B[1m0s\u001B[0m 4ms/step - loss: 0.0020 - mean_squared_error: 0.0020 - r2_score: 0.9636 - val_loss: 0.0035 - val_mean_squared_error: 0.0053 - val_r2_score: 0.9226\n",
      "Epoch 234/300\n",
      "\u001B[1m22/22\u001B[0m \u001B[32m━━━━━━━━━━━━━━━━━━━━\u001B[0m\u001B[37m\u001B[0m \u001B[1m0s\u001B[0m 4ms/step - loss: 0.0018 - mean_squared_error: 0.0018 - r2_score: 0.9679 - val_loss: 0.0034 - val_mean_squared_error: 0.0051 - val_r2_score: 0.9242\n",
      "Epoch 235/300\n",
      "\u001B[1m22/22\u001B[0m \u001B[32m━━━━━━━━━━━━━━━━━━━━\u001B[0m\u001B[37m\u001B[0m \u001B[1m0s\u001B[0m 4ms/step - loss: 0.0020 - mean_squared_error: 0.0020 - r2_score: 0.9684 - val_loss: 0.0035 - val_mean_squared_error: 0.0052 - val_r2_score: 0.9232\n",
      "Epoch 236/300\n",
      "\u001B[1m22/22\u001B[0m \u001B[32m━━━━━━━━━━━━━━━━━━━━\u001B[0m\u001B[37m\u001B[0m \u001B[1m0s\u001B[0m 4ms/step - loss: 0.0020 - mean_squared_error: 0.0020 - r2_score: 0.9682 - val_loss: 0.0034 - val_mean_squared_error: 0.0051 - val_r2_score: 0.9246\n",
      "Epoch 237/300\n",
      "\u001B[1m22/22\u001B[0m \u001B[32m━━━━━━━━━━━━━━━━━━━━\u001B[0m\u001B[37m\u001B[0m \u001B[1m0s\u001B[0m 4ms/step - loss: 0.0020 - mean_squared_error: 0.0020 - r2_score: 0.9699 - val_loss: 0.0034 - val_mean_squared_error: 0.0052 - val_r2_score: 0.9239\n",
      "Epoch 238/300\n",
      "\u001B[1m22/22\u001B[0m \u001B[32m━━━━━━━━━━━━━━━━━━━━\u001B[0m\u001B[37m\u001B[0m \u001B[1m0s\u001B[0m 4ms/step - loss: 0.0020 - mean_squared_error: 0.0020 - r2_score: 0.9674 - val_loss: 0.0034 - val_mean_squared_error: 0.0051 - val_r2_score: 0.9243\n",
      "Epoch 239/300\n",
      "\u001B[1m22/22\u001B[0m \u001B[32m━━━━━━━━━━━━━━━━━━━━\u001B[0m\u001B[37m\u001B[0m \u001B[1m0s\u001B[0m 4ms/step - loss: 0.0020 - mean_squared_error: 0.0020 - r2_score: 0.9689 - val_loss: 0.0035 - val_mean_squared_error: 0.0052 - val_r2_score: 0.9228\n",
      "Epoch 240/300\n",
      "\u001B[1m22/22\u001B[0m \u001B[32m━━━━━━━━━━━━━━━━━━━━\u001B[0m\u001B[37m\u001B[0m \u001B[1m0s\u001B[0m 4ms/step - loss: 0.0020 - mean_squared_error: 0.0020 - r2_score: 0.9689 - val_loss: 0.0035 - val_mean_squared_error: 0.0053 - val_r2_score: 0.9218\n",
      "Epoch 241/300\n",
      "\u001B[1m22/22\u001B[0m \u001B[32m━━━━━━━━━━━━━━━━━━━━\u001B[0m\u001B[37m\u001B[0m \u001B[1m0s\u001B[0m 4ms/step - loss: 0.0021 - mean_squared_error: 0.0021 - r2_score: 0.9678 - val_loss: 0.0035 - val_mean_squared_error: 0.0052 - val_r2_score: 0.9235\n",
      "Epoch 242/300\n",
      "\u001B[1m22/22\u001B[0m \u001B[32m━━━━━━━━━━━━━━━━━━━━\u001B[0m\u001B[37m\u001B[0m \u001B[1m0s\u001B[0m 4ms/step - loss: 0.0020 - mean_squared_error: 0.0020 - r2_score: 0.9710 - val_loss: 0.0035 - val_mean_squared_error: 0.0052 - val_r2_score: 0.9234\n",
      "Epoch 243/300\n",
      "\u001B[1m22/22\u001B[0m \u001B[32m━━━━━━━━━━━━━━━━━━━━\u001B[0m\u001B[37m\u001B[0m \u001B[1m0s\u001B[0m 4ms/step - loss: 0.0021 - mean_squared_error: 0.0021 - r2_score: 0.9676 - val_loss: 0.0035 - val_mean_squared_error: 0.0052 - val_r2_score: 0.9230\n",
      "Epoch 244/300\n",
      "\u001B[1m22/22\u001B[0m \u001B[32m━━━━━━━━━━━━━━━━━━━━\u001B[0m\u001B[37m\u001B[0m \u001B[1m0s\u001B[0m 4ms/step - loss: 0.0019 - mean_squared_error: 0.0019 - r2_score: 0.9709 - val_loss: 0.0035 - val_mean_squared_error: 0.0052 - val_r2_score: 0.9237\n",
      "Epoch 245/300\n",
      "\u001B[1m22/22\u001B[0m \u001B[32m━━━━━━━━━━━━━━━━━━━━\u001B[0m\u001B[37m\u001B[0m \u001B[1m0s\u001B[0m 4ms/step - loss: 0.0021 - mean_squared_error: 0.0021 - r2_score: 0.9676 - val_loss: 0.0035 - val_mean_squared_error: 0.0053 - val_r2_score: 0.9227\n",
      "Epoch 246/300\n",
      "\u001B[1m22/22\u001B[0m \u001B[32m━━━━━━━━━━━━━━━━━━━━\u001B[0m\u001B[37m\u001B[0m \u001B[1m0s\u001B[0m 4ms/step - loss: 0.0020 - mean_squared_error: 0.0020 - r2_score: 0.9673 - val_loss: 0.0035 - val_mean_squared_error: 0.0052 - val_r2_score: 0.9233\n",
      "Epoch 247/300\n",
      "\u001B[1m22/22\u001B[0m \u001B[32m━━━━━━━━━━━━━━━━━━━━\u001B[0m\u001B[37m\u001B[0m \u001B[1m0s\u001B[0m 4ms/step - loss: 0.0020 - mean_squared_error: 0.0020 - r2_score: 0.9707 - val_loss: 0.0035 - val_mean_squared_error: 0.0053 - val_r2_score: 0.9219\n",
      "Epoch 248/300\n",
      "\u001B[1m22/22\u001B[0m \u001B[32m━━━━━━━━━━━━━━━━━━━━\u001B[0m\u001B[37m\u001B[0m \u001B[1m0s\u001B[0m 4ms/step - loss: 0.0020 - mean_squared_error: 0.0020 - r2_score: 0.9697 - val_loss: 0.0035 - val_mean_squared_error: 0.0052 - val_r2_score: 0.9229\n",
      "Epoch 249/300\n",
      "\u001B[1m22/22\u001B[0m \u001B[32m━━━━━━━━━━━━━━━━━━━━\u001B[0m\u001B[37m\u001B[0m \u001B[1m0s\u001B[0m 4ms/step - loss: 0.0019 - mean_squared_error: 0.0019 - r2_score: 0.9700 - val_loss: 0.0035 - val_mean_squared_error: 0.0053 - val_r2_score: 0.9225\n",
      "Epoch 250/300\n",
      "\u001B[1m22/22\u001B[0m \u001B[32m━━━━━━━━━━━━━━━━━━━━\u001B[0m\u001B[37m\u001B[0m \u001B[1m0s\u001B[0m 4ms/step - loss: 0.0019 - mean_squared_error: 0.0019 - r2_score: 0.9690 - val_loss: 0.0035 - val_mean_squared_error: 0.0053 - val_r2_score: 0.9220\n",
      "Epoch 251/300\n",
      "\u001B[1m22/22\u001B[0m \u001B[32m━━━━━━━━━━━━━━━━━━━━\u001B[0m\u001B[37m\u001B[0m \u001B[1m0s\u001B[0m 4ms/step - loss: 0.0020 - mean_squared_error: 0.0020 - r2_score: 0.9668 - val_loss: 0.0035 - val_mean_squared_error: 0.0052 - val_r2_score: 0.9226\n",
      "Epoch 252/300\n",
      "\u001B[1m22/22\u001B[0m \u001B[32m━━━━━━━━━━━━━━━━━━━━\u001B[0m\u001B[37m\u001B[0m \u001B[1m0s\u001B[0m 4ms/step - loss: 0.0019 - mean_squared_error: 0.0019 - r2_score: 0.9712 - val_loss: 0.0035 - val_mean_squared_error: 0.0053 - val_r2_score: 0.9221\n",
      "Epoch 253/300\n",
      "\u001B[1m22/22\u001B[0m \u001B[32m━━━━━━━━━━━━━━━━━━━━\u001B[0m\u001B[37m\u001B[0m \u001B[1m0s\u001B[0m 4ms/step - loss: 0.0021 - mean_squared_error: 0.0021 - r2_score: 0.9671 - val_loss: 0.0035 - val_mean_squared_error: 0.0053 - val_r2_score: 0.9228\n",
      "Epoch 254/300\n",
      "\u001B[1m22/22\u001B[0m \u001B[32m━━━━━━━━━━━━━━━━━━━━\u001B[0m\u001B[37m\u001B[0m \u001B[1m0s\u001B[0m 4ms/step - loss: 0.0020 - mean_squared_error: 0.0020 - r2_score: 0.9693 - val_loss: 0.0035 - val_mean_squared_error: 0.0053 - val_r2_score: 0.9222\n",
      "Epoch 255/300\n",
      "\u001B[1m22/22\u001B[0m \u001B[32m━━━━━━━━━━━━━━━━━━━━\u001B[0m\u001B[37m\u001B[0m \u001B[1m0s\u001B[0m 4ms/step - loss: 0.0021 - mean_squared_error: 0.0021 - r2_score: 0.9687 - val_loss: 0.0035 - val_mean_squared_error: 0.0052 - val_r2_score: 0.9233\n",
      "Epoch 256/300\n",
      "\u001B[1m22/22\u001B[0m \u001B[32m━━━━━━━━━━━━━━━━━━━━\u001B[0m\u001B[37m\u001B[0m \u001B[1m0s\u001B[0m 4ms/step - loss: 0.0019 - mean_squared_error: 0.0019 - r2_score: 0.9677 - val_loss: 0.0036 - val_mean_squared_error: 0.0054 - val_r2_score: 0.9213\n",
      "Epoch 257/300\n",
      "\u001B[1m22/22\u001B[0m \u001B[32m━━━━━━━━━━━━━━━━━━━━\u001B[0m\u001B[37m\u001B[0m \u001B[1m0s\u001B[0m 4ms/step - loss: 0.0018 - mean_squared_error: 0.0018 - r2_score: 0.9713 - val_loss: 0.0035 - val_mean_squared_error: 0.0053 - val_r2_score: 0.9225\n",
      "Epoch 258/300\n",
      "\u001B[1m22/22\u001B[0m \u001B[32m━━━━━━━━━━━━━━━━━━━━\u001B[0m\u001B[37m\u001B[0m \u001B[1m0s\u001B[0m 4ms/step - loss: 0.0018 - mean_squared_error: 0.0018 - r2_score: 0.9719 - val_loss: 0.0035 - val_mean_squared_error: 0.0054 - val_r2_score: 0.9216\n",
      "Epoch 259/300\n",
      "\u001B[1m22/22\u001B[0m \u001B[32m━━━━━━━━━━━━━━━━━━━━\u001B[0m\u001B[37m\u001B[0m \u001B[1m0s\u001B[0m 4ms/step - loss: 0.0020 - mean_squared_error: 0.0020 - r2_score: 0.9677 - val_loss: 0.0035 - val_mean_squared_error: 0.0052 - val_r2_score: 0.9225\n",
      "Epoch 260/300\n",
      "\u001B[1m22/22\u001B[0m \u001B[32m━━━━━━━━━━━━━━━━━━━━\u001B[0m\u001B[37m\u001B[0m \u001B[1m0s\u001B[0m 4ms/step - loss: 0.0019 - mean_squared_error: 0.0019 - r2_score: 0.9687 - val_loss: 0.0035 - val_mean_squared_error: 0.0053 - val_r2_score: 0.9225\n",
      "Epoch 261/300\n",
      "\u001B[1m22/22\u001B[0m \u001B[32m━━━━━━━━━━━━━━━━━━━━\u001B[0m\u001B[37m\u001B[0m \u001B[1m0s\u001B[0m 4ms/step - loss: 0.0019 - mean_squared_error: 0.0019 - r2_score: 0.9720 - val_loss: 0.0036 - val_mean_squared_error: 0.0054 - val_r2_score: 0.9214\n",
      "Epoch 262/300\n",
      "\u001B[1m22/22\u001B[0m \u001B[32m━━━━━━━━━━━━━━━━━━━━\u001B[0m\u001B[37m\u001B[0m \u001B[1m0s\u001B[0m 4ms/step - loss: 0.0019 - mean_squared_error: 0.0019 - r2_score: 0.9688 - val_loss: 0.0035 - val_mean_squared_error: 0.0052 - val_r2_score: 0.9225\n",
      "Epoch 263/300\n",
      "\u001B[1m22/22\u001B[0m \u001B[32m━━━━━━━━━━━━━━━━━━━━\u001B[0m\u001B[37m\u001B[0m \u001B[1m0s\u001B[0m 4ms/step - loss: 0.0019 - mean_squared_error: 0.0019 - r2_score: 0.9696 - val_loss: 0.0036 - val_mean_squared_error: 0.0054 - val_r2_score: 0.9212\n",
      "Epoch 264/300\n",
      "\u001B[1m22/22\u001B[0m \u001B[32m━━━━━━━━━━━━━━━━━━━━\u001B[0m\u001B[37m\u001B[0m \u001B[1m0s\u001B[0m 4ms/step - loss: 0.0018 - mean_squared_error: 0.0018 - r2_score: 0.9720 - val_loss: 0.0035 - val_mean_squared_error: 0.0053 - val_r2_score: 0.9222\n",
      "Epoch 265/300\n",
      "\u001B[1m22/22\u001B[0m \u001B[32m━━━━━━━━━━━━━━━━━━━━\u001B[0m\u001B[37m\u001B[0m \u001B[1m0s\u001B[0m 4ms/step - loss: 0.0019 - mean_squared_error: 0.0019 - r2_score: 0.9691 - val_loss: 0.0035 - val_mean_squared_error: 0.0054 - val_r2_score: 0.9216\n",
      "Epoch 266/300\n",
      "\u001B[1m22/22\u001B[0m \u001B[32m━━━━━━━━━━━━━━━━━━━━\u001B[0m\u001B[37m\u001B[0m \u001B[1m0s\u001B[0m 4ms/step - loss: 0.0019 - mean_squared_error: 0.0019 - r2_score: 0.9697 - val_loss: 0.0036 - val_mean_squared_error: 0.0053 - val_r2_score: 0.9215\n",
      "Epoch 267/300\n",
      "\u001B[1m22/22\u001B[0m \u001B[32m━━━━━━━━━━━━━━━━━━━━\u001B[0m\u001B[37m\u001B[0m \u001B[1m0s\u001B[0m 4ms/step - loss: 0.0019 - mean_squared_error: 0.0019 - r2_score: 0.9690 - val_loss: 0.0035 - val_mean_squared_error: 0.0053 - val_r2_score: 0.9231\n",
      "Epoch 268/300\n",
      "\u001B[1m22/22\u001B[0m \u001B[32m━━━━━━━━━━━━━━━━━━━━\u001B[0m\u001B[37m\u001B[0m \u001B[1m0s\u001B[0m 4ms/step - loss: 0.0018 - mean_squared_error: 0.0018 - r2_score: 0.9718 - val_loss: 0.0036 - val_mean_squared_error: 0.0054 - val_r2_score: 0.9214\n",
      "Epoch 269/300\n",
      "\u001B[1m22/22\u001B[0m \u001B[32m━━━━━━━━━━━━━━━━━━━━\u001B[0m\u001B[37m\u001B[0m \u001B[1m0s\u001B[0m 4ms/step - loss: 0.0017 - mean_squared_error: 0.0017 - r2_score: 0.9703 - val_loss: 0.0035 - val_mean_squared_error: 0.0053 - val_r2_score: 0.9217\n",
      "Epoch 270/300\n",
      "\u001B[1m22/22\u001B[0m \u001B[32m━━━━━━━━━━━━━━━━━━━━\u001B[0m\u001B[37m\u001B[0m \u001B[1m0s\u001B[0m 4ms/step - loss: 0.0020 - mean_squared_error: 0.0020 - r2_score: 0.9689 - val_loss: 0.0036 - val_mean_squared_error: 0.0054 - val_r2_score: 0.9212\n",
      "Epoch 271/300\n",
      "\u001B[1m22/22\u001B[0m \u001B[32m━━━━━━━━━━━━━━━━━━━━\u001B[0m\u001B[37m\u001B[0m \u001B[1m0s\u001B[0m 4ms/step - loss: 0.0021 - mean_squared_error: 0.0021 - r2_score: 0.9666 - val_loss: 0.0036 - val_mean_squared_error: 0.0054 - val_r2_score: 0.9215\n",
      "Epoch 272/300\n",
      "\u001B[1m22/22\u001B[0m \u001B[32m━━━━━━━━━━━━━━━━━━━━\u001B[0m\u001B[37m\u001B[0m \u001B[1m0s\u001B[0m 4ms/step - loss: 0.0017 - mean_squared_error: 0.0017 - r2_score: 0.9736 - val_loss: 0.0036 - val_mean_squared_error: 0.0055 - val_r2_score: 0.9203\n",
      "Epoch 273/300\n",
      "\u001B[1m22/22\u001B[0m \u001B[32m━━━━━━━━━━━━━━━━━━━━\u001B[0m\u001B[37m\u001B[0m \u001B[1m0s\u001B[0m 4ms/step - loss: 0.0019 - mean_squared_error: 0.0019 - r2_score: 0.9710 - val_loss: 0.0035 - val_mean_squared_error: 0.0054 - val_r2_score: 0.9219\n",
      "Epoch 274/300\n",
      "\u001B[1m22/22\u001B[0m \u001B[32m━━━━━━━━━━━━━━━━━━━━\u001B[0m\u001B[37m\u001B[0m \u001B[1m0s\u001B[0m 4ms/step - loss: 0.0020 - mean_squared_error: 0.0020 - r2_score: 0.9697 - val_loss: 0.0035 - val_mean_squared_error: 0.0053 - val_r2_score: 0.9217\n",
      "Epoch 275/300\n",
      "\u001B[1m22/22\u001B[0m \u001B[32m━━━━━━━━━━━━━━━━━━━━\u001B[0m\u001B[37m\u001B[0m \u001B[1m0s\u001B[0m 4ms/step - loss: 0.0019 - mean_squared_error: 0.0019 - r2_score: 0.9689 - val_loss: 0.0036 - val_mean_squared_error: 0.0055 - val_r2_score: 0.9209\n",
      "Epoch 276/300\n",
      "\u001B[1m22/22\u001B[0m \u001B[32m━━━━━━━━━━━━━━━━━━━━\u001B[0m\u001B[37m\u001B[0m \u001B[1m0s\u001B[0m 4ms/step - loss: 0.0019 - mean_squared_error: 0.0019 - r2_score: 0.9700 - val_loss: 0.0035 - val_mean_squared_error: 0.0054 - val_r2_score: 0.9218\n",
      "Epoch 277/300\n",
      "\u001B[1m22/22\u001B[0m \u001B[32m━━━━━━━━━━━━━━━━━━━━\u001B[0m\u001B[37m\u001B[0m \u001B[1m0s\u001B[0m 4ms/step - loss: 0.0019 - mean_squared_error: 0.0019 - r2_score: 0.9686 - val_loss: 0.0036 - val_mean_squared_error: 0.0054 - val_r2_score: 0.9216\n",
      "Epoch 278/300\n",
      "\u001B[1m22/22\u001B[0m \u001B[32m━━━━━━━━━━━━━━━━━━━━\u001B[0m\u001B[37m\u001B[0m \u001B[1m0s\u001B[0m 4ms/step - loss: 0.0018 - mean_squared_error: 0.0018 - r2_score: 0.9695 - val_loss: 0.0036 - val_mean_squared_error: 0.0054 - val_r2_score: 0.9215\n",
      "Epoch 279/300\n",
      "\u001B[1m22/22\u001B[0m \u001B[32m━━━━━━━━━━━━━━━━━━━━\u001B[0m\u001B[37m\u001B[0m \u001B[1m0s\u001B[0m 4ms/step - loss: 0.0021 - mean_squared_error: 0.0021 - r2_score: 0.9710 - val_loss: 0.0036 - val_mean_squared_error: 0.0055 - val_r2_score: 0.9206\n",
      "Epoch 280/300\n",
      "\u001B[1m22/22\u001B[0m \u001B[32m━━━━━━━━━━━━━━━━━━━━\u001B[0m\u001B[37m\u001B[0m \u001B[1m0s\u001B[0m 4ms/step - loss: 0.0019 - mean_squared_error: 0.0019 - r2_score: 0.9667 - val_loss: 0.0035 - val_mean_squared_error: 0.0054 - val_r2_score: 0.9219\n",
      "Epoch 281/300\n",
      "\u001B[1m22/22\u001B[0m \u001B[32m━━━━━━━━━━━━━━━━━━━━\u001B[0m\u001B[37m\u001B[0m \u001B[1m0s\u001B[0m 4ms/step - loss: 0.0019 - mean_squared_error: 0.0019 - r2_score: 0.9658 - val_loss: 0.0036 - val_mean_squared_error: 0.0055 - val_r2_score: 0.9208\n",
      "Epoch 282/300\n",
      "\u001B[1m22/22\u001B[0m \u001B[32m━━━━━━━━━━━━━━━━━━━━\u001B[0m\u001B[37m\u001B[0m \u001B[1m0s\u001B[0m 4ms/step - loss: 0.0020 - mean_squared_error: 0.0020 - r2_score: 0.9701 - val_loss: 0.0035 - val_mean_squared_error: 0.0054 - val_r2_score: 0.9217\n",
      "Epoch 283/300\n",
      "\u001B[1m22/22\u001B[0m \u001B[32m━━━━━━━━━━━━━━━━━━━━\u001B[0m\u001B[37m\u001B[0m \u001B[1m0s\u001B[0m 4ms/step - loss: 0.0018 - mean_squared_error: 0.0018 - r2_score: 0.9722 - val_loss: 0.0036 - val_mean_squared_error: 0.0055 - val_r2_score: 0.9211\n",
      "Epoch 284/300\n",
      "\u001B[1m22/22\u001B[0m \u001B[32m━━━━━━━━━━━━━━━━━━━━\u001B[0m\u001B[37m\u001B[0m \u001B[1m0s\u001B[0m 4ms/step - loss: 0.0019 - mean_squared_error: 0.0019 - r2_score: 0.9705 - val_loss: 0.0036 - val_mean_squared_error: 0.0055 - val_r2_score: 0.9196\n",
      "Epoch 285/300\n",
      "\u001B[1m22/22\u001B[0m \u001B[32m━━━━━━━━━━━━━━━━━━━━\u001B[0m\u001B[37m\u001B[0m \u001B[1m0s\u001B[0m 4ms/step - loss: 0.0018 - mean_squared_error: 0.0018 - r2_score: 0.9726 - val_loss: 0.0036 - val_mean_squared_error: 0.0055 - val_r2_score: 0.9205\n",
      "Epoch 286/300\n",
      "\u001B[1m22/22\u001B[0m \u001B[32m━━━━━━━━━━━━━━━━━━━━\u001B[0m\u001B[37m\u001B[0m \u001B[1m0s\u001B[0m 4ms/step - loss: 0.0018 - mean_squared_error: 0.0018 - r2_score: 0.9714 - val_loss: 0.0036 - val_mean_squared_error: 0.0054 - val_r2_score: 0.9213\n",
      "Epoch 287/300\n",
      "\u001B[1m22/22\u001B[0m \u001B[32m━━━━━━━━━━━━━━━━━━━━\u001B[0m\u001B[37m\u001B[0m \u001B[1m0s\u001B[0m 4ms/step - loss: 0.0020 - mean_squared_error: 0.0020 - r2_score: 0.9695 - val_loss: 0.0036 - val_mean_squared_error: 0.0055 - val_r2_score: 0.9200\n",
      "Epoch 288/300\n",
      "\u001B[1m22/22\u001B[0m \u001B[32m━━━━━━━━━━━━━━━━━━━━\u001B[0m\u001B[37m\u001B[0m \u001B[1m0s\u001B[0m 4ms/step - loss: 0.0018 - mean_squared_error: 0.0018 - r2_score: 0.9714 - val_loss: 0.0036 - val_mean_squared_error: 0.0055 - val_r2_score: 0.9211\n",
      "Epoch 289/300\n",
      "\u001B[1m22/22\u001B[0m \u001B[32m━━━━━━━━━━━━━━━━━━━━\u001B[0m\u001B[37m\u001B[0m \u001B[1m0s\u001B[0m 4ms/step - loss: 0.0019 - mean_squared_error: 0.0019 - r2_score: 0.9706 - val_loss: 0.0036 - val_mean_squared_error: 0.0055 - val_r2_score: 0.9208\n",
      "Epoch 290/300\n",
      "\u001B[1m22/22\u001B[0m \u001B[32m━━━━━━━━━━━━━━━━━━━━\u001B[0m\u001B[37m\u001B[0m \u001B[1m0s\u001B[0m 4ms/step - loss: 0.0018 - mean_squared_error: 0.0018 - r2_score: 0.9704 - val_loss: 0.0036 - val_mean_squared_error: 0.0055 - val_r2_score: 0.9210\n",
      "Epoch 291/300\n",
      "\u001B[1m22/22\u001B[0m \u001B[32m━━━━━━━━━━━━━━━━━━━━\u001B[0m\u001B[37m\u001B[0m \u001B[1m0s\u001B[0m 4ms/step - loss: 0.0019 - mean_squared_error: 0.0019 - r2_score: 0.9715 - val_loss: 0.0036 - val_mean_squared_error: 0.0054 - val_r2_score: 0.9212\n",
      "Epoch 292/300\n",
      "\u001B[1m22/22\u001B[0m \u001B[32m━━━━━━━━━━━━━━━━━━━━\u001B[0m\u001B[37m\u001B[0m \u001B[1m0s\u001B[0m 4ms/step - loss: 0.0018 - mean_squared_error: 0.0018 - r2_score: 0.9710 - val_loss: 0.0036 - val_mean_squared_error: 0.0055 - val_r2_score: 0.9206\n",
      "Epoch 293/300\n",
      "\u001B[1m22/22\u001B[0m \u001B[32m━━━━━━━━━━━━━━━━━━━━\u001B[0m\u001B[37m\u001B[0m \u001B[1m0s\u001B[0m 4ms/step - loss: 0.0017 - mean_squared_error: 0.0017 - r2_score: 0.9683 - val_loss: 0.0036 - val_mean_squared_error: 0.0055 - val_r2_score: 0.9213\n",
      "Epoch 294/300\n",
      "\u001B[1m22/22\u001B[0m \u001B[32m━━━━━━━━━━━━━━━━━━━━\u001B[0m\u001B[37m\u001B[0m \u001B[1m0s\u001B[0m 4ms/step - loss: 0.0019 - mean_squared_error: 0.0019 - r2_score: 0.9674 - val_loss: 0.0036 - val_mean_squared_error: 0.0055 - val_r2_score: 0.9205\n",
      "Epoch 295/300\n",
      "\u001B[1m22/22\u001B[0m \u001B[32m━━━━━━━━━━━━━━━━━━━━\u001B[0m\u001B[37m\u001B[0m \u001B[1m0s\u001B[0m 4ms/step - loss: 0.0019 - mean_squared_error: 0.0019 - r2_score: 0.9702 - val_loss: 0.0036 - val_mean_squared_error: 0.0055 - val_r2_score: 0.9197\n",
      "Epoch 296/300\n",
      "\u001B[1m22/22\u001B[0m \u001B[32m━━━━━━━━━━━━━━━━━━━━\u001B[0m\u001B[37m\u001B[0m \u001B[1m0s\u001B[0m 4ms/step - loss: 0.0018 - mean_squared_error: 0.0018 - r2_score: 0.9711 - val_loss: 0.0036 - val_mean_squared_error: 0.0054 - val_r2_score: 0.9214\n",
      "Epoch 297/300\n",
      "\u001B[1m22/22\u001B[0m \u001B[32m━━━━━━━━━━━━━━━━━━━━\u001B[0m\u001B[37m\u001B[0m \u001B[1m0s\u001B[0m 4ms/step - loss: 0.0019 - mean_squared_error: 0.0019 - r2_score: 0.9694 - val_loss: 0.0036 - val_mean_squared_error: 0.0055 - val_r2_score: 0.9206\n",
      "Epoch 298/300\n",
      "\u001B[1m22/22\u001B[0m \u001B[32m━━━━━━━━━━━━━━━━━━━━\u001B[0m\u001B[37m\u001B[0m \u001B[1m0s\u001B[0m 4ms/step - loss: 0.0018 - mean_squared_error: 0.0018 - r2_score: 0.9720 - val_loss: 0.0036 - val_mean_squared_error: 0.0056 - val_r2_score: 0.9196\n",
      "Epoch 299/300\n",
      "\u001B[1m22/22\u001B[0m \u001B[32m━━━━━━━━━━━━━━━━━━━━\u001B[0m\u001B[37m\u001B[0m \u001B[1m0s\u001B[0m 4ms/step - loss: 0.0018 - mean_squared_error: 0.0018 - r2_score: 0.9727 - val_loss: 0.0036 - val_mean_squared_error: 0.0055 - val_r2_score: 0.9205\n",
      "Epoch 300/300\n",
      "\u001B[1m22/22\u001B[0m \u001B[32m━━━━━━━━━━━━━━━━━━━━\u001B[0m\u001B[37m\u001B[0m \u001B[1m0s\u001B[0m 4ms/step - loss: 0.0017 - mean_squared_error: 0.0017 - r2_score: 0.9712 - val_loss: 0.0036 - val_mean_squared_error: 0.0055 - val_r2_score: 0.9204\n"
     ]
    },
    {
     "data": {
      "text/plain": "<keras.src.callbacks.history.History at 0x335620970>"
     },
     "execution_count": 17,
     "metadata": {},
     "output_type": "execute_result"
    }
   ],
   "source": [
    "# Train model with train dataset\n",
    "model.fit(X_train, y_train, validation_data=(X_val, y_val), epochs=300, callbacks=[cp2])"
   ]
  },
  {
   "cell_type": "code",
   "execution_count": 18,
   "metadata": {
    "ExecuteTime": {
     "end_time": "2025-01-04T20:06:24.491792Z",
     "start_time": "2025-01-04T20:06:24.488467Z"
    }
   },
   "outputs": [
    {
     "data": {
      "text/plain": "(697, 30, 10)"
     },
     "execution_count": 18,
     "metadata": {},
     "output_type": "execute_result"
    }
   ],
   "source": [
    "X_train.shape"
   ]
  },
  {
   "cell_type": "code",
   "execution_count": 19,
   "metadata": {
    "ExecuteTime": {
     "end_time": "2025-01-04T20:06:24.492758Z",
     "start_time": "2025-01-04T20:06:24.491203Z"
    }
   },
   "outputs": [],
   "source": [
    "# train_predictions = model.predict(X_train).flatten()\n",
    "# y_train_flattened = y_train.flatten()\n",
    "# train_results = pd.DataFrame(data={'Train Predictions':train_predictions, 'Actuals':y_train_flattened})\n",
    "# train_results"
   ]
  },
  {
   "cell_type": "code",
   "execution_count": 20,
   "metadata": {
    "ExecuteTime": {
     "end_time": "2025-01-04T20:06:24.497581Z",
     "start_time": "2025-01-04T20:06:24.493122Z"
    }
   },
   "outputs": [],
   "source": [
    "# from tensorflow.keras.models import load_model\n",
    "\n",
    "# model = load_model('model2/best_model.keras')\n"
   ]
  },
  {
   "cell_type": "markdown",
   "metadata": {},
   "source": [
    "#### Train with validation set\n"
   ]
  },
  {
   "cell_type": "code",
   "execution_count": 21,
   "metadata": {
    "ExecuteTime": {
     "end_time": "2025-01-04T20:06:25.242992Z",
     "start_time": "2025-01-04T20:06:24.495610Z"
    }
   },
   "outputs": [
    {
     "name": "stdout",
     "output_type": "stream",
     "text": [
      "Epoch 1/10\n",
      "\u001B[1m10/10\u001B[0m \u001B[32m━━━━━━━━━━━━━━━━━━━━\u001B[0m\u001B[37m\u001B[0m \u001B[1m0s\u001B[0m 9ms/step - loss: 0.0029 - mean_squared_error: 0.0029 - r2_score: 0.9338 - val_loss: 0.0019 - val_mean_squared_error: 0.0019 - val_r2_score: 0.9695\n",
      "Epoch 2/10\n",
      "\u001B[1m10/10\u001B[0m \u001B[32m━━━━━━━━━━━━━━━━━━━━\u001B[0m\u001B[37m\u001B[0m \u001B[1m0s\u001B[0m 7ms/step - loss: 0.0020 - mean_squared_error: 0.0020 - r2_score: 0.9516 - val_loss: 0.0025 - val_mean_squared_error: 0.0025 - val_r2_score: 0.9604\n",
      "Epoch 3/10\n",
      "\u001B[1m10/10\u001B[0m \u001B[32m━━━━━━━━━━━━━━━━━━━━\u001B[0m\u001B[37m\u001B[0m \u001B[1m0s\u001B[0m 7ms/step - loss: 0.0016 - mean_squared_error: 0.0016 - r2_score: 0.9623 - val_loss: 0.0032 - val_mean_squared_error: 0.0032 - val_r2_score: 0.9491\n",
      "Epoch 4/10\n",
      "\u001B[1m10/10\u001B[0m \u001B[32m━━━━━━━━━━━━━━━━━━━━\u001B[0m\u001B[37m\u001B[0m \u001B[1m0s\u001B[0m 7ms/step - loss: 0.0015 - mean_squared_error: 0.0015 - r2_score: 0.9664 - val_loss: 0.0036 - val_mean_squared_error: 0.0036 - val_r2_score: 0.9425\n",
      "Epoch 5/10\n",
      "\u001B[1m10/10\u001B[0m \u001B[32m━━━━━━━━━━━━━━━━━━━━\u001B[0m\u001B[37m\u001B[0m \u001B[1m0s\u001B[0m 7ms/step - loss: 0.0015 - mean_squared_error: 0.0015 - r2_score: 0.9664 - val_loss: 0.0038 - val_mean_squared_error: 0.0037 - val_r2_score: 0.9406\n",
      "Epoch 6/10\n",
      "\u001B[1m10/10\u001B[0m \u001B[32m━━━━━━━━━━━━━━━━━━━━\u001B[0m\u001B[37m\u001B[0m \u001B[1m0s\u001B[0m 6ms/step - loss: 0.0012 - mean_squared_error: 0.0012 - r2_score: 0.9721 - val_loss: 0.0040 - val_mean_squared_error: 0.0039 - val_r2_score: 0.9376\n",
      "Epoch 7/10\n",
      "\u001B[1m10/10\u001B[0m \u001B[32m━━━━━━━━━━━━━━━━━━━━\u001B[0m\u001B[37m\u001B[0m \u001B[1m0s\u001B[0m 7ms/step - loss: 0.0012 - mean_squared_error: 0.0012 - r2_score: 0.9695 - val_loss: 0.0040 - val_mean_squared_error: 0.0040 - val_r2_score: 0.9367\n",
      "Epoch 8/10\n",
      "\u001B[1m10/10\u001B[0m \u001B[32m━━━━━━━━━━━━━━━━━━━━\u001B[0m\u001B[37m\u001B[0m \u001B[1m0s\u001B[0m 7ms/step - loss: 0.0011 - mean_squared_error: 0.0011 - r2_score: 0.9759 - val_loss: 0.0042 - val_mean_squared_error: 0.0041 - val_r2_score: 0.9345\n",
      "Epoch 9/10\n",
      "\u001B[1m10/10\u001B[0m \u001B[32m━━━━━━━━━━━━━━━━━━━━\u001B[0m\u001B[37m\u001B[0m \u001B[1m0s\u001B[0m 6ms/step - loss: 0.0012 - mean_squared_error: 0.0012 - r2_score: 0.9756 - val_loss: 0.0042 - val_mean_squared_error: 0.0042 - val_r2_score: 0.9337\n",
      "Epoch 10/10\n",
      "\u001B[1m10/10\u001B[0m \u001B[32m━━━━━━━━━━━━━━━━━━━━\u001B[0m\u001B[37m\u001B[0m \u001B[1m0s\u001B[0m 6ms/step - loss: 0.0012 - mean_squared_error: 0.0012 - r2_score: 0.9729 - val_loss: 0.0044 - val_mean_squared_error: 0.0043 - val_r2_score: 0.9315\n"
     ]
    },
    {
     "data": {
      "text/plain": "<keras.src.callbacks.history.History at 0x3355c76d0>"
     },
     "execution_count": 21,
     "metadata": {},
     "output_type": "execute_result"
    }
   ],
   "source": [
    "model.fit(X_val, y_val, validation_data=(X_train, y_train), epochs=10, callbacks=[cp2])"
   ]
  },
  {
   "cell_type": "markdown",
   "metadata": {},
   "source": [
    "### Evaluate Model"
   ]
  },
  {
   "cell_type": "code",
   "execution_count": 22,
   "metadata": {
    "ExecuteTime": {
     "end_time": "2025-01-04T20:06:25.244698Z",
     "start_time": "2025-01-04T20:06:25.242559Z"
    }
   },
   "outputs": [],
   "source": [
    "def evaluation_metrics(y_predictions, y_actuals):\n",
    "    y_predictions_flattened = y_predictions.flatten()\n",
    "    y_actuals_flattened = y_actuals.flatten()\n",
    "\n",
    "    mse = mean_squared_error(y_actuals_flattened, y_predictions_flattened)\n",
    "    rmse = np.sqrt(mse)\n",
    "    r_squared = r2_score(y_actuals_flattened, y_predictions_flattened)\n",
    "\n",
    "    res_dict = { \n",
    "            \"mse\": str(mse),\n",
    "            \"r_squared\": str(r_squared),\n",
    "        }\n",
    "    \n",
    "    return res_dict"
   ]
  },
  {
   "cell_type": "code",
   "execution_count": 23,
   "metadata": {
    "ExecuteTime": {
     "end_time": "2025-01-04T20:06:25.415349Z",
     "start_time": "2025-01-04T20:06:25.246039Z"
    }
   },
   "outputs": [
    {
     "name": "stdout",
     "output_type": "stream",
     "text": [
      "\u001B[1m10/10\u001B[0m \u001B[32m━━━━━━━━━━━━━━━━━━━━\u001B[0m\u001B[37m\u001B[0m \u001B[1m0s\u001B[0m 7ms/step\n",
      "\u001B[1m8/8\u001B[0m \u001B[32m━━━━━━━━━━━━━━━━━━━━\u001B[0m\u001B[37m\u001B[0m \u001B[1m0s\u001B[0m 2ms/step\n",
      "**********************\n",
      "Val Mean Squared Error (MSE): 0.0010855491851330921\n",
      "R-squared on validation set: 0.9758371651924611\n",
      "**********************\n",
      "Test Mean Squared Error (MSE): 0.007142249636907263\n",
      "R-squared on test set: 0.5681838328695137\n",
      "**********************\n",
      "Val Mean Squared Error (MSE) unormalized: 67.32676191751727\n",
      "R-squared on validation set unormalized: 0.9758371648287508\n",
      "**********************\n",
      "Test MSE unormalized: 442.96896073855874\n",
      "R-squared on test set unormalized: 0.5681837783181352\n"
     ]
    }
   ],
   "source": [
    "val_predictions = model.predict(X_val)\n",
    "test_predictions = model.predict(X_test)\n",
    "\n",
    "# Metrics calculated on normalized data\n",
    "res_dict_val = evaluation_metrics(val_predictions, y_val)\n",
    "\n",
    "print(\"**********************\")\n",
    "print(f\"Val Mean Squared Error (MSE): {res_dict_val['mse']}\")\n",
    "print(F\"R-squared on validation set: {res_dict_val['r_squared']}\")\n",
    "\n",
    "res_dict_test = evaluation_metrics(test_predictions, y_test)\n",
    "\n",
    "print(\"**********************\")\n",
    "print(f\"Test Mean Squared Error (MSE): {res_dict_test['mse']}\")\n",
    "print(F\"R-squared on test set: {res_dict_test['r_squared']}\")\n",
    "\n",
    "\n",
    "# Metrics calculated on unnormalized data\n",
    "\n",
    "y_val_unscaled = scaler_labels.inverse_transform(y_val)\n",
    "val_predictions_unscaled =  scaler_labels.inverse_transform(val_predictions)\n",
    "res_dict_val_unscaled = evaluation_metrics(val_predictions_unscaled, y_val_unscaled)\n",
    "print(\"**********************\")\n",
    "print(f\"Val Mean Squared Error (MSE) unormalized: {res_dict_val_unscaled['mse']}\")\n",
    "print(F\"R-squared on validation set unormalized: {res_dict_val_unscaled['r_squared']}\")\n",
    "\n",
    "y_test_unscaled = scaler_labels.inverse_transform(y_test)\n",
    "test_predictions_unscaled =  scaler_labels.inverse_transform(test_predictions)\n",
    "res_dict_test_unscaled = evaluation_metrics(test_predictions_unscaled, y_test_unscaled)\n",
    "print(\"**********************\")\n",
    "print(f\"Test MSE unormalized: {res_dict_test_unscaled['mse']}\")\n",
    "print(F\"R-squared on test set unormalized: {res_dict_test_unscaled['r_squared']}\")\n",
    "\n",
    "\n"
   ]
  },
  {
   "cell_type": "code",
   "execution_count": 24,
   "metadata": {
    "ExecuteTime": {
     "end_time": "2025-01-04T20:06:25.422832Z",
     "start_time": "2025-01-04T20:06:25.417259Z"
    }
   },
   "outputs": [],
   "source": [
    "def plot_predictions(y_predicted_sample, y_actual_sample, num_predictions):\n",
    "  df = pd.DataFrame(data={'Predictions': y_predicted_sample, 'Actuals':y_actual_sample})\n",
    "  plt.plot(df['Predictions'][0:num_predictions], label='Predictions')\n",
    "  plt.plot(df['Actuals'][0:num_predictions], label='Actuals')\n",
    "  plt.legend()\n",
    "\n",
    "  plt.show()\n",
    "\n",
    "  return \n",
    "\n",
    "def predictions_table(y_predicted, y_actual, num_predictions):\n",
    "  combined_array = np.column_stack((y_predicted, y_actual))\n",
    "  \n",
    "  results_price = pd.DataFrame(combined_array[:num_predictions], columns=['y_predicted_price','y_actual_price'])\n",
    "  display(results_price)\n",
    "\n"
   ]
  },
  {
   "cell_type": "markdown",
   "metadata": {},
   "source": [
    "### Plot some predictions vs actuals"
   ]
  },
  {
   "cell_type": "code",
   "execution_count": 25,
   "metadata": {
    "ExecuteTime": {
     "end_time": "2025-01-04T20:06:25.589499Z",
     "start_time": "2025-01-04T20:06:25.420171Z"
    }
   },
   "outputs": [
    {
     "data": {
      "text/plain": "<Figure size 640x480 with 1 Axes>",
      "image/png": "[encoded data removed]"
     },
     "metadata": {},
     "output_type": "display_data"
    },
    {
     "data": {
      "text/plain": "   y_predicted_price  y_actual_price\n0         184.140167          180.73\n1         184.538544          172.35\n2         189.395370          173.39\n3         188.731277          172.56\n4         189.282593          153.30\n5         191.127899          138.50\n6         189.996689          151.47\n7         191.869553          138.65\n8         192.997131          136.31\n9         192.712891          132.02",
      "text/html": "<div>\n<style scoped>\n    .dataframe tbody tr th:only-of-type {\n        vertical-align: middle;\n    }\n\n    .dataframe tbody tr th {\n        vertical-align: top;\n    }\n\n    .dataframe thead th {\n        text-align: right;\n    }\n</style>\n<table border=\"1\" class=\"dataframe\">\n  <thead>\n    <tr style=\"text-align: right;\">\n      <th></th>\n      <th>y_predicted_price</th>\n      <th>y_actual_price</th>\n    </tr>\n  </thead>\n  <tbody>\n    <tr>\n      <th>0</th>\n      <td>184.140167</td>\n      <td>180.73</td>\n    </tr>\n    <tr>\n      <th>1</th>\n      <td>184.538544</td>\n      <td>172.35</td>\n    </tr>\n    <tr>\n      <th>2</th>\n      <td>189.395370</td>\n      <td>173.39</td>\n    </tr>\n    <tr>\n      <th>3</th>\n      <td>188.731277</td>\n      <td>172.56</td>\n    </tr>\n    <tr>\n      <th>4</th>\n      <td>189.282593</td>\n      <td>153.30</td>\n    </tr>\n    <tr>\n      <th>5</th>\n      <td>191.127899</td>\n      <td>138.50</td>\n    </tr>\n    <tr>\n      <th>6</th>\n      <td>189.996689</td>\n      <td>151.47</td>\n    </tr>\n    <tr>\n      <th>7</th>\n      <td>191.869553</td>\n      <td>138.65</td>\n    </tr>\n    <tr>\n      <th>8</th>\n      <td>192.997131</td>\n      <td>136.31</td>\n    </tr>\n    <tr>\n      <th>9</th>\n      <td>192.712891</td>\n      <td>132.02</td>\n    </tr>\n  </tbody>\n</table>\n</div>"
     },
     "metadata": {},
     "output_type": "display_data"
    },
    {
     "data": {
      "text/plain": "<Figure size 640x480 with 1 Axes>",
      "image/png": "[encoded data removed]"
     },
     "metadata": {},
     "output_type": "display_data"
    },
    {
     "data": {
      "text/plain": "   y_predicted_price  y_actual_price\n0         160.258591          132.02\n1         154.114792          142.06\n2         161.065659          142.48\n3         171.161377          151.20\n4         163.028290          148.72\n5         180.016968          157.03\n6         173.419250          154.67\n7         179.137283          147.71\n8         183.608093          144.85\n9         177.274506          139.06",
      "text/html": "<div>\n<style scoped>\n    .dataframe tbody tr th:only-of-type {\n        vertical-align: middle;\n    }\n\n    .dataframe tbody tr th {\n        vertical-align: top;\n    }\n\n    .dataframe thead th {\n        text-align: right;\n    }\n</style>\n<table border=\"1\" class=\"dataframe\">\n  <thead>\n    <tr style=\"text-align: right;\">\n      <th></th>\n      <th>y_predicted_price</th>\n      <th>y_actual_price</th>\n    </tr>\n  </thead>\n  <tbody>\n    <tr>\n      <th>0</th>\n      <td>160.258591</td>\n      <td>132.02</td>\n    </tr>\n    <tr>\n      <th>1</th>\n      <td>154.114792</td>\n      <td>142.06</td>\n    </tr>\n    <tr>\n      <th>2</th>\n      <td>161.065659</td>\n      <td>142.48</td>\n    </tr>\n    <tr>\n      <th>3</th>\n      <td>171.161377</td>\n      <td>151.20</td>\n    </tr>\n    <tr>\n      <th>4</th>\n      <td>163.028290</td>\n      <td>148.72</td>\n    </tr>\n    <tr>\n      <th>5</th>\n      <td>180.016968</td>\n      <td>157.03</td>\n    </tr>\n    <tr>\n      <th>6</th>\n      <td>173.419250</td>\n      <td>154.67</td>\n    </tr>\n    <tr>\n      <th>7</th>\n      <td>179.137283</td>\n      <td>147.71</td>\n    </tr>\n    <tr>\n      <th>8</th>\n      <td>183.608093</td>\n      <td>144.85</td>\n    </tr>\n    <tr>\n      <th>9</th>\n      <td>177.274506</td>\n      <td>139.06</td>\n    </tr>\n  </tbody>\n</table>\n</div>"
     },
     "metadata": {},
     "output_type": "display_data"
    }
   ],
   "source": [
    "test_predictions_unscaled = scaler_labels.inverse_transform(test_predictions)\n",
    "y_test_unscaled = scaler_labels.inverse_transform(y_test)\n",
    "for i in [1, 10]:  \n",
    "    plot_predictions(test_predictions_unscaled[i], y_test_unscaled[i], num_predictions)\n",
    "    predictions_table(test_predictions_unscaled[i], y_test_unscaled[i], num_predictions)"
   ]
  },
  {
   "cell_type": "markdown",
   "metadata": {},
   "source": [
    "### Train model also on test set before deploying"
   ]
  },
  {
   "cell_type": "code",
   "execution_count": 26,
   "metadata": {
    "ExecuteTime": {
     "end_time": "2025-01-04T20:06:26.307788Z",
     "start_time": "2025-01-04T20:06:25.546436Z"
    }
   },
   "outputs": [
    {
     "name": "stdout",
     "output_type": "stream",
     "text": [
      "Epoch 1/10\n",
      "\u001B[1m8/8\u001B[0m \u001B[32m━━━━━━━━━━━━━━━━━━━━\u001B[0m\u001B[37m\u001B[0m \u001B[1m0s\u001B[0m 11ms/step - loss: 0.0068 - mean_squared_error: 0.0068 - r2_score: 0.5844 - val_loss: 0.0052 - val_mean_squared_error: 0.0052 - val_r2_score: 0.9177\n",
      "Epoch 2/10\n",
      "\u001B[1m8/8\u001B[0m \u001B[32m━━━━━━━━━━━━━━━━━━━━\u001B[0m\u001B[37m\u001B[0m \u001B[1m0s\u001B[0m 13ms/step - loss: 0.0066 - mean_squared_error: 0.0066 - r2_score: 0.6312 - val_loss: 0.0057 - val_mean_squared_error: 0.0056 - val_r2_score: 0.9105\n",
      "Epoch 3/10\n",
      "\u001B[1m8/8\u001B[0m \u001B[32m━━━━━━━━━━━━━━━━━━━━\u001B[0m\u001B[37m\u001B[0m \u001B[1m0s\u001B[0m 8ms/step - loss: 0.0063 - mean_squared_error: 0.0063 - r2_score: 0.6307 - val_loss: 0.0060 - val_mean_squared_error: 0.0059 - val_r2_score: 0.9056\n",
      "Epoch 4/10\n",
      "\u001B[1m8/8\u001B[0m \u001B[32m━━━━━━━━━━━━━━━━━━━━\u001B[0m\u001B[37m\u001B[0m \u001B[1m0s\u001B[0m 8ms/step - loss: 0.0063 - mean_squared_error: 0.0063 - r2_score: 0.6130 - val_loss: 0.0059 - val_mean_squared_error: 0.0059 - val_r2_score: 0.9064\n",
      "Epoch 5/10\n",
      "\u001B[1m8/8\u001B[0m \u001B[32m━━━━━━━━━━━━━━━━━━━━\u001B[0m\u001B[37m\u001B[0m \u001B[1m0s\u001B[0m 7ms/step - loss: 0.0059 - mean_squared_error: 0.0059 - r2_score: 0.6344 - val_loss: 0.0062 - val_mean_squared_error: 0.0061 - val_r2_score: 0.9029\n",
      "Epoch 6/10\n",
      "\u001B[1m8/8\u001B[0m \u001B[32m━━━━━━━━━━━━━━━━━━━━\u001B[0m\u001B[37m\u001B[0m \u001B[1m0s\u001B[0m 8ms/step - loss: 0.0056 - mean_squared_error: 0.0056 - r2_score: 0.6561 - val_loss: 0.0065 - val_mean_squared_error: 0.0064 - val_r2_score: 0.8981\n",
      "Epoch 7/10\n",
      "\u001B[1m8/8\u001B[0m \u001B[32m━━━━━━━━━━━━━━━━━━━━\u001B[0m\u001B[37m\u001B[0m \u001B[1m0s\u001B[0m 8ms/step - loss: 0.0052 - mean_squared_error: 0.0052 - r2_score: 0.7205 - val_loss: 0.0067 - val_mean_squared_error: 0.0066 - val_r2_score: 0.8944\n",
      "Epoch 8/10\n",
      "\u001B[1m8/8\u001B[0m \u001B[32m━━━━━━━━━━━━━━━━━━━━\u001B[0m\u001B[37m\u001B[0m \u001B[1m0s\u001B[0m 8ms/step - loss: 0.0056 - mean_squared_error: 0.0056 - r2_score: 0.6365 - val_loss: 0.0068 - val_mean_squared_error: 0.0067 - val_r2_score: 0.8935\n",
      "Epoch 9/10\n",
      "\u001B[1m8/8\u001B[0m \u001B[32m━━━━━━━━━━━━━━━━━━━━\u001B[0m\u001B[37m\u001B[0m \u001B[1m0s\u001B[0m 8ms/step - loss: 0.0049 - mean_squared_error: 0.0049 - r2_score: 0.7093 - val_loss: 0.0068 - val_mean_squared_error: 0.0068 - val_r2_score: 0.8923\n",
      "Epoch 10/10\n",
      "\u001B[1m8/8\u001B[0m \u001B[32m━━━━━━━━━━━━━━━━━━━━\u001B[0m\u001B[37m\u001B[0m \u001B[1m0s\u001B[0m 8ms/step - loss: 0.0049 - mean_squared_error: 0.0049 - r2_score: 0.7308 - val_loss: 0.0065 - val_mean_squared_error: 0.0064 - val_r2_score: 0.8976\n"
     ]
    },
    {
     "data": {
      "text/plain": "<keras.src.callbacks.history.History at 0x33aa9ed30>"
     },
     "execution_count": 26,
     "metadata": {},
     "output_type": "execute_result"
    }
   ],
   "source": [
    "model.fit(X_test, y_test, validation_data=(X_train, y_train), epochs=10, callbacks=[cp2])"
   ]
  },
  {
   "cell_type": "markdown",
   "metadata": {},
   "source": [
    "## Save model on registry"
   ]
  },
  {
   "cell_type": "code",
   "execution_count": 27,
   "metadata": {
    "ExecuteTime": {
     "end_time": "2025-01-04T20:06:26.307937Z",
     "start_time": "2025-01-04T20:06:26.305304Z"
    }
   },
   "outputs": [],
   "source": [
    "from hsml.schema import Schema\n",
    "from hsml.model_schema import ModelSchema"
   ]
  },
  {
   "cell_type": "code",
   "execution_count": 28,
   "metadata": {
    "ExecuteTime": {
     "end_time": "2025-01-04T20:06:26.312791Z",
     "start_time": "2025-01-04T20:06:26.308431Z"
    }
   },
   "outputs": [],
   "source": [
    "model_dir = \"solana_price_model_10d/\"\n",
    "scalers_dir = \"solana_price_10d_scalers/\"\n",
    "if not os.path.exists(model_dir):\n",
    "    os.mkdir(model_dir)\n",
    "images_dir = model_dir + \"/images\"\n",
    "if not os.path.exists(images_dir):\n",
    "    os.mkdir(images_dir)\n",
    "if not os.path.exists(scalers_dir):\n",
    "    os.mkdir(scalers_dir)"
   ]
  },
  {
   "cell_type": "code",
   "execution_count": 29,
   "metadata": {
    "ExecuteTime": {
     "end_time": "2025-01-04T20:06:27.708557Z",
     "start_time": "2025-01-04T20:06:26.310068Z"
    }
   },
   "outputs": [
    {
     "ename": "ModelRegistryException",
     "evalue": "Model with name solana_price_daily_model_10d and version 4 already exists",
     "output_type": "error",
     "traceback": [
      "\u001B[0;31m---------------------------------------------------------------------------\u001B[0m",
      "\u001B[0;31mModelRegistryException\u001B[0m                    Traceback (most recent call last)",
      "Cell \u001B[0;32mIn[29], line 31\u001B[0m\n\u001B[1;32m     29\u001B[0m joblib\u001B[38;5;241m.\u001B[39mdump(scaler_features, \u001B[38;5;124m'\u001B[39m\u001B[38;5;124mscaler_features.pkl\u001B[39m\u001B[38;5;124m'\u001B[39m)\n\u001B[1;32m     30\u001B[0m joblib\u001B[38;5;241m.\u001B[39mdump(scaler_labels, \u001B[38;5;124m'\u001B[39m\u001B[38;5;124mscaler_labels.pkl\u001B[39m\u001B[38;5;124m'\u001B[39m)\n\u001B[0;32m---> 31\u001B[0m \u001B[43msolana_model\u001B[49m\u001B[38;5;241;43m.\u001B[39;49m\u001B[43msave\u001B[49m\u001B[43m(\u001B[49m\u001B[43mmodel_dir\u001B[49m\u001B[43m)\u001B[49m\n",
      "File \u001B[0;32m~/Desktop/MSc-courses/2024-2025_P2/Saclable Machine Learning and Deep Learning (ID2223)/Assignments/final project/Scalable Final Project/ID2223-final-project/venv/lib/python3.9/site-packages/hopsworks_common/usage.py:246\u001B[0m, in \u001B[0;36mmethod_logger.<locals>.wrapper\u001B[0;34m(*args, **kwargs)\u001B[0m\n\u001B[1;32m    244\u001B[0m \u001B[38;5;28;01mexcept\u001B[39;00m \u001B[38;5;167;01mException\u001B[39;00m \u001B[38;5;28;01mas\u001B[39;00m e:\n\u001B[1;32m    245\u001B[0m     exception \u001B[38;5;241m=\u001B[39m e\n\u001B[0;32m--> 246\u001B[0m     \u001B[38;5;28;01mraise\u001B[39;00m e\n\u001B[1;32m    247\u001B[0m \u001B[38;5;28;01mfinally\u001B[39;00m:\n\u001B[1;32m    248\u001B[0m     \u001B[38;5;28;01mtry\u001B[39;00m:\n",
      "File \u001B[0;32m~/Desktop/MSc-courses/2024-2025_P2/Saclable Machine Learning and Deep Learning (ID2223)/Assignments/final project/Scalable Final Project/ID2223-final-project/venv/lib/python3.9/site-packages/hopsworks_common/usage.py:242\u001B[0m, in \u001B[0;36mmethod_logger.<locals>.wrapper\u001B[0;34m(*args, **kwargs)\u001B[0m\n\u001B[1;32m    239\u001B[0m exception \u001B[38;5;241m=\u001B[39m \u001B[38;5;28;01mNone\u001B[39;00m\n\u001B[1;32m    240\u001B[0m \u001B[38;5;28;01mtry\u001B[39;00m:\n\u001B[1;32m    241\u001B[0m     \u001B[38;5;66;03m# Call the original method\u001B[39;00m\n\u001B[0;32m--> 242\u001B[0m     result \u001B[38;5;241m=\u001B[39m \u001B[43mfunc\u001B[49m\u001B[43m(\u001B[49m\u001B[38;5;241;43m*\u001B[39;49m\u001B[43margs\u001B[49m\u001B[43m,\u001B[49m\u001B[43m \u001B[49m\u001B[38;5;241;43m*\u001B[39;49m\u001B[38;5;241;43m*\u001B[39;49m\u001B[43mkwargs\u001B[49m\u001B[43m)\u001B[49m\n\u001B[1;32m    243\u001B[0m     \u001B[38;5;28;01mreturn\u001B[39;00m result\n\u001B[1;32m    244\u001B[0m \u001B[38;5;28;01mexcept\u001B[39;00m \u001B[38;5;167;01mException\u001B[39;00m \u001B[38;5;28;01mas\u001B[39;00m e:\n",
      "File \u001B[0;32m~/Desktop/MSc-courses/2024-2025_P2/Saclable Machine Learning and Deep Learning (ID2223)/Assignments/final project/Scalable Final Project/ID2223-final-project/venv/lib/python3.9/site-packages/hsml/model.py:134\u001B[0m, in \u001B[0;36mModel.save\u001B[0;34m(self, model_path, await_registration, keep_original_files, upload_configuration)\u001B[0m\n\u001B[1;32m    110\u001B[0m \u001B[38;5;129m@usage\u001B[39m\u001B[38;5;241m.\u001B[39mmethod_logger\n\u001B[1;32m    111\u001B[0m \u001B[38;5;28;01mdef\u001B[39;00m \u001B[38;5;21msave\u001B[39m(\n\u001B[1;32m    112\u001B[0m     \u001B[38;5;28mself\u001B[39m,\n\u001B[0;32m   (...)\u001B[0m\n\u001B[1;32m    116\u001B[0m     upload_configuration: Optional[Dict[\u001B[38;5;28mstr\u001B[39m, Any]] \u001B[38;5;241m=\u001B[39m \u001B[38;5;28;01mNone\u001B[39;00m,\n\u001B[1;32m    117\u001B[0m ):\n\u001B[1;32m    118\u001B[0m \u001B[38;5;250m    \u001B[39m\u001B[38;5;124;03m\"\"\"Persist this model including model files and metadata to the model registry.\u001B[39;00m\n\u001B[1;32m    119\u001B[0m \n\u001B[1;32m    120\u001B[0m \u001B[38;5;124;03m    # Arguments\u001B[39;00m\n\u001B[0;32m   (...)\u001B[0m\n\u001B[1;32m    132\u001B[0m \u001B[38;5;124;03m        `Model`: The model metadata object.\u001B[39;00m\n\u001B[1;32m    133\u001B[0m \u001B[38;5;124;03m    \"\"\"\u001B[39;00m\n\u001B[0;32m--> 134\u001B[0m     \u001B[38;5;28;01mreturn\u001B[39;00m \u001B[38;5;28;43mself\u001B[39;49m\u001B[38;5;241;43m.\u001B[39;49m\u001B[43m_model_engine\u001B[49m\u001B[38;5;241;43m.\u001B[39;49m\u001B[43msave\u001B[49m\u001B[43m(\u001B[49m\n\u001B[1;32m    135\u001B[0m \u001B[43m        \u001B[49m\u001B[43mmodel_instance\u001B[49m\u001B[38;5;241;43m=\u001B[39;49m\u001B[38;5;28;43mself\u001B[39;49m\u001B[43m,\u001B[49m\n\u001B[1;32m    136\u001B[0m \u001B[43m        \u001B[49m\u001B[43mmodel_path\u001B[49m\u001B[38;5;241;43m=\u001B[39;49m\u001B[43mmodel_path\u001B[49m\u001B[43m,\u001B[49m\n\u001B[1;32m    137\u001B[0m \u001B[43m        \u001B[49m\u001B[43mawait_registration\u001B[49m\u001B[38;5;241;43m=\u001B[39;49m\u001B[43mawait_registration\u001B[49m\u001B[43m,\u001B[49m\n\u001B[1;32m    138\u001B[0m \u001B[43m        \u001B[49m\u001B[43mkeep_original_files\u001B[49m\u001B[38;5;241;43m=\u001B[39;49m\u001B[43mkeep_original_files\u001B[49m\u001B[43m,\u001B[49m\n\u001B[1;32m    139\u001B[0m \u001B[43m        \u001B[49m\u001B[43mupload_configuration\u001B[49m\u001B[38;5;241;43m=\u001B[39;49m\u001B[43mupload_configuration\u001B[49m\u001B[43m,\u001B[49m\n\u001B[1;32m    140\u001B[0m \u001B[43m    \u001B[49m\u001B[43m)\u001B[49m\n",
      "File \u001B[0;32m~/Desktop/MSc-courses/2024-2025_P2/Saclable Machine Learning and Deep Learning (ID2223)/Assignments/final project/Scalable Final Project/ID2223-final-project/venv/lib/python3.9/site-packages/hsml/engine/model_engine.py:341\u001B[0m, in \u001B[0;36mModelEngine.save\u001B[0;34m(self, model_instance, model_path, await_registration, keep_original_files, upload_configuration)\u001B[0m\n\u001B[1;32m    338\u001B[0m \u001B[38;5;28;01mif\u001B[39;00m \u001B[38;5;129;01mnot\u001B[39;00m \u001B[38;5;28mself\u001B[39m\u001B[38;5;241m.\u001B[39m_dataset_api\u001B[38;5;241m.\u001B[39mpath_exists(dataset_model_name_path):\n\u001B[1;32m    339\u001B[0m     \u001B[38;5;28mself\u001B[39m\u001B[38;5;241m.\u001B[39m_engine\u001B[38;5;241m.\u001B[39mmkdir(dataset_model_name_path)\n\u001B[0;32m--> 341\u001B[0m model_instance \u001B[38;5;241m=\u001B[39m \u001B[38;5;28;43mself\u001B[39;49m\u001B[38;5;241;43m.\u001B[39;49m\u001B[43m_set_model_version\u001B[49m\u001B[43m(\u001B[49m\n\u001B[1;32m    342\u001B[0m \u001B[43m    \u001B[49m\u001B[43mmodel_instance\u001B[49m\u001B[43m,\u001B[49m\u001B[43m \u001B[49m\u001B[43mdataset_models_root_path\u001B[49m\u001B[43m,\u001B[49m\u001B[43m \u001B[49m\u001B[43mdataset_model_name_path\u001B[49m\n\u001B[1;32m    343\u001B[0m \u001B[43m\u001B[49m\u001B[43m)\u001B[49m\n\u001B[1;32m    345\u001B[0m \u001B[38;5;66;03m# Attach model summary xattr to /Models/{model_instance._name}/{model_instance._version}\u001B[39;00m\n\u001B[1;32m    346\u001B[0m model_query_params \u001B[38;5;241m=\u001B[39m {}\n",
      "File \u001B[0;32m~/Desktop/MSc-courses/2024-2025_P2/Saclable Machine Learning and Deep Learning (ID2223)/Assignments/final project/Scalable Final Project/ID2223-final-project/venv/lib/python3.9/site-packages/hsml/engine/model_engine.py:294\u001B[0m, in \u001B[0;36mModelEngine._set_model_version\u001B[0;34m(self, model_instance, dataset_models_root_path, dataset_model_path)\u001B[0m\n\u001B[1;32m    285\u001B[0m     model_instance\u001B[38;5;241m.\u001B[39m_version \u001B[38;5;241m=\u001B[39m current_highest_version \u001B[38;5;241m+\u001B[39m \u001B[38;5;241m1\u001B[39m\n\u001B[1;32m    287\u001B[0m \u001B[38;5;28;01melif\u001B[39;00m \u001B[38;5;28mself\u001B[39m\u001B[38;5;241m.\u001B[39m_dataset_api\u001B[38;5;241m.\u001B[39mpath_exists(\n\u001B[1;32m    288\u001B[0m     dataset_models_root_path\n\u001B[1;32m    289\u001B[0m     \u001B[38;5;241m+\u001B[39m \u001B[38;5;124m\"\u001B[39m\u001B[38;5;124m/\u001B[39m\u001B[38;5;124m\"\u001B[39m\n\u001B[0;32m   (...)\u001B[0m\n\u001B[1;32m    292\u001B[0m     \u001B[38;5;241m+\u001B[39m \u001B[38;5;28mstr\u001B[39m(model_instance\u001B[38;5;241m.\u001B[39m_version)\n\u001B[1;32m    293\u001B[0m ):\n\u001B[0;32m--> 294\u001B[0m     \u001B[38;5;28;01mraise\u001B[39;00m ModelRegistryException(\n\u001B[1;32m    295\u001B[0m         \u001B[38;5;124m\"\u001B[39m\u001B[38;5;124mModel with name \u001B[39m\u001B[38;5;132;01m{}\u001B[39;00m\u001B[38;5;124m and version \u001B[39m\u001B[38;5;132;01m{}\u001B[39;00m\u001B[38;5;124m already exists\u001B[39m\u001B[38;5;124m\"\u001B[39m\u001B[38;5;241m.\u001B[39mformat(\n\u001B[1;32m    296\u001B[0m             model_instance\u001B[38;5;241m.\u001B[39m_name, model_instance\u001B[38;5;241m.\u001B[39m_version\n\u001B[1;32m    297\u001B[0m         )\n\u001B[1;32m    298\u001B[0m     )\n\u001B[1;32m    299\u001B[0m \u001B[38;5;28;01mreturn\u001B[39;00m model_instance\n",
      "\u001B[0;31mModelRegistryException\u001B[0m: Model with name solana_price_daily_model_10d and version 4 already exists"
     ]
    }
   ],
   "source": [
    "mr = project.get_model_registry()\n",
    "\n",
    "\n",
    "# Creating input and output schemas using the 'Schema' class for features (X) and target variable (y)\n",
    "input_schema = Schema(X_train)\n",
    "output_schema = Schema(y_train)\n",
    "\n",
    "# Creating a model schema using 'ModelSchema' with the input and output schemas\n",
    "model_schema = ModelSchema(input_schema=input_schema, output_schema=output_schema)\n",
    "\n",
    "# Converting the model schema to a dictionary representation\n",
    "schema_dict = model_schema.to_dict()\n",
    "\n",
    "\n",
    "sample_indices = np.random.choice(X_test.shape[0], size=17, replace=False)\n",
    "sample_test_values = X_test[sample_indices]\n",
    "\n",
    "\n",
    "solana_model = mr.python.create_model(\n",
    "    name=\"solana_price_daily_model_10d\", \n",
    "    metrics= res_dict_test,\n",
    "    model_schema=model_schema,\n",
    "    input_example=sample_test_values, \n",
    "    version=4,\n",
    "    description=\"Solana daily price predictor. Predicts 10 days using solana lagged 30 timesteps, bitcoin lagged price (10) and fear greed index\",\n",
    ")\n",
    "if not test_mode:\n",
    "    model.save(model_dir + \"best_model.keras\")\n",
    "    joblib.dump(scaler_features, 'scaler_features.pkl')\n",
    "    joblib.dump(scaler_labels, 'scaler_labels.pkl')\n",
    "    solana_model.save(model_dir)"
   ]
  },
  {
   "cell_type": "code",
   "execution_count": null,
   "metadata": {
    "ExecuteTime": {
     "start_time": "2025-01-04T20:06:27.710580Z"
    }
   },
   "outputs": [],
   "source": [
    "\n",
    "# min_max_scaler = fs.create_transformation_function(\n",
    "#         transformation_function=\"min_max_scaler\",\n",
    "#         description=\"Scales features to a range between 0 and 1\",\n",
    "#         version=1\n",
    "#     )\n",
    "\n",
    "# min_max_scaler.save()"
   ]
  }
 ],
 "metadata": {
  "kernelspec": {
   "display_name": "crypto-env",
   "language": "python",
   "name": "python3"
  },
  "language_info": {
   "codemirror_mode": {
    "name": "ipython",
    "version": 3
   },
   "file_extension": ".py",
   "mimetype": "text/x-python",
   "name": "python",
   "nbconvert_exporter": "python",
   "pygments_lexer": "ipython3",
   "version": "3.10.16"
  }
 },
 "nbformat": 4,
 "nbformat_minor": 2
}
